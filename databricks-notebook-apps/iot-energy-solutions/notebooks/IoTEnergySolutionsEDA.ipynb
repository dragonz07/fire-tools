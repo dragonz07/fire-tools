{
 "cells": [
  {
   "cell_type": "markdown",
   "metadata": {
    "application/vnd.databricks.v1+cell": {
     "cellMetadata": {},
     "inputWidgets": {},
     "nuid": "0bf9de1b-1660-4ed9-b04a-2ccd52e12e97",
     "showTitle": false,
     "title": ""
    }
   },
   "source": [
    "## IoT Enegry Solution Databricks Notebook App"
   ]
  },
  {
   "cell_type": "code",
   "execution_count": 4,
   "metadata": {
    "application/vnd.databricks.v1+cell": {
     "cellMetadata": {
      "byteLimit": 2048000,
      "rowLimit": 10000
     },
     "inputWidgets": {},
     "nuid": "8bb3c8a9-2358-49f8-876e-0e808adb024a",
     "showTitle": false,
     "title": ""
    }
   },
   "outputs": [],
   "source": [
    "import numpy as np\n",
    "import pandas as pd\n",
    "\n",
    "import warnings\n",
    "\n",
    "import plotly.graph_objs as go\n",
    "import plotly\n",
    "\n",
    "pd.set_option('display.max_columns', None)\n",
    "pd.set_option('display.width', 500)\n",
    "warnings.filterwarnings('ignore')"
   ]
  },
  {
   "cell_type": "code",
   "execution_count": 0,
   "metadata": {
    "application/vnd.databricks.v1+cell": {
     "cellMetadata": {
      "byteLimit": 2048000,
      "rowLimit": 10000
     },
     "inputWidgets": {},
     "nuid": "fead3a16-b58e-460e-988f-67b5ef561a29",
     "showTitle": false,
     "title": ""
    }
   },
   "outputs": [],
   "source": [
    "!pip install pyspark\n",
    "import pyspark\n",
    "from pyspark.sql import SparkSession\n",
    "from pyspark.sql.functions import col\n",
    "\n",
    "!pip install https://sparkflows-release.s3.amazonaws.com/fire/jupyter-docker/firenotebookwheel/#fire_notebook-3.1.0-py3-none-any.whl\n",
    "#!pip install https://sparkflows-cft-2.s3.us-east-1.amazonaws.com/test-sdk2/fire_notebook-3.1.0-py3-none-any.whl\n",
    "from fire_notebook.output.workflowcontext import RestWorkflowContext"
   ]
  },
  {
   "cell_type": "code",
   "execution_count": 0,
   "metadata": {
    "application/vnd.databricks.v1+cell": {
     "cellMetadata": {
      "byteLimit": 2048000,
      "rowLimit": 10000
     },
     "inputWidgets": {},
     "nuid": "6dd46090-1714-4d86-a8dd-62a6d8405246",
     "showTitle": false,
     "title": ""
    }
   },
   "outputs": [],
   "source": [
    "# Widgets used to pass value\n",
    "dbutils.widgets.text(\"job-id\", \"100\")\n",
    "dbutils.widgets.text(\"postback-url\", \"\")\n",
    "dbutils.widgets.text(\"device_id\", \"meter_2\")\n",
    "dbutils.widgets.text(\"histogram_param\", \"voltage\")\n",
    "dbutils.widgets.text(\"linegraph_param\", \"energy_generation\")\n",
    "dbutils.widgets.text(\"boxplot_param\", \"power\")"
   ]
  },
  {
   "cell_type": "code",
   "execution_count": 0,
   "metadata": {
    "application/vnd.databricks.v1+cell": {
     "cellMetadata": {
      "byteLimit": 2048000,
      "rowLimit": 10000
     },
     "inputWidgets": {},
     "nuid": "ffc4ce97-23a2-4d88-a453-9765fc358dab",
     "showTitle": false,
     "title": ""
    }
   },
   "outputs": [],
   "source": [
    "# Retrieve the widget values\n",
    "jobId = dbutils.widgets.get(\"job-id\")\n",
    "webserverURL = dbutils.widgets.get(\"postback-url\")\n",
    "device_id = dbutils.widgets.get(\"device_id\")\n",
    "histogram_param = dbutils.widgets.get(\"histogram_param\")\n",
    "linegraph_param = dbutils.widgets.get(\"linegraph_param\")\n",
    "boxplot_param = dbutils.widgets.get(\"boxplot_param\")"
   ]
  },
  {
   "cell_type": "code",
   "execution_count": 0,
   "metadata": {
    "application/vnd.databricks.v1+cell": {
     "cellMetadata": {
      "byteLimit": 2048000,
      "rowLimit": 10000
     },
     "inputWidgets": {},
     "nuid": "dac0d64f-294e-46e9-aa86-62e01d829f50",
     "showTitle": false,
     "title": ""
    }
   },
   "outputs": [],
   "source": [
    "print(f\"Device ID: {device_id}\")\n",
    "print(f\"Histogram param: {histogram_param}\")\n",
    "print(f\"Linegraph param: {linegraph_param}\")"
   ]
  },
  {
   "cell_type": "code",
   "execution_count": 0,
   "metadata": {
    "application/vnd.databricks.v1+cell": {
     "cellMetadata": {
      "byteLimit": 2048000,
      "rowLimit": 10000
     },
     "inputWidgets": {},
     "nuid": "aaabd9cf-469f-43be-812f-b3d7f0314e5d",
     "showTitle": false,
     "title": ""
    }
   },
   "outputs": [],
   "source": [
    "#Creating an instance \n",
    "restworkflowcontext = RestWorkflowContext(webserverURL, jobId)\n",
    "message=\"50\"\n",
    "restworkflowcontext.outputProgress(id=9, title=\"Progress\", progress=message)"
   ]
  },
  {
   "cell_type": "code",
   "execution_count": 0,
   "metadata": {
    "application/vnd.databricks.v1+cell": {
     "cellMetadata": {
      "byteLimit": 2048000,
      "rowLimit": 10000
     },
     "inputWidgets": {},
     "nuid": "0defb5be-8ff3-4453-88cb-43799776b3d9",
     "showTitle": false,
     "title": ""
    }
   },
   "outputs": [],
   "source": [
    "spark = SparkSession.builder.appName(\"IoTEnergyConsumption\").getOrCreate()"
   ]
  },
  {
   "cell_type": "code",
   "execution_count": 0,
   "metadata": {
    "application/vnd.databricks.v1+cell": {
     "cellMetadata": {
      "byteLimit": 2048000,
      "rowLimit": 10000
     },
     "inputWidgets": {},
     "nuid": "53f88c8b-288d-4ffa-b285-559321d86a4e",
     "showTitle": false,
     "title": ""
    }
   },
   "outputs": [],
   "source": [
    "#/FileStore/tables/IoTEnergySolutionsEDA-2.csv\n",
    "df1 = spark.read.format(\"csv\").option(\"header\", \"true\").load(\"/FileStore/tables/IoTEnergySolutionsEDA-2.csv\")"
   ]
  },
  {
   "cell_type": "code",
   "execution_count": 0,
   "metadata": {
    "application/vnd.databricks.v1+cell": {
     "cellMetadata": {
      "byteLimit": 2048000,
      "rowLimit": 10000
     },
     "inputWidgets": {},
     "nuid": "1dff6434-f1ae-41b8-b807-c0382890109e",
     "showTitle": false,
     "title": ""
    }
   },
   "outputs": [],
   "source": [
    "restworkflowcontext.outDataFrame(id=9, title=\"PySpark Dataframe\", df=df1, num_rows=3)"
   ]
  },
  {
   "cell_type": "markdown",
   "metadata": {
    "application/vnd.databricks.v1+cell": {
     "cellMetadata": {},
     "inputWidgets": {},
     "nuid": "5f36388a-1298-4bd7-b2c1-3411831aa260",
     "showTitle": false,
     "title": ""
    }
   },
   "source": [
    "### Introduction to the IoT Energy Solution Databricks Notebook App"
   ]
  },
  {
   "cell_type": "code",
   "execution_count": 0,
   "metadata": {
    "application/vnd.databricks.v1+cell": {
     "cellMetadata": {
      "byteLimit": 2048000,
      "rowLimit": 10000
     },
     "inputWidgets": {},
     "nuid": "45e608e9-65fd-43d0-abf6-b96e2c32db67",
     "showTitle": false,
     "title": ""
    }
   },
   "outputs": [],
   "source": [
    "# Exploring IOT Energy Data - EDA html page\n",
    "htmlstr1 = '''<div style=\"border-radius: 5px;\">\n",
    "    <div style=\"padding: 0.75rem 1.25rem; margin-bottom: 0; background-color: #0c9a86;\n",
    "    border-bottom: 1px solid rgba(30, 30, 30, 0.125); border-top-right-radius: 5px; border-top-left-radius: 5px;\n",
    "    color: #ffffff; font-family: sans-serif;\">\n",
    "        <h3 style=\"color: #fff; margin: 0;\">Exploring IOT Energy Data</h3>\n",
    "    </div>\n",
    "    <div style=\"margin-top: 20px;\"></div>\n",
    "</div>\n",
    "\n",
    "<div style=\"margin-top: 20px;\">\n",
    "    <h4 style=\"color: #3178d6;\">Overview</h4>\n",
    "    <ul style=\"margin-left: 10px; list-style-type: none; padding: 0;\">\n",
    "        <li style=\"position: relative; margin-bottom: 10px; padding-left: 40px;\">\n",
    "            <span style=\"width: 18px; height: 18px; background-color: #0c9a86; color: #fff; border-radius: 50%; position: absolute; left: 10px; display: flex; align-items: center; justify-content: center; font-size: 20px; font-weight: 600;\">+</span>\n",
    "            Users can analyze IoT data by computing summary statistics to understand metrics like energy generation and consumption across devices. They can visualize these metrics using histograms to explore their distributions and frequencies. Box plots help identify outliers and compare metric distributions across different devices, aiding in anomaly detection and trend analysis.\n",
    "        </li>\n",
    "    </ul>\n",
    "</div>\n",
    "<div style=\"margin-top: 20px;\">\n",
    "    <h4 style=\"color: #3178d6;\">Actions</h4>\n",
    "    <ul style=\"margin-left: 10px; list-style-type: none; padding: 0;\">\n",
    "        <!-- Action 1 -->\n",
    "        <li style=\"position: relative; margin-bottom: 10px; padding-left: 40px;\">\n",
    "            <span style=\"width: 18px; height: 18px; background-color: #0c9a86; color: #fff; border-radius: 50%; position: absolute; left: 10px; display: flex; align-items: center; justify-content: center; font-size: 20px; font-weight: 600;\">+</span>\n",
    "            Select a Device for which Energy Generation and Energy Consumption graph has to be plotted.\n",
    "        </li>\n",
    "        <!-- Action 2 -->\n",
    "        <li style=\"position: relative; margin-bottom: 10px; padding-left: 40px;\">\n",
    "            <span style=\"width: 18px; height: 18px; background-color: #0c9a86; color: #fff; border-radius: 50%; position: absolute; left: 10px; display: flex; align-items: center; justify-content: center; font-size: 20px; font-weight: 600;\">+</span>\n",
    "            Select one or multiple Devices under the Select Device.\n",
    "        </li>\n",
    "        <!-- Action 3 -->\n",
    "        <li style=\"position: relative; margin-bottom: 10px; padding-left: 40px;\">\n",
    "            <span style=\"width: 18px; height: 18px; background-color: #0c9a86; color: #fff; border-radius: 50%; position: absolute; left: 10px; display: flex; align-items: center; justify-content: center; font-size: 20px; font-weight: 600;\">+</span>\n",
    "            Click on 'Explore Data' to perform the analysis.\n",
    "        </li>\n",
    "    </ul>\n",
    "</div>\n",
    "<div style=\"margin-top: 20px;\">\n",
    "    <h4 style=\"color: #3178d6;\">Outputs</h4>\n",
    "    <ul style=\"margin-left: 10px; list-style-type: none; padding: 0;\">\n",
    "        <!-- Output 1 -->\n",
    "        <li style=\"position: relative; margin-bottom: 10px; padding-left: 40px;\">\n",
    "            <span style=\"width: 18px; height: 18px; background-color: #0c9a86; color: #fff; border-radius: 50%; position: absolute; left: 10px; display: flex; align-items: center; justify-content: center; font-size: 20px; font-weight: 600;\">+</span>\n",
    "            Chart illustrating the Box Plot for all the devices.\n",
    "        </li>\n",
    "        <!-- Output 2 -->\n",
    "        <li style=\"position: relative; margin-bottom: 10px; padding-left: 40px;\">\n",
    "            <span style=\"width: 18px; height: 18px; background-color: #0c9a86; color: #fff; border-radius: 50%; position: absolute; left: 10px; display: flex; align-items: center; justify-content: center; font-size: 20px; font-weight: 600;\">+</span>\n",
    "            Chart displaying the Correlation Table and Correlation Matrix.\n",
    "        </li>\n",
    "        <!-- Output 3 -->\n",
    "        <li style=\"position: relative; margin-bottom: 10px; padding-left: 40px;\">\n",
    "            <span style=\"width: 18px; height: 18px; background-color: #0c9a86; color: #fff; border-radius: 50%; position: absolute; left: 10px; display: flex; align-items: center; justify-content: center; font-size: 20px; font-weight: 600;\">+</span>\n",
    "            List of Devices.\n",
    "        </li>\n",
    "        <!-- Output 4 -->\n",
    "        <li style=\"position: relative; margin-bottom: 10px; padding-left: 40px;\">\n",
    "            <span style=\"width: 18px; height: 18px; background-color: #0c9a86; color: #fff; border-radius: 50%; position: absolute; left: 10px; display: flex; align-items: center; justify-content: center; font-size: 20px; font-weight: 600;\">+</span>\n",
    "            Timeseries plot of Energy Consumption and Energy Generation for the selected devices.\n",
    "        </li>\n",
    "    </ul>\n",
    "</div>'''\n",
    "\n",
    "\n",
    "\n",
    "restworkflowcontext.outHTML(title=\"Exploring IOT Energy Data\", text=htmlstr1)"
   ]
  },
  {
   "cell_type": "markdown",
   "metadata": {
    "application/vnd.databricks.v1+cell": {
     "cellMetadata": {
      "byteLimit": 2048000,
      "rowLimit": 10000
     },
     "inputWidgets": {},
     "nuid": "b0e68ba5-17e9-4c10-868f-aea5205af6a9",
     "showTitle": false,
     "title": ""
    }
   },
   "source": [
    "### Line plot for selected metrics filtered by device ID"
   ]
  },
  {
   "cell_type": "code",
   "execution_count": 0,
   "metadata": {
    "application/vnd.databricks.v1+cell": {
     "cellMetadata": {
      "byteLimit": 2048000,
      "rowLimit": 10000
     },
     "inputWidgets": {},
     "nuid": "d54cd32e-6ce7-4b50-b435-f094945d2ec9",
     "showTitle": false,
     "title": ""
    }
   },
   "outputs": [],
   "source": [
    "restworkflowcontext.outStr(9, \"Test String\", text=\"Input the device ID in the device_id parameter\")\n",
    "restworkflowcontext.outStr(9, \"Test String\", text=\"Device IDs: \\n1. meter_1\\n2. meter_2\\n2. inverter_1\\n2. inverter_2\\n2. feeder_1\\n2. feeder_2\")"
   ]
  },
  {
   "cell_type": "code",
   "execution_count": 0,
   "metadata": {
    "application/vnd.databricks.v1+cell": {
     "cellMetadata": {
      "byteLimit": 2048000,
      "rowLimit": 10000
     },
     "inputWidgets": {},
     "nuid": "17239e37-6715-4483-b14b-d66438c17faa",
     "showTitle": false,
     "title": ""
    }
   },
   "outputs": [],
   "source": [
    "restworkflowcontext.outStr(9, \"Test String\", text=\"Input the parameter to plot line graph in the linegraph_param\")\n",
    "restworkflowcontext.outStr(9, \"Test String\", text=\"Options: \\n1. energy_consumption\\n2. energy_genertaion\")"
   ]
  },
  {
   "cell_type": "code",
   "execution_count": 0,
   "metadata": {
    "application/vnd.databricks.v1+cell": {
     "cellMetadata": {
      "byteLimit": 2048000,
      "rowLimit": 10000
     },
     "inputWidgets": {},
     "nuid": "0e6eeae3-5346-49af-9058-54e5c56cd85c",
     "showTitle": false,
     "title": ""
    }
   },
   "outputs": [],
   "source": [
    "device_id = dbutils.widgets.get(\"device_id\")\n",
    "print(f\"Device ID: {device_id}\")\n",
    "linegraph_param = dbutils.widgets.get(\"linegraph_param\")\n",
    "print(f\"Linegraph param: {linegraph_param}\")"
   ]
  },
  {
   "cell_type": "code",
   "execution_count": 0,
   "metadata": {
    "application/vnd.databricks.v1+cell": {
     "cellMetadata": {
      "byteLimit": 2048000,
      "rowLimit": 10000
     },
     "inputWidgets": {},
     "nuid": "707eabae-d4d8-4a21-a0d6-fb8557e09574",
     "showTitle": false,
     "title": ""
    }
   },
   "outputs": [],
   "source": [
    "pandas_df = df1.toPandas()\n",
    "df_filtered_pd = pandas_df[pandas_df['device_id']==device_id]\n",
    "df_filtered_pd.head()"
   ]
  },
  {
   "cell_type": "code",
   "execution_count": 0,
   "metadata": {
    "application/vnd.databricks.v1+cell": {
     "cellMetadata": {
      "byteLimit": 2048000,
      "rowLimit": 10000
     },
     "inputWidgets": {},
     "nuid": "841ad62a-059a-4081-9528-342a42291bc8",
     "showTitle": false,
     "title": ""
    }
   },
   "outputs": [],
   "source": [
    "import plotly.express as px\n",
    "\n",
    "fig = px.line(df_filtered_pd, x='timestamp', y=linegraph_param, title=f\"{linegraph_param} for {device_id}\")\n",
    "test = plotly.offline.plot(fig, output_type='div')\n",
    "energy_consumption = f'{test}'\n",
    "restworkflowcontext.outPlotly(title=f\"Energy consumption for {device_id}\", text=energy_consumption)"
   ]
  },
  {
   "cell_type": "markdown",
   "metadata": {
    "application/vnd.databricks.v1+cell": {
     "cellMetadata": {},
     "inputWidgets": {},
     "nuid": "bbadf06f-897f-4ae0-87b0-b1462c028144",
     "showTitle": false,
     "title": ""
    }
   },
   "source": [
    "### Histogram for the selected column"
   ]
  },
  {
   "cell_type": "code",
   "execution_count": 0,
   "metadata": {
    "application/vnd.databricks.v1+cell": {
     "cellMetadata": {
      "byteLimit": 2048000,
      "rowLimit": 10000
     },
     "inputWidgets": {},
     "nuid": "7fe66865-fb6b-48dd-8a5d-83f7efd1c5ef",
     "showTitle": false,
     "title": ""
    }
   },
   "outputs": [],
   "source": [
    "restworkflowcontext.outStr(9, \"Test String\", text=\"Input the histogram_param to plot the histogram\")\n",
    "restworkflowcontext.outStr(9, \"Test String\", text=\"Options: \\n1. current\\n2. voltage\\n2. power\\n2. frequency\\n2. energy_genertaion\\n2. energy_consumption\")"
   ]
  },
  {
   "cell_type": "code",
   "execution_count": 0,
   "metadata": {
    "application/vnd.databricks.v1+cell": {
     "cellMetadata": {
      "byteLimit": 2048000,
      "rowLimit": 10000
     },
     "inputWidgets": {},
     "nuid": "91e7898f-b2a1-4af9-8335-602011c12dae",
     "showTitle": false,
     "title": ""
    }
   },
   "outputs": [],
   "source": [
    "histogram_param = dbutils.widgets.get(\"histogram_param\")\n",
    "print(f\"Histogram param: {histogram_param}\")"
   ]
  },
  {
   "cell_type": "code",
   "execution_count": 0,
   "metadata": {
    "application/vnd.databricks.v1+cell": {
     "cellMetadata": {
      "byteLimit": 2048000,
      "rowLimit": 10000
     },
     "inputWidgets": {},
     "nuid": "75764b6c-5fb8-4f8d-9163-d7cc07c5a46a",
     "showTitle": false,
     "title": ""
    }
   },
   "outputs": [],
   "source": [
    "# Create histogram\n",
    "fig = px.histogram(df_filtered_pd, x=histogram_param, title=f'Histogram for {histogram_param}')\n",
    "test = plotly.offline.plot(fig, output_type='div')\n",
    "histogram = f'{test}'\n",
    "restworkflowcontext.outPlotly(title=f\"Histogram of {histogram_param}\", text=histogram)"
   ]
  },
  {
   "cell_type": "markdown",
   "metadata": {
    "application/vnd.databricks.v1+cell": {
     "cellMetadata": {},
     "inputWidgets": {},
     "nuid": "758c8ca9-37e5-4ef1-8fa5-7529b987e635",
     "showTitle": false,
     "title": ""
    }
   },
   "source": [
    "### Boxplot for selected column"
   ]
  },
  {
   "cell_type": "code",
   "execution_count": 0,
   "metadata": {
    "application/vnd.databricks.v1+cell": {
     "cellMetadata": {
      "byteLimit": 2048000,
      "rowLimit": 10000
     },
     "inputWidgets": {},
     "nuid": "5c28b261-89b7-4f68-ad22-9e58a1da7e62",
     "showTitle": false,
     "title": ""
    }
   },
   "outputs": [],
   "source": [
    "restworkflowcontext.outStr(9, \"Test String\", text=\"Input the boxplot_param to plot the boxplot\")\n",
    "restworkflowcontext.outStr(9, \"Test String\", text=\"Options: \\n1. current\\n2. voltage\\n2. power\\n2. frequency\\n2. energy_genertaion\\n2. energy_consumption\")"
   ]
  },
  {
   "cell_type": "code",
   "execution_count": 0,
   "metadata": {
    "application/vnd.databricks.v1+cell": {
     "cellMetadata": {
      "byteLimit": 2048000,
      "rowLimit": 10000
     },
     "inputWidgets": {},
     "nuid": "8c663250-096a-48b1-8577-bc9374c88e30",
     "showTitle": false,
     "title": ""
    }
   },
   "outputs": [],
   "source": [
    "boxplot_param = dbutils.widgets.get(\"boxplot_param\")\n",
    "print(f\"Boxplot param: {boxplot_param}\")"
   ]
  },
  {
   "cell_type": "code",
   "execution_count": 0,
   "metadata": {
    "application/vnd.databricks.v1+cell": {
     "cellMetadata": {
      "byteLimit": 2048000,
      "rowLimit": 10000
     },
     "inputWidgets": {},
     "nuid": "6424306f-4c7d-47a5-a565-45a974b0e320",
     "showTitle": false,
     "title": ""
    }
   },
   "outputs": [],
   "source": [
    "# Create box plot\n",
    "fig = px.box(pandas_df, y=boxplot_param, title=f'Box Plot for {boxplot_param}')\n",
    "test = plotly.offline.plot(fig, output_type='div')\n",
    "corr_matrix = f'{test}'\n",
    "restworkflowcontext.outPlotly( title=f\"Boxplot for {boxplot_param}\", text=corr_matrix)"
   ]
  }
 ],
 "metadata": {
  "application/vnd.databricks.v1+notebook": {
   "dashboards": [],
   "environmentMetadata": null,
   "language": "python",
   "notebookMetadata": {
    "pythonIndentUnit": 4
   },
   "notebookName": "sample_sales_databricks_pyspark",
   "widgets": {
    "boxplot_param": {
     "currentValue": "frequency",
     "nuid": "0c067355-e428-41d3-b9b9-4e457af397ef",
     "typedWidgetInfo": null,
     "widgetInfo": {
      "defaultValue": "",
      "label": "",
      "name": "boxplot_param",
      "options": {
       "autoCreated": false,
       "validationRegex": null,
       "widgetType": "text"
      },
      "widgetType": "text"
     }
    },
    "device_id": {
     "currentValue": "feeder_1",
     "nuid": "db227e8c-3b97-415b-8461-b2bdc38be2a2",
     "typedWidgetInfo": null,
     "widgetInfo": {
      "defaultValue": "meter_2",
      "label": null,
      "name": "device_id",
      "options": {
       "autoCreated": null,
       "validationRegex": null,
       "widgetType": "text"
      },
      "widgetType": "text"
     }
    },
    "histogram_param": {
     "currentValue": "power",
     "nuid": "e6bef2ae-fa50-4687-8729-bafbb611fcbe",
     "typedWidgetInfo": null,
     "widgetInfo": {
      "defaultValue": "voltage",
      "label": null,
      "name": "histogram_param",
      "options": {
       "autoCreated": null,
       "validationRegex": null,
       "widgetType": "text"
      },
      "widgetType": "text"
     }
    },
    "job-id": {
     "currentValue": "100",
     "nuid": "ec744b40-8aca-4ae2-83a9-ed895b19bbbe",
     "typedWidgetInfo": null,
     "widgetInfo": {
      "defaultValue": "100",
      "label": null,
      "name": "job-id",
      "options": {
       "autoCreated": null,
       "validationRegex": null,
       "widgetType": "text"
      },
      "widgetType": "text"
     }
    },
    "linegraph_param": {
     "currentValue": "energy_generation",
     "nuid": "f0d9875d-4fbb-4197-91bd-fc96a68c41b7",
     "typedWidgetInfo": null,
     "widgetInfo": {
      "defaultValue": "energy_generation",
      "label": null,
      "name": "linegraph_param",
      "options": {
       "autoCreated": null,
       "validationRegex": null,
       "widgetType": "text"
      },
      "widgetType": "text"
     }
    },
    "postback-url": {
     "currentValue": "",
     "nuid": "d2e029f7-6474-4fcd-8f33-d2fe075b60d5",
     "typedWidgetInfo": null,
     "widgetInfo": {
      "defaultValue": "",
      "label": null,
      "name": "postback-url",
      "options": {
       "autoCreated": null,
       "validationRegex": null,
       "widgetType": "text"
      },
      "widgetType": "text"
     }
    }
   }
  },
  "kernelspec": {
   "display_name": "Python 3 (ipykernel)",
   "language": "python",
   "name": "python3"
  },
  "language_info": {
   "codemirror_mode": {
    "name": "ipython",
    "version": 3
   },
   "file_extension": ".py",
   "mimetype": "text/x-python",
   "name": "python",
   "nbconvert_exporter": "python",
   "pygments_lexer": "ipython3",
   "version": "3.11.5"
  }
 },
 "nbformat": 4,
 "nbformat_minor": 1
}
