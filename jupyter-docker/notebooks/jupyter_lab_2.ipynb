{
 "cells": [
  {
   "cell_type": "code",
   "execution_count": 1,
   "id": "1bff3345",
   "metadata": {
    "slideshow": {
     "slide_type": ""
    },
    "tags": []
   },
   "outputs": [
    {
     "name": "stdout",
     "output_type": "stream",
     "text": [
      "I am jupyter lab\n"
     ]
    }
   ],
   "source": [
    "print(\"I am jupyter lab\")"
   ]
  },
  {
   "cell_type": "code",
   "execution_count": 2,
   "id": "ca4b99da",
   "metadata": {},
   "outputs": [],
   "source": [
    "import os"
   ]
  },
  {
   "cell_type": "code",
   "execution_count": 3,
   "id": "3493bc3e",
   "metadata": {},
   "outputs": [
    {
     "data": {
      "text/plain": [
       "'/home/sparkflows/venv/lib/python3.8/site-packages/arrow'"
      ]
     },
     "execution_count": 3,
     "metadata": {},
     "output_type": "execute_result"
    }
   ],
   "source": [
    "os.getcwd()"
   ]
  },
  {
   "cell_type": "code",
   "execution_count": 4,
   "id": "5a2e94d1",
   "metadata": {
    "slideshow": {
     "slide_type": ""
    },
    "tags": []
   },
   "outputs": [
    {
     "name": "stdout",
     "output_type": "stream",
     "text": [
      "\n"
     ]
    }
   ],
   "source": [
    "print()"
   ]
  },
  {
   "cell_type": "code",
   "execution_count": null,
   "id": "bb5e1ad0",
   "metadata": {},
   "outputs": [],
   "source": [
    "import sys"
   ]
  },
  {
   "cell_type": "code",
   "execution_count": null,
   "id": "115f50ef",
   "metadata": {},
   "outputs": [],
   "source": [
    "print(sys.argv)"
   ]
  },
  {
   "cell_type": "code",
   "execution_count": null,
   "id": "a30e8aa1",
   "metadata": {},
   "outputs": [],
   "source": [
    "webserverURL = \"http://192.168.49.1:8080/messageFromSparkJob\"\n",
    "jobId = \"123456789\"\n",
    "from fire_notebook.output.workflowcontext import RestWorkflowContext\n",
    "restworkflowcontext = RestWorkflowContext(webserverURL, jobId)\n",
    "\n",
    "message = \"Successfully Received the Message from Notebook!\"\n",
    "restworkflowcontext.outStr(9, title=\"Message\", text=message)"
   ]
  }
 ],
 "metadata": {
  "kernelspec": {
   "display_name": "Python 3",
   "language": "python",
   "name": "python3"
  },
  "language_info": {
   "codemirror_mode": {
    "name": "ipython",
    "version": 3
   },
   "file_extension": ".py",
   "mimetype": "text/x-python",
   "name": "python",
   "nbconvert_exporter": "python",
   "pygments_lexer": "ipython3",
   "version": "3.6.3"
  }
 },
 "nbformat": 4,
 "nbformat_minor": 5
}
