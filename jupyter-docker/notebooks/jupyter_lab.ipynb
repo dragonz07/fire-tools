{
 "cells": [
  {
   "cell_type": "code",
   "execution_count": 1,
   "id": "6e00cff1-72c0-427b-bbd2-8762675fc6de",
   "metadata": {
    "editable": true,
    "slideshow": {
     "slide_type": ""
    },
    "tags": []
   },
   "outputs": [
    {
     "name": "stdout",
     "output_type": "stream",
     "text": [
      "I am jupyter lab\n"
     ]
    }
   ],
   "source": [
    "print(\"I am jupyter lab\")"
   ]
  },
  {
   "cell_type": "code",
   "execution_count": 2,
   "id": "9514a879-e8fe-4175-a1c1-0c3f66e9db12",
   "metadata": {},
   "outputs": [],
   "source": [
    "import os"
   ]
  },
  {
   "cell_type": "code",
   "execution_count": 3,
   "id": "0a5856db-b455-4677-bac2-0de7c32755d3",
   "metadata": {},
   "outputs": [
    {
     "data": {
      "text/plain": [
       "'/home/sparkflows/venv/lib/python3.8/site-packages/arrow'"
      ]
     },
     "execution_count": 3,
     "metadata": {},
     "output_type": "execute_result"
    }
   ],
   "source": [
    "os.getcwd()"
   ]
  },
  {
   "cell_type": "code",
   "execution_count": 4,
   "id": "026211c9-f770-43e6-b601-bc19e9e0887b",
   "metadata": {
    "editable": true,
    "slideshow": {
     "slide_type": ""
    },
    "tags": []
   },
   "outputs": [
    {
     "name": "stdout",
     "output_type": "stream",
     "text": [
      "\n"
     ]
    }
   ],
   "source": [
    "print()"
   ]
  },
  {
   "cell_type": "code",
   "execution_count": null,
   "id": "a21178dc-4db9-4c26-bcbf-4e68b2acd793",
   "metadata": {},
   "outputs": [],
   "source": [
    "import sys"
   ]
  },
  {
   "cell_type": "code",
   "execution_count": null,
   "id": "90041663-1c27-4bb8-af3a-6d722bd6d6ff",
   "metadata": {},
   "outputs": [],
   "source": [
    "print(sys.argv)"
   ]
  },
  {
   "cell_type": "code",
   "execution_count": null,
   "id": "fb1b2424-b844-460a-9194-799f4fb64961",
   "metadata": {},
   "outputs": [],
   "source": [
    "webserverURL = \""\n",
    "jobId = \"123456789\"\n",
    "from fire_notebook.output.workflowcontext import RestWorkflowContext\n",
    "restworkflowcontext = RestWorkflowContext(webserverURL=webserverURL, jobId=jobId)\n",
    "\n",
    "message = \"Successfully Received the Message from Notebook!\"\n",
    "restworkflowcontext.outStr(9, title=\"Message\", text=message)"
   ]
  }
 ],
 "metadata": {
  "kernelspec": {
   "display_name": "Python 3 (ipykernel)",
   "language": "python",
   "name": "python3"
  },
  "language_info": {
   "codemirror_mode": {
    "name": "ipython",
    "version": 3
   },
   "file_extension": ".py",
   "mimetype": "text/x-python",
   "name": "python",
   "nbconvert_exporter": "python",
   "pygments_lexer": "ipython3",
   "version": "3.8.10"
  }
 },
 "nbformat": 4,
 "nbformat_minor": 5
}
