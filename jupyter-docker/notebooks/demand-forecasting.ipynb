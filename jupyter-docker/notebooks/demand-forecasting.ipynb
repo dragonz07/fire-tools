{
 "cells": [
  {
   "cell_type": "markdown",
   "metadata": {
    "application/vnd.databricks.v1+cell": {
     "cellMetadata": {
      "byteLimit": 2048000,
      "rowLimit": 10000
     },
     "inputWidgets": {},
     "nuid": "53f0cb29-b0c8-4a5f-96e1-70d919e8704a",
     "showTitle": false,
     "title": ""
    },
    "papermill": {
     "duration": 0.015731,
     "end_time": "2024-08-01T22:26:39.009133",
     "exception": false,
     "start_time": "2024-08-01T22:26:38.993402",
     "status": "completed"
    },
    "tags": []
   },
   "source": [
    "**Project Objective:**\n",
    "\n",
    "In this project, we forecast sales for the next 3 months for 50 different products across 10 different stores using 5 years of store-item sales data. The dataset includes daily sales figures for each store and product. We've applied various techniques to analyze this time series data and predict future demand using machine learning methods.\n",
    "\n",
    "**Key Highlights:**\n",
    "\n",
    "- **Model Utilization:** Employed the LightGBM algorithm for sales forecasting. LightGBM is effective in handling large datasets and provides high accuracy.\n",
    "  \n",
    "- **Time Series Features:** To enhance model accuracy, we created several key date features:\n",
    "  - **Exponentially Weighted Mean (EWM):** I computed the exponentially weighted mean on sales data. This method gives more weight to recent data, making the model more sensitive to recent changes and improving prediction accuracy.\n",
    "  - **Rolling Mean:** I calculated rolling mean to better model trends and seasonality effects.\n",
    "  - **Lag Features:** I created lag features using past sales data to incorporate historical performance into the model.\n",
    "  \n",
    "- **Time Series Analysis:** We processed time series data by considering seasonal patterns, trends, and cyclical effects.\n",
    "\n",
    "In this project, we achieved high accuracy in sales predictions by applying techniques such as EWM, rolling mean, and lag features to time series data. "
   ]
  },
  {
   "cell_type": "code",
   "execution_count": 0,
   "metadata": {
    "_cell_guid": "b1076dfc-b9ad-4769-8c92-a6c4dae69d19",
    "_uuid": "8f2839f25d086af736a60e9eeb907d3b93b6e0e5",
    "application/vnd.databricks.v1+cell": {
     "cellMetadata": {
      "byteLimit": 2048000,
      "rowLimit": 10000
     },
     "inputWidgets": {},
     "nuid": "b064134d-efe9-4adc-84e8-700f3b253530",
     "showTitle": false,
     "title": ""
    },
    "execution": {
     "iopub.execute_input": "2024-08-01T22:26:39.037301Z",
     "iopub.status.busy": "2024-08-01T22:26:39.036870Z",
     "iopub.status.idle": "2024-08-01T22:26:43.632860Z",
     "shell.execute_reply": "2024-08-01T22:26:43.631583Z"
    },
    "papermill": {
     "duration": 4.613486,
     "end_time": "2024-08-01T22:26:43.635907",
     "exception": false,
     "start_time": "2024-08-01T22:26:39.022421",
     "status": "completed"
    },
    "tags": []
   },
   "outputs": [
    {
     "output_type": "display_data",
     "data": {
      "text/html": [
       "<style scoped>\n",
       "  .ansiout {\n",
       "    display: block;\n",
       "    unicode-bidi: embed;\n",
       "    white-space: pre-wrap;\n",
       "    word-wrap: break-word;\n",
       "    word-break: break-all;\n",
       "    font-family: \"Menlo\", \"Monaco\", \"Consolas\", \"Ubuntu Mono\", \"Source Code Pro\", monospace;\n",
       "    font-size: 13px;\n",
       "    color: #555;\n",
       "    margin-left: 4px;\n",
       "    line-height: 19px;\n",
       "  }\n",
       "</style>\n",
       "<div class=\"ansiout\"></div>"
      ]
     },
     "metadata": {
      "application/vnd.databricks.v1+output": {
       "addedWidgets": {},
       "arguments": {},
       "data": "<div class=\"ansiout\"></div>",
       "datasetInfos": [],
       "metadata": {},
       "removedWidgets": [],
       "type": "html"
      }
     },
     "output_type": "display_data"
    }
   ],
   "source": [
    "import time\n",
    "import numpy as np\n",
    "import pandas as pd\n",
    "from matplotlib import pyplot as plt\n",
    "import seaborn as sns\n",
    "import lightgbm as lgb\n",
    "import warnings\n",
    "from tabulate import tabulate\n",
    "\n",
    "import plotly.graph_objs as go\n",
    "import plotly\n",
    "\n",
    "pd.set_option('display.max_columns', None)\n",
    "pd.set_option('display.width', 500)\n",
    "warnings.filterwarnings('ignore')"
   ]
  },
  {
   "cell_type": "code",
   "execution_count": 0,
   "metadata": {
    "application/vnd.databricks.v1+cell": {
     "cellMetadata": {
      "byteLimit": 2048000,
      "rowLimit": 10000
     },
     "inputWidgets": {},
     "nuid": "ca2b2899-988c-45d4-b097-128ebb1b166b",
     "showTitle": false,
     "title": ""
    }
   },
   "outputs": [
    {
     "output_type": "display_data",
     "data": {
      "text/html": [
       "<style scoped>\n",
       "  .ansiout {\n",
       "    display: block;\n",
       "    unicode-bidi: embed;\n",
       "    white-space: pre-wrap;\n",
       "    word-wrap: break-word;\n",
       "    word-break: break-all;\n",
       "    font-family: \"Menlo\", \"Monaco\", \"Consolas\", \"Ubuntu Mono\", \"Source Code Pro\", monospace;\n",
       "    font-size: 13px;\n",
       "    color: #555;\n",
       "    margin-left: 4px;\n",
       "    line-height: 19px;\n",
       "  }\n",
       "</style>\n",
       "<div class=\"ansiout\"></div>"
      ]
     },
     "metadata": {
      "application/vnd.databricks.v1+output": {
       "addedWidgets": {},
       "arguments": {},
       "data": "<div class=\"ansiout\"></div>",
       "datasetInfos": [],
       "metadata": {},
       "removedWidgets": [],
       "type": "html"
      }
     },
     "output_type": "display_data"
    }
   ],
   "source": [
    "#SET GLOBAL FLAG\n",
    "should_continue_execution = True  # Default to True"
   ]
  },
  {
   "cell_type": "code",
   "execution_count": 0,
   "metadata": {
    "application/vnd.databricks.v1+cell": {
     "cellMetadata": {
      "byteLimit": 2048000,
      "rowLimit": 10000
     },
     "inputWidgets": {},
     "nuid": "ea9657f0-7be1-497a-8710-583ec3b7c72c",
     "showTitle": false,
     "title": ""
    }
   },
   "outputs": [
    {
     "output_type": "display_data",
     "data": {
      "text/html": [
       "<style scoped>\n",
       "  .ansiout {\n",
       "    display: block;\n",
       "    unicode-bidi: embed;\n",
       "    white-space: pre-wrap;\n",
       "    word-wrap: break-word;\n",
       "    word-break: break-all;\n",
       "    font-family: \"Menlo\", \"Monaco\", \"Consolas\", \"Ubuntu Mono\", \"Source Code Pro\", monospace;\n",
       "    font-size: 13px;\n",
       "    color: #555;\n",
       "    margin-left: 4px;\n",
       "    line-height: 19px;\n",
       "  }\n",
       "</style>\n",
       "<div class=\"ansiout\">Sending Message: {&#34;progress&#34;: &#34;20&#34;, &#34;id&#34;: 9, &#34;name&#34;: &#34;Progress&#34;, &#34;title&#34;: &#34;Progress&#34;, &#34;type&#34;: &#34;progress&#34;, &#34;resultType&#34;: 3, &#34;visibility&#34;: &#34;EXPANDED&#34;, &#34;time&#34;: &#34;Aug 19, 2024 11:40:43 AM&#34;}\n",
       "Not sending message to fire_notebook server as the post back URL is not http\n",
       "</div>"
      ]
     },
     "metadata": {
      "application/vnd.databricks.v1+output": {
       "addedWidgets": {},
       "arguments": {},
       "data": "<div class=\"ansiout\">Sending Message: {&#34;progress&#34;: &#34;20&#34;, &#34;id&#34;: 9, &#34;name&#34;: &#34;Progress&#34;, &#34;title&#34;: &#34;Progress&#34;, &#34;type&#34;: &#34;progress&#34;, &#34;resultType&#34;: 3, &#34;visibility&#34;: &#34;EXPANDED&#34;, &#34;time&#34;: &#34;Aug 19, 2024 11:40:43 AM&#34;}\nNot sending message to fire_notebook server as the post back URL is not http\n</div>",
       "datasetInfos": [],
       "metadata": {},
       "removedWidgets": [],
       "type": "html"
      }
     },
     "output_type": "display_data"
    }
   ],
   "source": [
    "#Widgets used to pass value\n",
    "dbutils.widgets.text(\"job-id\", \"100\")\n",
    "dbutils.widgets.text(\"postback-url\", \"\")\n",
    "dbutils.widgets.text(\"rb_detail\", \"\")\n",
    "dbutils.widgets.text(\"rb_summary\", \"\")\n",
    "\n",
    "jobId = dbutils.widgets.get(\"job-id\")\n",
    "rb_detail = dbutils.widgets.get(\"rb_detail\")\n",
    "rb_summary = dbutils.widgets.get(\"rb_summary\")\n",
    "webserverURL = dbutils.widgets.get(\"postback-url\")\n",
    "\n",
    "#print(f\"parameter_value for key rb_summary is: {rb_summary} and parameter_value for key rb_detail is: {rb_detail}\")\n",
    "\n",
    "#Initialize and Start Execution\n",
    "from fire_notebook.output.workflowcontext import RestWorkflowContext\n",
    "restworkflowcontext = RestWorkflowContext(webserverURL, jobId)\n",
    "message=\"20\"\n",
    "restworkflowcontext.outputProgress(9, title=\"Progress\", progress=message)"
   ]
  },
  {
   "cell_type": "markdown",
   "metadata": {
    "application/vnd.databricks.v1+cell": {
     "cellMetadata": {
      "byteLimit": 2048000,
      "rowLimit": 10000
     },
     "inputWidgets": {},
     "nuid": "686a4f8b-9308-4e6d-80c8-e3af03434fc2",
     "showTitle": false,
     "title": ""
    },
    "papermill": {
     "duration": 0.013106,
     "end_time": "2024-08-01T22:26:43.662284",
     "exception": false,
     "start_time": "2024-08-01T22:26:43.649178",
     "status": "completed"
    },
    "tags": []
   },
   "source": [
    "### EDA Functions"
   ]
  },
  {
   "cell_type": "code",
   "execution_count": 0,
   "metadata": {
    "application/vnd.databricks.v1+cell": {
     "cellMetadata": {
      "byteLimit": 2048000,
      "rowLimit": 10000
     },
     "inputWidgets": {},
     "nuid": "61e3d8e6-e40c-4213-b43c-045fef96ef8b",
     "showTitle": false,
     "title": ""
    },
    "execution": {
     "iopub.execute_input": "2024-08-01T22:26:43.692849Z",
     "iopub.status.busy": "2024-08-01T22:26:43.691613Z",
     "iopub.status.idle": "2024-08-01T22:26:43.707174Z",
     "shell.execute_reply": "2024-08-01T22:26:43.705841Z"
    },
    "papermill": {
     "duration": 0.034559,
     "end_time": "2024-08-01T22:26:43.709852",
     "exception": false,
     "start_time": "2024-08-01T22:26:43.675293",
     "status": "completed"
    },
    "tags": []
   },
   "outputs": [
    {
     "output_type": "display_data",
     "data": {
      "text/html": [
       "<style scoped>\n",
       "  .ansiout {\n",
       "    display: block;\n",
       "    unicode-bidi: embed;\n",
       "    white-space: pre-wrap;\n",
       "    word-wrap: break-word;\n",
       "    word-break: break-all;\n",
       "    font-family: \"Menlo\", \"Monaco\", \"Consolas\", \"Ubuntu Mono\", \"Source Code Pro\", monospace;\n",
       "    font-size: 13px;\n",
       "    color: #555;\n",
       "    margin-left: 4px;\n",
       "    line-height: 19px;\n",
       "  }\n",
       "</style>\n",
       "<div class=\"ansiout\"></div>"
      ]
     },
     "metadata": {
      "application/vnd.databricks.v1+output": {
       "addedWidgets": {},
       "arguments": {},
       "data": "<div class=\"ansiout\"></div>",
       "datasetInfos": [],
       "metadata": {},
       "removedWidgets": [],
       "type": "html"
      }
     },
     "output_type": "display_data"
    }
   ],
   "source": [
    "# Define the check_df function\n",
    "def check_df(dataframe: pd.DataFrame, head: int = 5) -> None:\n",
    "    # Print DataFrame shape\n",
    "    htmlstr1 = f\"\"\"\n",
    "    <div style=\"border: 1px solid #ddd; padding: 10px; margin-bottom: 10px; background-color: #f9f9f9;\">\n",
    "        <h3>DataFrame Shape</h3>\n",
    "        <p>Rows: {dataframe.shape[0]}, Columns: {dataframe.shape[1]}</p>\n",
    "    </div>\n",
    "    \"\"\"\n",
    "    restworkflowcontext.outHTML(9, title=\"DataFrame Shape\", text=htmlstr1)\n",
    "\n",
    "    # Print DataFrame unique values in HTML format\n",
    "    unique_values = dataframe.nunique().reset_index()\n",
    "    unique_values.columns = ['Column', 'Unique Values']\n",
    "    unique_values_html = unique_values.to_html(index=False, border=0, classes='table table-striped')\n",
    "\n",
    "    # Extract only the <tbody> section from the generated HTML\n",
    "    tbody_start = unique_values_html.find('<tbody>')\n",
    "    tbody_end = unique_values_html.find('</tbody>') + len('</tbody>')\n",
    "    unique_values_tbody = unique_values_html[tbody_start:tbody_end]\n",
    "\n",
    "    unique_values_html_full = f\"\"\"\n",
    "    <div style=\"border: 1px solid #ddd; padding: 10px; margin-bottom: 10px; background-color: #f9f9f9;\">\n",
    "        <table class=\"table table-striped\" id=\"unique_values_table\" style=\"width: 100%; text-align: left;\">\n",
    "            <thead style=\"text-align: left;\">\n",
    "                <tr>\n",
    "                    <th>Column</th>\n",
    "                    <th>Unique Values</th>\n",
    "                </tr>\n",
    "            </thead>\n",
    "            {unique_values_tbody}\n",
    "        </table>\n",
    "    </div>\n",
    "    \"\"\"\n",
    "    restworkflowcontext.outHTML(10, title=\"Unique Values Per Column\", text=unique_values_html_full)\n",
    "\n",
    "    # Print DataFrame data types\n",
    "    data_types = dataframe.dtypes.reset_index()\n",
    "    data_types.columns = ['Column', 'Data Type']\n",
    "    data_types_html = data_types.to_html(index=False, border=0, classes='table table-striped')\n",
    "\n",
    "    # Extract only the <tbody> section from the generated HTML\n",
    "    tbody_start = data_types_html.find('<tbody>')\n",
    "    tbody_end = data_types_html.find('</tbody>') + len('</tbody>')\n",
    "    data_types_tbody = data_types_html[tbody_start:tbody_end]\n",
    "\n",
    "    data_types_html_full = f\"\"\"\n",
    "    <div style=\"border: 1px solid #ddd; padding: 10px; margin-bottom: 10px; background-color: #f9f9f9;\">\n",
    "        <table class=\"table table-striped\" id=\"data_types_table\" style=\"width: 100%; text-align: left;\">\n",
    "            <thead style=\"text-align: left;\">\n",
    "                <tr>\n",
    "                    <th>Column</th>\n",
    "                    <th>Data Type</th>\n",
    "                </tr>\n",
    "            </thead>\n",
    "            {data_types_tbody}\n",
    "        </table>\n",
    "    </div>\n",
    "    \"\"\"\n",
    "    restworkflowcontext.outHTML(11, title=\"Data Types\", text=data_types_html_full)\n",
    "\n",
    "    # Print head of the DataFrame\n",
    "    head_html = dataframe.head().to_html(index=False, border=0, classes='table table-striped')\n",
    "\n",
    "    # Extract only the <tbody> section from the generated HTML\n",
    "    tbody_start = head_html.find('<tbody>')\n",
    "    tbody_end = head_html.find('</tbody>') + len('</tbody>')\n",
    "    head_tbody = head_html[tbody_start:tbody_end]\n",
    "\n",
    "    head_html_full = f\"\"\"\n",
    "    <div style=\"border: 1px solid #ddd; padding: 10px; margin-bottom: 10px; background-color: #f9f9f9;\">\n",
    "        <table class=\"table table-striped\" id=\"head_table\" style=\"width: 100%; text-align: left;\">\n",
    "            <thead style=\"text-align: left;\">\n",
    "                <tr>\n",
    "                    {\"\".join(f\"<th>{col}</th>\" for col in dataframe.columns)}\n",
    "                </tr>\n",
    "            </thead>\n",
    "            {head_tbody}\n",
    "        </table>\n",
    "    </div>\n",
    "    \"\"\"\n",
    "    restworkflowcontext.outHTML(12, title=\"Top Rows (Head)\", text=head_html_full)\n",
    "\n",
    "    # Print tail of the DataFrame\n",
    "    tail_html = dataframe.tail().to_html(index=False, border=0, classes='table table-striped')\n",
    "\n",
    "    # Extract only the <tbody> section from the generated HTML\n",
    "    tbody_start = tail_html.find('<tbody>')\n",
    "    tbody_end = tail_html.find('</tbody>') + len('</tbody>')\n",
    "    tail_tbody = tail_html[tbody_start:tbody_end]\n",
    "\n",
    "    tail_html_full = f\"\"\"\n",
    "    <div style=\"border: 1px solid #ddd; padding: 10px; margin-bottom: 10px; background-color: #f9f9f9;\">\n",
    "        <table class=\"table table-striped\" id=\"tail_table\" style=\"width: 100%; text-align: left;\">\n",
    "            <thead style=\"text-align: left;\">\n",
    "                <tr>\n",
    "                    {\"\".join(f\"<th>{col}</th>\" for col in dataframe.columns)}\n",
    "                </tr>\n",
    "            </thead>\n",
    "            {tail_tbody}\n",
    "        </table>\n",
    "    </div>\n",
    "    \"\"\"\n",
    "    restworkflowcontext.outHTML(13, title=\"Bottom Rows (Tail)\", text=tail_html_full)    \n",
    "\n",
    "    # Print missing values\n",
    "    missing_values = dataframe.isnull().sum().reset_index()\n",
    "    missing_values.columns = ['Column', 'Missing Values']\n",
    "    missing_values_html = missing_values.to_html(index=False, border=0, classes='table table-striped')\n",
    "\n",
    "# Extract only the <tbody> section from the generated HTML\n",
    "    tbody_start = missing_values_html.find('<tbody>')\n",
    "    tbody_end = missing_values_html.find('</tbody>') + len('</tbody>')\n",
    "    missing_values_tbody = missing_values_html[tbody_start:tbody_end]\n",
    "\n",
    "    missing_values_html_full = f\"\"\"\n",
    "    <div style=\"border: 1px solid #ddd; padding: 10px; margin-bottom: 10px; background-color: #f9f9f9;\">\n",
    "        <table class=\"table table-striped\" id=\"missing_values_table\" style=\"width: 100%; text-align: left;\">\n",
    "            <thead style=\"text-align: left;\">\n",
    "                <tr>\n",
    "                    <th>Column</th>\n",
    "                    <th>Missing Values</th>\n",
    "                </tr>\n",
    "            </thead>\n",
    "            {missing_values_tbody}\n",
    "        </table>\n",
    "    </div>\n",
    "    \"\"\"\n",
    "    restworkflowcontext.outHTML(14, title=\"Missing Values Per Column\", text=missing_values_html_full)\n",
    "\n",
    "    # Print date range if 'date' column exists\n",
    "    if 'date' in dataframe.columns and pd.api.types.is_datetime64_any_dtype(dataframe['date']):\n",
    "        date_range_html = f\"\"\"\n",
    "        <div style=\"border: 1px solid #ddd; padding: 10px; margin-bottom: 10px; background-color: #f9f9f9;\">\n",
    "            <h3>Date Range</h3>\n",
    "            <p>Start Date: {dataframe['date'].min()}</p>\n",
    "            <p>End Date: {dataframe['date'].max()}</p>\n",
    "        </div>\n",
    "        \"\"\"\n",
    "        restworkflowcontext.outHTML(15, title=\"Date Range\", text=date_range_html)\n",
    "\n",
    "    # Print quantile statistics\n",
    "    quantiles = dataframe.describe([0, 0.05, 0.50, 0.95, 0.99, 1]).T.reset_index()\n",
    "    quantiles_html = quantiles.to_html(index=False, border=0, classes='table table-striped')\n",
    "\n",
    "    # Extract only the <tbody> section from the generated HTML\n",
    "    tbody_start = quantiles_html.find('<tbody>')\n",
    "    tbody_end = quantiles_html.find('</tbody>') + len('</tbody>')\n",
    "    quantiles_tbody = quantiles_html[tbody_start:tbody_end]\n",
    "\n",
    "    quantiles_html_full = f\"\"\"\n",
    "    <div style=\"border: 1px solid #ddd; padding: 10px; margin-bottom: 10px; background-color: #f9f9f9;\">\n",
    "        <table class=\"table table-striped\" id=\"quantiles_table\" style=\"width: 100%; text-align: left;\">\n",
    "            <thead style=\"text-align: left;\">\n",
    "                <tr>\n",
    "                    {\"\".join(f\"<th>{col}</th>\" for col in quantiles.columns)}\n",
    "                </tr>\n",
    "            </thead>\n",
    "            {quantiles_tbody}\n",
    "        </table>\n",
    "    </div>\n",
    "    \"\"\"\n",
    "    restworkflowcontext.outHTML(16, title=\"Quantiles\", text=quantiles_html_full)\n",
    "\n",
    "\n",
    "# target summary with cat cols\n",
    "# Function to see the average sales for each store and the average sales for each item.\n",
    "#Example Business Questions that can be answered:\n",
    "    #Which store has the highest average sales value?\n",
    "    #Which item has the lowest average sales value?\n",
    "\n",
    "def target_summary_with_cat(dataframe, target, categorical_cols):\n",
    "    for col in categorical_cols:\n",
    "        summary_df = dataframe.groupby(col)[target].mean().reset_index()\n",
    "        summary_df.columns = [col, \"TARGET_MEAN\"]\n",
    "\n",
    "        # Convert DataFrame to HTML\n",
    "        summary_html = summary_df.to_html(index=False, border=0, classes='table table-striped')\n",
    "\n",
    "        # Extract <tbody> section (optional, for styling)\n",
    "        tbody_start = summary_html.find('<tbody>')\n",
    "        tbody_end = summary_html.find('</tbody>') + len('</tbody>')\n",
    "        summary_tbody = summary_html[tbody_start:tbody_end]\n",
    "\n",
    "        # Wrap HTML in a div for styling (optional)\n",
    "        summary_html_full = f\"\"\"\n",
    "        <div style=\"border: 1px solid #ddd; padding: 10px; margin-bottom: 10px; background-color: #f9f9f9;\">\n",
    "            <table class=\"table table-striped\" id=\"summary_table\" style=\"width: 100%; text-align: left;\">\n",
    "                <thead>\n",
    "                    <tr>\n",
    "                        <th>{col}</th>\n",
    "                        <th>TARGET_MEAN</th>\n",
    "                    </tr>\n",
    "                </thead>\n",
    "                {summary_tbody}\n",
    "            </table>\n",
    "        </div>\n",
    "        \"\"\"\n",
    "        restworkflowcontext.outHTML(16, title=\"Detailed Report\", text=summary_html_full)\n",
    "\n",
    "        print(summary_df, end=\"\\n\\n\\n\")\n",
    "\n",
    "        # Create histogram\n",
    "        plt.figure(figsize=(15, 6))\n",
    "        plt.bar(summary_df[col].astype(str), summary_df[\"TARGET_MEAN\"], color='skyblue')\n",
    "        plt.xlabel(col)\n",
    "        plt.ylabel(target)\n",
    "        plt.title(f\"{target} mean for {col}\")\n",
    "        plt.xticks(rotation=45)\n",
    "        plt.show()\n",
    "        #fig = plotly.offline.plot([go.Bar(x=summary_df[col], y=summary_df[\"TARGET_MEAN\"])], output_type='div', include_plotlyjs=False)\n",
    "        #example_plotly = f'{fig}'\n",
    "        #restworkflowcontext.outPlotly(9, title=\"MEAN OF\", text=example_plotly )\n",
    "        #fig = go.Figure(data=[go.Bar(x=summary_df[col], y=summary_df[\"TARGET_MEAN\"])])\n",
    "        fig = go.Figure(data=[go.Bar(x=summary_df[col], y=summary_df[\"TARGET_MEAN\"], marker_color='skyblue')])\n",
    "        fig.update_layout(\n",
    "            #title=f\"{target} mean for {col}\",\n",
    "            xaxis_title=col,\n",
    "            yaxis_title=target\n",
    "        )\n",
    "\n",
    "        # Display the chart (replace with your output method)\n",
    "        fig_html = plotly.offline.plot(fig, output_type='div', include_plotlyjs=False)\n",
    "        restworkflowcontext.outPlotly(9, title= f\"{target.upper()} MEAN FOR {col.upper()}\", text=fig_html )\n"
   ]
  },
  {
   "cell_type": "markdown",
   "metadata": {
    "application/vnd.databricks.v1+cell": {
     "cellMetadata": {
      "byteLimit": 2048000,
      "rowLimit": 10000
     },
     "inputWidgets": {},
     "nuid": "64252588-4c7e-4a7f-a0f2-ad458685e119",
     "showTitle": false,
     "title": ""
    },
    "papermill": {
     "duration": 0.016947,
     "end_time": "2024-08-01T22:26:43.743112",
     "exception": false,
     "start_time": "2024-08-01T22:26:43.726165",
     "status": "completed"
    },
    "tags": []
   },
   "source": [
    "__Loading the data__"
   ]
  },
  {
   "cell_type": "code",
   "execution_count": 0,
   "metadata": {
    "application/vnd.databricks.v1+cell": {
     "cellMetadata": {
      "byteLimit": 2048000,
      "rowLimit": 10000
     },
     "inputWidgets": {},
     "nuid": "eba3ad0a-d454-4bd1-8fb4-ad3922a0f8e3",
     "showTitle": false,
     "title": ""
    },
    "execution": {
     "iopub.execute_input": "2024-08-01T22:26:43.784369Z",
     "iopub.status.busy": "2024-08-01T22:26:43.783729Z",
     "iopub.status.idle": "2024-08-01T22:26:44.835974Z",
     "shell.execute_reply": "2024-08-01T22:26:44.834603Z"
    },
    "papermill": {
     "duration": 1.074814,
     "end_time": "2024-08-01T22:26:44.838861",
     "exception": false,
     "start_time": "2024-08-01T22:26:43.764047",
     "status": "completed"
    },
    "tags": []
   },
   "outputs": [
    {
     "output_type": "display_data",
     "data": {
      "text/html": [
       "<style scoped>\n",
       "  .ansiout {\n",
       "    display: block;\n",
       "    unicode-bidi: embed;\n",
       "    white-space: pre-wrap;\n",
       "    word-wrap: break-word;\n",
       "    word-break: break-all;\n",
       "    font-family: \"Menlo\", \"Monaco\", \"Consolas\", \"Ubuntu Mono\", \"Source Code Pro\", monospace;\n",
       "    font-size: 13px;\n",
       "    color: #555;\n",
       "    margin-left: 4px;\n",
       "    line-height: 19px;\n",
       "  }\n",
       "</style>\n",
       "<div class=\"ansiout\"></div>"
      ]
     },
     "metadata": {
      "application/vnd.databricks.v1+output": {
       "addedWidgets": {},
       "arguments": {},
       "data": "<div class=\"ansiout\"></div>",
       "datasetInfos": [],
       "metadata": {},
       "removedWidgets": [],
       "type": "html"
      }
     },
     "output_type": "display_data"
    }
   ],
   "source": [
    "train = pd.read_csv('/dbfs/FileStore/Demand-Forecasting/Input/train.csv', parse_dates=['date'])\n",
    "test = pd.read_csv('/dbfs/FileStore/Demand-Forecasting/Input/test.csv', parse_dates=['date'])\n",
    "\n",
    "sample_sub = pd.read_csv('/dbfs/FileStore/Demand-Forecasting/Input/demand_forecasting.csv')\n",
    "\n",
    "df = pd.concat([train, test], sort=False)"
   ]
  },
  {
   "cell_type": "markdown",
   "metadata": {
    "application/vnd.databricks.v1+cell": {
     "cellMetadata": {},
     "inputWidgets": {},
     "nuid": "13459770-6e15-4ff2-a0b3-623b9bfde682",
     "showTitle": false,
     "title": ""
    }
   },
   "source": [
    "__Building Modular Functions__"
   ]
  },
  {
   "cell_type": "code",
   "execution_count": 0,
   "metadata": {
    "application/vnd.databricks.v1+cell": {
     "cellMetadata": {
      "byteLimit": 2048000,
      "rowLimit": 10000
     },
     "inputWidgets": {},
     "nuid": "83943d03-7c77-4127-968a-ba3b09508acc",
     "showTitle": false,
     "title": ""
    }
   },
   "outputs": [],
   "source": [
    "def run_analysis(dataframe, options):\n",
    "    global should_continue_execution \n",
    "    # Retrieve widget values\n",
    "    rb_summary = dbutils.widgets.get(\"rb_summary\")\n",
    "    rb_detail = dbutils.widgets.get(\"rb_detail\")\n",
    "\n",
    "    # Ensure rb_detail is a string for consistent comparison\n",
    "    if isinstance(rb_detail, int):\n",
    "        rb_detail = str(rb_detail)\n",
    "\n",
    "    # Debug print statement\n",
    "    print(f\"Retrieved rb_summary: {rb_summary} and rb_detail: {rb_detail}\")\n",
    "\n",
    "    # Check if both rb_summary and rb_detail are set to 'Y' and '1' respectively\n",
    "    if rb_summary == 'Y' and rb_detail == '1':\n",
    "        check_df(dataframe)\n",
    "        target_summary_with_cat(\n",
    "            dataframe,\n",
    "            options['target'],\n",
    "            options['categorical_col']\n",
    "        )\n",
    "        should_continue_execution = False\n",
    "        return  # Stop further execution\n",
    "\n",
    "    # Check if only rb_summary is set to 'Y'\n",
    "    if rb_summary == 'Y':\n",
    "        check_df(dataframe)\n",
    "        should_continue_execution = False\n",
    "        return  # Stop further execution\n",
    "\n",
    "    # Check if only rb_detail is set to '1'\n",
    "    if rb_detail == '1':\n",
    "        target_summary_with_cat(\n",
    "            dataframe,\n",
    "            options['target'],\n",
    "            options['categorical_col']\n",
    "        )\n",
    "        should_continue_execution = False\n",
    "        return  # Stop further execution\n",
    "\n",
    "# Example usage of the function\n",
    "dataframe = df\n",
    "options = {\n",
    "    'target': 'sales',           # Replace 'sales' with the actual target column name in your DataFrame\n",
    "    'categorical_col': ['store', 'item']  # Replace 'store' and 'item' with the actual categorical column names in your DataFrame\n",
    "}\n",
    "\n",
    "# Call the run_analysis function\n",
    "run_analysis(dataframe, options)\n",
    "\n",
    "if not should_continue_execution:\n",
    "    dbutils.notebook.exit(\"Execution stopped by run_analysis function.\")"
   ]
  },
  {
   "cell_type": "code",
   "execution_count": 0,
   "metadata": {
    "application/vnd.databricks.v1+cell": {
     "cellMetadata": {
      "byteLimit": 2048000,
      "rowLimit": 10000
     },
     "inputWidgets": {},
     "nuid": "41e9ae0f-3040-4167-a3f0-533680e9dd25",
     "showTitle": false,
     "title": ""
    },
    "execution": {
     "iopub.execute_input": "2024-08-01T22:26:46.566698Z",
     "iopub.status.busy": "2024-08-01T22:26:46.566203Z",
     "iopub.status.idle": "2024-08-01T22:26:46.731776Z",
     "shell.execute_reply": "2024-08-01T22:26:46.730255Z"
    },
    "papermill": {
     "duration": 0.185447,
     "end_time": "2024-08-01T22:26:46.734781",
     "exception": false,
     "start_time": "2024-08-01T22:26:46.549334",
     "status": "completed"
    },
    "tags": []
   },
   "outputs": [
    {
     "output_type": "display_data",
     "data": {
      "text/html": [
       "<style scoped>\n",
       "  .ansiout {\n",
       "    display: block;\n",
       "    unicode-bidi: embed;\n",
       "    white-space: pre-wrap;\n",
       "    word-wrap: break-word;\n",
       "    word-break: break-all;\n",
       "    font-family: \"Menlo\", \"Monaco\", \"Consolas\", \"Ubuntu Mono\", \"Source Code Pro\", monospace;\n",
       "    font-size: 13px;\n",
       "    color: #555;\n",
       "    margin-left: 4px;\n",
       "    line-height: 19px;\n",
       "  }\n",
       "</style>\n",
       "<div class=\"ansiout\">Store-item pair with the highest total sales value:\n",
       "2      28      205677.0\n",
       "\n",
       "Store-item pair with the highest average sales value:\n",
       "2      28      112.638007\n",
       "\n",
       "Store-item pair with the most consistent sales values:\n",
       "7      5       4.73128\n",
       "</div>"
      ]
     },
     "metadata": {
      "application/vnd.databricks.v1+output": {
       "addedWidgets": {},
       "arguments": {},
       "data": "<div class=\"ansiout\">Store-item pair with the highest total sales value:\n2      28      205677.0\n\nStore-item pair with the highest average sales value:\n2      28      112.638007\n\nStore-item pair with the most consistent sales values:\n7      5       4.73128\n</div>",
       "datasetInfos": [],
       "metadata": {},
       "removedWidgets": [],
       "type": "html"
      }
     },
     "output_type": "display_data"
    }
   ],
   "source": [
    "# Function to provide a more comprehensive understanding of sales performance.\n",
    "#Total Sales: See which store-item combinations generate the highest overall revenue.\n",
    "#Average Sales: Understand typical sales performance for each combination.\n",
    "#Median Sales: Get a sense of the \"typical\" sale amount, less influenced by outliers.\n",
    "\n",
    "#Example Business Questions that can be answered:\n",
    "  #Which store-item pair has the highest total sales value?\n",
    "  #Which store-item pair has the highest average sales value?\n",
    "  #Which store-item pair has the most consistent sales values (i.e., lowest standard deviation)?\n",
    "\n",
    "def generate_detailed_sales_summary(df):\n",
    "    summary_df = df.groupby([\"store\", \"item\"]).agg({\"sales\": [\"sum\", \"mean\", \"median\", \"std\"]})\n",
    "    \n",
    "    # Find the store-item pair with the highest total sales value\n",
    "    highest_total_sales = summary_df['sales']['sum'].nlargest(1)\n",
    "    print(\"Store-item pair with the highest total sales value:\")\n",
    "    print(highest_total_sales.to_string(header=False))  # Use to_string() method\n",
    "  \n",
    "    # Find the store-item pair with the highest average sales value\n",
    "    highest_average_sales = summary_df['sales']['mean'].nlargest(1)\n",
    "    print(\"\\nStore-item pair with the highest average sales value:\")\n",
    "    print(highest_average_sales.to_string(header=False))\n",
    "    \n",
    "    # Find the store-item pair with the most consistent sales values (i.e., lowest standard deviation)\n",
    "    most_consistent_sales = summary_df['sales']['std'].nsmallest(1)\n",
    "    print(\"\\nStore-item pair with the most consistent sales values:\")\n",
    "    print(most_consistent_sales.to_string(header=False))\n",
    "\n",
    "#df.groupby([\"store\", \"item\"]).agg({\"sales\": [\"sum\", \"mean\", \"median\", \"std\"]})\n",
    "generate_detailed_sales_summary(df)"
   ]
  },
  {
   "cell_type": "markdown",
   "metadata": {
    "application/vnd.databricks.v1+cell": {
     "cellMetadata": {
      "byteLimit": 2048000,
      "rowLimit": 10000
     },
     "inputWidgets": {},
     "nuid": "e7a17ea8-c22c-4191-becf-180248e95f8f",
     "showTitle": false,
     "title": ""
    },
    "papermill": {
     "duration": 0.017834,
     "end_time": "2024-08-01T22:26:46.768390",
     "exception": false,
     "start_time": "2024-08-01T22:26:46.750556",
     "status": "completed"
    },
    "tags": []
   },
   "source": [
    "# 2) FEATURE ENGINEERING"
   ]
  },
  {
   "cell_type": "markdown",
   "metadata": {
    "application/vnd.databricks.v1+cell": {
     "cellMetadata": {
      "byteLimit": 2048000,
      "rowLimit": 10000
     },
     "inputWidgets": {},
     "nuid": "eaeb659b-cc4c-414c-96ee-89793f0e91b7",
     "showTitle": false,
     "title": ""
    },
    "papermill": {
     "duration": 0.020291,
     "end_time": "2024-08-01T22:26:46.808461",
     "exception": false,
     "start_time": "2024-08-01T22:26:46.788170",
     "status": "completed"
    },
    "tags": []
   },
   "source": [
    "## a) Date Features\n",
    "Since it will be used with tree-based methods, we created new features based on the date variable."
   ]
  },
  {
   "cell_type": "code",
   "execution_count": 0,
   "metadata": {
    "application/vnd.databricks.v1+cell": {
     "cellMetadata": {
      "byteLimit": 2048000,
      "rowLimit": 10000
     },
     "inputWidgets": {},
     "nuid": "0ebed2f0-fe39-4666-95d2-ad037cb9ffb0",
     "showTitle": false,
     "title": ""
    },
    "execution": {
     "iopub.execute_input": "2024-08-01T22:26:46.843711Z",
     "iopub.status.busy": "2024-08-01T22:26:46.842566Z",
     "iopub.status.idle": "2024-08-01T22:26:47.122974Z",
     "shell.execute_reply": "2024-08-01T22:26:47.121674Z"
    },
    "papermill": {
     "duration": 0.3023,
     "end_time": "2024-08-01T22:26:47.126198",
     "exception": false,
     "start_time": "2024-08-01T22:26:46.823898",
     "status": "completed"
    },
    "tags": []
   },
   "outputs": [
    {
     "output_type": "display_data",
     "data": {
      "text/html": [
       "<style scoped>\n",
       "  .ansiout {\n",
       "    display: block;\n",
       "    unicode-bidi: embed;\n",
       "    white-space: pre-wrap;\n",
       "    word-wrap: break-word;\n",
       "    word-break: break-all;\n",
       "    font-family: \"Menlo\", \"Monaco\", \"Consolas\", \"Ubuntu Mono\", \"Source Code Pro\", monospace;\n",
       "    font-size: 13px;\n",
       "    color: #555;\n",
       "    margin-left: 4px;\n",
       "    line-height: 19px;\n",
       "  }\n",
       "</style>\n",
       "<div class=\"ansiout\"></div>"
      ]
     },
     "metadata": {
      "application/vnd.databricks.v1+output": {
       "addedWidgets": {},
       "arguments": {},
       "data": "<div class=\"ansiout\"></div>",
       "datasetInfos": [],
       "metadata": {},
       "removedWidgets": [],
       "type": "html"
      }
     },
     "output_type": "display_data"
    }
   ],
   "source": [
    "def create_date_features(df):\n",
    "    df['month'] = df.date.dt.month\n",
    "    df['day_of_month'] = df.date.dt.day\n",
    "    df['day_of_year'] = df.date.dt.dayofyear\n",
    "    df['day_of_week'] = df.date.dt.dayofweek\n",
    "    df['year'] = df.date.dt.year\n",
    "    df[\"is_wknd\"] = df.date.dt.weekday // 4\n",
    "    df['is_month_start'] = df.date.dt.is_month_start.astype(int)\n",
    "    df['is_month_end'] = df.date.dt.is_month_end.astype(int)\n",
    "    return df\n",
    "\n",
    "df = create_date_features(df)\n"
   ]
  },
  {
   "cell_type": "code",
   "execution_count": 0,
   "metadata": {
    "application/vnd.databricks.v1+cell": {
     "cellMetadata": {
      "byteLimit": 2048000,
      "rowLimit": 10000
     },
     "inputWidgets": {},
     "nuid": "7bd2a68d-ecd1-4b2d-a4e4-6e8c12b2a913",
     "showTitle": false,
     "title": ""
    },
    "execution": {
     "iopub.execute_input": "2024-08-01T22:26:47.161204Z",
     "iopub.status.busy": "2024-08-01T22:26:47.159810Z",
     "iopub.status.idle": "2024-08-01T22:26:47.273699Z",
     "shell.execute_reply": "2024-08-01T22:26:47.272328Z"
    },
    "papermill": {
     "duration": 0.134524,
     "end_time": "2024-08-01T22:26:47.276452",
     "exception": false,
     "start_time": "2024-08-01T22:26:47.141928",
     "status": "completed"
    },
    "tags": []
   },
   "outputs": [
    {
     "output_type": "display_data",
     "data": {
      "image/png": "[encoded data removed]"
     },
     "metadata": {
      "application/vnd.databricks.v1+output": {
       "addedWidgets": {},
       "arguments": {},
       "data": "data:image/png;base64,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",
       "datasetInfos": [],
       "metadata": {
        "imageDimensions": {
         "height": 420,
         "width": 852
        }
       },
       "removedWidgets": [],
       "type": "image"
      },
      "image/png": {
       "height": 420,
       "width": 852
      }
     },
     "output_type": "display_data"
    }
   ],
   "source": [
    "#Average sales for each group.\n",
    "#df.groupby([\"store\", \"item\", \"month\"])[\"sales\"].mean().head(36)\n",
    "\n",
    "def plot_sales(df, plot_type=\"bar\", agg_level=\"month\", top_n=None):\n",
    "    \"\"\"\n",
    "    Plots average sales data, optionally showing the top N combinations.\n",
    "    \"\"\"\n",
    "    # Group by the specified level\n",
    "    if agg_level == \"month\":\n",
    "        sales_df = df.groupby(\"month\")[\"sales\"].mean().reset_index()\n",
    "        xlabel = \"Month\"\n",
    "    elif agg_level == \"store\":\n",
    "        sales_df = df.groupby(\"store\")[\"sales\"].mean().reset_index()\n",
    "        xlabel = \"Store\"\n",
    "    elif agg_level == \"item\":\n",
    "        sales_df = df.groupby(\"item\")[\"sales\"].mean().reset_index()\n",
    "        xlabel = \"Item\"\n",
    "    elif agg_level == \"store-item\":\n",
    "        sales_df = df.groupby([\"store\", \"item\"])[\"sales\"].mean().reset_index()\n",
    "        sales_df['store-item'] = sales_df['store'].astype(str) + '-' + sales_df['item'].astype(str)\n",
    "        xlabel = \"Store-Item Pair\"\n",
    "    else:\n",
    "        raise ValueError(\"Invalid aggregation level. Choose from: 'month', 'store', 'item', 'store-item'\")\n",
    "\n",
    "     # Filter out the aggregation levels with no sales\n",
    "    sales_df = sales_df[sales_df[\"sales\"] > 0]\n",
    "    # Sort the data by sales in descending order and select the top n combinations\n",
    "    if sales_df.shape[0] < top_n:\n",
    "        top_n = sales_df.shape[0]\n",
    "    sales_df = sales_df.sort_values(by=\"sales\", ascending=False).head(top_n)    \n",
    "\n",
    "    # Select top N combinations if top_n is specified\n",
    "    #if top_n is not None:\n",
    "    #    sales_df = sales_df.sort_values(by=\"sales\", ascending=False).head(top_n)\n",
    "\n",
    "    # Create the plot\n",
    "    plt.figure(figsize=(12, 6))\n",
    "    if plot_type == \"bar\":\n",
    "        if agg_level == \"store-item\":\n",
    "            plt.bar(sales_df['store-item'], sales_df[\"sales\"])\n",
    "        else:\n",
    "            plt.bar(sales_df[agg_level], sales_df[\"sales\"])\n",
    "    elif plot_type == \"line\":\n",
    "        if agg_level == \"store-item\":\n",
    "            plt.plot(sales_df['store-item'], sales_df[\"sales\"])\n",
    "        else:\n",
    "            plt.plot(sales_df[agg_level], sales_df[\"sales\"])\n",
    "    else:\n",
    "        raise ValueError(\"Invalid plot type. Choose from: 'bar', 'line'\")\n",
    "\n",
    "    plt.xlabel(xlabel)\n",
    "    plt.ylabel(\"Average Sales\")\n",
    "    plt.title(f\"Average Sales by {xlabel.title()} (Top {top_n})\" if top_n else f\"Average Sales by {xlabel.title()}\")\n",
    "    plt.xticks(rotation=90 if agg_level == \"store-item\" else 0) \n",
    "    plt.tight_layout()\n",
    "    plt.show()\n",
    "\n",
    "\n",
    "plot_sales(df, plot_type=\"bar\", agg_level=\"store-item\", top_n=5) # Show top 5 store-item combo\n"
   ]
  },
  {
   "cell_type": "markdown",
   "metadata": {
    "application/vnd.databricks.v1+cell": {
     "cellMetadata": {
      "byteLimit": 2048000,
      "rowLimit": 10000
     },
     "inputWidgets": {},
     "nuid": "f21321ee-41be-4d40-acc7-39a63f1bed6e",
     "showTitle": false,
     "title": ""
    },
    "papermill": {
     "duration": 0.015058,
     "end_time": "2024-08-01T22:26:47.339356",
     "exception": false,
     "start_time": "2024-08-01T22:26:47.324298",
     "status": "completed"
    },
    "tags": []
   },
   "source": [
    "\n",
    "## b) Random Noise\n",
    "\n",
    "Random noise should be added to evaluate the overall performance of the model and to prevent overfitting"
   ]
  },
  {
   "cell_type": "code",
   "execution_count": 0,
   "metadata": {
    "application/vnd.databricks.v1+cell": {
     "cellMetadata": {
      "byteLimit": 2048000,
      "rowLimit": 10000
     },
     "inputWidgets": {},
     "nuid": "ddf80b8c-84e9-4642-93b6-4bb7ea77b1c2",
     "showTitle": false,
     "title": ""
    },
    "execution": {
     "iopub.execute_input": "2024-08-01T22:26:47.373310Z",
     "iopub.status.busy": "2024-08-01T22:26:47.372521Z",
     "iopub.status.idle": "2024-08-01T22:26:47.379527Z",
     "shell.execute_reply": "2024-08-01T22:26:47.378238Z"
    },
    "papermill": {
     "duration": 0.027659,
     "end_time": "2024-08-01T22:26:47.382650",
     "exception": false,
     "start_time": "2024-08-01T22:26:47.354991",
     "status": "completed"
    },
    "tags": []
   },
   "outputs": [
    {
     "output_type": "display_data",
     "data": {
      "text/html": [
       "<style scoped>\n",
       "  .ansiout {\n",
       "    display: block;\n",
       "    unicode-bidi: embed;\n",
       "    white-space: pre-wrap;\n",
       "    word-wrap: break-word;\n",
       "    word-break: break-all;\n",
       "    font-family: \"Menlo\", \"Monaco\", \"Consolas\", \"Ubuntu Mono\", \"Source Code Pro\", monospace;\n",
       "    font-size: 13px;\n",
       "    color: #555;\n",
       "    margin-left: 4px;\n",
       "    line-height: 19px;\n",
       "  }\n",
       "</style>\n",
       "<div class=\"ansiout\"></div>"
      ]
     },
     "metadata": {
      "application/vnd.databricks.v1+output": {
       "addedWidgets": {},
       "arguments": {},
       "data": "<div class=\"ansiout\"></div>",
       "datasetInfos": [],
       "metadata": {},
       "removedWidgets": [],
       "type": "html"
      }
     },
     "output_type": "display_data"
    }
   ],
   "source": [
    "def random_noise(dataframe):\n",
    "    return np.random.normal(scale=1.6, size=(len(dataframe),))"
   ]
  },
  {
   "cell_type": "markdown",
   "metadata": {
    "application/vnd.databricks.v1+cell": {
     "cellMetadata": {
      "byteLimit": 2048000,
      "rowLimit": 10000
     },
     "inputWidgets": {},
     "nuid": "47a17401-597b-4652-8cfd-fe637c9dd257",
     "showTitle": false,
     "title": ""
    },
    "papermill": {
     "duration": 0.0156,
     "end_time": "2024-08-01T22:26:47.683144",
     "exception": false,
     "start_time": "2024-08-01T22:26:47.667544",
     "status": "completed"
    },
    "tags": []
   },
   "source": [
    "## c) Lag/Shifted Features\n",
    "\n",
    "The purpose of lag features is to use past data points to predict future values. They help the model learn patterns and dependencies over time, improving the accuracy of forecasts."
   ]
  },
  {
   "cell_type": "code",
   "execution_count": 0,
   "metadata": {
    "application/vnd.databricks.v1+cell": {
     "cellMetadata": {
      "byteLimit": 2048000,
      "rowLimit": 10000
     },
     "inputWidgets": {},
     "nuid": "b6dd4be5-48bd-4304-8175-bdd7bbfd9457",
     "showTitle": false,
     "title": ""
    },
    "execution": {
     "iopub.execute_input": "2024-08-01T22:26:47.717257Z",
     "iopub.status.busy": "2024-08-01T22:26:47.716807Z",
     "iopub.status.idle": "2024-08-01T22:26:50.059547Z",
     "shell.execute_reply": "2024-08-01T22:26:50.058225Z"
    },
    "papermill": {
     "duration": 2.3626,
     "end_time": "2024-08-01T22:26:50.062497",
     "exception": false,
     "start_time": "2024-08-01T22:26:47.699897",
     "status": "completed"
    },
    "tags": []
   },
   "outputs": [
    {
     "output_type": "display_data",
     "data": {
      "text/html": [
       "<style scoped>\n",
       "  .ansiout {\n",
       "    display: block;\n",
       "    unicode-bidi: embed;\n",
       "    white-space: pre-wrap;\n",
       "    word-wrap: break-word;\n",
       "    word-break: break-all;\n",
       "    font-family: \"Menlo\", \"Monaco\", \"Consolas\", \"Ubuntu Mono\", \"Source Code Pro\", monospace;\n",
       "    font-size: 13px;\n",
       "    color: #555;\n",
       "    margin-left: 4px;\n",
       "    line-height: 19px;\n",
       "  }\n",
       "</style>\n",
       "<div class=\"ansiout\"></div>"
      ]
     },
     "metadata": {
      "application/vnd.databricks.v1+output": {
       "addedWidgets": {},
       "arguments": {},
       "data": "<div class=\"ansiout\"></div>",
       "datasetInfos": [],
       "metadata": {},
       "removedWidgets": [],
       "type": "html"
      }
     },
     "output_type": "display_data"
    }
   ],
   "source": [
    "def lag_features(dataframe, lags):\n",
    "    for lag in lags:\n",
    "        dataframe['sales_lag_' + str(lag)] = dataframe.groupby([\"store\", \"item\"])['sales'].transform(\n",
    "            lambda x: x.shift(lag)) + random_noise(dataframe)\n",
    "    return dataframe\n",
    "\n",
    "df = lag_features(df, [91, 98, 105, 112, 119, 126, 182, 364, 546, 728])"
   ]
  },
  {
   "cell_type": "markdown",
   "metadata": {
    "application/vnd.databricks.v1+cell": {
     "cellMetadata": {
      "byteLimit": 2048000,
      "rowLimit": 10000
     },
     "inputWidgets": {},
     "nuid": "b4ba9677-9387-4dd6-9303-2d87763557c9",
     "showTitle": false,
     "title": ""
    },
    "papermill": {
     "duration": 0.017165,
     "end_time": "2024-08-01T22:26:50.096206",
     "exception": false,
     "start_time": "2024-08-01T22:26:50.079041",
     "status": "completed"
    },
    "tags": []
   },
   "source": [
    "## d) Rolling Mean Features\n",
    "Rolling mean features help to smooth out short-term fluctuations in time series data, making it easier to identify long-term trends and patterns."
   ]
  },
  {
   "cell_type": "code",
   "execution_count": 0,
   "metadata": {
    "application/vnd.databricks.v1+cell": {
     "cellMetadata": {
      "byteLimit": 2048000,
      "rowLimit": 10000
     },
     "inputWidgets": {},
     "nuid": "dba69064-8d8e-4878-8782-d0bbcb3479cd",
     "showTitle": false,
     "title": ""
    },
    "execution": {
     "iopub.execute_input": "2024-08-01T22:26:50.128601Z",
     "iopub.status.busy": "2024-08-01T22:26:50.128170Z",
     "iopub.status.idle": "2024-08-01T22:26:52.766324Z",
     "shell.execute_reply": "2024-08-01T22:26:52.764562Z"
    },
    "papermill": {
     "duration": 2.657877,
     "end_time": "2024-08-01T22:26:52.769454",
     "exception": false,
     "start_time": "2024-08-01T22:26:50.111577",
     "status": "completed"
    },
    "tags": []
   },
   "outputs": [
    {
     "output_type": "display_data",
     "data": {
      "text/html": [
       "<style scoped>\n",
       "  .ansiout {\n",
       "    display: block;\n",
       "    unicode-bidi: embed;\n",
       "    white-space: pre-wrap;\n",
       "    word-wrap: break-word;\n",
       "    word-break: break-all;\n",
       "    font-family: \"Menlo\", \"Monaco\", \"Consolas\", \"Ubuntu Mono\", \"Source Code Pro\", monospace;\n",
       "    font-size: 13px;\n",
       "    color: #555;\n",
       "    margin-left: 4px;\n",
       "    line-height: 19px;\n",
       "  }\n",
       "</style>\n",
       "<div class=\"ansiout\"></div>"
      ]
     },
     "metadata": {
      "application/vnd.databricks.v1+output": {
       "addedWidgets": {},
       "arguments": {},
       "data": "<div class=\"ansiout\"></div>",
       "datasetInfos": [],
       "metadata": {},
       "removedWidgets": [],
       "type": "html"
      }
     },
     "output_type": "display_data"
    }
   ],
   "source": [
    "def roll_mean_features(dataframe, windows):\n",
    "    for window in windows:\n",
    "        dataframe['sales_roll_mean_' + str(window)] = dataframe.groupby([\"store\", \"item\"])['sales']. \\\n",
    "                                                          transform(\n",
    "            lambda x: x.shift(1).rolling(window=window, min_periods=10, win_type=\"triang\").mean()) + random_noise(\n",
    "            dataframe)\n",
    "    return dataframe\n",
    "\n",
    "\n",
    "df = roll_mean_features(df, [365, 546])"
   ]
  },
  {
   "cell_type": "markdown",
   "metadata": {
    "application/vnd.databricks.v1+cell": {
     "cellMetadata": {
      "byteLimit": 2048000,
      "rowLimit": 10000
     },
     "inputWidgets": {},
     "nuid": "e02eb1df-33c4-4d36-b3ec-de17c7e36683",
     "showTitle": false,
     "title": ""
    },
    "papermill": {
     "duration": 0.015612,
     "end_time": "2024-08-01T22:26:52.799973",
     "exception": false,
     "start_time": "2024-08-01T22:26:52.784361",
     "status": "completed"
    },
    "tags": []
   },
   "source": [
    "## e) Exponentially Weighted Mean Features\n",
    "* __EWMA (Exponential Weighted Moving Average):__ Computes the weighted moving average of the data, where more recent data points receive higher weights.\n",
    "* __Lag Features:__ Use past data to calculate the EWMA of historical values, helping to understand the dynamics of the data over time.\n",
    "* __Alpha Parameter:__ Determines the weight given to past periods. Higher alpha values place more emphasis on recent data.\n"
   ]
  },
  {
   "cell_type": "code",
   "execution_count": 0,
   "metadata": {
    "application/vnd.databricks.v1+cell": {
     "cellMetadata": {
      "byteLimit": 2048000,
      "rowLimit": 10000
     },
     "inputWidgets": {},
     "nuid": "0204f274-dd28-46e5-891c-96cff3e42323",
     "showTitle": false,
     "title": ""
    },
    "execution": {
     "iopub.execute_input": "2024-08-01T22:26:52.834895Z",
     "iopub.status.busy": "2024-08-01T22:26:52.834456Z",
     "iopub.status.idle": "2024-08-01T22:27:06.910922Z",
     "shell.execute_reply": "2024-08-01T22:27:06.909433Z"
    },
    "papermill": {
     "duration": 14.096699,
     "end_time": "2024-08-01T22:27:06.914363",
     "exception": false,
     "start_time": "2024-08-01T22:26:52.817664",
     "status": "completed"
    },
    "tags": []
   },
   "outputs": [
    {
     "output_type": "display_data",
     "data": {
      "text/html": [
       "<style scoped>\n",
       "  .ansiout {\n",
       "    display: block;\n",
       "    unicode-bidi: embed;\n",
       "    white-space: pre-wrap;\n",
       "    word-wrap: break-word;\n",
       "    word-break: break-all;\n",
       "    font-family: \"Menlo\", \"Monaco\", \"Consolas\", \"Ubuntu Mono\", \"Source Code Pro\", monospace;\n",
       "    font-size: 13px;\n",
       "    color: #555;\n",
       "    margin-left: 4px;\n",
       "    line-height: 19px;\n",
       "  }\n",
       "</style>\n",
       "<div class=\"ansiout\"></div>"
      ]
     },
     "metadata": {
      "application/vnd.databricks.v1+output": {
       "addedWidgets": {},
       "arguments": {},
       "data": "<div class=\"ansiout\"></div>",
       "datasetInfos": [],
       "metadata": {},
       "removedWidgets": [],
       "type": "html"
      }
     },
     "output_type": "display_data"
    }
   ],
   "source": [
    "def ewm_features(dataframe, alphas, lags):\n",
    "    for alpha in alphas:\n",
    "        for lag in lags:\n",
    "            dataframe['sales_ewm_alpha_' + str(alpha).replace(\".\", \"\") + \"_lag_\" + str(lag)] = \\\n",
    "                dataframe.groupby([\"store\", \"item\"])['sales'].transform(lambda x: x.shift(lag).ewm(alpha=alpha).mean())\n",
    "    return dataframe\n",
    "\n",
    "alphas = [0.95, 0.9, 0.8, 0.7, 0.5]\n",
    "lags = [91, 98, 105, 112, 180, 270, 365, 546, 728]\n",
    "\n",
    "df = ewm_features(df, alphas, lags)"
   ]
  },
  {
   "cell_type": "markdown",
   "metadata": {
    "application/vnd.databricks.v1+cell": {
     "cellMetadata": {
      "byteLimit": 2048000,
      "rowLimit": 10000
     },
     "inputWidgets": {},
     "nuid": "b41e8ffa-22f3-47a4-a498-fd0ad3c6b5cf",
     "showTitle": false,
     "title": ""
    },
    "papermill": {
     "duration": 0.014835,
     "end_time": "2024-08-01T22:27:06.946059",
     "exception": false,
     "start_time": "2024-08-01T22:27:06.931224",
     "status": "completed"
    },
    "tags": []
   },
   "source": [
    "## f) One-Hot Encoding\n",
    "We performed one-hot encoding because, as observed in the data analysis, the sales amounts for each store and item vary. To help our model understand this better, we used one-hot encoding with get_dummies.\""
   ]
  },
  {
   "cell_type": "code",
   "execution_count": 0,
   "metadata": {
    "application/vnd.databricks.v1+cell": {
     "cellMetadata": {
      "byteLimit": 2048000,
      "rowLimit": 10000
     },
     "inputWidgets": {},
     "nuid": "28140306-4754-4893-ba35-8aa854f70dee",
     "showTitle": false,
     "title": ""
    },
    "execution": {
     "iopub.execute_input": "2024-08-01T22:27:06.978601Z",
     "iopub.status.busy": "2024-08-01T22:27:06.978181Z",
     "iopub.status.idle": "2024-08-01T22:27:08.255732Z",
     "shell.execute_reply": "2024-08-01T22:27:08.254437Z"
    },
    "papermill": {
     "duration": 1.298155,
     "end_time": "2024-08-01T22:27:08.259385",
     "exception": false,
     "start_time": "2024-08-01T22:27:06.961230",
     "status": "completed"
    },
    "tags": []
   },
   "outputs": [
    {
     "output_type": "display_data",
     "data": {
      "text/html": [
       "<style scoped>\n",
       "  .ansiout {\n",
       "    display: block;\n",
       "    unicode-bidi: embed;\n",
       "    white-space: pre-wrap;\n",
       "    word-wrap: break-word;\n",
       "    word-break: break-all;\n",
       "    font-family: \"Menlo\", \"Monaco\", \"Consolas\", \"Ubuntu Mono\", \"Source Code Pro\", monospace;\n",
       "    font-size: 13px;\n",
       "    color: #555;\n",
       "    margin-left: 4px;\n",
       "    line-height: 19px;\n",
       "  }\n",
       "</style>\n",
       "<div class=\"ansiout\"></div>"
      ]
     },
     "metadata": {
      "application/vnd.databricks.v1+output": {
       "addedWidgets": {},
       "arguments": {},
       "data": "<div class=\"ansiout\"></div>",
       "datasetInfos": [],
       "metadata": {},
       "removedWidgets": [],
       "type": "html"
      }
     },
     "output_type": "display_data"
    }
   ],
   "source": [
    "df = pd.get_dummies(df, columns=['store', 'item', 'day_of_week', 'month'])"
   ]
  },
  {
   "cell_type": "markdown",
   "metadata": {
    "application/vnd.databricks.v1+cell": {
     "cellMetadata": {
      "byteLimit": 2048000,
      "rowLimit": 10000
     },
     "inputWidgets": {},
     "nuid": "ec677cf0-bcac-4670-beda-6403c2850e9e",
     "showTitle": false,
     "title": ""
    },
    "papermill": {
     "duration": 0.01482,
     "end_time": "2024-08-01T22:27:08.290483",
     "exception": false,
     "start_time": "2024-08-01T22:27:08.275663",
     "status": "completed"
    },
    "tags": []
   },
   "source": [
    "## g) Converting sales to log(1+sales)\n",
    "We applied a logarithmic transformation using log(1+sales) to make the model run more efficiently."
   ]
  },
  {
   "cell_type": "code",
   "execution_count": 0,
   "metadata": {
    "application/vnd.databricks.v1+cell": {
     "cellMetadata": {
      "byteLimit": 2048000,
      "rowLimit": 10000
     },
     "inputWidgets": {},
     "nuid": "316a408c-625a-43f5-9be2-53cf69cb7c71",
     "showTitle": false,
     "title": ""
    },
    "execution": {
     "iopub.execute_input": "2024-08-01T22:27:08.324607Z",
     "iopub.status.busy": "2024-08-01T22:27:08.324204Z",
     "iopub.status.idle": "2024-08-01T22:27:08.349424Z",
     "shell.execute_reply": "2024-08-01T22:27:08.348207Z"
    },
    "papermill": {
     "duration": 0.044886,
     "end_time": "2024-08-01T22:27:08.352244",
     "exception": false,
     "start_time": "2024-08-01T22:27:08.307358",
     "status": "completed"
    },
    "tags": []
   },
   "outputs": [
    {
     "output_type": "display_data",
     "data": {
      "text/html": [
       "<style scoped>\n",
       "  .ansiout {\n",
       "    display: block;\n",
       "    unicode-bidi: embed;\n",
       "    white-space: pre-wrap;\n",
       "    word-wrap: break-word;\n",
       "    word-break: break-all;\n",
       "    font-family: \"Menlo\", \"Monaco\", \"Consolas\", \"Ubuntu Mono\", \"Source Code Pro\", monospace;\n",
       "    font-size: 13px;\n",
       "    color: #555;\n",
       "    margin-left: 4px;\n",
       "    line-height: 19px;\n",
       "  }\n",
       "</style>\n",
       "<div class=\"ansiout\"></div>"
      ]
     },
     "metadata": {
      "application/vnd.databricks.v1+output": {
       "addedWidgets": {},
       "arguments": {},
       "data": "<div class=\"ansiout\"></div>",
       "datasetInfos": [],
       "metadata": {},
       "removedWidgets": [],
       "type": "html"
      }
     },
     "output_type": "display_data"
    }
   ],
   "source": [
    "df['sales'] = np.log1p(df[\"sales\"].values)"
   ]
  },
  {
   "cell_type": "markdown",
   "metadata": {
    "application/vnd.databricks.v1+cell": {
     "cellMetadata": {
      "byteLimit": 2048000,
      "rowLimit": 10000
     },
     "inputWidgets": {},
     "nuid": "35649e24-5330-4b60-81db-655733a88e89",
     "showTitle": false,
     "title": ""
    },
    "papermill": {
     "duration": 0.014884,
     "end_time": "2024-08-01T22:27:08.382878",
     "exception": false,
     "start_time": "2024-08-01T22:27:08.367994",
     "status": "completed"
    },
    "tags": []
   },
   "source": [
    "# 3) MODEL\n",
    "## a) Custom Cost Function"
   ]
  },
  {
   "cell_type": "code",
   "execution_count": 0,
   "metadata": {
    "application/vnd.databricks.v1+cell": {
     "cellMetadata": {
      "byteLimit": 2048000,
      "rowLimit": 10000
     },
     "inputWidgets": {},
     "nuid": "9bc37618-f28c-4044-bdad-9705e6006b9f",
     "showTitle": false,
     "title": ""
    },
    "execution": {
     "iopub.execute_input": "2024-08-01T22:27:08.414769Z",
     "iopub.status.busy": "2024-08-01T22:27:08.414354Z",
     "iopub.status.idle": "2024-08-01T22:27:08.422669Z",
     "shell.execute_reply": "2024-08-01T22:27:08.421547Z"
    },
    "papermill": {
     "duration": 0.027068,
     "end_time": "2024-08-01T22:27:08.425023",
     "exception": false,
     "start_time": "2024-08-01T22:27:08.397955",
     "status": "completed"
    },
    "tags": []
   },
   "outputs": [
    {
     "output_type": "display_data",
     "data": {
      "text/html": [
       "<style scoped>\n",
       "  .ansiout {\n",
       "    display: block;\n",
       "    unicode-bidi: embed;\n",
       "    white-space: pre-wrap;\n",
       "    word-wrap: break-word;\n",
       "    word-break: break-all;\n",
       "    font-family: \"Menlo\", \"Monaco\", \"Consolas\", \"Ubuntu Mono\", \"Source Code Pro\", monospace;\n",
       "    font-size: 13px;\n",
       "    color: #555;\n",
       "    margin-left: 4px;\n",
       "    line-height: 19px;\n",
       "  }\n",
       "</style>\n",
       "<div class=\"ansiout\"></div>"
      ]
     },
     "metadata": {
      "application/vnd.databricks.v1+output": {
       "addedWidgets": {},
       "arguments": {},
       "data": "<div class=\"ansiout\"></div>",
       "datasetInfos": [],
       "metadata": {},
       "removedWidgets": [],
       "type": "html"
      }
     },
     "output_type": "display_data"
    }
   ],
   "source": [
    "# SMAPE: Symmetric mean absolute percentage error (adjusted MAPE)\n",
    "\n",
    "def smape(preds, target):\n",
    "    n = len(preds)\n",
    "    masked_arr = ~((preds == 0) & (target == 0))\n",
    "    preds, target = preds[masked_arr], target[masked_arr]\n",
    "    num = np.abs(preds - target)\n",
    "    denom = np.abs(preds) + np.abs(target)\n",
    "    smape_val = (200 * np.sum(num / denom)) / n\n",
    "    return smape_val\n",
    "\n",
    "\n",
    "def lgbm_smape(preds, train_data):\n",
    "    labels = train_data.get_label()\n",
    "    smape_val = smape(np.expm1(preds), np.expm1(labels))\n",
    "    return 'SMAPE', smape_val, False\n"
   ]
  },
  {
   "cell_type": "markdown",
   "metadata": {
    "application/vnd.databricks.v1+cell": {
     "cellMetadata": {
      "byteLimit": 2048000,
      "rowLimit": 10000
     },
     "inputWidgets": {},
     "nuid": "76e9c280-fd42-4c45-9f1b-99dee04db339",
     "showTitle": false,
     "title": ""
    },
    "papermill": {
     "duration": 0.015271,
     "end_time": "2024-08-01T22:27:08.455375",
     "exception": false,
     "start_time": "2024-08-01T22:27:08.440104",
     "status": "completed"
    },
    "tags": []
   },
   "source": [
    " ## b) Time-Based Validation Sets"
   ]
  },
  {
   "cell_type": "code",
   "execution_count": 0,
   "metadata": {
    "application/vnd.databricks.v1+cell": {
     "cellMetadata": {
      "byteLimit": 2048000,
      "rowLimit": 10000
     },
     "inputWidgets": {},
     "nuid": "4f61a47d-421b-40bc-af6d-89c3af3a27b6",
     "showTitle": false,
     "title": ""
    },
    "execution": {
     "iopub.execute_input": "2024-08-01T22:27:08.488810Z",
     "iopub.status.busy": "2024-08-01T22:27:08.488363Z",
     "iopub.status.idle": "2024-08-01T22:27:08.498462Z",
     "shell.execute_reply": "2024-08-01T22:27:08.497005Z"
    },
    "papermill": {
     "duration": 0.030552,
     "end_time": "2024-08-01T22:27:08.501192",
     "exception": false,
     "start_time": "2024-08-01T22:27:08.470640",
     "status": "completed"
    },
    "tags": []
   },
   "outputs": [
    {
     "output_type": "display_data",
     "data": {
      "text/html": [
       "<style scoped>\n",
       "  .ansiout {\n",
       "    display: block;\n",
       "    unicode-bidi: embed;\n",
       "    white-space: pre-wrap;\n",
       "    word-wrap: break-word;\n",
       "    word-break: break-all;\n",
       "    font-family: \"Menlo\", \"Monaco\", \"Consolas\", \"Ubuntu Mono\", \"Source Code Pro\", monospace;\n",
       "    font-size: 13px;\n",
       "    color: #555;\n",
       "    margin-left: 4px;\n",
       "    line-height: 19px;\n",
       "  }\n",
       "</style>\n",
       "<div class=\"ansiout\">Out[103]: (Timestamp(&#39;2018-03-31 00:00:00&#39;), Timestamp(&#39;2018-01-01 00:00:00&#39;))</div>"
      ]
     },
     "metadata": {
      "application/vnd.databricks.v1+output": {
       "addedWidgets": {},
       "arguments": {},
       "data": "<div class=\"ansiout\">Out[103]: (Timestamp(&#39;2018-03-31 00:00:00&#39;), Timestamp(&#39;2018-01-01 00:00:00&#39;))</div>",
       "datasetInfos": [],
       "metadata": {},
       "removedWidgets": [],
       "type": "html"
      }
     },
     "output_type": "display_data"
    }
   ],
   "source": [
    "test.date.max(), test.date.min()"
   ]
  },
  {
   "cell_type": "markdown",
   "metadata": {
    "application/vnd.databricks.v1+cell": {
     "cellMetadata": {
      "byteLimit": 2048000,
      "rowLimit": 10000
     },
     "inputWidgets": {},
     "nuid": "2960aac0-5533-45ae-8b2d-9d880752bccb",
     "showTitle": false,
     "title": ""
    },
    "papermill": {
     "duration": 0.015349,
     "end_time": "2024-08-01T22:27:08.531994",
     "exception": false,
     "start_time": "2024-08-01T22:27:08.516645",
     "status": "completed"
    },
    "tags": []
   },
   "source": [
    "We selected the validation set within the range from January 1, 2017, to March 31, 2017, to best represent the time period we want to predict with our model, which covers from January 1, 2018, to March 31, 2018."
   ]
  },
  {
   "cell_type": "code",
   "execution_count": 0,
   "metadata": {
    "application/vnd.databricks.v1+cell": {
     "cellMetadata": {
      "byteLimit": 2048000,
      "rowLimit": 10000
     },
     "inputWidgets": {},
     "nuid": "4c7f03f9-5436-4fed-83dc-f9d062e969e4",
     "showTitle": false,
     "title": ""
    },
    "execution": {
     "iopub.execute_input": "2024-08-01T22:27:08.564491Z",
     "iopub.status.busy": "2024-08-01T22:27:08.564065Z",
     "iopub.status.idle": "2024-08-01T22:27:08.908156Z",
     "shell.execute_reply": "2024-08-01T22:27:08.906873Z"
    },
    "papermill": {
     "duration": 0.36402,
     "end_time": "2024-08-01T22:27:08.911328",
     "exception": false,
     "start_time": "2024-08-01T22:27:08.547308",
     "status": "completed"
    },
    "tags": []
   },
   "outputs": [
    {
     "output_type": "display_data",
     "data": {
      "text/html": [
       "<style scoped>\n",
       "  .ansiout {\n",
       "    display: block;\n",
       "    unicode-bidi: embed;\n",
       "    white-space: pre-wrap;\n",
       "    word-wrap: break-word;\n",
       "    word-break: break-all;\n",
       "    font-family: \"Menlo\", \"Monaco\", \"Consolas\", \"Ubuntu Mono\", \"Source Code Pro\", monospace;\n",
       "    font-size: 13px;\n",
       "    color: #555;\n",
       "    margin-left: 4px;\n",
       "    line-height: 19px;\n",
       "  }\n",
       "</style>\n",
       "<div class=\"ansiout\">Out[104]: ((730500,), (730500, 141), (45000,), (45000, 141))</div>"
      ]
     },
     "metadata": {
      "application/vnd.databricks.v1+output": {
       "addedWidgets": {},
       "arguments": {},
       "data": "<div class=\"ansiout\">Out[104]: ((730500,), (730500, 141), (45000,), (45000, 141))</div>",
       "datasetInfos": [],
       "metadata": {},
       "removedWidgets": [],
       "type": "html"
      }
     },
     "output_type": "display_data"
    }
   ],
   "source": [
    "# Train set: Data up to the beginning of 2017 (end of 2016).\n",
    "train = df.loc[(df[\"date\"] < \"2017-01-01\"), :]\n",
    "\n",
    "# Validation set: The first 3 months of 2017.\n",
    "val = df.loc[(df[\"date\"] >= \"2017-01-01\") & (df[\"date\"] < \"2017-04-01\"), :]\n",
    "\n",
    "# Selecting features and target variables\n",
    "cols = [col for col in train.columns if col not in ['date', 'id', 'sales', 'year']]\n",
    "\n",
    "Y_train = train['sales']  # Target variable for the training set\n",
    "X_train = train[cols]     # Feature variables for the training set\n",
    "\n",
    "Y_val = val['sales']      # Target variable for the validation set\n",
    "X_val = val[cols]         # Feature variables for the validation set\n",
    "\n",
    "# Display the shapes of the target and feature variables for both training and validation sets\n",
    "Y_train.shape, X_train.shape, Y_val.shape, X_val.shape"
   ]
  },
  {
   "cell_type": "markdown",
   "metadata": {
    "application/vnd.databricks.v1+cell": {
     "cellMetadata": {
      "byteLimit": 2048000,
      "rowLimit": 10000
     },
     "inputWidgets": {},
     "nuid": "20b212a5-49ae-44d6-a023-9c2622e2f8fc",
     "showTitle": false,
     "title": ""
    },
    "papermill": {
     "duration": 0.016009,
     "end_time": "2024-08-01T22:27:08.942788",
     "exception": false,
     "start_time": "2024-08-01T22:27:08.926779",
     "status": "completed"
    },
    "tags": []
   },
   "source": [
    "## c) Time Series Model Using LightGBM\n",
    "\n",
    "First, hyperparameters were optimized using Random Search CV, followed by Grid Search CV to find the best hyperparameters."
   ]
  },
  {
   "cell_type": "code",
   "execution_count": 0,
   "metadata": {
    "application/vnd.databricks.v1+cell": {
     "cellMetadata": {
      "byteLimit": 2048000,
      "rowLimit": 10000
     },
     "inputWidgets": {},
     "nuid": "d7fc355b-133c-4192-9538-31e2af8b0e63",
     "showTitle": false,
     "title": ""
    },
    "execution": {
     "iopub.execute_input": "2024-08-01T22:27:08.975500Z",
     "iopub.status.busy": "2024-08-01T22:27:08.975075Z",
     "iopub.status.idle": "2024-08-01T22:28:56.363278Z",
     "shell.execute_reply": "2024-08-01T22:28:56.362104Z"
    },
    "papermill": {
     "duration": 107.408082,
     "end_time": "2024-08-01T22:28:56.366202",
     "exception": false,
     "start_time": "2024-08-01T22:27:08.958120",
     "status": "completed"
    },
    "tags": []
   },
   "outputs": [
    {
     "output_type": "display_data",
     "data": {
      "text/html": [
       "<style scoped>\n",
       "  .ansiout {\n",
       "    display: block;\n",
       "    unicode-bidi: embed;\n",
       "    white-space: pre-wrap;\n",
       "    word-wrap: break-word;\n",
       "    word-break: break-all;\n",
       "    font-family: \"Menlo\", \"Monaco\", \"Consolas\", \"Ubuntu Mono\", \"Source Code Pro\", monospace;\n",
       "    font-size: 13px;\n",
       "    color: #555;\n",
       "    margin-left: 4px;\n",
       "    line-height: 19px;\n",
       "  }\n",
       "</style>\n",
       "<div class=\"ansiout\">[LightGBM] [Warning] Auto-choosing col-wise multi-threading, the overhead of testing was 0.072876 seconds.\n",
       "You can set `force_col_wise=true` to remove the overhead.\n",
       "Training until validation scores don&#39;t improve for 200 rounds\n",
       "</div>"
      ]
     },
     "metadata": {
      "application/vnd.databricks.v1+output": {
       "addedWidgets": {},
       "arguments": {},
       "data": "<div class=\"ansiout\">[LightGBM] [Warning] Auto-choosing col-wise multi-threading, the overhead of testing was 0.072876 seconds.\nYou can set `force_col_wise=true` to remove the overhead.\nTraining until validation scores don&#39;t improve for 200 rounds\n</div>",
       "datasetInfos": [],
       "metadata": {},
       "removedWidgets": [],
       "type": "html"
      }
     },
     "output_type": "display_data"
    }
   ],
   "source": [
    "# LightGBM parameters\n",
    "lgb_params = {'num_leaves': 10,\n",
    "              'learning_rate': 0.02,\n",
    "              'feature_fraction': 0.8,\n",
    "              'max_depth': 5,\n",
    "              'verbose': 0,\n",
    "              'num_boost_round': 1000,\n",
    "              'early_stopping_rounds': 200,\n",
    "              'nthread': -1}\n",
    "\n",
    "lgbtrain = lgb.Dataset(data=X_train, label=Y_train, feature_name=cols)\n",
    "\n",
    "lgbval = lgb.Dataset(data=X_val, label=Y_val, reference=lgbtrain, feature_name=cols)\n",
    "\n",
    "# Train the model\n",
    "model = lgb.train(\n",
    "    lgb_params, \n",
    "    lgbtrain,\n",
    "    valid_sets=[lgbtrain, lgbval],\n",
    "    callbacks=[lgb.early_stopping(lgb_params['early_stopping_rounds'])]\n",
    ")"
   ]
  },
  {
   "cell_type": "code",
   "execution_count": 0,
   "metadata": {
    "application/vnd.databricks.v1+cell": {
     "cellMetadata": {
      "byteLimit": 2048000,
      "rowLimit": 10000
     },
     "inputWidgets": {},
     "nuid": "5683d315-ec66-4238-be4b-39c6dca7be14",
     "showTitle": false,
     "title": ""
    },
    "execution": {
     "iopub.execute_input": "2024-08-01T22:28:56.468865Z",
     "iopub.status.busy": "2024-08-01T22:28:56.467826Z",
     "iopub.status.idle": "2024-08-01T22:28:57.336771Z",
     "shell.execute_reply": "2024-08-01T22:28:57.335486Z"
    },
    "papermill": {
     "duration": 0.888907,
     "end_time": "2024-08-01T22:28:57.339638",
     "exception": false,
     "start_time": "2024-08-01T22:28:56.450731",
     "status": "completed"
    },
    "tags": []
   },
   "outputs": [
    {
     "output_type": "display_data",
     "data": {
      "text/html": [
       "<style scoped>\n",
       "  .ansiout {\n",
       "    display: block;\n",
       "    unicode-bidi: embed;\n",
       "    white-space: pre-wrap;\n",
       "    word-wrap: break-word;\n",
       "    word-break: break-all;\n",
       "    font-family: \"Menlo\", \"Monaco\", \"Consolas\", \"Ubuntu Mono\", \"Source Code Pro\", monospace;\n",
       "    font-size: 13px;\n",
       "    color: #555;\n",
       "    margin-left: 4px;\n",
       "    line-height: 19px;\n",
       "  }\n",
       "</style>\n",
       "<div class=\"ansiout\">Out[106]: 13.83211807209558</div>"
      ]
     },
     "metadata": {
      "application/vnd.databricks.v1+output": {
       "addedWidgets": {},
       "arguments": {},
       "data": "<div class=\"ansiout\">Out[106]: 13.83211807209558</div>",
       "datasetInfos": [],
       "metadata": {},
       "removedWidgets": [],
       "type": "html"
      }
     },
     "output_type": "display_data"
    }
   ],
   "source": [
    "y_pred_val = model.predict(X_val, num_iteration=model.best_iteration)\n",
    "\n",
    "smape(np.expm1(y_pred_val), np.expm1(Y_val))"
   ]
  },
  {
   "cell_type": "markdown",
   "metadata": {
    "application/vnd.databricks.v1+cell": {
     "cellMetadata": {
      "byteLimit": 2048000,
      "rowLimit": 10000
     },
     "inputWidgets": {},
     "nuid": "0a8eedf4-d505-4f44-b510-a09160bfb788",
     "showTitle": false,
     "title": ""
    },
    "papermill": {
     "duration": 0.015519,
     "end_time": "2024-08-01T22:28:57.371193",
     "exception": false,
     "start_time": "2024-08-01T22:28:57.355674",
     "status": "completed"
    },
    "tags": []
   },
   "source": [
    "## d) Feature Importance"
   ]
  },
  {
   "cell_type": "code",
   "execution_count": 0,
   "metadata": {
    "application/vnd.databricks.v1+cell": {
     "cellMetadata": {
      "byteLimit": 2048000,
      "rowLimit": 10000
     },
     "inputWidgets": {},
     "nuid": "118ba204-cfa1-4bb6-94ca-7bba7d298821",
     "showTitle": false,
     "title": ""
    },
    "execution": {
     "iopub.execute_input": "2024-08-01T22:28:57.406733Z",
     "iopub.status.busy": "2024-08-01T22:28:57.405667Z",
     "iopub.status.idle": "2024-08-01T22:28:58.137201Z",
     "shell.execute_reply": "2024-08-01T22:28:58.135963Z"
    },
    "papermill": {
     "duration": 0.753893,
     "end_time": "2024-08-01T22:28:58.142274",
     "exception": false,
     "start_time": "2024-08-01T22:28:57.388381",
     "status": "completed"
    },
    "tags": []
   },
   "outputs": [
    {
     "output_type": "display_data",
     "data": {
      "text/html": [
       "<style scoped>\n",
       "  .ansiout {\n",
       "    display: block;\n",
       "    unicode-bidi: embed;\n",
       "    white-space: pre-wrap;\n",
       "    word-wrap: break-word;\n",
       "    word-break: break-all;\n",
       "    font-family: \"Menlo\", \"Monaco\", \"Consolas\", \"Ubuntu Mono\", \"Source Code Pro\", monospace;\n",
       "    font-size: 13px;\n",
       "    color: #555;\n",
       "    margin-left: 4px;\n",
       "    line-height: 19px;\n",
       "  }\n",
       "</style>\n",
       "<div class=\"ansiout\">                        feature  split       gain\n",
       "16          sales_roll_mean_546    951  58.095440\n",
       "12                sales_lag_364   1246  12.875756\n",
       "15          sales_roll_mean_365    644   8.526995\n",
       "59   sales_ewm_alpha_05_lag_365    372   4.625566\n",
       "1                   day_of_year   1007   2.987856\n",
       "..                          ...    ...        ...\n",
       "106                     item_35      0   0.000000\n",
       "65                      store_4      0   0.000000\n",
       "114                     item_43      0   0.000000\n",
       "73                       item_2      0   0.000000\n",
       "70                      store_9      0   0.000000\n",
       "\n",
       "[141 rows x 3 columns]\n",
       "</div>"
      ]
     },
     "metadata": {
      "application/vnd.databricks.v1+output": {
       "addedWidgets": {},
       "arguments": {},
       "data": "<div class=\"ansiout\">                        feature  split       gain\n16          sales_roll_mean_546    951  58.095440\n12                sales_lag_364   1246  12.875756\n15          sales_roll_mean_365    644   8.526995\n59   sales_ewm_alpha_05_lag_365    372   4.625566\n1                   day_of_year   1007   2.987856\n..                          ...    ...        ...\n106                     item_35      0   0.000000\n65                      store_4      0   0.000000\n114                     item_43      0   0.000000\n73                       item_2      0   0.000000\n70                      store_9      0   0.000000\n\n[141 rows x 3 columns]\n</div>",
       "datasetInfos": [],
       "metadata": {},
       "removedWidgets": [],
       "type": "html"
      }
     },
     "output_type": "display_data"
    },
    {
     "output_type": "display_data",
     "data": {
      "image/png": "[encoded data removed]"
     },
     "metadata": {
      "application/vnd.databricks.v1+output": {
       "addedWidgets": {},
       "arguments": {},
       "data": "data:image/png;base64,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",
       "datasetInfos": [],
       "metadata": {
        "imageDimensions": {
         "height": 708,
         "width": 708
        }
       },
       "removedWidgets": [],
       "type": "image"
      },
      "image/png": {
       "height": 708,
       "width": 708
      }
     },
     "output_type": "display_data"
    },
    {
     "output_type": "display_data",
     "data": {
      "text/html": [
       "<style scoped>\n",
       "  .ansiout {\n",
       "    display: block;\n",
       "    unicode-bidi: embed;\n",
       "    white-space: pre-wrap;\n",
       "    word-wrap: break-word;\n",
       "    word-break: break-all;\n",
       "    font-family: \"Menlo\", \"Monaco\", \"Consolas\", \"Ubuntu Mono\", \"Source Code Pro\", monospace;\n",
       "    font-size: 13px;\n",
       "    color: #555;\n",
       "    margin-left: 4px;\n",
       "    line-height: 19px;\n",
       "  }\n",
       "</style>\n",
       "<div class=\"ansiout\">                        feature  split       gain\n",
       "16          sales_roll_mean_546    951  58.095440\n",
       "12                sales_lag_364   1246  12.875756\n",
       "15          sales_roll_mean_365    644   8.526995\n",
       "59   sales_ewm_alpha_05_lag_365    372   4.625566\n",
       "1                   day_of_year   1007   2.987856\n",
       "..                          ...    ...        ...\n",
       "106                     item_35      0   0.000000\n",
       "65                      store_4      0   0.000000\n",
       "114                     item_43      0   0.000000\n",
       "73                       item_2      0   0.000000\n",
       "70                      store_9      0   0.000000\n",
       "\n",
       "[141 rows x 3 columns]\n",
       "Out[107]: 112</div>"
      ]
     },
     "metadata": {
      "application/vnd.databricks.v1+output": {
       "addedWidgets": {},
       "arguments": {},
       "data": "<div class=\"ansiout\">                        feature  split       gain\n16          sales_roll_mean_546    951  58.095440\n12                sales_lag_364   1246  12.875756\n15          sales_roll_mean_365    644   8.526995\n59   sales_ewm_alpha_05_lag_365    372   4.625566\n1                   day_of_year   1007   2.987856\n..                          ...    ...        ...\n106                     item_35      0   0.000000\n65                      store_4      0   0.000000\n114                     item_43      0   0.000000\n73                       item_2      0   0.000000\n70                      store_9      0   0.000000\n\n[141 rows x 3 columns]\nOut[107]: 112</div>",
       "datasetInfos": [],
       "metadata": {},
       "removedWidgets": [],
       "type": "html"
      }
     },
     "output_type": "display_data"
    }
   ],
   "source": [
    "def plot_lgb_importances(model, plot=False, num=10):\n",
    "    gain = model.feature_importance('gain')\n",
    "    feat_imp = pd.DataFrame({'feature': model.feature_name(),\n",
    "                             'split': model.feature_importance('split'),\n",
    "                             'gain': 100 * gain / gain.sum()}).sort_values('gain', ascending=False)\n",
    "    if plot:\n",
    "        plt.figure(figsize=(10, 10))\n",
    "        sns.set(font_scale=1)\n",
    "        sns.barplot(x=\"gain\", y=\"feature\", data=feat_imp[0:25])\n",
    "        plt.title('Feature Importance')\n",
    "        plt.tight_layout()\n",
    "        plt.show()\n",
    "    else:\n",
    "        print(feat_imp.head(num))\n",
    "    return feat_imp\n",
    "\n",
    "# Plot the top 200 feature importances and display the top 30 features\n",
    "plot_lgb_importances(model, num=200)\n",
    "plot_lgb_importances(model, num=30, plot=True)\n",
    "\n",
    "# Get the feature importances\n",
    "feat_imp = plot_lgb_importances(model, num=200)\n",
    "\n",
    "# Identify features with zero importance\n",
    "importance_zero = feat_imp[feat_imp[\"gain\"] == 0][\"feature\"].values\n",
    "\n",
    "# Filter out features with zero importance\n",
    "imp_feats = [col for col in cols if col not in importance_zero]\n",
    "len(imp_feats)"
   ]
  },
  {
   "cell_type": "markdown",
   "metadata": {
    "application/vnd.databricks.v1+cell": {
     "cellMetadata": {
      "byteLimit": 2048000,
      "rowLimit": 10000
     },
     "inputWidgets": {},
     "nuid": "4d46000d-b562-439e-8b39-9494b81c17b1",
     "showTitle": false,
     "title": ""
    },
    "papermill": {
     "duration": 0.017578,
     "end_time": "2024-08-01T22:28:58.177792",
     "exception": false,
     "start_time": "2024-08-01T22:28:58.160214",
     "status": "completed"
    },
    "tags": []
   },
   "source": [
    "When examining feature importance, it is evident that the features created during feature engineering have a significant impact on the model."
   ]
  },
  {
   "cell_type": "markdown",
   "metadata": {
    "application/vnd.databricks.v1+cell": {
     "cellMetadata": {
      "byteLimit": 2048000,
      "rowLimit": 10000
     },
     "inputWidgets": {},
     "nuid": "cd165509-2d9c-4b12-b14e-0f356e092ce3",
     "showTitle": false,
     "title": ""
    },
    "papermill": {
     "duration": 0.01786,
     "end_time": "2024-08-01T22:28:58.213355",
     "exception": false,
     "start_time": "2024-08-01T22:28:58.195495",
     "status": "completed"
    },
    "tags": []
   },
   "source": [
    "# 4) FINAL MODEL\n"
   ]
  },
  {
   "cell_type": "code",
   "execution_count": 0,
   "metadata": {
    "application/vnd.databricks.v1+cell": {
     "cellMetadata": {
      "byteLimit": 2048000,
      "rowLimit": 10000
     },
     "inputWidgets": {},
     "nuid": "140ad1cc-a8a9-4168-8a80-b1dfcb14b57b",
     "showTitle": false,
     "title": ""
    },
    "execution": {
     "iopub.execute_input": "2024-08-01T22:28:58.252827Z",
     "iopub.status.busy": "2024-08-01T22:28:58.252380Z",
     "iopub.status.idle": "2024-08-01T22:31:06.948497Z",
     "shell.execute_reply": "2024-08-01T22:31:06.946999Z"
    },
    "papermill": {
     "duration": 128.719869,
     "end_time": "2024-08-01T22:31:06.951733",
     "exception": false,
     "start_time": "2024-08-01T22:28:58.231864",
     "status": "completed"
    },
    "tags": []
   },
   "outputs": [
    {
     "output_type": "display_data",
     "data": {
      "text/html": [
       "<style scoped>\n",
       "  .ansiout {\n",
       "    display: block;\n",
       "    unicode-bidi: embed;\n",
       "    white-space: pre-wrap;\n",
       "    word-wrap: break-word;\n",
       "    word-break: break-all;\n",
       "    font-family: \"Menlo\", \"Monaco\", \"Consolas\", \"Ubuntu Mono\", \"Source Code Pro\", monospace;\n",
       "    font-size: 13px;\n",
       "    color: #555;\n",
       "    margin-left: 4px;\n",
       "    line-height: 19px;\n",
       "  }\n",
       "</style>\n",
       "<div class=\"ansiout\">[LightGBM] [Warning] Auto-choosing row-wise multi-threading, the overhead of testing was 0.018679 seconds.\n",
       "You can set `force_row_wise=true` to remove the overhead.\n",
       "And if memory is not enough, you can set `force_col_wise=true`.\n",
       "</div>"
      ]
     },
     "metadata": {
      "application/vnd.databricks.v1+output": {
       "addedWidgets": {},
       "arguments": {},
       "data": "<div class=\"ansiout\">[LightGBM] [Warning] Auto-choosing row-wise multi-threading, the overhead of testing was 0.018679 seconds.\nYou can set `force_row_wise=true` to remove the overhead.\nAnd if memory is not enough, you can set `force_col_wise=true`.\n</div>",
       "datasetInfos": [],
       "metadata": {},
       "removedWidgets": [],
       "type": "html"
      }
     },
     "output_type": "display_data"
    }
   ],
   "source": [
    "train = df.loc[~df.sales.isna()]\n",
    "Y_train = train['sales']\n",
    "X_train = train[cols]\n",
    "\n",
    "\n",
    "test = df.loc[df.sales.isna()]\n",
    "X_test = test[cols]\n",
    "\n",
    "lgb_params = {'num_leaves': 10,\n",
    "              'learning_rate': 0.02,\n",
    "              'feature_fraction': 0.8,\n",
    "              'max_depth': 5,\n",
    "              'verbose': 0,\n",
    "              'nthread': -1,\n",
    "              \"num_boost_round\": model.best_iteration}\n",
    "\n",
    "lgbtrain_all = lgb.Dataset(data=X_train, label=Y_train, feature_name=cols)\n",
    "\n",
    "final_model = lgb.train(lgb_params, lgbtrain_all, num_boost_round=model.best_iteration)\n",
    "\n",
    "\n",
    "\n",
    "test_preds = final_model.predict(X_test, num_iteration=model.best_iteration)"
   ]
  },
  {
   "cell_type": "markdown",
   "metadata": {
    "application/vnd.databricks.v1+cell": {
     "cellMetadata": {
      "byteLimit": 2048000,
      "rowLimit": 10000
     },
     "inputWidgets": {},
     "nuid": "11453d41-8e96-4391-a102-a924ccb5ec13",
     "showTitle": false,
     "title": ""
    },
    "papermill": {
     "duration": 0.01766,
     "end_time": "2024-08-01T22:31:06.987804",
     "exception": false,
     "start_time": "2024-08-01T22:31:06.970144",
     "status": "completed"
    },
    "tags": []
   },
   "source": [
    "### Submission File"
   ]
  },
  {
   "cell_type": "code",
   "execution_count": 0,
   "metadata": {
    "application/vnd.databricks.v1+cell": {
     "cellMetadata": {
      "byteLimit": 2048000,
      "rowLimit": 10000
     },
     "inputWidgets": {},
     "nuid": "ce6689e5-2127-4ec4-baa5-5eaaf9ceb20b",
     "showTitle": false,
     "title": ""
    },
    "execution": {
     "iopub.execute_input": "2024-08-01T22:31:07.027852Z",
     "iopub.status.busy": "2024-08-01T22:31:07.027406Z",
     "iopub.status.idle": "2024-08-01T22:31:07.184799Z",
     "shell.execute_reply": "2024-08-01T22:31:07.183744Z"
    },
    "papermill": {
     "duration": 0.180538,
     "end_time": "2024-08-01T22:31:07.187632",
     "exception": false,
     "start_time": "2024-08-01T22:31:07.007094",
     "status": "completed"
    },
    "tags": []
   },
   "outputs": [
    {
     "output_type": "display_data",
     "data": {
      "text/html": [
       "<style scoped>\n",
       "  .ansiout {\n",
       "    display: block;\n",
       "    unicode-bidi: embed;\n",
       "    white-space: pre-wrap;\n",
       "    word-wrap: break-word;\n",
       "    word-break: break-all;\n",
       "    font-family: \"Menlo\", \"Monaco\", \"Consolas\", \"Ubuntu Mono\", \"Source Code Pro\", monospace;\n",
       "    font-size: 13px;\n",
       "    color: #555;\n",
       "    margin-left: 4px;\n",
       "    line-height: 19px;\n",
       "  }\n",
       "</style>\n",
       "<div class=\"ansiout\">Out[109]: </div>"
      ]
     },
     "metadata": {
      "application/vnd.databricks.v1+output": {
       "addedWidgets": {},
       "arguments": {},
       "data": "<div class=\"ansiout\">Out[109]: </div>",
       "datasetInfos": [],
       "metadata": {},
       "removedWidgets": [],
       "type": "html"
      }
     },
     "output_type": "display_data"
    },
    {
     "output_type": "display_data",
     "data": {
      "text/html": [
       "<div>\n",
       "<style scoped>\n",
       "    .dataframe tbody tr th:only-of-type {\n",
       "        vertical-align: middle;\n",
       "    }\n",
       "\n",
       "    .dataframe tbody tr th {\n",
       "        vertical-align: top;\n",
       "    }\n",
       "\n",
       "    .dataframe thead th {\n",
       "        text-align: right;\n",
       "    }\n",
       "</style>\n",
       "<table border=\"1\" class=\"dataframe\">\n",
       "  <thead>\n",
       "    <tr style=\"text-align: right;\">\n",
       "      <th></th>\n",
       "      <th>id</th>\n",
       "      <th>sales</th>\n",
       "    </tr>\n",
       "  </thead>\n",
       "  <tbody>\n",
       "    <tr>\n",
       "      <th>0</th>\n",
       "      <td>0</td>\n",
       "      <td>12.796675</td>\n",
       "    </tr>\n",
       "    <tr>\n",
       "      <th>1</th>\n",
       "      <td>1</td>\n",
       "      <td>13.828870</td>\n",
       "    </tr>\n",
       "    <tr>\n",
       "      <th>2</th>\n",
       "      <td>2</td>\n",
       "      <td>15.008808</td>\n",
       "    </tr>\n",
       "    <tr>\n",
       "      <th>3</th>\n",
       "      <td>3</td>\n",
       "      <td>15.303660</td>\n",
       "    </tr>\n",
       "    <tr>\n",
       "      <th>4</th>\n",
       "      <td>4</td>\n",
       "      <td>18.060158</td>\n",
       "    </tr>\n",
       "    <tr>\n",
       "      <th>...</th>\n",
       "      <td>...</td>\n",
       "      <td>...</td>\n",
       "    </tr>\n",
       "    <tr>\n",
       "      <th>44995</th>\n",
       "      <td>44995</td>\n",
       "      <td>70.664964</td>\n",
       "    </tr>\n",
       "    <tr>\n",
       "      <th>44996</th>\n",
       "      <td>44996</td>\n",
       "      <td>74.006835</td>\n",
       "    </tr>\n",
       "    <tr>\n",
       "      <th>44997</th>\n",
       "      <td>44997</td>\n",
       "      <td>78.301770</td>\n",
       "    </tr>\n",
       "    <tr>\n",
       "      <th>44998</th>\n",
       "      <td>44998</td>\n",
       "      <td>80.363707</td>\n",
       "    </tr>\n",
       "    <tr>\n",
       "      <th>44999</th>\n",
       "      <td>44999</td>\n",
       "      <td>87.074659</td>\n",
       "    </tr>\n",
       "  </tbody>\n",
       "</table>\n",
       "<p>45000 rows × 2 columns</p>\n",
       "</div>"
      ]
     },
     "metadata": {
      "application/vnd.databricks.v1+output": {
       "addedWidgets": {},
       "arguments": {},
       "data": "<div>\n<style scoped>\n    .dataframe tbody tr th:only-of-type {\n        vertical-align: middle;\n    }\n\n    .dataframe tbody tr th {\n        vertical-align: top;\n    }\n\n    .dataframe thead th {\n        text-align: right;\n    }\n</style>\n<table border=\"1\" class=\"dataframe\">\n  <thead>\n    <tr style=\"text-align: right;\">\n      <th></th>\n      <th>id</th>\n      <th>sales</th>\n    </tr>\n  </thead>\n  <tbody>\n    <tr>\n      <th>0</th>\n      <td>0</td>\n      <td>12.796675</td>\n    </tr>\n    <tr>\n      <th>1</th>\n      <td>1</td>\n      <td>13.828870</td>\n    </tr>\n    <tr>\n      <th>2</th>\n      <td>2</td>\n      <td>15.008808</td>\n    </tr>\n    <tr>\n      <th>3</th>\n      <td>3</td>\n      <td>15.303660</td>\n    </tr>\n    <tr>\n      <th>4</th>\n      <td>4</td>\n      <td>18.060158</td>\n    </tr>\n    <tr>\n      <th>...</th>\n      <td>...</td>\n      <td>...</td>\n    </tr>\n    <tr>\n      <th>44995</th>\n      <td>44995</td>\n      <td>70.664964</td>\n    </tr>\n    <tr>\n      <th>44996</th>\n      <td>44996</td>\n      <td>74.006835</td>\n    </tr>\n    <tr>\n      <th>44997</th>\n      <td>44997</td>\n      <td>78.301770</td>\n    </tr>\n    <tr>\n      <th>44998</th>\n      <td>44998</td>\n      <td>80.363707</td>\n    </tr>\n    <tr>\n      <th>44999</th>\n      <td>44999</td>\n      <td>87.074659</td>\n    </tr>\n  </tbody>\n</table>\n<p>45000 rows × 2 columns</p>\n</div>",
       "datasetInfos": [],
       "metadata": {},
       "removedWidgets": [],
       "textData": null,
       "type": "htmlSandbox"
      }
     },
     "output_type": "display_data"
    }
   ],
   "source": [
    "submission_df = test.loc[:, [\"id\", \"sales\"]]\n",
    "submission_df['sales'] = np.expm1(test_preds)\n",
    "\n",
    "submission_df['id'] = submission_df.id.astype(int)\n",
    "\n",
    "submission_df\n",
    "#submission_df.to_csv(\"submission_demand.csv\", index=False)"
   ]
  },
  {
   "cell_type": "code",
   "execution_count": 0,
   "metadata": {
    "application/vnd.databricks.v1+cell": {
     "cellMetadata": {
      "byteLimit": 2048000,
      "rowLimit": 10000
     },
     "inputWidgets": {},
     "nuid": "4c346973-f4e3-4d2f-a2e2-c93f743aa268",
     "showTitle": false,
     "title": ""
    }
   },
   "outputs": [
    {
     "output_type": "display_data",
     "data": {
      "text/html": [
       "<style scoped>\n",
       "  .ansiout {\n",
       "    display: block;\n",
       "    unicode-bidi: embed;\n",
       "    white-space: pre-wrap;\n",
       "    word-wrap: break-word;\n",
       "    word-break: break-all;\n",
       "    font-family: \"Menlo\", \"Monaco\", \"Consolas\", \"Ubuntu Mono\", \"Source Code Pro\", monospace;\n",
       "    font-size: 13px;\n",
       "    color: #555;\n",
       "    margin-left: 4px;\n",
       "    line-height: 19px;\n",
       "  }\n",
       "</style>\n",
       "<div class=\"ansiout\">Sending Message: {&#34;progress&#34;: &#34;100&#34;, &#34;id&#34;: 9, &#34;name&#34;: &#34;Progress&#34;, &#34;title&#34;: &#34;Progress&#34;, &#34;type&#34;: &#34;progress&#34;, &#34;resultType&#34;: 3, &#34;visibility&#34;: &#34;EXPANDED&#34;, &#34;time&#34;: &#34;Aug 19, 2024 10:04:47 AM&#34;}\n",
       "Not sending message to fire_notebook server as the post back URL is not http\n",
       "Sending Message: {&#34;text&#34;: &#34;Job Execution Completed.&#34;, &#34;id&#34;: 9, &#34;name&#34;: &#34;Success&#34;, &#34;title&#34;: &#34;Success&#34;, &#34;type&#34;: &#34;success&#34;, &#34;resultType&#34;: 3, &#34;visibility&#34;: &#34;EXPANDED&#34;, &#34;time&#34;: &#34;Aug 19, 2024 10:04:47 AM&#34;}\n",
       "Not sending message to fire_notebook server as the post back URL is not http\n",
       "</div>"
      ]
     },
     "metadata": {
      "application/vnd.databricks.v1+output": {
       "addedWidgets": {},
       "arguments": {},
       "data": "<div class=\"ansiout\">Sending Message: {&#34;progress&#34;: &#34;100&#34;, &#34;id&#34;: 9, &#34;name&#34;: &#34;Progress&#34;, &#34;title&#34;: &#34;Progress&#34;, &#34;type&#34;: &#34;progress&#34;, &#34;resultType&#34;: 3, &#34;visibility&#34;: &#34;EXPANDED&#34;, &#34;time&#34;: &#34;Aug 19, 2024 10:04:47 AM&#34;}\nNot sending message to fire_notebook server as the post back URL is not http\nSending Message: {&#34;text&#34;: &#34;Job Execution Completed.&#34;, &#34;id&#34;: 9, &#34;name&#34;: &#34;Success&#34;, &#34;title&#34;: &#34;Success&#34;, &#34;type&#34;: &#34;success&#34;, &#34;resultType&#34;: 3, &#34;visibility&#34;: &#34;EXPANDED&#34;, &#34;time&#34;: &#34;Aug 19, 2024 10:04:47 AM&#34;}\nNot sending message to fire_notebook server as the post back URL is not http\n</div>",
       "datasetInfos": [],
       "metadata": {},
       "removedWidgets": [],
       "type": "html"
      }
     },
     "output_type": "display_data"
    }
   ],
   "source": [
    "message=\"100\"\n",
    "restworkflowcontext.outputProgress(9, title=\"Progress\", progress=message)\n",
    "\n",
    "message = \"Job Execution Completed.\"\n",
    "restworkflowcontext.outSuccess(9, title=\"Success\", text=message)"
   ]
  },
  {
   "cell_type": "code",
   "execution_count": 0,
   "metadata": {
    "application/vnd.databricks.v1+cell": {
     "cellMetadata": {},
     "inputWidgets": {},
     "nuid": "0ec15715-7c18-46a5-b37c-44ea93e18153",
     "showTitle": false,
     "title": ""
    }
   },
   "outputs": [],
   "source": []
  }
 ],
 "metadata": {
  "application/vnd.databricks.v1+notebook": {
   "dashboards": [],
   "environmentMetadata": null,
   "language": "python",
   "notebookMetadata": {
    "pythonIndentUnit": 2
   },
   "notebookName": "mod-demand-forecasting",
   "widgets": {
    "job-id": {
     "currentValue": "100",
     "nuid": "7ab58334-a550-4b5d-b181-8664828bc9ec",
     "typedWidgetInfo": null,
     "widgetInfo": {
      "widgetType": "text",
      "defaultValue": "100",
      "label": null,
      "name": "job-id",
      "options": {
       "widgetType": "text",
       "autoCreated": null,
       "validationRegex": null
      }
     }
    },
    "option": {
     "currentValue": "",
     "nuid": "95814bc5-beda-40b2-8449-0448dbae5d1d",
     "typedWidgetInfo": null,
     "widgetInfo": {
      "widgetType": "text",
      "defaultValue": "",
      "label": null,
      "name": "option",
      "options": {
       "widgetType": "text",
       "autoCreated": null,
       "validationRegex": null
      }
     }
    },
    "postback-url": {
     "currentValue": "",
     "nuid": "e9230ecc-446e-4c7a-9423-c75b824d4088",
     "typedWidgetInfo": null,
     "widgetInfo": {
      "widgetType": "text",
      "defaultValue": "",
      "label": null,
      "name": "postback-url",
      "options": {
       "widgetType": "text",
       "autoCreated": null,
       "validationRegex": null
      }
     }
    },
    "rb_detail": {
     "currentValue": "1",
     "nuid": "0c36c277-d5d3-4d60-b52a-1c4d3af57a67",
     "typedWidgetInfo": null,
     "widgetInfo": {
      "widgetType": "text",
      "defaultValue": "",
      "label": null,
      "name": "rb_detail",
      "options": {
       "widgetType": "text",
       "autoCreated": null,
       "validationRegex": null
      }
     }
    },
    "rb_summary": {
     "currentValue": "Y",
     "nuid": "8ffca03c-1015-4b0b-b5cb-e682aa53a941",
     "typedWidgetInfo": null,
     "widgetInfo": {
      "widgetType": "text",
      "defaultValue": "",
      "label": null,
      "name": "rb_summary",
      "options": {
       "widgetType": "text",
       "autoCreated": null,
       "validationRegex": null
      }
     }
    }
   }
  },
  "kaggle": {
   "accelerator": "none",
   "dataSources": [
    {
     "databundleVersionId": 868225,
     "sourceId": 9999,
     "sourceType": "competition"
    }
   ],
   "dockerImageVersionId": 30746,
   "isGpuEnabled": false,
   "isInternetEnabled": true,
   "language": "python",
   "sourceType": "notebook"
  },
  "kernelspec": {
   "display_name": "Python 3",
   "language": "python",
   "name": "python3"
  },
  "language_info": {
   "codemirror_mode": {
    "name": "ipython",
    "version": 3
   },
   "file_extension": ".py",
   "mimetype": "text/x-python",
   "name": "python",
   "nbconvert_exporter": "python",
   "pygments_lexer": "ipython3",
   "version": "3.10.13"
  },
  "papermill": {
   "default_parameters": {},
   "duration": 272.421777,
   "end_time": "2024-08-01T22:31:08.030688",
   "environment_variables": {},
   "exception": null,
   "input_path": "__notebook__.ipynb",
   "output_path": "__notebook__.ipynb",
   "parameters": {},
   "start_time": "2024-08-01T22:26:35.608911",
   "version": "2.5.0"
  }
 },
 "nbformat": 4,
 "nbformat_minor": 0
}
