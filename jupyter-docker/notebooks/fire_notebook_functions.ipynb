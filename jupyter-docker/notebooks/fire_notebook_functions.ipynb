{
 "cells": [
  {
   "cell_type": "code",
   "execution_count": null,
   "id": "2fcae33c",
   "metadata": {},
   "outputs": [],
   "source": [
    "from fire_notebook.output.workflowcontext import RestWorkflowContext\n",
    "import sys\n",
    "parameters_list = sys.argv\n",
    "\n",
    "if len(sys.argv) > 1:\n",
    "    restworkflowcontext = RestWorkflowContext(parameters=parameters_list)\n",
    "else:\n",
    "    restworkflowcontext = RestWorkflowContext(debug=False)\n",
    "\n",
    "message = \"Successfully Received the Message from Notebook!\"\n",
    "restworkflowcontext.outStr(9, title=\"Message\", text=message)"
   ]
  },
  {
   "cell_type": "code",
   "execution_count": null,
   "id": "aba57d2c",
   "metadata": {},
   "outputs": [],
   "source": [
    "#To get the parameters value\n",
    "parameter_value = restworkflowcontext.getParmeters(parameter_name=\"key\", default=\"Value\")\n",
    "print(\"parameter_value for key is: \")\n",
    "print(parameter_value)"
   ]
  },
  {
   "cell_type": "code",
   "execution_count": null,
   "id": "d1e119e0",
   "metadata": {},
   "outputs": [],
   "source": [
    "#To get the connection details\n",
    "connection_details = restworkflowcontext.getConnectionDetails(conn_name=\"mysql\", default=\"host,port,database,username,password\")\n",
    "print(connection_details)\n",
    "\n",
    "if connection_details is not None and connection_details != \"host,port,database,username,password\":\n",
    "    # Access data from the parsed JSON\n",
    "    print(\"Connection Name:\", connection_details['connectionName'])\n",
    "    print(\"URL:\", connection_details['url'])\n",
    "    print(\"Username:\", connection_details['username'])\n",
    "    print(\"Password:\", connection_details['password'])\n",
    "    print(\"DriverClass:\", connection_details['driverClass'])\n",
    "    mysqlurl = connection_details['url']\n",
    "    restworkflowcontext.outStr(id=9, title=\"URL:\", text=mysqlurl)\n",
    "    message = \"Successfully Retreved the Connection Details!\"\n",
    "    restworkflowcontext.outStr(id=9, title=\"Message\", text=message)"
   ]
  },
  {
   "cell_type": "code",
   "execution_count": null,
   "id": "9c2e64f2",
   "metadata": {},
   "outputs": [],
   "source": [
    "#To get UserDetails of app execution\n",
    "\n",
    "user_details = restworkflowcontext.getUserDetailsOfAppExecute()\n",
    "print(user_details)\n",
    "if user_details is not None:\n",
    "    print(\"username:\", user_details['username'])\n",
    "    username = user_details['username']\n",
    "    restworkflowcontext.outStr(id=9, title=\"Current User Name: \", text=username)"
   ]
  },
  {
   "cell_type": "code",
   "execution_count": null,
   "id": "87063c8a",
   "metadata": {},
   "outputs": [],
   "source": [
    "#Output as Text\n",
    "restworkflowcontext.outStr(id=9, title=\"Test String\", text=\"text\")"
   ]
  },
  {
   "cell_type": "code",
   "execution_count": null,
   "id": "2fe18489",
   "metadata": {},
   "outputs": [],
   "source": [
    "#Output HTML\n",
    "htmlstr1 = \"<h3>You can view HTML code in notebooks.</h3>\"\n",
    "\n",
    "restworkflowcontext.outHTML(id=9, title=\"Example HTML\", text = htmlstr1)\n"
   ]
  },
  {
   "cell_type": "code",
   "execution_count": null,
   "id": "c9d1aba8",
   "metadata": {},
   "outputs": [],
   "source": [
    "# list of strings\n",
    "lst = ['Geeks', 'For', 'Geeks', 'is',\n",
    "       'portal', 'for', 'Geeks']\n",
    "\n",
    "# Calling DataFrame constructor on list\n",
    "import pandas as pd\n",
    "df = pd.DataFrame(lst, columns=['name'])\n",
    "print(df)\n",
    "\n",
    "restworkflowcontext.outPandasDataframe(id=9, title=\"Names\", df=df, num_rows=10)"
   ]
  },
  {
   "cell_type": "code",
   "execution_count": null,
   "id": "daddd2ff",
   "metadata": {},
   "outputs": [],
   "source": [
    "#Output Messages: To indicate the execution status of the job\n",
    "message = \"Sending the success message.\"\n",
    "\n",
    "restworkflowcontext.outSuccess(id=9, title=\"Success\", text=message)"
   ]
  },
  {
   "cell_type": "code",
   "execution_count": null,
   "id": "6ab93264",
   "metadata": {},
   "outputs": [],
   "source": [
    "message = \"Sending the running message.\"\n",
    "restworkflowcontext.outRunning(id=9, title=\"Running\", text=message)"
   ]
  },
  {
   "cell_type": "code",
   "execution_count": null,
   "id": "6fa1c0b4",
   "metadata": {},
   "outputs": [],
   "source": [
    "#Output Progress Message: To share the progress of the Notebook run as a percentage with the analytical app\n",
    "message = \"50\"\n",
    "restworkflowcontext.outputProgress(id=9, title=\"Progress\", progress=message)"
   ]
  }
 ],
 "metadata": {
  "kernelspec": {
   "display_name": "Python 3",
   "language": "python",
   "name": "python3"
  },
  "language_info": {
   "codemirror_mode": {
    "name": "ipython",
    "version": 3
   },
   "file_extension": ".py",
   "mimetype": "text/x-python",
   "name": "python",
   "nbconvert_exporter": "python",
   "pygments_lexer": "ipython3",
   "version": "3.6.3"
  }
 },
 "nbformat": 4,
 "nbformat_minor": 5
}
