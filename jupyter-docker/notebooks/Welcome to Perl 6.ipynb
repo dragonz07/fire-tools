{
 "cells": [
  {
   "cell_type": "markdown",
   "metadata": {},
   "source": [
    "<div class=\"clearfix\" style=\"padding: 10px; padding-left: 0px\">\n",
    "<img src=\"https://raw.githubusercontent.com/jupyter/nature-demo/master/images/jupyter-logo.png\" width=\"150px\" style=\"display: inline-block; margin-top: 5px;\">\n",
    "<img src=\"https://perl6.org/camelia-logo.png\">\n",
    "</div>\n",
    "\n",
    "## Welcome to Perl 6 on the Temporary Notebook (tmpnb) service!\n",
    "\n",
    "This Notebook Server was **launched just for you**. It's a temporary way for you to try out a Perl 6 Jupyter notebook.\n",
    "\n",
    "<div class=\"alert alert-warning\" role=\"alert\" style=\"margin: 10px\">\n",
    "<p>**WARNING**</p>\n",
    "\n",
    "<p>Don't rely on this server for anything you want to last - your server will be *deleted after 10 minutes of inactivity*.</p>\n",
    "</div>"
   ]
  },
  {
   "cell_type": "markdown",
   "metadata": {},
   "source": [
    "#### To run Perl 6 code, type some code and type ctrl-enter or alt-enter.  The value of the last expression will be placed into the corresponding `Out` cell."
   ]
  },
  {
   "cell_type": "code",
   "execution_count": 1,
   "metadata": {},
   "outputs": [
    {
     "data": {
      "text/plain": [
       "hello, world"
      ]
     },
     "execution_count": 1,
     "metadata": {},
     "output_type": "execute_result"
    }
   ],
   "source": [
    "\"hello, world\""
   ]
  },
  {
   "cell_type": "code",
   "execution_count": 2,
   "metadata": {},
   "outputs": [
    {
     "data": {
      "text/plain": [
       "(1a 1b 2a 2b 3a 3b 4a 4b 5a 5b)"
      ]
     },
     "execution_count": 2,
     "metadata": {},
     "output_type": "execute_result"
    }
   ],
   "source": [
    "1..5 X~ 'a'..'b'"
   ]
  },
  {
   "cell_type": "markdown",
   "metadata": {},
   "source": [
    "#### Type `[tab]` for autocompletion.  Autocompleting a parenthesis will show you unicode set operators."
   ]
  },
  {
   "cell_type": "code",
   "execution_count": 3,
   "metadata": {
    "scrolled": true
   },
   "outputs": [
    {
     "data": {
      "text/plain": [
       "True"
      ]
     },
     "execution_count": 3,
     "metadata": {},
     "output_type": "execute_result"
    }
   ],
   "source": [
    "(2..7) ⊂ (1..10)"
   ]
  },
  {
   "cell_type": "markdown",
   "metadata": {},
   "source": [
    "#### SVG::Plot can be used to generate plots."
   ]
  },
  {
   "cell_type": "code",
   "execution_count": 4,
   "metadata": {},
   "outputs": [
    {
     "data": {
      "image/svg+xml": [
       "<svg xmlns=\"http://www.w3.org/2000/svg\" xmlns:svg=\"http://www.w3.org/2000/svg\" xmlns:xlink=\"http://www.w3.org/1999/xlink\" width=\"400\" height=\"250\"><g transform=\"translate(64,193.125)\"><line x1=\"160\" x2=\"180.09296624938\" y1=\"-162.5\" y2=\"-161.859319481801\" style=\"stroke:#3333ff; stroke-width: 1.5\" />\n",
       "<line x1=\"160\" x2=\"199.869054418052\" y1=\"-162.5\" y2=\"-159.947381841701\" style=\"stroke:#3333ff; stroke-width: 1.5\" />\n",
       "<line x1=\"160\" x2=\"219.016383781932\" y1=\"-162.5\" y2=\"-156.79433947842\" style=\"stroke:#3333ff; stroke-width: 1.5\" />\n",
       "<line x1=\"160\" x2=\"237.232989518892\" y1=\"-162.5\" y2=\"-152.449917753564\" style=\"stroke:#3333ff; stroke-width: 1.5\" />\n",
       "<line x1=\"160\" x2=\"254.231584874387\" y1=\"-162.5\" y2=\"-146.982630792964\" style=\"stroke:#3333ff; stroke-width: 1.5\" />\n",
       "<line x1=\"160\" x2=\"269.744091845193\" y1=\"-162.5\" y2=\"-140.47870097799\" style=\"stroke:#3333ff; stroke-width: 1.5\" />\n",
       "<line x1=\"160\" x2=\"283.525868929658\" y1=\"-162.5\" y2=\"-133.040699167081\" style=\"stroke:#3333ff; stroke-width: 1.5\" />\n",
       "<line x1=\"160\" x2=\"295.359569270325\" y1=\"-162.5\" y2=\"-124.785927092043\" style=\"stroke:#3333ff; stroke-width: 1.5\" />\n",
       "<line x1=\"160\" x2=\"305.058568343711\" y1=\"-162.5\" y2=\"-115.844567439662\" style=\"stroke:#3333ff; stroke-width: 1.5\" />\n",
       "<line x1=\"160\" x2=\"312.469907140529\" y1=\"-162.5\" y2=\"-106.357630792964\" style=\"stroke:#3333ff; stroke-width: 1.5\" />\n",
       "<line x1=\"160\" x2=\"317.476704420633\" y1=\"-162.5\" y2=\"-96.4747318100901\" style=\"stroke:#3333ff; stroke-width: 1.5\" />\n",
       "<line x1=\"160\" x2=\"320\" y1=\"-162.5\" y2=\"-86.3517297117567\" style=\"stroke:#3333ff; stroke-width: 1.5\" />\n",
       "<line x1=\"160\" x2=\"320\" y1=\"-162.5\" y2=\"-76.1482702882433\" style=\"stroke:#3333ff; stroke-width: 1.5\" />\n",
       "<line x1=\"160\" x2=\"317.476704420633\" y1=\"-162.5\" y2=\"-66.0252681899099\" style=\"stroke:#3333ff; stroke-width: 1.5\" />\n",
       "<line x1=\"160\" x2=\"312.469907140529\" y1=\"-162.5\" y2=\"-56.1423692070355\" style=\"stroke:#3333ff; stroke-width: 1.5\" />\n",
       "<line x1=\"160\" x2=\"305.058568343711\" y1=\"-162.5\" y2=\"-46.6554325603378\" style=\"stroke:#3333ff; stroke-width: 1.5\" />\n",
       "<line x1=\"160\" x2=\"295.359569270325\" y1=\"-162.5\" y2=\"-37.7140729079565\" style=\"stroke:#3333ff; stroke-width: 1.5\" />\n",
       "<line x1=\"160\" x2=\"283.525868929658\" y1=\"-162.5\" y2=\"-29.459300832919\" style=\"stroke:#3333ff; stroke-width: 1.5\" />\n",
       "<line x1=\"160\" x2=\"269.744091845194\" y1=\"-162.5\" y2=\"-22.0212990220103\" style=\"stroke:#3333ff; stroke-width: 1.5\" />\n",
       "<line x1=\"160\" x2=\"254.231584874387\" y1=\"-162.5\" y2=\"-15.5173692070355\" style=\"stroke:#3333ff; stroke-width: 1.5\" />\n",
       "<line x1=\"160\" x2=\"237.232989518892\" y1=\"-162.5\" y2=\"-10.0500822464361\" style=\"stroke:#3333ff; stroke-width: 1.5\" />\n",
       "<line x1=\"160\" x2=\"219.016383781932\" y1=\"-162.5\" y2=\"-5.70566052157958\" style=\"stroke:#3333ff; stroke-width: 1.5\" />\n",
       "<line x1=\"160\" x2=\"199.869054418052\" y1=\"-162.5\" y2=\"-2.55261815829873\" style=\"stroke:#3333ff; stroke-width: 1.5\" />\n",
       "<line x1=\"160\" x2=\"180.09296624938\" y1=\"-162.5\" y2=\"-0.640680518198682\" style=\"stroke:#3333ff; stroke-width: 1.5\" />\n",
       "<line x1=\"160\" x2=\"160\" y1=\"-162.5\" y2=\"-0\" style=\"stroke:#3333ff; stroke-width: 1.5\" />\n",
       "<line x1=\"160\" x2=\"139.90703375062\" y1=\"-162.5\" y2=\"-0.640680518198673\" style=\"stroke:#3333ff; stroke-width: 1.5\" />\n",
       "<line x1=\"160\" x2=\"120.130945581948\" y1=\"-162.5\" y2=\"-2.55261815829872\" style=\"stroke:#3333ff; stroke-width: 1.5\" />\n",
       "<line x1=\"160\" x2=\"100.983616218068\" y1=\"-162.5\" y2=\"-5.70566052157957\" style=\"stroke:#3333ff; stroke-width: 1.5\" />\n",
       "<line x1=\"160\" x2=\"82.7670104811083\" y1=\"-162.5\" y2=\"-10.0500822464361\" style=\"stroke:#3333ff; stroke-width: 1.5\" />\n",
       "<line x1=\"160\" x2=\"65.7684151256128\" y1=\"-162.5\" y2=\"-15.5173692070355\" style=\"stroke:#3333ff; stroke-width: 1.5\" />\n",
       "<line x1=\"160\" x2=\"50.2559081548066\" y1=\"-162.5\" y2=\"-22.0212990220103\" style=\"stroke:#3333ff; stroke-width: 1.5\" />\n",
       "<line x1=\"160\" x2=\"36.4741310703418\" y1=\"-162.5\" y2=\"-29.459300832919\" style=\"stroke:#3333ff; stroke-width: 1.5\" />\n",
       "<line x1=\"160\" x2=\"24.640430729675\" y1=\"-162.5\" y2=\"-37.7140729079565\" style=\"stroke:#3333ff; stroke-width: 1.5\" />\n",
       "<line x1=\"160\" x2=\"14.9414316562886\" y1=\"-162.5\" y2=\"-46.6554325603379\" style=\"stroke:#3333ff; stroke-width: 1.5\" />\n",
       "<line x1=\"160\" x2=\"7.53009285947095\" y1=\"-162.5\" y2=\"-56.1423692070355\" style=\"stroke:#3333ff; stroke-width: 1.5\" />\n",
       "<line x1=\"160\" x2=\"2.52329557936709\" y1=\"-162.5\" y2=\"-66.0252681899099\" style=\"stroke:#3333ff; stroke-width: 1.5\" />\n",
       "<line x1=\"160\" x2=\"0\" y1=\"-162.5\" y2=\"-76.1482702882433\" style=\"stroke:#3333ff; stroke-width: 1.5\" />\n",
       "<line x1=\"160\" x2=\"0\" y1=\"-162.5\" y2=\"-86.3517297117567\" style=\"stroke:#3333ff; stroke-width: 1.5\" />\n",
       "<line x1=\"160\" x2=\"2.52329557936709\" y1=\"-162.5\" y2=\"-96.4747318100901\" style=\"stroke:#3333ff; stroke-width: 1.5\" />\n",
       "<line x1=\"160\" x2=\"7.53009285947094\" y1=\"-162.5\" y2=\"-106.357630792964\" style=\"stroke:#3333ff; stroke-width: 1.5\" />\n",
       "<line x1=\"160\" x2=\"14.9414316562885\" y1=\"-162.5\" y2=\"-115.844567439662\" style=\"stroke:#3333ff; stroke-width: 1.5\" />\n",
       "<line x1=\"160\" x2=\"24.640430729675\" y1=\"-162.5\" y2=\"-124.785927092043\" style=\"stroke:#3333ff; stroke-width: 1.5\" />\n",
       "<line x1=\"160\" x2=\"36.4741310703417\" y1=\"-162.5\" y2=\"-133.040699167081\" style=\"stroke:#3333ff; stroke-width: 1.5\" />\n",
       "<line x1=\"160\" x2=\"50.2559081548065\" y1=\"-162.5\" y2=\"-140.47870097799\" style=\"stroke:#3333ff; stroke-width: 1.5\" />\n",
       "<line x1=\"160\" x2=\"65.7684151256127\" y1=\"-162.5\" y2=\"-146.982630792964\" style=\"stroke:#3333ff; stroke-width: 1.5\" />\n",
       "<line x1=\"160\" x2=\"82.7670104811082\" y1=\"-162.5\" y2=\"-152.449917753564\" style=\"stroke:#3333ff; stroke-width: 1.5\" />\n",
       "<line x1=\"160\" x2=\"100.983616218068\" y1=\"-162.5\" y2=\"-156.79433947842\" style=\"stroke:#3333ff; stroke-width: 1.5\" />\n",
       "<line x1=\"160\" x2=\"120.130945581948\" y1=\"-162.5\" y2=\"-159.947381841701\" style=\"stroke:#3333ff; stroke-width: 1.5\" />\n",
       "<line x1=\"160\" x2=\"139.90703375062\" y1=\"-162.5\" y2=\"-161.859319481801\" style=\"stroke:#3333ff; stroke-width: 1.5\" />\n",
       "<line x1=\"160\" x2=\"160\" y1=\"-162.5\" y2=\"-162.5\" style=\"stroke:#3333ff; stroke-width: 1.5\" />\n",
       "<line x1=\"160\" x2=\"180.09296624938\" y1=\"-121.875\" y2=\"-121.554659740901\" style=\"stroke:#ffdd66; stroke-width: 1.5\" />\n",
       "<line x1=\"160\" x2=\"199.869054418052\" y1=\"-121.875\" y2=\"-120.598690920851\" style=\"stroke:#ffdd66; stroke-width: 1.5\" />\n",
       "<line x1=\"160\" x2=\"219.016383781932\" y1=\"-121.875\" y2=\"-119.02216973921\" style=\"stroke:#ffdd66; stroke-width: 1.5\" />\n",
       "<line x1=\"160\" x2=\"237.232989518892\" y1=\"-121.875\" y2=\"-116.849958876782\" style=\"stroke:#ffdd66; stroke-width: 1.5\" />\n",
       "<line x1=\"160\" x2=\"254.231584874387\" y1=\"-121.875\" y2=\"-114.116315396482\" style=\"stroke:#ffdd66; stroke-width: 1.5\" />\n",
       "<line x1=\"160\" x2=\"269.744091845193\" y1=\"-121.875\" y2=\"-110.864350488995\" style=\"stroke:#ffdd66; stroke-width: 1.5\" />\n",
       "<line x1=\"160\" x2=\"283.525868929658\" y1=\"-121.875\" y2=\"-107.145349583541\" style=\"stroke:#ffdd66; stroke-width: 1.5\" />\n",
       "<line x1=\"160\" x2=\"295.359569270325\" y1=\"-121.875\" y2=\"-103.017963546022\" style=\"stroke:#ffdd66; stroke-width: 1.5\" />\n",
       "<line x1=\"160\" x2=\"305.058568343711\" y1=\"-121.875\" y2=\"-98.5472837198311\" style=\"stroke:#ffdd66; stroke-width: 1.5\" />\n",
       "<line x1=\"160\" x2=\"312.469907140529\" y1=\"-121.875\" y2=\"-93.8038153964822\" style=\"stroke:#ffdd66; stroke-width: 1.5\" />\n",
       "<line x1=\"160\" x2=\"317.476704420633\" y1=\"-121.875\" y2=\"-88.8623659050451\" style=\"stroke:#ffdd66; stroke-width: 1.5\" />\n",
       "<line x1=\"160\" x2=\"320\" y1=\"-121.875\" y2=\"-83.8008648558784\" style=\"stroke:#ffdd66; stroke-width: 1.5\" />\n",
       "<line x1=\"160\" x2=\"320\" y1=\"-121.875\" y2=\"-78.6991351441216\" style=\"stroke:#ffdd66; stroke-width: 1.5\" />\n",
       "<line x1=\"160\" x2=\"317.476704420633\" y1=\"-121.875\" y2=\"-73.6376340949549\" style=\"stroke:#ffdd66; stroke-width: 1.5\" />\n",
       "<line x1=\"160\" x2=\"312.469907140529\" y1=\"-121.875\" y2=\"-68.6961846035178\" style=\"stroke:#ffdd66; stroke-width: 1.5\" />\n",
       "<line x1=\"160\" x2=\"305.058568343711\" y1=\"-121.875\" y2=\"-63.9527162801689\" style=\"stroke:#ffdd66; stroke-width: 1.5\" />\n",
       "<line x1=\"160\" x2=\"295.359569270325\" y1=\"-121.875\" y2=\"-59.4820364539783\" style=\"stroke:#ffdd66; stroke-width: 1.5\" />\n",
       "<line x1=\"160\" x2=\"283.525868929658\" y1=\"-121.875\" y2=\"-55.3546504164595\" style=\"stroke:#ffdd66; stroke-width: 1.5\" />\n",
       "<line x1=\"160\" x2=\"269.744091845194\" y1=\"-121.875\" y2=\"-51.6356495110052\" style=\"stroke:#ffdd66; stroke-width: 1.5\" />\n",
       "<line x1=\"160\" x2=\"254.231584874387\" y1=\"-121.875\" y2=\"-48.3836846035178\" style=\"stroke:#ffdd66; stroke-width: 1.5\" />\n",
       "<line x1=\"160\" x2=\"237.232989518892\" y1=\"-121.875\" y2=\"-45.650041123218\" style=\"stroke:#ffdd66; stroke-width: 1.5\" />\n",
       "<line x1=\"160\" x2=\"219.016383781932\" y1=\"-121.875\" y2=\"-43.4778302607898\" style=\"stroke:#ffdd66; stroke-width: 1.5\" />\n",
       "<line x1=\"160\" x2=\"199.869054418052\" y1=\"-121.875\" y2=\"-41.9013090791494\" style=\"stroke:#ffdd66; stroke-width: 1.5\" />\n",
       "<line x1=\"160\" x2=\"180.09296624938\" y1=\"-121.875\" y2=\"-40.9453402590993\" style=\"stroke:#ffdd66; stroke-width: 1.5\" />\n",
       "<line x1=\"160\" x2=\"160\" y1=\"-121.875\" y2=\"-40.625\" style=\"stroke:#ffdd66; stroke-width: 1.5\" />\n",
       "<line x1=\"160\" x2=\"139.90703375062\" y1=\"-121.875\" y2=\"-40.9453402590993\" style=\"stroke:#ffdd66; stroke-width: 1.5\" />\n",
       "<line x1=\"160\" x2=\"120.130945581948\" y1=\"-121.875\" y2=\"-41.9013090791494\" style=\"stroke:#ffdd66; stroke-width: 1.5\" />\n",
       "<line x1=\"160\" x2=\"100.983616218068\" y1=\"-121.875\" y2=\"-43.4778302607898\" style=\"stroke:#ffdd66; stroke-width: 1.5\" />\n",
       "<line x1=\"160\" x2=\"82.7670104811083\" y1=\"-121.875\" y2=\"-45.650041123218\" style=\"stroke:#ffdd66; stroke-width: 1.5\" />\n",
       "<line x1=\"160\" x2=\"65.7684151256128\" y1=\"-121.875\" y2=\"-48.3836846035177\" style=\"stroke:#ffdd66; stroke-width: 1.5\" />\n",
       "<line x1=\"160\" x2=\"50.2559081548066\" y1=\"-121.875\" y2=\"-51.6356495110051\" style=\"stroke:#ffdd66; stroke-width: 1.5\" />\n",
       "<line x1=\"160\" x2=\"36.4741310703418\" y1=\"-121.875\" y2=\"-55.3546504164595\" style=\"stroke:#ffdd66; stroke-width: 1.5\" />\n",
       "<line x1=\"160\" x2=\"24.640430729675\" y1=\"-121.875\" y2=\"-59.4820364539783\" style=\"stroke:#ffdd66; stroke-width: 1.5\" />\n",
       "<line x1=\"160\" x2=\"14.9414316562886\" y1=\"-121.875\" y2=\"-63.9527162801689\" style=\"stroke:#ffdd66; stroke-width: 1.5\" />\n",
       "<line x1=\"160\" x2=\"7.53009285947095\" y1=\"-121.875\" y2=\"-68.6961846035178\" style=\"stroke:#ffdd66; stroke-width: 1.5\" />\n",
       "<line x1=\"160\" x2=\"2.52329557936709\" y1=\"-121.875\" y2=\"-73.6376340949549\" style=\"stroke:#ffdd66; stroke-width: 1.5\" />\n",
       "<line x1=\"160\" x2=\"0\" y1=\"-121.875\" y2=\"-78.6991351441217\" style=\"stroke:#ffdd66; stroke-width: 1.5\" />\n",
       "<line x1=\"160\" x2=\"0\" y1=\"-121.875\" y2=\"-83.8008648558783\" style=\"stroke:#ffdd66; stroke-width: 1.5\" />\n",
       "<line x1=\"160\" x2=\"2.52329557936709\" y1=\"-121.875\" y2=\"-88.8623659050451\" style=\"stroke:#ffdd66; stroke-width: 1.5\" />\n",
       "<line x1=\"160\" x2=\"7.53009285947094\" y1=\"-121.875\" y2=\"-93.8038153964822\" style=\"stroke:#ffdd66; stroke-width: 1.5\" />\n",
       "<line x1=\"160\" x2=\"14.9414316562885\" y1=\"-121.875\" y2=\"-98.547283719831\" style=\"stroke:#ffdd66; stroke-width: 1.5\" />\n",
       "<line x1=\"160\" x2=\"24.640430729675\" y1=\"-121.875\" y2=\"-103.017963546022\" style=\"stroke:#ffdd66; stroke-width: 1.5\" />\n",
       "<line x1=\"160\" x2=\"36.4741310703417\" y1=\"-121.875\" y2=\"-107.145349583541\" style=\"stroke:#ffdd66; stroke-width: 1.5\" />\n",
       "<line x1=\"160\" x2=\"50.2559081548065\" y1=\"-121.875\" y2=\"-110.864350488995\" style=\"stroke:#ffdd66; stroke-width: 1.5\" />\n",
       "<line x1=\"160\" x2=\"65.7684151256127\" y1=\"-121.875\" y2=\"-114.116315396482\" style=\"stroke:#ffdd66; stroke-width: 1.5\" />\n",
       "<line x1=\"160\" x2=\"82.7670104811082\" y1=\"-121.875\" y2=\"-116.849958876782\" style=\"stroke:#ffdd66; stroke-width: 1.5\" />\n",
       "<line x1=\"160\" x2=\"100.983616218068\" y1=\"-121.875\" y2=\"-119.02216973921\" style=\"stroke:#ffdd66; stroke-width: 1.5\" />\n",
       "<line x1=\"160\" x2=\"120.130945581948\" y1=\"-121.875\" y2=\"-120.598690920851\" style=\"stroke:#ffdd66; stroke-width: 1.5\" />\n",
       "<line x1=\"160\" x2=\"139.90703375062\" y1=\"-121.875\" y2=\"-121.554659740901\" style=\"stroke:#ffdd66; stroke-width: 1.5\" />\n",
       "<line x1=\"160\" x2=\"160\" y1=\"-121.875\" y2=\"-121.875\" style=\"stroke:#ffdd66; stroke-width: 1.5\" />\n",
       "<line y1=\"-2.1875\" y2=\"2.1875\" x1=\"79.8418261543086\" x2=\"79.8418261543086\" style=\"stroke:black; stroke-width: 1\" />\n",
       "<text y=\"24.5625\" x=\"79.8418261543086\" font-size=\"12\" text-anchor=\"middle\" dominant-baseline=\"middle\">-0.5</text>\n",
       "<line y1=\"-2.1875\" y2=\"2.1875\" x1=\"160\" x2=\"160\" style=\"stroke:black; stroke-width: 1\" />\n",
       "<text y=\"24.5625\" x=\"160\" font-size=\"12\" text-anchor=\"middle\" dominant-baseline=\"middle\">0</text>\n",
       "<line y1=\"-2.1875\" y2=\"2.1875\" x1=\"240.158173845691\" x2=\"240.158173845691\" style=\"stroke:black; stroke-width: 1\" />\n",
       "<text y=\"24.5625\" x=\"240.158173845691\" font-size=\"12\" text-anchor=\"middle\" dominant-baseline=\"middle\">0.5</text>\n",
       "<line x1=\"-2.1875\" x2=\"2.1875\" y1=\"-0\" y2=\"-0\" style=\"stroke:black; stroke-width: 1\" />\n",
       "<text x=\"-6.5625\" y=\"-0\" font-size=\"12\" text-anchor=\"end\" dominant-baseline=\"middle\">-2</text>\n",
       "<line x1=\"-2.1875\" x2=\"2.1875\" y1=\"-20.3125\" y2=\"-20.3125\" style=\"stroke:black; stroke-width: 1\" />\n",
       "<text x=\"-6.5625\" y=\"-20.3125\" font-size=\"12\" text-anchor=\"end\" dominant-baseline=\"middle\">-1.5</text>\n",
       "<line x1=\"-2.1875\" x2=\"2.1875\" y1=\"-40.625\" y2=\"-40.625\" style=\"stroke:black; stroke-width: 1\" />\n",
       "<text x=\"-6.5625\" y=\"-40.625\" font-size=\"12\" text-anchor=\"end\" dominant-baseline=\"middle\">-1</text>\n",
       "<line x1=\"-2.1875\" x2=\"2.1875\" y1=\"-60.9375\" y2=\"-60.9375\" style=\"stroke:black; stroke-width: 1\" />\n",
       "<text x=\"-6.5625\" y=\"-60.9375\" font-size=\"12\" text-anchor=\"end\" dominant-baseline=\"middle\">-0.5</text>\n",
       "<line x1=\"-2.1875\" x2=\"2.1875\" y1=\"-81.25\" y2=\"-81.25\" style=\"stroke:black; stroke-width: 1\" />\n",
       "<text x=\"-6.5625\" y=\"-81.25\" font-size=\"12\" text-anchor=\"end\" dominant-baseline=\"middle\">0</text>\n",
       "<line x1=\"-2.1875\" x2=\"2.1875\" y1=\"-101.5625\" y2=\"-101.5625\" style=\"stroke:black; stroke-width: 1\" />\n",
       "<text x=\"-6.5625\" y=\"-101.5625\" font-size=\"12\" text-anchor=\"end\" dominant-baseline=\"middle\">0.5</text>\n",
       "<line x1=\"-2.1875\" x2=\"2.1875\" y1=\"-121.875\" y2=\"-121.875\" style=\"stroke:black; stroke-width: 1\" />\n",
       "<text x=\"-6.5625\" y=\"-121.875\" font-size=\"12\" text-anchor=\"end\" dominant-baseline=\"middle\">1</text>\n",
       "<line x1=\"-2.1875\" x2=\"2.1875\" y1=\"-142.1875\" y2=\"-142.1875\" style=\"stroke:black; stroke-width: 1\" />\n",
       "<text x=\"-6.5625\" y=\"-142.1875\" font-size=\"12\" text-anchor=\"end\" dominant-baseline=\"middle\">1.5</text>\n",
       "<line x1=\"-2.1875\" x2=\"2.1875\" y1=\"-162.5\" y2=\"-162.5\" style=\"stroke:black; stroke-width: 1\" />\n",
       "<text x=\"-6.5625\" y=\"-162.5\" font-size=\"12\" text-anchor=\"end\" dominant-baseline=\"middle\">2</text>\n",
       "<line x1=\"0\" y1=\"0\" x2=\"320\" y2=\"0\" style=\"stroke:black; stroke-width: 2\" />\n",
       "<line x1=\"0\" y1=\"0\" x2=\"0\" y2=\"-162.5\" style=\"stroke:black; stroke-width: 2\" />\n",
       "<text x=\"200\" y=\"-171.25\" text-anchor=\"middle\">sin(x/10), cos(x/10)</text>\n",
       "</g>\n",
       "</svg>\n"
      ]
     },
     "execution_count": 4,
     "metadata": {},
     "output_type": "execute_result"
    }
   ],
   "source": [
    "use SVG;\n",
    "use SVG::Plot;\n",
    "\n",
    "my $points = 50;\n",
    "my @x  = (0..$points).map: { sin(2 * π * $_ / $points) };\n",
    "my @d1 = (0..$points).map: { 2 * cos(2 * π * $_ / $points) };\n",
    "my @d2 = (0..$points).map: { cos(2 * π * $_ / $points) };\n",
    "SVG.serialize: SVG::Plot.new(\n",
    "    width => 400,\n",
    "    height => 250,\n",
    "    :@x,\n",
    "    values => (@d1, @d2),\n",
    "    title  => 'sin(x/10), cos(x/10)',\n",
    ").plot(:xy-lines);"
   ]
  },
  {
   "cell_type": "markdown",
   "metadata": {},
   "source": [
    "For more examples, see https://github.com/bduggan/p6-jupyter-kernel/tree/master/eg"
   ]
  }
 ],
 "metadata": {
  "kernelspec": {
   "display_name": "Perl 6",
   "language": "perl6",
   "name": "perl6"
  },
  "language_info": {
   "file_extension": ".p6",
   "mimetype": "text/plain",
   "name": "perl6",
   "version": "6.c"
  }
 },
 "nbformat": 4,
 "nbformat_minor": 2
}
