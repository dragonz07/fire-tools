{
 "cells": [
  {
   "cell_type": "code",
   "execution_count": 1,
   "id": "3fbf5b36",
   "metadata": {
    "slideshow": {
     "slide_type": ""
    },
    "tags": []
   },
   "outputs": [
    {
     "name": "stdout",
     "output_type": "stream",
     "text": [
      "I am jupyter lab\n"
     ]
    }
   ],
   "source": [
    "print(\"I am jupyter lab\")"
   ]
  },
  {
   "cell_type": "code",
   "execution_count": 2,
   "id": "8d0d68ce",
   "metadata": {},
   "outputs": [],
   "source": [
    "import os"
   ]
  },
  {
   "cell_type": "code",
   "execution_count": 3,
   "id": "c1188e46",
   "metadata": {},
   "outputs": [
    {
     "data": {
      "text/plain": [
       "'/home/sparkflows/venv/lib/python3.8/site-packages/arrow'"
      ]
     },
     "execution_count": 3,
     "metadata": {},
     "output_type": "execute_result"
    }
   ],
   "source": [
    "os.getcwd()"
   ]
  },
  {
   "cell_type": "code",
   "execution_count": 4,
   "id": "cd08193f",
   "metadata": {
    "slideshow": {
     "slide_type": ""
    },
    "tags": []
   },
   "outputs": [
    {
     "name": "stdout",
     "output_type": "stream",
     "text": [
      "\n"
     ]
    }
   ],
   "source": [
    "print()"
   ]
  },
  {
   "cell_type": "code",
   "execution_count": null,
   "id": "6495403e",
   "metadata": {},
   "outputs": [],
   "source": [
    "import sys"
   ]
  },
  {
   "cell_type": "code",
   "execution_count": null,
   "id": "6923d11d",
   "metadata": {},
   "outputs": [],
   "source": [
    "print(sys.argv)"
   ]
  },
  {
   "cell_type": "code",
   "execution_count": null,
   "id": "2fcae33c",
   "metadata": {},
   "outputs": [],
   "source": [
    "from fire_notebook.output.workflowcontext import RestWorkflowContext\n",
    "import sys\n",
    "parameters_list = sys.argv\n",
    "restworkflowcontext = RestWorkflowContext(parameters_list)\n",
    "\n",
    "message = \"Successfully Received the Message from Notebook!\"\n",
    "restworkflowcontext.outStr(9, title=\"Message\", text=message)"
   ]
  }
 ],
 "metadata": {
  "kernelspec": {
   "display_name": "Python 3",
   "language": "python",
   "name": "python3"
  },
  "language_info": {
   "codemirror_mode": {
    "name": "ipython",
    "version": 3
   },
   "file_extension": ".py",
   "mimetype": "text/x-python",
   "name": "python",
   "nbconvert_exporter": "python",
   "pygments_lexer": "ipython3",
   "version": "3.6.3"
  }
 },
 "nbformat": 4,
 "nbformat_minor": 5
}
