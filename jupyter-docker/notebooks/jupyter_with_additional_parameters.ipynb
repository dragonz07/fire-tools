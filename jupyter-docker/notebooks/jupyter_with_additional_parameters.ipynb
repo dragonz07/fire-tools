{
 "cells": [
  {
   "cell_type": "code",
   "execution_count": null,
   "id": "8d0ecf1b",
   "metadata": {},
   "outputs": [],
   "source": [
    "import sys"
   ]
  },
  {
   "cell_type": "code",
   "execution_count": null,
   "id": "404b05ee",
   "metadata": {},
   "outputs": [],
   "source": [
    "from fire_notebook.output.workflowcontext import RestWorkflowContext\n",
    "import sys\n",
    "parameters_list = sys.argv\n",
    "restworkflowcontext = RestWorkflowContext(parameters_list)"
   ]
  },
  {
   "cell_type": "code",
   "execution_count": null,
   "id": "9b4b90d6",
   "metadata": {},
   "outputs": [],
   "source": [
    "state = sys.argv[3]\n",
    "restworkflowcontext.outStr(9, title=\"Message\", text=\"Successfully recieved the input:\"+str(state))"
   ]
  }
 ],
 "metadata": {
  "kernelspec": {
   "display_name": "Python 3",
   "language": "python",
   "name": "python3"
  },
  "language_info": {
   "codemirror_mode": {
    "name": "ipython",
    "version": 3
   },
   "file_extension": ".py",
   "mimetype": "text/x-python",
   "name": "python",
   "nbconvert_exporter": "python",
   "pygments_lexer": "ipython3",
   "version": "3.6.3"
  }
 },
 "nbformat": 4,
 "nbformat_minor": 5
}
