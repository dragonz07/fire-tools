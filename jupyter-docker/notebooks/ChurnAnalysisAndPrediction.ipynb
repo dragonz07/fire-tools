{
 "cells": [
  {
   "cell_type": "code",
   "execution_count": 0,
   "metadata": {
    "application/vnd.databricks.v1+cell": {
     "cellMetadata": {
      "byteLimit": 2048000,
      "rowLimit": 10000
     },
     "inputWidgets": {},
     "nuid": "d9eca4ce-e872-4808-8747-4834a5674481",
     "showTitle": false,
     "title": ""
    }
   },
   "outputs": [
    {
     "output_type": "display_data",
     "data": {
      "text/html": [
       "<style scoped>\n",
       "  .ansiout {\n",
       "    display: block;\n",
       "    unicode-bidi: embed;\n",
       "    white-space: pre-wrap;\n",
       "    word-wrap: break-word;\n",
       "    word-break: break-all;\n",
       "    font-family: \"Menlo\", \"Monaco\", \"Consolas\", \"Ubuntu Mono\", \"Source Code Pro\", monospace;\n",
       "    font-size: 13px;\n",
       "    color: #555;\n",
       "    margin-left: 4px;\n",
       "    line-height: 19px;\n",
       "  }\n",
       "</style>\n",
       "<div class=\"ansiout\"></div>"
      ]
     },
     "metadata": {
      "application/vnd.databricks.v1+output": {
       "addedWidgets": {},
       "arguments": {},
       "data": "<div class=\"ansiout\"></div>",
       "datasetInfos": [],
       "metadata": {},
       "removedWidgets": [],
       "type": "html"
      }
     },
     "output_type": "display_data"
    }
   ],
   "source": [
    "import sys\n",
    "\n",
    "# Pandas and Numpy\n",
    "import pandas as pd\n",
    "import numpy as np\n",
    "import pickle\n",
    "\n",
    "import plotly.graph_objs as go\n",
    "# import plotly.graph_objects as go\n",
    "from plotly.subplots import make_subplots\n",
    "import plotly\n",
    "#%matplotlib inline\n",
    "\n",
    "\n",
    "from sklearn.model_selection import train_test_split\n",
    "from sklearn.model_selection import train_test_split\n",
    "from sklearn.metrics import classification_report, confusion_matrix, roc_curve, roc_auc_score\n",
    "from sklearn.metrics import auc, recall_score, accuracy_score, precision_score, f1_score, precision_recall_curve\n",
    "\n",
    "from sklearn.ensemble import RandomForestClassifier\n",
    "from sklearn import tree\n",
    "\n",
    "webserverURL = sys.argv[1]\n",
    "jobId = sys.argv[2]\n",
    "option = str(sys.argv[3]).split("=")[1] #\"Profiling\" OR \"Modeling\"\n",
    "\n",
    "#webserverURL = dbutils.widgets.get(\"webserverURL\")\n",
    "#jobId = dbutils.widgets.get(\"job-id\")\n",
    "#option = dbutils.widgets.get(\"option\")"
   ]
  },
  {
   "cell_type": "code",
   "execution_count": 0,
   "metadata": {
    "application/vnd.databricks.v1+cell": {
     "cellMetadata": {
      "byteLimit": 2048000,
      "rowLimit": 10000
     },
     "inputWidgets": {},
     "nuid": "06b89a29-cfc8-45fc-9df7-03290153de93",
     "showTitle": false,
     "title": ""
    }
   },
   "outputs": [
    {
     "output_type": "display_data",
     "data": {
      "text/html": [
       "<style scoped>\n",
       "  .ansiout {\n",
       "    display: block;\n",
       "    unicode-bidi: embed;\n",
       "    white-space: pre-wrap;\n",
       "    word-wrap: break-word;\n",
       "    word-break: break-all;\n",
       "    font-family: \"Menlo\", \"Monaco\", \"Consolas\", \"Ubuntu Mono\", \"Source Code Pro\", monospace;\n",
       "    font-size: 13px;\n",
       "    color: #555;\n",
       "    margin-left: 4px;\n",
       "    line-height: 19px;\n",
       "  }\n",
       "</style>\n",
       "<div class=\"ansiout\">Sending Message: {&#34;progress&#34;: &#34;20&#34;, &#34;id&#34;: 9, &#34;name&#34;: &#34;Progress&#34;, &#34;title&#34;: &#34;Progress&#34;, &#34;type&#34;: &#34;progress&#34;, &#34;resultType&#34;: 3, &#34;visibility&#34;: &#34;EXPANDED&#34;, &#34;time&#34;: &#34;Apr 22, 2024 06:09:02 AM&#34;}\n",
       "Not sending message to fire_notebook server as the post back URL is not http\n",
       "</div>"
      ]
     },
     "metadata": {
      "application/vnd.databricks.v1+output": {
       "addedWidgets": {},
       "arguments": {},
       "data": "<div class=\"ansiout\">Sending Message: {&#34;progress&#34;: &#34;20&#34;, &#34;id&#34;: 9, &#34;name&#34;: &#34;Progress&#34;, &#34;title&#34;: &#34;Progress&#34;, &#34;type&#34;: &#34;progress&#34;, &#34;resultType&#34;: 3, &#34;visibility&#34;: &#34;EXPANDED&#34;, &#34;time&#34;: &#34;Apr 22, 2024 06:09:02 AM&#34;}\nNot sending message to fire_notebook server as the post back URL is not http\n</div>",
       "datasetInfos": [],
       "metadata": {},
       "removedWidgets": [],
       "type": "html"
      }
     },
     "output_type": "display_data"
    }
   ],
   "source": [
    "#Initialize and Start Execution\n",
    "from fire_notebook.output.workflowcontext import RestWorkflowContext\n",
    "restworkflowcontext = RestWorkflowContext(webserverURL, jobId)\n",
    "message=\"20\"\n",
    "#(id:int, title: str, progress: str):\n",
    "restworkflowcontext.outputProgress(9, title=\"Progress\", progress=message)"
   ]
  },
  {
   "cell_type": "code",
   "execution_count": 0,
   "metadata": {
    "application/vnd.databricks.v1+cell": {
     "cellMetadata": {
      "byteLimit": 2048000,
      "rowLimit": 10000
     },
     "inputWidgets": {},
     "nuid": "2e201ce1-b8e1-44fb-9dce-22341bb29a7c",
     "showTitle": false,
     "title": ""
    }
   },
   "outputs": [
    {
     "output_type": "display_data",
     "data": {
      "text/html": [
       "<style scoped>\n",
       "  .ansiout {\n",
       "    display: block;\n",
       "    unicode-bidi: embed;\n",
       "    white-space: pre-wrap;\n",
       "    word-wrap: break-word;\n",
       "    word-break: break-all;\n",
       "    font-family: \"Menlo\", \"Monaco\", \"Consolas\", \"Ubuntu Mono\", \"Source Code Pro\", monospace;\n",
       "    font-size: 13px;\n",
       "    color: #555;\n",
       "    margin-left: 4px;\n",
       "    line-height: 19px;\n",
       "  }\n",
       "</style>\n",
       "<div class=\"ansiout\"></div>"
      ]
     },
     "metadata": {
      "application/vnd.databricks.v1+output": {
       "addedWidgets": {},
       "arguments": {},
       "data": "<div class=\"ansiout\"></div>",
       "datasetInfos": [],
       "metadata": {},
       "removedWidgets": [],
       "type": "html"
      }
     },
     "output_type": "display_data"
    }
   ],
   "source": [
    "# COMMAND ----------\n",
    "\n",
    "# Define custom CSS styles for the table\n",
    "custom_css = \"\"\"\n",
    "<style>\n",
    ".my-table-class {\n",
    "    font-family: Arial, sans-serif;\n",
    "    border-collapse: collapse;\n",
    "    width: 100%;\n",
    "}\n",
    "\n",
    ".my-table-class th {\n",
    "    background-color: #f2f2f2;\n",
    "    color: #333333;\n",
    "    font-weight: bold;\n",
    "    padding: 8px;\n",
    "    border: 1px solid #dddddd;\n",
    "    text-align: left;\n",
    "}\n",
    "\n",
    ".my-table-class td {\n",
    "    border: 1px solid #dddddd;\n",
    "    padding: 8px;\n",
    "    text-align: center;\n",
    "}\n",
    "\n",
    ".my-table-class tbody tr:nth-child(even) {\n",
    "    background-color: #f9f9f9;\n",
    "}\n",
    "\n",
    ".my-table-class tbody tr:hover {\n",
    "    background-color: #dddddd;\n",
    "}\n",
    "\n",
    ".my-table-class caption {\n",
    "    caption-side: top;\n",
    "    font-weight: bold;\n",
    "    margin-bottom: 10px;\n",
    "}\n",
    "</style>\n",
    "\"\"\""
   ]
  },
  {
   "cell_type": "code",
   "execution_count": 0,
   "metadata": {
    "application/vnd.databricks.v1+cell": {
     "cellMetadata": {
      "byteLimit": 2048000,
      "rowLimit": 10000
     },
     "inputWidgets": {},
     "nuid": "d16849e5-ad6a-4b52-84cd-19fd63647f72",
     "showTitle": false,
     "title": ""
    }
   },
   "outputs": [
    {
     "output_type": "display_data",
     "data": {
      "text/html": [
       "<style scoped>\n",
       "  .ansiout {\n",
       "    display: block;\n",
       "    unicode-bidi: embed;\n",
       "    white-space: pre-wrap;\n",
       "    word-wrap: break-word;\n",
       "    word-break: break-all;\n",
       "    font-family: \"Menlo\", \"Monaco\", \"Consolas\", \"Ubuntu Mono\", \"Source Code Pro\", monospace;\n",
       "    font-size: 13px;\n",
       "    color: #555;\n",
       "    margin-left: 4px;\n",
       "    line-height: 19px;\n",
       "  }\n",
       "</style>\n",
       "<div class=\"ansiout\"></div>"
      ]
     },
     "metadata": {
      "application/vnd.databricks.v1+output": {
       "addedWidgets": {},
       "arguments": {},
       "data": "<div class=\"ansiout\"></div>",
       "datasetInfos": [],
       "metadata": {},
       "removedWidgets": [],
       "type": "html"
      }
     },
     "output_type": "display_data"
    }
   ],
   "source": [
    "#Reading the data as pandas dataframe.\n",
    "import pandas as pd\n",
    "colnames=[\"state\",\"account_length\",\"area_code\",\"phone_number\",\"intl_plan\",\"voice_mail_plan\",\"number_vmail_messages\",\"total_day_minutes\",\"total_day_calls\",\"total_day_charge\",\"total_eve_minutes\",\"total_eve_calls\",\"total_eve_charge\",\"total_night_minutes\",\"total_night_calls\",\"total_night_charge\",\"total_intl_minutes\",\"total_intl_calls\",\"total_intl_charge\",\"number_customer_service_calls\",\"churn\"]\n",
    "df = pd.read_csv(\"churn.all\", names=colnames, header=None)"
   ]
  },
  {
   "cell_type": "code",
   "execution_count": 0,
   "metadata": {
    "application/vnd.databricks.v1+cell": {
     "cellMetadata": {
      "byteLimit": 2048000,
      "rowLimit": 10000
     },
     "inputWidgets": {},
     "nuid": "4e832ea2-042b-42a3-ac93-2a622338222b",
     "showTitle": false,
     "title": ""
    }
   },
   "outputs": [
    {
     "output_type": "display_data",
     "data": {
      "text/html": [
       "<style scoped>\n",
       "  .ansiout {\n",
       "    display: block;\n",
       "    unicode-bidi: embed;\n",
       "    white-space: pre-wrap;\n",
       "    word-wrap: break-word;\n",
       "    word-break: break-all;\n",
       "    font-family: \"Menlo\", \"Monaco\", \"Consolas\", \"Ubuntu Mono\", \"Source Code Pro\", monospace;\n",
       "    font-size: 13px;\n",
       "    color: #555;\n",
       "    margin-left: 4px;\n",
       "    line-height: 19px;\n",
       "  }\n",
       "</style>\n",
       "<div class=\"ansiout\"></div>"
      ]
     },
     "metadata": {
      "application/vnd.databricks.v1+output": {
       "addedWidgets": {},
       "arguments": {},
       "data": "<div class=\"ansiout\"></div>",
       "datasetInfos": [],
       "metadata": {},
       "removedWidgets": [],
       "type": "html"
      }
     },
     "output_type": "display_data"
    }
   ],
   "source": [
    "#Determine What to run\n",
    "def run_options(option):\n",
    "    if option == \"Profiling\":\n",
    "        profile_data()\n",
    "        data_preprocessing()\n",
    "        data_visualization()\n",
    "    elif option == \"Modeling\":\n",
    "        model_training()\n",
    "\n",
    "# COMMAND ----------\n",
    "\n",
    "#Profiling Function\n",
    "def profile_data():\n",
    "  modhtml = f\"{custom_css}\\n{df.describe().to_html(classes='my-table-class')}\"\n",
    "  return restworkflowcontext.outHTML(9, \"Summary Statistics of the Churn Dataset \",  modhtml)\n",
    "\n",
    "# COMMAND ----------\n",
    "\n",
    "def data_preprocessing():\n",
    "    # Data Pre-Processing\n",
    "    restworkflowcontext.outHTML(9, \"\", \"<h1>Pre-processing Steps</h1>\")\n",
    "\n",
    "    modhtml = f\"{custom_css}\\nSize of the Churn Dataset: {df.shape}\"\n",
    "    restworkflowcontext.outHTML(9, \"Size of the Churn Dataset\", modhtml)\n",
    "\n",
    "    columns_df = pd.DataFrame({\"List of the Column Names available in the dataset\": df.columns})\n",
    "    modhtml = f\"{custom_css}\\n{columns_df.to_html(classes='my-table-class', index=False)}\"\n",
    "    restworkflowcontext.outHTML(9, \"Columns Used in Churn Dataset\", modhtml)\n",
    "\n",
    "    has_nulls = df.isnull().values.any()\n",
    "    if has_nulls:\n",
    "        modhtml = f\"{custom_css}\\nCheck for Nulls: True\"\n",
    "    else:\n",
    "        modhtml = f\"{custom_css}\\nNo null records found in the dataset.\"\n",
    "\n",
    "    restworkflowcontext.outHTML(9, \"Check for Nulls\", modhtml)\n",
    "\n",
    "\n",
    "# COMMAND ----------\n",
    "\n",
    "def data_visualization():\n",
    "    # Data Visualization\n",
    "    restworkflowcontext.outHTML(9, \"\", \"<h1>Data Visualization</h1>\")\n",
    "    \n",
    "    #plt.figure(figsize=(12,6))\n",
    "    #sns.set('notebook')\n",
    "    #sns.distplot(boston_df.Price, bins=20)\n",
    "    #plt.show()\n",
    "    \n",
    "    message = \"30\"\n",
    "    restworkflowcontext.outputProgress(9, title=\"Progress\", progress=message)\n",
    "    \n",
    "    # Distribution Chart\n",
    "    fig = plotly.offline.plot([go.Histogram(x=df['total_day_calls'], nbinsx=5)], output_type='div', include_plotlyjs=False)\n",
    "    example_plotly = f'{fig}'\n",
    "    restworkflowcontext.outPlotly(9, title=\"TotalDayCalls Distribution Chart\", text=example_plotly )\n",
    "    \n",
    "    message = \"40\"\n",
    "    restworkflowcontext.outputProgress(9, title=\"Progress\", progress=message)\n",
    "    \n",
    "    def df_to_plotly(df):\n",
    "        return {'z': df.values.tolist(),\n",
    "                'x': df.columns.tolist(),\n",
    "                'y': df.index.tolist()}\n",
    "    \n",
    "    dfcorr = df.corr()\n",
    "    \n",
    "    fig = plotly.offline.plot([go.Heatmap(z=dfcorr.values, x=dfcorr.columns, y=dfcorr.index)],\n",
    "                              output_type='div',\n",
    "                              include_plotlyjs=False)\n",
    "    example_plotly = f'{fig}'\n",
    "    restworkflowcontext.outPlotly(9, title=\"Correlation Heatmap\", text=example_plotly)"
   ]
  },
  {
   "cell_type": "code",
   "execution_count": 0,
   "metadata": {
    "application/vnd.databricks.v1+cell": {
     "cellMetadata": {
      "byteLimit": 2048000,
      "rowLimit": 10000
     },
     "inputWidgets": {},
     "nuid": "786d53a3-97a7-4914-9cae-c4fc23fcfe1d",
     "showTitle": false,
     "title": ""
    }
   },
   "outputs": [
    {
     "output_type": "display_data",
     "data": {
      "text/html": [
       "<style scoped>\n",
       "  .ansiout {\n",
       "    display: block;\n",
       "    unicode-bidi: embed;\n",
       "    white-space: pre-wrap;\n",
       "    word-wrap: break-word;\n",
       "    word-break: break-all;\n",
       "    font-family: \"Menlo\", \"Monaco\", \"Consolas\", \"Ubuntu Mono\", \"Source Code Pro\", monospace;\n",
       "    font-size: 13px;\n",
       "    color: #555;\n",
       "    margin-left: 4px;\n",
       "    line-height: 19px;\n",
       "  }\n",
       "</style>\n",
       "<div class=\"ansiout\"></div>"
      ]
     },
     "metadata": {
      "application/vnd.databricks.v1+output": {
       "addedWidgets": {},
       "arguments": {},
       "data": "<div class=\"ansiout\"></div>",
       "datasetInfos": [],
       "metadata": {},
       "removedWidgets": [],
       "type": "html"
      }
     },
     "output_type": "display_data"
    }
   ],
   "source": [
    "# Model Training\n",
    "\n",
    "def model_training():\n",
    "  features = [\"number_vmail_messages\",\"total_day_minutes\",\"total_day_calls\",\"total_day_charge\",\"total_eve_minutes\",\"total_eve_calls\",\"total_eve_charge\",\"total_night_minutes\",\"total_night_calls\",\"total_night_charge\",\"total_intl_minutes\",\"total_intl_calls\",\"total_intl_charge\",\"number_customer_service_calls\"]\n",
    "  data = df\n",
    "  # Churn False. with 1 and True. with 0\n",
    "  data = data.replace(to_replace=\"False.\",value=\"1\").replace(to_replace=\"True.\",value=\"1\")\n",
    "  split_ratio = 0.8\n",
    "  # features with churn\n",
    "  data1 = data[features + ['churn']]\n",
    "  data1.fillna(0, inplace=True)\n",
    "  y=data1[\"churn\"]\n",
    "  X=data1.drop('churn', axis=1)\n",
    "  X_train, X_test, y_train, y_test = train_test_split(X, y, test_size=split_ratio,\n",
    "                                                     stratify=y, random_state=12345)\n",
    "  # some parameters related to RandomForestClassifier\n",
    "  depth = 6\n",
    "  randstate = 1234\n",
    "  rf_clf = RandomForestClassifier(max_depth=depth, random_state=randstate)\n",
    "  rf_clf.fit(X=X_train, y=y_train)\n",
    "  with open(\"Churn_model_new.pkl\", \"wb\") as f:\n",
    "    pickle.dump(rf_clf, f)\n",
    "  rf_train_pred_prob = rf_clf.predict_proba(X_train)\n",
    "  # rf_train_pred_prob\n",
    "  rf_test_pred_prob = rf_clf.predict_proba(X_test)\n",
    "  # rf_test_pred_prob\n",
    "\n",
    "  rf_y_pred_train = rf_clf.predict(X_train)\n",
    "  rf_y_pred_test = rf_clf.predict(X_test)\n",
    "\n",
    "  trainreport = pd.DataFrame(classification_report(y_train,rf_y_pred_train,digits=2, output_dict=True)).T\n",
    "  \n",
    "  print(trainreport)\n",
    "  restworkflowcontext.outHTML(9, title=\"Training Set Metrics\", text=trainreport.to_html())\n",
    "  # restworkflowcontext.outStr(3,\"Training Set Metrics - \"+str(trainreport),\"Classification Report\")\n",
    "  # print(\"Test Classification Report \" )\n",
    "  testreport = pd.DataFrame(classification_report(y_test,rf_y_pred_test,digits=2, output_dict=True)).T\n",
    "  restworkflowcontext.outHTML(9, title=\"Testing Set Metrics\", text=testreport.to_html())\n",
    "  # restworkflowcontext.outStr(3,\"Testing Set Metrics - \"+str(testreport),\"Classification Report\")"
   ]
  },
  {
   "cell_type": "code",
   "execution_count": 0,
   "metadata": {
    "application/vnd.databricks.v1+cell": {
     "cellMetadata": {
      "byteLimit": 2048000,
      "rowLimit": 10000
     },
     "inputWidgets": {},
     "nuid": "e48fdeca-46c8-42e9-9f57-1e3f82cb45d5",
     "showTitle": false,
     "title": ""
    }
   },
   "outputs": [
    {
     "output_type": "display_data",
     "data": {
      "text/html": [
       "<style scoped>\n",
       "  .ansiout {\n",
       "    display: block;\n",
       "    unicode-bidi: embed;\n",
       "    white-space: pre-wrap;\n",
       "    word-wrap: break-word;\n",
       "    word-break: break-all;\n",
       "    font-family: \"Menlo\", \"Monaco\", \"Consolas\", \"Ubuntu Mono\", \"Source Code Pro\", monospace;\n",
       "    font-size: 13px;\n",
       "    color: #555;\n",
       "    margin-left: 4px;\n",
       "    line-height: 19px;\n",
       "  }\n",
       "</style>\n",
       "<div class=\"ansiout\">Check the Input type.\n",
       " And Input is string type.\n",
       "++++++\n",
       "Sending Message: {&#39;text&#39;: &#39;&lt;style&gt;.my-table-class {    font-family: Arial, sans-serif;    border-collapse: collapse;    width: 100%;}.my-table-class th {    background-color: #f2f2f2;    color: #333333;    font-weight: bold;    padding: 8px;    border: 1px solid #dddddd;    text-align: left;}.my-table-class td {    border: 1px solid #dddddd;    padding: 8px;    text-align: center;}.my-table-class tbody tr:nth-child(even) {    background-color: #f9f9f9;}.my-table-class tbody tr:hover {    background-color: #dddddd;}.my-table-class caption {    caption-side: top;    font-weight: bold;    margin-bottom: 10px;}&lt;/style&gt;&lt;table border=@@1@@ class=@@dataframe my-table-class@@&gt;  &lt;thead&gt;    &lt;tr style=@@text-align: right;@@&gt;      &lt;th&gt;&lt;/th&gt;      &lt;th&gt;account_length&lt;/th&gt;      &lt;th&gt;area_code&lt;/th&gt;      &lt;th&gt;number_vmail_messages&lt;/th&gt;      &lt;th&gt;total_day_minutes&lt;/th&gt;      &lt;th&gt;total_day_calls&lt;/th&gt;      &lt;th&gt;total_day_charge&lt;/th&gt;      &lt;th&gt;total_eve_minutes&lt;/th&gt;      &lt;th&gt;total_eve_calls&lt;/th&gt;      &lt;th&gt;total_eve_charge&lt;/th&gt;      &lt;th&gt;total_night_minutes&lt;/th&gt;      &lt;th&gt;total_night_calls&lt;/th&gt;      &lt;th&gt;total_night_charge&lt;/th&gt;      &lt;th&gt;total_intl_minutes&lt;/th&gt;      &lt;th&gt;total_intl_calls&lt;/th&gt;      &lt;th&gt;total_intl_charge&lt;/th&gt;      &lt;th&gt;number_customer_service_calls&lt;/th&gt;    &lt;/tr&gt;  &lt;/thead&gt;  &lt;tbody&gt;    &lt;tr&gt;      &lt;th&gt;count&lt;/th&gt;      &lt;td&gt;5000.00000&lt;/td&gt;      &lt;td&gt;5000.000000&lt;/td&gt;      &lt;td&gt;5000.000000&lt;/td&gt;      &lt;td&gt;5000.000000&lt;/td&gt;      &lt;td&gt;5000.000000&lt;/td&gt;      &lt;td&gt;5000.000000&lt;/td&gt;      &lt;td&gt;5000.000000&lt;/td&gt;      &lt;td&gt;5000.000000&lt;/td&gt;      &lt;td&gt;5000.000000&lt;/td&gt;      &lt;td&gt;5000.000000&lt;/td&gt;      &lt;td&gt;5000.000000&lt;/td&gt;      &lt;td&gt;5000.000000&lt;/td&gt;      &lt;td&gt;5000.000000&lt;/td&gt;      &lt;td&gt;5000.000000&lt;/td&gt;      &lt;td&gt;5000.000000&lt;/td&gt;      &lt;td&gt;5000.000000&lt;/td&gt;    &lt;/tr&gt;    &lt;tr&gt;      &lt;th&gt;mean&lt;/th&gt;      &lt;td&gt;100.25860&lt;/td&gt;      &lt;td&gt;436.911400&lt;/td&gt;      &lt;td&gt;7.755200&lt;/td&gt;      &lt;td&gt;180.288900&lt;/td&gt;      &lt;td&gt;100.029400&lt;/td&gt;      &lt;td&gt;30.649668&lt;/td&gt;      &lt;td&gt;200.636560&lt;/td&gt;      &lt;td&gt;100.191000&lt;/td&gt;      &lt;td&gt;17.054322&lt;/td&gt;      &lt;td&gt;200.391620&lt;/td&gt;      &lt;td&gt;99.919200&lt;/td&gt;      &lt;td&gt;9.017732&lt;/td&gt;      &lt;td&gt;10.261780&lt;/td&gt;      &lt;td&gt;4.435200&lt;/td&gt;      &lt;td&gt;2.771196&lt;/td&gt;      &lt;td&gt;1.570400&lt;/td&gt;    &lt;/tr&gt;    &lt;tr&gt;      &lt;th&gt;std&lt;/th&gt;      &lt;td&gt;39.69456&lt;/td&gt;      &lt;td&gt;42.209182&lt;/td&gt;      &lt;td&gt;13.546393&lt;/td&gt;      &lt;td&gt;53.894699&lt;/td&gt;      &lt;td&gt;19.831197&lt;/td&gt;      &lt;td&gt;9.162069&lt;/td&gt;      &lt;td&gt;50.551309&lt;/td&gt;      &lt;td&gt;19.826496&lt;/td&gt;      &lt;td&gt;4.296843&lt;/td&gt;      &lt;td&gt;50.527789&lt;/td&gt;      &lt;td&gt;19.958686&lt;/td&gt;      &lt;td&gt;2.273763&lt;/td&gt;      &lt;td&gt;2.761396&lt;/td&gt;      &lt;td&gt;2.456788&lt;/td&gt;      &lt;td&gt;0.745514&lt;/td&gt;      &lt;td&gt;1.306363&lt;/td&gt;    &lt;/tr&gt;    &lt;tr&gt;      &lt;th&gt;min&lt;/th&gt;      &lt;td&gt;1.00000&lt;/td&gt;      &lt;td&gt;408.000000&lt;/td&gt;      &lt;td&gt;0.000000&lt;/td&gt;      &lt;td&gt;0.000000&lt;/td&gt;      &lt;td&gt;0.000000&lt;/td&gt;      &lt;td&gt;0.000000&lt;/td&gt;      &lt;td&gt;0.000000&lt;/td&gt;      &lt;td&gt;0.000000&lt;/td&gt;      &lt;td&gt;0.000000&lt;/td&gt;      &lt;td&gt;0.000000&lt;/td&gt;      &lt;td&gt;0.000000&lt;/td&gt;      &lt;td&gt;0.000000&lt;/td&gt;      &lt;td&gt;0.000000&lt;/td&gt;      &lt;td&gt;0.000000&lt;/td&gt;      &lt;td&gt;0.000000&lt;/td&gt;      &lt;td&gt;0.000000&lt;/td&gt;    &lt;/tr&gt;    &lt;tr&gt;      &lt;th&gt;25%&lt;/th&gt;      &lt;td&gt;73.00000&lt;/td&gt;      &lt;td&gt;408.000000&lt;/td&gt;      &lt;td&gt;0.000000&lt;/td&gt;      &lt;td&gt;143.700000&lt;/td&gt;      &lt;td&gt;87.000000&lt;/td&gt;      &lt;td&gt;24.430000&lt;/td&gt;      &lt;td&gt;166.375000&lt;/td&gt;      &lt;td&gt;87.000000&lt;/td&gt;      &lt;td&gt;14.140000&lt;/td&gt;      &lt;td&gt;166.900000&lt;/td&gt;      &lt;td&gt;87.000000&lt;/td&gt;      &lt;td&gt;7.510000&lt;/td&gt;      &lt;td&gt;8.500000&lt;/td&gt;      &lt;td&gt;3.000000&lt;/td&gt;      &lt;td&gt;2.300000&lt;/td&gt;      &lt;td&gt;1.000000&lt;/td&gt;    &lt;/tr&gt;    &lt;tr&gt;      &lt;th&gt;50%&lt;/th&gt;      &lt;td&gt;100.00000&lt;/td&gt;      &lt;td&gt;415.000000&lt;/td&gt;      &lt;td&gt;0.000000&lt;/td&gt;      &lt;td&gt;180.100000&lt;/td&gt;      &lt;td&gt;100.000000&lt;/td&gt;      &lt;td&gt;30.620000&lt;/td&gt;      &lt;td&gt;201.000000&lt;/td&gt;      &lt;td&gt;100.000000&lt;/td&gt;      &lt;td&gt;17.090000&lt;/td&gt;      &lt;td&gt;200.400000&lt;/td&gt;      &lt;td&gt;100.000000&lt;/td&gt;      &lt;td&gt;9.020000&lt;/td&gt;      &lt;td&gt;10.300000&lt;/td&gt;      &lt;td&gt;4.000000&lt;/td&gt;      &lt;td&gt;2.780000&lt;/td&gt;      &lt;td&gt;1.000000&lt;/td&gt;    &lt;/tr&gt;    &lt;tr&gt;      &lt;th&gt;75%&lt;/th&gt;      &lt;td&gt;127.00000&lt;/td&gt;      &lt;td&gt;415.000000&lt;/td&gt;      &lt;td&gt;17.000000&lt;/td&gt;      &lt;td&gt;216.200000&lt;/td&gt;      &lt;td&gt;113.000000&lt;/td&gt;      &lt;td&gt;36.750000&lt;/td&gt;      &lt;td&gt;234.100000&lt;/td&gt;      &lt;td&gt;114.000000&lt;/td&gt;      &lt;td&gt;19.900000&lt;/td&gt;      &lt;td&gt;234.700000&lt;/td&gt;      &lt;td&gt;113.000000&lt;/td&gt;      &lt;td&gt;10.560000&lt;/td&gt;      &lt;td&gt;12.000000&lt;/td&gt;      &lt;td&gt;6.000000&lt;/td&gt;      &lt;td&gt;3.240000&lt;/td&gt;      &lt;td&gt;2.000000&lt;/td&gt;    &lt;/tr&gt;    &lt;tr&gt;      &lt;th&gt;max&lt;/th&gt;      &lt;td&gt;243.00000&lt;/td&gt;      &lt;td&gt;510.000000&lt;/td&gt;      &lt;td&gt;52.000000&lt;/td&gt;      &lt;td&gt;351.500000&lt;/td&gt;      &lt;td&gt;165.000000&lt;/td&gt;      &lt;td&gt;59.760000&lt;/td&gt;      &lt;td&gt;363.700000&lt;/td&gt;      &lt;td&gt;170.000000&lt;/td&gt;      &lt;td&gt;30.910000&lt;/td&gt;      &lt;td&gt;395.000000&lt;/td&gt;      &lt;td&gt;175.000000&lt;/td&gt;      &lt;td&gt;17.770000&lt;/td&gt;      &lt;td&gt;20.000000&lt;/td&gt;      &lt;td&gt;20.000000&lt;/td&gt;      &lt;td&gt;5.400000&lt;/td&gt;      &lt;td&gt;9.000000&lt;/td&gt;    &lt;/tr&gt;  &lt;/tbody&gt;&lt;/table&gt;&#39;, &#39;id&#39;: 9, &#39;name&#39;: &#39;Summary Statistics of the Churn Dataset &#39;, &#39;title&#39;: &#39;Summary Statistics of the Churn Dataset &#39;, &#39;type&#39;: &#39;html&#39;, &#39;resultType&#39;: 3, &#39;visibility&#39;: &#39;EXPANDED&#39;, &#39;time&#39;: &#39;Apr 21, 2024 04:59:37 PM&#39;}\n",
       "Not sending message to fire_notebook server as the post back URL is not http\n",
       "++++++\n",
       "Check the Input type.\n",
       " And Input is string type.\n",
       "++++++\n",
       "Sending Message: {&#39;text&#39;: &#39;&lt;h1&gt;Pre-processing Steps&lt;/h1&gt;&#39;, &#39;id&#39;: 9, &#39;name&#39;: &#39;&#39;, &#39;title&#39;: &#39;&#39;, &#39;type&#39;: &#39;html&#39;, &#39;resultType&#39;: 3, &#39;visibility&#39;: &#39;EXPANDED&#39;, &#39;time&#39;: &#39;Apr 21, 2024 04:59:37 PM&#39;}\n",
       "Not sending message to fire_notebook server as the post back URL is not http\n",
       "++++++\n",
       "Check the Input type.\n",
       " And Input is string type.\n",
       "++++++\n",
       "Sending Message: {&#39;text&#39;: &#39;&lt;style&gt;.my-table-class {    font-family: Arial, sans-serif;    border-collapse: collapse;    width: 100%;}.my-table-class th {    background-color: #f2f2f2;    color: #333333;    font-weight: bold;    padding: 8px;    border: 1px solid #dddddd;    text-align: left;}.my-table-class td {    border: 1px solid #dddddd;    padding: 8px;    text-align: center;}.my-table-class tbody tr:nth-child(even) {    background-color: #f9f9f9;}.my-table-class tbody tr:hover {    background-color: #dddddd;}.my-table-class caption {    caption-side: top;    font-weight: bold;    margin-bottom: 10px;}&lt;/style&gt;Size of the Churn Dataset: (5000, 21)&#39;, &#39;id&#39;: 9, &#39;name&#39;: &#39;Size of the Churn Dataset&#39;, &#39;title&#39;: &#39;Size of the Churn Dataset&#39;, &#39;type&#39;: &#39;html&#39;, &#39;resultType&#39;: 3, &#39;visibility&#39;: &#39;EXPANDED&#39;, &#39;time&#39;: &#39;Apr 21, 2024 04:59:37 PM&#39;}\n",
       "Not sending message to fire_notebook server as the post back URL is not http\n",
       "++++++\n",
       "Check the Input type.\n",
       " And Input is string type.\n",
       "++++++\n",
       "Sending Message: {&#39;text&#39;: &#39;&lt;style&gt;.my-table-class {    font-family: Arial, sans-serif;    border-collapse: collapse;    width: 100%;}.my-table-class th {    background-color: #f2f2f2;    color: #333333;    font-weight: bold;    padding: 8px;    border: 1px solid #dddddd;    text-align: left;}.my-table-class td {    border: 1px solid #dddddd;    padding: 8px;    text-align: center;}.my-table-class tbody tr:nth-child(even) {    background-color: #f9f9f9;}.my-table-class tbody tr:hover {    background-color: #dddddd;}.my-table-class caption {    caption-side: top;    font-weight: bold;    margin-bottom: 10px;}&lt;/style&gt;&lt;table border=@@1@@ class=@@dataframe my-table-class@@&gt;  &lt;thead&gt;    &lt;tr style=@@text-align: right;@@&gt;      &lt;th&gt;List of the Column Names available in the dataset&lt;/th&gt;    &lt;/tr&gt;  &lt;/thead&gt;  &lt;tbody&gt;    &lt;tr&gt;      &lt;td&gt;state&lt;/td&gt;    &lt;/tr&gt;    &lt;tr&gt;      &lt;td&gt;account_length&lt;/td&gt;    &lt;/tr&gt;    &lt;tr&gt;      &lt;td&gt;area_code&lt;/td&gt;    &lt;/tr&gt;    &lt;tr&gt;      &lt;td&gt;phone_number&lt;/td&gt;    &lt;/tr&gt;    &lt;tr&gt;      &lt;td&gt;intl_plan&lt;/td&gt;    &lt;/tr&gt;    &lt;tr&gt;      &lt;td&gt;voice_mail_plan&lt;/td&gt;    &lt;/tr&gt;    &lt;tr&gt;      &lt;td&gt;number_vmail_messages&lt;/td&gt;    &lt;/tr&gt;    &lt;tr&gt;      &lt;td&gt;total_day_minutes&lt;/td&gt;    &lt;/tr&gt;    &lt;tr&gt;      &lt;td&gt;total_day_calls&lt;/td&gt;    &lt;/tr&gt;    &lt;tr&gt;      &lt;td&gt;total_day_charge&lt;/td&gt;    &lt;/tr&gt;    &lt;tr&gt;      &lt;td&gt;total_eve_minutes&lt;/td&gt;    &lt;/tr&gt;    &lt;tr&gt;      &lt;td&gt;total_eve_calls&lt;/td&gt;    &lt;/tr&gt;    &lt;tr&gt;      &lt;td&gt;total_eve_charge&lt;/td&gt;    &lt;/tr&gt;    &lt;tr&gt;      &lt;td&gt;total_night_minutes&lt;/td&gt;    &lt;/tr&gt;    &lt;tr&gt;      &lt;td&gt;total_night_calls&lt;/td&gt;    &lt;/tr&gt;    &lt;tr&gt;      &lt;td&gt;total_night_charge&lt;/td&gt;    &lt;/tr&gt;    &lt;tr&gt;      &lt;td&gt;total_intl_minutes&lt;/td&gt;    &lt;/tr&gt;    &lt;tr&gt;      &lt;td&gt;total_intl_calls&lt;/td&gt;    &lt;/tr&gt;    &lt;tr&gt;      &lt;td&gt;total_intl_charge&lt;/td&gt;    &lt;/tr&gt;    &lt;tr&gt;      &lt;td&gt;number_customer_service_calls&lt;/td&gt;    &lt;/tr&gt;    &lt;tr&gt;      &lt;td&gt;churn&lt;/td&gt;    &lt;/tr&gt;  &lt;/tbody&gt;&lt;/table&gt;&#39;, &#39;id&#39;: 9, &#39;name&#39;: &#39;Columns Used in Churn Dataset&#39;, &#39;title&#39;: &#39;Columns Used in Churn Dataset&#39;, &#39;type&#39;: &#39;html&#39;, &#39;resultType&#39;: 3, &#39;visibility&#39;: &#39;EXPANDED&#39;, &#39;time&#39;: &#39;Apr 21, 2024 04:59:37 PM&#39;}\n",
       "Not sending message to fire_notebook server as the post back URL is not http\n",
       "++++++\n",
       "Check the Input type.\n",
       " And Input is string type.\n",
       "++++++\n",
       "Sending Message: {&#39;text&#39;: &#39;&lt;style&gt;.my-table-class {    font-family: Arial, sans-serif;    border-collapse: collapse;    width: 100%;}.my-table-class th {    background-color: #f2f2f2;    color: #333333;    font-weight: bold;    padding: 8px;    border: 1px solid #dddddd;    text-align: left;}.my-table-class td {    border: 1px solid #dddddd;    padding: 8px;    text-align: center;}.my-table-class tbody tr:nth-child(even) {    background-color: #f9f9f9;}.my-table-class tbody tr:hover {    background-color: #dddddd;}.my-table-class caption {    caption-side: top;    font-weight: bold;    margin-bottom: 10px;}&lt;/style&gt;No null records found in the dataset.&#39;, &#39;id&#39;: 9, &#39;name&#39;: &#39;Check for Nulls&#39;, &#39;title&#39;: &#39;Check for Nulls&#39;, &#39;type&#39;: &#39;html&#39;, &#39;resultType&#39;: 3, &#39;visibility&#39;: &#39;EXPANDED&#39;, &#39;time&#39;: &#39;Apr 21, 2024 04:59:37 PM&#39;}\n",
       "Not sending message to fire_notebook server as the post back URL is not http\n",
       "++++++\n",
       "Check the Input type.\n",
       " And Input is string type.\n",
       "++++++\n",
       "Sending Message: {&#39;text&#39;: &#39;&lt;h1&gt;Data Visualization&lt;/h1&gt;&#39;, &#39;id&#39;: 9, &#39;name&#39;: &#39;&#39;, &#39;title&#39;: &#39;&#39;, &#39;type&#39;: &#39;html&#39;, &#39;resultType&#39;: 3, &#39;visibility&#39;: &#39;EXPANDED&#39;, &#39;time&#39;: &#39;Apr 21, 2024 04:59:37 PM&#39;}\n",
       "Not sending message to fire_notebook server as the post back URL is not http\n",
       "++++++\n",
       "Sending Message: {&#34;progress&#34;: &#34;30&#34;, &#34;id&#34;: 9, &#34;name&#34;: &#34;Progress&#34;, &#34;title&#34;: &#34;Progress&#34;, &#34;type&#34;: &#34;progress&#34;, &#34;resultType&#34;: 3, &#34;visibility&#34;: &#34;EXPANDED&#34;, &#34;time&#34;: &#34;Apr 21, 2024 04:59:37 PM&#34;}\n",
       "Not sending message to fire_notebook server as the post back URL is not http\n",
       "Check the Input type..\n",
       "There is a match\n",
       " And Input is string type.\n",
       "Sending Message: {&#39;text&#39;: &#39;Plotly.newPlot(                        @@ef979e6b-935f-4483-b441-17bf1f31c445@@,                        [{@@nbinsx@@:5,@@x@@:[110,123,114,71,113,98,88,79,97,84,137,127,96,88,70,67,139,114,66,90,117,89,112,103,86,76,115,73,109,117,95,105,121,118,94,80,128,64,106,94,102,85,82,77,67,97,120,133,114,135,108,57,112,117,83,67,98,129,70,103,97,83,91,92,98,74,105,93,70,101,93,97,83,146,109,90,109,117,72,98,99,104,123,101,96,104,105,118,104,125,61,100,100,93,71,106,110,87,131,72,114,137,82,99,94,65,102,131,91,90,100,117,117,108,125,89,83,114,117,125,92,102,103,124,119,52,108,124,90,115,92,125,115,96,109,112,97,106,117,101,115,68,107,47,86,101,91,87,121,97,99,119,116,112,115,116,120,129,117,124,97,110,99,103,151,92,126,102,124,87,105,91,87,87,92,104,91,103,93,122,125,94,111,98,68,145,74,71,111,109,85,109,74,118,52,86,119,67,101,64,146,101,86,109,105,76,98,94,95,112,72,100,131,139,98,93,89,80,121,121,116,114,112,113,97,111,85,78,136,84,109,110,96,97,140,106,103,117,148,86,89,95,77,81,99,107,102,94,85,114,99,91,90,101,117,126,122,118,111,79,110,88,103,110,55,79,94,89,104,123,105,121,78,104,90,103,88,96,85,135,97,93,115,74,108,90,122,88,88,95,121,110,112,93,86,115,83,117,129,98,80,106,108,106,117,109,111,99,101,128,109,102,69,136,99,158,105,66,96,81,79,79,107,134,91,104,95,109,130,97,98,83,121,99,95,97,70,121,104,67,63,115,105,98,92,131,117,117,122,63,104,78,112,95,77,105,89,85,122,109,53,83,121,87,88,75,96,127,110,99,81,110,57,98,77,113,87,123,84,100,118,107,87,82,125,113,64,102,95,99,125,129,92,76,78,89,102,103,129,91,105,124,108,122,80,91,78,134,108,110,90,80,85,112,77,47,99,84,73,98,126,114,122,124,110,131,129,65,91,69,100,98,77,106,101,80,123,76,93,99,141,93,114,129,107,103,116,100,114,79,107,107,115,77,125,124,88,99,86,120,128,109,109,75,85,113,103,103,163,63,146,116,117,59,101,111,106,112,134,102,108,123,116,95,132,111,103,100,126,119,119,91,113,104,93,114,134,93,61,91,102,104,61,138,97,66,88,122,69,114,102,94,101,74,113,137,100,68,92,97,108,86,84,108,105,125,88,126,133,110,77,112,61,117,97,101,88,93,126,113,94,77,120,109,90,106,90,91,54,63,58,111,112,103,80,84,77,110,96,97,103,107,88,106,104,76,97,73,88,137,108,107,92,88,121,90,74,112,76,108,151,77,109,75,128,102,97,85,118,81,105,96,85,111,138,95,70,68,80,62,89,86,109,95,144,77,119,107,94,55,120,83,108,82,110,111,138,119,107,79,89,88,68,140,110,91,109,105,119,125,107,112,97,104,129,84,105,106,94,83,92,120,92,79,114,112,74,91,122,97,81,100,143,65,126,85,147,101,102,103,69,70,80,126,95,110,120,102,135,108,109,117,106,99,90,101,134,99,110,78,90,100,98,94,90,113,76,101,105,104,111,119,36,110,91,98,94,104,89,86,110,95,110,104,95,81,78,97,111,81,70,114,104,101,70,95,130,116,124,88,88,92,96,109,103,100,116,111,122,98,105,121,94,123,110,98,86,89,123,72,40,133,112,126,122,97,85,102,120,119,80,116,94,88,105,76,88,108,99,88,84,128,78,124,83,97,132,150,93,104,54,97,112,110,99,107,133,54,107,100,104,138,87,124,83,70,82,86,97,79,88,86,98,108,118,84,89,126,113,115,96,102,88,86,73,87,120,89,76,94,118,89,96,103,115,102,78,92,127,133,99,110,110,74,104,105,82,117,147,56,94,86,106,107,116,75,100,93,79,78,112,114,58,81,88,98,92,101,79,91,110,89,91,96,73,135,133,90,94,114,111,145,132,71,108,114,128,72,89,114,150,119,79,109,107,128,107,78,66,96,82,82,113,84,85,108,124,75,113,112,72,91,85,91,96,118,113,106,132,113,114,107,61,90,123,113,95,83,89,95,80,145,91,129,123,122,74,97,67,110,113,51,121,107,134,134,127,117,139,104,106,68,87,103,87,88,107,121,127,90,137,81,88,107,147,88,67,75,83,124,129,89,86,93,123,109,73,69,97,100,106,81,95,75,130,130,63,147,103,68,122,95,90,90,90,118,77,105,102,70,94,85,106,105,112,55,102,103,117,150,118,97,104,99,107,108,101,91,80,109,138,84,91,88,101,117,92,91,57,111,83,130,111,93,125,96,117,132,148,74,72,91,99,87,65,129,94,106,114,82,125,108,85,111,80,74,77,80,92,89,77,112,112,104,109,115,129,87,107,72,112,118,67,116,107,109,101,158,125,72,97,101,71,127,114,82,140,97,119,108,92,122,88,77,106,81,119,123,113,112,88,150,115,101,97,97,72,115,79,100,86,95,87,121,105,120,78,121,127,95,104,96,128,78,93,100,115,97,104,112,115,100,93,98,85,129,95,122,116,106,79,165,105,98,85,75,103,78,104,103,62,94,109,73,84,87,111,97,81,108,108,74,71,113,30,129,117,123,110,76,106,94,89,105,110,120,117,123,110,122,70,55,78,107,117,94,106,95,101,108,104,88,81,113,98,78,89,108,54,101,92,89,108,82,122,92,92,94,122,106,56,63,98,95,63,97,117,80,86,78,90,92,96,106,141,90,112,65,93,127,67,85,132,102,88,140,84,92,87,83,96,98,93,91,97,84,101,139,109,77,71,98,91,71,115,56,109,79,118,116,83,107,90,122,92,120,83,66,108,105,132,105,93,97,84,121,65,115,83,95,107,76,105,69,79,130,127,112,115,114,102,76,102,48,62,116,129,118,77,90,95,138,107,96,66,123,132,108,95,99,118,107,106,106,76,61,110,112,123,90,111,130,69,127,78,92,81,135,119,123,106,92,123,130,100,113,103,80,98,102,105,60,42,117,112,115,119,92,145,91,121,107,109,114,99,124,85,107,79,96,86,101,71,80,89,0,45,117,98,107,124,121,105,91,103,93,120,84,89,91,102,76,122,115,97,118,66,131,127,75,125,102,90,105,129,112,139,134,96,115,119,110,107,113,108,116,98,96,127,62,105,118,85,107,121,110,124,0,87,116,90,88,86,120,113,80,139,105,104,95,91,84,60,78,90,89,121,74,101,95,68,81,45,117,77,148,84,108,117,130,70,107,75,107,150,114,117,118,99,115,97,102,116,82,99,104,104,105,110,101,100,137,136,111,80,95,120,113,94,88,160,78,107,93,85,120,108,59,102,79,95,99,66,120,89,112,62,102,122,92,102,79,93,91,106,87,104,94,84,120,107,110,126,90,85,136,120,101,102,104,86,88,116,94,117,120,74,84,74,105,82,91,100,114,99,96,112,70,78,91,136,83,100,89,113,108,112,94,99,111,141,104,84,102,99,102,79,122,111,112,100,92,105,68,98,92,111,103,80,94,106,106,110,93,79,92,143,68,100,91,110,106,69,76,95,126,69,113,96,104,100,134,78,99,80,85,90,123,97,110,140,96,92,73,136,93,77,111,119,55,107,106,108,119,92,102,86,93,77,113,110,102,127,90,73,102,113,94,99,96,73,89,87,114,73,95,125,108,103,88,102,149,83,140,115,121,115,81,74,145,144,65,113,101,114,133,104,93,79,95,99,77,92,104,74,112,143,94,79,86,78,134,130,78,87,102,132,79,80,93,91,96,80,104,93,125,82,85,99,123,87,105,96,83,120,95,96,119,116,73,97,93,91,93,107,88,56,80,107,89,143,120,114,127,75,100,113,107,85,133,117,89,108,96,95,105,113,129,83,68,93,116,73,84,66,87,110,102,85,152,97,124,96,123,87,86,108,48,104,123,121,95,105,70,101,68,125,95,91,120,130,114,124,87,94,94,147,110,82,107,74,142,83,92,108,110,106,127,105,100,102,124,77,101,87,125,64,86,110,101,112,125,92,79,81,103,132,83,82,127,83,97,76,97,108,104,69,91,119,90,115,111,102,87,73,121,90,95,65,80,110,103,78,105,118,84,102,103,100,104,103,148,119,83,147,82,98,119,140,82,84,99,94,78,83,108,106,96,67,140,82,90,116,97,87,87,95,100,115,110,102,119,82,93,117,122,117,73,138,115,144,96,144,85,138,134,106,101,102,110,107,103,103,113,91,83,75,109,115,156,97,91,80,91,131,102,116,115,126,98,99,97,75,77,60,110,133,89,93,123,123,101,111,127,89,99,129,79,103,105,113,100,66,117,91,118,105,104,140,110,114,60,125,89,78,100,103,120,99,94,102,105,132,126,82,102,104,127,70,130,93,85,123,101,124,90,118,104,86,100,92,124,98,99,118,65,73,96,105,109,110,123,77,120,82,103,87,79,126,75,92,118,79,133,105,109,102,79,97,63,121,107,101,110,83,132,106,92,84,106,93,133,73,96,119,112,100,96,70,35,88,123,77,96,96,119,128,120,97,116,87,109,95,100,86,102,96,88,112,110,151,98,111,82,81,113,118,113,104,109,78,112,67,106,93,129,109,138,106,69,76,72,128,87,133,89,115,121,106,84,125,61,61,117,132,133,98,125,102,118,79,121,92,101,97,101,92,87,58,104,118,112,104,122,65,55,91,95,121,119,91,121,131,114,116,107,134,137,108,101,72,107,106,83,76,110,69,99,84,107,104,65,97,66,111,122,88,53,112,108,113,95,108,112,82,82,89,135,87,100,100,93,112,101,85,129,71,96,119,109,84,108,78,95,117,59,112,85,98,96,70,77,137,99,49,138,108,105,102,120,64,105,86,109,78,108,134,96,102,83,127,106,121,80,126,102,116,99,89,105,94,83,86,82,69,103,89,94,114,65,125,89,85,120,97,121,68,58,121,88,128,102,130,101,116,143,74,124,107,117,106,130,81,92,98,72,54,67,105,105,142,128,72,103,99,106,120,95,122,78,110,121,67,121,111,133,107,42,94,107,72,103,109,108,80,93,100,92,92,95,141,104,88,96,112,65,95,61,104,108,80,115,88,108,84,129,70,116,105,85,133,83,121,112,97,116,109,95,122,87,114,85,76,137,97,88,102,103,88,102,86,95,102,98,70,100,71,138,61,86,106,57,71,116,75,105,105,112,74,54,108,87,112,78,100,96,80,109,92,100,94,107,100,123,120,98,120,53,112,89,102,104,57,111,105,52,107,110,133,105,109,56,116,84,120,108,104,77,96,115,101,102,90,84,97,71,107,119,78,83,71,107,105,72,98,101,96,113,102,116,151,102,71,51,85,94,97,103,92,90,107,98,118,84,73,122,85,114,83,123,111,95,109,106,123,107,106,125,122,92,117,80,107,93,100,78,123,108,141,102,102,87,158,96,157,86,99,71,99,70,94,87,101,109,80,130,59,82,76,119,102,88,112,58,91,119,141,99,120,120,94,66,98,113,97,82,121,104,123,88,99,104,88,114,65,79,96,108,113,120,115,104,121,89,70,79,90,123,119,117,120,118,107,93,103,145,74,120,126,99,96,95,98,82,109,93,90,96,128,146,124,87,120,87,115,74,133,111,80,91,106,114,67,117,127,95,93,114,135,72,125,112,45,95,135,91,116,62,59,110,95,66,114,131,96,105,107,125,98,105,119,115,95,125,117,88,115,70,116,101,105,76,142,116,121,57,65,93,102,93,122,134,98,60,99,108,100,86,80,117,82,121,116,123,113,121,72,117,112,134,119,56,91,107,100,101,80,133,114,81,67,130,69,92,65,87,92,116,81,98,100,62,60,112,121,95,105,92,106,107,90,104,90,78,78,122,106,113,99,130,95,141,100,120,81,80,92,88,80,90,120,107,131,93,89,126,89,100,124,90,98,130,102,88,78,102,140,98,137,109,113,138,105,85,106,119,51,85,126,92,148,91,108,126,106,94,92,82,116,111,99,140,99,114,85,110,114,120,145,114,100,112,117,103,85,73,122,73,84,130,136,96,108,123,115,86,128,84,91,97,108,92,123,105,117,109,96,139,69,82,62,126,77,84,98,93,95,81,117,83,97,92,81,95,82,113,86,82,89,91,124,84,108,121,133,89,128,105,104,58,69,134,101,138,116,93,94,104,125,110,103,127,82,95,124,111,94,125,71,93,137,91,106,114,107,104,113,143,90,116,122,142,94,124,115,78,108,92,84,116,97,94,101,86,88,79,106,59,136,129,103,116,90,104,88,99,126,100,85,81,65,68,84,105,93,81,117,89,119,150,95,74,101,114,88,109,90,74,99,89,110,106,131,104,112,142,132,82,68,87,118,99,114,108,105,126,100,104,77,106,66,122,95,80,77,114,113,91,113,68,122,101,94,80,48,78,110,71,106,108,90,144,91,130,80,115,119,70,88,97,110,98,110,101,100,98,123,101,102,122,128,109,126,112,124,96,88,77,123,125,80,90,125,102,102,87,128,83,118,114,100,89,98,67,93,77,61,92,123,68,108,98,134,49,44,44,88,130,141,101,104,98,80,112,98,99,130,94,90,115,108,88,106,94,103,100,122,67,104,102,78,87,89,92,119,126,87,89,112,117,88,67,98,62,105,134,116,104,106,84,109,68,134,71,73,63,86,90,129,102,104,89,118,96,75,103,73,116,114,146,100,113,87,83,113,111,94,91,115,65,106,81,88,102,44,134,81,132,136,54,94,81,134,96,72,89,117,100,71,107,86,67,106,117,112,87,105,83,96,114,109,116,104,73,130,63,63,114,70,69,109,82,91,104,78,103,124,145,97,107,97,78,100,89,127,96,92,90,102,105,80,92,87,101,89,105,116,96,98,114,116,83,103,115,93,112,112,137,94,145,103,83,134,101,81,74,92,81,119,83,92,111,103,112,126,80,123,108,83,103,98,93,98,137,129,83,93,98,85,91,122,114,106,106,88,61,88,86,95,99,102,85,63,108,113,55,91,88,127,72,119,98,93,95,61,93,106,114,121,94,131,101,123,111,61,101,100,92,71,121,116,99,89,99,110,125,83,143,100,101,95,77,120,84,119,115,102,96,100,110,88,76,100,74,94,123,83,96,121,139,127,85,95,141,115,94,112,91,97,138,100,112,100,111,117,94,97,60,111,67,99,95,121,108,97,101,85,93,110,115,70,125,67,71,123,121,128,102,128,102,115,74,100,116,88,130,126,40,111,110,151,83,76,67,86,89,108,107,63,84,98,120,120,101,96,90,107,123,135,92,114,134,86,141,79,84,85,100,66,72,76,94,119,145,101,81,117,105,81,86,79,89,102,79,96,101,95,140,93,99,65,118,111,112,87,101,117,104,85,66,103,105,87,69,105,61,115,110,115,79,76,73,107,81,98,83,139,92,100,121,67,84,141,108,109,115,114,115,97,85,140,122,71,96,109,117,105,119,105,110,128,119,85,133,106,88,77,84,70,95,94,113,78,88,114,127,131,109,87,112,91,94,130,128,81,106,111,90,131,99,101,118,105,126,114,99,128,98,77,57,109,105,113,123,86,95,123,78,85,124,97,117,100,77,109,86,86,77,93,66,124,105,121,142,88,99,101,111,94,110,110,125,106,125,74,131,112,104,76,113,122,125,112,76,106,127,65,91,48,111,120,112,102,131,95,88,97,93,103,81,108,83,65,95,103,56,118,99,75,57,104,95,99,132,114,86,92,104,112,110,100,126,98,119,87,119,82,96,86,107,90,95,64,105,111,95,83,95,92,81,91,88,102,109,117,113,133,89,95,100,104,83,86,81,114,113,115,111,100,90,119,97,147,58,110,120,104,112,95,124,110,99,72,101,90,87,102,98,75,93,80,53,147,103,128,89,93,81,57,85,130,94,74,108,109,112,86,102,102,93,110,90,88,117,89,75,113,98,93,107,93,94,124,101,106,77,149,79,68,68,86,105,143,103,85,91,114,90,101,97,102,141,93,142,122,81,117,97,93,92,112,143,92,99,82,87,112,102,110,99,113,105,80,85,114,61,112,91,83,123,113,119,116,148,106,84,124,92,103,94,108,112,99,84,62,98,97,76,60,89,99,94,119,121,108,105,51,78,124,113,73,101,89,121,99,80,116,88,127,111,104,74,118,122,106,121,121,122,116,83,73,100,135,84,94,133,83,115,83,79,113,126,102,119,112,78,100,93,115,106,126,106,98,92,141,137,119,114,107,85,118,117,117,112,108,151,64,123,112,102,97,136,91,113,134,72,108,97,118,80,98,80,98,118,109,92,97,103,87,122,126,91,57,102,128,109,98,122,95,106,111,94,125,78,106,119,60,95,74,105,84,115,77,50,103,86,88,60,71,98,107,103,114,70,97,85,122,109,102,81,108,100,100,142,126,71,107,72,109,83,80,91,130,85,85,87,114,100,106,101,60,56,98,70,82,80,132,100,115,105,102,91,73,73,92,86,99,114,110,104,96,81,78,124,122,100,115,105,80,105,129,83,94,96,82,80,85,106,83,127,109,102,100,120,88,122,75,77,95,126,73,104,51,52,92,105,93,92,102,123,108,98,68,98,90,138,92,124,66,111,80,112,109,108,94,95,86,109,141,108,105,80,115,58,111,90,105,135,69,77,97,107,109,83,133,96,95,105,84,118,115,85,141,108,127,125,113,97,110,89,66,84,84,94,118,106,79,78,59,109,109,97,89,88,65,103,58,101,84,72,109,95,121,97,70,115,142,105,114,111,90,126,101,67,114,83,70,108,77,107,105,107,94,86,97,133,138,79,94,101,110,128,142,144,113,107,132,96,91,77,90,69,142,82,124,122,91,106,106,104,74,143,85,106,111,102,105,97,105,84,94,98,105,113,103,77,99,120,86,88,109,97,81,112,113,82,75,78,98,125,108,90,94,73,114,103,119,113,93,80,105,93,129,95,94,107,104,70,79,120,57,53,69,94,80,90,80,138,89,104,77,134,133,64,110,89,108,90,120,71,88,81,98,64,82,144,97,63,47,56,100,101,97,72,74,121,94,113,72,99,102,122,117,95,96,108,100,112,80,88,111,98,91,91,75,110,92,119,81,88,109,101,107,92,74,114,118,85,95,124,101,101,138,105,113,121,103,96,127,94,81,128,109,109,115,59,80,128,85,97,94,80,127,57,106,104,112,96,80,34,117,93,132,126,103,86,86,92,108,117,126,84,79,133,86,112,106,115,91,116,108,93,105,102,113,91,127,76,103,83,107,114,93,97,92,107,52,101,105,107,117,89,81,94,104,114,101,62,83,141,98,106,100,141,74,76,89,92,109,121,82,79,84,96,80,120,120,96,104,65,75,91,89,109,125,100,87,100,68,85,92,96,127,107,116,113,70,99,85,99,120,93,71,105,113,96,100,96,130,79,100,81,83,100,122,39,100,102,92,109,121,88,96,131,96,95,104,119,66,114,95,96,83,69,114,77,107,81,94,79,134,75,93,76,108,63,95,75,84,108,101,100,68,110,99,103,92,130,127,110,109,141,107,120,113,122,113,110,95,119,116,69,61,82,91,84,110,104,75,86,82,91,106,86,67,126,113,66,90,100,156,124,120,98,76,114,70,79,61,116,117,75,98,95,110,95,112,94,123,102,104,78,113,97,79,92,110,63,109,106,60,135,90,68,121,75,100,97,88,71,85,112,106,85,103,77,108,112,115,125,90,97,90,96,91,108,82,110,90,102,66,75,93,66,105,109,105,156,103,104,119,114,132,118,71,79,92,111,157,68,91,108,75,103,81,114,134,117,61,101,93,99,82,111,76,137,114,101,96,88,94,98,110,66,102,92,85,107,102,88,64,58,106,123,103,123,96,105,98,94,90,82,70,109,63,114,75,102,115,81,123,116,86,112,112,112,136,125,95,122,110,96,92,126,120,83,109,73,128,89,76,83,104,100,105,75,132,110,103,128,88,102,104,81,113,94,89,88,151,82,79,99,102,59,120,97,98,96,74,99,106,97,85,111,75,129,85,92,108,112,65,102,123,99,99,113,86,105,95,137,146,131,106,113,91,106,82,117,100,67,122,125,114,128,82,44,95,83,94,111,117,90,99,88,119,108,95,109,75,68,98,105,108,129,46,107,100,135,140,91,87,108,90,82,105,100,128,98,110,97,152,123,98,102,123,100,67,98,90,113,93,80,94,117,63,95,118,88,86,109,81,119,101,103,100,81,75,102,95,112,109,82,97,96,98,81,91,82,97,87,84,126,122,117,85,94,95,108,110,83,133,66,85,139,108,94,77,67,90,93,86,92,99,64,71,91,91,98,94,92,94,129,60,94,108,79,88,114,82,75,117,84,160,97,120,117,105,76,92,94,124,88,89,89,112,99,96,98,88,96,95,52,77,108,80,92,73,90,102,117,101,124,116,127,86,89,107,74,102,110,116,122,117,93,115,65,97,74,84,118,114,90,81,91,126,98,100,125,87,114,95,121,73,79,104,115,104,99,114,74,107,103,101,100,117,93,115,134,113,56,91,103,96,72,83,103,99,101,107,91,94,147,110,120,88,49,94,125,73,91,92,87,84,76,91,73,110,110,81,86,67,102,109,112,103,122,95,106,94,118,64,90,110,87,117,94,88,60,110,71,123,105,76,111,96,85,146,109,126,107,107,93,85,117,80,123,125,138,105,75,94,105,94,114,106,134,92,100,103,100,89,120,70,97,102,89,105,136,110,90,146,115,76,87,65,87,113,106,123,112,96,101,101,125,110,96,58,91,110,98,94,76,89,76,71,121,92,91,119,60,75,64,104,58,140,105,120,67,117,87,116,113,94,90,130,116,112,69,83,84,112,77,113,75,93,110,96,69,120,111,104,120,113,139,138,104,71,68,119,98,77,102,105,106,107,92,129,91,98,92,94,77,127,116,102,112,88,103,111,79,126,83,112,87,95,105,74,104,133,76,100,39,123,103,147,101,91,76,119,130,85,83,94,127,107,63,95,74,80,94,87,89,97,108,68,56,104,80,97,114,115,134,143,136,60,103,104,85,126,88,126,77,101,107,80,116,95,98,86,92,119,99,114,95,121,130,96,101,112,83,111,85,107,97,122,70,124,103,113,98,81,139,80,116,115,90,85,95,106,100,120,97,105,58,87,81,106,87,113,106,121,98,108,104,78,103,86,87,113,105,96,119,92,96,101,117,59,121,109,81,71,114,106,122,109,115,121,114,93,87,108,76,87,104,99,100,122,112,139,110,76,130,85,114,105,87,69,109,133,118,126,96,92,105,74,91,122,80,48,99,118,97,124,90,86,99,115,107,101,115,115,89,70,89,101,127,90,89,67,102],@@type@@:@@histogram@@}],                        {@@template@@:{@@data@@:{@@barpolar@@:[{@@marker@@:{@@line@@:{@@color@@:@@#E5ECF6@@,@@width@@:0.5},@@pattern@@:{@@fillmode@@:@@overlay@@,@@size@@:10,@@solidity@@:0.2}},@@type@@:@@barpolar@@}],@@bar@@:[{@@error_x@@:{@@color@@:@@#2a3f5f@@},@@error_y@@:{@@color@@:@@#2a3f5f@@},@@marker@@:{@@line@@:{@@color@@:@@#E5ECF6@@,@@width@@:0.5},@@pattern@@:{@@fillmode@@:@@overlay@@,@@size@@:10,@@solidity@@:0.2}},@@type@@:@@bar@@}],@@carpet@@:[{@@aaxis@@:{@@endlinecolor@@:@@#2a3f5f@@,@@gridcolor@@:@@white@@,@@linecolor@@:@@white@@,@@minorgridcolor@@:@@white@@,@@startlinecolor@@:@@#2a3f5f@@},@@baxis@@:{@@endlinecolor@@:@@#2a3f5f@@,@@gridcolor@@:@@white@@,@@linecolor@@:@@white@@,@@minorgridcolor@@:@@white@@,@@startlinecolor@@:@@#2a3f5f@@},@@type@@:@@carpet@@}],@@choropleth@@:[{@@colorbar@@:{@@outlinewidth@@:0,@@ticks@@:@@@@},@@type@@:@@choropleth@@}],@@contourcarpet@@:[{@@colorbar@@:{@@outlinewidth@@:0,@@ticks@@:@@@@},@@type@@:@@contourcarpet@@}],@@contour@@:[{@@colorbar@@:{@@outlinewidth@@:0,@@ticks@@:@@@@},@@colorscale@@:[[0.0,@@#0d0887@@],[0.1111111111111111,@@#46039f@@],[0.2222222222222222,@@#7201a8@@],[0.3333333333333333,@@#9c179e@@],[0.4444444444444444,@@#bd3786@@],[0.5555555555555556,@@#d8576b@@],[0.6666666666666666,@@#ed7953@@],[0.7777777777777778,@@#fb9f3a@@],[0.8888888888888888,@@#fdca26@@],[1.0,@@#f0f921@@]],@@type@@:@@contour@@}],@@heatmapgl@@:[{@@colorbar@@:{@@outlinewidth@@:0,@@ticks@@:@@@@},@@colorscale@@:[[0.0,@@#0d0887@@],[0.1111111111111111,@@#46039f@@],[0.2222222222222222,@@#7201a8@@],[0.3333333333333333,@@#9c179e@@],[0.4444444444444444,@@#bd3786@@],[0.5555555555555556,@@#d8576b@@],[0.6666666666666666,@@#ed7953@@],[0.7777777777777778,@@#fb9f3a@@],[0.8888888888888888,@@#fdca26@@],[1.0,@@#f0f921@@]],@@type@@:@@heatmapgl@@}],@@heatmap@@:[{@@colorbar@@:{@@outlinewidth@@:0,@@ticks@@:@@@@},@@colorscale@@:[[0.0,@@#0d0887@@],[0.1111111111111111,@@#46039f@@],[0.2222222222222222,@@#7201a8@@],[0.3333333333333333,@@#9c179e@@],[0.4444444444444444,@@#bd3786@@],[0.5555555555555556,@@#d8576b@@],[0.6666666666666666,@@#ed7953@@],[0.7777777777777778,@@#fb9f3a@@],[0.8888888888888888,@@#fdca26@@],[1.0,@@#f0f921@@]],@@type@@:@@heatmap@@}],@@histogram2dcontour@@:[{@@colorbar@@:{@@outlinewidth@@:0,@@ticks@@:@@@@},@@colorscale@@:[[0.0,@@#0d0887@@],[0.1111111111111111,@@#46039f@@],[0.2222222222222222,@@#7201a8@@],[0.3333333333333333,@@#9c179e@@],[0.4444444444444444,@@#bd3786@@],[0.5555555555555556,@@#d8576b@@],[0.6666666666666666,@@#ed7953@@],[0.7777777777777778,@@#fb9f3a@@],[0.8888888888888888,@@#fdca26@@],[1.0,@@#f0f921@@]],@@type@@:@@histogram2dcontour@@}],@@histogram2d@@:[{@@colorbar@@:{@@outlinewidth@@:0,@@ticks@@:@@@@},@@colorscale@@:[[0.0,@@#0d0887@@],[0.1111111111111111,@@#46039f@@],[0.2222222222222222,@@#7201a8@@],[0.3333333333333333,@@#9c179e@@],[0.4444444444444444,@@#bd3786@@],[0.5555555555555556,@@#d8576b@@],[0.6666666666666666,@@#ed7953@@],[0.7777777777777778,@@#fb9f3a@@],[0.8888888888888888,@@#fdca26@@],[1.0,@@#f0f921@@]],@@type@@:@@histogram2d@@}],@@histogram@@:[{@@marker@@:{@@pattern@@:{@@fillmode@@:@@overlay@@,@@size@@:10,@@solidity@@:0.2}},@@type@@:@@histogram@@}],@@mesh3d@@:[{@@colorbar@@:{@@outlinewidth@@:0,@@ticks@@:@@@@},@@type@@:@@mesh3d@@}],@@parcoords@@:[{@@line@@:{@@colorbar@@:{@@outlinewidth@@:0,@@ticks@@:@@@@}},@@type@@:@@parcoords@@}],@@pie@@:[{@@automargin@@:true,@@type@@:@@pie@@}],@@scatter3d@@:[{@@line@@:{@@colorbar@@:{@@outlinewidth@@:0,@@ticks@@:@@@@}},@@marker@@:{@@colorbar@@:{@@outlinewidth@@:0,@@ticks@@:@@@@}},@@type@@:@@scatter3d@@}],@@scattercarpet@@:[{@@marker@@:{@@colorbar@@:{@@outlinewidth@@:0,@@ticks@@:@@@@}},@@type@@:@@scattercarpet@@}],@@scattergeo@@:[{@@marker@@:{@@colorbar@@:{@@outlinewidth@@:0,@@ticks@@:@@@@}},@@type@@:@@scattergeo@@}],@@scattergl@@:[{@@marker@@:{@@colorbar@@:{@@outlinewidth@@:0,@@ticks@@:@@@@}},@@type@@:@@scattergl@@}],@@scattermapbox@@:[{@@marker@@:{@@colorbar@@:{@@outlinewidth@@:0,@@ticks@@:@@@@}},@@type@@:@@scattermapbox@@}],@@scatterpolargl@@:[{@@marker@@:{@@colorbar@@:{@@outlinewidth@@:0,@@ticks@@:@@@@}},@@type@@:@@scatterpolargl@@}],@@scatterpolar@@:[{@@marker@@:{@@colorbar@@:{@@outlinewidth@@:0,@@ticks@@:@@@@}},@@type@@:@@scatterpolar@@}],@@scatter@@:[{@@marker@@:{@@colorbar@@:{@@outlinewidth@@:0,@@ticks@@:@@@@}},@@type@@:@@scatter@@}],@@scatterternary@@:[{@@marker@@:{@@colorbar@@:{@@outlinewidth@@:0,@@ticks@@:@@@@}},@@type@@:@@scatterternary@@}],@@surface@@:[{@@colorbar@@:{@@outlinewidth@@:0,@@ticks@@:@@@@},@@colorscale@@:[[0.0,@@#0d0887@@],[0.1111111111111111,@@#46039f@@],[0.2222222222222222,@@#7201a8@@],[0.3333333333333333,@@#9c179e@@],[0.4444444444444444,@@#bd3786@@],[0.5555555555555556,@@#d8576b@@],[0.6666666666666666,@@#ed7953@@],[0.7777777777777778,@@#fb9f3a@@],[0.8888888888888888,@@#fdca26@@],[1.0,@@#f0f921@@]],@@type@@:@@surface@@}],@@table@@:[{@@cells@@:{@@fill@@:{@@color@@:@@#EBF0F8@@},@@line@@:{@@color@@:@@white@@}},@@header@@:{@@fill@@:{@@color@@:@@#C8D4E3@@},@@line@@:{@@color@@:@@white@@}},@@type@@:@@table@@}]},@@layout@@:{@@annotationdefaults@@:{@@arrowcolor@@:@@#2a3f5f@@,@@arrowhead@@:0,@@arrowwidth@@:1},@@autotypenumbers@@:@@strict@@,@@coloraxis@@:{@@colorbar@@:{@@outlinewidth@@:0,@@ticks@@:@@@@}},@@colorscale@@:{@@diverging@@:[[0,@@#8e0152@@],[0.1,@@#c51b7d@@],[0.2,@@#de77ae@@],[0.3,@@#f1b6da@@],[0.4,@@#fde0ef@@],[0.5,@@#f7f7f7@@],[0.6,@@#e6f5d0@@],[0.7,@@#b8e186@@],[0.8,@@#7fbc41@@],[0.9,@@#4d9221@@],[1,@@#276419@@]],@@sequential@@:[[0.0,@@#0d0887@@],[0.1111111111111111,@@#46039f@@],[0.2222222222222222,@@#7201a8@@],[0.3333333333333333,@@#9c179e@@],[0.4444444444444444,@@#bd3786@@],[0.5555555555555556,@@#d8576b@@],[0.6666666666666666,@@#ed7953@@],[0.7777777777777778,@@#fb9f3a@@],[0.8888888888888888,@@#fdca26@@],[1.0,@@#f0f921@@]],@@sequentialminus@@:[[0.0,@@#0d0887@@],[0.1111111111111111,@@#46039f@@],[0.2222222222222222,@@#7201a8@@],[0.3333333333333333,@@#9c179e@@],[0.4444444444444444,@@#bd3786@@],[0.5555555555555556,@@#d8576b@@],[0.6666666666666666,@@#ed7953@@],[0.7777777777777778,@@#fb9f3a@@],[0.8888888888888888,@@#fdca26@@],[1.0,@@#f0f921@@]]},@@colorway@@:[@@#636efa@@,@@#EF553B@@,@@#00cc96@@,@@#ab63fa@@,@@#FFA15A@@,@@#19d3f3@@,@@#FF6692@@,@@#B6E880@@,@@#FF97FF@@,@@#FECB52@@],@@font@@:{@@color@@:@@#2a3f5f@@},@@geo@@:{@@bgcolor@@:@@white@@,@@lakecolor@@:@@white@@,@@landcolor@@:@@#E5ECF6@@,@@showlakes@@:true,@@showland@@:true,@@subunitcolor@@:@@white@@},@@hoverlabel@@:{@@align@@:@@left@@},@@hovermode@@:@@closest@@,@@mapbox@@:{@@style@@:@@light@@},@@paper_bgcolor@@:@@white@@,@@plot_bgcolor@@:@@#E5ECF6@@,@@polar@@:{@@angularaxis@@:{@@gridcolor@@:@@white@@,@@linecolor@@:@@white@@,@@ticks@@:@@@@},@@bgcolor@@:@@#E5ECF6@@,@@radialaxis@@:{@@gridcolor@@:@@white@@,@@linecolor@@:@@white@@,@@ticks@@:@@@@}},@@scene@@:{@@xaxis@@:{@@backgroundcolor@@:@@#E5ECF6@@,@@gridcolor@@:@@white@@,@@gridwidth@@:2,@@linecolor@@:@@white@@,@@showbackground@@:true,@@ticks@@:@@@@,@@zerolinecolor@@:@@white@@},@@yaxis@@:{@@backgroundcolor@@:@@#E5ECF6@@,@@gridcolor@@:@@white@@,@@gridwidth@@:2,@@linecolor@@:@@white@@,@@showbackground@@:true,@@ticks@@:@@@@,@@zerolinecolor@@:@@white@@},@@zaxis@@:{@@backgroundcolor@@:@@#E5ECF6@@,@@gridcolor@@:@@white@@,@@gridwidth@@:2,@@linecolor@@:@@white@@,@@showbackground@@:true,@@ticks@@:@@@@,@@zerolinecolor@@:@@white@@}},@@shapedefaults@@:{@@line@@:{@@color@@:@@#2a3f5f@@}},@@ternary@@:{@@aaxis@@:{@@gridcolor@@:@@white@@,@@linecolor@@:@@white@@,@@ticks@@:@@@@},@@baxis@@:{@@gridcolor@@:@@white@@,@@linecolor@@:@@white@@,@@ticks@@:@@@@},@@bgcolor@@:@@#E5ECF6@@,@@caxis@@:{@@gridcolor@@:@@white@@,@@linecolor@@:@@white@@,@@ticks@@:@@@@}},@@title@@:{@@x@@:0.05},@@xaxis@@:{@@automargin@@:true,@@gridcolor@@:@@white@@,@@linecolor@@:@@white@@,@@ticks@@:@@@@,@@title@@:{@@standoff@@:15},@@zerolinecolor@@:@@white@@,@@zerolinewidth@@:2},@@yaxis@@:{@@automargin@@:true,@@gridcolor@@:@@white@@,@@linecolor@@:@@white@@,@@ticks@@:@@@@,@@title@@:{@@standoff@@:15},@@zerolinecolor@@:@@white@@,@@zerolinewidth@@:2}}}},                        {@@responsive@@: true}                    )&#39;, &#39;id&#39;: 9, &#39;name&#39;: &#39;TotalDayCalls Distribution Chart&#39;, &#39;title&#39;: &#39;TotalDayCalls Distribution Chart&#39;, &#39;type&#39;: &#39;plotly&#39;, &#39;resultType&#39;: 3, &#39;visibility&#39;: &#39;EXPANDED&#39;, &#39;time&#39;: &#39;Apr 21, 2024 04:59:39 PM&#39;}\n",
       "Not sending message to fire_notebook server as the post back URL is not http\n",
       "Sending Message: {&#34;progress&#34;: &#34;40&#34;, &#34;id&#34;: 9, &#34;name&#34;: &#34;Progress&#34;, &#34;title&#34;: &#34;Progress&#34;, &#34;type&#34;: &#34;progress&#34;, &#34;resultType&#34;: 3, &#34;visibility&#34;: &#34;EXPANDED&#34;, &#34;time&#34;: &#34;Apr 21, 2024 04:59:39 PM&#34;}\n",
       "Not sending message to fire_notebook server as the post back URL is not http\n",
       "Check the Input type..\n",
       "There is a match\n",
       " And Input is string type.\n",
       "Sending Message: {&#39;text&#39;: &#39;Plotly.newPlot(                        @@2747a9e1-e7df-4b95-b85f-e8cb657ca219@@,                        [{@@x@@:[@@account_length@@,@@area_code@@,@@number_vmail_messages@@,@@total_day_minutes@@,@@total_day_calls@@,@@total_day_charge@@,@@total_eve_minutes@@,@@total_eve_calls@@,@@total_eve_charge@@,@@total_night_minutes@@,@@total_night_calls@@,@@total_night_charge@@,@@total_intl_minutes@@,@@total_intl_calls@@,@@total_intl_charge@@,@@number_customer_service_calls@@],@@y@@:[@@account_length@@,@@area_code@@,@@number_vmail_messages@@,@@total_day_minutes@@,@@total_day_calls@@,@@total_day_charge@@,@@total_eve_minutes@@,@@total_eve_calls@@,@@total_eve_charge@@,@@total_night_minutes@@,@@total_night_calls@@,@@total_night_charge@@,@@total_intl_minutes@@,@@total_intl_calls@@,@@total_intl_charge@@,@@number_customer_service_calls@@],@@z@@:[[1.0,-0.018054187431186045,-0.014574666267831002,-0.0010174908066805557,0.028240227881464887,-0.0010191979614159459,-0.009591333137542665,0.009142579036024275,-0.009587395822730571,0.000667911182280422,-0.00782547848770571,0.0006558936778097678,0.001290839427459895,0.014277273318296804,0.001291811206270311,-0.0014447917651621565],[-0.018054187431186045,1.0,-0.0033989830645153687,-0.01911824474505625,-0.019313854482629646,-0.019119255917649538,0.0070978766487255806,-0.01229994728283027,0.007114129758494931,0.0020836263382525803,0.01465684606608161,0.0020702637383866905,-0.004153729199362986,-0.013623309325114517,-0.004219098627406811,0.020920513338666333],[-0.014574666267831002,-0.0033989830645153687,1.0,0.005381375960654525,0.0008831280067745973,0.0053767958516914,0.019490120754725556,-0.0039543728093618825,0.01949597565315316,0.005541383812742748,0.002676220227255797,0.005534928135168643,0.0024627017675346186,0.00012433024609732074,0.002505177320644857,-0.007085642693096588],[-0.0010174908066805557,-0.01911824474505625,0.005381375960654525,1.0,0.0019351486957893667,0.9999999509831975,-0.010750427386866528,0.008128130473126396,-0.010760021726227647,0.011798659999244022,0.0042360999072667445,0.011782532764223022,-0.01948574632583264,-0.0013031234662255879,-0.01941479722841286,0.0027325761618292054],[0.028240227881464887,-0.019313854482629646,0.0008831280067745973,0.0019351486957893667,1.0,0.0019358843646607251,-0.0006994114708042444,0.003754178695284276,-0.0006952216752118381,0.00280446497470731,-0.008308346717225579,0.0028018168792725067,0.013097219754673038,0.010892853267709963,0.013161397556250197,-0.010739495083121125],[-0.0010191979614159459,-0.019119255917649538,0.0053767958516914,0.9999999509831975,0.0019358843646607251,1.0,-0.010747296837522364,0.008129319004161854,-0.010756893054787928,0.011801433860012147,0.004234933740255773,0.01178530116313638,-0.01948970009749194,-0.001306635281505888,-0.019418754763562952,0.002726370192473038],[-0.009591333137542665,0.0070978766487255806,0.019490120754725556,-0.010750427386866528,-0.0006994114708042444,-0.010747296837522364,1.0,0.002763019406749719,0.9999997748632368,-0.01663911604411638,0.013420216275055744,-0.016642042112908144,0.00013654874558242691,0.008388155877574145,0.00015931551581446158,-0.013823422807747681],[0.009142579036024275,-0.01229994728283027,-0.0039543728093618825,0.008128130473126396,0.003754178695284276,0.008129319004161854,0.002763019406749719,1.0,0.0027780971147908554,0.0017814105504447828,-0.01368234079745179,0.0017993804229349112,-0.0074584583342127845,0.005574499916987404,-0.007507150801103108,0.006234830562523755],[-0.009587395822730571,0.007114129758494931,0.01949597565315316,-0.010760021726227647,-0.0006952216752118381,-0.010756893054787928,0.9999997748632368,0.0027780971147908554,1.0,-0.016648919124572604,0.013422017412690612,-0.016651836727282678,0.00013202381422623718,0.008393060331758835,0.0001547783372188199,-0.013836362320991445],[0.000667911182280422,0.0020836263382525803,0.005541383812742748,0.011798659999244022,0.00280446497470731,0.011801433860012147,-0.01663911604411638,0.0017814105504447828,-0.016648919124572604,1.0,0.02697181822308513,0.999999207186797,-0.006720966921597935,-0.01721401615173222,-0.006654587345714402,-0.008532536464559507],[-0.00782547848770571,0.01465684606608161,0.002676220227255797,0.0042360999072667445,-0.008308346717225579,0.004234933740255773,0.013420216275055744,-0.01368234079745179,0.013422017412690612,0.02697181822308513,1.0,0.026949491392387767,0.00039075729962840345,-0.0001557557298253518,0.00036800574994908924,-0.00828260746772502],[0.0006558936778097678,0.0020702637383866905,0.005534928135168643,0.011782532764223022,0.0028018168792725067,0.01178530116313638,-0.016642042112908144,0.0017993804229349112,-0.016651836727282678,0.999999207186797,0.026949491392387767,1.0,-0.0067165376038990695,-0.017182157276491482,-0.006650156848030056,-0.008530076794367769],[0.001290839427459895,-0.004153729199362986,0.0024627017675346186,-0.01948574632583264,0.013097219754673038,-0.01948970009749194,0.00013654874558242691,-0.0074584583342127845,0.00013202381422623718,-0.006720966921597935,0.00039075729962840345,-0.0067165376038990695,1.0,0.0167914752192571,0.9999926570208366,-0.012121812385459535],[0.014277273318296804,-0.013623309325114517,0.00012433024609732074,-0.0013031234662255879,0.010892853267709963,-0.001306635281505888,0.008388155877574145,0.005574499916987404,0.008393060331758835,-0.01721401615173222,-0.0001557557298253518,-0.017182157276491482,0.0167914752192571,1.0,0.01690009340515227,-0.01914665042520698],[0.001291811206270311,-0.004219098627406811,0.002505177320644857,-0.01941479722841286,0.013161397556250197,-0.019418754763562952,0.00015931551581446158,-0.007507150801103108,0.0001547783372188199,-0.006654587345714402,0.00036800574994908924,-0.006650156848030056,0.9999926570208366,0.01690009340515227,1.0,-0.012180334261251221],[-0.0014447917651621565,0.020920513338666333,-0.007085642693096588,0.0027325761618292054,-0.010739495083121125,0.002726370192473038,-0.013823422807747681,0.006234830562523755,-0.013836362320991445,-0.008532536464559507,-0.00828260746772502,-0.008530076794367769,-0.012121812385459535,-0.01914665042520698,-0.012180334261251221,1.0]],@@type@@:@@heatmap@@}],                        {@@template@@:{@@data@@:{@@barpolar@@:[{@@marker@@:{@@line@@:{@@color@@:@@#E5ECF6@@,@@width@@:0.5},@@pattern@@:{@@fillmode@@:@@overlay@@,@@size@@:10,@@solidity@@:0.2}},@@type@@:@@barpolar@@}],@@bar@@:[{@@error_x@@:{@@color@@:@@#2a3f5f@@},@@error_y@@:{@@color@@:@@#2a3f5f@@},@@marker@@:{@@line@@:{@@color@@:@@#E5ECF6@@,@@width@@:0.5},@@pattern@@:{@@fillmode@@:@@overlay@@,@@size@@:10,@@solidity@@:0.2}},@@type@@:@@bar@@}],@@carpet@@:[{@@aaxis@@:{@@endlinecolor@@:@@#2a3f5f@@,@@gridcolor@@:@@white@@,@@linecolor@@:@@white@@,@@minorgridcolor@@:@@white@@,@@startlinecolor@@:@@#2a3f5f@@},@@baxis@@:{@@endlinecolor@@:@@#2a3f5f@@,@@gridcolor@@:@@white@@,@@linecolor@@:@@white@@,@@minorgridcolor@@:@@white@@,@@startlinecolor@@:@@#2a3f5f@@},@@type@@:@@carpet@@}],@@choropleth@@:[{@@colorbar@@:{@@outlinewidth@@:0,@@ticks@@:@@@@},@@type@@:@@choropleth@@}],@@contourcarpet@@:[{@@colorbar@@:{@@outlinewidth@@:0,@@ticks@@:@@@@},@@type@@:@@contourcarpet@@}],@@contour@@:[{@@colorbar@@:{@@outlinewidth@@:0,@@ticks@@:@@@@},@@colorscale@@:[[0.0,@@#0d0887@@],[0.1111111111111111,@@#46039f@@],[0.2222222222222222,@@#7201a8@@],[0.3333333333333333,@@#9c179e@@],[0.4444444444444444,@@#bd3786@@],[0.5555555555555556,@@#d8576b@@],[0.6666666666666666,@@#ed7953@@],[0.7777777777777778,@@#fb9f3a@@],[0.8888888888888888,@@#fdca26@@],[1.0,@@#f0f921@@]],@@type@@:@@contour@@}],@@heatmapgl@@:[{@@colorbar@@:{@@outlinewidth@@:0,@@ticks@@:@@@@},@@colorscale@@:[[0.0,@@#0d0887@@],[0.1111111111111111,@@#46039f@@],[0.2222222222222222,@@#7201a8@@],[0.3333333333333333,@@#9c179e@@],[0.4444444444444444,@@#bd3786@@],[0.5555555555555556,@@#d8576b@@],[0.6666666666666666,@@#ed7953@@],[0.7777777777777778,@@#fb9f3a@@],[0.8888888888888888,@@#fdca26@@],[1.0,@@#f0f921@@]],@@type@@:@@heatmapgl@@}],@@heatmap@@:[{@@colorbar@@:{@@outlinewidth@@:0,@@ticks@@:@@@@},@@colorscale@@:[[0.0,@@#0d0887@@],[0.1111111111111111,@@#46039f@@],[0.2222222222222222,@@#7201a8@@],[0.3333333333333333,@@#9c179e@@],[0.4444444444444444,@@#bd3786@@],[0.5555555555555556,@@#d8576b@@],[0.6666666666666666,@@#ed7953@@],[0.7777777777777778,@@#fb9f3a@@],[0.8888888888888888,@@#fdca26@@],[1.0,@@#f0f921@@]],@@type@@:@@heatmap@@}],@@histogram2dcontour@@:[{@@colorbar@@:{@@outlinewidth@@:0,@@ticks@@:@@@@},@@colorscale@@:[[0.0,@@#0d0887@@],[0.1111111111111111,@@#46039f@@],[0.2222222222222222,@@#7201a8@@],[0.3333333333333333,@@#9c179e@@],[0.4444444444444444,@@#bd3786@@],[0.5555555555555556,@@#d8576b@@],[0.6666666666666666,@@#ed7953@@],[0.7777777777777778,@@#fb9f3a@@],[0.8888888888888888,@@#fdca26@@],[1.0,@@#f0f921@@]],@@type@@:@@histogram2dcontour@@}],@@histogram2d@@:[{@@colorbar@@:{@@outlinewidth@@:0,@@ticks@@:@@@@},@@colorscale@@:[[0.0,@@#0d0887@@],[0.1111111111111111,@@#46039f@@],[0.2222222222222222,@@#7201a8@@],[0.3333333333333333,@@#9c179e@@],[0.4444444444444444,@@#bd3786@@],[0.5555555555555556,@@#d8576b@@],[0.6666666666666666,@@#ed7953@@],[0.7777777777777778,@@#fb9f3a@@],[0.8888888888888888,@@#fdca26@@],[1.0,@@#f0f921@@]],@@type@@:@@histogram2d@@}],@@histogram@@:[{@@marker@@:{@@pattern@@:{@@fillmode@@:@@overlay@@,@@size@@:10,@@solidity@@:0.2}},@@type@@:@@histogram@@}],@@mesh3d@@:[{@@colorbar@@:{@@outlinewidth@@:0,@@ticks@@:@@@@},@@type@@:@@mesh3d@@}],@@parcoords@@:[{@@line@@:{@@colorbar@@:{@@outlinewidth@@:0,@@ticks@@:@@@@}},@@type@@:@@parcoords@@}],@@pie@@:[{@@automargin@@:true,@@type@@:@@pie@@}],@@scatter3d@@:[{@@line@@:{@@colorbar@@:{@@outlinewidth@@:0,@@ticks@@:@@@@}},@@marker@@:{@@colorbar@@:{@@outlinewidth@@:0,@@ticks@@:@@@@}},@@type@@:@@scatter3d@@}],@@scattercarpet@@:[{@@marker@@:{@@colorbar@@:{@@outlinewidth@@:0,@@ticks@@:@@@@}},@@type@@:@@scattercarpet@@}],@@scattergeo@@:[{@@marker@@:{@@colorbar@@:{@@outlinewidth@@:0,@@ticks@@:@@@@}},@@type@@:@@scattergeo@@}],@@scattergl@@:[{@@marker@@:{@@colorbar@@:{@@outlinewidth@@:0,@@ticks@@:@@@@}},@@type@@:@@scattergl@@}],@@scattermapbox@@:[{@@marker@@:{@@colorbar@@:{@@outlinewidth@@:0,@@ticks@@:@@@@}},@@type@@:@@scattermapbox@@}],@@scatterpolargl@@:[{@@marker@@:{@@colorbar@@:{@@outlinewidth@@:0,@@ticks@@:@@@@}},@@type@@:@@scatterpolargl@@}],@@scatterpolar@@:[{@@marker@@:{@@colorbar@@:{@@outlinewidth@@:0,@@ticks@@:@@@@}},@@type@@:@@scatterpolar@@}],@@scatter@@:[{@@marker@@:{@@colorbar@@:{@@outlinewidth@@:0,@@ticks@@:@@@@}},@@type@@:@@scatter@@}],@@scatterternary@@:[{@@marker@@:{@@colorbar@@:{@@outlinewidth@@:0,@@ticks@@:@@@@}},@@type@@:@@scatterternary@@}],@@surface@@:[{@@colorbar@@:{@@outlinewidth@@:0,@@ticks@@:@@@@},@@colorscale@@:[[0.0,@@#0d0887@@],[0.1111111111111111,@@#46039f@@],[0.2222222222222222,@@#7201a8@@],[0.3333333333333333,@@#9c179e@@],[0.4444444444444444,@@#bd3786@@],[0.5555555555555556,@@#d8576b@@],[0.6666666666666666,@@#ed7953@@],[0.7777777777777778,@@#fb9f3a@@],[0.8888888888888888,@@#fdca26@@],[1.0,@@#f0f921@@]],@@type@@:@@surface@@}],@@table@@:[{@@cells@@:{@@fill@@:{@@color@@:@@#EBF0F8@@},@@line@@:{@@color@@:@@white@@}},@@header@@:{@@fill@@:{@@color@@:@@#C8D4E3@@},@@line@@:{@@color@@:@@white@@}},@@type@@:@@table@@}]},@@layout@@:{@@annotationdefaults@@:{@@arrowcolor@@:@@#2a3f5f@@,@@arrowhead@@:0,@@arrowwidth@@:1},@@autotypenumbers@@:@@strict@@,@@coloraxis@@:{@@colorbar@@:{@@outlinewidth@@:0,@@ticks@@:@@@@}},@@colorscale@@:{@@diverging@@:[[0,@@#8e0152@@],[0.1,@@#c51b7d@@],[0.2,@@#de77ae@@],[0.3,@@#f1b6da@@],[0.4,@@#fde0ef@@],[0.5,@@#f7f7f7@@],[0.6,@@#e6f5d0@@],[0.7,@@#b8e186@@],[0.8,@@#7fbc41@@],[0.9,@@#4d9221@@],[1,@@#276419@@]],@@sequential@@:[[0.0,@@#0d0887@@],[0.1111111111111111,@@#46039f@@],[0.2222222222222222,@@#7201a8@@],[0.3333333333333333,@@#9c179e@@],[0.4444444444444444,@@#bd3786@@],[0.5555555555555556,@@#d8576b@@],[0.6666666666666666,@@#ed7953@@],[0.7777777777777778,@@#fb9f3a@@],[0.8888888888888888,@@#fdca26@@],[1.0,@@#f0f921@@]],@@sequentialminus@@:[[0.0,@@#0d0887@@],[0.1111111111111111,@@#46039f@@],[0.2222222222222222,@@#7201a8@@],[0.3333333333333333,@@#9c179e@@],[0.4444444444444444,@@#bd3786@@],[0.5555555555555556,@@#d8576b@@],[0.6666666666666666,@@#ed7953@@],[0.7777777777777778,@@#fb9f3a@@],[0.8888888888888888,@@#fdca26@@],[1.0,@@#f0f921@@]]},@@colorway@@:[@@#636efa@@,@@#EF553B@@,@@#00cc96@@,@@#ab63fa@@,@@#FFA15A@@,@@#19d3f3@@,@@#FF6692@@,@@#B6E880@@,@@#FF97FF@@,@@#FECB52@@],@@font@@:{@@color@@:@@#2a3f5f@@},@@geo@@:{@@bgcolor@@:@@white@@,@@lakecolor@@:@@white@@,@@landcolor@@:@@#E5ECF6@@,@@showlakes@@:true,@@showland@@:true,@@subunitcolor@@:@@white@@},@@hoverlabel@@:{@@align@@:@@left@@},@@hovermode@@:@@closest@@,@@mapbox@@:{@@style@@:@@light@@},@@paper_bgcolor@@:@@white@@,@@plot_bgcolor@@:@@#E5ECF6@@,@@polar@@:{@@angularaxis@@:{@@gridcolor@@:@@white@@,@@linecolor@@:@@white@@,@@ticks@@:@@@@},@@bgcolor@@:@@#E5ECF6@@,@@radialaxis@@:{@@gridcolor@@:@@white@@,@@linecolor@@:@@white@@,@@ticks@@:@@@@}},@@scene@@:{@@xaxis@@:{@@backgroundcolor@@:@@#E5ECF6@@,@@gridcolor@@:@@white@@,@@gridwidth@@:2,@@linecolor@@:@@white@@,@@showbackground@@:true,@@ticks@@:@@@@,@@zerolinecolor@@:@@white@@},@@yaxis@@:{@@backgroundcolor@@:@@#E5ECF6@@,@@gridcolor@@:@@white@@,@@gridwidth@@:2,@@linecolor@@:@@white@@,@@showbackground@@:true,@@ticks@@:@@@@,@@zerolinecolor@@:@@white@@},@@zaxis@@:{@@backgroundcolor@@:@@#E5ECF6@@,@@gridcolor@@:@@white@@,@@gridwidth@@:2,@@linecolor@@:@@white@@,@@showbackground@@:true,@@ticks@@:@@@@,@@zerolinecolor@@:@@white@@}},@@shapedefaults@@:{@@line@@:{@@color@@:@@#2a3f5f@@}},@@ternary@@:{@@aaxis@@:{@@gridcolor@@:@@white@@,@@linecolor@@:@@white@@,@@ticks@@:@@@@},@@baxis@@:{@@gridcolor@@:@@white@@,@@linecolor@@:@@white@@,@@ticks@@:@@@@},@@bgcolor@@:@@#E5ECF6@@,@@caxis@@:{@@gridcolor@@:@@white@@,@@linecolor@@:@@white@@,@@ticks@@:@@@@}},@@title@@:{@@x@@:0.05},@@xaxis@@:{@@automargin@@:true,@@gridcolor@@:@@white@@,@@linecolor@@:@@white@@,@@ticks@@:@@@@,@@title@@:{@@standoff@@:15},@@zerolinecolor@@:@@white@@,@@zerolinewidth@@:2},@@yaxis@@:{@@automargin@@:true,@@gridcolor@@:@@white@@,@@linecolor@@:@@white@@,@@ticks@@:@@@@,@@title@@:{@@standoff@@:15},@@zerolinecolor@@:@@white@@,@@zerolinewidth@@:2}}}},                        {@@responsive@@: true}                    )&#39;, &#39;id&#39;: 9, &#39;name&#39;: &#39;Correlation Heatmap&#39;, &#39;title&#39;: &#39;Correlation Heatmap&#39;, &#39;type&#39;: &#39;plotly&#39;, &#39;resultType&#39;: 3, &#39;visibility&#39;: &#39;EXPANDED&#39;, &#39;time&#39;: &#39;Apr 21, 2024 04:59:39 PM&#39;}\n",
       "Not sending message to fire_notebook server as the post back URL is not http\n",
       "Sending Message: {&#34;progress&#34;: &#34;100&#34;, &#34;id&#34;: 9, &#34;name&#34;: &#34;Progress&#34;, &#34;title&#34;: &#34;Progress&#34;, &#34;type&#34;: &#34;progress&#34;, &#34;resultType&#34;: 3, &#34;visibility&#34;: &#34;EXPANDED&#34;, &#34;time&#34;: &#34;Apr 21, 2024 04:59:39 PM&#34;}\n",
       "Not sending message to fire_notebook server as the post back URL is not http\n",
       "Sending Message: {&#34;text&#34;: &#34;Job Execution Completed.&#34;, &#34;id&#34;: 9, &#34;name&#34;: &#34;Success&#34;, &#34;title&#34;: &#34;Success&#34;, &#34;type&#34;: &#34;success&#34;, &#34;resultType&#34;: 3, &#34;visibility&#34;: &#34;EXPANDED&#34;, &#34;time&#34;: &#34;Apr 21, 2024 04:59:39 PM&#34;}\n",
       "Not sending message to fire_notebook server as the post back URL is not http\n",
       "</div>"
      ]
     },
     "metadata": {
      "application/vnd.databricks.v1+output": {
       "addedWidgets": {},
       "arguments": {},
       "data": "<div class=\"ansiout\">Check the Input type.\n And Input is string type.\n++++++\nSending Message: {&#39;text&#39;: &#39;&lt;style&gt;.my-table-class {    font-family: Arial, sans-serif;    border-collapse: collapse;    width: 100%;}.my-table-class th {    background-color: #f2f2f2;    color: #333333;    font-weight: bold;    padding: 8px;    border: 1px solid #dddddd;    text-align: left;}.my-table-class td {    border: 1px solid #dddddd;    padding: 8px;    text-align: center;}.my-table-class tbody tr:nth-child(even) {    background-color: #f9f9f9;}.my-table-class tbody tr:hover {    background-color: #dddddd;}.my-table-class caption {    caption-side: top;    font-weight: bold;    margin-bottom: 10px;}&lt;/style&gt;&lt;table border=@@1@@ class=@@dataframe my-table-class@@&gt;  &lt;thead&gt;    &lt;tr style=@@text-align: right;@@&gt;      &lt;th&gt;&lt;/th&gt;      &lt;th&gt;account_length&lt;/th&gt;      &lt;th&gt;area_code&lt;/th&gt;      &lt;th&gt;number_vmail_messages&lt;/th&gt;      &lt;th&gt;total_day_minutes&lt;/th&gt;      &lt;th&gt;total_day_calls&lt;/th&gt;      &lt;th&gt;total_day_charge&lt;/th&gt;      &lt;th&gt;total_eve_minutes&lt;/th&gt;      &lt;th&gt;total_eve_calls&lt;/th&gt;      &lt;th&gt;total_eve_charge&lt;/th&gt;      &lt;th&gt;total_night_minutes&lt;/th&gt;      &lt;th&gt;total_night_calls&lt;/th&gt;      &lt;th&gt;total_night_charge&lt;/th&gt;      &lt;th&gt;total_intl_minutes&lt;/th&gt;      &lt;th&gt;total_intl_calls&lt;/th&gt;      &lt;th&gt;total_intl_charge&lt;/th&gt;      &lt;th&gt;number_customer_service_calls&lt;/th&gt;    &lt;/tr&gt;  &lt;/thead&gt;  &lt;tbody&gt;    &lt;tr&gt;      &lt;th&gt;count&lt;/th&gt;      &lt;td&gt;5000.00000&lt;/td&gt;      &lt;td&gt;5000.000000&lt;/td&gt;      &lt;td&gt;5000.000000&lt;/td&gt;      &lt;td&gt;5000.000000&lt;/td&gt;      &lt;td&gt;5000.000000&lt;/td&gt;      &lt;td&gt;5000.000000&lt;/td&gt;      &lt;td&gt;5000.000000&lt;/td&gt;      &lt;td&gt;5000.000000&lt;/td&gt;      &lt;td&gt;5000.000000&lt;/td&gt;      &lt;td&gt;5000.000000&lt;/td&gt;      &lt;td&gt;5000.000000&lt;/td&gt;      &lt;td&gt;5000.000000&lt;/td&gt;      &lt;td&gt;5000.000000&lt;/td&gt;      &lt;td&gt;5000.000000&lt;/td&gt;      &lt;td&gt;5000.000000&lt;/td&gt;      &lt;td&gt;5000.000000&lt;/td&gt;    &lt;/tr&gt;    &lt;tr&gt;      &lt;th&gt;mean&lt;/th&gt;      &lt;td&gt;100.25860&lt;/td&gt;      &lt;td&gt;436.911400&lt;/td&gt;      &lt;td&gt;7.755200&lt;/td&gt;      &lt;td&gt;180.288900&lt;/td&gt;      &lt;td&gt;100.029400&lt;/td&gt;      &lt;td&gt;30.649668&lt;/td&gt;      &lt;td&gt;200.636560&lt;/td&gt;      &lt;td&gt;100.191000&lt;/td&gt;      &lt;td&gt;17.054322&lt;/td&gt;      &lt;td&gt;200.391620&lt;/td&gt;      &lt;td&gt;99.919200&lt;/td&gt;      &lt;td&gt;9.017732&lt;/td&gt;      &lt;td&gt;10.261780&lt;/td&gt;      &lt;td&gt;4.435200&lt;/td&gt;      &lt;td&gt;2.771196&lt;/td&gt;      &lt;td&gt;1.570400&lt;/td&gt;    &lt;/tr&gt;    &lt;tr&gt;      &lt;th&gt;std&lt;/th&gt;      &lt;td&gt;39.69456&lt;/td&gt;      &lt;td&gt;42.209182&lt;/td&gt;      &lt;td&gt;13.546393&lt;/td&gt;      &lt;td&gt;53.894699&lt;/td&gt;      &lt;td&gt;19.831197&lt;/td&gt;      &lt;td&gt;9.162069&lt;/td&gt;      &lt;td&gt;50.551309&lt;/td&gt;      &lt;td&gt;19.826496&lt;/td&gt;      &lt;td&gt;4.296843&lt;/td&gt;      &lt;td&gt;50.527789&lt;/td&gt;      &lt;td&gt;19.958686&lt;/td&gt;      &lt;td&gt;2.273763&lt;/td&gt;      &lt;td&gt;2.761396&lt;/td&gt;      &lt;td&gt;2.456788&lt;/td&gt;      &lt;td&gt;0.745514&lt;/td&gt;      &lt;td&gt;1.306363&lt;/td&gt;    &lt;/tr&gt;    &lt;tr&gt;      &lt;th&gt;min&lt;/th&gt;      &lt;td&gt;1.00000&lt;/td&gt;      &lt;td&gt;408.000000&lt;/td&gt;      &lt;td&gt;0.000000&lt;/td&gt;      &lt;td&gt;0.000000&lt;/td&gt;      &lt;td&gt;0.000000&lt;/td&gt;      &lt;td&gt;0.000000&lt;/td&gt;      &lt;td&gt;0.000000&lt;/td&gt;      &lt;td&gt;0.000000&lt;/td&gt;      &lt;td&gt;0.000000&lt;/td&gt;      &lt;td&gt;0.000000&lt;/td&gt;      &lt;td&gt;0.000000&lt;/td&gt;      &lt;td&gt;0.000000&lt;/td&gt;      &lt;td&gt;0.000000&lt;/td&gt;      &lt;td&gt;0.000000&lt;/td&gt;      &lt;td&gt;0.000000&lt;/td&gt;      &lt;td&gt;0.000000&lt;/td&gt;    &lt;/tr&gt;    &lt;tr&gt;      &lt;th&gt;25%&lt;/th&gt;      &lt;td&gt;73.00000&lt;/td&gt;      &lt;td&gt;408.000000&lt;/td&gt;      &lt;td&gt;0.000000&lt;/td&gt;      &lt;td&gt;143.700000&lt;/td&gt;      &lt;td&gt;87.000000&lt;/td&gt;      &lt;td&gt;24.430000&lt;/td&gt;      &lt;td&gt;166.375000&lt;/td&gt;      &lt;td&gt;87.000000&lt;/td&gt;      &lt;td&gt;14.140000&lt;/td&gt;      &lt;td&gt;166.900000&lt;/td&gt;      &lt;td&gt;87.000000&lt;/td&gt;      &lt;td&gt;7.510000&lt;/td&gt;      &lt;td&gt;8.500000&lt;/td&gt;      &lt;td&gt;3.000000&lt;/td&gt;      &lt;td&gt;2.300000&lt;/td&gt;      &lt;td&gt;1.000000&lt;/td&gt;    &lt;/tr&gt;    &lt;tr&gt;      &lt;th&gt;50%&lt;/th&gt;      &lt;td&gt;100.00000&lt;/td&gt;      &lt;td&gt;415.000000&lt;/td&gt;      &lt;td&gt;0.000000&lt;/td&gt;      &lt;td&gt;180.100000&lt;/td&gt;      &lt;td&gt;100.000000&lt;/td&gt;      &lt;td&gt;30.620000&lt;/td&gt;      &lt;td&gt;201.000000&lt;/td&gt;      &lt;td&gt;100.000000&lt;/td&gt;      &lt;td&gt;17.090000&lt;/td&gt;      &lt;td&gt;200.400000&lt;/td&gt;      &lt;td&gt;100.000000&lt;/td&gt;      &lt;td&gt;9.020000&lt;/td&gt;      &lt;td&gt;10.300000&lt;/td&gt;      &lt;td&gt;4.000000&lt;/td&gt;      &lt;td&gt;2.780000&lt;/td&gt;      &lt;td&gt;1.000000&lt;/td&gt;    &lt;/tr&gt;    &lt;tr&gt;      &lt;th&gt;75%&lt;/th&gt;      &lt;td&gt;127.00000&lt;/td&gt;      &lt;td&gt;415.000000&lt;/td&gt;      &lt;td&gt;17.000000&lt;/td&gt;      &lt;td&gt;216.200000&lt;/td&gt;      &lt;td&gt;113.000000&lt;/td&gt;      &lt;td&gt;36.750000&lt;/td&gt;      &lt;td&gt;234.100000&lt;/td&gt;      &lt;td&gt;114.000000&lt;/td&gt;      &lt;td&gt;19.900000&lt;/td&gt;      &lt;td&gt;234.700000&lt;/td&gt;      &lt;td&gt;113.000000&lt;/td&gt;      &lt;td&gt;10.560000&lt;/td&gt;      &lt;td&gt;12.000000&lt;/td&gt;      &lt;td&gt;6.000000&lt;/td&gt;      &lt;td&gt;3.240000&lt;/td&gt;      &lt;td&gt;2.000000&lt;/td&gt;    &lt;/tr&gt;    &lt;tr&gt;      &lt;th&gt;max&lt;/th&gt;      &lt;td&gt;243.00000&lt;/td&gt;      &lt;td&gt;510.000000&lt;/td&gt;      &lt;td&gt;52.000000&lt;/td&gt;      &lt;td&gt;351.500000&lt;/td&gt;      &lt;td&gt;165.000000&lt;/td&gt;      &lt;td&gt;59.760000&lt;/td&gt;      &lt;td&gt;363.700000&lt;/td&gt;      &lt;td&gt;170.000000&lt;/td&gt;      &lt;td&gt;30.910000&lt;/td&gt;      &lt;td&gt;395.000000&lt;/td&gt;      &lt;td&gt;175.000000&lt;/td&gt;      &lt;td&gt;17.770000&lt;/td&gt;      &lt;td&gt;20.000000&lt;/td&gt;      &lt;td&gt;20.000000&lt;/td&gt;      &lt;td&gt;5.400000&lt;/td&gt;      &lt;td&gt;9.000000&lt;/td&gt;    &lt;/tr&gt;  &lt;/tbody&gt;&lt;/table&gt;&#39;, &#39;id&#39;: 9, &#39;name&#39;: &#39;Summary Statistics of the Churn Dataset &#39;, &#39;title&#39;: &#39;Summary Statistics of the Churn Dataset &#39;, &#39;type&#39;: &#39;html&#39;, &#39;resultType&#39;: 3, &#39;visibility&#39;: &#39;EXPANDED&#39;, &#39;time&#39;: &#39;Apr 21, 2024 04:59:37 PM&#39;}\nNot sending message to fire_notebook server as the post back URL is not http\n++++++\nCheck the Input type.\n And Input is string type.\n++++++\nSending Message: {&#39;text&#39;: &#39;&lt;h1&gt;Pre-processing Steps&lt;/h1&gt;&#39;, &#39;id&#39;: 9, &#39;name&#39;: &#39;&#39;, &#39;title&#39;: &#39;&#39;, &#39;type&#39;: &#39;html&#39;, &#39;resultType&#39;: 3, &#39;visibility&#39;: &#39;EXPANDED&#39;, &#39;time&#39;: &#39;Apr 21, 2024 04:59:37 PM&#39;}\nNot sending message to fire_notebook server as the post back URL is not http\n++++++\nCheck the Input type.\n And Input is string type.\n++++++\nSending Message: {&#39;text&#39;: &#39;&lt;style&gt;.my-table-class {    font-family: Arial, sans-serif;    border-collapse: collapse;    width: 100%;}.my-table-class th {    background-color: #f2f2f2;    color: #333333;    font-weight: bold;    padding: 8px;    border: 1px solid #dddddd;    text-align: left;}.my-table-class td {    border: 1px solid #dddddd;    padding: 8px;    text-align: center;}.my-table-class tbody tr:nth-child(even) {    background-color: #f9f9f9;}.my-table-class tbody tr:hover {    background-color: #dddddd;}.my-table-class caption {    caption-side: top;    font-weight: bold;    margin-bottom: 10px;}&lt;/style&gt;Size of the Churn Dataset: (5000, 21)&#39;, &#39;id&#39;: 9, &#39;name&#39;: &#39;Size of the Churn Dataset&#39;, &#39;title&#39;: &#39;Size of the Churn Dataset&#39;, &#39;type&#39;: &#39;html&#39;, &#39;resultType&#39;: 3, &#39;visibility&#39;: &#39;EXPANDED&#39;, &#39;time&#39;: &#39;Apr 21, 2024 04:59:37 PM&#39;}\nNot sending message to fire_notebook server as the post back URL is not http\n++++++\nCheck the Input type.\n And Input is string type.\n++++++\nSending Message: {&#39;text&#39;: &#39;&lt;style&gt;.my-table-class {    font-family: Arial, sans-serif;    border-collapse: collapse;    width: 100%;}.my-table-class th {    background-color: #f2f2f2;    color: #333333;    font-weight: bold;    padding: 8px;    border: 1px solid #dddddd;    text-align: left;}.my-table-class td {    border: 1px solid #dddddd;    padding: 8px;    text-align: center;}.my-table-class tbody tr:nth-child(even) {    background-color: #f9f9f9;}.my-table-class tbody tr:hover {    background-color: #dddddd;}.my-table-class caption {    caption-side: top;    font-weight: bold;    margin-bottom: 10px;}&lt;/style&gt;&lt;table border=@@1@@ class=@@dataframe my-table-class@@&gt;  &lt;thead&gt;    &lt;tr style=@@text-align: right;@@&gt;      &lt;th&gt;List of the Column Names available in the dataset&lt;/th&gt;    &lt;/tr&gt;  &lt;/thead&gt;  &lt;tbody&gt;    &lt;tr&gt;      &lt;td&gt;state&lt;/td&gt;    &lt;/tr&gt;    &lt;tr&gt;      &lt;td&gt;account_length&lt;/td&gt;    &lt;/tr&gt;    &lt;tr&gt;      &lt;td&gt;area_code&lt;/td&gt;    &lt;/tr&gt;    &lt;tr&gt;      &lt;td&gt;phone_number&lt;/td&gt;    &lt;/tr&gt;    &lt;tr&gt;      &lt;td&gt;intl_plan&lt;/td&gt;    &lt;/tr&gt;    &lt;tr&gt;      &lt;td&gt;voice_mail_plan&lt;/td&gt;    &lt;/tr&gt;    &lt;tr&gt;      &lt;td&gt;number_vmail_messages&lt;/td&gt;    &lt;/tr&gt;    &lt;tr&gt;      &lt;td&gt;total_day_minutes&lt;/td&gt;    &lt;/tr&gt;    &lt;tr&gt;      &lt;td&gt;total_day_calls&lt;/td&gt;    &lt;/tr&gt;    &lt;tr&gt;      &lt;td&gt;total_day_charge&lt;/td&gt;    &lt;/tr&gt;    &lt;tr&gt;      &lt;td&gt;total_eve_minutes&lt;/td&gt;    &lt;/tr&gt;    &lt;tr&gt;      &lt;td&gt;total_eve_calls&lt;/td&gt;    &lt;/tr&gt;    &lt;tr&gt;      &lt;td&gt;total_eve_charge&lt;/td&gt;    &lt;/tr&gt;    &lt;tr&gt;      &lt;td&gt;total_night_minutes&lt;/td&gt;    &lt;/tr&gt;    &lt;tr&gt;      &lt;td&gt;total_night_calls&lt;/td&gt;    &lt;/tr&gt;    &lt;tr&gt;      &lt;td&gt;total_night_charge&lt;/td&gt;    &lt;/tr&gt;    &lt;tr&gt;      &lt;td&gt;total_intl_minutes&lt;/td&gt;    &lt;/tr&gt;    &lt;tr&gt;      &lt;td&gt;total_intl_calls&lt;/td&gt;    &lt;/tr&gt;    &lt;tr&gt;      &lt;td&gt;total_intl_charge&lt;/td&gt;    &lt;/tr&gt;    &lt;tr&gt;      &lt;td&gt;number_customer_service_calls&lt;/td&gt;    &lt;/tr&gt;    &lt;tr&gt;      &lt;td&gt;churn&lt;/td&gt;    &lt;/tr&gt;  &lt;/tbody&gt;&lt;/table&gt;&#39;, &#39;id&#39;: 9, &#39;name&#39;: &#39;Columns Used in Churn Dataset&#39;, &#39;title&#39;: &#39;Columns Used in Churn Dataset&#39;, &#39;type&#39;: &#39;html&#39;, &#39;resultType&#39;: 3, &#39;visibility&#39;: &#39;EXPANDED&#39;, &#39;time&#39;: &#39;Apr 21, 2024 04:59:37 PM&#39;}\nNot sending message to fire_notebook server as the post back URL is not http\n++++++\nCheck the Input type.\n And Input is string type.\n++++++\nSending Message: {&#39;text&#39;: &#39;&lt;style&gt;.my-table-class {    font-family: Arial, sans-serif;    border-collapse: collapse;    width: 100%;}.my-table-class th {    background-color: #f2f2f2;    color: #333333;    font-weight: bold;    padding: 8px;    border: 1px solid #dddddd;    text-align: left;}.my-table-class td {    border: 1px solid #dddddd;    padding: 8px;    text-align: center;}.my-table-class tbody tr:nth-child(even) {    background-color: #f9f9f9;}.my-table-class tbody tr:hover {    background-color: #dddddd;}.my-table-class caption {    caption-side: top;    font-weight: bold;    margin-bottom: 10px;}&lt;/style&gt;No null records found in the dataset.&#39;, &#39;id&#39;: 9, &#39;name&#39;: &#39;Check for Nulls&#39;, &#39;title&#39;: &#39;Check for Nulls&#39;, &#39;type&#39;: &#39;html&#39;, &#39;resultType&#39;: 3, &#39;visibility&#39;: &#39;EXPANDED&#39;, &#39;time&#39;: &#39;Apr 21, 2024 04:59:37 PM&#39;}\nNot sending message to fire_notebook server as the post back URL is not http\n++++++\nCheck the Input type.\n And Input is string type.\n++++++\nSending Message: {&#39;text&#39;: &#39;&lt;h1&gt;Data Visualization&lt;/h1&gt;&#39;, &#39;id&#39;: 9, &#39;name&#39;: &#39;&#39;, &#39;title&#39;: &#39;&#39;, &#39;type&#39;: &#39;html&#39;, &#39;resultType&#39;: 3, &#39;visibility&#39;: &#39;EXPANDED&#39;, &#39;time&#39;: &#39;Apr 21, 2024 04:59:37 PM&#39;}\nNot sending message to fire_notebook server as the post back URL is not http\n++++++\nSending Message: {&#34;progress&#34;: &#34;30&#34;, &#34;id&#34;: 9, &#34;name&#34;: &#34;Progress&#34;, &#34;title&#34;: &#34;Progress&#34;, &#34;type&#34;: &#34;progress&#34;, &#34;resultType&#34;: 3, &#34;visibility&#34;: &#34;EXPANDED&#34;, &#34;time&#34;: &#34;Apr 21, 2024 04:59:37 PM&#34;}\nNot sending message to fire_notebook server as the post back URL is not http\nCheck the Input type..\nThere is a match\n And Input is string type.\nSending Message: {&#39;text&#39;: &#39;Plotly.newPlot(                        @@ef979e6b-935f-4483-b441-17bf1f31c445@@,                        [{@@nbinsx@@:5,@@x@@:[110,123,114,71,113,98,88,79,97,84,137,127,96,88,70,67,139,114,66,90,117,89,112,103,86,76,115,73,109,117,95,105,121,118,94,80,128,64,106,94,102,85,82,77,67,97,120,133,114,135,108,57,112,117,83,67,98,129,70,103,97,83,91,92,98,74,105,93,70,101,93,97,83,146,109,90,109,117,72,98,99,104,123,101,96,104,105,118,104,125,61,100,100,93,71,106,110,87,131,72,114,137,82,99,94,65,102,131,91,90,100,117,117,108,125,89,83,114,117,125,92,102,103,124,119,52,108,124,90,115,92,125,115,96,109,112,97,106,117,101,115,68,107,47,86,101,91,87,121,97,99,119,116,112,115,116,120,129,117,124,97,110,99,103,151,92,126,102,124,87,105,91,87,87,92,104,91,103,93,122,125,94,111,98,68,145,74,71,111,109,85,109,74,118,52,86,119,67,101,64,146,101,86,109,105,76,98,94,95,112,72,100,131,139,98,93,89,80,121,121,116,114,112,113,97,111,85,78,136,84,109,110,96,97,140,106,103,117,148,86,89,95,77,81,99,107,102,94,85,114,99,91,90,101,117,126,122,118,111,79,110,88,103,110,55,79,94,89,104,123,105,121,78,104,90,103,88,96,85,135,97,93,115,74,108,90,122,88,88,95,121,110,112,93,86,115,83,117,129,98,80,106,108,106,117,109,111,99,101,128,109,102,69,136,99,158,105,66,96,81,79,79,107,134,91,104,95,109,130,97,98,83,121,99,95,97,70,121,104,67,63,115,105,98,92,131,117,117,122,63,104,78,112,95,77,105,89,85,122,109,53,83,121,87,88,75,96,127,110,99,81,110,57,98,77,113,87,123,84,100,118,107,87,82,125,113,64,102,95,99,125,129,92,76,78,89,102,103,129,91,105,124,108,122,80,91,78,134,108,110,90,80,85,112,77,47,99,84,73,98,126,114,122,124,110,131,129,65,91,69,100,98,77,106,101,80,123,76,93,99,141,93,114,129,107,103,116,100,114,79,107,107,115,77,125,124,88,99,86,120,128,109,109,75,85,113,103,103,163,63,146,116,117,59,101,111,106,112,134,102,108,123,116,95,132,111,103,100,126,119,119,91,113,104,93,114,134,93,61,91,102,104,61,138,97,66,88,122,69,114,102,94,101,74,113,137,100,68,92,97,108,86,84,108,105,125,88,126,133,110,77,112,61,117,97,101,88,93,126,113,94,77,120,109,90,106,90,91,54,63,58,111,112,103,80,84,77,110,96,97,103,107,88,106,104,76,97,73,88,137,108,107,92,88,121,90,74,112,76,108,151,77,109,75,128,102,97,85,118,81,105,96,85,111,138,95,70,68,80,62,89,86,109,95,144,77,119,107,94,55,120,83,108,82,110,111,138,119,107,79,89,88,68,140,110,91,109,105,119,125,107,112,97,104,129,84,105,106,94,83,92,120,92,79,114,112,74,91,122,97,81,100,143,65,126,85,147,101,102,103,69,70,80,126,95,110,120,102,135,108,109,117,106,99,90,101,134,99,110,78,90,100,98,94,90,113,76,101,105,104,111,119,36,110,91,98,94,104,89,86,110,95,110,104,95,81,78,97,111,81,70,114,104,101,70,95,130,116,124,88,88,92,96,109,103,100,116,111,122,98,105,121,94,123,110,98,86,89,123,72,40,133,112,126,122,97,85,102,120,119,80,116,94,88,105,76,88,108,99,88,84,128,78,124,83,97,132,150,93,104,54,97,112,110,99,107,133,54,107,100,104,138,87,124,83,70,82,86,97,79,88,86,98,108,118,84,89,126,113,115,96,102,88,86,73,87,120,89,76,94,118,89,96,103,115,102,78,92,127,133,99,110,110,74,104,105,82,117,147,56,94,86,106,107,116,75,100,93,79,78,112,114,58,81,88,98,92,101,79,91,110,89,91,96,73,135,133,90,94,114,111,145,132,71,108,114,128,72,89,114,150,119,79,109,107,128,107,78,66,96,82,82,113,84,85,108,124,75,113,112,72,91,85,91,96,118,113,106,132,113,114,107,61,90,123,113,95,83,89,95,80,145,91,129,123,122,74,97,67,110,113,51,121,107,134,134,127,117,139,104,106,68,87,103,87,88,107,121,127,90,137,81,88,107,147,88,67,75,83,124,129,89,86,93,123,109,73,69,97,100,106,81,95,75,130,130,63,147,103,68,122,95,90,90,90,118,77,105,102,70,94,85,106,105,112,55,102,103,117,150,118,97,104,99,107,108,101,91,80,109,138,84,91,88,101,117,92,91,57,111,83,130,111,93,125,96,117,132,148,74,72,91,99,87,65,129,94,106,114,82,125,108,85,111,80,74,77,80,92,89,77,112,112,104,109,115,129,87,107,72,112,118,67,116,107,109,101,158,125,72,97,101,71,127,114,82,140,97,119,108,92,122,88,77,106,81,119,123,113,112,88,150,115,101,97,97,72,115,79,100,86,95,87,121,105,120,78,121,127,95,104,96,128,78,93,100,115,97,104,112,115,100,93,98,85,129,95,122,116,106,79,165,105,98,85,75,103,78,104,103,62,94,109,73,84,87,111,97,81,108,108,74,71,113,30,129,117,123,110,76,106,94,89,105,110,120,117,123,110,122,70,55,78,107,117,94,106,95,101,108,104,88,81,113,98,78,89,108,54,101,92,89,108,82,122,92,92,94,122,106,56,63,98,95,63,97,117,80,86,78,90,92,96,106,141,90,112,65,93,127,67,85,132,102,88,140,84,92,87,83,96,98,93,91,97,84,101,139,109,77,71,98,91,71,115,56,109,79,118,116,83,107,90,122,92,120,83,66,108,105,132,105,93,97,84,121,65,115,83,95,107,76,105,69,79,130,127,112,115,114,102,76,102,48,62,116,129,118,77,90,95,138,107,96,66,123,132,108,95,99,118,107,106,106,76,61,110,112,123,90,111,130,69,127,78,92,81,135,119,123,106,92,123,130,100,113,103,80,98,102,105,60,42,117,112,115,119,92,145,91,121,107,109,114,99,124,85,107,79,96,86,101,71,80,89,0,45,117,98,107,124,121,105,91,103,93,120,84,89,91,102,76,122,115,97,118,66,131,127,75,125,102,90,105,129,112,139,134,96,115,119,110,107,113,108,116,98,96,127,62,105,118,85,107,121,110,124,0,87,116,90,88,86,120,113,80,139,105,104,95,91,84,60,78,90,89,121,74,101,95,68,81,45,117,77,148,84,108,117,130,70,107,75,107,150,114,117,118,99,115,97,102,116,82,99,104,104,105,110,101,100,137,136,111,80,95,120,113,94,88,160,78,107,93,85,120,108,59,102,79,95,99,66,120,89,112,62,102,122,92,102,79,93,91,106,87,104,94,84,120,107,110,126,90,85,136,120,101,102,104,86,88,116,94,117,120,74,84,74,105,82,91,100,114,99,96,112,70,78,91,136,83,100,89,113,108,112,94,99,111,141,104,84,102,99,102,79,122,111,112,100,92,105,68,98,92,111,103,80,94,106,106,110,93,79,92,143,68,100,91,110,106,69,76,95,126,69,113,96,104,100,134,78,99,80,85,90,123,97,110,140,96,92,73,136,93,77,111,119,55,107,106,108,119,92,102,86,93,77,113,110,102,127,90,73,102,113,94,99,96,73,89,87,114,73,95,125,108,103,88,102,149,83,140,115,121,115,81,74,145,144,65,113,101,114,133,104,93,79,95,99,77,92,104,74,112,143,94,79,86,78,134,130,78,87,102,132,79,80,93,91,96,80,104,93,125,82,85,99,123,87,105,96,83,120,95,96,119,116,73,97,93,91,93,107,88,56,80,107,89,143,120,114,127,75,100,113,107,85,133,117,89,108,96,95,105,113,129,83,68,93,116,73,84,66,87,110,102,85,152,97,124,96,123,87,86,108,48,104,123,121,95,105,70,101,68,125,95,91,120,130,114,124,87,94,94,147,110,82,107,74,142,83,92,108,110,106,127,105,100,102,124,77,101,87,125,64,86,110,101,112,125,92,79,81,103,132,83,82,127,83,97,76,97,108,104,69,91,119,90,115,111,102,87,73,121,90,95,65,80,110,103,78,105,118,84,102,103,100,104,103,148,119,83,147,82,98,119,140,82,84,99,94,78,83,108,106,96,67,140,82,90,116,97,87,87,95,100,115,110,102,119,82,93,117,122,117,73,138,115,144,96,144,85,138,134,106,101,102,110,107,103,103,113,91,83,75,109,115,156,97,91,80,91,131,102,116,115,126,98,99,97,75,77,60,110,133,89,93,123,123,101,111,127,89,99,129,79,103,105,113,100,66,117,91,118,105,104,140,110,114,60,125,89,78,100,103,120,99,94,102,105,132,126,82,102,104,127,70,130,93,85,123,101,124,90,118,104,86,100,92,124,98,99,118,65,73,96,105,109,110,123,77,120,82,103,87,79,126,75,92,118,79,133,105,109,102,79,97,63,121,107,101,110,83,132,106,92,84,106,93,133,73,96,119,112,100,96,70,35,88,123,77,96,96,119,128,120,97,116,87,109,95,100,86,102,96,88,112,110,151,98,111,82,81,113,118,113,104,109,78,112,67,106,93,129,109,138,106,69,76,72,128,87,133,89,115,121,106,84,125,61,61,117,132,133,98,125,102,118,79,121,92,101,97,101,92,87,58,104,118,112,104,122,65,55,91,95,121,119,91,121,131,114,116,107,134,137,108,101,72,107,106,83,76,110,69,99,84,107,104,65,97,66,111,122,88,53,112,108,113,95,108,112,82,82,89,135,87,100,100,93,112,101,85,129,71,96,119,109,84,108,78,95,117,59,112,85,98,96,70,77,137,99,49,138,108,105,102,120,64,105,86,109,78,108,134,96,102,83,127,106,121,80,126,102,116,99,89,105,94,83,86,82,69,103,89,94,114,65,125,89,85,120,97,121,68,58,121,88,128,102,130,101,116,143,74,124,107,117,106,130,81,92,98,72,54,67,105,105,142,128,72,103,99,106,120,95,122,78,110,121,67,121,111,133,107,42,94,107,72,103,109,108,80,93,100,92,92,95,141,104,88,96,112,65,95,61,104,108,80,115,88,108,84,129,70,116,105,85,133,83,121,112,97,116,109,95,122,87,114,85,76,137,97,88,102,103,88,102,86,95,102,98,70,100,71,138,61,86,106,57,71,116,75,105,105,112,74,54,108,87,112,78,100,96,80,109,92,100,94,107,100,123,120,98,120,53,112,89,102,104,57,111,105,52,107,110,133,105,109,56,116,84,120,108,104,77,96,115,101,102,90,84,97,71,107,119,78,83,71,107,105,72,98,101,96,113,102,116,151,102,71,51,85,94,97,103,92,90,107,98,118,84,73,122,85,114,83,123,111,95,109,106,123,107,106,125,122,92,117,80,107,93,100,78,123,108,141,102,102,87,158,96,157,86,99,71,99,70,94,87,101,109,80,130,59,82,76,119,102,88,112,58,91,119,141,99,120,120,94,66,98,113,97,82,121,104,123,88,99,104,88,114,65,79,96,108,113,120,115,104,121,89,70,79,90,123,119,117,120,118,107,93,103,145,74,120,126,99,96,95,98,82,109,93,90,96,128,146,124,87,120,87,115,74,133,111,80,91,106,114,67,117,127,95,93,114,135,72,125,112,45,95,135,91,116,62,59,110,95,66,114,131,96,105,107,125,98,105,119,115,95,125,117,88,115,70,116,101,105,76,142,116,121,57,65,93,102,93,122,134,98,60,99,108,100,86,80,117,82,121,116,123,113,121,72,117,112,134,119,56,91,107,100,101,80,133,114,81,67,130,69,92,65,87,92,116,81,98,100,62,60,112,121,95,105,92,106,107,90,104,90,78,78,122,106,113,99,130,95,141,100,120,81,80,92,88,80,90,120,107,131,93,89,126,89,100,124,90,98,130,102,88,78,102,140,98,137,109,113,138,105,85,106,119,51,85,126,92,148,91,108,126,106,94,92,82,116,111,99,140,99,114,85,110,114,120,145,114,100,112,117,103,85,73,122,73,84,130,136,96,108,123,115,86,128,84,91,97,108,92,123,105,117,109,96,139,69,82,62,126,77,84,98,93,95,81,117,83,97,92,81,95,82,113,86,82,89,91,124,84,108,121,133,89,128,105,104,58,69,134,101,138,116,93,94,104,125,110,103,127,82,95,124,111,94,125,71,93,137,91,106,114,107,104,113,143,90,116,122,142,94,124,115,78,108,92,84,116,97,94,101,86,88,79,106,59,136,129,103,116,90,104,88,99,126,100,85,81,65,68,84,105,93,81,117,89,119,150,95,74,101,114,88,109,90,74,99,89,110,106,131,104,112,142,132,82,68,87,118,99,114,108,105,126,100,104,77,106,66,122,95,80,77,114,113,91,113,68,122,101,94,80,48,78,110,71,106,108,90,144,91,130,80,115,119,70,88,97,110,98,110,101,100,98,123,101,102,122,128,109,126,112,124,96,88,77,123,125,80,90,125,102,102,87,128,83,118,114,100,89,98,67,93,77,61,92,123,68,108,98,134,49,44,44,88,130,141,101,104,98,80,112,98,99,130,94,90,115,108,88,106,94,103,100,122,67,104,102,78,87,89,92,119,126,87,89,112,117,88,67,98,62,105,134,116,104,106,84,109,68,134,71,73,63,86,90,129,102,104,89,118,96,75,103,73,116,114,146,100,113,87,83,113,111,94,91,115,65,106,81,88,102,44,134,81,132,136,54,94,81,134,96,72,89,117,100,71,107,86,67,106,117,112,87,105,83,96,114,109,116,104,73,130,63,63,114,70,69,109,82,91,104,78,103,124,145,97,107,97,78,100,89,127,96,92,90,102,105,80,92,87,101,89,105,116,96,98,114,116,83,103,115,93,112,112,137,94,145,103,83,134,101,81,74,92,81,119,83,92,111,103,112,126,80,123,108,83,103,98,93,98,137,129,83,93,98,85,91,122,114,106,106,88,61,88,86,95,99,102,85,63,108,113,55,91,88,127,72,119,98,93,95,61,93,106,114,121,94,131,101,123,111,61,101,100,92,71,121,116,99,89,99,110,125,83,143,100,101,95,77,120,84,119,115,102,96,100,110,88,76,100,74,94,123,83,96,121,139,127,85,95,141,115,94,112,91,97,138,100,112,100,111,117,94,97,60,111,67,99,95,121,108,97,101,85,93,110,115,70,125,67,71,123,121,128,102,128,102,115,74,100,116,88,130,126,40,111,110,151,83,76,67,86,89,108,107,63,84,98,120,120,101,96,90,107,123,135,92,114,134,86,141,79,84,85,100,66,72,76,94,119,145,101,81,117,105,81,86,79,89,102,79,96,101,95,140,93,99,65,118,111,112,87,101,117,104,85,66,103,105,87,69,105,61,115,110,115,79,76,73,107,81,98,83,139,92,100,121,67,84,141,108,109,115,114,115,97,85,140,122,71,96,109,117,105,119,105,110,128,119,85,133,106,88,77,84,70,95,94,113,78,88,114,127,131,109,87,112,91,94,130,128,81,106,111,90,131,99,101,118,105,126,114,99,128,98,77,57,109,105,113,123,86,95,123,78,85,124,97,117,100,77,109,86,86,77,93,66,124,105,121,142,88,99,101,111,94,110,110,125,106,125,74,131,112,104,76,113,122,125,112,76,106,127,65,91,48,111,120,112,102,131,95,88,97,93,103,81,108,83,65,95,103,56,118,99,75,57,104,95,99,132,114,86,92,104,112,110,100,126,98,119,87,119,82,96,86,107,90,95,64,105,111,95,83,95,92,81,91,88,102,109,117,113,133,89,95,100,104,83,86,81,114,113,115,111,100,90,119,97,147,58,110,120,104,112,95,124,110,99,72,101,90,87,102,98,75,93,80,53,147,103,128,89,93,81,57,85,130,94,74,108,109,112,86,102,102,93,110,90,88,117,89,75,113,98,93,107,93,94,124,101,106,77,149,79,68,68,86,105,143,103,85,91,114,90,101,97,102,141,93,142,122,81,117,97,93,92,112,143,92,99,82,87,112,102,110,99,113,105,80,85,114,61,112,91,83,123,113,119,116,148,106,84,124,92,103,94,108,112,99,84,62,98,97,76,60,89,99,94,119,121,108,105,51,78,124,113,73,101,89,121,99,80,116,88,127,111,104,74,118,122,106,121,121,122,116,83,73,100,135,84,94,133,83,115,83,79,113,126,102,119,112,78,100,93,115,106,126,106,98,92,141,137,119,114,107,85,118,117,117,112,108,151,64,123,112,102,97,136,91,113,134,72,108,97,118,80,98,80,98,118,109,92,97,103,87,122,126,91,57,102,128,109,98,122,95,106,111,94,125,78,106,119,60,95,74,105,84,115,77,50,103,86,88,60,71,98,107,103,114,70,97,85,122,109,102,81,108,100,100,142,126,71,107,72,109,83,80,91,130,85,85,87,114,100,106,101,60,56,98,70,82,80,132,100,115,105,102,91,73,73,92,86,99,114,110,104,96,81,78,124,122,100,115,105,80,105,129,83,94,96,82,80,85,106,83,127,109,102,100,120,88,122,75,77,95,126,73,104,51,52,92,105,93,92,102,123,108,98,68,98,90,138,92,124,66,111,80,112,109,108,94,95,86,109,141,108,105,80,115,58,111,90,105,135,69,77,97,107,109,83,133,96,95,105,84,118,115,85,141,108,127,125,113,97,110,89,66,84,84,94,118,106,79,78,59,109,109,97,89,88,65,103,58,101,84,72,109,95,121,97,70,115,142,105,114,111,90,126,101,67,114,83,70,108,77,107,105,107,94,86,97,133,138,79,94,101,110,128,142,144,113,107,132,96,91,77,90,69,142,82,124,122,91,106,106,104,74,143,85,106,111,102,105,97,105,84,94,98,105,113,103,77,99,120,86,88,109,97,81,112,113,82,75,78,98,125,108,90,94,73,114,103,119,113,93,80,105,93,129,95,94,107,104,70,79,120,57,53,69,94,80,90,80,138,89,104,77,134,133,64,110,89,108,90,120,71,88,81,98,64,82,144,97,63,47,56,100,101,97,72,74,121,94,113,72,99,102,122,117,95,96,108,100,112,80,88,111,98,91,91,75,110,92,119,81,88,109,101,107,92,74,114,118,85,95,124,101,101,138,105,113,121,103,96,127,94,81,128,109,109,115,59,80,128,85,97,94,80,127,57,106,104,112,96,80,34,117,93,132,126,103,86,86,92,108,117,126,84,79,133,86,112,106,115,91,116,108,93,105,102,113,91,127,76,103,83,107,114,93,97,92,107,52,101,105,107,117,89,81,94,104,114,101,62,83,141,98,106,100,141,74,76,89,92,109,121,82,79,84,96,80,120,120,96,104,65,75,91,89,109,125,100,87,100,68,85,92,96,127,107,116,113,70,99,85,99,120,93,71,105,113,96,100,96,130,79,100,81,83,100,122,39,100,102,92,109,121,88,96,131,96,95,104,119,66,114,95,96,83,69,114,77,107,81,94,79,134,75,93,76,108,63,95,75,84,108,101,100,68,110,99,103,92,130,127,110,109,141,107,120,113,122,113,110,95,119,116,69,61,82,91,84,110,104,75,86,82,91,106,86,67,126,113,66,90,100,156,124,120,98,76,114,70,79,61,116,117,75,98,95,110,95,112,94,123,102,104,78,113,97,79,92,110,63,109,106,60,135,90,68,121,75,100,97,88,71,85,112,106,85,103,77,108,112,115,125,90,97,90,96,91,108,82,110,90,102,66,75,93,66,105,109,105,156,103,104,119,114,132,118,71,79,92,111,157,68,91,108,75,103,81,114,134,117,61,101,93,99,82,111,76,137,114,101,96,88,94,98,110,66,102,92,85,107,102,88,64,58,106,123,103,123,96,105,98,94,90,82,70,109,63,114,75,102,115,81,123,116,86,112,112,112,136,125,95,122,110,96,92,126,120,83,109,73,128,89,76,83,104,100,105,75,132,110,103,128,88,102,104,81,113,94,89,88,151,82,79,99,102,59,120,97,98,96,74,99,106,97,85,111,75,129,85,92,108,112,65,102,123,99,99,113,86,105,95,137,146,131,106,113,91,106,82,117,100,67,122,125,114,128,82,44,95,83,94,111,117,90,99,88,119,108,95,109,75,68,98,105,108,129,46,107,100,135,140,91,87,108,90,82,105,100,128,98,110,97,152,123,98,102,123,100,67,98,90,113,93,80,94,117,63,95,118,88,86,109,81,119,101,103,100,81,75,102,95,112,109,82,97,96,98,81,91,82,97,87,84,126,122,117,85,94,95,108,110,83,133,66,85,139,108,94,77,67,90,93,86,92,99,64,71,91,91,98,94,92,94,129,60,94,108,79,88,114,82,75,117,84,160,97,120,117,105,76,92,94,124,88,89,89,112,99,96,98,88,96,95,52,77,108,80,92,73,90,102,117,101,124,116,127,86,89,107,74,102,110,116,122,117,93,115,65,97,74,84,118,114,90,81,91,126,98,100,125,87,114,95,121,73,79,104,115,104,99,114,74,107,103,101,100,117,93,115,134,113,56,91,103,96,72,83,103,99,101,107,91,94,147,110,120,88,49,94,125,73,91,92,87,84,76,91,73,110,110,81,86,67,102,109,112,103,122,95,106,94,118,64,90,110,87,117,94,88,60,110,71,123,105,76,111,96,85,146,109,126,107,107,93,85,117,80,123,125,138,105,75,94,105,94,114,106,134,92,100,103,100,89,120,70,97,102,89,105,136,110,90,146,115,76,87,65,87,113,106,123,112,96,101,101,125,110,96,58,91,110,98,94,76,89,76,71,121,92,91,119,60,75,64,104,58,140,105,120,67,117,87,116,113,94,90,130,116,112,69,83,84,112,77,113,75,93,110,96,69,120,111,104,120,113,139,138,104,71,68,119,98,77,102,105,106,107,92,129,91,98,92,94,77,127,116,102,112,88,103,111,79,126,83,112,87,95,105,74,104,133,76,100,39,123,103,147,101,91,76,119,130,85,83,94,127,107,63,95,74,80,94,87,89,97,108,68,56,104,80,97,114,115,134,143,136,60,103,104,85,126,88,126,77,101,107,80,116,95,98,86,92,119,99,114,95,121,130,96,101,112,83,111,85,107,97,122,70,124,103,113,98,81,139,80,116,115,90,85,95,106,100,120,97,105,58,87,81,106,87,113,106,121,98,108,104,78,103,86,87,113,105,96,119,92,96,101,117,59,121,109,81,71,114,106,122,109,115,121,114,93,87,108,76,87,104,99,100,122,112,139,110,76,130,85,114,105,87,69,109,133,118,126,96,92,105,74,91,122,80,48,99,118,97,124,90,86,99,115,107,101,115,115,89,70,89,101,127,90,89,67,102],@@type@@:@@histogram@@}],                        {@@template@@:{@@data@@:{@@barpolar@@:[{@@marker@@:{@@line@@:{@@color@@:@@#E5ECF6@@,@@width@@:0.5},@@pattern@@:{@@fillmode@@:@@overlay@@,@@size@@:10,@@solidity@@:0.2}},@@type@@:@@barpolar@@}],@@bar@@:[{@@error_x@@:{@@color@@:@@#2a3f5f@@},@@error_y@@:{@@color@@:@@#2a3f5f@@},@@marker@@:{@@line@@:{@@color@@:@@#E5ECF6@@,@@width@@:0.5},@@pattern@@:{@@fillmode@@:@@overlay@@,@@size@@:10,@@solidity@@:0.2}},@@type@@:@@bar@@}],@@carpet@@:[{@@aaxis@@:{@@endlinecolor@@:@@#2a3f5f@@,@@gridcolor@@:@@white@@,@@linecolor@@:@@white@@,@@minorgridcolor@@:@@white@@,@@startlinecolor@@:@@#2a3f5f@@},@@baxis@@:{@@endlinecolor@@:@@#2a3f5f@@,@@gridcolor@@:@@white@@,@@linecolor@@:@@white@@,@@minorgridcolor@@:@@white@@,@@startlinecolor@@:@@#2a3f5f@@},@@type@@:@@carpet@@}],@@choropleth@@:[{@@colorbar@@:{@@outlinewidth@@:0,@@ticks@@:@@@@},@@type@@:@@choropleth@@}],@@contourcarpet@@:[{@@colorbar@@:{@@outlinewidth@@:0,@@ticks@@:@@@@},@@type@@:@@contourcarpet@@}],@@contour@@:[{@@colorbar@@:{@@outlinewidth@@:0,@@ticks@@:@@@@},@@colorscale@@:[[0.0,@@#0d0887@@],[0.1111111111111111,@@#46039f@@],[0.2222222222222222,@@#7201a8@@],[0.3333333333333333,@@#9c179e@@],[0.4444444444444444,@@#bd3786@@],[0.5555555555555556,@@#d8576b@@],[0.6666666666666666,@@#ed7953@@],[0.7777777777777778,@@#fb9f3a@@],[0.8888888888888888,@@#fdca26@@],[1.0,@@#f0f921@@]],@@type@@:@@contour@@}],@@heatmapgl@@:[{@@colorbar@@:{@@outlinewidth@@:0,@@ticks@@:@@@@},@@colorscale@@:[[0.0,@@#0d0887@@],[0.1111111111111111,@@#46039f@@],[0.2222222222222222,@@#7201a8@@],[0.3333333333333333,@@#9c179e@@],[0.4444444444444444,@@#bd3786@@],[0.5555555555555556,@@#d8576b@@],[0.6666666666666666,@@#ed7953@@],[0.7777777777777778,@@#fb9f3a@@],[0.8888888888888888,@@#fdca26@@],[1.0,@@#f0f921@@]],@@type@@:@@heatmapgl@@}],@@heatmap@@:[{@@colorbar@@:{@@outlinewidth@@:0,@@ticks@@:@@@@},@@colorscale@@:[[0.0,@@#0d0887@@],[0.1111111111111111,@@#46039f@@],[0.2222222222222222,@@#7201a8@@],[0.3333333333333333,@@#9c179e@@],[0.4444444444444444,@@#bd3786@@],[0.5555555555555556,@@#d8576b@@],[0.6666666666666666,@@#ed7953@@],[0.7777777777777778,@@#fb9f3a@@],[0.8888888888888888,@@#fdca26@@],[1.0,@@#f0f921@@]],@@type@@:@@heatmap@@}],@@histogram2dcontour@@:[{@@colorbar@@:{@@outlinewidth@@:0,@@ticks@@:@@@@},@@colorscale@@:[[0.0,@@#0d0887@@],[0.1111111111111111,@@#46039f@@],[0.2222222222222222,@@#7201a8@@],[0.3333333333333333,@@#9c179e@@],[0.4444444444444444,@@#bd3786@@],[0.5555555555555556,@@#d8576b@@],[0.6666666666666666,@@#ed7953@@],[0.7777777777777778,@@#fb9f3a@@],[0.8888888888888888,@@#fdca26@@],[1.0,@@#f0f921@@]],@@type@@:@@histogram2dcontour@@}],@@histogram2d@@:[{@@colorbar@@:{@@outlinewidth@@:0,@@ticks@@:@@@@},@@colorscale@@:[[0.0,@@#0d0887@@],[0.1111111111111111,@@#46039f@@],[0.2222222222222222,@@#7201a8@@],[0.3333333333333333,@@#9c179e@@],[0.4444444444444444,@@#bd3786@@],[0.5555555555555556,@@#d8576b@@],[0.6666666666666666,@@#ed7953@@],[0.7777777777777778,@@#fb9f3a@@],[0.8888888888888888,@@#fdca26@@],[1.0,@@#f0f921@@]],@@type@@:@@histogram2d@@}],@@histogram@@:[{@@marker@@:{@@pattern@@:{@@fillmode@@:@@overlay@@,@@size@@:10,@@solidity@@:0.2}},@@type@@:@@histogram@@}],@@mesh3d@@:[{@@colorbar@@:{@@outlinewidth@@:0,@@ticks@@:@@@@},@@type@@:@@mesh3d@@}],@@parcoords@@:[{@@line@@:{@@colorbar@@:{@@outlinewidth@@:0,@@ticks@@:@@@@}},@@type@@:@@parcoords@@}],@@pie@@:[{@@automargin@@:true,@@type@@:@@pie@@}],@@scatter3d@@:[{@@line@@:{@@colorbar@@:{@@outlinewidth@@:0,@@ticks@@:@@@@}},@@marker@@:{@@colorbar@@:{@@outlinewidth@@:0,@@ticks@@:@@@@}},@@type@@:@@scatter3d@@}],@@scattercarpet@@:[{@@marker@@:{@@colorbar@@:{@@outlinewidth@@:0,@@ticks@@:@@@@}},@@type@@:@@scattercarpet@@}],@@scattergeo@@:[{@@marker@@:{@@colorbar@@:{@@outlinewidth@@:0,@@ticks@@:@@@@}},@@type@@:@@scattergeo@@}],@@scattergl@@:[{@@marker@@:{@@colorbar@@:{@@outlinewidth@@:0,@@ticks@@:@@@@}},@@type@@:@@scattergl@@}],@@scattermapbox@@:[{@@marker@@:{@@colorbar@@:{@@outlinewidth@@:0,@@ticks@@:@@@@}},@@type@@:@@scattermapbox@@}],@@scatterpolargl@@:[{@@marker@@:{@@colorbar@@:{@@outlinewidth@@:0,@@ticks@@:@@@@}},@@type@@:@@scatterpolargl@@}],@@scatterpolar@@:[{@@marker@@:{@@colorbar@@:{@@outlinewidth@@:0,@@ticks@@:@@@@}},@@type@@:@@scatterpolar@@}],@@scatter@@:[{@@marker@@:{@@colorbar@@:{@@outlinewidth@@:0,@@ticks@@:@@@@}},@@type@@:@@scatter@@}],@@scatterternary@@:[{@@marker@@:{@@colorbar@@:{@@outlinewidth@@:0,@@ticks@@:@@@@}},@@type@@:@@scatterternary@@}],@@surface@@:[{@@colorbar@@:{@@outlinewidth@@:0,@@ticks@@:@@@@},@@colorscale@@:[[0.0,@@#0d0887@@],[0.1111111111111111,@@#46039f@@],[0.2222222222222222,@@#7201a8@@],[0.3333333333333333,@@#9c179e@@],[0.4444444444444444,@@#bd3786@@],[0.5555555555555556,@@#d8576b@@],[0.6666666666666666,@@#ed7953@@],[0.7777777777777778,@@#fb9f3a@@],[0.8888888888888888,@@#fdca26@@],[1.0,@@#f0f921@@]],@@type@@:@@surface@@}],@@table@@:[{@@cells@@:{@@fill@@:{@@color@@:@@#EBF0F8@@},@@line@@:{@@color@@:@@white@@}},@@header@@:{@@fill@@:{@@color@@:@@#C8D4E3@@},@@line@@:{@@color@@:@@white@@}},@@type@@:@@table@@}]},@@layout@@:{@@annotationdefaults@@:{@@arrowcolor@@:@@#2a3f5f@@,@@arrowhead@@:0,@@arrowwidth@@:1},@@autotypenumbers@@:@@strict@@,@@coloraxis@@:{@@colorbar@@:{@@outlinewidth@@:0,@@ticks@@:@@@@}},@@colorscale@@:{@@diverging@@:[[0,@@#8e0152@@],[0.1,@@#c51b7d@@],[0.2,@@#de77ae@@],[0.3,@@#f1b6da@@],[0.4,@@#fde0ef@@],[0.5,@@#f7f7f7@@],[0.6,@@#e6f5d0@@],[0.7,@@#b8e186@@],[0.8,@@#7fbc41@@],[0.9,@@#4d9221@@],[1,@@#276419@@]],@@sequential@@:[[0.0,@@#0d0887@@],[0.1111111111111111,@@#46039f@@],[0.2222222222222222,@@#7201a8@@],[0.3333333333333333,@@#9c179e@@],[0.4444444444444444,@@#bd3786@@],[0.5555555555555556,@@#d8576b@@],[0.6666666666666666,@@#ed7953@@],[0.7777777777777778,@@#fb9f3a@@],[0.8888888888888888,@@#fdca26@@],[1.0,@@#f0f921@@]],@@sequentialminus@@:[[0.0,@@#0d0887@@],[0.1111111111111111,@@#46039f@@],[0.2222222222222222,@@#7201a8@@],[0.3333333333333333,@@#9c179e@@],[0.4444444444444444,@@#bd3786@@],[0.5555555555555556,@@#d8576b@@],[0.6666666666666666,@@#ed7953@@],[0.7777777777777778,@@#fb9f3a@@],[0.8888888888888888,@@#fdca26@@],[1.0,@@#f0f921@@]]},@@colorway@@:[@@#636efa@@,@@#EF553B@@,@@#00cc96@@,@@#ab63fa@@,@@#FFA15A@@,@@#19d3f3@@,@@#FF6692@@,@@#B6E880@@,@@#FF97FF@@,@@#FECB52@@],@@font@@:{@@color@@:@@#2a3f5f@@},@@geo@@:{@@bgcolor@@:@@white@@,@@lakecolor@@:@@white@@,@@landcolor@@:@@#E5ECF6@@,@@showlakes@@:true,@@showland@@:true,@@subunitcolor@@:@@white@@},@@hoverlabel@@:{@@align@@:@@left@@},@@hovermode@@:@@closest@@,@@mapbox@@:{@@style@@:@@light@@},@@paper_bgcolor@@:@@white@@,@@plot_bgcolor@@:@@#E5ECF6@@,@@polar@@:{@@angularaxis@@:{@@gridcolor@@:@@white@@,@@linecolor@@:@@white@@,@@ticks@@:@@@@},@@bgcolor@@:@@#E5ECF6@@,@@radialaxis@@:{@@gridcolor@@:@@white@@,@@linecolor@@:@@white@@,@@ticks@@:@@@@}},@@scene@@:{@@xaxis@@:{@@backgroundcolor@@:@@#E5ECF6@@,@@gridcolor@@:@@white@@,@@gridwidth@@:2,@@linecolor@@:@@white@@,@@showbackground@@:true,@@ticks@@:@@@@,@@zerolinecolor@@:@@white@@},@@yaxis@@:{@@backgroundcolor@@:@@#E5ECF6@@,@@gridcolor@@:@@white@@,@@gridwidth@@:2,@@linecolor@@:@@white@@,@@showbackground@@:true,@@ticks@@:@@@@,@@zerolinecolor@@:@@white@@},@@zaxis@@:{@@backgroundcolor@@:@@#E5ECF6@@,@@gridcolor@@:@@white@@,@@gridwidth@@:2,@@linecolor@@:@@white@@,@@showbackground@@:true,@@ticks@@:@@@@,@@zerolinecolor@@:@@white@@}},@@shapedefaults@@:{@@line@@:{@@color@@:@@#2a3f5f@@}},@@ternary@@:{@@aaxis@@:{@@gridcolor@@:@@white@@,@@linecolor@@:@@white@@,@@ticks@@:@@@@},@@baxis@@:{@@gridcolor@@:@@white@@,@@linecolor@@:@@white@@,@@ticks@@:@@@@},@@bgcolor@@:@@#E5ECF6@@,@@caxis@@:{@@gridcolor@@:@@white@@,@@linecolor@@:@@white@@,@@ticks@@:@@@@}},@@title@@:{@@x@@:0.05},@@xaxis@@:{@@automargin@@:true,@@gridcolor@@:@@white@@,@@linecolor@@:@@white@@,@@ticks@@:@@@@,@@title@@:{@@standoff@@:15},@@zerolinecolor@@:@@white@@,@@zerolinewidth@@:2},@@yaxis@@:{@@automargin@@:true,@@gridcolor@@:@@white@@,@@linecolor@@:@@white@@,@@ticks@@:@@@@,@@title@@:{@@standoff@@:15},@@zerolinecolor@@:@@white@@,@@zerolinewidth@@:2}}}},                        {@@responsive@@: true}                    )&#39;, &#39;id&#39;: 9, &#39;name&#39;: &#39;TotalDayCalls Distribution Chart&#39;, &#39;title&#39;: &#39;TotalDayCalls Distribution Chart&#39;, &#39;type&#39;: &#39;plotly&#39;, &#39;resultType&#39;: 3, &#39;visibility&#39;: &#39;EXPANDED&#39;, &#39;time&#39;: &#39;Apr 21, 2024 04:59:39 PM&#39;}\nNot sending message to fire_notebook server as the post back URL is not http\nSending Message: {&#34;progress&#34;: &#34;40&#34;, &#34;id&#34;: 9, &#34;name&#34;: &#34;Progress&#34;, &#34;title&#34;: &#34;Progress&#34;, &#34;type&#34;: &#34;progress&#34;, &#34;resultType&#34;: 3, &#34;visibility&#34;: &#34;EXPANDED&#34;, &#34;time&#34;: &#34;Apr 21, 2024 04:59:39 PM&#34;}\nNot sending message to fire_notebook server as the post back URL is not http\nCheck the Input type..\nThere is a match\n And Input is string type.\nSending Message: {&#39;text&#39;: &#39;Plotly.newPlot(                        @@2747a9e1-e7df-4b95-b85f-e8cb657ca219@@,                        [{@@x@@:[@@account_length@@,@@area_code@@,@@number_vmail_messages@@,@@total_day_minutes@@,@@total_day_calls@@,@@total_day_charge@@,@@total_eve_minutes@@,@@total_eve_calls@@,@@total_eve_charge@@,@@total_night_minutes@@,@@total_night_calls@@,@@total_night_charge@@,@@total_intl_minutes@@,@@total_intl_calls@@,@@total_intl_charge@@,@@number_customer_service_calls@@],@@y@@:[@@account_length@@,@@area_code@@,@@number_vmail_messages@@,@@total_day_minutes@@,@@total_day_calls@@,@@total_day_charge@@,@@total_eve_minutes@@,@@total_eve_calls@@,@@total_eve_charge@@,@@total_night_minutes@@,@@total_night_calls@@,@@total_night_charge@@,@@total_intl_minutes@@,@@total_intl_calls@@,@@total_intl_charge@@,@@number_customer_service_calls@@],@@z@@:[[1.0,-0.018054187431186045,-0.014574666267831002,-0.0010174908066805557,0.028240227881464887,-0.0010191979614159459,-0.009591333137542665,0.009142579036024275,-0.009587395822730571,0.000667911182280422,-0.00782547848770571,0.0006558936778097678,0.001290839427459895,0.014277273318296804,0.001291811206270311,-0.0014447917651621565],[-0.018054187431186045,1.0,-0.0033989830645153687,-0.01911824474505625,-0.019313854482629646,-0.019119255917649538,0.0070978766487255806,-0.01229994728283027,0.007114129758494931,0.0020836263382525803,0.01465684606608161,0.0020702637383866905,-0.004153729199362986,-0.013623309325114517,-0.004219098627406811,0.020920513338666333],[-0.014574666267831002,-0.0033989830645153687,1.0,0.005381375960654525,0.0008831280067745973,0.0053767958516914,0.019490120754725556,-0.0039543728093618825,0.01949597565315316,0.005541383812742748,0.002676220227255797,0.005534928135168643,0.0024627017675346186,0.00012433024609732074,0.002505177320644857,-0.007085642693096588],[-0.0010174908066805557,-0.01911824474505625,0.005381375960654525,1.0,0.0019351486957893667,0.9999999509831975,-0.010750427386866528,0.008128130473126396,-0.010760021726227647,0.011798659999244022,0.0042360999072667445,0.011782532764223022,-0.01948574632583264,-0.0013031234662255879,-0.01941479722841286,0.0027325761618292054],[0.028240227881464887,-0.019313854482629646,0.0008831280067745973,0.0019351486957893667,1.0,0.0019358843646607251,-0.0006994114708042444,0.003754178695284276,-0.0006952216752118381,0.00280446497470731,-0.008308346717225579,0.0028018168792725067,0.013097219754673038,0.010892853267709963,0.013161397556250197,-0.010739495083121125],[-0.0010191979614159459,-0.019119255917649538,0.0053767958516914,0.9999999509831975,0.0019358843646607251,1.0,-0.010747296837522364,0.008129319004161854,-0.010756893054787928,0.011801433860012147,0.004234933740255773,0.01178530116313638,-0.01948970009749194,-0.001306635281505888,-0.019418754763562952,0.002726370192473038],[-0.009591333137542665,0.0070978766487255806,0.019490120754725556,-0.010750427386866528,-0.0006994114708042444,-0.010747296837522364,1.0,0.002763019406749719,0.9999997748632368,-0.01663911604411638,0.013420216275055744,-0.016642042112908144,0.00013654874558242691,0.008388155877574145,0.00015931551581446158,-0.013823422807747681],[0.009142579036024275,-0.01229994728283027,-0.0039543728093618825,0.008128130473126396,0.003754178695284276,0.008129319004161854,0.002763019406749719,1.0,0.0027780971147908554,0.0017814105504447828,-0.01368234079745179,0.0017993804229349112,-0.0074584583342127845,0.005574499916987404,-0.007507150801103108,0.006234830562523755],[-0.009587395822730571,0.007114129758494931,0.01949597565315316,-0.010760021726227647,-0.0006952216752118381,-0.010756893054787928,0.9999997748632368,0.0027780971147908554,1.0,-0.016648919124572604,0.013422017412690612,-0.016651836727282678,0.00013202381422623718,0.008393060331758835,0.0001547783372188199,-0.013836362320991445],[0.000667911182280422,0.0020836263382525803,0.005541383812742748,0.011798659999244022,0.00280446497470731,0.011801433860012147,-0.01663911604411638,0.0017814105504447828,-0.016648919124572604,1.0,0.02697181822308513,0.999999207186797,-0.006720966921597935,-0.01721401615173222,-0.006654587345714402,-0.008532536464559507],[-0.00782547848770571,0.01465684606608161,0.002676220227255797,0.0042360999072667445,-0.008308346717225579,0.004234933740255773,0.013420216275055744,-0.01368234079745179,0.013422017412690612,0.02697181822308513,1.0,0.026949491392387767,0.00039075729962840345,-0.0001557557298253518,0.00036800574994908924,-0.00828260746772502],[0.0006558936778097678,0.0020702637383866905,0.005534928135168643,0.011782532764223022,0.0028018168792725067,0.01178530116313638,-0.016642042112908144,0.0017993804229349112,-0.016651836727282678,0.999999207186797,0.026949491392387767,1.0,-0.0067165376038990695,-0.017182157276491482,-0.006650156848030056,-0.008530076794367769],[0.001290839427459895,-0.004153729199362986,0.0024627017675346186,-0.01948574632583264,0.013097219754673038,-0.01948970009749194,0.00013654874558242691,-0.0074584583342127845,0.00013202381422623718,-0.006720966921597935,0.00039075729962840345,-0.0067165376038990695,1.0,0.0167914752192571,0.9999926570208366,-0.012121812385459535],[0.014277273318296804,-0.013623309325114517,0.00012433024609732074,-0.0013031234662255879,0.010892853267709963,-0.001306635281505888,0.008388155877574145,0.005574499916987404,0.008393060331758835,-0.01721401615173222,-0.0001557557298253518,-0.017182157276491482,0.0167914752192571,1.0,0.01690009340515227,-0.01914665042520698],[0.001291811206270311,-0.004219098627406811,0.002505177320644857,-0.01941479722841286,0.013161397556250197,-0.019418754763562952,0.00015931551581446158,-0.007507150801103108,0.0001547783372188199,-0.006654587345714402,0.00036800574994908924,-0.006650156848030056,0.9999926570208366,0.01690009340515227,1.0,-0.012180334261251221],[-0.0014447917651621565,0.020920513338666333,-0.007085642693096588,0.0027325761618292054,-0.010739495083121125,0.002726370192473038,-0.013823422807747681,0.006234830562523755,-0.013836362320991445,-0.008532536464559507,-0.00828260746772502,-0.008530076794367769,-0.012121812385459535,-0.01914665042520698,-0.012180334261251221,1.0]],@@type@@:@@heatmap@@}],                        {@@template@@:{@@data@@:{@@barpolar@@:[{@@marker@@:{@@line@@:{@@color@@:@@#E5ECF6@@,@@width@@:0.5},@@pattern@@:{@@fillmode@@:@@overlay@@,@@size@@:10,@@solidity@@:0.2}},@@type@@:@@barpolar@@}],@@bar@@:[{@@error_x@@:{@@color@@:@@#2a3f5f@@},@@error_y@@:{@@color@@:@@#2a3f5f@@},@@marker@@:{@@line@@:{@@color@@:@@#E5ECF6@@,@@width@@:0.5},@@pattern@@:{@@fillmode@@:@@overlay@@,@@size@@:10,@@solidity@@:0.2}},@@type@@:@@bar@@}],@@carpet@@:[{@@aaxis@@:{@@endlinecolor@@:@@#2a3f5f@@,@@gridcolor@@:@@white@@,@@linecolor@@:@@white@@,@@minorgridcolor@@:@@white@@,@@startlinecolor@@:@@#2a3f5f@@},@@baxis@@:{@@endlinecolor@@:@@#2a3f5f@@,@@gridcolor@@:@@white@@,@@linecolor@@:@@white@@,@@minorgridcolor@@:@@white@@,@@startlinecolor@@:@@#2a3f5f@@},@@type@@:@@carpet@@}],@@choropleth@@:[{@@colorbar@@:{@@outlinewidth@@:0,@@ticks@@:@@@@},@@type@@:@@choropleth@@}],@@contourcarpet@@:[{@@colorbar@@:{@@outlinewidth@@:0,@@ticks@@:@@@@},@@type@@:@@contourcarpet@@}],@@contour@@:[{@@colorbar@@:{@@outlinewidth@@:0,@@ticks@@:@@@@},@@colorscale@@:[[0.0,@@#0d0887@@],[0.1111111111111111,@@#46039f@@],[0.2222222222222222,@@#7201a8@@],[0.3333333333333333,@@#9c179e@@],[0.4444444444444444,@@#bd3786@@],[0.5555555555555556,@@#d8576b@@],[0.6666666666666666,@@#ed7953@@],[0.7777777777777778,@@#fb9f3a@@],[0.8888888888888888,@@#fdca26@@],[1.0,@@#f0f921@@]],@@type@@:@@contour@@}],@@heatmapgl@@:[{@@colorbar@@:{@@outlinewidth@@:0,@@ticks@@:@@@@},@@colorscale@@:[[0.0,@@#0d0887@@],[0.1111111111111111,@@#46039f@@],[0.2222222222222222,@@#7201a8@@],[0.3333333333333333,@@#9c179e@@],[0.4444444444444444,@@#bd3786@@],[0.5555555555555556,@@#d8576b@@],[0.6666666666666666,@@#ed7953@@],[0.7777777777777778,@@#fb9f3a@@],[0.8888888888888888,@@#fdca26@@],[1.0,@@#f0f921@@]],@@type@@:@@heatmapgl@@}],@@heatmap@@:[{@@colorbar@@:{@@outlinewidth@@:0,@@ticks@@:@@@@},@@colorscale@@:[[0.0,@@#0d0887@@],[0.1111111111111111,@@#46039f@@],[0.2222222222222222,@@#7201a8@@],[0.3333333333333333,@@#9c179e@@],[0.4444444444444444,@@#bd3786@@],[0.5555555555555556,@@#d8576b@@],[0.6666666666666666,@@#ed7953@@],[0.7777777777777778,@@#fb9f3a@@],[0.8888888888888888,@@#fdca26@@],[1.0,@@#f0f921@@]],@@type@@:@@heatmap@@}],@@histogram2dcontour@@:[{@@colorbar@@:{@@outlinewidth@@:0,@@ticks@@:@@@@},@@colorscale@@:[[0.0,@@#0d0887@@],[0.1111111111111111,@@#46039f@@],[0.2222222222222222,@@#7201a8@@],[0.3333333333333333,@@#9c179e@@],[0.4444444444444444,@@#bd3786@@],[0.5555555555555556,@@#d8576b@@],[0.6666666666666666,@@#ed7953@@],[0.7777777777777778,@@#fb9f3a@@],[0.8888888888888888,@@#fdca26@@],[1.0,@@#f0f921@@]],@@type@@:@@histogram2dcontour@@}],@@histogram2d@@:[{@@colorbar@@:{@@outlinewidth@@:0,@@ticks@@:@@@@},@@colorscale@@:[[0.0,@@#0d0887@@],[0.1111111111111111,@@#46039f@@],[0.2222222222222222,@@#7201a8@@],[0.3333333333333333,@@#9c179e@@],[0.4444444444444444,@@#bd3786@@],[0.5555555555555556,@@#d8576b@@],[0.6666666666666666,@@#ed7953@@],[0.7777777777777778,@@#fb9f3a@@],[0.8888888888888888,@@#fdca26@@],[1.0,@@#f0f921@@]],@@type@@:@@histogram2d@@}],@@histogram@@:[{@@marker@@:{@@pattern@@:{@@fillmode@@:@@overlay@@,@@size@@:10,@@solidity@@:0.2}},@@type@@:@@histogram@@}],@@mesh3d@@:[{@@colorbar@@:{@@outlinewidth@@:0,@@ticks@@:@@@@},@@type@@:@@mesh3d@@}],@@parcoords@@:[{@@line@@:{@@colorbar@@:{@@outlinewidth@@:0,@@ticks@@:@@@@}},@@type@@:@@parcoords@@}],@@pie@@:[{@@automargin@@:true,@@type@@:@@pie@@}],@@scatter3d@@:[{@@line@@:{@@colorbar@@:{@@outlinewidth@@:0,@@ticks@@:@@@@}},@@marker@@:{@@colorbar@@:{@@outlinewidth@@:0,@@ticks@@:@@@@}},@@type@@:@@scatter3d@@}],@@scattercarpet@@:[{@@marker@@:{@@colorbar@@:{@@outlinewidth@@:0,@@ticks@@:@@@@}},@@type@@:@@scattercarpet@@}],@@scattergeo@@:[{@@marker@@:{@@colorbar@@:{@@outlinewidth@@:0,@@ticks@@:@@@@}},@@type@@:@@scattergeo@@}],@@scattergl@@:[{@@marker@@:{@@colorbar@@:{@@outlinewidth@@:0,@@ticks@@:@@@@}},@@type@@:@@scattergl@@}],@@scattermapbox@@:[{@@marker@@:{@@colorbar@@:{@@outlinewidth@@:0,@@ticks@@:@@@@}},@@type@@:@@scattermapbox@@}],@@scatterpolargl@@:[{@@marker@@:{@@colorbar@@:{@@outlinewidth@@:0,@@ticks@@:@@@@}},@@type@@:@@scatterpolargl@@}],@@scatterpolar@@:[{@@marker@@:{@@colorbar@@:{@@outlinewidth@@:0,@@ticks@@:@@@@}},@@type@@:@@scatterpolar@@}],@@scatter@@:[{@@marker@@:{@@colorbar@@:{@@outlinewidth@@:0,@@ticks@@:@@@@}},@@type@@:@@scatter@@}],@@scatterternary@@:[{@@marker@@:{@@colorbar@@:{@@outlinewidth@@:0,@@ticks@@:@@@@}},@@type@@:@@scatterternary@@}],@@surface@@:[{@@colorbar@@:{@@outlinewidth@@:0,@@ticks@@:@@@@},@@colorscale@@:[[0.0,@@#0d0887@@],[0.1111111111111111,@@#46039f@@],[0.2222222222222222,@@#7201a8@@],[0.3333333333333333,@@#9c179e@@],[0.4444444444444444,@@#bd3786@@],[0.5555555555555556,@@#d8576b@@],[0.6666666666666666,@@#ed7953@@],[0.7777777777777778,@@#fb9f3a@@],[0.8888888888888888,@@#fdca26@@],[1.0,@@#f0f921@@]],@@type@@:@@surface@@}],@@table@@:[{@@cells@@:{@@fill@@:{@@color@@:@@#EBF0F8@@},@@line@@:{@@color@@:@@white@@}},@@header@@:{@@fill@@:{@@color@@:@@#C8D4E3@@},@@line@@:{@@color@@:@@white@@}},@@type@@:@@table@@}]},@@layout@@:{@@annotationdefaults@@:{@@arrowcolor@@:@@#2a3f5f@@,@@arrowhead@@:0,@@arrowwidth@@:1},@@autotypenumbers@@:@@strict@@,@@coloraxis@@:{@@colorbar@@:{@@outlinewidth@@:0,@@ticks@@:@@@@}},@@colorscale@@:{@@diverging@@:[[0,@@#8e0152@@],[0.1,@@#c51b7d@@],[0.2,@@#de77ae@@],[0.3,@@#f1b6da@@],[0.4,@@#fde0ef@@],[0.5,@@#f7f7f7@@],[0.6,@@#e6f5d0@@],[0.7,@@#b8e186@@],[0.8,@@#7fbc41@@],[0.9,@@#4d9221@@],[1,@@#276419@@]],@@sequential@@:[[0.0,@@#0d0887@@],[0.1111111111111111,@@#46039f@@],[0.2222222222222222,@@#7201a8@@],[0.3333333333333333,@@#9c179e@@],[0.4444444444444444,@@#bd3786@@],[0.5555555555555556,@@#d8576b@@],[0.6666666666666666,@@#ed7953@@],[0.7777777777777778,@@#fb9f3a@@],[0.8888888888888888,@@#fdca26@@],[1.0,@@#f0f921@@]],@@sequentialminus@@:[[0.0,@@#0d0887@@],[0.1111111111111111,@@#46039f@@],[0.2222222222222222,@@#7201a8@@],[0.3333333333333333,@@#9c179e@@],[0.4444444444444444,@@#bd3786@@],[0.5555555555555556,@@#d8576b@@],[0.6666666666666666,@@#ed7953@@],[0.7777777777777778,@@#fb9f3a@@],[0.8888888888888888,@@#fdca26@@],[1.0,@@#f0f921@@]]},@@colorway@@:[@@#636efa@@,@@#EF553B@@,@@#00cc96@@,@@#ab63fa@@,@@#FFA15A@@,@@#19d3f3@@,@@#FF6692@@,@@#B6E880@@,@@#FF97FF@@,@@#FECB52@@],@@font@@:{@@color@@:@@#2a3f5f@@},@@geo@@:{@@bgcolor@@:@@white@@,@@lakecolor@@:@@white@@,@@landcolor@@:@@#E5ECF6@@,@@showlakes@@:true,@@showland@@:true,@@subunitcolor@@:@@white@@},@@hoverlabel@@:{@@align@@:@@left@@},@@hovermode@@:@@closest@@,@@mapbox@@:{@@style@@:@@light@@},@@paper_bgcolor@@:@@white@@,@@plot_bgcolor@@:@@#E5ECF6@@,@@polar@@:{@@angularaxis@@:{@@gridcolor@@:@@white@@,@@linecolor@@:@@white@@,@@ticks@@:@@@@},@@bgcolor@@:@@#E5ECF6@@,@@radialaxis@@:{@@gridcolor@@:@@white@@,@@linecolor@@:@@white@@,@@ticks@@:@@@@}},@@scene@@:{@@xaxis@@:{@@backgroundcolor@@:@@#E5ECF6@@,@@gridcolor@@:@@white@@,@@gridwidth@@:2,@@linecolor@@:@@white@@,@@showbackground@@:true,@@ticks@@:@@@@,@@zerolinecolor@@:@@white@@},@@yaxis@@:{@@backgroundcolor@@:@@#E5ECF6@@,@@gridcolor@@:@@white@@,@@gridwidth@@:2,@@linecolor@@:@@white@@,@@showbackground@@:true,@@ticks@@:@@@@,@@zerolinecolor@@:@@white@@},@@zaxis@@:{@@backgroundcolor@@:@@#E5ECF6@@,@@gridcolor@@:@@white@@,@@gridwidth@@:2,@@linecolor@@:@@white@@,@@showbackground@@:true,@@ticks@@:@@@@,@@zerolinecolor@@:@@white@@}},@@shapedefaults@@:{@@line@@:{@@color@@:@@#2a3f5f@@}},@@ternary@@:{@@aaxis@@:{@@gridcolor@@:@@white@@,@@linecolor@@:@@white@@,@@ticks@@:@@@@},@@baxis@@:{@@gridcolor@@:@@white@@,@@linecolor@@:@@white@@,@@ticks@@:@@@@},@@bgcolor@@:@@#E5ECF6@@,@@caxis@@:{@@gridcolor@@:@@white@@,@@linecolor@@:@@white@@,@@ticks@@:@@@@}},@@title@@:{@@x@@:0.05},@@xaxis@@:{@@automargin@@:true,@@gridcolor@@:@@white@@,@@linecolor@@:@@white@@,@@ticks@@:@@@@,@@title@@:{@@standoff@@:15},@@zerolinecolor@@:@@white@@,@@zerolinewidth@@:2},@@yaxis@@:{@@automargin@@:true,@@gridcolor@@:@@white@@,@@linecolor@@:@@white@@,@@ticks@@:@@@@,@@title@@:{@@standoff@@:15},@@zerolinecolor@@:@@white@@,@@zerolinewidth@@:2}}}},                        {@@responsive@@: true}                    )&#39;, &#39;id&#39;: 9, &#39;name&#39;: &#39;Correlation Heatmap&#39;, &#39;title&#39;: &#39;Correlation Heatmap&#39;, &#39;type&#39;: &#39;plotly&#39;, &#39;resultType&#39;: 3, &#39;visibility&#39;: &#39;EXPANDED&#39;, &#39;time&#39;: &#39;Apr 21, 2024 04:59:39 PM&#39;}\nNot sending message to fire_notebook server as the post back URL is not http\nSending Message: {&#34;progress&#34;: &#34;100&#34;, &#34;id&#34;: 9, &#34;name&#34;: &#34;Progress&#34;, &#34;title&#34;: &#34;Progress&#34;, &#34;type&#34;: &#34;progress&#34;, &#34;resultType&#34;: 3, &#34;visibility&#34;: &#34;EXPANDED&#34;, &#34;time&#34;: &#34;Apr 21, 2024 04:59:39 PM&#34;}\nNot sending message to fire_notebook server as the post back URL is not http\nSending Message: {&#34;text&#34;: &#34;Job Execution Completed.&#34;, &#34;id&#34;: 9, &#34;name&#34;: &#34;Success&#34;, &#34;title&#34;: &#34;Success&#34;, &#34;type&#34;: &#34;success&#34;, &#34;resultType&#34;: 3, &#34;visibility&#34;: &#34;EXPANDED&#34;, &#34;time&#34;: &#34;Apr 21, 2024 04:59:39 PM&#34;}\nNot sending message to fire_notebook server as the post back URL is not http\n</div>",
       "datasetInfos": [],
       "metadata": {},
       "removedWidgets": [],
       "type": "html"
      }
     },
     "output_type": "display_data"
    }
   ],
   "source": [
    "# COMMAND ----------\n",
    "\n",
    "run_options(option)\n",
    "\n",
    "# COMMAND ----------\n",
    "\n",
    "message=\"100\"\n",
    "restworkflowcontext.outputProgress(9, title=\"Progress\", progress=message)\n",
    "\n",
    "message = \"Job Execution Completed.\"\n",
    "restworkflowcontext.outSuccess(9, title=\"Success\", text=message)"
   ]
  },
  {
   "cell_type": "code",
   "execution_count": 0,
   "metadata": {
    "application/vnd.databricks.v1+cell": {
     "cellMetadata": {},
     "inputWidgets": {},
     "nuid": "40777207-02ae-4496-b3da-9baf1306891e",
     "showTitle": false,
     "title": ""
    }
   },
   "outputs": [],
   "source": []
  }
 ],
 "metadata": {
  "application/vnd.databricks.v1+notebook": {
   "dashboards": [],
   "language": "python",
   "notebookMetadata": {
    "mostRecentlyExecutedCommandWithImplicitDF": {
     "commandId": 1730139694150411,
     "dataframes": [
      "_sqldf"
     ]
    },
    "pythonIndentUnit": 2
   },
   "notebookName": "ChurnAnalysisAndPrediction",
   "widgets": {}
  }
 },
 "nbformat": 4,
 "nbformat_minor": 0
}
