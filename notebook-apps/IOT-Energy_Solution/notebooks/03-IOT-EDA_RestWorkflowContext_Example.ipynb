{
 "cells": [
  {
   "cell_type": "markdown",
   "id": "248720b0",
   "metadata": {},
   "source": [
    "# IOT Project EDA Rest Workflow Context Porting Example"
   ]
  },
  {
   "cell_type": "code",
   "execution_count": 1,
   "id": "6671d9df",
   "metadata": {},
   "outputs": [],
   "source": [
    "import pandas as pd\n",
    "import numpy as np\n",
    "import matplotlib.pyplot as plt\n",
    "import seaborn as sns"
   ]
  },
  {
   "cell_type": "code",
   "execution_count": 2,
   "id": "a6f6334b",
   "metadata": {},
   "outputs": [],
   "source": [
    "#Initializing development to 'local'\n",
    "development = 'local'"
   ]
  },
  {
   "cell_type": "code",
   "execution_count": 3,
   "id": "70759142",
   "metadata": {},
   "outputs": [],
   "source": [
    "#Initialize and Start Execution\n",
    "from fire_notebook.output.workflowcontext import RestWorkflowContext\n",
    "import sys"
   ]
  },
  {
   "cell_type": "code",
   "execution_count": 4,
   "id": "6aaa3345",
   "metadata": {},
   "outputs": [],
   "source": [
    "# Read CSV using pandas\n",
    "df = pd.read_csv(\"03-IOT-EDA_RestWorkflowContext_Example.csv\")\n"
   ]
  },
  {
   "cell_type": "code",
   "execution_count": 5,
   "id": "cff7e947",
   "metadata": {
    "scrolled": false
   },
   "outputs": [],
   "source": [
    "# Cast 'timestamp' to pandas datetime\n",
    "df['timestamp'] = pd.to_datetime(df['timestamp'])\n",
    "\n",
    "# Extract date-time fields (hour, minute, second)\n",
    "df['timestamp_hour'] = df['timestamp'].dt.hour\n",
    "df['timestamp_minute'] = df['timestamp'].dt.minute\n",
    "df['timestamp_second'] = df['timestamp'].dt.second\n",
    "\n",
    "# Create concatenated 'Time' column\n",
    "df['Time'] = df['timestamp_hour'].astype(str) + ':' + df['timestamp_minute'].astype(str) + ':' + df['timestamp_second'].astype(str)"
   ]
  },
  {
   "cell_type": "code",
   "execution_count": 6,
   "id": "f6791745",
   "metadata": {
    "scrolled": true
   },
   "outputs": [
    {
     "name": "stdout",
     "output_type": "stream",
     "text": [
      "  device_id  energy_generation  energy_consumption     voltage    current  \\\n",
      "0   meter_1         874.540119         1091.987091  234.106837  12.697001   \n",
      "1   meter_1        1450.714306          725.294647  222.101540  17.204711   \n",
      "2   meter_1        1231.993942          485.584967  235.273288  18.034907   \n",
      "3   meter_1        1098.658484         1198.271546  235.675188  17.314874   \n",
      "4   meter_1         656.018640          516.274470  221.026831  19.591362   \n",
      "\n",
      "      power  frequency                        timestamp  timestamp_hour  \\\n",
      "0  2.972455  49.778800 2024-05-02 20:14:08.564000+00:00              20   \n",
      "1  3.821193  50.004721 2024-05-02 20:15:08.564000+00:00              20   \n",
      "2  4.243132  50.308800 2024-05-02 20:16:08.564000+00:00              20   \n",
      "3  4.080686  50.303760 2024-05-02 20:17:08.564000+00:00              20   \n",
      "4  4.330217  49.808399 2024-05-02 20:18:08.564000+00:00              20   \n",
      "\n",
      "   timestamp_minute  timestamp_second     Time  \n",
      "0                14                 8  20:14:8  \n",
      "1                15                 8  20:15:8  \n",
      "2                16                 8  20:16:8  \n",
      "3                17                 8  20:17:8  \n",
      "4                18                 8  20:18:8  \n"
     ]
    }
   ],
   "source": [
    "print(df.head())"
   ]
  },
  {
   "cell_type": "code",
   "execution_count": 7,
   "id": "bc6a0bae",
   "metadata": {},
   "outputs": [],
   "source": [
    "#IOT had only one parameter passed from App to workflow/Notebook for filetering devices\n",
    "parameter_from_App = 'selectDevice'"
   ]
  },
  {
   "cell_type": "code",
   "execution_count": 8,
   "id": "376b9e97",
   "metadata": {},
   "outputs": [],
   "source": [
    "#Initializing the value of the parameter from the App using getParameters API\n",
    "#If development environment is local, initializing option to 'meter_1'\n",
    "if development == 'local':\n",
    "    option = 'meter_2'\n",
    "else:\n",
    "    option = restworkflowcontext.getParmeters(parameter_name=parameter_from_App, default=\"Profiling\")"
   ]
  },
  {
   "cell_type": "code",
   "execution_count": 9,
   "id": "e510cd20",
   "metadata": {},
   "outputs": [
    {
     "data": {
      "text/plain": [
       "'selectDevice=meter_2'"
      ]
     },
     "execution_count": 9,
     "metadata": {},
     "output_type": "execute_result"
    }
   ],
   "source": [
    "#Initializing parameter list for the IOT App\n",
    "#custom_parameters = \"param1=value1,param2=value2,param3=value3\"\n",
    "parameters_custom = parameter_from_App+'='+str(option)\n",
    "parameters_custom"
   ]
  },
  {
   "cell_type": "code",
   "execution_count": 10,
   "id": "2fc699ec",
   "metadata": {},
   "outputs": [
    {
     "data": {
      "text/plain": [
       "['placeholder', 'http://localhost', 'default_job_id', 'selectDevice=meter_2']"
      ]
     },
     "execution_count": 10,
     "metadata": {},
     "output_type": "execute_result"
    }
   ],
   "source": [
    "parameters_list = [\"placeholder\", \"http://localhost\", \"default_job_id\", parameters_custom]\n",
    "parameters_list"
   ]
  },
  {
   "cell_type": "code",
   "execution_count": 11,
   "id": "3f9bcd82",
   "metadata": {},
   "outputs": [
    {
     "name": "stdout",
     "output_type": "stream",
     "text": [
      "WebserverURL:http://localhost\n",
      "jobId:default_job_id\n"
     ]
    }
   ],
   "source": [
    "#Creating an instance of the RestWorkflowContext class\n",
    "restworkflowcontext = RestWorkflowContext(parameters=parameters_list)"
   ]
  },
  {
   "cell_type": "code",
   "execution_count": 12,
   "id": "eb680dfa",
   "metadata": {},
   "outputs": [
    {
     "name": "stdout",
     "output_type": "stream",
     "text": [
      "Sending Message: {\"cellValues\": [[\"device_id\", \"energy_generation\", \"energy_consumption\", \"voltage\", \"current\", \"power\", \"frequency\", \"timestamp\", \"timestamp_hour\", \"timestamp_minute\", \"timestamp_second\", \"Time\"], [\"object\", \"float64\", \"float64\", \"float64\", \"float64\", \"float64\", \"float64\", \"datetime64[ns, UTC]\", \"int32\", \"int32\", \"int32\", \"object\"], [\"meter_1\", 874.5401188473625, 1091.9870911053968, 234.10683743886483, 12.697000723785344, 2.9724546844043647, 49.77879958997374, Timestamp(\"2024-05-02 20:14:08.564000+0000\", tz=\"UTC\"), 20, 14, 8, \"20:14:8\"], [\"meter_1\", 1450.7143064099162, 725.2946465148977, 222.10153968855863, 17.204711006584528, 3.821192804459115, 50.00472133721003, Timestamp(\"2024-05-02 20:15:08.564000+0000\", tz=\"UTC\"), 20, 15, 8, \"20:15:8\"], [\"meter_1\", 1231.993941811405, 485.58496698984584, 235.2732876409557, 18.034906561721172, 4.243131759073584, 50.308799947464166, Timestamp(\"2024-05-02 20:16:08.564000+0000\", tz=\"UTC\"), 20, 16, 8, \"20:16:8\"], [\"meter_1\", 1098.6584841970366, 1198.2715464941125, 235.67518774535404, 17.314874200566173, 4.08068622800562, 50.303760375548634, Timestamp(\"2024-05-02 20:17:08.564000+0000\", tz=\"UTC\"), 20, 17, 8, \"20:17:8\"], [\"meter_1\", 656.0186404424365, 516.2744698043853, 221.02683147108695, 19.59136206585127, 4.330216681617955, 49.8083987228091, Timestamp(\"2024-05-02 20:18:08.564000+0000\", tz=\"UTC\"), 20, 18, 8, \"20:18:8\"], [\"meter_1\", 655.9945203362026, 812.4658642629263, 229.9448300431504, 11.432244229153053, 2.628785456284385, 50.19392336232244, Timestamp(\"2024-05-02 20:19:08.564000+0000\", tz=\"UTC\"), 20, 19, 8, \"20:19:8\"], [\"meter_1\", 558.0836121681995, 611.6953508787136, 238.96296001616057, 15.77991517996864, 3.7708152402092514, 50.33582235431803, Timestamp(\"2024-05-02 20:20:08.564000+0000\", tz=\"UTC\"), 20, 20, 8, \"20:20:8\"], [\"meter_1\", 1366.176145774935, 808.5942893199267, 239.0228450858864, 19.457056898872366, 4.650681096966448, 50.428005066646485, Timestamp(\"2024-05-02 20:21:08.564000+0000\", tz=\"UTC\"), 20, 21, 8, \"20:21:8\"], [\"meter_1\", 1101.115011743209, 643.9465552821184, 239.690294455704, 14.637233048837984, 3.508402699492739, 49.64261509157152, Timestamp(\"2024-05-02 20:22:08.564000+0000\", tz=\"UTC\"), 20, 22, 8, \"20:22:8\"], [\"meter_1\", 1208.0725777960456, 1117.5093124967675, 233.1333012414956, 18.883243822900177, 4.402312970580798, 49.720240077022666, Timestamp(\"2024-05-02 20:23:08.564000+0000\", tz=\"UTC\"), 20, 23, 8, \"20:23:8\"]], \"id\": 9, \"name\": \"Pandas DataFrame\", \"title\": \"Names\", \"type\": \"table\", \"resultType\": 3, \"visibility\": \"EXPANDED\", \"time\": \"Oct 01, 2024 12:19:28 PM\"}\n",
      "Error : HTTPConnectionPool(host='localhost', port=80): Max retries exceeded with url: / (Caused by NewConnectionError('<urllib3.connection.HTTPConnection object at 0x2a14cbe10>: Failed to establish a new connection: [Errno 61] Connection refused'))\n"
     ]
    }
   ],
   "source": [
    "# Print the first few rows to ensure data was read correctly\n",
    "restworkflowcontext.outPandasDataframe(9, \"Names\", df, 10)"
   ]
  },
  {
   "cell_type": "markdown",
   "id": "0e442c84",
   "metadata": {},
   "source": [
    "# ---- Data Visualizations ----"
   ]
  },
  {
   "cell_type": "code",
   "execution_count": 13,
   "id": "49cb8bc7",
   "metadata": {},
   "outputs": [],
   "source": [
    "\n",
    "import plotly.graph_objs as go\n",
    "import plotly.io as pio\n",
    "import plotly\n",
    "import plotly.offline as py"
   ]
  },
  {
   "cell_type": "code",
   "execution_count": 14,
   "id": "d68713a5",
   "metadata": {},
   "outputs": [],
   "source": [
    "test = plotly.offline.plot([go.Scatter(x=[1, 2, 3], y=[3, 2, 6])],\n",
    "                 output_type='div',\n",
    "                include_plotlyjs=False)"
   ]
  },
  {
   "cell_type": "code",
   "execution_count": 15,
   "id": "a9c560ae",
   "metadata": {},
   "outputs": [],
   "source": [
    "example_plotly = f'{test}'"
   ]
  },
  {
   "cell_type": "code",
   "execution_count": 16,
   "id": "f351c7f9",
   "metadata": {
    "scrolled": false
   },
   "outputs": [
    {
     "name": "stdout",
     "output_type": "stream",
     "text": [
      "Check the Input type..\n",
      "There is a match\n",
      " And Input is string type.\n",
      "Sending Message: {'text': 'Plotly.newPlot(                        @@ae3e8b47-cfb7-42b7-9e4a-ad0fb14216ba@@,                        [{@@x@@:[1,2,3],@@y@@:[3,2,6],@@type@@:@@scatter@@}],                        {@@template@@:{@@data@@:{@@barpolar@@:[{@@marker@@:{@@line@@:{@@color@@:@@#E5ECF6@@,@@width@@:0.5},@@pattern@@:{@@fillmode@@:@@overlay@@,@@size@@:10,@@solidity@@:0.2}},@@type@@:@@barpolar@@}],@@bar@@:[{@@error_x@@:{@@color@@:@@#2a3f5f@@},@@error_y@@:{@@color@@:@@#2a3f5f@@},@@marker@@:{@@line@@:{@@color@@:@@#E5ECF6@@,@@width@@:0.5},@@pattern@@:{@@fillmode@@:@@overlay@@,@@size@@:10,@@solidity@@:0.2}},@@type@@:@@bar@@}],@@carpet@@:[{@@aaxis@@:{@@endlinecolor@@:@@#2a3f5f@@,@@gridcolor@@:@@white@@,@@linecolor@@:@@white@@,@@minorgridcolor@@:@@white@@,@@startlinecolor@@:@@#2a3f5f@@},@@baxis@@:{@@endlinecolor@@:@@#2a3f5f@@,@@gridcolor@@:@@white@@,@@linecolor@@:@@white@@,@@minorgridcolor@@:@@white@@,@@startlinecolor@@:@@#2a3f5f@@},@@type@@:@@carpet@@}],@@choropleth@@:[{@@colorbar@@:{@@outlinewidth@@:0,@@ticks@@:@@@@},@@type@@:@@choropleth@@}],@@contourcarpet@@:[{@@colorbar@@:{@@outlinewidth@@:0,@@ticks@@:@@@@},@@type@@:@@contourcarpet@@}],@@contour@@:[{@@colorbar@@:{@@outlinewidth@@:0,@@ticks@@:@@@@},@@colorscale@@:[[0.0,@@#0d0887@@],[0.1111111111111111,@@#46039f@@],[0.2222222222222222,@@#7201a8@@],[0.3333333333333333,@@#9c179e@@],[0.4444444444444444,@@#bd3786@@],[0.5555555555555556,@@#d8576b@@],[0.6666666666666666,@@#ed7953@@],[0.7777777777777778,@@#fb9f3a@@],[0.8888888888888888,@@#fdca26@@],[1.0,@@#f0f921@@]],@@type@@:@@contour@@}],@@heatmapgl@@:[{@@colorbar@@:{@@outlinewidth@@:0,@@ticks@@:@@@@},@@colorscale@@:[[0.0,@@#0d0887@@],[0.1111111111111111,@@#46039f@@],[0.2222222222222222,@@#7201a8@@],[0.3333333333333333,@@#9c179e@@],[0.4444444444444444,@@#bd3786@@],[0.5555555555555556,@@#d8576b@@],[0.6666666666666666,@@#ed7953@@],[0.7777777777777778,@@#fb9f3a@@],[0.8888888888888888,@@#fdca26@@],[1.0,@@#f0f921@@]],@@type@@:@@heatmapgl@@}],@@heatmap@@:[{@@colorbar@@:{@@outlinewidth@@:0,@@ticks@@:@@@@},@@colorscale@@:[[0.0,@@#0d0887@@],[0.1111111111111111,@@#46039f@@],[0.2222222222222222,@@#7201a8@@],[0.3333333333333333,@@#9c179e@@],[0.4444444444444444,@@#bd3786@@],[0.5555555555555556,@@#d8576b@@],[0.6666666666666666,@@#ed7953@@],[0.7777777777777778,@@#fb9f3a@@],[0.8888888888888888,@@#fdca26@@],[1.0,@@#f0f921@@]],@@type@@:@@heatmap@@}],@@histogram2dcontour@@:[{@@colorbar@@:{@@outlinewidth@@:0,@@ticks@@:@@@@},@@colorscale@@:[[0.0,@@#0d0887@@],[0.1111111111111111,@@#46039f@@],[0.2222222222222222,@@#7201a8@@],[0.3333333333333333,@@#9c179e@@],[0.4444444444444444,@@#bd3786@@],[0.5555555555555556,@@#d8576b@@],[0.6666666666666666,@@#ed7953@@],[0.7777777777777778,@@#fb9f3a@@],[0.8888888888888888,@@#fdca26@@],[1.0,@@#f0f921@@]],@@type@@:@@histogram2dcontour@@}],@@histogram2d@@:[{@@colorbar@@:{@@outlinewidth@@:0,@@ticks@@:@@@@},@@colorscale@@:[[0.0,@@#0d0887@@],[0.1111111111111111,@@#46039f@@],[0.2222222222222222,@@#7201a8@@],[0.3333333333333333,@@#9c179e@@],[0.4444444444444444,@@#bd3786@@],[0.5555555555555556,@@#d8576b@@],[0.6666666666666666,@@#ed7953@@],[0.7777777777777778,@@#fb9f3a@@],[0.8888888888888888,@@#fdca26@@],[1.0,@@#f0f921@@]],@@type@@:@@histogram2d@@}],@@histogram@@:[{@@marker@@:{@@pattern@@:{@@fillmode@@:@@overlay@@,@@size@@:10,@@solidity@@:0.2}},@@type@@:@@histogram@@}],@@mesh3d@@:[{@@colorbar@@:{@@outlinewidth@@:0,@@ticks@@:@@@@},@@type@@:@@mesh3d@@}],@@parcoords@@:[{@@line@@:{@@colorbar@@:{@@outlinewidth@@:0,@@ticks@@:@@@@}},@@type@@:@@parcoords@@}],@@pie@@:[{@@automargin@@:true,@@type@@:@@pie@@}],@@scatter3d@@:[{@@line@@:{@@colorbar@@:{@@outlinewidth@@:0,@@ticks@@:@@@@}},@@marker@@:{@@colorbar@@:{@@outlinewidth@@:0,@@ticks@@:@@@@}},@@type@@:@@scatter3d@@}],@@scattercarpet@@:[{@@marker@@:{@@colorbar@@:{@@outlinewidth@@:0,@@ticks@@:@@@@}},@@type@@:@@scattercarpet@@}],@@scattergeo@@:[{@@marker@@:{@@colorbar@@:{@@outlinewidth@@:0,@@ticks@@:@@@@}},@@type@@:@@scattergeo@@}],@@scattergl@@:[{@@marker@@:{@@colorbar@@:{@@outlinewidth@@:0,@@ticks@@:@@@@}},@@type@@:@@scattergl@@}],@@scattermapbox@@:[{@@marker@@:{@@colorbar@@:{@@outlinewidth@@:0,@@ticks@@:@@@@}},@@type@@:@@scattermapbox@@}],@@scatterpolargl@@:[{@@marker@@:{@@colorbar@@:{@@outlinewidth@@:0,@@ticks@@:@@@@}},@@type@@:@@scatterpolargl@@}],@@scatterpolar@@:[{@@marker@@:{@@colorbar@@:{@@outlinewidth@@:0,@@ticks@@:@@@@}},@@type@@:@@scatterpolar@@}],@@scatter@@:[{@@fillpattern@@:{@@fillmode@@:@@overlay@@,@@size@@:10,@@solidity@@:0.2},@@type@@:@@scatter@@}],@@scatterternary@@:[{@@marker@@:{@@colorbar@@:{@@outlinewidth@@:0,@@ticks@@:@@@@}},@@type@@:@@scatterternary@@}],@@surface@@:[{@@colorbar@@:{@@outlinewidth@@:0,@@ticks@@:@@@@},@@colorscale@@:[[0.0,@@#0d0887@@],[0.1111111111111111,@@#46039f@@],[0.2222222222222222,@@#7201a8@@],[0.3333333333333333,@@#9c179e@@],[0.4444444444444444,@@#bd3786@@],[0.5555555555555556,@@#d8576b@@],[0.6666666666666666,@@#ed7953@@],[0.7777777777777778,@@#fb9f3a@@],[0.8888888888888888,@@#fdca26@@],[1.0,@@#f0f921@@]],@@type@@:@@surface@@}],@@table@@:[{@@cells@@:{@@fill@@:{@@color@@:@@#EBF0F8@@},@@line@@:{@@color@@:@@white@@}},@@header@@:{@@fill@@:{@@color@@:@@#C8D4E3@@},@@line@@:{@@color@@:@@white@@}},@@type@@:@@table@@}]},@@layout@@:{@@annotationdefaults@@:{@@arrowcolor@@:@@#2a3f5f@@,@@arrowhead@@:0,@@arrowwidth@@:1},@@autotypenumbers@@:@@strict@@,@@coloraxis@@:{@@colorbar@@:{@@outlinewidth@@:0,@@ticks@@:@@@@}},@@colorscale@@:{@@diverging@@:[[0,@@#8e0152@@],[0.1,@@#c51b7d@@],[0.2,@@#de77ae@@],[0.3,@@#f1b6da@@],[0.4,@@#fde0ef@@],[0.5,@@#f7f7f7@@],[0.6,@@#e6f5d0@@],[0.7,@@#b8e186@@],[0.8,@@#7fbc41@@],[0.9,@@#4d9221@@],[1,@@#276419@@]],@@sequential@@:[[0.0,@@#0d0887@@],[0.1111111111111111,@@#46039f@@],[0.2222222222222222,@@#7201a8@@],[0.3333333333333333,@@#9c179e@@],[0.4444444444444444,@@#bd3786@@],[0.5555555555555556,@@#d8576b@@],[0.6666666666666666,@@#ed7953@@],[0.7777777777777778,@@#fb9f3a@@],[0.8888888888888888,@@#fdca26@@],[1.0,@@#f0f921@@]],@@sequentialminus@@:[[0.0,@@#0d0887@@],[0.1111111111111111,@@#46039f@@],[0.2222222222222222,@@#7201a8@@],[0.3333333333333333,@@#9c179e@@],[0.4444444444444444,@@#bd3786@@],[0.5555555555555556,@@#d8576b@@],[0.6666666666666666,@@#ed7953@@],[0.7777777777777778,@@#fb9f3a@@],[0.8888888888888888,@@#fdca26@@],[1.0,@@#f0f921@@]]},@@colorway@@:[@@#636efa@@,@@#EF553B@@,@@#00cc96@@,@@#ab63fa@@,@@#FFA15A@@,@@#19d3f3@@,@@#FF6692@@,@@#B6E880@@,@@#FF97FF@@,@@#FECB52@@],@@font@@:{@@color@@:@@#2a3f5f@@},@@geo@@:{@@bgcolor@@:@@white@@,@@lakecolor@@:@@white@@,@@landcolor@@:@@#E5ECF6@@,@@showlakes@@:true,@@showland@@:true,@@subunitcolor@@:@@white@@},@@hoverlabel@@:{@@align@@:@@left@@},@@hovermode@@:@@closest@@,@@mapbox@@:{@@style@@:@@light@@},@@paper_bgcolor@@:@@white@@,@@plot_bgcolor@@:@@#E5ECF6@@,@@polar@@:{@@angularaxis@@:{@@gridcolor@@:@@white@@,@@linecolor@@:@@white@@,@@ticks@@:@@@@},@@bgcolor@@:@@#E5ECF6@@,@@radialaxis@@:{@@gridcolor@@:@@white@@,@@linecolor@@:@@white@@,@@ticks@@:@@@@}},@@scene@@:{@@xaxis@@:{@@backgroundcolor@@:@@#E5ECF6@@,@@gridcolor@@:@@white@@,@@gridwidth@@:2,@@linecolor@@:@@white@@,@@showbackground@@:true,@@ticks@@:@@@@,@@zerolinecolor@@:@@white@@},@@yaxis@@:{@@backgroundcolor@@:@@#E5ECF6@@,@@gridcolor@@:@@white@@,@@gridwidth@@:2,@@linecolor@@:@@white@@,@@showbackground@@:true,@@ticks@@:@@@@,@@zerolinecolor@@:@@white@@},@@zaxis@@:{@@backgroundcolor@@:@@#E5ECF6@@,@@gridcolor@@:@@white@@,@@gridwidth@@:2,@@linecolor@@:@@white@@,@@showbackground@@:true,@@ticks@@:@@@@,@@zerolinecolor@@:@@white@@}},@@shapedefaults@@:{@@line@@:{@@color@@:@@#2a3f5f@@}},@@ternary@@:{@@aaxis@@:{@@gridcolor@@:@@white@@,@@linecolor@@:@@white@@,@@ticks@@:@@@@},@@baxis@@:{@@gridcolor@@:@@white@@,@@linecolor@@:@@white@@,@@ticks@@:@@@@},@@bgcolor@@:@@#E5ECF6@@,@@caxis@@:{@@gridcolor@@:@@white@@,@@linecolor@@:@@white@@,@@ticks@@:@@@@}},@@title@@:{@@x@@:0.05},@@xaxis@@:{@@automargin@@:true,@@gridcolor@@:@@white@@,@@linecolor@@:@@white@@,@@ticks@@:@@@@,@@title@@:{@@standoff@@:15},@@zerolinecolor@@:@@white@@,@@zerolinewidth@@:2},@@yaxis@@:{@@automargin@@:true,@@gridcolor@@:@@white@@,@@linecolor@@:@@white@@,@@ticks@@:@@@@,@@title@@:{@@standoff@@:15},@@zerolinecolor@@:@@white@@,@@zerolinewidth@@:2}}}},                        {@@responsive@@: true}                    )', 'id': 9, 'name': 'Example Plotly', 'title': 'Example Plotly', 'type': 'plotly', 'resultType': 3, 'visibility': 'EXPANDED', 'time': 'Oct 01, 2024 12:19:46 PM'}\n",
      "Error : HTTPConnectionPool(host='localhost', port=80): Max retries exceeded with url: / (Caused by NewConnectionError('<urllib3.connection.HTTPConnection object at 0x2a198ca10>: Failed to establish a new connection: [Errno 61] Connection refused'))\n"
     ]
    }
   ],
   "source": [
    "restworkflowcontext.outPlotly(9, title=\"Example Plotly\", text = example_plotly)"
   ]
  },
  {
   "cell_type": "markdown",
   "id": "110b4c8b",
   "metadata": {},
   "source": [
    "# Histogram for all feature columns"
   ]
  },
  {
   "cell_type": "code",
   "execution_count": null,
   "id": "4122ae27",
   "metadata": {
    "scrolled": false
   },
   "outputs": [],
   "source": [
    "fig = plotly.offline.plot([go.Histogram(x=df['energy_generation'], nbinsx=30)], \n",
    "              output_type='div', include_plotlyjs=False)\n",
    "histogram_to_plot = f'{fig}'\n",
    "restworkflowcontext.outPlotly(9, title=\"Histogram of energy_generation\", text = histogram_to_plot)"
   ]
  },
  {
   "cell_type": "code",
   "execution_count": null,
   "id": "b96a6d1d",
   "metadata": {
    "scrolled": true
   },
   "outputs": [],
   "source": [
    "# Create a histogram object\n",
    "numeric_cols = ['energy_generation', 'energy_consumption', 'voltage', 'current', 'power', 'frequency']\n",
    "for col in numeric_cols:\n",
    "    fig = plotly.offline.plot([go.Histogram(x=df[col], nbinsx=30)], \n",
    "              output_type='div', include_plotlyjs=False)\n",
    "    histogram_to_plot = f'{fig}'\n",
    "    restworkflowcontext.outPlotly(9, title=f\"Histogram of {col}\", text = histogram_to_plot)\n",
    "    "
   ]
  },
  {
   "cell_type": "code",
   "execution_count": null,
   "id": "99ec8566",
   "metadata": {
    "scrolled": false
   },
   "outputs": [],
   "source": [
    "# Create a histogram object\n",
    "numeric_cols = ['energy_generation', 'energy_consumption', 'voltage', 'current', 'power', 'frequency']\n",
    "for col in numeric_cols:\n",
    "    fig = go.Figure(data=[go.Histogram(x=df[col], nbinsx=30)])\n",
    "    fig.update_layout(\n",
    "    title=f\"Histogram of {col}\", \n",
    "    xaxis_title=col,\n",
    "    yaxis_title=\"Frequency\")\n",
    "    pio.show(fig)"
   ]
  },
  {
   "cell_type": "markdown",
   "id": "d4ab4891",
   "metadata": {},
   "source": [
    "# Boxplot to anlayze outliers"
   ]
  },
  {
   "cell_type": "code",
   "execution_count": 17,
   "id": "e0d6d947",
   "metadata": {},
   "outputs": [],
   "source": [
    "import plotly.graph_objs as go\n",
    "import plotly.io as pio\n",
    "import plotly.offline as py"
   ]
  },
  {
   "cell_type": "code",
   "execution_count": 21,
   "id": "20cd10a3",
   "metadata": {},
   "outputs": [],
   "source": [
    "numeric_cols = ['energy_generation', 'energy_consumption', 'voltage', 'current', 'power', 'frequency']"
   ]
  },
  {
   "cell_type": "code",
   "execution_count": 22,
   "id": "ea752d57",
   "metadata": {},
   "outputs": [],
   "source": [
    "fig = plotly.offline.plot([go.Box(y=df[numeric_cols], boxpoints='all', jitter=0.3, pointpos=-1.8)],\n",
    "                 output_type='div',\n",
    "                include_plotlyjs=False)"
   ]
  },
  {
   "cell_type": "code",
   "execution_count": 23,
   "id": "c721aaa5",
   "metadata": {
    "scrolled": true
   },
   "outputs": [
    {
     "name": "stderr",
     "output_type": "stream",
     "text": [
      "IOPub data rate exceeded.\n",
      "The notebook server will temporarily stop sending output\n",
      "to the client in order to avoid crashing it.\n",
      "To change this limit, set the config variable\n",
      "`--NotebookApp.iopub_data_rate_limit`.\n",
      "\n",
      "Current values:\n",
      "NotebookApp.iopub_data_rate_limit=1000000.0 (bytes/sec)\n",
      "NotebookApp.rate_limit_window=3.0 (secs)\n",
      "\n"
     ]
    }
   ],
   "source": [
    "boxplot_to_plot = f'{fig}'\n",
    "restworkflowcontext.outPlotly(9, title=\"Boxplot of energy_generation\", text = boxplot_to_plot)"
   ]
  },
  {
   "cell_type": "code",
   "execution_count": null,
   "id": "9223b419",
   "metadata": {
    "scrolled": true
   },
   "outputs": [],
   "source": [
    "# Create the box plot\n",
    "fig = go.Figure(data=[go.Box(y=df[numeric_cols], boxpoints='all', jitter=0.3, pointpos=-1.8)])\n",
    "# Plotting the box plot\n",
    "pio.show(fig)"
   ]
  },
  {
   "cell_type": "markdown",
   "id": "0428a1f2",
   "metadata": {},
   "source": [
    "# Correlation Matrix"
   ]
  },
  {
   "cell_type": "code",
   "execution_count": null,
   "id": "2c681cf1",
   "metadata": {},
   "outputs": [],
   "source": [
    "# Plot correlation matrix\n",
    "correlation_matrix = df[numeric_cols].corr()\n",
    "custom_colorscale = [[0.0, \"grey\"],[0.5, \"orange\"],[1.0, \"red\"]]\n",
    "fig = plotly.offline.plot([go.Heatmap(z=correlation_matrix.values,\n",
    "                     x=correlation_matrix.columns,\n",
    "                     y=correlation_matrix.columns,\n",
    "                     colorscale=custom_colorscale)],\n",
    "                 output_type='div',\n",
    "                include_plotlyjs=False)"
   ]
  },
  {
   "cell_type": "code",
   "execution_count": null,
   "id": "a5116926",
   "metadata": {},
   "outputs": [],
   "source": [
    "correlation_matrix = f'{fig}'\n",
    "restworkflowcontext.outPlotly(9, title=\"Correlation matrix of energy_generation\", text = correlation_matrix)"
   ]
  },
  {
   "cell_type": "code",
   "execution_count": null,
   "id": "79d87a7f",
   "metadata": {},
   "outputs": [],
   "source": [
    "# Plot correlation matrix using Plotly\n",
    "correlation_matrix = df[numeric_cols].corr()\n",
    "custom_colorscale = [[0.0, \"grey\"],[0.5, \"orange\"],[1.0, \"red\"]]\n",
    "\n",
    "# Create the heatmap\n",
    "heatmap = go.Heatmap(z=correlation_matrix.values,\n",
    "                     x=correlation_matrix.columns,\n",
    "                     y=correlation_matrix.columns,\n",
    "                     colorscale=custom_colorscale)\n",
    "\n",
    "# Plot the heatmap\n",
    "pio.show(go.Figure(data=[heatmap]))"
   ]
  },
  {
   "cell_type": "markdown",
   "id": "f076030c",
   "metadata": {},
   "source": [
    "# Line plot for energy consumption for selected device"
   ]
  },
  {
   "cell_type": "code",
   "execution_count": null,
   "id": "1c4a1303",
   "metadata": {
    "scrolled": true
   },
   "outputs": [],
   "source": [
    "# 4. Filtering based on device IDs\n",
    "df_filtered = df[df['device_id']==option]\n",
    "df_filtered.head(100)"
   ]
  },
  {
   "cell_type": "code",
   "execution_count": null,
   "id": "5cb792b7",
   "metadata": {},
   "outputs": [],
   "source": [
    "# Print filtered device IDs\n",
    "print('Devices:')\n",
    "print(df_filtered['device_id'].unique())"
   ]
  },
  {
   "cell_type": "code",
   "execution_count": null,
   "id": "d88863ab",
   "metadata": {
    "scrolled": true
   },
   "outputs": [],
   "source": [
    "plt.figure(figsize=(50,10))\n",
    "plt.xticks(rotation=30)\n",
    "ax=sns.lineplot(data=df_filtered, x=\"timestamp\", y=\"energy_consumption\",legend=\"full\",hue='device_id',linewidth=1)\n",
    "# for legend text\n",
    "plt.setp(ax.get_legend().get_texts(), fontsize='30')  \n",
    " \n",
    "# for legend title\n",
    "plt.setp(ax.get_legend().get_title(), fontsize='30')  \n",
    "plt.show()"
   ]
  },
  {
   "cell_type": "code",
   "execution_count": null,
   "id": "9c7fbe4d",
   "metadata": {},
   "outputs": [],
   "source": [
    "# Create a line plot\n",
    "line_trace = go.Scatter(\n",
    "    x=df_filtered['timestamp'],\n",
    "    y=df_filtered['energy_consumption'],\n",
    "    mode='lines',  # 'lines' for a line graph, 'lines+markers' to include markers\n",
    "    name='Value over Time'\n",
    ")\n",
    "# Plotting the line graph\n",
    "fig = go.Figure(data=[line_trace])\n",
    "# Display the plot\n",
    "pio.show(fig)"
   ]
  },
  {
   "cell_type": "code",
   "execution_count": null,
   "id": "d5f0ead5",
   "metadata": {},
   "outputs": [],
   "source": [
    "energy = plotly.offline.plot([go.Scatter(x=df_filtered['timestamp'], y=df_filtered['energy_consumption'])],\n",
    "                 output_type='div',\n",
    "                include_plotlyjs=False)"
   ]
  },
  {
   "cell_type": "code",
   "execution_count": null,
   "id": "d8a62f27",
   "metadata": {
    "scrolled": false
   },
   "outputs": [],
   "source": [
    "energy_plotly = f'{energy}'\n",
    "restworkflowcontext.outPlotly(9, title=\"Energy Consumption\", text = energy_plotly)"
   ]
  },
  {
   "cell_type": "code",
   "execution_count": null,
   "id": "55a95676",
   "metadata": {},
   "outputs": [],
   "source": []
  },
  {
   "cell_type": "code",
   "execution_count": null,
   "id": "e85cdf34",
   "metadata": {},
   "outputs": [],
   "source": []
  }
 ],
 "metadata": {
  "kernelspec": {
   "display_name": "Python 3 (ipykernel)",
   "language": "python",
   "name": "python3"
  },
  "language_info": {
   "codemirror_mode": {
    "name": "ipython",
    "version": 3
   },
   "file_extension": ".py",
   "mimetype": "text/x-python",
   "name": "python",
   "nbconvert_exporter": "python",
   "pygments_lexer": "ipython3",
   "version": "3.11.5"
  }
 },
 "nbformat": 4,
 "nbformat_minor": 5
}
