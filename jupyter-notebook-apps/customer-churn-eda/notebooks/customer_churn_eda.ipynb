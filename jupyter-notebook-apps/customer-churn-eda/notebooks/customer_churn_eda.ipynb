{
 "cells": [
  {
   "cell_type": "code",
   "execution_count": 9,
   "metadata": {
    "id": "C1N2i6IbM2Jo"
   },
   "outputs": [],
   "source": [
    "import pandas as pd"
   ]
  },
  {
   "cell_type": "code",
   "execution_count": null,
   "metadata": {
    "colab": {
     "base_uri": "https://localhost:8080/"
    },
    "id": "P3Q7TmYaKivf",
    "outputId": "7bd63f9c-9aa0-48a2-af6f-fdb876f8aad7"
   },
   "outputs": [],
   "source": [
    "# !pip install fire_notebook-3.1.0-py3-none-any.whl\n",
    "# import pyspark\n",
    "# import pyspark.sql.dataframe as DataFrame\n",
    "\n",
    "!pip install pyspark\n",
    "import pyspark\n",
    "\n",
    "!pip install https://sparkflows-release.s3.amazonaws.com/fire/jupyter-docker/firenotebookwheel/fire_notebook-3.1.0-py3-none-any.whl\n",
    "from fire_notebook.output.workflowcontext import RestWorkflowContext\n",
    "import sys\n",
    "\n",
    "import plotly"
   ]
  },
  {
   "cell_type": "code",
   "execution_count": 11,
   "metadata": {
    "id": "SOKXuRNtNALf"
   },
   "outputs": [],
   "source": [
    "df = pd.read_csv('/path/to/churn.csv')"
   ]
  },
  {
   "cell_type": "code",
   "execution_count": 70,
   "metadata": {
    "id": "KD-UeF8xNEQ0"
   },
   "outputs": [],
   "source": [
    "# Define the parameters\n",
    "# arg_distributor_eda = ['DT3501', 'DT5678', 'DT7890', 'DT4500', 'DT9012']\n",
    "# arg_sector_eda = ['BCC', 'FEM', 'FAMILY']\n",
    "# arg_category_eda = ['DIAPERS', 'WIPES', 'FACIAL TISSUES', 'LINERS']\n",
    "# arg_subcategory_eda = ['Huggies', 'Wipes', 'Kotex']\n",
    "\n",
    "arg_distributor_eda = ['DT3501']\n",
    "arg_sector_eda = ['BCC']\n",
    "arg_category_eda = ['LOTIONS', 'WIPES']\n",
    "arg_subcategory_eda = ['Huggies', 'Pampers']"
   ]
  },
  {
   "cell_type": "code",
   "execution_count": 71,
   "metadata": {
    "id": "xemfhKN4NGOt"
   },
   "outputs": [
    {
     "data": {
      "text/plain": [
       "(2782, 21)"
      ]
     },
     "execution_count": 71,
     "metadata": {},
     "output_type": "execute_result"
    }
   ],
   "source": [
    "# Filtering the dataset based on the given parameters\n",
    "filtered_df = df[\n",
    "    (df['DISTRIBUTOR_ID'].isin(arg_distributor_eda)) &\n",
    "    (df['SECTOR'].isin(arg_sector_eda)) &\n",
    "    (df['CATEGORY'].isin(arg_category_eda)) &\n",
    "    (df['SUBCATEGPRY'].isin(arg_subcategory_eda))\n",
    "]\n",
    "\n",
    "filtered_df.shape"
   ]
  },
  {
   "cell_type": "code",
   "execution_count": 72,
   "metadata": {},
   "outputs": [
    {
     "name": "stdout",
     "output_type": "stream",
     "text": [
      "WebserverURL:http://localhost\n",
      "jobId:00001\n"
     ]
    }
   ],
   "source": [
    "parameters_list = [\n",
    "    \"placeholder\",\n",
    "    \"http://localhost\",  # webserverURL\n",
    "    \"00001\",  # jobId\n",
    "]\n",
    "\n",
    "restworkflowcontext = RestWorkflowContext(parameters=parameters_list)"
   ]
  },
  {
   "cell_type": "code",
   "execution_count": 73,
   "metadata": {},
   "outputs": [
    {
     "name": "stdout",
     "output_type": "stream",
     "text": [
      "webserverURL: \n",
      "http://localhost\n",
      "Sending Message: {\"text\": \"Sending the running message.\", \"id\": 9, \"name\": \"Running\", \"title\": \"Running\", \"type\": \"running\", \"resultType\": 3, \"visibility\": \"EXPANDED\", \"time\": \"Oct 02, 2024 03:17:14 AM\"}\n",
      "Error : HTTPConnectionPool(host='localhost', port=80): Max retries exceeded with url: / (Caused by NewConnectionError('<urllib3.connection.HTTPConnection object at 0x134642510>: Failed to establish a new connection: [Errno 61] Connection refused'))\n"
     ]
    }
   ],
   "source": [
    "message = \"Sending the running message.\"\n",
    "restworkflowcontext.outRunning(9, title=\"Running\", text=message)"
   ]
  },
  {
   "cell_type": "code",
   "execution_count": 74,
   "metadata": {},
   "outputs": [
    {
     "name": "stdout",
     "output_type": "stream",
     "text": [
      "webserverURL: \n",
      "http://localhost\n",
      "Sending Message: {\"progress\": \"0\", \"id\": 9, \"name\": \"Progress\", \"title\": \"Progress\", \"type\": \"progress\", \"resultType\": 3, \"visibility\": \"EXPANDED\", \"time\": \"Oct 02, 2024 03:17:14 AM\"}\n",
      "Error : HTTPConnectionPool(host='localhost', port=80): Max retries exceeded with url: / (Caused by NewConnectionError('<urllib3.connection.HTTPConnection object at 0x1346412e0>: Failed to establish a new connection: [Errno 61] Connection refused'))\n"
     ]
    }
   ],
   "source": [
    "progress = \"0\"\n",
    "restworkflowcontext.outputProgress(9, title=\"Progress\", progress=progress)"
   ]
  },
  {
   "cell_type": "code",
   "execution_count": 75,
   "metadata": {},
   "outputs": [
    {
     "name": "stdout",
     "output_type": "stream",
     "text": [
      "        INV_DT    INV_NO    INV_NO_KEY  QTY     GROSS  UNITPRICE  NET_TOT_TAX  \\\n",
      "0   2023-05-15  18BBCAE5  INV-12A24872   28  0.377600   0.013486           10   \n",
      "1   2023-03-18  BBCB1B28  INV-F0B6E70D   34  8.249996   0.242647           10   \n",
      "4   2023-05-31  EF28F369  INV-16F9A8DF   30  0.690400   0.023013           10   \n",
      "37  2023-01-29  0BAE709B  INV-71E1FDB9   39  7.689399   0.197164           10   \n",
      "39  2023-02-13  9D2CE031  INV-7C2C9010   26  3.796798   0.146031           10   \n",
      "\n",
      "    ADJ_AMT  CUST_DISC_AMT  PRODUCT_DISC_AMT  ...  \\\n",
      "0         0              4                 1  ...   \n",
      "1         0              4                 1  ...   \n",
      "4         0              4                 1  ...   \n",
      "37        0              4                 1  ...   \n",
      "39        0              4                 1  ...   \n",
      "\n",
      "                         CUST_NAME CUST_STARTDT CUSTOMER_ID SECTOR CATEGORY  \\\n",
      "0                              NaN          NaN   CUST10000    BCC  LOTIONS   \n",
      "1                              NaN          NaN   CUST10028    BCC    WIPES   \n",
      "4   Patterson and Strickland Downs   21-03-2021   CUST10092    BCC  LOTIONS   \n",
      "37                             NaN          NaN   CUST10016    BCC    WIPES   \n",
      "39                             NaN          NaN   CUST10016    BCC    WIPES   \n",
      "\n",
      "   SUBCATEGPRY DISTRIBUTOR_ID   SKUID           DIST_NAME COUNTRY_ID  \n",
      "0      Pampers         DT3501  M4N5O6  Global Enterprises        NaN  \n",
      "1      Huggies         DT3501  GZ0G57  Global Enterprises        NaN  \n",
      "4      Pampers         DT3501  M4N5O6  Global Enterprises         US  \n",
      "37     Huggies         DT3501  GZ0G57  Global Enterprises        NaN  \n",
      "39     Huggies         DT3501  GZ0G57  Global Enterprises        NaN  \n",
      "\n",
      "[5 rows x 21 columns]\n"
     ]
    }
   ],
   "source": [
    "print(filtered_df.head())"
   ]
  },
  {
   "cell_type": "code",
   "execution_count": 76,
   "metadata": {},
   "outputs": [
    {
     "name": "stdout",
     "output_type": "stream",
     "text": [
      "webserverURL: \n",
      "http://localhost\n",
      "Sending Message: {\"cellValues\": [[\"INV_DT\", \"INV_NO\", \"INV_NO_KEY\", \"QTY\", \"GROSS\", \"UNITPRICE\", \"NET_TOT_TAX\", \"ADJ_AMT\", \"CUST_DISC_AMT\", \"PRODUCT_DISC_AMT\", \"NET\", \"CUST_NAME\", \"CUST_STARTDT\", \"CUSTOMER_ID\", \"SECTOR\", \"CATEGORY\", \"SUBCATEGPRY\", \"DISTRIBUTOR_ID\", \"SKUID\", \"DIST_NAME\", \"COUNTRY_ID\"], [\"object\", \"object\", \"object\", \"int64\", \"float64\", \"float64\", \"int64\", \"int64\", \"int64\", \"int64\", \"float64\", \"object\", \"object\", \"object\", \"object\", \"object\", \"object\", \"object\", \"object\", \"object\", \"object\"], [\"2023-05-15\", \"18BBCAE5\", \"INV-12A24872\", 28, 0.3776, 0.013485714, 10, 0, 4, 1, 0.32096, nan, nan, \"CUST10000\", \"BCC\", \"LOTIONS\", \"Pampers\", \"DT3501\", \"M4N5O6\", \"Global Enterprises\", nan], [\"2023-03-18\", \"BBCB1B28\", \"INV-F0B6E70D\", 34, 8.249996, 0.242646941, 10, 0, 4, 1, 7.0124966, nan, nan, \"CUST10028\", \"BCC\", \"WIPES\", \"Huggies\", \"DT3501\", \"GZ0G57\", \"Global Enterprises\", nan], [\"2023-05-31\", \"EF28F369\", \"INV-16F9A8DF\", 30, 0.6904, 0.023013333, 10, 0, 4, 1, 0.58684, \"Patterson and Strickland Downs\", \"21-03-2021\", \"CUST10092\", \"BCC\", \"LOTIONS\", \"Pampers\", \"DT3501\", \"M4N5O6\", \"Global Enterprises\", \"US\"], [\"2023-01-29\", \"0BAE709B\", \"INV-71E1FDB9\", 39, 7.689399, 0.197164077, 10, 0, 4, 1, 6.53598915, nan, nan, \"CUST10016\", \"BCC\", \"WIPES\", \"Huggies\", \"DT3501\", \"GZ0G57\", \"Global Enterprises\", nan], [\"2023-02-13\", \"9D2CE031\", \"INV-7C2C9010\", 26, 3.796798, 0.146030692, 10, 0, 4, 1, 3.2272783, nan, nan, \"CUST10016\", \"BCC\", \"WIPES\", \"Huggies\", \"DT3501\", \"GZ0G57\", \"Global Enterprises\", nan], [\"2023-05-28\", \"30222BE0\", \"INV-45DCD8C8\", 45, 5.018198, 0.111515511, 10, 0, 4, 1, 4.2654683, nan, nan, \"CUST10016\", \"BCC\", \"WIPES\", \"Huggies\", \"DT3501\", \"GZ0G57\", \"Global Enterprises\", nan], [\"2023-02-01\", \"5F0130B4\", \"INV-169393B9\", 38, 0.958397, 0.025220974, 10, 0, 4, 1, 0.81463745, nan, nan, \"CUST10031\", \"BCC\", \"LOTIONS\", \"Pampers\", \"DT3501\", \"M4N5O6\", \"Global Enterprises\", nan], [\"2023-05-30\", \"051FDBE1\", \"INV-A8A0264B\", 32, 2.1474, 0.06710625, 10, 0, 4, 1, 1.82529, nan, nan, \"CUST10031\", \"BCC\", \"WIPES\", \"Huggies\", \"DT3501\", \"GZ0G57\", \"Global Enterprises\", nan], [\"2023-04-09\", \"AB08D6F4\", \"INV-562554E7\", 45, 6.602994, 0.1467332, 10, 0, 4, 1, 5.6125449, nan, nan, \"CUST10032\", \"BCC\", \"WIPES\", \"Huggies\", \"DT3501\", \"GZ0G57\", \"Global Enterprises\", nan], [\"2023-07-01\", \"99F8BD03\", \"INV-DD60138B\", 53, 6.499396, 0.122630113, 10, 0, 4, 1, 5.5244866, nan, nan, \"CUST10032\", \"BCC\", \"WIPES\", \"Huggies\", \"DT3501\", \"GZ0G57\", \"Global Enterprises\", nan]], \"id\": 9, \"name\": \"Pandas DataFrame\", \"title\": \"filtered_df\", \"type\": \"table\", \"resultType\": 3, \"visibility\": \"EXPANDED\", \"time\": \"Oct 02, 2024 03:17:14 AM\"}\n",
      "Error : HTTPConnectionPool(host='localhost', port=80): Max retries exceeded with url: / (Caused by NewConnectionError('<urllib3.connection.HTTPConnection object at 0x134642bd0>: Failed to establish a new connection: [Errno 61] Connection refused'))\n"
     ]
    }
   ],
   "source": [
    "restworkflowcontext.outPandasDataframe(9,\"filtered_df\", filtered_df)"
   ]
  },
  {
   "cell_type": "code",
   "execution_count": 77,
   "metadata": {
    "id": "xIPLBW8-NH96"
   },
   "outputs": [],
   "source": [
    "# Example analysis: Group by category and plot the total quantity (QTY) for each category\n",
    "category_group = filtered_df.groupby('CATEGORY')['QTY'].sum().reset_index()"
   ]
  },
  {
   "cell_type": "markdown",
   "metadata": {},
   "source": [
    "## Distribution of Invoices by Distributor and Customer"
   ]
  },
  {
   "cell_type": "code",
   "execution_count": 78,
   "metadata": {},
   "outputs": [
    {
     "name": "stdout",
     "output_type": "stream",
     "text": [
      "Check the Input type..\n",
      "There is a match\n",
      " And Input is string type.\n",
      "webserverURL: \n",
      "http://localhost\n",
      "Sending Message: {'text': 'Plotly.newPlot(                        @@11aeddc1-1d31-412e-a519-1d3e1eff1e54@@,                        [{@@alignmentgroup@@:@@True@@,@@hovertemplate@@:@@Customer=Ballard Rowland\\\\u003cbr\\\\u003eDistributor Name=%{x}\\\\u003cbr\\\\u003eInvoice Count=%{y}\\\\u003cextra\\\\u003e\\\\u003c\\\\u002fextra\\\\u003e@@,@@legendgroup@@:@@Ballard Rowland@@,@@marker@@:{@@color@@:@@#636efa@@,@@pattern@@:{@@shape@@:@@@@}},@@name@@:@@Ballard Rowland@@,@@offsetgroup@@:@@Ballard Rowland@@,@@orientation@@:@@v@@,@@showlegend@@:true,@@textposition@@:@@auto@@,@@x@@:[@@Global Enterprises@@],@@xaxis@@:@@x@@,@@y@@:[211],@@yaxis@@:@@y@@,@@type@@:@@bar@@},{@@alignmentgroup@@:@@True@@,@@hovertemplate@@:@@Customer=English Ruiz\\\\u003cbr\\\\u003eDistributor Name=%{x}\\\\u003cbr\\\\u003eInvoice Count=%{y}\\\\u003cextra\\\\u003e\\\\u003c\\\\u002fextra\\\\u003e@@,@@legendgroup@@:@@English Ruiz@@,@@marker@@:{@@color@@:@@#EF553B@@,@@pattern@@:{@@shape@@:@@@@}},@@name@@:@@English Ruiz@@,@@offsetgroup@@:@@English Ruiz@@,@@orientation@@:@@v@@,@@showlegend@@:true,@@textposition@@:@@auto@@,@@x@@:[@@Global Enterprises@@],@@xaxis@@:@@x@@,@@y@@:[148],@@yaxis@@:@@y@@,@@type@@:@@bar@@},{@@alignmentgroup@@:@@True@@,@@hovertemplate@@:@@Customer=Kane Robertson\\\\u003cbr\\\\u003eDistributor Name=%{x}\\\\u003cbr\\\\u003eInvoice Count=%{y}\\\\u003cextra\\\\u003e\\\\u003c\\\\u002fextra\\\\u003e@@,@@legendgroup@@:@@Kane Robertson@@,@@marker@@:{@@color@@:@@#00cc96@@,@@pattern@@:{@@shape@@:@@@@}},@@name@@:@@Kane Robertson@@,@@offsetgroup@@:@@Kane Robertson@@,@@orientation@@:@@v@@,@@showlegend@@:true,@@textposition@@:@@auto@@,@@x@@:[@@Global Enterprises@@],@@xaxis@@:@@x@@,@@y@@:[148],@@yaxis@@:@@y@@,@@type@@:@@bar@@},{@@alignmentgroup@@:@@True@@,@@hovertemplate@@:@@Customer=Martinez PLC\\\\u003cbr\\\\u003eDistributor Name=%{x}\\\\u003cbr\\\\u003eInvoice Count=%{y}\\\\u003cextra\\\\u003e\\\\u003c\\\\u002fextra\\\\u003e@@,@@legendgroup@@:@@Martinez PLC@@,@@marker@@:{@@color@@:@@#ab63fa@@,@@pattern@@:{@@shape@@:@@@@}},@@name@@:@@Martinez PLC@@,@@offsetgroup@@:@@Martinez PLC@@,@@orientation@@:@@v@@,@@showlegend@@:true,@@textposition@@:@@auto@@,@@x@@:[@@Global Enterprises@@],@@xaxis@@:@@x@@,@@y@@:[61],@@yaxis@@:@@y@@,@@type@@:@@bar@@},{@@alignmentgroup@@:@@True@@,@@hovertemplate@@:@@Customer=Norman and Collins Carr\\\\u003cbr\\\\u003eDistributor Name=%{x}\\\\u003cbr\\\\u003eInvoice Count=%{y}\\\\u003cextra\\\\u003e\\\\u003c\\\\u002fextra\\\\u003e@@,@@legendgroup@@:@@Norman and Collins Carr@@,@@marker@@:{@@color@@:@@#FFA15A@@,@@pattern@@:{@@shape@@:@@@@}},@@name@@:@@Norman and Collins Carr@@,@@offsetgroup@@:@@Norman and Collins Carr@@,@@orientation@@:@@v@@,@@showlegend@@:true,@@textposition@@:@@auto@@,@@x@@:[@@Global Enterprises@@],@@xaxis@@:@@x@@,@@y@@:[3],@@yaxis@@:@@y@@,@@type@@:@@bar@@},{@@alignmentgroup@@:@@True@@,@@hovertemplate@@:@@Customer=Patterson and Strickland Downs\\\\u003cbr\\\\u003eDistributor Name=%{x}\\\\u003cbr\\\\u003eInvoice Count=%{y}\\\\u003cextra\\\\u003e\\\\u003c\\\\u002fextra\\\\u003e@@,@@legendgroup@@:@@Patterson and Strickland Downs@@,@@marker@@:{@@color@@:@@#19d3f3@@,@@pattern@@:{@@shape@@:@@@@}},@@name@@:@@Patterson and Strickland Downs@@,@@offsetgroup@@:@@Patterson and Strickland Downs@@,@@orientation@@:@@v@@,@@showlegend@@:true,@@textposition@@:@@auto@@,@@x@@:[@@Global Enterprises@@],@@xaxis@@:@@x@@,@@y@@:[394],@@yaxis@@:@@y@@,@@type@@:@@bar@@},{@@alignmentgroup@@:@@True@@,@@hovertemplate@@:@@Customer=Villa and Ray Brown\\\\u003cbr\\\\u003eDistributor Name=%{x}\\\\u003cbr\\\\u003eInvoice Count=%{y}\\\\u003cextra\\\\u003e\\\\u003c\\\\u002fextra\\\\u003e@@,@@legendgroup@@:@@Villa and Ray Brown@@,@@marker@@:{@@color@@:@@#FF6692@@,@@pattern@@:{@@shape@@:@@@@}},@@name@@:@@Villa and Ray Brown@@,@@offsetgroup@@:@@Villa and Ray Brown@@,@@orientation@@:@@v@@,@@showlegend@@:true,@@textposition@@:@@auto@@,@@x@@:[@@Global Enterprises@@],@@xaxis@@:@@x@@,@@y@@:[363],@@yaxis@@:@@y@@,@@type@@:@@bar@@},{@@alignmentgroup@@:@@True@@,@@hovertemplate@@:@@Customer=White Johnson\\\\u003cbr\\\\u003eDistributor Name=%{x}\\\\u003cbr\\\\u003eInvoice Count=%{y}\\\\u003cextra\\\\u003e\\\\u003c\\\\u002fextra\\\\u003e@@,@@legendgroup@@:@@White Johnson@@,@@marker@@:{@@color@@:@@#B6E880@@,@@pattern@@:{@@shape@@:@@@@}},@@name@@:@@White Johnson@@,@@offsetgroup@@:@@White Johnson@@,@@orientation@@:@@v@@,@@showlegend@@:true,@@textposition@@:@@auto@@,@@x@@:[@@Global Enterprises@@],@@xaxis@@:@@x@@,@@y@@:[64],@@yaxis@@:@@y@@,@@type@@:@@bar@@}],                        {@@barmode@@:@@stack@@,@@legend@@:{@@title@@:{@@text@@:@@Customer@@},@@tracegroupgap@@:0},@@template@@:{@@data@@:{@@barpolar@@:[{@@marker@@:{@@line@@:{@@color@@:@@#E5ECF6@@,@@width@@:0.5},@@pattern@@:{@@fillmode@@:@@overlay@@,@@size@@:10,@@solidity@@:0.2}},@@type@@:@@barpolar@@}],@@bar@@:[{@@error_x@@:{@@color@@:@@#2a3f5f@@},@@error_y@@:{@@color@@:@@#2a3f5f@@},@@marker@@:{@@line@@:{@@color@@:@@#E5ECF6@@,@@width@@:0.5},@@pattern@@:{@@fillmode@@:@@overlay@@,@@size@@:10,@@solidity@@:0.2}},@@type@@:@@bar@@}],@@carpet@@:[{@@aaxis@@:{@@endlinecolor@@:@@#2a3f5f@@,@@gridcolor@@:@@white@@,@@linecolor@@:@@white@@,@@minorgridcolor@@:@@white@@,@@startlinecolor@@:@@#2a3f5f@@},@@baxis@@:{@@endlinecolor@@:@@#2a3f5f@@,@@gridcolor@@:@@white@@,@@linecolor@@:@@white@@,@@minorgridcolor@@:@@white@@,@@startlinecolor@@:@@#2a3f5f@@},@@type@@:@@carpet@@}],@@choropleth@@:[{@@colorbar@@:{@@outlinewidth@@:0,@@ticks@@:@@@@},@@type@@:@@choropleth@@}],@@contourcarpet@@:[{@@colorbar@@:{@@outlinewidth@@:0,@@ticks@@:@@@@},@@type@@:@@contourcarpet@@}],@@contour@@:[{@@colorbar@@:{@@outlinewidth@@:0,@@ticks@@:@@@@},@@colorscale@@:[[0.0,@@#0d0887@@],[0.1111111111111111,@@#46039f@@],[0.2222222222222222,@@#7201a8@@],[0.3333333333333333,@@#9c179e@@],[0.4444444444444444,@@#bd3786@@],[0.5555555555555556,@@#d8576b@@],[0.6666666666666666,@@#ed7953@@],[0.7777777777777778,@@#fb9f3a@@],[0.8888888888888888,@@#fdca26@@],[1.0,@@#f0f921@@]],@@type@@:@@contour@@}],@@heatmapgl@@:[{@@colorbar@@:{@@outlinewidth@@:0,@@ticks@@:@@@@},@@colorscale@@:[[0.0,@@#0d0887@@],[0.1111111111111111,@@#46039f@@],[0.2222222222222222,@@#7201a8@@],[0.3333333333333333,@@#9c179e@@],[0.4444444444444444,@@#bd3786@@],[0.5555555555555556,@@#d8576b@@],[0.6666666666666666,@@#ed7953@@],[0.7777777777777778,@@#fb9f3a@@],[0.8888888888888888,@@#fdca26@@],[1.0,@@#f0f921@@]],@@type@@:@@heatmapgl@@}],@@heatmap@@:[{@@colorbar@@:{@@outlinewidth@@:0,@@ticks@@:@@@@},@@colorscale@@:[[0.0,@@#0d0887@@],[0.1111111111111111,@@#46039f@@],[0.2222222222222222,@@#7201a8@@],[0.3333333333333333,@@#9c179e@@],[0.4444444444444444,@@#bd3786@@],[0.5555555555555556,@@#d8576b@@],[0.6666666666666666,@@#ed7953@@],[0.7777777777777778,@@#fb9f3a@@],[0.8888888888888888,@@#fdca26@@],[1.0,@@#f0f921@@]],@@type@@:@@heatmap@@}],@@histogram2dcontour@@:[{@@colorbar@@:{@@outlinewidth@@:0,@@ticks@@:@@@@},@@colorscale@@:[[0.0,@@#0d0887@@],[0.1111111111111111,@@#46039f@@],[0.2222222222222222,@@#7201a8@@],[0.3333333333333333,@@#9c179e@@],[0.4444444444444444,@@#bd3786@@],[0.5555555555555556,@@#d8576b@@],[0.6666666666666666,@@#ed7953@@],[0.7777777777777778,@@#fb9f3a@@],[0.8888888888888888,@@#fdca26@@],[1.0,@@#f0f921@@]],@@type@@:@@histogram2dcontour@@}],@@histogram2d@@:[{@@colorbar@@:{@@outlinewidth@@:0,@@ticks@@:@@@@},@@colorscale@@:[[0.0,@@#0d0887@@],[0.1111111111111111,@@#46039f@@],[0.2222222222222222,@@#7201a8@@],[0.3333333333333333,@@#9c179e@@],[0.4444444444444444,@@#bd3786@@],[0.5555555555555556,@@#d8576b@@],[0.6666666666666666,@@#ed7953@@],[0.7777777777777778,@@#fb9f3a@@],[0.8888888888888888,@@#fdca26@@],[1.0,@@#f0f921@@]],@@type@@:@@histogram2d@@}],@@histogram@@:[{@@marker@@:{@@pattern@@:{@@fillmode@@:@@overlay@@,@@size@@:10,@@solidity@@:0.2}},@@type@@:@@histogram@@}],@@mesh3d@@:[{@@colorbar@@:{@@outlinewidth@@:0,@@ticks@@:@@@@},@@type@@:@@mesh3d@@}],@@parcoords@@:[{@@line@@:{@@colorbar@@:{@@outlinewidth@@:0,@@ticks@@:@@@@}},@@type@@:@@parcoords@@}],@@pie@@:[{@@automargin@@:true,@@type@@:@@pie@@}],@@scatter3d@@:[{@@line@@:{@@colorbar@@:{@@outlinewidth@@:0,@@ticks@@:@@@@}},@@marker@@:{@@colorbar@@:{@@outlinewidth@@:0,@@ticks@@:@@@@}},@@type@@:@@scatter3d@@}],@@scattercarpet@@:[{@@marker@@:{@@colorbar@@:{@@outlinewidth@@:0,@@ticks@@:@@@@}},@@type@@:@@scattercarpet@@}],@@scattergeo@@:[{@@marker@@:{@@colorbar@@:{@@outlinewidth@@:0,@@ticks@@:@@@@}},@@type@@:@@scattergeo@@}],@@scattergl@@:[{@@marker@@:{@@colorbar@@:{@@outlinewidth@@:0,@@ticks@@:@@@@}},@@type@@:@@scattergl@@}],@@scattermapbox@@:[{@@marker@@:{@@colorbar@@:{@@outlinewidth@@:0,@@ticks@@:@@@@}},@@type@@:@@scattermapbox@@}],@@scatterpolargl@@:[{@@marker@@:{@@colorbar@@:{@@outlinewidth@@:0,@@ticks@@:@@@@}},@@type@@:@@scatterpolargl@@}],@@scatterpolar@@:[{@@marker@@:{@@colorbar@@:{@@outlinewidth@@:0,@@ticks@@:@@@@}},@@type@@:@@scatterpolar@@}],@@scatter@@:[{@@fillpattern@@:{@@fillmode@@:@@overlay@@,@@size@@:10,@@solidity@@:0.2},@@type@@:@@scatter@@}],@@scatterternary@@:[{@@marker@@:{@@colorbar@@:{@@outlinewidth@@:0,@@ticks@@:@@@@}},@@type@@:@@scatterternary@@}],@@surface@@:[{@@colorbar@@:{@@outlinewidth@@:0,@@ticks@@:@@@@},@@colorscale@@:[[0.0,@@#0d0887@@],[0.1111111111111111,@@#46039f@@],[0.2222222222222222,@@#7201a8@@],[0.3333333333333333,@@#9c179e@@],[0.4444444444444444,@@#bd3786@@],[0.5555555555555556,@@#d8576b@@],[0.6666666666666666,@@#ed7953@@],[0.7777777777777778,@@#fb9f3a@@],[0.8888888888888888,@@#fdca26@@],[1.0,@@#f0f921@@]],@@type@@:@@surface@@}],@@table@@:[{@@cells@@:{@@fill@@:{@@color@@:@@#EBF0F8@@},@@line@@:{@@color@@:@@white@@}},@@header@@:{@@fill@@:{@@color@@:@@#C8D4E3@@},@@line@@:{@@color@@:@@white@@}},@@type@@:@@table@@}]},@@layout@@:{@@annotationdefaults@@:{@@arrowcolor@@:@@#2a3f5f@@,@@arrowhead@@:0,@@arrowwidth@@:1},@@autotypenumbers@@:@@strict@@,@@coloraxis@@:{@@colorbar@@:{@@outlinewidth@@:0,@@ticks@@:@@@@}},@@colorscale@@:{@@diverging@@:[[0,@@#8e0152@@],[0.1,@@#c51b7d@@],[0.2,@@#de77ae@@],[0.3,@@#f1b6da@@],[0.4,@@#fde0ef@@],[0.5,@@#f7f7f7@@],[0.6,@@#e6f5d0@@],[0.7,@@#b8e186@@],[0.8,@@#7fbc41@@],[0.9,@@#4d9221@@],[1,@@#276419@@]],@@sequential@@:[[0.0,@@#0d0887@@],[0.1111111111111111,@@#46039f@@],[0.2222222222222222,@@#7201a8@@],[0.3333333333333333,@@#9c179e@@],[0.4444444444444444,@@#bd3786@@],[0.5555555555555556,@@#d8576b@@],[0.6666666666666666,@@#ed7953@@],[0.7777777777777778,@@#fb9f3a@@],[0.8888888888888888,@@#fdca26@@],[1.0,@@#f0f921@@]],@@sequentialminus@@:[[0.0,@@#0d0887@@],[0.1111111111111111,@@#46039f@@],[0.2222222222222222,@@#7201a8@@],[0.3333333333333333,@@#9c179e@@],[0.4444444444444444,@@#bd3786@@],[0.5555555555555556,@@#d8576b@@],[0.6666666666666666,@@#ed7953@@],[0.7777777777777778,@@#fb9f3a@@],[0.8888888888888888,@@#fdca26@@],[1.0,@@#f0f921@@]]},@@colorway@@:[@@#636efa@@,@@#EF553B@@,@@#00cc96@@,@@#ab63fa@@,@@#FFA15A@@,@@#19d3f3@@,@@#FF6692@@,@@#B6E880@@,@@#FF97FF@@,@@#FECB52@@],@@font@@:{@@color@@:@@#2a3f5f@@},@@geo@@:{@@bgcolor@@:@@white@@,@@lakecolor@@:@@white@@,@@landcolor@@:@@#E5ECF6@@,@@showlakes@@:true,@@showland@@:true,@@subunitcolor@@:@@white@@},@@hoverlabel@@:{@@align@@:@@left@@},@@hovermode@@:@@closest@@,@@mapbox@@:{@@style@@:@@light@@},@@paper_bgcolor@@:@@white@@,@@plot_bgcolor@@:@@#E5ECF6@@,@@polar@@:{@@angularaxis@@:{@@gridcolor@@:@@white@@,@@linecolor@@:@@white@@,@@ticks@@:@@@@},@@bgcolor@@:@@#E5ECF6@@,@@radialaxis@@:{@@gridcolor@@:@@white@@,@@linecolor@@:@@white@@,@@ticks@@:@@@@}},@@scene@@:{@@xaxis@@:{@@backgroundcolor@@:@@#E5ECF6@@,@@gridcolor@@:@@white@@,@@gridwidth@@:2,@@linecolor@@:@@white@@,@@showbackground@@:true,@@ticks@@:@@@@,@@zerolinecolor@@:@@white@@},@@yaxis@@:{@@backgroundcolor@@:@@#E5ECF6@@,@@gridcolor@@:@@white@@,@@gridwidth@@:2,@@linecolor@@:@@white@@,@@showbackground@@:true,@@ticks@@:@@@@,@@zerolinecolor@@:@@white@@},@@zaxis@@:{@@backgroundcolor@@:@@#E5ECF6@@,@@gridcolor@@:@@white@@,@@gridwidth@@:2,@@linecolor@@:@@white@@,@@showbackground@@:true,@@ticks@@:@@@@,@@zerolinecolor@@:@@white@@}},@@shapedefaults@@:{@@line@@:{@@color@@:@@#2a3f5f@@}},@@ternary@@:{@@aaxis@@:{@@gridcolor@@:@@white@@,@@linecolor@@:@@white@@,@@ticks@@:@@@@},@@baxis@@:{@@gridcolor@@:@@white@@,@@linecolor@@:@@white@@,@@ticks@@:@@@@},@@bgcolor@@:@@#E5ECF6@@,@@caxis@@:{@@gridcolor@@:@@white@@,@@linecolor@@:@@white@@,@@ticks@@:@@@@}},@@title@@:{@@x@@:0.05},@@xaxis@@:{@@automargin@@:true,@@gridcolor@@:@@white@@,@@linecolor@@:@@white@@,@@ticks@@:@@@@,@@title@@:{@@standoff@@:15},@@zerolinecolor@@:@@white@@,@@zerolinewidth@@:2},@@yaxis@@:{@@automargin@@:true,@@gridcolor@@:@@white@@,@@linecolor@@:@@white@@,@@ticks@@:@@@@,@@title@@:{@@standoff@@:15},@@zerolinecolor@@:@@white@@,@@zerolinewidth@@:2}}},@@title@@:{@@text@@:@@Stacked Distribution of Invoices by Distributor and Customer@@},@@xaxis@@:{@@anchor@@:@@y@@,@@domain@@:[0.0,1.0],@@title@@:{@@text@@:@@Distributor Name@@}},@@yaxis@@:{@@anchor@@:@@x@@,@@domain@@:[0.0,1.0],@@title@@:{@@text@@:@@Invoice Count@@}}},                        {@@responsive@@: true}                    )', 'id': 9, 'name': 'Distribution of Invoices by Distributor and Customer', 'title': 'Distribution of Invoices by Distributor and Customer', 'type': 'plotly', 'resultType': 3, 'visibility': 'EXPANDED', 'time': 'Oct 02, 2024 03:17:14 AM'}\n",
      "Error : HTTPConnectionPool(host='localhost', port=80): Max retries exceeded with url: / (Caused by NewConnectionError('<urllib3.connection.HTTPConnection object at 0x13453c560>: Failed to establish a new connection: [Errno 61] Connection refused'))\n"
     ]
    }
   ],
   "source": [
    "import plotly.express as px\n",
    "import pandas as pd\n",
    "\n",
    "grouped_data = filtered_df.groupby(['DIST_NAME', 'CUST_NAME'], as_index=False).agg({\n",
    "    'INV_NO': 'count'  # Counting the number of invoices for each distributor-customer pair\n",
    "})\n",
    "\n",
    "grouped_data.rename(columns={'INV_NO': 'invoice_count'}, inplace=True)\n",
    "\n",
    "fig = px.bar(\n",
    "    grouped_data, \n",
    "    x='DIST_NAME', \n",
    "    y='invoice_count', \n",
    "    color='CUST_NAME', \n",
    "    title='Stacked Distribution of Invoices by Distributor and Customer',\n",
    "    labels={'DIST_NAME': 'Distributor Name', 'invoice_count': 'Invoice Count', 'CUST_NAME': 'Customer'},\n",
    "    barmode='stack' \n",
    ")\n",
    "\n",
    "test = plotly.offline.plot(fig, output_type='div', include_plotlyjs=False)\n",
    "example_plotly = f'{test}'\n",
    "restworkflowcontext.outPlotly(9, title=\"Distribution of Invoices by Distributor and Customer\", text=example_plotly)\n",
    "\n",
    "# fig.show()\n"
   ]
  },
  {
   "cell_type": "code",
   "execution_count": 79,
   "metadata": {},
   "outputs": [
    {
     "name": "stdout",
     "output_type": "stream",
     "text": [
      "webserverURL: \n",
      "http://localhost\n",
      "Sending Message: {\"progress\": \"5\", \"id\": 9, \"name\": \"Progress\", \"title\": \"Progress\", \"type\": \"progress\", \"resultType\": 3, \"visibility\": \"EXPANDED\", \"time\": \"Oct 02, 2024 03:17:14 AM\"}\n",
      "Error : HTTPConnectionPool(host='localhost', port=80): Max retries exceeded with url: / (Caused by NewConnectionError('<urllib3.connection.HTTPConnection object at 0x13457c350>: Failed to establish a new connection: [Errno 61] Connection refused'))\n"
     ]
    }
   ],
   "source": [
    "progress = \"5\"\n",
    "restworkflowcontext.outputProgress(9, title=\"Progress\", progress=progress)"
   ]
  },
  {
   "cell_type": "markdown",
   "metadata": {},
   "source": [
    "## Distribution of Net Sales Amount by Distributor and Customer"
   ]
  },
  {
   "cell_type": "code",
   "execution_count": 80,
   "metadata": {},
   "outputs": [
    {
     "name": "stdout",
     "output_type": "stream",
     "text": [
      "Check the Input type..\n",
      "There is a match\n",
      " And Input is string type.\n",
      "webserverURL: \n",
      "http://localhost\n",
      "Sending Message: {'text': 'Plotly.newPlot(                        @@6ae4e83e-0a01-4ead-8d89-cbfd0b837993@@,                        [{@@alignmentgroup@@:@@True@@,@@hovertemplate@@:@@Customer=Ballard Rowland\\\\u003cbr\\\\u003eDistributor Name=%{x}\\\\u003cbr\\\\u003eNet Sales Amount=%{y}\\\\u003cextra\\\\u003e\\\\u003c\\\\u002fextra\\\\u003e@@,@@legendgroup@@:@@Ballard Rowland@@,@@marker@@:{@@color@@:@@#636efa@@,@@pattern@@:{@@shape@@:@@@@}},@@name@@:@@Ballard Rowland@@,@@offsetgroup@@:@@Ballard Rowland@@,@@orientation@@:@@v@@,@@showlegend@@:true,@@textposition@@:@@auto@@,@@x@@:[@@Global Enterprises@@],@@xaxis@@:@@x@@,@@y@@:[142.39316705],@@yaxis@@:@@y@@,@@type@@:@@bar@@},{@@alignmentgroup@@:@@True@@,@@hovertemplate@@:@@Customer=English Ruiz\\\\u003cbr\\\\u003eDistributor Name=%{x}\\\\u003cbr\\\\u003eNet Sales Amount=%{y}\\\\u003cextra\\\\u003e\\\\u003c\\\\u002fextra\\\\u003e@@,@@legendgroup@@:@@English Ruiz@@,@@marker@@:{@@color@@:@@#EF553B@@,@@pattern@@:{@@shape@@:@@@@}},@@name@@:@@English Ruiz@@,@@offsetgroup@@:@@English Ruiz@@,@@orientation@@:@@v@@,@@showlegend@@:true,@@textposition@@:@@auto@@,@@x@@:[@@Global Enterprises@@],@@xaxis@@:@@x@@,@@y@@:[436.0188747],@@yaxis@@:@@y@@,@@type@@:@@bar@@},{@@alignmentgroup@@:@@True@@,@@hovertemplate@@:@@Customer=Kane Robertson\\\\u003cbr\\\\u003eDistributor Name=%{x}\\\\u003cbr\\\\u003eNet Sales Amount=%{y}\\\\u003cextra\\\\u003e\\\\u003c\\\\u002fextra\\\\u003e@@,@@legendgroup@@:@@Kane Robertson@@,@@marker@@:{@@color@@:@@#00cc96@@,@@pattern@@:{@@shape@@:@@@@}},@@name@@:@@Kane Robertson@@,@@offsetgroup@@:@@Kane Robertson@@,@@orientation@@:@@v@@,@@showlegend@@:true,@@textposition@@:@@auto@@,@@x@@:[@@Global Enterprises@@],@@xaxis@@:@@x@@,@@y@@:[436.0188747],@@yaxis@@:@@y@@,@@type@@:@@bar@@},{@@alignmentgroup@@:@@True@@,@@hovertemplate@@:@@Customer=Martinez PLC\\\\u003cbr\\\\u003eDistributor Name=%{x}\\\\u003cbr\\\\u003eNet Sales Amount=%{y}\\\\u003cextra\\\\u003e\\\\u003c\\\\u002fextra\\\\u003e@@,@@legendgroup@@:@@Martinez PLC@@,@@marker@@:{@@color@@:@@#ab63fa@@,@@pattern@@:{@@shape@@:@@@@}},@@name@@:@@Martinez PLC@@,@@offsetgroup@@:@@Martinez PLC@@,@@orientation@@:@@v@@,@@showlegend@@:true,@@textposition@@:@@auto@@,@@x@@:[@@Global Enterprises@@],@@xaxis@@:@@x@@,@@y@@:[26.73964],@@yaxis@@:@@y@@,@@type@@:@@bar@@},{@@alignmentgroup@@:@@True@@,@@hovertemplate@@:@@Customer=Norman and Collins Carr\\\\u003cbr\\\\u003eDistributor Name=%{x}\\\\u003cbr\\\\u003eNet Sales Amount=%{y}\\\\u003cextra\\\\u003e\\\\u003c\\\\u002fextra\\\\u003e@@,@@legendgroup@@:@@Norman and Collins Carr@@,@@marker@@:{@@color@@:@@#FFA15A@@,@@pattern@@:{@@shape@@:@@@@}},@@name@@:@@Norman and Collins Carr@@,@@offsetgroup@@:@@Norman and Collins Carr@@,@@orientation@@:@@v@@,@@showlegend@@:true,@@textposition@@:@@auto@@,@@x@@:[@@Global Enterprises@@],@@xaxis@@:@@x@@,@@y@@:[4.35727],@@yaxis@@:@@y@@,@@type@@:@@bar@@},{@@alignmentgroup@@:@@True@@,@@hovertemplate@@:@@Customer=Patterson and Strickland Downs\\\\u003cbr\\\\u003eDistributor Name=%{x}\\\\u003cbr\\\\u003eNet Sales Amount=%{y}\\\\u003cextra\\\\u003e\\\\u003c\\\\u002fextra\\\\u003e@@,@@legendgroup@@:@@Patterson and Strickland Downs@@,@@marker@@:{@@color@@:@@#19d3f3@@,@@pattern@@:{@@shape@@:@@@@}},@@name@@:@@Patterson and Strickland Downs@@,@@offsetgroup@@:@@Patterson and Strickland Downs@@,@@orientation@@:@@v@@,@@showlegend@@:true,@@textposition@@:@@auto@@,@@x@@:[@@Global Enterprises@@],@@xaxis@@:@@x@@,@@y@@:[792.24072265],@@yaxis@@:@@y@@,@@type@@:@@bar@@},{@@alignmentgroup@@:@@True@@,@@hovertemplate@@:@@Customer=Villa and Ray Brown\\\\u003cbr\\\\u003eDistributor Name=%{x}\\\\u003cbr\\\\u003eNet Sales Amount=%{y}\\\\u003cextra\\\\u003e\\\\u003c\\\\u002fextra\\\\u003e@@,@@legendgroup@@:@@Villa and Ray Brown@@,@@marker@@:{@@color@@:@@#FF6692@@,@@pattern@@:{@@shape@@:@@@@}},@@name@@:@@Villa and Ray Brown@@,@@offsetgroup@@:@@Villa and Ray Brown@@,@@orientation@@:@@v@@,@@showlegend@@:true,@@textposition@@:@@auto@@,@@x@@:[@@Global Enterprises@@],@@xaxis@@:@@x@@,@@y@@:[753.67981985],@@yaxis@@:@@y@@,@@type@@:@@bar@@},{@@alignmentgroup@@:@@True@@,@@hovertemplate@@:@@Customer=White Johnson\\\\u003cbr\\\\u003eDistributor Name=%{x}\\\\u003cbr\\\\u003eNet Sales Amount=%{y}\\\\u003cextra\\\\u003e\\\\u003c\\\\u002fextra\\\\u003e@@,@@legendgroup@@:@@White Johnson@@,@@marker@@:{@@color@@:@@#B6E880@@,@@pattern@@:{@@shape@@:@@@@}},@@name@@:@@White Johnson@@,@@offsetgroup@@:@@White Johnson@@,@@orientation@@:@@v@@,@@showlegend@@:true,@@textposition@@:@@auto@@,@@x@@:[@@Global Enterprises@@],@@xaxis@@:@@x@@,@@y@@:[207.27786945],@@yaxis@@:@@y@@,@@type@@:@@bar@@}],                        {@@barmode@@:@@stack@@,@@legend@@:{@@title@@:{@@text@@:@@Customer@@},@@tracegroupgap@@:0},@@template@@:{@@data@@:{@@barpolar@@:[{@@marker@@:{@@line@@:{@@color@@:@@#E5ECF6@@,@@width@@:0.5},@@pattern@@:{@@fillmode@@:@@overlay@@,@@size@@:10,@@solidity@@:0.2}},@@type@@:@@barpolar@@}],@@bar@@:[{@@error_x@@:{@@color@@:@@#2a3f5f@@},@@error_y@@:{@@color@@:@@#2a3f5f@@},@@marker@@:{@@line@@:{@@color@@:@@#E5ECF6@@,@@width@@:0.5},@@pattern@@:{@@fillmode@@:@@overlay@@,@@size@@:10,@@solidity@@:0.2}},@@type@@:@@bar@@}],@@carpet@@:[{@@aaxis@@:{@@endlinecolor@@:@@#2a3f5f@@,@@gridcolor@@:@@white@@,@@linecolor@@:@@white@@,@@minorgridcolor@@:@@white@@,@@startlinecolor@@:@@#2a3f5f@@},@@baxis@@:{@@endlinecolor@@:@@#2a3f5f@@,@@gridcolor@@:@@white@@,@@linecolor@@:@@white@@,@@minorgridcolor@@:@@white@@,@@startlinecolor@@:@@#2a3f5f@@},@@type@@:@@carpet@@}],@@choropleth@@:[{@@colorbar@@:{@@outlinewidth@@:0,@@ticks@@:@@@@},@@type@@:@@choropleth@@}],@@contourcarpet@@:[{@@colorbar@@:{@@outlinewidth@@:0,@@ticks@@:@@@@},@@type@@:@@contourcarpet@@}],@@contour@@:[{@@colorbar@@:{@@outlinewidth@@:0,@@ticks@@:@@@@},@@colorscale@@:[[0.0,@@#0d0887@@],[0.1111111111111111,@@#46039f@@],[0.2222222222222222,@@#7201a8@@],[0.3333333333333333,@@#9c179e@@],[0.4444444444444444,@@#bd3786@@],[0.5555555555555556,@@#d8576b@@],[0.6666666666666666,@@#ed7953@@],[0.7777777777777778,@@#fb9f3a@@],[0.8888888888888888,@@#fdca26@@],[1.0,@@#f0f921@@]],@@type@@:@@contour@@}],@@heatmapgl@@:[{@@colorbar@@:{@@outlinewidth@@:0,@@ticks@@:@@@@},@@colorscale@@:[[0.0,@@#0d0887@@],[0.1111111111111111,@@#46039f@@],[0.2222222222222222,@@#7201a8@@],[0.3333333333333333,@@#9c179e@@],[0.4444444444444444,@@#bd3786@@],[0.5555555555555556,@@#d8576b@@],[0.6666666666666666,@@#ed7953@@],[0.7777777777777778,@@#fb9f3a@@],[0.8888888888888888,@@#fdca26@@],[1.0,@@#f0f921@@]],@@type@@:@@heatmapgl@@}],@@heatmap@@:[{@@colorbar@@:{@@outlinewidth@@:0,@@ticks@@:@@@@},@@colorscale@@:[[0.0,@@#0d0887@@],[0.1111111111111111,@@#46039f@@],[0.2222222222222222,@@#7201a8@@],[0.3333333333333333,@@#9c179e@@],[0.4444444444444444,@@#bd3786@@],[0.5555555555555556,@@#d8576b@@],[0.6666666666666666,@@#ed7953@@],[0.7777777777777778,@@#fb9f3a@@],[0.8888888888888888,@@#fdca26@@],[1.0,@@#f0f921@@]],@@type@@:@@heatmap@@}],@@histogram2dcontour@@:[{@@colorbar@@:{@@outlinewidth@@:0,@@ticks@@:@@@@},@@colorscale@@:[[0.0,@@#0d0887@@],[0.1111111111111111,@@#46039f@@],[0.2222222222222222,@@#7201a8@@],[0.3333333333333333,@@#9c179e@@],[0.4444444444444444,@@#bd3786@@],[0.5555555555555556,@@#d8576b@@],[0.6666666666666666,@@#ed7953@@],[0.7777777777777778,@@#fb9f3a@@],[0.8888888888888888,@@#fdca26@@],[1.0,@@#f0f921@@]],@@type@@:@@histogram2dcontour@@}],@@histogram2d@@:[{@@colorbar@@:{@@outlinewidth@@:0,@@ticks@@:@@@@},@@colorscale@@:[[0.0,@@#0d0887@@],[0.1111111111111111,@@#46039f@@],[0.2222222222222222,@@#7201a8@@],[0.3333333333333333,@@#9c179e@@],[0.4444444444444444,@@#bd3786@@],[0.5555555555555556,@@#d8576b@@],[0.6666666666666666,@@#ed7953@@],[0.7777777777777778,@@#fb9f3a@@],[0.8888888888888888,@@#fdca26@@],[1.0,@@#f0f921@@]],@@type@@:@@histogram2d@@}],@@histogram@@:[{@@marker@@:{@@pattern@@:{@@fillmode@@:@@overlay@@,@@size@@:10,@@solidity@@:0.2}},@@type@@:@@histogram@@}],@@mesh3d@@:[{@@colorbar@@:{@@outlinewidth@@:0,@@ticks@@:@@@@},@@type@@:@@mesh3d@@}],@@parcoords@@:[{@@line@@:{@@colorbar@@:{@@outlinewidth@@:0,@@ticks@@:@@@@}},@@type@@:@@parcoords@@}],@@pie@@:[{@@automargin@@:true,@@type@@:@@pie@@}],@@scatter3d@@:[{@@line@@:{@@colorbar@@:{@@outlinewidth@@:0,@@ticks@@:@@@@}},@@marker@@:{@@colorbar@@:{@@outlinewidth@@:0,@@ticks@@:@@@@}},@@type@@:@@scatter3d@@}],@@scattercarpet@@:[{@@marker@@:{@@colorbar@@:{@@outlinewidth@@:0,@@ticks@@:@@@@}},@@type@@:@@scattercarpet@@}],@@scattergeo@@:[{@@marker@@:{@@colorbar@@:{@@outlinewidth@@:0,@@ticks@@:@@@@}},@@type@@:@@scattergeo@@}],@@scattergl@@:[{@@marker@@:{@@colorbar@@:{@@outlinewidth@@:0,@@ticks@@:@@@@}},@@type@@:@@scattergl@@}],@@scattermapbox@@:[{@@marker@@:{@@colorbar@@:{@@outlinewidth@@:0,@@ticks@@:@@@@}},@@type@@:@@scattermapbox@@}],@@scatterpolargl@@:[{@@marker@@:{@@colorbar@@:{@@outlinewidth@@:0,@@ticks@@:@@@@}},@@type@@:@@scatterpolargl@@}],@@scatterpolar@@:[{@@marker@@:{@@colorbar@@:{@@outlinewidth@@:0,@@ticks@@:@@@@}},@@type@@:@@scatterpolar@@}],@@scatter@@:[{@@fillpattern@@:{@@fillmode@@:@@overlay@@,@@size@@:10,@@solidity@@:0.2},@@type@@:@@scatter@@}],@@scatterternary@@:[{@@marker@@:{@@colorbar@@:{@@outlinewidth@@:0,@@ticks@@:@@@@}},@@type@@:@@scatterternary@@}],@@surface@@:[{@@colorbar@@:{@@outlinewidth@@:0,@@ticks@@:@@@@},@@colorscale@@:[[0.0,@@#0d0887@@],[0.1111111111111111,@@#46039f@@],[0.2222222222222222,@@#7201a8@@],[0.3333333333333333,@@#9c179e@@],[0.4444444444444444,@@#bd3786@@],[0.5555555555555556,@@#d8576b@@],[0.6666666666666666,@@#ed7953@@],[0.7777777777777778,@@#fb9f3a@@],[0.8888888888888888,@@#fdca26@@],[1.0,@@#f0f921@@]],@@type@@:@@surface@@}],@@table@@:[{@@cells@@:{@@fill@@:{@@color@@:@@#EBF0F8@@},@@line@@:{@@color@@:@@white@@}},@@header@@:{@@fill@@:{@@color@@:@@#C8D4E3@@},@@line@@:{@@color@@:@@white@@}},@@type@@:@@table@@}]},@@layout@@:{@@annotationdefaults@@:{@@arrowcolor@@:@@#2a3f5f@@,@@arrowhead@@:0,@@arrowwidth@@:1},@@autotypenumbers@@:@@strict@@,@@coloraxis@@:{@@colorbar@@:{@@outlinewidth@@:0,@@ticks@@:@@@@}},@@colorscale@@:{@@diverging@@:[[0,@@#8e0152@@],[0.1,@@#c51b7d@@],[0.2,@@#de77ae@@],[0.3,@@#f1b6da@@],[0.4,@@#fde0ef@@],[0.5,@@#f7f7f7@@],[0.6,@@#e6f5d0@@],[0.7,@@#b8e186@@],[0.8,@@#7fbc41@@],[0.9,@@#4d9221@@],[1,@@#276419@@]],@@sequential@@:[[0.0,@@#0d0887@@],[0.1111111111111111,@@#46039f@@],[0.2222222222222222,@@#7201a8@@],[0.3333333333333333,@@#9c179e@@],[0.4444444444444444,@@#bd3786@@],[0.5555555555555556,@@#d8576b@@],[0.6666666666666666,@@#ed7953@@],[0.7777777777777778,@@#fb9f3a@@],[0.8888888888888888,@@#fdca26@@],[1.0,@@#f0f921@@]],@@sequentialminus@@:[[0.0,@@#0d0887@@],[0.1111111111111111,@@#46039f@@],[0.2222222222222222,@@#7201a8@@],[0.3333333333333333,@@#9c179e@@],[0.4444444444444444,@@#bd3786@@],[0.5555555555555556,@@#d8576b@@],[0.6666666666666666,@@#ed7953@@],[0.7777777777777778,@@#fb9f3a@@],[0.8888888888888888,@@#fdca26@@],[1.0,@@#f0f921@@]]},@@colorway@@:[@@#636efa@@,@@#EF553B@@,@@#00cc96@@,@@#ab63fa@@,@@#FFA15A@@,@@#19d3f3@@,@@#FF6692@@,@@#B6E880@@,@@#FF97FF@@,@@#FECB52@@],@@font@@:{@@color@@:@@#2a3f5f@@},@@geo@@:{@@bgcolor@@:@@white@@,@@lakecolor@@:@@white@@,@@landcolor@@:@@#E5ECF6@@,@@showlakes@@:true,@@showland@@:true,@@subunitcolor@@:@@white@@},@@hoverlabel@@:{@@align@@:@@left@@},@@hovermode@@:@@closest@@,@@mapbox@@:{@@style@@:@@light@@},@@paper_bgcolor@@:@@white@@,@@plot_bgcolor@@:@@#E5ECF6@@,@@polar@@:{@@angularaxis@@:{@@gridcolor@@:@@white@@,@@linecolor@@:@@white@@,@@ticks@@:@@@@},@@bgcolor@@:@@#E5ECF6@@,@@radialaxis@@:{@@gridcolor@@:@@white@@,@@linecolor@@:@@white@@,@@ticks@@:@@@@}},@@scene@@:{@@xaxis@@:{@@backgroundcolor@@:@@#E5ECF6@@,@@gridcolor@@:@@white@@,@@gridwidth@@:2,@@linecolor@@:@@white@@,@@showbackground@@:true,@@ticks@@:@@@@,@@zerolinecolor@@:@@white@@},@@yaxis@@:{@@backgroundcolor@@:@@#E5ECF6@@,@@gridcolor@@:@@white@@,@@gridwidth@@:2,@@linecolor@@:@@white@@,@@showbackground@@:true,@@ticks@@:@@@@,@@zerolinecolor@@:@@white@@},@@zaxis@@:{@@backgroundcolor@@:@@#E5ECF6@@,@@gridcolor@@:@@white@@,@@gridwidth@@:2,@@linecolor@@:@@white@@,@@showbackground@@:true,@@ticks@@:@@@@,@@zerolinecolor@@:@@white@@}},@@shapedefaults@@:{@@line@@:{@@color@@:@@#2a3f5f@@}},@@ternary@@:{@@aaxis@@:{@@gridcolor@@:@@white@@,@@linecolor@@:@@white@@,@@ticks@@:@@@@},@@baxis@@:{@@gridcolor@@:@@white@@,@@linecolor@@:@@white@@,@@ticks@@:@@@@},@@bgcolor@@:@@#E5ECF6@@,@@caxis@@:{@@gridcolor@@:@@white@@,@@linecolor@@:@@white@@,@@ticks@@:@@@@}},@@title@@:{@@x@@:0.05},@@xaxis@@:{@@automargin@@:true,@@gridcolor@@:@@white@@,@@linecolor@@:@@white@@,@@ticks@@:@@@@,@@title@@:{@@standoff@@:15},@@zerolinecolor@@:@@white@@,@@zerolinewidth@@:2},@@yaxis@@:{@@automargin@@:true,@@gridcolor@@:@@white@@,@@linecolor@@:@@white@@,@@ticks@@:@@@@,@@title@@:{@@standoff@@:15},@@zerolinecolor@@:@@white@@,@@zerolinewidth@@:2}}},@@title@@:{@@text@@:@@Stacked Distribution of Net Sales Amount by Distributor and Customer@@},@@xaxis@@:{@@anchor@@:@@y@@,@@domain@@:[0.0,1.0],@@title@@:{@@text@@:@@Distributor Name@@}},@@yaxis@@:{@@anchor@@:@@x@@,@@domain@@:[0.0,1.0],@@title@@:{@@text@@:@@Net Sales Amount@@}}},                        {@@responsive@@: true}                    )', 'id': 9, 'name': 'Distribution of Net Sales Amount by Distributor and Customer', 'title': 'Distribution of Net Sales Amount by Distributor and Customer', 'type': 'plotly', 'resultType': 3, 'visibility': 'EXPANDED', 'time': 'Oct 02, 2024 03:17:14 AM'}\n",
      "Error : HTTPConnectionPool(host='localhost', port=80): Max retries exceeded with url: / (Caused by NewConnectionError('<urllib3.connection.HTTPConnection object at 0x1344b97f0>: Failed to establish a new connection: [Errno 61] Connection refused'))\n"
     ]
    }
   ],
   "source": [
    "import plotly.express as px\n",
    "import pandas as pd\n",
    "\n",
    "# Grouping the data by distributor name and customer, summing the net sales (NET column)\n",
    "grouped_data = filtered_df.groupby(['DIST_NAME', 'CUST_NAME'], as_index=False).agg({\n",
    "    'NET': 'sum'  # Summing up the net sales (NET column)\n",
    "})\n",
    "\n",
    "# Renaming the column for clarity\n",
    "grouped_data.rename(columns={'NET': 'net_sales_amount'}, inplace=True)\n",
    "\n",
    "# Create a stacked bar plot using plotly express, with distributor names\n",
    "fig = px.bar(\n",
    "    grouped_data, \n",
    "    x='DIST_NAME', \n",
    "    y='net_sales_amount', \n",
    "    color='CUST_NAME', \n",
    "    title='Stacked Distribution of Net Sales Amount by Distributor and Customer',\n",
    "    labels={'DIST_NAME': 'Distributor Name', 'net_sales_amount': 'Net Sales Amount', 'CUST_NAME': 'Customer'},\n",
    "    barmode='stack' \n",
    ")\n",
    "\n",
    "\n",
    "test = plotly.offline.plot(fig, output_type='div', include_plotlyjs=False)\n",
    "\n",
    "\n",
    "example_plotly = f'{test}'\n",
    "restworkflowcontext.outPlotly(9, title=\"Distribution of Net Sales Amount by Distributor and Customer\", text=example_plotly)\n",
    "# fig.show()\n"
   ]
  },
  {
   "cell_type": "code",
   "execution_count": 81,
   "metadata": {},
   "outputs": [
    {
     "name": "stdout",
     "output_type": "stream",
     "text": [
      "webserverURL: \n",
      "http://localhost\n",
      "Sending Message: {\"progress\": \"10\", \"id\": 9, \"name\": \"Progress\", \"title\": \"Progress\", \"type\": \"progress\", \"resultType\": 3, \"visibility\": \"EXPANDED\", \"time\": \"Oct 02, 2024 03:17:14 AM\"}\n",
      "Error : HTTPConnectionPool(host='localhost', port=80): Max retries exceeded with url: / (Caused by NewConnectionError('<urllib3.connection.HTTPConnection object at 0x134569670>: Failed to establish a new connection: [Errno 61] Connection refused'))\n"
     ]
    }
   ],
   "source": [
    "progress = \"10\"\n",
    "restworkflowcontext.outputProgress(9, title=\"Progress\", progress=progress)"
   ]
  },
  {
   "cell_type": "markdown",
   "metadata": {},
   "source": [
    "## Distribution of Product Count by Distributor and Customer"
   ]
  },
  {
   "cell_type": "code",
   "execution_count": 82,
   "metadata": {},
   "outputs": [
    {
     "name": "stdout",
     "output_type": "stream",
     "text": [
      "Check the Input type..\n",
      "There is a match\n",
      " And Input is string type.\n",
      "webserverURL: \n",
      "http://localhost\n",
      "Sending Message: {'text': 'Plotly.newPlot(                        @@da1f5ab8-5c08-4284-b74d-09fd6274d9cb@@,                        [{@@alignmentgroup@@:@@True@@,@@hovertemplate@@:@@Customer=Ballard Rowland\\\\u003cbr\\\\u003eDistributor Name=%{x}\\\\u003cbr\\\\u003eTotal Quantity=%{y}\\\\u003cextra\\\\u003e\\\\u003c\\\\u002fextra\\\\u003e@@,@@legendgroup@@:@@Ballard Rowland@@,@@marker@@:{@@color@@:@@#636efa@@,@@pattern@@:{@@shape@@:@@@@}},@@name@@:@@Ballard Rowland@@,@@offsetgroup@@:@@Ballard Rowland@@,@@orientation@@:@@v@@,@@showlegend@@:true,@@textposition@@:@@auto@@,@@x@@:[@@Global Enterprises@@],@@xaxis@@:@@x@@,@@y@@:[7391],@@yaxis@@:@@y@@,@@type@@:@@bar@@},{@@alignmentgroup@@:@@True@@,@@hovertemplate@@:@@Customer=English Ruiz\\\\u003cbr\\\\u003eDistributor Name=%{x}\\\\u003cbr\\\\u003eTotal Quantity=%{y}\\\\u003cextra\\\\u003e\\\\u003c\\\\u002fextra\\\\u003e@@,@@legendgroup@@:@@English Ruiz@@,@@marker@@:{@@color@@:@@#EF553B@@,@@pattern@@:{@@shape@@:@@@@}},@@name@@:@@English Ruiz@@,@@offsetgroup@@:@@English Ruiz@@,@@orientation@@:@@v@@,@@showlegend@@:true,@@textposition@@:@@auto@@,@@x@@:[@@Global Enterprises@@],@@xaxis@@:@@x@@,@@y@@:[4496],@@yaxis@@:@@y@@,@@type@@:@@bar@@},{@@alignmentgroup@@:@@True@@,@@hovertemplate@@:@@Customer=Kane Robertson\\\\u003cbr\\\\u003eDistributor Name=%{x}\\\\u003cbr\\\\u003eTotal Quantity=%{y}\\\\u003cextra\\\\u003e\\\\u003c\\\\u002fextra\\\\u003e@@,@@legendgroup@@:@@Kane Robertson@@,@@marker@@:{@@color@@:@@#00cc96@@,@@pattern@@:{@@shape@@:@@@@}},@@name@@:@@Kane Robertson@@,@@offsetgroup@@:@@Kane Robertson@@,@@orientation@@:@@v@@,@@showlegend@@:true,@@textposition@@:@@auto@@,@@x@@:[@@Global Enterprises@@],@@xaxis@@:@@x@@,@@y@@:[4496],@@yaxis@@:@@y@@,@@type@@:@@bar@@},{@@alignmentgroup@@:@@True@@,@@hovertemplate@@:@@Customer=Martinez PLC\\\\u003cbr\\\\u003eDistributor Name=%{x}\\\\u003cbr\\\\u003eTotal Quantity=%{y}\\\\u003cextra\\\\u003e\\\\u003c\\\\u002fextra\\\\u003e@@,@@legendgroup@@:@@Martinez PLC@@,@@marker@@:{@@color@@:@@#ab63fa@@,@@pattern@@:{@@shape@@:@@@@}},@@name@@:@@Martinez PLC@@,@@offsetgroup@@:@@Martinez PLC@@,@@orientation@@:@@v@@,@@showlegend@@:true,@@textposition@@:@@auto@@,@@x@@:[@@Global Enterprises@@],@@xaxis@@:@@x@@,@@y@@:[2616],@@yaxis@@:@@y@@,@@type@@:@@bar@@},{@@alignmentgroup@@:@@True@@,@@hovertemplate@@:@@Customer=Norman and Collins Carr\\\\u003cbr\\\\u003eDistributor Name=%{x}\\\\u003cbr\\\\u003eTotal Quantity=%{y}\\\\u003cextra\\\\u003e\\\\u003c\\\\u002fextra\\\\u003e@@,@@legendgroup@@:@@Norman and Collins Carr@@,@@marker@@:{@@color@@:@@#FFA15A@@,@@pattern@@:{@@shape@@:@@@@}},@@name@@:@@Norman and Collins Carr@@,@@offsetgroup@@:@@Norman and Collins Carr@@,@@orientation@@:@@v@@,@@showlegend@@:true,@@textposition@@:@@auto@@,@@x@@:[@@Global Enterprises@@],@@xaxis@@:@@x@@,@@y@@:[81],@@yaxis@@:@@y@@,@@type@@:@@bar@@},{@@alignmentgroup@@:@@True@@,@@hovertemplate@@:@@Customer=Patterson and Strickland Downs\\\\u003cbr\\\\u003eDistributor Name=%{x}\\\\u003cbr\\\\u003eTotal Quantity=%{y}\\\\u003cextra\\\\u003e\\\\u003c\\\\u002fextra\\\\u003e@@,@@legendgroup@@:@@Patterson and Strickland Downs@@,@@marker@@:{@@color@@:@@#19d3f3@@,@@pattern@@:{@@shape@@:@@@@}},@@name@@:@@Patterson and Strickland Downs@@,@@offsetgroup@@:@@Patterson and Strickland Downs@@,@@orientation@@:@@v@@,@@showlegend@@:true,@@textposition@@:@@auto@@,@@x@@:[@@Global Enterprises@@],@@xaxis@@:@@x@@,@@y@@:[15379],@@yaxis@@:@@y@@,@@type@@:@@bar@@},{@@alignmentgroup@@:@@True@@,@@hovertemplate@@:@@Customer=Villa and Ray Brown\\\\u003cbr\\\\u003eDistributor Name=%{x}\\\\u003cbr\\\\u003eTotal Quantity=%{y}\\\\u003cextra\\\\u003e\\\\u003c\\\\u002fextra\\\\u003e@@,@@legendgroup@@:@@Villa and Ray Brown@@,@@marker@@:{@@color@@:@@#FF6692@@,@@pattern@@:{@@shape@@:@@@@}},@@name@@:@@Villa and Ray Brown@@,@@offsetgroup@@:@@Villa and Ray Brown@@,@@orientation@@:@@v@@,@@showlegend@@:true,@@textposition@@:@@auto@@,@@x@@:[@@Global Enterprises@@],@@xaxis@@:@@x@@,@@y@@:[14369],@@yaxis@@:@@y@@,@@type@@:@@bar@@},{@@alignmentgroup@@:@@True@@,@@hovertemplate@@:@@Customer=White Johnson\\\\u003cbr\\\\u003eDistributor Name=%{x}\\\\u003cbr\\\\u003eTotal Quantity=%{y}\\\\u003cextra\\\\u003e\\\\u003c\\\\u002fextra\\\\u003e@@,@@legendgroup@@:@@White Johnson@@,@@marker@@:{@@color@@:@@#B6E880@@,@@pattern@@:{@@shape@@:@@@@}},@@name@@:@@White Johnson@@,@@offsetgroup@@:@@White Johnson@@,@@orientation@@:@@v@@,@@showlegend@@:true,@@textposition@@:@@auto@@,@@x@@:[@@Global Enterprises@@],@@xaxis@@:@@x@@,@@y@@:[1702],@@yaxis@@:@@y@@,@@type@@:@@bar@@}],                        {@@barmode@@:@@stack@@,@@legend@@:{@@title@@:{@@text@@:@@Customer@@},@@tracegroupgap@@:0},@@template@@:{@@data@@:{@@barpolar@@:[{@@marker@@:{@@line@@:{@@color@@:@@#E5ECF6@@,@@width@@:0.5},@@pattern@@:{@@fillmode@@:@@overlay@@,@@size@@:10,@@solidity@@:0.2}},@@type@@:@@barpolar@@}],@@bar@@:[{@@error_x@@:{@@color@@:@@#2a3f5f@@},@@error_y@@:{@@color@@:@@#2a3f5f@@},@@marker@@:{@@line@@:{@@color@@:@@#E5ECF6@@,@@width@@:0.5},@@pattern@@:{@@fillmode@@:@@overlay@@,@@size@@:10,@@solidity@@:0.2}},@@type@@:@@bar@@}],@@carpet@@:[{@@aaxis@@:{@@endlinecolor@@:@@#2a3f5f@@,@@gridcolor@@:@@white@@,@@linecolor@@:@@white@@,@@minorgridcolor@@:@@white@@,@@startlinecolor@@:@@#2a3f5f@@},@@baxis@@:{@@endlinecolor@@:@@#2a3f5f@@,@@gridcolor@@:@@white@@,@@linecolor@@:@@white@@,@@minorgridcolor@@:@@white@@,@@startlinecolor@@:@@#2a3f5f@@},@@type@@:@@carpet@@}],@@choropleth@@:[{@@colorbar@@:{@@outlinewidth@@:0,@@ticks@@:@@@@},@@type@@:@@choropleth@@}],@@contourcarpet@@:[{@@colorbar@@:{@@outlinewidth@@:0,@@ticks@@:@@@@},@@type@@:@@contourcarpet@@}],@@contour@@:[{@@colorbar@@:{@@outlinewidth@@:0,@@ticks@@:@@@@},@@colorscale@@:[[0.0,@@#0d0887@@],[0.1111111111111111,@@#46039f@@],[0.2222222222222222,@@#7201a8@@],[0.3333333333333333,@@#9c179e@@],[0.4444444444444444,@@#bd3786@@],[0.5555555555555556,@@#d8576b@@],[0.6666666666666666,@@#ed7953@@],[0.7777777777777778,@@#fb9f3a@@],[0.8888888888888888,@@#fdca26@@],[1.0,@@#f0f921@@]],@@type@@:@@contour@@}],@@heatmapgl@@:[{@@colorbar@@:{@@outlinewidth@@:0,@@ticks@@:@@@@},@@colorscale@@:[[0.0,@@#0d0887@@],[0.1111111111111111,@@#46039f@@],[0.2222222222222222,@@#7201a8@@],[0.3333333333333333,@@#9c179e@@],[0.4444444444444444,@@#bd3786@@],[0.5555555555555556,@@#d8576b@@],[0.6666666666666666,@@#ed7953@@],[0.7777777777777778,@@#fb9f3a@@],[0.8888888888888888,@@#fdca26@@],[1.0,@@#f0f921@@]],@@type@@:@@heatmapgl@@}],@@heatmap@@:[{@@colorbar@@:{@@outlinewidth@@:0,@@ticks@@:@@@@},@@colorscale@@:[[0.0,@@#0d0887@@],[0.1111111111111111,@@#46039f@@],[0.2222222222222222,@@#7201a8@@],[0.3333333333333333,@@#9c179e@@],[0.4444444444444444,@@#bd3786@@],[0.5555555555555556,@@#d8576b@@],[0.6666666666666666,@@#ed7953@@],[0.7777777777777778,@@#fb9f3a@@],[0.8888888888888888,@@#fdca26@@],[1.0,@@#f0f921@@]],@@type@@:@@heatmap@@}],@@histogram2dcontour@@:[{@@colorbar@@:{@@outlinewidth@@:0,@@ticks@@:@@@@},@@colorscale@@:[[0.0,@@#0d0887@@],[0.1111111111111111,@@#46039f@@],[0.2222222222222222,@@#7201a8@@],[0.3333333333333333,@@#9c179e@@],[0.4444444444444444,@@#bd3786@@],[0.5555555555555556,@@#d8576b@@],[0.6666666666666666,@@#ed7953@@],[0.7777777777777778,@@#fb9f3a@@],[0.8888888888888888,@@#fdca26@@],[1.0,@@#f0f921@@]],@@type@@:@@histogram2dcontour@@}],@@histogram2d@@:[{@@colorbar@@:{@@outlinewidth@@:0,@@ticks@@:@@@@},@@colorscale@@:[[0.0,@@#0d0887@@],[0.1111111111111111,@@#46039f@@],[0.2222222222222222,@@#7201a8@@],[0.3333333333333333,@@#9c179e@@],[0.4444444444444444,@@#bd3786@@],[0.5555555555555556,@@#d8576b@@],[0.6666666666666666,@@#ed7953@@],[0.7777777777777778,@@#fb9f3a@@],[0.8888888888888888,@@#fdca26@@],[1.0,@@#f0f921@@]],@@type@@:@@histogram2d@@}],@@histogram@@:[{@@marker@@:{@@pattern@@:{@@fillmode@@:@@overlay@@,@@size@@:10,@@solidity@@:0.2}},@@type@@:@@histogram@@}],@@mesh3d@@:[{@@colorbar@@:{@@outlinewidth@@:0,@@ticks@@:@@@@},@@type@@:@@mesh3d@@}],@@parcoords@@:[{@@line@@:{@@colorbar@@:{@@outlinewidth@@:0,@@ticks@@:@@@@}},@@type@@:@@parcoords@@}],@@pie@@:[{@@automargin@@:true,@@type@@:@@pie@@}],@@scatter3d@@:[{@@line@@:{@@colorbar@@:{@@outlinewidth@@:0,@@ticks@@:@@@@}},@@marker@@:{@@colorbar@@:{@@outlinewidth@@:0,@@ticks@@:@@@@}},@@type@@:@@scatter3d@@}],@@scattercarpet@@:[{@@marker@@:{@@colorbar@@:{@@outlinewidth@@:0,@@ticks@@:@@@@}},@@type@@:@@scattercarpet@@}],@@scattergeo@@:[{@@marker@@:{@@colorbar@@:{@@outlinewidth@@:0,@@ticks@@:@@@@}},@@type@@:@@scattergeo@@}],@@scattergl@@:[{@@marker@@:{@@colorbar@@:{@@outlinewidth@@:0,@@ticks@@:@@@@}},@@type@@:@@scattergl@@}],@@scattermapbox@@:[{@@marker@@:{@@colorbar@@:{@@outlinewidth@@:0,@@ticks@@:@@@@}},@@type@@:@@scattermapbox@@}],@@scatterpolargl@@:[{@@marker@@:{@@colorbar@@:{@@outlinewidth@@:0,@@ticks@@:@@@@}},@@type@@:@@scatterpolargl@@}],@@scatterpolar@@:[{@@marker@@:{@@colorbar@@:{@@outlinewidth@@:0,@@ticks@@:@@@@}},@@type@@:@@scatterpolar@@}],@@scatter@@:[{@@fillpattern@@:{@@fillmode@@:@@overlay@@,@@size@@:10,@@solidity@@:0.2},@@type@@:@@scatter@@}],@@scatterternary@@:[{@@marker@@:{@@colorbar@@:{@@outlinewidth@@:0,@@ticks@@:@@@@}},@@type@@:@@scatterternary@@}],@@surface@@:[{@@colorbar@@:{@@outlinewidth@@:0,@@ticks@@:@@@@},@@colorscale@@:[[0.0,@@#0d0887@@],[0.1111111111111111,@@#46039f@@],[0.2222222222222222,@@#7201a8@@],[0.3333333333333333,@@#9c179e@@],[0.4444444444444444,@@#bd3786@@],[0.5555555555555556,@@#d8576b@@],[0.6666666666666666,@@#ed7953@@],[0.7777777777777778,@@#fb9f3a@@],[0.8888888888888888,@@#fdca26@@],[1.0,@@#f0f921@@]],@@type@@:@@surface@@}],@@table@@:[{@@cells@@:{@@fill@@:{@@color@@:@@#EBF0F8@@},@@line@@:{@@color@@:@@white@@}},@@header@@:{@@fill@@:{@@color@@:@@#C8D4E3@@},@@line@@:{@@color@@:@@white@@}},@@type@@:@@table@@}]},@@layout@@:{@@annotationdefaults@@:{@@arrowcolor@@:@@#2a3f5f@@,@@arrowhead@@:0,@@arrowwidth@@:1},@@autotypenumbers@@:@@strict@@,@@coloraxis@@:{@@colorbar@@:{@@outlinewidth@@:0,@@ticks@@:@@@@}},@@colorscale@@:{@@diverging@@:[[0,@@#8e0152@@],[0.1,@@#c51b7d@@],[0.2,@@#de77ae@@],[0.3,@@#f1b6da@@],[0.4,@@#fde0ef@@],[0.5,@@#f7f7f7@@],[0.6,@@#e6f5d0@@],[0.7,@@#b8e186@@],[0.8,@@#7fbc41@@],[0.9,@@#4d9221@@],[1,@@#276419@@]],@@sequential@@:[[0.0,@@#0d0887@@],[0.1111111111111111,@@#46039f@@],[0.2222222222222222,@@#7201a8@@],[0.3333333333333333,@@#9c179e@@],[0.4444444444444444,@@#bd3786@@],[0.5555555555555556,@@#d8576b@@],[0.6666666666666666,@@#ed7953@@],[0.7777777777777778,@@#fb9f3a@@],[0.8888888888888888,@@#fdca26@@],[1.0,@@#f0f921@@]],@@sequentialminus@@:[[0.0,@@#0d0887@@],[0.1111111111111111,@@#46039f@@],[0.2222222222222222,@@#7201a8@@],[0.3333333333333333,@@#9c179e@@],[0.4444444444444444,@@#bd3786@@],[0.5555555555555556,@@#d8576b@@],[0.6666666666666666,@@#ed7953@@],[0.7777777777777778,@@#fb9f3a@@],[0.8888888888888888,@@#fdca26@@],[1.0,@@#f0f921@@]]},@@colorway@@:[@@#636efa@@,@@#EF553B@@,@@#00cc96@@,@@#ab63fa@@,@@#FFA15A@@,@@#19d3f3@@,@@#FF6692@@,@@#B6E880@@,@@#FF97FF@@,@@#FECB52@@],@@font@@:{@@color@@:@@#2a3f5f@@},@@geo@@:{@@bgcolor@@:@@white@@,@@lakecolor@@:@@white@@,@@landcolor@@:@@#E5ECF6@@,@@showlakes@@:true,@@showland@@:true,@@subunitcolor@@:@@white@@},@@hoverlabel@@:{@@align@@:@@left@@},@@hovermode@@:@@closest@@,@@mapbox@@:{@@style@@:@@light@@},@@paper_bgcolor@@:@@white@@,@@plot_bgcolor@@:@@#E5ECF6@@,@@polar@@:{@@angularaxis@@:{@@gridcolor@@:@@white@@,@@linecolor@@:@@white@@,@@ticks@@:@@@@},@@bgcolor@@:@@#E5ECF6@@,@@radialaxis@@:{@@gridcolor@@:@@white@@,@@linecolor@@:@@white@@,@@ticks@@:@@@@}},@@scene@@:{@@xaxis@@:{@@backgroundcolor@@:@@#E5ECF6@@,@@gridcolor@@:@@white@@,@@gridwidth@@:2,@@linecolor@@:@@white@@,@@showbackground@@:true,@@ticks@@:@@@@,@@zerolinecolor@@:@@white@@},@@yaxis@@:{@@backgroundcolor@@:@@#E5ECF6@@,@@gridcolor@@:@@white@@,@@gridwidth@@:2,@@linecolor@@:@@white@@,@@showbackground@@:true,@@ticks@@:@@@@,@@zerolinecolor@@:@@white@@},@@zaxis@@:{@@backgroundcolor@@:@@#E5ECF6@@,@@gridcolor@@:@@white@@,@@gridwidth@@:2,@@linecolor@@:@@white@@,@@showbackground@@:true,@@ticks@@:@@@@,@@zerolinecolor@@:@@white@@}},@@shapedefaults@@:{@@line@@:{@@color@@:@@#2a3f5f@@}},@@ternary@@:{@@aaxis@@:{@@gridcolor@@:@@white@@,@@linecolor@@:@@white@@,@@ticks@@:@@@@},@@baxis@@:{@@gridcolor@@:@@white@@,@@linecolor@@:@@white@@,@@ticks@@:@@@@},@@bgcolor@@:@@#E5ECF6@@,@@caxis@@:{@@gridcolor@@:@@white@@,@@linecolor@@:@@white@@,@@ticks@@:@@@@}},@@title@@:{@@x@@:0.05},@@xaxis@@:{@@automargin@@:true,@@gridcolor@@:@@white@@,@@linecolor@@:@@white@@,@@ticks@@:@@@@,@@title@@:{@@standoff@@:15},@@zerolinecolor@@:@@white@@,@@zerolinewidth@@:2},@@yaxis@@:{@@automargin@@:true,@@gridcolor@@:@@white@@,@@linecolor@@:@@white@@,@@ticks@@:@@@@,@@title@@:{@@standoff@@:15},@@zerolinecolor@@:@@white@@,@@zerolinewidth@@:2}}},@@title@@:{@@text@@:@@Stacked Distribution of Product Quantity by Distributor and Customer@@},@@xaxis@@:{@@anchor@@:@@y@@,@@domain@@:[0.0,1.0],@@title@@:{@@text@@:@@Distributor Name@@}},@@yaxis@@:{@@anchor@@:@@x@@,@@domain@@:[0.0,1.0],@@title@@:{@@text@@:@@Total Quantity@@}}},                        {@@responsive@@: true}                    )', 'id': 9, 'name': 'Distribution of Product Count by Distributor and Customer', 'title': 'Distribution of Product Count by Distributor and Customer', 'type': 'plotly', 'resultType': 3, 'visibility': 'EXPANDED', 'time': 'Oct 02, 2024 03:17:15 AM'}\n",
      "Error : HTTPConnectionPool(host='localhost', port=80): Max retries exceeded with url: / (Caused by NewConnectionError('<urllib3.connection.HTTPConnection object at 0x13445bbf0>: Failed to establish a new connection: [Errno 61] Connection refused'))\n"
     ]
    }
   ],
   "source": [
    "# Grouping the data by distributor name and customer, summing the quantity (QTY)\n",
    "grouped_data = filtered_df.groupby(['DIST_NAME', 'CUST_NAME'], as_index=False).agg({\n",
    "    'QTY': 'sum'\n",
    "})\n",
    "\n",
    "grouped_data.rename(columns={'QTY': 'total_quantity'}, inplace=True)\n",
    "\n",
    "# Create a stacked bar plot using plotly express for product quantity by distributor and customer\n",
    "fig = px.bar(\n",
    "    grouped_data, \n",
    "    x='DIST_NAME', \n",
    "    y='total_quantity', \n",
    "    color='CUST_NAME', \n",
    "    title='Stacked Distribution of Product Quantity by Distributor and Customer',\n",
    "    labels={'DIST_NAME': 'Distributor Name', 'total_quantity': 'Total Quantity', 'CUST_NAME': 'Customer'},\n",
    "    barmode='stack' \n",
    ")\n",
    "\n",
    "\n",
    "test = plotly.offline.plot(fig, output_type='div', include_plotlyjs=False)\n",
    "example_plotly = f'{test}'\n",
    "restworkflowcontext.outPlotly(9, title=\"Distribution of Product Count by Distributor and Customer\", text=example_plotly)\n",
    "\n",
    "\n",
    "# fig.show()"
   ]
  },
  {
   "cell_type": "code",
   "execution_count": 83,
   "metadata": {},
   "outputs": [
    {
     "name": "stdout",
     "output_type": "stream",
     "text": [
      "webserverURL: \n",
      "http://localhost\n",
      "Sending Message: {\"progress\": \"15\", \"id\": 9, \"name\": \"Progress\", \"title\": \"Progress\", \"type\": \"progress\", \"resultType\": 3, \"visibility\": \"EXPANDED\", \"time\": \"Oct 02, 2024 03:17:15 AM\"}\n",
      "Error : HTTPConnectionPool(host='localhost', port=80): Max retries exceeded with url: / (Caused by NewConnectionError('<urllib3.connection.HTTPConnection object at 0x13445a8a0>: Failed to establish a new connection: [Errno 61] Connection refused'))\n"
     ]
    }
   ],
   "source": [
    "progress = \"15\"\n",
    "restworkflowcontext.outputProgress(9, title=\"Progress\", progress=progress)"
   ]
  },
  {
   "cell_type": "markdown",
   "metadata": {},
   "source": [
    "## Distribution of Invoices by Sector and Category"
   ]
  },
  {
   "cell_type": "code",
   "execution_count": 84,
   "metadata": {
    "colab": {
     "base_uri": "https://localhost:8080/",
     "height": 542
    },
    "id": "lG-ojilnZH5B",
    "outputId": "805d0b0a-7ce0-45a1-ed36-d0510d1a3dfc"
   },
   "outputs": [
    {
     "name": "stdout",
     "output_type": "stream",
     "text": [
      "Check the Input type..\n",
      "There is a match\n",
      " And Input is string type.\n",
      "webserverURL: \n",
      "http://localhost\n",
      "Sending Message: {'text': 'Plotly.newPlot(                        @@0a7f29b3-c674-4482-bf7f-574e5ecf198b@@,                        [{@@alignmentgroup@@:@@True@@,@@customdata@@:[[@@LOTIONS@@]],@@hovertemplate@@:@@CATEGORY=%{customdata[0]}\\\\u003cbr\\\\u003eSector=%{x}\\\\u003cbr\\\\u003eNumber of Invoices=%{y}\\\\u003cextra\\\\u003e\\\\u003c\\\\u002fextra\\\\u003e@@,@@legendgroup@@:@@LOTIONS@@,@@marker@@:{@@color@@:@@#636efa@@,@@pattern@@:{@@shape@@:@@@@}},@@name@@:@@LOTIONS@@,@@offsetgroup@@:@@LOTIONS@@,@@orientation@@:@@v@@,@@showlegend@@:true,@@textposition@@:@@auto@@,@@x@@:[@@BCC@@],@@xaxis@@:@@x@@,@@y@@:[1258],@@yaxis@@:@@y@@,@@type@@:@@bar@@},{@@alignmentgroup@@:@@True@@,@@customdata@@:[[@@WIPES@@]],@@hovertemplate@@:@@CATEGORY=%{customdata[0]}\\\\u003cbr\\\\u003eSector=%{x}\\\\u003cbr\\\\u003eNumber of Invoices=%{y}\\\\u003cextra\\\\u003e\\\\u003c\\\\u002fextra\\\\u003e@@,@@legendgroup@@:@@WIPES@@,@@marker@@:{@@color@@:@@#EF553B@@,@@pattern@@:{@@shape@@:@@@@}},@@name@@:@@WIPES@@,@@offsetgroup@@:@@WIPES@@,@@orientation@@:@@v@@,@@showlegend@@:true,@@textposition@@:@@auto@@,@@x@@:[@@BCC@@],@@xaxis@@:@@x@@,@@y@@:[1524],@@yaxis@@:@@y@@,@@type@@:@@bar@@}],                        {@@barmode@@:@@stack@@,@@legend@@:{@@title@@:{@@text@@:@@CATEGORY@@},@@tracegroupgap@@:0},@@template@@:{@@data@@:{@@barpolar@@:[{@@marker@@:{@@line@@:{@@color@@:@@#E5ECF6@@,@@width@@:0.5},@@pattern@@:{@@fillmode@@:@@overlay@@,@@size@@:10,@@solidity@@:0.2}},@@type@@:@@barpolar@@}],@@bar@@:[{@@error_x@@:{@@color@@:@@#2a3f5f@@},@@error_y@@:{@@color@@:@@#2a3f5f@@},@@marker@@:{@@line@@:{@@color@@:@@#E5ECF6@@,@@width@@:0.5},@@pattern@@:{@@fillmode@@:@@overlay@@,@@size@@:10,@@solidity@@:0.2}},@@type@@:@@bar@@}],@@carpet@@:[{@@aaxis@@:{@@endlinecolor@@:@@#2a3f5f@@,@@gridcolor@@:@@white@@,@@linecolor@@:@@white@@,@@minorgridcolor@@:@@white@@,@@startlinecolor@@:@@#2a3f5f@@},@@baxis@@:{@@endlinecolor@@:@@#2a3f5f@@,@@gridcolor@@:@@white@@,@@linecolor@@:@@white@@,@@minorgridcolor@@:@@white@@,@@startlinecolor@@:@@#2a3f5f@@},@@type@@:@@carpet@@}],@@choropleth@@:[{@@colorbar@@:{@@outlinewidth@@:0,@@ticks@@:@@@@},@@type@@:@@choropleth@@}],@@contourcarpet@@:[{@@colorbar@@:{@@outlinewidth@@:0,@@ticks@@:@@@@},@@type@@:@@contourcarpet@@}],@@contour@@:[{@@colorbar@@:{@@outlinewidth@@:0,@@ticks@@:@@@@},@@colorscale@@:[[0.0,@@#0d0887@@],[0.1111111111111111,@@#46039f@@],[0.2222222222222222,@@#7201a8@@],[0.3333333333333333,@@#9c179e@@],[0.4444444444444444,@@#bd3786@@],[0.5555555555555556,@@#d8576b@@],[0.6666666666666666,@@#ed7953@@],[0.7777777777777778,@@#fb9f3a@@],[0.8888888888888888,@@#fdca26@@],[1.0,@@#f0f921@@]],@@type@@:@@contour@@}],@@heatmapgl@@:[{@@colorbar@@:{@@outlinewidth@@:0,@@ticks@@:@@@@},@@colorscale@@:[[0.0,@@#0d0887@@],[0.1111111111111111,@@#46039f@@],[0.2222222222222222,@@#7201a8@@],[0.3333333333333333,@@#9c179e@@],[0.4444444444444444,@@#bd3786@@],[0.5555555555555556,@@#d8576b@@],[0.6666666666666666,@@#ed7953@@],[0.7777777777777778,@@#fb9f3a@@],[0.8888888888888888,@@#fdca26@@],[1.0,@@#f0f921@@]],@@type@@:@@heatmapgl@@}],@@heatmap@@:[{@@colorbar@@:{@@outlinewidth@@:0,@@ticks@@:@@@@},@@colorscale@@:[[0.0,@@#0d0887@@],[0.1111111111111111,@@#46039f@@],[0.2222222222222222,@@#7201a8@@],[0.3333333333333333,@@#9c179e@@],[0.4444444444444444,@@#bd3786@@],[0.5555555555555556,@@#d8576b@@],[0.6666666666666666,@@#ed7953@@],[0.7777777777777778,@@#fb9f3a@@],[0.8888888888888888,@@#fdca26@@],[1.0,@@#f0f921@@]],@@type@@:@@heatmap@@}],@@histogram2dcontour@@:[{@@colorbar@@:{@@outlinewidth@@:0,@@ticks@@:@@@@},@@colorscale@@:[[0.0,@@#0d0887@@],[0.1111111111111111,@@#46039f@@],[0.2222222222222222,@@#7201a8@@],[0.3333333333333333,@@#9c179e@@],[0.4444444444444444,@@#bd3786@@],[0.5555555555555556,@@#d8576b@@],[0.6666666666666666,@@#ed7953@@],[0.7777777777777778,@@#fb9f3a@@],[0.8888888888888888,@@#fdca26@@],[1.0,@@#f0f921@@]],@@type@@:@@histogram2dcontour@@}],@@histogram2d@@:[{@@colorbar@@:{@@outlinewidth@@:0,@@ticks@@:@@@@},@@colorscale@@:[[0.0,@@#0d0887@@],[0.1111111111111111,@@#46039f@@],[0.2222222222222222,@@#7201a8@@],[0.3333333333333333,@@#9c179e@@],[0.4444444444444444,@@#bd3786@@],[0.5555555555555556,@@#d8576b@@],[0.6666666666666666,@@#ed7953@@],[0.7777777777777778,@@#fb9f3a@@],[0.8888888888888888,@@#fdca26@@],[1.0,@@#f0f921@@]],@@type@@:@@histogram2d@@}],@@histogram@@:[{@@marker@@:{@@pattern@@:{@@fillmode@@:@@overlay@@,@@size@@:10,@@solidity@@:0.2}},@@type@@:@@histogram@@}],@@mesh3d@@:[{@@colorbar@@:{@@outlinewidth@@:0,@@ticks@@:@@@@},@@type@@:@@mesh3d@@}],@@parcoords@@:[{@@line@@:{@@colorbar@@:{@@outlinewidth@@:0,@@ticks@@:@@@@}},@@type@@:@@parcoords@@}],@@pie@@:[{@@automargin@@:true,@@type@@:@@pie@@}],@@scatter3d@@:[{@@line@@:{@@colorbar@@:{@@outlinewidth@@:0,@@ticks@@:@@@@}},@@marker@@:{@@colorbar@@:{@@outlinewidth@@:0,@@ticks@@:@@@@}},@@type@@:@@scatter3d@@}],@@scattercarpet@@:[{@@marker@@:{@@colorbar@@:{@@outlinewidth@@:0,@@ticks@@:@@@@}},@@type@@:@@scattercarpet@@}],@@scattergeo@@:[{@@marker@@:{@@colorbar@@:{@@outlinewidth@@:0,@@ticks@@:@@@@}},@@type@@:@@scattergeo@@}],@@scattergl@@:[{@@marker@@:{@@colorbar@@:{@@outlinewidth@@:0,@@ticks@@:@@@@}},@@type@@:@@scattergl@@}],@@scattermapbox@@:[{@@marker@@:{@@colorbar@@:{@@outlinewidth@@:0,@@ticks@@:@@@@}},@@type@@:@@scattermapbox@@}],@@scatterpolargl@@:[{@@marker@@:{@@colorbar@@:{@@outlinewidth@@:0,@@ticks@@:@@@@}},@@type@@:@@scatterpolargl@@}],@@scatterpolar@@:[{@@marker@@:{@@colorbar@@:{@@outlinewidth@@:0,@@ticks@@:@@@@}},@@type@@:@@scatterpolar@@}],@@scatter@@:[{@@fillpattern@@:{@@fillmode@@:@@overlay@@,@@size@@:10,@@solidity@@:0.2},@@type@@:@@scatter@@}],@@scatterternary@@:[{@@marker@@:{@@colorbar@@:{@@outlinewidth@@:0,@@ticks@@:@@@@}},@@type@@:@@scatterternary@@}],@@surface@@:[{@@colorbar@@:{@@outlinewidth@@:0,@@ticks@@:@@@@},@@colorscale@@:[[0.0,@@#0d0887@@],[0.1111111111111111,@@#46039f@@],[0.2222222222222222,@@#7201a8@@],[0.3333333333333333,@@#9c179e@@],[0.4444444444444444,@@#bd3786@@],[0.5555555555555556,@@#d8576b@@],[0.6666666666666666,@@#ed7953@@],[0.7777777777777778,@@#fb9f3a@@],[0.8888888888888888,@@#fdca26@@],[1.0,@@#f0f921@@]],@@type@@:@@surface@@}],@@table@@:[{@@cells@@:{@@fill@@:{@@color@@:@@#EBF0F8@@},@@line@@:{@@color@@:@@white@@}},@@header@@:{@@fill@@:{@@color@@:@@#C8D4E3@@},@@line@@:{@@color@@:@@white@@}},@@type@@:@@table@@}]},@@layout@@:{@@annotationdefaults@@:{@@arrowcolor@@:@@#2a3f5f@@,@@arrowhead@@:0,@@arrowwidth@@:1},@@autotypenumbers@@:@@strict@@,@@coloraxis@@:{@@colorbar@@:{@@outlinewidth@@:0,@@ticks@@:@@@@}},@@colorscale@@:{@@diverging@@:[[0,@@#8e0152@@],[0.1,@@#c51b7d@@],[0.2,@@#de77ae@@],[0.3,@@#f1b6da@@],[0.4,@@#fde0ef@@],[0.5,@@#f7f7f7@@],[0.6,@@#e6f5d0@@],[0.7,@@#b8e186@@],[0.8,@@#7fbc41@@],[0.9,@@#4d9221@@],[1,@@#276419@@]],@@sequential@@:[[0.0,@@#0d0887@@],[0.1111111111111111,@@#46039f@@],[0.2222222222222222,@@#7201a8@@],[0.3333333333333333,@@#9c179e@@],[0.4444444444444444,@@#bd3786@@],[0.5555555555555556,@@#d8576b@@],[0.6666666666666666,@@#ed7953@@],[0.7777777777777778,@@#fb9f3a@@],[0.8888888888888888,@@#fdca26@@],[1.0,@@#f0f921@@]],@@sequentialminus@@:[[0.0,@@#0d0887@@],[0.1111111111111111,@@#46039f@@],[0.2222222222222222,@@#7201a8@@],[0.3333333333333333,@@#9c179e@@],[0.4444444444444444,@@#bd3786@@],[0.5555555555555556,@@#d8576b@@],[0.6666666666666666,@@#ed7953@@],[0.7777777777777778,@@#fb9f3a@@],[0.8888888888888888,@@#fdca26@@],[1.0,@@#f0f921@@]]},@@colorway@@:[@@#636efa@@,@@#EF553B@@,@@#00cc96@@,@@#ab63fa@@,@@#FFA15A@@,@@#19d3f3@@,@@#FF6692@@,@@#B6E880@@,@@#FF97FF@@,@@#FECB52@@],@@font@@:{@@color@@:@@#2a3f5f@@},@@geo@@:{@@bgcolor@@:@@white@@,@@lakecolor@@:@@white@@,@@landcolor@@:@@#E5ECF6@@,@@showlakes@@:true,@@showland@@:true,@@subunitcolor@@:@@white@@},@@hoverlabel@@:{@@align@@:@@left@@},@@hovermode@@:@@closest@@,@@mapbox@@:{@@style@@:@@light@@},@@paper_bgcolor@@:@@white@@,@@plot_bgcolor@@:@@#E5ECF6@@,@@polar@@:{@@angularaxis@@:{@@gridcolor@@:@@white@@,@@linecolor@@:@@white@@,@@ticks@@:@@@@},@@bgcolor@@:@@#E5ECF6@@,@@radialaxis@@:{@@gridcolor@@:@@white@@,@@linecolor@@:@@white@@,@@ticks@@:@@@@}},@@scene@@:{@@xaxis@@:{@@backgroundcolor@@:@@#E5ECF6@@,@@gridcolor@@:@@white@@,@@gridwidth@@:2,@@linecolor@@:@@white@@,@@showbackground@@:true,@@ticks@@:@@@@,@@zerolinecolor@@:@@white@@},@@yaxis@@:{@@backgroundcolor@@:@@#E5ECF6@@,@@gridcolor@@:@@white@@,@@gridwidth@@:2,@@linecolor@@:@@white@@,@@showbackground@@:true,@@ticks@@:@@@@,@@zerolinecolor@@:@@white@@},@@zaxis@@:{@@backgroundcolor@@:@@#E5ECF6@@,@@gridcolor@@:@@white@@,@@gridwidth@@:2,@@linecolor@@:@@white@@,@@showbackground@@:true,@@ticks@@:@@@@,@@zerolinecolor@@:@@white@@}},@@shapedefaults@@:{@@line@@:{@@color@@:@@#2a3f5f@@}},@@ternary@@:{@@aaxis@@:{@@gridcolor@@:@@white@@,@@linecolor@@:@@white@@,@@ticks@@:@@@@},@@baxis@@:{@@gridcolor@@:@@white@@,@@linecolor@@:@@white@@,@@ticks@@:@@@@},@@bgcolor@@:@@#E5ECF6@@,@@caxis@@:{@@gridcolor@@:@@white@@,@@linecolor@@:@@white@@,@@ticks@@:@@@@}},@@title@@:{@@x@@:0.05},@@xaxis@@:{@@automargin@@:true,@@gridcolor@@:@@white@@,@@linecolor@@:@@white@@,@@ticks@@:@@@@,@@title@@:{@@standoff@@:15},@@zerolinecolor@@:@@white@@,@@zerolinewidth@@:2},@@yaxis@@:{@@automargin@@:true,@@gridcolor@@:@@white@@,@@linecolor@@:@@white@@,@@ticks@@:@@@@,@@title@@:{@@standoff@@:15},@@zerolinecolor@@:@@white@@,@@zerolinewidth@@:2}}},@@title@@:{@@text@@:@@Distribution of Invoices by Sector and Category@@},@@xaxis@@:{@@anchor@@:@@y@@,@@domain@@:[0.0,1.0],@@title@@:{@@text@@:@@Sector@@}},@@yaxis@@:{@@anchor@@:@@x@@,@@domain@@:[0.0,1.0],@@title@@:{@@text@@:@@Number of Invoices@@}}},                        {@@responsive@@: true}                    )', 'id': 9, 'name': 'Distribution of Invoices by Sector and Category', 'title': 'Distribution of Invoices by Sector and Category', 'type': 'plotly', 'resultType': 3, 'visibility': 'EXPANDED', 'time': 'Oct 02, 2024 03:17:15 AM'}\n",
      "Error : HTTPConnectionPool(host='localhost', port=80): Max retries exceeded with url: / (Caused by NewConnectionError('<urllib3.connection.HTTPConnection object at 0x13449cf50>: Failed to establish a new connection: [Errno 61] Connection refused'))\n"
     ]
    }
   ],
   "source": [
    "# Grouping the data by sector and category, counting the number of invoices\n",
    "grouped_data = filtered_df.groupby(['SECTOR', 'CATEGORY'], as_index=False).agg({'INV_NO': 'count'})\n",
    "grouped_data.rename(columns={'INV_NO': 'Invoice_Count'}, inplace=True)\n",
    "\n",
    "# Create a bar plot using plotly express\n",
    "fig = px.bar(\n",
    "    grouped_data,\n",
    "    x='SECTOR',\n",
    "    y='Invoice_Count',\n",
    "    color='CATEGORY',\n",
    "    title='Distribution of Invoices by Sector and Category',\n",
    "    labels={'SECTOR': 'Sector', 'Invoice_Count': 'Number of Invoices'},\n",
    "    barmode='stack',\n",
    "    hover_data=['CATEGORY']\n",
    ")\n",
    "\n",
    "\n",
    "test = plotly.offline.plot(fig, output_type='div', include_plotlyjs=False)\n",
    "example_plotly = f'{test}'\n",
    "restworkflowcontext.outPlotly(9, title=\"Distribution of Invoices by Sector and Category\", text=example_plotly)\n",
    "\n",
    "# fig.show()\n"
   ]
  },
  {
   "cell_type": "code",
   "execution_count": 85,
   "metadata": {},
   "outputs": [
    {
     "name": "stdout",
     "output_type": "stream",
     "text": [
      "webserverURL: \n",
      "http://localhost\n",
      "Sending Message: {\"progress\": \"20\", \"id\": 9, \"name\": \"Progress\", \"title\": \"Progress\", \"type\": \"progress\", \"resultType\": 3, \"visibility\": \"EXPANDED\", \"time\": \"Oct 02, 2024 03:17:15 AM\"}\n",
      "Error : HTTPConnectionPool(host='localhost', port=80): Max retries exceeded with url: / (Caused by NewConnectionError('<urllib3.connection.HTTPConnection object at 0x1345a8c80>: Failed to establish a new connection: [Errno 61] Connection refused'))\n"
     ]
    }
   ],
   "source": [
    "progress = \"20\"\n",
    "restworkflowcontext.outputProgress(9, title=\"Progress\", progress=progress)"
   ]
  },
  {
   "cell_type": "markdown",
   "metadata": {},
   "source": [
    "## Distribution of Net Sales Amount by Sector and Category"
   ]
  },
  {
   "cell_type": "code",
   "execution_count": 86,
   "metadata": {},
   "outputs": [
    {
     "name": "stdout",
     "output_type": "stream",
     "text": [
      "Check the Input type..\n",
      "There is a match\n",
      " And Input is string type.\n",
      "webserverURL: \n",
      "http://localhost\n",
      "Sending Message: {'text': 'Plotly.newPlot(                        @@a1be15f0-1a26-4772-bc3b-e2f4e28678c0@@,                        [{@@alignmentgroup@@:@@True@@,@@hovertemplate@@:@@Category=LOTIONS\\\\u003cbr\\\\u003eSector=%{x}\\\\u003cbr\\\\u003eNet Sales Amount=%{y}\\\\u003cextra\\\\u003e\\\\u003c\\\\u002fextra\\\\u003e@@,@@legendgroup@@:@@LOTIONS@@,@@marker@@:{@@color@@:@@#636efa@@,@@pattern@@:{@@shape@@:@@@@}},@@name@@:@@LOTIONS@@,@@offsetgroup@@:@@LOTIONS@@,@@orientation@@:@@v@@,@@showlegend@@:true,@@textposition@@:@@auto@@,@@x@@:[@@BCC@@],@@xaxis@@:@@x@@,@@y@@:[826.9387724],@@yaxis@@:@@y@@,@@type@@:@@bar@@},{@@alignmentgroup@@:@@True@@,@@hovertemplate@@:@@Category=WIPES\\\\u003cbr\\\\u003eSector=%{x}\\\\u003cbr\\\\u003eNet Sales Amount=%{y}\\\\u003cextra\\\\u003e\\\\u003c\\\\u002fextra\\\\u003e@@,@@legendgroup@@:@@WIPES@@,@@marker@@:{@@color@@:@@#EF553B@@,@@pattern@@:{@@shape@@:@@@@}},@@name@@:@@WIPES@@,@@offsetgroup@@:@@WIPES@@,@@orientation@@:@@v@@,@@showlegend@@:true,@@textposition@@:@@auto@@,@@x@@:[@@BCC@@],@@xaxis@@:@@x@@,@@y@@:[5372.1638391999995],@@yaxis@@:@@y@@,@@type@@:@@bar@@}],                        {@@barmode@@:@@stack@@,@@legend@@:{@@title@@:{@@text@@:@@Category@@},@@tracegroupgap@@:0},@@template@@:{@@data@@:{@@barpolar@@:[{@@marker@@:{@@line@@:{@@color@@:@@#E5ECF6@@,@@width@@:0.5},@@pattern@@:{@@fillmode@@:@@overlay@@,@@size@@:10,@@solidity@@:0.2}},@@type@@:@@barpolar@@}],@@bar@@:[{@@error_x@@:{@@color@@:@@#2a3f5f@@},@@error_y@@:{@@color@@:@@#2a3f5f@@},@@marker@@:{@@line@@:{@@color@@:@@#E5ECF6@@,@@width@@:0.5},@@pattern@@:{@@fillmode@@:@@overlay@@,@@size@@:10,@@solidity@@:0.2}},@@type@@:@@bar@@}],@@carpet@@:[{@@aaxis@@:{@@endlinecolor@@:@@#2a3f5f@@,@@gridcolor@@:@@white@@,@@linecolor@@:@@white@@,@@minorgridcolor@@:@@white@@,@@startlinecolor@@:@@#2a3f5f@@},@@baxis@@:{@@endlinecolor@@:@@#2a3f5f@@,@@gridcolor@@:@@white@@,@@linecolor@@:@@white@@,@@minorgridcolor@@:@@white@@,@@startlinecolor@@:@@#2a3f5f@@},@@type@@:@@carpet@@}],@@choropleth@@:[{@@colorbar@@:{@@outlinewidth@@:0,@@ticks@@:@@@@},@@type@@:@@choropleth@@}],@@contourcarpet@@:[{@@colorbar@@:{@@outlinewidth@@:0,@@ticks@@:@@@@},@@type@@:@@contourcarpet@@}],@@contour@@:[{@@colorbar@@:{@@outlinewidth@@:0,@@ticks@@:@@@@},@@colorscale@@:[[0.0,@@#0d0887@@],[0.1111111111111111,@@#46039f@@],[0.2222222222222222,@@#7201a8@@],[0.3333333333333333,@@#9c179e@@],[0.4444444444444444,@@#bd3786@@],[0.5555555555555556,@@#d8576b@@],[0.6666666666666666,@@#ed7953@@],[0.7777777777777778,@@#fb9f3a@@],[0.8888888888888888,@@#fdca26@@],[1.0,@@#f0f921@@]],@@type@@:@@contour@@}],@@heatmapgl@@:[{@@colorbar@@:{@@outlinewidth@@:0,@@ticks@@:@@@@},@@colorscale@@:[[0.0,@@#0d0887@@],[0.1111111111111111,@@#46039f@@],[0.2222222222222222,@@#7201a8@@],[0.3333333333333333,@@#9c179e@@],[0.4444444444444444,@@#bd3786@@],[0.5555555555555556,@@#d8576b@@],[0.6666666666666666,@@#ed7953@@],[0.7777777777777778,@@#fb9f3a@@],[0.8888888888888888,@@#fdca26@@],[1.0,@@#f0f921@@]],@@type@@:@@heatmapgl@@}],@@heatmap@@:[{@@colorbar@@:{@@outlinewidth@@:0,@@ticks@@:@@@@},@@colorscale@@:[[0.0,@@#0d0887@@],[0.1111111111111111,@@#46039f@@],[0.2222222222222222,@@#7201a8@@],[0.3333333333333333,@@#9c179e@@],[0.4444444444444444,@@#bd3786@@],[0.5555555555555556,@@#d8576b@@],[0.6666666666666666,@@#ed7953@@],[0.7777777777777778,@@#fb9f3a@@],[0.8888888888888888,@@#fdca26@@],[1.0,@@#f0f921@@]],@@type@@:@@heatmap@@}],@@histogram2dcontour@@:[{@@colorbar@@:{@@outlinewidth@@:0,@@ticks@@:@@@@},@@colorscale@@:[[0.0,@@#0d0887@@],[0.1111111111111111,@@#46039f@@],[0.2222222222222222,@@#7201a8@@],[0.3333333333333333,@@#9c179e@@],[0.4444444444444444,@@#bd3786@@],[0.5555555555555556,@@#d8576b@@],[0.6666666666666666,@@#ed7953@@],[0.7777777777777778,@@#fb9f3a@@],[0.8888888888888888,@@#fdca26@@],[1.0,@@#f0f921@@]],@@type@@:@@histogram2dcontour@@}],@@histogram2d@@:[{@@colorbar@@:{@@outlinewidth@@:0,@@ticks@@:@@@@},@@colorscale@@:[[0.0,@@#0d0887@@],[0.1111111111111111,@@#46039f@@],[0.2222222222222222,@@#7201a8@@],[0.3333333333333333,@@#9c179e@@],[0.4444444444444444,@@#bd3786@@],[0.5555555555555556,@@#d8576b@@],[0.6666666666666666,@@#ed7953@@],[0.7777777777777778,@@#fb9f3a@@],[0.8888888888888888,@@#fdca26@@],[1.0,@@#f0f921@@]],@@type@@:@@histogram2d@@}],@@histogram@@:[{@@marker@@:{@@pattern@@:{@@fillmode@@:@@overlay@@,@@size@@:10,@@solidity@@:0.2}},@@type@@:@@histogram@@}],@@mesh3d@@:[{@@colorbar@@:{@@outlinewidth@@:0,@@ticks@@:@@@@},@@type@@:@@mesh3d@@}],@@parcoords@@:[{@@line@@:{@@colorbar@@:{@@outlinewidth@@:0,@@ticks@@:@@@@}},@@type@@:@@parcoords@@}],@@pie@@:[{@@automargin@@:true,@@type@@:@@pie@@}],@@scatter3d@@:[{@@line@@:{@@colorbar@@:{@@outlinewidth@@:0,@@ticks@@:@@@@}},@@marker@@:{@@colorbar@@:{@@outlinewidth@@:0,@@ticks@@:@@@@}},@@type@@:@@scatter3d@@}],@@scattercarpet@@:[{@@marker@@:{@@colorbar@@:{@@outlinewidth@@:0,@@ticks@@:@@@@}},@@type@@:@@scattercarpet@@}],@@scattergeo@@:[{@@marker@@:{@@colorbar@@:{@@outlinewidth@@:0,@@ticks@@:@@@@}},@@type@@:@@scattergeo@@}],@@scattergl@@:[{@@marker@@:{@@colorbar@@:{@@outlinewidth@@:0,@@ticks@@:@@@@}},@@type@@:@@scattergl@@}],@@scattermapbox@@:[{@@marker@@:{@@colorbar@@:{@@outlinewidth@@:0,@@ticks@@:@@@@}},@@type@@:@@scattermapbox@@}],@@scatterpolargl@@:[{@@marker@@:{@@colorbar@@:{@@outlinewidth@@:0,@@ticks@@:@@@@}},@@type@@:@@scatterpolargl@@}],@@scatterpolar@@:[{@@marker@@:{@@colorbar@@:{@@outlinewidth@@:0,@@ticks@@:@@@@}},@@type@@:@@scatterpolar@@}],@@scatter@@:[{@@fillpattern@@:{@@fillmode@@:@@overlay@@,@@size@@:10,@@solidity@@:0.2},@@type@@:@@scatter@@}],@@scatterternary@@:[{@@marker@@:{@@colorbar@@:{@@outlinewidth@@:0,@@ticks@@:@@@@}},@@type@@:@@scatterternary@@}],@@surface@@:[{@@colorbar@@:{@@outlinewidth@@:0,@@ticks@@:@@@@},@@colorscale@@:[[0.0,@@#0d0887@@],[0.1111111111111111,@@#46039f@@],[0.2222222222222222,@@#7201a8@@],[0.3333333333333333,@@#9c179e@@],[0.4444444444444444,@@#bd3786@@],[0.5555555555555556,@@#d8576b@@],[0.6666666666666666,@@#ed7953@@],[0.7777777777777778,@@#fb9f3a@@],[0.8888888888888888,@@#fdca26@@],[1.0,@@#f0f921@@]],@@type@@:@@surface@@}],@@table@@:[{@@cells@@:{@@fill@@:{@@color@@:@@#EBF0F8@@},@@line@@:{@@color@@:@@white@@}},@@header@@:{@@fill@@:{@@color@@:@@#C8D4E3@@},@@line@@:{@@color@@:@@white@@}},@@type@@:@@table@@}]},@@layout@@:{@@annotationdefaults@@:{@@arrowcolor@@:@@#2a3f5f@@,@@arrowhead@@:0,@@arrowwidth@@:1},@@autotypenumbers@@:@@strict@@,@@coloraxis@@:{@@colorbar@@:{@@outlinewidth@@:0,@@ticks@@:@@@@}},@@colorscale@@:{@@diverging@@:[[0,@@#8e0152@@],[0.1,@@#c51b7d@@],[0.2,@@#de77ae@@],[0.3,@@#f1b6da@@],[0.4,@@#fde0ef@@],[0.5,@@#f7f7f7@@],[0.6,@@#e6f5d0@@],[0.7,@@#b8e186@@],[0.8,@@#7fbc41@@],[0.9,@@#4d9221@@],[1,@@#276419@@]],@@sequential@@:[[0.0,@@#0d0887@@],[0.1111111111111111,@@#46039f@@],[0.2222222222222222,@@#7201a8@@],[0.3333333333333333,@@#9c179e@@],[0.4444444444444444,@@#bd3786@@],[0.5555555555555556,@@#d8576b@@],[0.6666666666666666,@@#ed7953@@],[0.7777777777777778,@@#fb9f3a@@],[0.8888888888888888,@@#fdca26@@],[1.0,@@#f0f921@@]],@@sequentialminus@@:[[0.0,@@#0d0887@@],[0.1111111111111111,@@#46039f@@],[0.2222222222222222,@@#7201a8@@],[0.3333333333333333,@@#9c179e@@],[0.4444444444444444,@@#bd3786@@],[0.5555555555555556,@@#d8576b@@],[0.6666666666666666,@@#ed7953@@],[0.7777777777777778,@@#fb9f3a@@],[0.8888888888888888,@@#fdca26@@],[1.0,@@#f0f921@@]]},@@colorway@@:[@@#636efa@@,@@#EF553B@@,@@#00cc96@@,@@#ab63fa@@,@@#FFA15A@@,@@#19d3f3@@,@@#FF6692@@,@@#B6E880@@,@@#FF97FF@@,@@#FECB52@@],@@font@@:{@@color@@:@@#2a3f5f@@},@@geo@@:{@@bgcolor@@:@@white@@,@@lakecolor@@:@@white@@,@@landcolor@@:@@#E5ECF6@@,@@showlakes@@:true,@@showland@@:true,@@subunitcolor@@:@@white@@},@@hoverlabel@@:{@@align@@:@@left@@},@@hovermode@@:@@closest@@,@@mapbox@@:{@@style@@:@@light@@},@@paper_bgcolor@@:@@white@@,@@plot_bgcolor@@:@@#E5ECF6@@,@@polar@@:{@@angularaxis@@:{@@gridcolor@@:@@white@@,@@linecolor@@:@@white@@,@@ticks@@:@@@@},@@bgcolor@@:@@#E5ECF6@@,@@radialaxis@@:{@@gridcolor@@:@@white@@,@@linecolor@@:@@white@@,@@ticks@@:@@@@}},@@scene@@:{@@xaxis@@:{@@backgroundcolor@@:@@#E5ECF6@@,@@gridcolor@@:@@white@@,@@gridwidth@@:2,@@linecolor@@:@@white@@,@@showbackground@@:true,@@ticks@@:@@@@,@@zerolinecolor@@:@@white@@},@@yaxis@@:{@@backgroundcolor@@:@@#E5ECF6@@,@@gridcolor@@:@@white@@,@@gridwidth@@:2,@@linecolor@@:@@white@@,@@showbackground@@:true,@@ticks@@:@@@@,@@zerolinecolor@@:@@white@@},@@zaxis@@:{@@backgroundcolor@@:@@#E5ECF6@@,@@gridcolor@@:@@white@@,@@gridwidth@@:2,@@linecolor@@:@@white@@,@@showbackground@@:true,@@ticks@@:@@@@,@@zerolinecolor@@:@@white@@}},@@shapedefaults@@:{@@line@@:{@@color@@:@@#2a3f5f@@}},@@ternary@@:{@@aaxis@@:{@@gridcolor@@:@@white@@,@@linecolor@@:@@white@@,@@ticks@@:@@@@},@@baxis@@:{@@gridcolor@@:@@white@@,@@linecolor@@:@@white@@,@@ticks@@:@@@@},@@bgcolor@@:@@#E5ECF6@@,@@caxis@@:{@@gridcolor@@:@@white@@,@@linecolor@@:@@white@@,@@ticks@@:@@@@}},@@title@@:{@@x@@:0.05},@@xaxis@@:{@@automargin@@:true,@@gridcolor@@:@@white@@,@@linecolor@@:@@white@@,@@ticks@@:@@@@,@@title@@:{@@standoff@@:15},@@zerolinecolor@@:@@white@@,@@zerolinewidth@@:2},@@yaxis@@:{@@automargin@@:true,@@gridcolor@@:@@white@@,@@linecolor@@:@@white@@,@@ticks@@:@@@@,@@title@@:{@@standoff@@:15},@@zerolinecolor@@:@@white@@,@@zerolinewidth@@:2}}},@@title@@:{@@text@@:@@Stacked Distribution of Net Sales Amount by Sector and Category@@},@@xaxis@@:{@@anchor@@:@@y@@,@@domain@@:[0.0,1.0],@@title@@:{@@text@@:@@Sector@@}},@@yaxis@@:{@@anchor@@:@@x@@,@@domain@@:[0.0,1.0],@@title@@:{@@text@@:@@Net Sales Amount@@}}},                        {@@responsive@@: true}                    )', 'id': 9, 'name': 'Distribution of Net Sales Amount by Sector and Category', 'title': 'Distribution of Net Sales Amount by Sector and Category', 'type': 'plotly', 'resultType': 3, 'visibility': 'EXPANDED', 'time': 'Oct 02, 2024 03:17:15 AM'}\n",
      "Error : HTTPConnectionPool(host='localhost', port=80): Max retries exceeded with url: / (Caused by NewConnectionError('<urllib3.connection.HTTPConnection object at 0x1342c9e80>: Failed to establish a new connection: [Errno 61] Connection refused'))\n"
     ]
    }
   ],
   "source": [
    "# Grouping the data by sector and category, summing the net sales (NET column)\n",
    "grouped_data = filtered_df.groupby(['SECTOR', 'CATEGORY'], as_index=False).agg({\n",
    "    'NET': 'sum'\n",
    "})\n",
    "\n",
    "# Create a stacked bar plot using plotly express for net sales by sector and category\n",
    "fig = px.bar(\n",
    "    grouped_data, \n",
    "    x='SECTOR', \n",
    "    y='NET', \n",
    "    color='CATEGORY', \n",
    "    title='Stacked Distribution of Net Sales Amount by Sector and Category',\n",
    "    labels={'SECTOR': 'Sector', 'NET': 'Net Sales Amount', 'CATEGORY': 'Category'},\n",
    "    barmode='stack' \n",
    ")\n",
    "\n",
    "\n",
    "test = plotly.offline.plot(fig, output_type='div', include_plotlyjs=False)\n",
    "example_plotly = f'{test}'\n",
    "restworkflowcontext.outPlotly(9, title=\"Distribution of Net Sales Amount by Sector and Category\", text=example_plotly)\n",
    "\n",
    "\n",
    "# fig.show()\n"
   ]
  },
  {
   "cell_type": "code",
   "execution_count": 87,
   "metadata": {},
   "outputs": [
    {
     "name": "stdout",
     "output_type": "stream",
     "text": [
      "webserverURL: \n",
      "http://localhost\n",
      "Sending Message: {\"progress\": \"25\", \"id\": 9, \"name\": \"Progress\", \"title\": \"Progress\", \"type\": \"progress\", \"resultType\": 3, \"visibility\": \"EXPANDED\", \"time\": \"Oct 02, 2024 03:17:15 AM\"}\n",
      "Error : HTTPConnectionPool(host='localhost', port=80): Max retries exceeded with url: / (Caused by NewConnectionError('<urllib3.connection.HTTPConnection object at 0x134605d00>: Failed to establish a new connection: [Errno 61] Connection refused'))\n"
     ]
    }
   ],
   "source": [
    "progress = \"25\"\n",
    "restworkflowcontext.outputProgress(9, title=\"Progress\", progress=progress)"
   ]
  },
  {
   "cell_type": "markdown",
   "metadata": {},
   "source": [
    "## Distribution of Product Count by Sector and Category"
   ]
  },
  {
   "cell_type": "code",
   "execution_count": 88,
   "metadata": {},
   "outputs": [
    {
     "name": "stdout",
     "output_type": "stream",
     "text": [
      "Check the Input type..\n",
      "There is a match\n",
      " And Input is string type.\n",
      "webserverURL: \n",
      "http://localhost\n",
      "Sending Message: {'text': 'Plotly.newPlot(                        @@5f06dac4-e265-458b-9f2f-f22086c23f4d@@,                        [{@@alignmentgroup@@:@@True@@,@@hovertemplate@@:@@Category=LOTIONS\\\\u003cbr\\\\u003eSector=%{x}\\\\u003cbr\\\\u003eProduct Count=%{y}\\\\u003cextra\\\\u003e\\\\u003c\\\\u002fextra\\\\u003e@@,@@legendgroup@@:@@LOTIONS@@,@@marker@@:{@@color@@:@@#636efa@@,@@pattern@@:{@@shape@@:@@@@}},@@name@@:@@LOTIONS@@,@@offsetgroup@@:@@LOTIONS@@,@@orientation@@:@@v@@,@@showlegend@@:true,@@textposition@@:@@auto@@,@@x@@:[@@BCC@@],@@xaxis@@:@@x@@,@@y@@:[1258],@@yaxis@@:@@y@@,@@type@@:@@bar@@},{@@alignmentgroup@@:@@True@@,@@hovertemplate@@:@@Category=WIPES\\\\u003cbr\\\\u003eSector=%{x}\\\\u003cbr\\\\u003eProduct Count=%{y}\\\\u003cextra\\\\u003e\\\\u003c\\\\u002fextra\\\\u003e@@,@@legendgroup@@:@@WIPES@@,@@marker@@:{@@color@@:@@#EF553B@@,@@pattern@@:{@@shape@@:@@@@}},@@name@@:@@WIPES@@,@@offsetgroup@@:@@WIPES@@,@@orientation@@:@@v@@,@@showlegend@@:true,@@textposition@@:@@auto@@,@@x@@:[@@BCC@@],@@xaxis@@:@@x@@,@@y@@:[1524],@@yaxis@@:@@y@@,@@type@@:@@bar@@}],                        {@@barmode@@:@@stack@@,@@legend@@:{@@title@@:{@@text@@:@@Category@@},@@tracegroupgap@@:0},@@template@@:{@@data@@:{@@barpolar@@:[{@@marker@@:{@@line@@:{@@color@@:@@#E5ECF6@@,@@width@@:0.5},@@pattern@@:{@@fillmode@@:@@overlay@@,@@size@@:10,@@solidity@@:0.2}},@@type@@:@@barpolar@@}],@@bar@@:[{@@error_x@@:{@@color@@:@@#2a3f5f@@},@@error_y@@:{@@color@@:@@#2a3f5f@@},@@marker@@:{@@line@@:{@@color@@:@@#E5ECF6@@,@@width@@:0.5},@@pattern@@:{@@fillmode@@:@@overlay@@,@@size@@:10,@@solidity@@:0.2}},@@type@@:@@bar@@}],@@carpet@@:[{@@aaxis@@:{@@endlinecolor@@:@@#2a3f5f@@,@@gridcolor@@:@@white@@,@@linecolor@@:@@white@@,@@minorgridcolor@@:@@white@@,@@startlinecolor@@:@@#2a3f5f@@},@@baxis@@:{@@endlinecolor@@:@@#2a3f5f@@,@@gridcolor@@:@@white@@,@@linecolor@@:@@white@@,@@minorgridcolor@@:@@white@@,@@startlinecolor@@:@@#2a3f5f@@},@@type@@:@@carpet@@}],@@choropleth@@:[{@@colorbar@@:{@@outlinewidth@@:0,@@ticks@@:@@@@},@@type@@:@@choropleth@@}],@@contourcarpet@@:[{@@colorbar@@:{@@outlinewidth@@:0,@@ticks@@:@@@@},@@type@@:@@contourcarpet@@}],@@contour@@:[{@@colorbar@@:{@@outlinewidth@@:0,@@ticks@@:@@@@},@@colorscale@@:[[0.0,@@#0d0887@@],[0.1111111111111111,@@#46039f@@],[0.2222222222222222,@@#7201a8@@],[0.3333333333333333,@@#9c179e@@],[0.4444444444444444,@@#bd3786@@],[0.5555555555555556,@@#d8576b@@],[0.6666666666666666,@@#ed7953@@],[0.7777777777777778,@@#fb9f3a@@],[0.8888888888888888,@@#fdca26@@],[1.0,@@#f0f921@@]],@@type@@:@@contour@@}],@@heatmapgl@@:[{@@colorbar@@:{@@outlinewidth@@:0,@@ticks@@:@@@@},@@colorscale@@:[[0.0,@@#0d0887@@],[0.1111111111111111,@@#46039f@@],[0.2222222222222222,@@#7201a8@@],[0.3333333333333333,@@#9c179e@@],[0.4444444444444444,@@#bd3786@@],[0.5555555555555556,@@#d8576b@@],[0.6666666666666666,@@#ed7953@@],[0.7777777777777778,@@#fb9f3a@@],[0.8888888888888888,@@#fdca26@@],[1.0,@@#f0f921@@]],@@type@@:@@heatmapgl@@}],@@heatmap@@:[{@@colorbar@@:{@@outlinewidth@@:0,@@ticks@@:@@@@},@@colorscale@@:[[0.0,@@#0d0887@@],[0.1111111111111111,@@#46039f@@],[0.2222222222222222,@@#7201a8@@],[0.3333333333333333,@@#9c179e@@],[0.4444444444444444,@@#bd3786@@],[0.5555555555555556,@@#d8576b@@],[0.6666666666666666,@@#ed7953@@],[0.7777777777777778,@@#fb9f3a@@],[0.8888888888888888,@@#fdca26@@],[1.0,@@#f0f921@@]],@@type@@:@@heatmap@@}],@@histogram2dcontour@@:[{@@colorbar@@:{@@outlinewidth@@:0,@@ticks@@:@@@@},@@colorscale@@:[[0.0,@@#0d0887@@],[0.1111111111111111,@@#46039f@@],[0.2222222222222222,@@#7201a8@@],[0.3333333333333333,@@#9c179e@@],[0.4444444444444444,@@#bd3786@@],[0.5555555555555556,@@#d8576b@@],[0.6666666666666666,@@#ed7953@@],[0.7777777777777778,@@#fb9f3a@@],[0.8888888888888888,@@#fdca26@@],[1.0,@@#f0f921@@]],@@type@@:@@histogram2dcontour@@}],@@histogram2d@@:[{@@colorbar@@:{@@outlinewidth@@:0,@@ticks@@:@@@@},@@colorscale@@:[[0.0,@@#0d0887@@],[0.1111111111111111,@@#46039f@@],[0.2222222222222222,@@#7201a8@@],[0.3333333333333333,@@#9c179e@@],[0.4444444444444444,@@#bd3786@@],[0.5555555555555556,@@#d8576b@@],[0.6666666666666666,@@#ed7953@@],[0.7777777777777778,@@#fb9f3a@@],[0.8888888888888888,@@#fdca26@@],[1.0,@@#f0f921@@]],@@type@@:@@histogram2d@@}],@@histogram@@:[{@@marker@@:{@@pattern@@:{@@fillmode@@:@@overlay@@,@@size@@:10,@@solidity@@:0.2}},@@type@@:@@histogram@@}],@@mesh3d@@:[{@@colorbar@@:{@@outlinewidth@@:0,@@ticks@@:@@@@},@@type@@:@@mesh3d@@}],@@parcoords@@:[{@@line@@:{@@colorbar@@:{@@outlinewidth@@:0,@@ticks@@:@@@@}},@@type@@:@@parcoords@@}],@@pie@@:[{@@automargin@@:true,@@type@@:@@pie@@}],@@scatter3d@@:[{@@line@@:{@@colorbar@@:{@@outlinewidth@@:0,@@ticks@@:@@@@}},@@marker@@:{@@colorbar@@:{@@outlinewidth@@:0,@@ticks@@:@@@@}},@@type@@:@@scatter3d@@}],@@scattercarpet@@:[{@@marker@@:{@@colorbar@@:{@@outlinewidth@@:0,@@ticks@@:@@@@}},@@type@@:@@scattercarpet@@}],@@scattergeo@@:[{@@marker@@:{@@colorbar@@:{@@outlinewidth@@:0,@@ticks@@:@@@@}},@@type@@:@@scattergeo@@}],@@scattergl@@:[{@@marker@@:{@@colorbar@@:{@@outlinewidth@@:0,@@ticks@@:@@@@}},@@type@@:@@scattergl@@}],@@scattermapbox@@:[{@@marker@@:{@@colorbar@@:{@@outlinewidth@@:0,@@ticks@@:@@@@}},@@type@@:@@scattermapbox@@}],@@scatterpolargl@@:[{@@marker@@:{@@colorbar@@:{@@outlinewidth@@:0,@@ticks@@:@@@@}},@@type@@:@@scatterpolargl@@}],@@scatterpolar@@:[{@@marker@@:{@@colorbar@@:{@@outlinewidth@@:0,@@ticks@@:@@@@}},@@type@@:@@scatterpolar@@}],@@scatter@@:[{@@fillpattern@@:{@@fillmode@@:@@overlay@@,@@size@@:10,@@solidity@@:0.2},@@type@@:@@scatter@@}],@@scatterternary@@:[{@@marker@@:{@@colorbar@@:{@@outlinewidth@@:0,@@ticks@@:@@@@}},@@type@@:@@scatterternary@@}],@@surface@@:[{@@colorbar@@:{@@outlinewidth@@:0,@@ticks@@:@@@@},@@colorscale@@:[[0.0,@@#0d0887@@],[0.1111111111111111,@@#46039f@@],[0.2222222222222222,@@#7201a8@@],[0.3333333333333333,@@#9c179e@@],[0.4444444444444444,@@#bd3786@@],[0.5555555555555556,@@#d8576b@@],[0.6666666666666666,@@#ed7953@@],[0.7777777777777778,@@#fb9f3a@@],[0.8888888888888888,@@#fdca26@@],[1.0,@@#f0f921@@]],@@type@@:@@surface@@}],@@table@@:[{@@cells@@:{@@fill@@:{@@color@@:@@#EBF0F8@@},@@line@@:{@@color@@:@@white@@}},@@header@@:{@@fill@@:{@@color@@:@@#C8D4E3@@},@@line@@:{@@color@@:@@white@@}},@@type@@:@@table@@}]},@@layout@@:{@@annotationdefaults@@:{@@arrowcolor@@:@@#2a3f5f@@,@@arrowhead@@:0,@@arrowwidth@@:1},@@autotypenumbers@@:@@strict@@,@@coloraxis@@:{@@colorbar@@:{@@outlinewidth@@:0,@@ticks@@:@@@@}},@@colorscale@@:{@@diverging@@:[[0,@@#8e0152@@],[0.1,@@#c51b7d@@],[0.2,@@#de77ae@@],[0.3,@@#f1b6da@@],[0.4,@@#fde0ef@@],[0.5,@@#f7f7f7@@],[0.6,@@#e6f5d0@@],[0.7,@@#b8e186@@],[0.8,@@#7fbc41@@],[0.9,@@#4d9221@@],[1,@@#276419@@]],@@sequential@@:[[0.0,@@#0d0887@@],[0.1111111111111111,@@#46039f@@],[0.2222222222222222,@@#7201a8@@],[0.3333333333333333,@@#9c179e@@],[0.4444444444444444,@@#bd3786@@],[0.5555555555555556,@@#d8576b@@],[0.6666666666666666,@@#ed7953@@],[0.7777777777777778,@@#fb9f3a@@],[0.8888888888888888,@@#fdca26@@],[1.0,@@#f0f921@@]],@@sequentialminus@@:[[0.0,@@#0d0887@@],[0.1111111111111111,@@#46039f@@],[0.2222222222222222,@@#7201a8@@],[0.3333333333333333,@@#9c179e@@],[0.4444444444444444,@@#bd3786@@],[0.5555555555555556,@@#d8576b@@],[0.6666666666666666,@@#ed7953@@],[0.7777777777777778,@@#fb9f3a@@],[0.8888888888888888,@@#fdca26@@],[1.0,@@#f0f921@@]]},@@colorway@@:[@@#636efa@@,@@#EF553B@@,@@#00cc96@@,@@#ab63fa@@,@@#FFA15A@@,@@#19d3f3@@,@@#FF6692@@,@@#B6E880@@,@@#FF97FF@@,@@#FECB52@@],@@font@@:{@@color@@:@@#2a3f5f@@},@@geo@@:{@@bgcolor@@:@@white@@,@@lakecolor@@:@@white@@,@@landcolor@@:@@#E5ECF6@@,@@showlakes@@:true,@@showland@@:true,@@subunitcolor@@:@@white@@},@@hoverlabel@@:{@@align@@:@@left@@},@@hovermode@@:@@closest@@,@@mapbox@@:{@@style@@:@@light@@},@@paper_bgcolor@@:@@white@@,@@plot_bgcolor@@:@@#E5ECF6@@,@@polar@@:{@@angularaxis@@:{@@gridcolor@@:@@white@@,@@linecolor@@:@@white@@,@@ticks@@:@@@@},@@bgcolor@@:@@#E5ECF6@@,@@radialaxis@@:{@@gridcolor@@:@@white@@,@@linecolor@@:@@white@@,@@ticks@@:@@@@}},@@scene@@:{@@xaxis@@:{@@backgroundcolor@@:@@#E5ECF6@@,@@gridcolor@@:@@white@@,@@gridwidth@@:2,@@linecolor@@:@@white@@,@@showbackground@@:true,@@ticks@@:@@@@,@@zerolinecolor@@:@@white@@},@@yaxis@@:{@@backgroundcolor@@:@@#E5ECF6@@,@@gridcolor@@:@@white@@,@@gridwidth@@:2,@@linecolor@@:@@white@@,@@showbackground@@:true,@@ticks@@:@@@@,@@zerolinecolor@@:@@white@@},@@zaxis@@:{@@backgroundcolor@@:@@#E5ECF6@@,@@gridcolor@@:@@white@@,@@gridwidth@@:2,@@linecolor@@:@@white@@,@@showbackground@@:true,@@ticks@@:@@@@,@@zerolinecolor@@:@@white@@}},@@shapedefaults@@:{@@line@@:{@@color@@:@@#2a3f5f@@}},@@ternary@@:{@@aaxis@@:{@@gridcolor@@:@@white@@,@@linecolor@@:@@white@@,@@ticks@@:@@@@},@@baxis@@:{@@gridcolor@@:@@white@@,@@linecolor@@:@@white@@,@@ticks@@:@@@@},@@bgcolor@@:@@#E5ECF6@@,@@caxis@@:{@@gridcolor@@:@@white@@,@@linecolor@@:@@white@@,@@ticks@@:@@@@}},@@title@@:{@@x@@:0.05},@@xaxis@@:{@@automargin@@:true,@@gridcolor@@:@@white@@,@@linecolor@@:@@white@@,@@ticks@@:@@@@,@@title@@:{@@standoff@@:15},@@zerolinecolor@@:@@white@@,@@zerolinewidth@@:2},@@yaxis@@:{@@automargin@@:true,@@gridcolor@@:@@white@@,@@linecolor@@:@@white@@,@@ticks@@:@@@@,@@title@@:{@@standoff@@:15},@@zerolinecolor@@:@@white@@,@@zerolinewidth@@:2}}},@@title@@:{@@text@@:@@Stacked Distribution of Product Count by Sector and Category@@},@@xaxis@@:{@@anchor@@:@@y@@,@@domain@@:[0.0,1.0],@@title@@:{@@text@@:@@Sector@@}},@@yaxis@@:{@@anchor@@:@@x@@,@@domain@@:[0.0,1.0],@@title@@:{@@text@@:@@Product Count@@}}},                        {@@responsive@@: true}                    )', 'id': 9, 'name': 'Distribution of Product Count by Sector and Category', 'title': 'Distribution of Product Count by Sector and Category', 'type': 'plotly', 'resultType': 3, 'visibility': 'EXPANDED', 'time': 'Oct 02, 2024 03:17:15 AM'}\n",
      "Error : HTTPConnectionPool(host='localhost', port=80): Max retries exceeded with url: / (Caused by NewConnectionError('<urllib3.connection.HTTPConnection object at 0x13445b4d0>: Failed to establish a new connection: [Errno 61] Connection refused'))\n"
     ]
    }
   ],
   "source": [
    "# Grouping the data by sector and category, counting the number of SKUIDs (product count)\n",
    "grouped_data = filtered_df.groupby(['SECTOR', 'CATEGORY'], as_index=False).agg({\n",
    "    'SKUID': 'count'  # Counting the number of SKUIDs (product count) for each sector-category pair\n",
    "})\n",
    "\n",
    "# Create a stacked bar plot using plotly express for product count by sector and category\n",
    "fig = px.bar(\n",
    "    grouped_data, \n",
    "    x='SECTOR', \n",
    "    y='SKUID', \n",
    "    color='CATEGORY', \n",
    "    title='Stacked Distribution of Product Count by Sector and Category',\n",
    "    labels={'SECTOR': 'Sector', 'SKUID': 'Product Count', 'CATEGORY': 'Category'},\n",
    "    barmode='stack' \n",
    ")\n",
    "\n",
    "\n",
    "test = plotly.offline.plot(fig, output_type='div', include_plotlyjs=False)\n",
    "example_plotly = f'{test}'\n",
    "restworkflowcontext.outPlotly(9, title=\"Distribution of Product Count by Sector and Category\", text=example_plotly)\n",
    "\n",
    "\n",
    "# fig.show()\n"
   ]
  },
  {
   "cell_type": "code",
   "execution_count": 89,
   "metadata": {},
   "outputs": [
    {
     "name": "stdout",
     "output_type": "stream",
     "text": [
      "webserverURL: \n",
      "http://localhost\n",
      "Sending Message: {\"progress\": \"30\", \"id\": 9, \"name\": \"Progress\", \"title\": \"Progress\", \"type\": \"progress\", \"resultType\": 3, \"visibility\": \"EXPANDED\", \"time\": \"Oct 02, 2024 03:17:15 AM\"}\n",
      "Error : HTTPConnectionPool(host='localhost', port=80): Max retries exceeded with url: / (Caused by NewConnectionError('<urllib3.connection.HTTPConnection object at 0x1346061b0>: Failed to establish a new connection: [Errno 61] Connection refused'))\n"
     ]
    }
   ],
   "source": [
    "progress = \"30\"\n",
    "restworkflowcontext.outputProgress(9, title=\"Progress\", progress=progress)"
   ]
  },
  {
   "cell_type": "markdown",
   "metadata": {
    "colab": {
     "base_uri": "https://localhost:8080/",
     "height": 542
    },
    "id": "AjZ3wicxlacE",
    "outputId": "866d9feb-dfc8-4ab9-fa98-c0dca27f0767"
   },
   "source": [
    "## Distribution of Product Quantity by Sector and Category"
   ]
  },
  {
   "cell_type": "code",
   "execution_count": 90,
   "metadata": {},
   "outputs": [
    {
     "name": "stdout",
     "output_type": "stream",
     "text": [
      "Check the Input type..\n",
      "There is a match\n",
      " And Input is string type.\n",
      "webserverURL: \n",
      "http://localhost\n",
      "Sending Message: {'text': 'Plotly.newPlot(                        @@b31f7782-de2a-42c5-91c8-d520fe35334e@@,                        [{@@alignmentgroup@@:@@True@@,@@hovertemplate@@:@@Category=LOTIONS\\\\u003cbr\\\\u003eSector=%{x}\\\\u003cbr\\\\u003eTotal Quantity=%{y}\\\\u003cextra\\\\u003e\\\\u003c\\\\u002fextra\\\\u003e@@,@@legendgroup@@:@@LOTIONS@@,@@marker@@:{@@color@@:@@#636efa@@,@@pattern@@:{@@shape@@:@@@@}},@@name@@:@@LOTIONS@@,@@offsetgroup@@:@@LOTIONS@@,@@orientation@@:@@v@@,@@showlegend@@:true,@@textposition@@:@@auto@@,@@x@@:[@@BCC@@],@@xaxis@@:@@x@@,@@y@@:[49862],@@yaxis@@:@@y@@,@@type@@:@@bar@@},{@@alignmentgroup@@:@@True@@,@@hovertemplate@@:@@Category=WIPES\\\\u003cbr\\\\u003eSector=%{x}\\\\u003cbr\\\\u003eTotal Quantity=%{y}\\\\u003cextra\\\\u003e\\\\u003c\\\\u002fextra\\\\u003e@@,@@legendgroup@@:@@WIPES@@,@@marker@@:{@@color@@:@@#EF553B@@,@@pattern@@:{@@shape@@:@@@@}},@@name@@:@@WIPES@@,@@offsetgroup@@:@@WIPES@@,@@orientation@@:@@v@@,@@showlegend@@:true,@@textposition@@:@@auto@@,@@x@@:[@@BCC@@],@@xaxis@@:@@x@@,@@y@@:[52789],@@yaxis@@:@@y@@,@@type@@:@@bar@@}],                        {@@barmode@@:@@stack@@,@@legend@@:{@@title@@:{@@text@@:@@Category@@},@@tracegroupgap@@:0},@@template@@:{@@data@@:{@@barpolar@@:[{@@marker@@:{@@line@@:{@@color@@:@@#E5ECF6@@,@@width@@:0.5},@@pattern@@:{@@fillmode@@:@@overlay@@,@@size@@:10,@@solidity@@:0.2}},@@type@@:@@barpolar@@}],@@bar@@:[{@@error_x@@:{@@color@@:@@#2a3f5f@@},@@error_y@@:{@@color@@:@@#2a3f5f@@},@@marker@@:{@@line@@:{@@color@@:@@#E5ECF6@@,@@width@@:0.5},@@pattern@@:{@@fillmode@@:@@overlay@@,@@size@@:10,@@solidity@@:0.2}},@@type@@:@@bar@@}],@@carpet@@:[{@@aaxis@@:{@@endlinecolor@@:@@#2a3f5f@@,@@gridcolor@@:@@white@@,@@linecolor@@:@@white@@,@@minorgridcolor@@:@@white@@,@@startlinecolor@@:@@#2a3f5f@@},@@baxis@@:{@@endlinecolor@@:@@#2a3f5f@@,@@gridcolor@@:@@white@@,@@linecolor@@:@@white@@,@@minorgridcolor@@:@@white@@,@@startlinecolor@@:@@#2a3f5f@@},@@type@@:@@carpet@@}],@@choropleth@@:[{@@colorbar@@:{@@outlinewidth@@:0,@@ticks@@:@@@@},@@type@@:@@choropleth@@}],@@contourcarpet@@:[{@@colorbar@@:{@@outlinewidth@@:0,@@ticks@@:@@@@},@@type@@:@@contourcarpet@@}],@@contour@@:[{@@colorbar@@:{@@outlinewidth@@:0,@@ticks@@:@@@@},@@colorscale@@:[[0.0,@@#0d0887@@],[0.1111111111111111,@@#46039f@@],[0.2222222222222222,@@#7201a8@@],[0.3333333333333333,@@#9c179e@@],[0.4444444444444444,@@#bd3786@@],[0.5555555555555556,@@#d8576b@@],[0.6666666666666666,@@#ed7953@@],[0.7777777777777778,@@#fb9f3a@@],[0.8888888888888888,@@#fdca26@@],[1.0,@@#f0f921@@]],@@type@@:@@contour@@}],@@heatmapgl@@:[{@@colorbar@@:{@@outlinewidth@@:0,@@ticks@@:@@@@},@@colorscale@@:[[0.0,@@#0d0887@@],[0.1111111111111111,@@#46039f@@],[0.2222222222222222,@@#7201a8@@],[0.3333333333333333,@@#9c179e@@],[0.4444444444444444,@@#bd3786@@],[0.5555555555555556,@@#d8576b@@],[0.6666666666666666,@@#ed7953@@],[0.7777777777777778,@@#fb9f3a@@],[0.8888888888888888,@@#fdca26@@],[1.0,@@#f0f921@@]],@@type@@:@@heatmapgl@@}],@@heatmap@@:[{@@colorbar@@:{@@outlinewidth@@:0,@@ticks@@:@@@@},@@colorscale@@:[[0.0,@@#0d0887@@],[0.1111111111111111,@@#46039f@@],[0.2222222222222222,@@#7201a8@@],[0.3333333333333333,@@#9c179e@@],[0.4444444444444444,@@#bd3786@@],[0.5555555555555556,@@#d8576b@@],[0.6666666666666666,@@#ed7953@@],[0.7777777777777778,@@#fb9f3a@@],[0.8888888888888888,@@#fdca26@@],[1.0,@@#f0f921@@]],@@type@@:@@heatmap@@}],@@histogram2dcontour@@:[{@@colorbar@@:{@@outlinewidth@@:0,@@ticks@@:@@@@},@@colorscale@@:[[0.0,@@#0d0887@@],[0.1111111111111111,@@#46039f@@],[0.2222222222222222,@@#7201a8@@],[0.3333333333333333,@@#9c179e@@],[0.4444444444444444,@@#bd3786@@],[0.5555555555555556,@@#d8576b@@],[0.6666666666666666,@@#ed7953@@],[0.7777777777777778,@@#fb9f3a@@],[0.8888888888888888,@@#fdca26@@],[1.0,@@#f0f921@@]],@@type@@:@@histogram2dcontour@@}],@@histogram2d@@:[{@@colorbar@@:{@@outlinewidth@@:0,@@ticks@@:@@@@},@@colorscale@@:[[0.0,@@#0d0887@@],[0.1111111111111111,@@#46039f@@],[0.2222222222222222,@@#7201a8@@],[0.3333333333333333,@@#9c179e@@],[0.4444444444444444,@@#bd3786@@],[0.5555555555555556,@@#d8576b@@],[0.6666666666666666,@@#ed7953@@],[0.7777777777777778,@@#fb9f3a@@],[0.8888888888888888,@@#fdca26@@],[1.0,@@#f0f921@@]],@@type@@:@@histogram2d@@}],@@histogram@@:[{@@marker@@:{@@pattern@@:{@@fillmode@@:@@overlay@@,@@size@@:10,@@solidity@@:0.2}},@@type@@:@@histogram@@}],@@mesh3d@@:[{@@colorbar@@:{@@outlinewidth@@:0,@@ticks@@:@@@@},@@type@@:@@mesh3d@@}],@@parcoords@@:[{@@line@@:{@@colorbar@@:{@@outlinewidth@@:0,@@ticks@@:@@@@}},@@type@@:@@parcoords@@}],@@pie@@:[{@@automargin@@:true,@@type@@:@@pie@@}],@@scatter3d@@:[{@@line@@:{@@colorbar@@:{@@outlinewidth@@:0,@@ticks@@:@@@@}},@@marker@@:{@@colorbar@@:{@@outlinewidth@@:0,@@ticks@@:@@@@}},@@type@@:@@scatter3d@@}],@@scattercarpet@@:[{@@marker@@:{@@colorbar@@:{@@outlinewidth@@:0,@@ticks@@:@@@@}},@@type@@:@@scattercarpet@@}],@@scattergeo@@:[{@@marker@@:{@@colorbar@@:{@@outlinewidth@@:0,@@ticks@@:@@@@}},@@type@@:@@scattergeo@@}],@@scattergl@@:[{@@marker@@:{@@colorbar@@:{@@outlinewidth@@:0,@@ticks@@:@@@@}},@@type@@:@@scattergl@@}],@@scattermapbox@@:[{@@marker@@:{@@colorbar@@:{@@outlinewidth@@:0,@@ticks@@:@@@@}},@@type@@:@@scattermapbox@@}],@@scatterpolargl@@:[{@@marker@@:{@@colorbar@@:{@@outlinewidth@@:0,@@ticks@@:@@@@}},@@type@@:@@scatterpolargl@@}],@@scatterpolar@@:[{@@marker@@:{@@colorbar@@:{@@outlinewidth@@:0,@@ticks@@:@@@@}},@@type@@:@@scatterpolar@@}],@@scatter@@:[{@@fillpattern@@:{@@fillmode@@:@@overlay@@,@@size@@:10,@@solidity@@:0.2},@@type@@:@@scatter@@}],@@scatterternary@@:[{@@marker@@:{@@colorbar@@:{@@outlinewidth@@:0,@@ticks@@:@@@@}},@@type@@:@@scatterternary@@}],@@surface@@:[{@@colorbar@@:{@@outlinewidth@@:0,@@ticks@@:@@@@},@@colorscale@@:[[0.0,@@#0d0887@@],[0.1111111111111111,@@#46039f@@],[0.2222222222222222,@@#7201a8@@],[0.3333333333333333,@@#9c179e@@],[0.4444444444444444,@@#bd3786@@],[0.5555555555555556,@@#d8576b@@],[0.6666666666666666,@@#ed7953@@],[0.7777777777777778,@@#fb9f3a@@],[0.8888888888888888,@@#fdca26@@],[1.0,@@#f0f921@@]],@@type@@:@@surface@@}],@@table@@:[{@@cells@@:{@@fill@@:{@@color@@:@@#EBF0F8@@},@@line@@:{@@color@@:@@white@@}},@@header@@:{@@fill@@:{@@color@@:@@#C8D4E3@@},@@line@@:{@@color@@:@@white@@}},@@type@@:@@table@@}]},@@layout@@:{@@annotationdefaults@@:{@@arrowcolor@@:@@#2a3f5f@@,@@arrowhead@@:0,@@arrowwidth@@:1},@@autotypenumbers@@:@@strict@@,@@coloraxis@@:{@@colorbar@@:{@@outlinewidth@@:0,@@ticks@@:@@@@}},@@colorscale@@:{@@diverging@@:[[0,@@#8e0152@@],[0.1,@@#c51b7d@@],[0.2,@@#de77ae@@],[0.3,@@#f1b6da@@],[0.4,@@#fde0ef@@],[0.5,@@#f7f7f7@@],[0.6,@@#e6f5d0@@],[0.7,@@#b8e186@@],[0.8,@@#7fbc41@@],[0.9,@@#4d9221@@],[1,@@#276419@@]],@@sequential@@:[[0.0,@@#0d0887@@],[0.1111111111111111,@@#46039f@@],[0.2222222222222222,@@#7201a8@@],[0.3333333333333333,@@#9c179e@@],[0.4444444444444444,@@#bd3786@@],[0.5555555555555556,@@#d8576b@@],[0.6666666666666666,@@#ed7953@@],[0.7777777777777778,@@#fb9f3a@@],[0.8888888888888888,@@#fdca26@@],[1.0,@@#f0f921@@]],@@sequentialminus@@:[[0.0,@@#0d0887@@],[0.1111111111111111,@@#46039f@@],[0.2222222222222222,@@#7201a8@@],[0.3333333333333333,@@#9c179e@@],[0.4444444444444444,@@#bd3786@@],[0.5555555555555556,@@#d8576b@@],[0.6666666666666666,@@#ed7953@@],[0.7777777777777778,@@#fb9f3a@@],[0.8888888888888888,@@#fdca26@@],[1.0,@@#f0f921@@]]},@@colorway@@:[@@#636efa@@,@@#EF553B@@,@@#00cc96@@,@@#ab63fa@@,@@#FFA15A@@,@@#19d3f3@@,@@#FF6692@@,@@#B6E880@@,@@#FF97FF@@,@@#FECB52@@],@@font@@:{@@color@@:@@#2a3f5f@@},@@geo@@:{@@bgcolor@@:@@white@@,@@lakecolor@@:@@white@@,@@landcolor@@:@@#E5ECF6@@,@@showlakes@@:true,@@showland@@:true,@@subunitcolor@@:@@white@@},@@hoverlabel@@:{@@align@@:@@left@@},@@hovermode@@:@@closest@@,@@mapbox@@:{@@style@@:@@light@@},@@paper_bgcolor@@:@@white@@,@@plot_bgcolor@@:@@#E5ECF6@@,@@polar@@:{@@angularaxis@@:{@@gridcolor@@:@@white@@,@@linecolor@@:@@white@@,@@ticks@@:@@@@},@@bgcolor@@:@@#E5ECF6@@,@@radialaxis@@:{@@gridcolor@@:@@white@@,@@linecolor@@:@@white@@,@@ticks@@:@@@@}},@@scene@@:{@@xaxis@@:{@@backgroundcolor@@:@@#E5ECF6@@,@@gridcolor@@:@@white@@,@@gridwidth@@:2,@@linecolor@@:@@white@@,@@showbackground@@:true,@@ticks@@:@@@@,@@zerolinecolor@@:@@white@@},@@yaxis@@:{@@backgroundcolor@@:@@#E5ECF6@@,@@gridcolor@@:@@white@@,@@gridwidth@@:2,@@linecolor@@:@@white@@,@@showbackground@@:true,@@ticks@@:@@@@,@@zerolinecolor@@:@@white@@},@@zaxis@@:{@@backgroundcolor@@:@@#E5ECF6@@,@@gridcolor@@:@@white@@,@@gridwidth@@:2,@@linecolor@@:@@white@@,@@showbackground@@:true,@@ticks@@:@@@@,@@zerolinecolor@@:@@white@@}},@@shapedefaults@@:{@@line@@:{@@color@@:@@#2a3f5f@@}},@@ternary@@:{@@aaxis@@:{@@gridcolor@@:@@white@@,@@linecolor@@:@@white@@,@@ticks@@:@@@@},@@baxis@@:{@@gridcolor@@:@@white@@,@@linecolor@@:@@white@@,@@ticks@@:@@@@},@@bgcolor@@:@@#E5ECF6@@,@@caxis@@:{@@gridcolor@@:@@white@@,@@linecolor@@:@@white@@,@@ticks@@:@@@@}},@@title@@:{@@x@@:0.05},@@xaxis@@:{@@automargin@@:true,@@gridcolor@@:@@white@@,@@linecolor@@:@@white@@,@@ticks@@:@@@@,@@title@@:{@@standoff@@:15},@@zerolinecolor@@:@@white@@,@@zerolinewidth@@:2},@@yaxis@@:{@@automargin@@:true,@@gridcolor@@:@@white@@,@@linecolor@@:@@white@@,@@ticks@@:@@@@,@@title@@:{@@standoff@@:15},@@zerolinecolor@@:@@white@@,@@zerolinewidth@@:2}}},@@title@@:{@@text@@:@@Stacked Distribution of Product Quantity by Sector and Category@@},@@xaxis@@:{@@anchor@@:@@y@@,@@domain@@:[0.0,1.0],@@title@@:{@@text@@:@@Sector@@}},@@yaxis@@:{@@anchor@@:@@x@@,@@domain@@:[0.0,1.0],@@title@@:{@@text@@:@@Total Quantity@@}}},                        {@@responsive@@: true}                    )', 'id': 9, 'name': 'Distribution of Product Quantity by Sector and Category', 'title': 'Distribution of Product Quantity by Sector and Category', 'type': 'plotly', 'resultType': 3, 'visibility': 'EXPANDED', 'time': 'Oct 02, 2024 03:17:15 AM'}\n",
      "Error : HTTPConnectionPool(host='localhost', port=80): Max retries exceeded with url: / (Caused by NewConnectionError('<urllib3.connection.HTTPConnection object at 0x134607da0>: Failed to establish a new connection: [Errno 61] Connection refused'))\n"
     ]
    }
   ],
   "source": [
    "# Grouping the data by sector and category, summing the quantity (QTY)\n",
    "grouped_data = filtered_df.groupby(['SECTOR', 'CATEGORY'], as_index=False).agg({\n",
    "    'QTY': 'sum'  # Summing the quantity (QTY) for each sector-category pair\n",
    "})\n",
    "\n",
    "# Create a stacked bar plot using plotly express for product quantity by sector and category\n",
    "fig = px.bar(\n",
    "    grouped_data, \n",
    "    x='SECTOR', \n",
    "    y='QTY', \n",
    "    color='CATEGORY', \n",
    "    title='Stacked Distribution of Product Quantity by Sector and Category',\n",
    "    labels={'SECTOR': 'Sector', 'QTY': 'Total Quantity', 'CATEGORY': 'Category'},\n",
    "    barmode='stack' \n",
    ")\n",
    "\n",
    "\n",
    "test = plotly.offline.plot(fig, output_type='div', include_plotlyjs=False)\n",
    "example_plotly = f'{test}'\n",
    "restworkflowcontext.outPlotly(9, title=\"Distribution of Product Quantity by Sector and Category\", text=example_plotly)\n",
    "\n",
    "\n",
    "# fig.show()\n"
   ]
  },
  {
   "cell_type": "code",
   "execution_count": 91,
   "metadata": {},
   "outputs": [
    {
     "name": "stdout",
     "output_type": "stream",
     "text": [
      "webserverURL: \n",
      "http://localhost\n",
      "Sending Message: {\"progress\": \"35\", \"id\": 9, \"name\": \"Progress\", \"title\": \"Progress\", \"type\": \"progress\", \"resultType\": 3, \"visibility\": \"EXPANDED\", \"time\": \"Oct 02, 2024 03:17:15 AM\"}\n",
      "Error : HTTPConnectionPool(host='localhost', port=80): Max retries exceeded with url: / (Caused by NewConnectionError('<urllib3.connection.HTTPConnection object at 0x134839100>: Failed to establish a new connection: [Errno 61] Connection refused'))\n"
     ]
    }
   ],
   "source": [
    "progress = \"35\"\n",
    "restworkflowcontext.outputProgress(9, title=\"Progress\", progress=progress)"
   ]
  },
  {
   "cell_type": "markdown",
   "metadata": {},
   "source": [
    "## Distribution of Invoices by Month"
   ]
  },
  {
   "cell_type": "code",
   "execution_count": 92,
   "metadata": {},
   "outputs": [
    {
     "name": "stdout",
     "output_type": "stream",
     "text": [
      "Check the Input type..\n",
      "There is a match\n",
      " And Input is string type.\n",
      "webserverURL: \n",
      "http://localhost\n",
      "Sending Message: {'text': 'Plotly.newPlot(                        @@7cd4823a-06e3-49fc-9160-eceb4c926714@@,                        [{@@alignmentgroup@@:@@True@@,@@hovertemplate@@:@@Month=%{x}\\\\u003cbr\\\\u003eNumber of Invoices=%{y}\\\\u003cextra\\\\u003e\\\\u003c\\\\u002fextra\\\\u003e@@,@@legendgroup@@:@@January@@,@@marker@@:{@@color@@:@@#636efa@@,@@pattern@@:{@@shape@@:@@@@}},@@name@@:@@January@@,@@offsetgroup@@:@@January@@,@@orientation@@:@@v@@,@@showlegend@@:true,@@textposition@@:@@auto@@,@@x@@:[@@January@@],@@xaxis@@:@@x@@,@@y@@:[330],@@yaxis@@:@@y@@,@@type@@:@@bar@@},{@@alignmentgroup@@:@@True@@,@@hovertemplate@@:@@Month=%{x}\\\\u003cbr\\\\u003eNumber of Invoices=%{y}\\\\u003cextra\\\\u003e\\\\u003c\\\\u002fextra\\\\u003e@@,@@legendgroup@@:@@February@@,@@marker@@:{@@color@@:@@#EF553B@@,@@pattern@@:{@@shape@@:@@@@}},@@name@@:@@February@@,@@offsetgroup@@:@@February@@,@@orientation@@:@@v@@,@@showlegend@@:true,@@textposition@@:@@auto@@,@@x@@:[@@February@@],@@xaxis@@:@@x@@,@@y@@:[476],@@yaxis@@:@@y@@,@@type@@:@@bar@@},{@@alignmentgroup@@:@@True@@,@@hovertemplate@@:@@Month=%{x}\\\\u003cbr\\\\u003eNumber of Invoices=%{y}\\\\u003cextra\\\\u003e\\\\u003c\\\\u002fextra\\\\u003e@@,@@legendgroup@@:@@March@@,@@marker@@:{@@color@@:@@#00cc96@@,@@pattern@@:{@@shape@@:@@@@}},@@name@@:@@March@@,@@offsetgroup@@:@@March@@,@@orientation@@:@@v@@,@@showlegend@@:true,@@textposition@@:@@auto@@,@@x@@:[@@March@@],@@xaxis@@:@@x@@,@@y@@:[217],@@yaxis@@:@@y@@,@@type@@:@@bar@@},{@@alignmentgroup@@:@@True@@,@@hovertemplate@@:@@Month=%{x}\\\\u003cbr\\\\u003eNumber of Invoices=%{y}\\\\u003cextra\\\\u003e\\\\u003c\\\\u002fextra\\\\u003e@@,@@legendgroup@@:@@April@@,@@marker@@:{@@color@@:@@#ab63fa@@,@@pattern@@:{@@shape@@:@@@@}},@@name@@:@@April@@,@@offsetgroup@@:@@April@@,@@orientation@@:@@v@@,@@showlegend@@:true,@@textposition@@:@@auto@@,@@x@@:[@@April@@],@@xaxis@@:@@x@@,@@y@@:[240],@@yaxis@@:@@y@@,@@type@@:@@bar@@},{@@alignmentgroup@@:@@True@@,@@hovertemplate@@:@@Month=%{x}\\\\u003cbr\\\\u003eNumber of Invoices=%{y}\\\\u003cextra\\\\u003e\\\\u003c\\\\u002fextra\\\\u003e@@,@@legendgroup@@:@@May@@,@@marker@@:{@@color@@:@@#FFA15A@@,@@pattern@@:{@@shape@@:@@@@}},@@name@@:@@May@@,@@offsetgroup@@:@@May@@,@@orientation@@:@@v@@,@@showlegend@@:true,@@textposition@@:@@auto@@,@@x@@:[@@May@@],@@xaxis@@:@@x@@,@@y@@:[467],@@yaxis@@:@@y@@,@@type@@:@@bar@@},{@@alignmentgroup@@:@@True@@,@@hovertemplate@@:@@Month=%{x}\\\\u003cbr\\\\u003eNumber of Invoices=%{y}\\\\u003cextra\\\\u003e\\\\u003c\\\\u002fextra\\\\u003e@@,@@legendgroup@@:@@June@@,@@marker@@:{@@color@@:@@#19d3f3@@,@@pattern@@:{@@shape@@:@@@@}},@@name@@:@@June@@,@@offsetgroup@@:@@June@@,@@orientation@@:@@v@@,@@showlegend@@:true,@@textposition@@:@@auto@@,@@x@@:[@@June@@],@@xaxis@@:@@x@@,@@y@@:[120],@@yaxis@@:@@y@@,@@type@@:@@bar@@},{@@alignmentgroup@@:@@True@@,@@hovertemplate@@:@@Month=%{x}\\\\u003cbr\\\\u003eNumber of Invoices=%{y}\\\\u003cextra\\\\u003e\\\\u003c\\\\u002fextra\\\\u003e@@,@@legendgroup@@:@@July@@,@@marker@@:{@@color@@:@@#FF6692@@,@@pattern@@:{@@shape@@:@@@@}},@@name@@:@@July@@,@@offsetgroup@@:@@July@@,@@orientation@@:@@v@@,@@showlegend@@:true,@@textposition@@:@@auto@@,@@x@@:[@@July@@],@@xaxis@@:@@x@@,@@y@@:[248],@@yaxis@@:@@y@@,@@type@@:@@bar@@},{@@alignmentgroup@@:@@True@@,@@hovertemplate@@:@@Month=%{x}\\\\u003cbr\\\\u003eNumber of Invoices=%{y}\\\\u003cextra\\\\u003e\\\\u003c\\\\u002fextra\\\\u003e@@,@@legendgroup@@:@@August@@,@@marker@@:{@@color@@:@@#B6E880@@,@@pattern@@:{@@shape@@:@@@@}},@@name@@:@@August@@,@@offsetgroup@@:@@August@@,@@orientation@@:@@v@@,@@showlegend@@:true,@@textposition@@:@@auto@@,@@x@@:[@@August@@],@@xaxis@@:@@x@@,@@y@@:[248],@@yaxis@@:@@y@@,@@type@@:@@bar@@},{@@alignmentgroup@@:@@True@@,@@hovertemplate@@:@@Month=%{x}\\\\u003cbr\\\\u003eNumber of Invoices=%{y}\\\\u003cextra\\\\u003e\\\\u003c\\\\u002fextra\\\\u003e@@,@@legendgroup@@:@@September@@,@@marker@@:{@@color@@:@@#FF97FF@@,@@pattern@@:{@@shape@@:@@@@}},@@name@@:@@September@@,@@offsetgroup@@:@@September@@,@@orientation@@:@@v@@,@@showlegend@@:true,@@textposition@@:@@auto@@,@@x@@:[@@September@@],@@xaxis@@:@@x@@,@@y@@:[196],@@yaxis@@:@@y@@,@@type@@:@@bar@@},{@@alignmentgroup@@:@@True@@,@@hovertemplate@@:@@Month=%{x}\\\\u003cbr\\\\u003eNumber of Invoices=%{y}\\\\u003cextra\\\\u003e\\\\u003c\\\\u002fextra\\\\u003e@@,@@legendgroup@@:@@October@@,@@marker@@:{@@color@@:@@#FECB52@@,@@pattern@@:{@@shape@@:@@@@}},@@name@@:@@October@@,@@offsetgroup@@:@@October@@,@@orientation@@:@@v@@,@@showlegend@@:true,@@textposition@@:@@auto@@,@@x@@:[@@October@@],@@xaxis@@:@@x@@,@@y@@:[120],@@yaxis@@:@@y@@,@@type@@:@@bar@@},{@@alignmentgroup@@:@@True@@,@@hovertemplate@@:@@Month=%{x}\\\\u003cbr\\\\u003eNumber of Invoices=%{y}\\\\u003cextra\\\\u003e\\\\u003c\\\\u002fextra\\\\u003e@@,@@legendgroup@@:@@November@@,@@marker@@:{@@color@@:@@#636efa@@,@@pattern@@:{@@shape@@:@@@@}},@@name@@:@@November@@,@@offsetgroup@@:@@November@@,@@orientation@@:@@v@@,@@showlegend@@:true,@@textposition@@:@@auto@@,@@x@@:[@@November@@],@@xaxis@@:@@x@@,@@y@@:[120],@@yaxis@@:@@y@@,@@type@@:@@bar@@}],                        {@@barmode@@:@@relative@@,@@legend@@:{@@title@@:{@@text@@:@@Month@@},@@tracegroupgap@@:0},@@template@@:{@@data@@:{@@barpolar@@:[{@@marker@@:{@@line@@:{@@color@@:@@#E5ECF6@@,@@width@@:0.5},@@pattern@@:{@@fillmode@@:@@overlay@@,@@size@@:10,@@solidity@@:0.2}},@@type@@:@@barpolar@@}],@@bar@@:[{@@error_x@@:{@@color@@:@@#2a3f5f@@},@@error_y@@:{@@color@@:@@#2a3f5f@@},@@marker@@:{@@line@@:{@@color@@:@@#E5ECF6@@,@@width@@:0.5},@@pattern@@:{@@fillmode@@:@@overlay@@,@@size@@:10,@@solidity@@:0.2}},@@type@@:@@bar@@}],@@carpet@@:[{@@aaxis@@:{@@endlinecolor@@:@@#2a3f5f@@,@@gridcolor@@:@@white@@,@@linecolor@@:@@white@@,@@minorgridcolor@@:@@white@@,@@startlinecolor@@:@@#2a3f5f@@},@@baxis@@:{@@endlinecolor@@:@@#2a3f5f@@,@@gridcolor@@:@@white@@,@@linecolor@@:@@white@@,@@minorgridcolor@@:@@white@@,@@startlinecolor@@:@@#2a3f5f@@},@@type@@:@@carpet@@}],@@choropleth@@:[{@@colorbar@@:{@@outlinewidth@@:0,@@ticks@@:@@@@},@@type@@:@@choropleth@@}],@@contourcarpet@@:[{@@colorbar@@:{@@outlinewidth@@:0,@@ticks@@:@@@@},@@type@@:@@contourcarpet@@}],@@contour@@:[{@@colorbar@@:{@@outlinewidth@@:0,@@ticks@@:@@@@},@@colorscale@@:[[0.0,@@#0d0887@@],[0.1111111111111111,@@#46039f@@],[0.2222222222222222,@@#7201a8@@],[0.3333333333333333,@@#9c179e@@],[0.4444444444444444,@@#bd3786@@],[0.5555555555555556,@@#d8576b@@],[0.6666666666666666,@@#ed7953@@],[0.7777777777777778,@@#fb9f3a@@],[0.8888888888888888,@@#fdca26@@],[1.0,@@#f0f921@@]],@@type@@:@@contour@@}],@@heatmapgl@@:[{@@colorbar@@:{@@outlinewidth@@:0,@@ticks@@:@@@@},@@colorscale@@:[[0.0,@@#0d0887@@],[0.1111111111111111,@@#46039f@@],[0.2222222222222222,@@#7201a8@@],[0.3333333333333333,@@#9c179e@@],[0.4444444444444444,@@#bd3786@@],[0.5555555555555556,@@#d8576b@@],[0.6666666666666666,@@#ed7953@@],[0.7777777777777778,@@#fb9f3a@@],[0.8888888888888888,@@#fdca26@@],[1.0,@@#f0f921@@]],@@type@@:@@heatmapgl@@}],@@heatmap@@:[{@@colorbar@@:{@@outlinewidth@@:0,@@ticks@@:@@@@},@@colorscale@@:[[0.0,@@#0d0887@@],[0.1111111111111111,@@#46039f@@],[0.2222222222222222,@@#7201a8@@],[0.3333333333333333,@@#9c179e@@],[0.4444444444444444,@@#bd3786@@],[0.5555555555555556,@@#d8576b@@],[0.6666666666666666,@@#ed7953@@],[0.7777777777777778,@@#fb9f3a@@],[0.8888888888888888,@@#fdca26@@],[1.0,@@#f0f921@@]],@@type@@:@@heatmap@@}],@@histogram2dcontour@@:[{@@colorbar@@:{@@outlinewidth@@:0,@@ticks@@:@@@@},@@colorscale@@:[[0.0,@@#0d0887@@],[0.1111111111111111,@@#46039f@@],[0.2222222222222222,@@#7201a8@@],[0.3333333333333333,@@#9c179e@@],[0.4444444444444444,@@#bd3786@@],[0.5555555555555556,@@#d8576b@@],[0.6666666666666666,@@#ed7953@@],[0.7777777777777778,@@#fb9f3a@@],[0.8888888888888888,@@#fdca26@@],[1.0,@@#f0f921@@]],@@type@@:@@histogram2dcontour@@}],@@histogram2d@@:[{@@colorbar@@:{@@outlinewidth@@:0,@@ticks@@:@@@@},@@colorscale@@:[[0.0,@@#0d0887@@],[0.1111111111111111,@@#46039f@@],[0.2222222222222222,@@#7201a8@@],[0.3333333333333333,@@#9c179e@@],[0.4444444444444444,@@#bd3786@@],[0.5555555555555556,@@#d8576b@@],[0.6666666666666666,@@#ed7953@@],[0.7777777777777778,@@#fb9f3a@@],[0.8888888888888888,@@#fdca26@@],[1.0,@@#f0f921@@]],@@type@@:@@histogram2d@@}],@@histogram@@:[{@@marker@@:{@@pattern@@:{@@fillmode@@:@@overlay@@,@@size@@:10,@@solidity@@:0.2}},@@type@@:@@histogram@@}],@@mesh3d@@:[{@@colorbar@@:{@@outlinewidth@@:0,@@ticks@@:@@@@},@@type@@:@@mesh3d@@}],@@parcoords@@:[{@@line@@:{@@colorbar@@:{@@outlinewidth@@:0,@@ticks@@:@@@@}},@@type@@:@@parcoords@@}],@@pie@@:[{@@automargin@@:true,@@type@@:@@pie@@}],@@scatter3d@@:[{@@line@@:{@@colorbar@@:{@@outlinewidth@@:0,@@ticks@@:@@@@}},@@marker@@:{@@colorbar@@:{@@outlinewidth@@:0,@@ticks@@:@@@@}},@@type@@:@@scatter3d@@}],@@scattercarpet@@:[{@@marker@@:{@@colorbar@@:{@@outlinewidth@@:0,@@ticks@@:@@@@}},@@type@@:@@scattercarpet@@}],@@scattergeo@@:[{@@marker@@:{@@colorbar@@:{@@outlinewidth@@:0,@@ticks@@:@@@@}},@@type@@:@@scattergeo@@}],@@scattergl@@:[{@@marker@@:{@@colorbar@@:{@@outlinewidth@@:0,@@ticks@@:@@@@}},@@type@@:@@scattergl@@}],@@scattermapbox@@:[{@@marker@@:{@@colorbar@@:{@@outlinewidth@@:0,@@ticks@@:@@@@}},@@type@@:@@scattermapbox@@}],@@scatterpolargl@@:[{@@marker@@:{@@colorbar@@:{@@outlinewidth@@:0,@@ticks@@:@@@@}},@@type@@:@@scatterpolargl@@}],@@scatterpolar@@:[{@@marker@@:{@@colorbar@@:{@@outlinewidth@@:0,@@ticks@@:@@@@}},@@type@@:@@scatterpolar@@}],@@scatter@@:[{@@fillpattern@@:{@@fillmode@@:@@overlay@@,@@size@@:10,@@solidity@@:0.2},@@type@@:@@scatter@@}],@@scatterternary@@:[{@@marker@@:{@@colorbar@@:{@@outlinewidth@@:0,@@ticks@@:@@@@}},@@type@@:@@scatterternary@@}],@@surface@@:[{@@colorbar@@:{@@outlinewidth@@:0,@@ticks@@:@@@@},@@colorscale@@:[[0.0,@@#0d0887@@],[0.1111111111111111,@@#46039f@@],[0.2222222222222222,@@#7201a8@@],[0.3333333333333333,@@#9c179e@@],[0.4444444444444444,@@#bd3786@@],[0.5555555555555556,@@#d8576b@@],[0.6666666666666666,@@#ed7953@@],[0.7777777777777778,@@#fb9f3a@@],[0.8888888888888888,@@#fdca26@@],[1.0,@@#f0f921@@]],@@type@@:@@surface@@}],@@table@@:[{@@cells@@:{@@fill@@:{@@color@@:@@#EBF0F8@@},@@line@@:{@@color@@:@@white@@}},@@header@@:{@@fill@@:{@@color@@:@@#C8D4E3@@},@@line@@:{@@color@@:@@white@@}},@@type@@:@@table@@}]},@@layout@@:{@@annotationdefaults@@:{@@arrowcolor@@:@@#2a3f5f@@,@@arrowhead@@:0,@@arrowwidth@@:1},@@autotypenumbers@@:@@strict@@,@@coloraxis@@:{@@colorbar@@:{@@outlinewidth@@:0,@@ticks@@:@@@@}},@@colorscale@@:{@@diverging@@:[[0,@@#8e0152@@],[0.1,@@#c51b7d@@],[0.2,@@#de77ae@@],[0.3,@@#f1b6da@@],[0.4,@@#fde0ef@@],[0.5,@@#f7f7f7@@],[0.6,@@#e6f5d0@@],[0.7,@@#b8e186@@],[0.8,@@#7fbc41@@],[0.9,@@#4d9221@@],[1,@@#276419@@]],@@sequential@@:[[0.0,@@#0d0887@@],[0.1111111111111111,@@#46039f@@],[0.2222222222222222,@@#7201a8@@],[0.3333333333333333,@@#9c179e@@],[0.4444444444444444,@@#bd3786@@],[0.5555555555555556,@@#d8576b@@],[0.6666666666666666,@@#ed7953@@],[0.7777777777777778,@@#fb9f3a@@],[0.8888888888888888,@@#fdca26@@],[1.0,@@#f0f921@@]],@@sequentialminus@@:[[0.0,@@#0d0887@@],[0.1111111111111111,@@#46039f@@],[0.2222222222222222,@@#7201a8@@],[0.3333333333333333,@@#9c179e@@],[0.4444444444444444,@@#bd3786@@],[0.5555555555555556,@@#d8576b@@],[0.6666666666666666,@@#ed7953@@],[0.7777777777777778,@@#fb9f3a@@],[0.8888888888888888,@@#fdca26@@],[1.0,@@#f0f921@@]]},@@colorway@@:[@@#636efa@@,@@#EF553B@@,@@#00cc96@@,@@#ab63fa@@,@@#FFA15A@@,@@#19d3f3@@,@@#FF6692@@,@@#B6E880@@,@@#FF97FF@@,@@#FECB52@@],@@font@@:{@@color@@:@@#2a3f5f@@},@@geo@@:{@@bgcolor@@:@@white@@,@@lakecolor@@:@@white@@,@@landcolor@@:@@#E5ECF6@@,@@showlakes@@:true,@@showland@@:true,@@subunitcolor@@:@@white@@},@@hoverlabel@@:{@@align@@:@@left@@},@@hovermode@@:@@closest@@,@@mapbox@@:{@@style@@:@@light@@},@@paper_bgcolor@@:@@white@@,@@plot_bgcolor@@:@@#E5ECF6@@,@@polar@@:{@@angularaxis@@:{@@gridcolor@@:@@white@@,@@linecolor@@:@@white@@,@@ticks@@:@@@@},@@bgcolor@@:@@#E5ECF6@@,@@radialaxis@@:{@@gridcolor@@:@@white@@,@@linecolor@@:@@white@@,@@ticks@@:@@@@}},@@scene@@:{@@xaxis@@:{@@backgroundcolor@@:@@#E5ECF6@@,@@gridcolor@@:@@white@@,@@gridwidth@@:2,@@linecolor@@:@@white@@,@@showbackground@@:true,@@ticks@@:@@@@,@@zerolinecolor@@:@@white@@},@@yaxis@@:{@@backgroundcolor@@:@@#E5ECF6@@,@@gridcolor@@:@@white@@,@@gridwidth@@:2,@@linecolor@@:@@white@@,@@showbackground@@:true,@@ticks@@:@@@@,@@zerolinecolor@@:@@white@@},@@zaxis@@:{@@backgroundcolor@@:@@#E5ECF6@@,@@gridcolor@@:@@white@@,@@gridwidth@@:2,@@linecolor@@:@@white@@,@@showbackground@@:true,@@ticks@@:@@@@,@@zerolinecolor@@:@@white@@}},@@shapedefaults@@:{@@line@@:{@@color@@:@@#2a3f5f@@}},@@ternary@@:{@@aaxis@@:{@@gridcolor@@:@@white@@,@@linecolor@@:@@white@@,@@ticks@@:@@@@},@@baxis@@:{@@gridcolor@@:@@white@@,@@linecolor@@:@@white@@,@@ticks@@:@@@@},@@bgcolor@@:@@#E5ECF6@@,@@caxis@@:{@@gridcolor@@:@@white@@,@@linecolor@@:@@white@@,@@ticks@@:@@@@}},@@title@@:{@@x@@:0.05},@@xaxis@@:{@@automargin@@:true,@@gridcolor@@:@@white@@,@@linecolor@@:@@white@@,@@ticks@@:@@@@,@@title@@:{@@standoff@@:15},@@zerolinecolor@@:@@white@@,@@zerolinewidth@@:2},@@yaxis@@:{@@automargin@@:true,@@gridcolor@@:@@white@@,@@linecolor@@:@@white@@,@@ticks@@:@@@@,@@title@@:{@@standoff@@:15},@@zerolinecolor@@:@@white@@,@@zerolinewidth@@:2}}},@@title@@:{@@text@@:@@Distribution of Invoices by Month@@},@@xaxis@@:{@@anchor@@:@@y@@,@@categoryarray@@:[@@January@@,@@February@@,@@March@@,@@April@@,@@May@@,@@June@@,@@July@@,@@August@@,@@September@@,@@October@@,@@November@@,@@December@@],@@categoryorder@@:@@array@@,@@domain@@:[0.0,1.0],@@title@@:{@@text@@:@@Month@@}},@@yaxis@@:{@@anchor@@:@@x@@,@@domain@@:[0.0,1.0],@@title@@:{@@text@@:@@Number of Invoices@@}}},                        {@@responsive@@: true}                    )', 'id': 9, 'name': 'Distribution of Invoices by Month', 'title': 'Distribution of Invoices by Month', 'type': 'plotly', 'resultType': 3, 'visibility': 'EXPANDED', 'time': 'Oct 02, 2024 03:17:15 AM'}\n",
      "Error : HTTPConnectionPool(host='localhost', port=80): Max retries exceeded with url: / (Caused by NewConnectionError('<urllib3.connection.HTTPConnection object at 0x13486c620>: Failed to establish a new connection: [Errno 61] Connection refused'))\n"
     ]
    },
    {
     "name": "stderr",
     "output_type": "stream",
     "text": [
      "/var/folders/v6/d3bbw3c15nb5f7pk2twq62zw0000gn/T/ipykernel_77691/525243680.py:2: SettingWithCopyWarning:\n",
      "\n",
      "\n",
      "A value is trying to be set on a copy of a slice from a DataFrame.\n",
      "Try using .loc[row_indexer,col_indexer] = value instead\n",
      "\n",
      "See the caveats in the documentation: https://pandas.pydata.org/pandas-docs/stable/user_guide/indexing.html#returning-a-view-versus-a-copy\n",
      "\n",
      "/var/folders/v6/d3bbw3c15nb5f7pk2twq62zw0000gn/T/ipykernel_77691/525243680.py:5: SettingWithCopyWarning:\n",
      "\n",
      "\n",
      "A value is trying to be set on a copy of a slice from a DataFrame.\n",
      "Try using .loc[row_indexer,col_indexer] = value instead\n",
      "\n",
      "See the caveats in the documentation: https://pandas.pydata.org/pandas-docs/stable/user_guide/indexing.html#returning-a-view-versus-a-copy\n",
      "\n"
     ]
    }
   ],
   "source": [
    "# Convert the invoice date column to datetime format\n",
    "filtered_df['INV_DT'] = pd.to_datetime(filtered_df['INV_DT'], errors='coerce')\n",
    "\n",
    "# Extract the month name from the invoice date\n",
    "filtered_df['Month'] = filtered_df['INV_DT'].dt.strftime('%B')\n",
    "\n",
    "# Grouping the data by month, counting the number of invoices (INV_NO)\n",
    "grouped_data = filtered_df.groupby('Month', as_index=False).agg({\n",
    "    'INV_NO': 'count'\n",
    "})\n",
    "\n",
    "# Create a bar plot using plotly express for the number of invoices by month\n",
    "fig = px.bar(\n",
    "    grouped_data, \n",
    "    x='Month', \n",
    "    y='INV_NO', \n",
    "    color='Month',\n",
    "    title='Distribution of Invoices by Month',\n",
    "    labels={'Month': 'Month', 'INV_NO': 'Number of Invoices'},\n",
    "    category_orders={'Month': ['January', 'February', 'March', 'April', 'May', 'June', 'July', 'August', 'September', 'October', 'November', 'December']}\n",
    ")\n",
    "\n",
    "\n",
    "test = plotly.offline.plot(fig, output_type='div', include_plotlyjs=False)\n",
    "example_plotly = f'{test}'\n",
    "restworkflowcontext.outPlotly(9, title=\"Distribution of Invoices by Month\", text=example_plotly)\n",
    "\n",
    "\n",
    "# fig.show()\n"
   ]
  },
  {
   "cell_type": "code",
   "execution_count": 93,
   "metadata": {},
   "outputs": [
    {
     "name": "stdout",
     "output_type": "stream",
     "text": [
      "webserverURL: \n",
      "http://localhost\n",
      "Sending Message: {\"progress\": \"40\", \"id\": 9, \"name\": \"Progress\", \"title\": \"Progress\", \"type\": \"progress\", \"resultType\": 3, \"visibility\": \"EXPANDED\", \"time\": \"Oct 02, 2024 03:17:15 AM\"}\n",
      "Error : HTTPConnectionPool(host='localhost', port=80): Max retries exceeded with url: / (Caused by NewConnectionError('<urllib3.connection.HTTPConnection object at 0x13486d910>: Failed to establish a new connection: [Errno 61] Connection refused'))\n"
     ]
    }
   ],
   "source": [
    "progress = \"40\"\n",
    "restworkflowcontext.outputProgress(9, title=\"Progress\", progress=progress)"
   ]
  },
  {
   "cell_type": "markdown",
   "metadata": {},
   "source": [
    "## Distribution of Net Sales Amount by Month"
   ]
  },
  {
   "cell_type": "code",
   "execution_count": 94,
   "metadata": {},
   "outputs": [
    {
     "name": "stdout",
     "output_type": "stream",
     "text": [
      "Check the Input type..\n",
      "There is a match\n",
      " And Input is string type.\n",
      "webserverURL: \n",
      "http://localhost\n",
      "Sending Message: {'text': 'Plotly.newPlot(                        @@6d4bdc98-5283-4d2d-b191-1757ffb48ee5@@,                        [{@@alignmentgroup@@:@@True@@,@@hovertemplate@@:@@Month=%{x}\\\\u003cbr\\\\u003eNet Sales Amount=%{y}\\\\u003cextra\\\\u003e\\\\u003c\\\\u002fextra\\\\u003e@@,@@legendgroup@@:@@January@@,@@marker@@:{@@color@@:@@#636efa@@,@@pattern@@:{@@shape@@:@@@@}},@@name@@:@@January@@,@@offsetgroup@@:@@January@@,@@orientation@@:@@v@@,@@showlegend@@:true,@@textposition@@:@@auto@@,@@x@@:[@@January@@],@@xaxis@@:@@x@@,@@y@@:[917.6151047],@@yaxis@@:@@y@@,@@type@@:@@bar@@},{@@alignmentgroup@@:@@True@@,@@hovertemplate@@:@@Month=%{x}\\\\u003cbr\\\\u003eNet Sales Amount=%{y}\\\\u003cextra\\\\u003e\\\\u003c\\\\u002fextra\\\\u003e@@,@@legendgroup@@:@@February@@,@@marker@@:{@@color@@:@@#EF553B@@,@@pattern@@:{@@shape@@:@@@@}},@@name@@:@@February@@,@@offsetgroup@@:@@February@@,@@orientation@@:@@v@@,@@showlegend@@:true,@@textposition@@:@@auto@@,@@x@@:[@@February@@],@@xaxis@@:@@x@@,@@y@@:[1006.5296079999999],@@yaxis@@:@@y@@,@@type@@:@@bar@@},{@@alignmentgroup@@:@@True@@,@@hovertemplate@@:@@Month=%{x}\\\\u003cbr\\\\u003eNet Sales Amount=%{y}\\\\u003cextra\\\\u003e\\\\u003c\\\\u002fextra\\\\u003e@@,@@legendgroup@@:@@March@@,@@marker@@:{@@color@@:@@#00cc96@@,@@pattern@@:{@@shape@@:@@@@}},@@name@@:@@March@@,@@offsetgroup@@:@@March@@,@@orientation@@:@@v@@,@@showlegend@@:true,@@textposition@@:@@auto@@,@@x@@:[@@March@@],@@xaxis@@:@@x@@,@@y@@:[847.7877611],@@yaxis@@:@@y@@,@@type@@:@@bar@@},{@@alignmentgroup@@:@@True@@,@@hovertemplate@@:@@Month=%{x}\\\\u003cbr\\\\u003eNet Sales Amount=%{y}\\\\u003cextra\\\\u003e\\\\u003c\\\\u002fextra\\\\u003e@@,@@legendgroup@@:@@April@@,@@marker@@:{@@color@@:@@#ab63fa@@,@@pattern@@:{@@shape@@:@@@@}},@@name@@:@@April@@,@@offsetgroup@@:@@April@@,@@orientation@@:@@v@@,@@showlegend@@:true,@@textposition@@:@@auto@@,@@x@@:[@@April@@],@@xaxis@@:@@x@@,@@y@@:[671.8315],@@yaxis@@:@@y@@,@@type@@:@@bar@@},{@@alignmentgroup@@:@@True@@,@@hovertemplate@@:@@Month=%{x}\\\\u003cbr\\\\u003eNet Sales Amount=%{y}\\\\u003cextra\\\\u003e\\\\u003c\\\\u002fextra\\\\u003e@@,@@legendgroup@@:@@May@@,@@marker@@:{@@color@@:@@#FFA15A@@,@@pattern@@:{@@shape@@:@@@@}},@@name@@:@@May@@,@@offsetgroup@@:@@May@@,@@orientation@@:@@v@@,@@showlegend@@:true,@@textposition@@:@@auto@@,@@x@@:[@@May@@],@@xaxis@@:@@x@@,@@y@@:[574.3190682],@@yaxis@@:@@y@@,@@type@@:@@bar@@},{@@alignmentgroup@@:@@True@@,@@hovertemplate@@:@@Month=%{x}\\\\u003cbr\\\\u003eNet Sales Amount=%{y}\\\\u003cextra\\\\u003e\\\\u003c\\\\u002fextra\\\\u003e@@,@@legendgroup@@:@@June@@,@@marker@@:{@@color@@:@@#19d3f3@@,@@pattern@@:{@@shape@@:@@@@}},@@name@@:@@June@@,@@offsetgroup@@:@@June@@,@@orientation@@:@@v@@,@@showlegend@@:true,@@textposition@@:@@auto@@,@@x@@:[@@June@@],@@xaxis@@:@@x@@,@@y@@:[103.8617142],@@yaxis@@:@@y@@,@@type@@:@@bar@@},{@@alignmentgroup@@:@@True@@,@@hovertemplate@@:@@Month=%{x}\\\\u003cbr\\\\u003eNet Sales Amount=%{y}\\\\u003cextra\\\\u003e\\\\u003c\\\\u002fextra\\\\u003e@@,@@legendgroup@@:@@July@@,@@marker@@:{@@color@@:@@#FF6692@@,@@pattern@@:{@@shape@@:@@@@}},@@name@@:@@July@@,@@offsetgroup@@:@@July@@,@@orientation@@:@@v@@,@@showlegend@@:true,@@textposition@@:@@auto@@,@@x@@:[@@July@@],@@xaxis@@:@@x@@,@@y@@:[655.2373172],@@yaxis@@:@@y@@,@@type@@:@@bar@@},{@@alignmentgroup@@:@@True@@,@@hovertemplate@@:@@Month=%{x}\\\\u003cbr\\\\u003eNet Sales Amount=%{y}\\\\u003cextra\\\\u003e\\\\u003c\\\\u002fextra\\\\u003e@@,@@legendgroup@@:@@August@@,@@marker@@:{@@color@@:@@#B6E880@@,@@pattern@@:{@@shape@@:@@@@}},@@name@@:@@August@@,@@offsetgroup@@:@@August@@,@@orientation@@:@@v@@,@@showlegend@@:true,@@textposition@@:@@auto@@,@@x@@:[@@August@@],@@xaxis@@:@@x@@,@@y@@:[573.6339546],@@yaxis@@:@@y@@,@@type@@:@@bar@@},{@@alignmentgroup@@:@@True@@,@@hovertemplate@@:@@Month=%{x}\\\\u003cbr\\\\u003eNet Sales Amount=%{y}\\\\u003cextra\\\\u003e\\\\u003c\\\\u002fextra\\\\u003e@@,@@legendgroup@@:@@September@@,@@marker@@:{@@color@@:@@#FF97FF@@,@@pattern@@:{@@shape@@:@@@@}},@@name@@:@@September@@,@@offsetgroup@@:@@September@@,@@orientation@@:@@v@@,@@showlegend@@:true,@@textposition@@:@@auto@@,@@x@@:[@@September@@],@@xaxis@@:@@x@@,@@y@@:[451.3320956],@@yaxis@@:@@y@@,@@type@@:@@bar@@},{@@alignmentgroup@@:@@True@@,@@hovertemplate@@:@@Month=%{x}\\\\u003cbr\\\\u003eNet Sales Amount=%{y}\\\\u003cextra\\\\u003e\\\\u003c\\\\u002fextra\\\\u003e@@,@@legendgroup@@:@@October@@,@@marker@@:{@@color@@:@@#FECB52@@,@@pattern@@:{@@shape@@:@@@@}},@@name@@:@@October@@,@@offsetgroup@@:@@October@@,@@orientation@@:@@v@@,@@showlegend@@:true,@@textposition@@:@@auto@@,@@x@@:[@@October@@],@@xaxis@@:@@x@@,@@y@@:[68.86632],@@yaxis@@:@@y@@,@@type@@:@@bar@@},{@@alignmentgroup@@:@@True@@,@@hovertemplate@@:@@Month=%{x}\\\\u003cbr\\\\u003eNet Sales Amount=%{y}\\\\u003cextra\\\\u003e\\\\u003c\\\\u002fextra\\\\u003e@@,@@legendgroup@@:@@November@@,@@marker@@:{@@color@@:@@#636efa@@,@@pattern@@:{@@shape@@:@@@@}},@@name@@:@@November@@,@@offsetgroup@@:@@November@@,@@orientation@@:@@v@@,@@showlegend@@:true,@@textposition@@:@@auto@@,@@x@@:[@@November@@],@@xaxis@@:@@x@@,@@y@@:[328.088168],@@yaxis@@:@@y@@,@@type@@:@@bar@@}],                        {@@barmode@@:@@relative@@,@@legend@@:{@@title@@:{@@text@@:@@Month@@},@@tracegroupgap@@:0},@@template@@:{@@data@@:{@@barpolar@@:[{@@marker@@:{@@line@@:{@@color@@:@@#E5ECF6@@,@@width@@:0.5},@@pattern@@:{@@fillmode@@:@@overlay@@,@@size@@:10,@@solidity@@:0.2}},@@type@@:@@barpolar@@}],@@bar@@:[{@@error_x@@:{@@color@@:@@#2a3f5f@@},@@error_y@@:{@@color@@:@@#2a3f5f@@},@@marker@@:{@@line@@:{@@color@@:@@#E5ECF6@@,@@width@@:0.5},@@pattern@@:{@@fillmode@@:@@overlay@@,@@size@@:10,@@solidity@@:0.2}},@@type@@:@@bar@@}],@@carpet@@:[{@@aaxis@@:{@@endlinecolor@@:@@#2a3f5f@@,@@gridcolor@@:@@white@@,@@linecolor@@:@@white@@,@@minorgridcolor@@:@@white@@,@@startlinecolor@@:@@#2a3f5f@@},@@baxis@@:{@@endlinecolor@@:@@#2a3f5f@@,@@gridcolor@@:@@white@@,@@linecolor@@:@@white@@,@@minorgridcolor@@:@@white@@,@@startlinecolor@@:@@#2a3f5f@@},@@type@@:@@carpet@@}],@@choropleth@@:[{@@colorbar@@:{@@outlinewidth@@:0,@@ticks@@:@@@@},@@type@@:@@choropleth@@}],@@contourcarpet@@:[{@@colorbar@@:{@@outlinewidth@@:0,@@ticks@@:@@@@},@@type@@:@@contourcarpet@@}],@@contour@@:[{@@colorbar@@:{@@outlinewidth@@:0,@@ticks@@:@@@@},@@colorscale@@:[[0.0,@@#0d0887@@],[0.1111111111111111,@@#46039f@@],[0.2222222222222222,@@#7201a8@@],[0.3333333333333333,@@#9c179e@@],[0.4444444444444444,@@#bd3786@@],[0.5555555555555556,@@#d8576b@@],[0.6666666666666666,@@#ed7953@@],[0.7777777777777778,@@#fb9f3a@@],[0.8888888888888888,@@#fdca26@@],[1.0,@@#f0f921@@]],@@type@@:@@contour@@}],@@heatmapgl@@:[{@@colorbar@@:{@@outlinewidth@@:0,@@ticks@@:@@@@},@@colorscale@@:[[0.0,@@#0d0887@@],[0.1111111111111111,@@#46039f@@],[0.2222222222222222,@@#7201a8@@],[0.3333333333333333,@@#9c179e@@],[0.4444444444444444,@@#bd3786@@],[0.5555555555555556,@@#d8576b@@],[0.6666666666666666,@@#ed7953@@],[0.7777777777777778,@@#fb9f3a@@],[0.8888888888888888,@@#fdca26@@],[1.0,@@#f0f921@@]],@@type@@:@@heatmapgl@@}],@@heatmap@@:[{@@colorbar@@:{@@outlinewidth@@:0,@@ticks@@:@@@@},@@colorscale@@:[[0.0,@@#0d0887@@],[0.1111111111111111,@@#46039f@@],[0.2222222222222222,@@#7201a8@@],[0.3333333333333333,@@#9c179e@@],[0.4444444444444444,@@#bd3786@@],[0.5555555555555556,@@#d8576b@@],[0.6666666666666666,@@#ed7953@@],[0.7777777777777778,@@#fb9f3a@@],[0.8888888888888888,@@#fdca26@@],[1.0,@@#f0f921@@]],@@type@@:@@heatmap@@}],@@histogram2dcontour@@:[{@@colorbar@@:{@@outlinewidth@@:0,@@ticks@@:@@@@},@@colorscale@@:[[0.0,@@#0d0887@@],[0.1111111111111111,@@#46039f@@],[0.2222222222222222,@@#7201a8@@],[0.3333333333333333,@@#9c179e@@],[0.4444444444444444,@@#bd3786@@],[0.5555555555555556,@@#d8576b@@],[0.6666666666666666,@@#ed7953@@],[0.7777777777777778,@@#fb9f3a@@],[0.8888888888888888,@@#fdca26@@],[1.0,@@#f0f921@@]],@@type@@:@@histogram2dcontour@@}],@@histogram2d@@:[{@@colorbar@@:{@@outlinewidth@@:0,@@ticks@@:@@@@},@@colorscale@@:[[0.0,@@#0d0887@@],[0.1111111111111111,@@#46039f@@],[0.2222222222222222,@@#7201a8@@],[0.3333333333333333,@@#9c179e@@],[0.4444444444444444,@@#bd3786@@],[0.5555555555555556,@@#d8576b@@],[0.6666666666666666,@@#ed7953@@],[0.7777777777777778,@@#fb9f3a@@],[0.8888888888888888,@@#fdca26@@],[1.0,@@#f0f921@@]],@@type@@:@@histogram2d@@}],@@histogram@@:[{@@marker@@:{@@pattern@@:{@@fillmode@@:@@overlay@@,@@size@@:10,@@solidity@@:0.2}},@@type@@:@@histogram@@}],@@mesh3d@@:[{@@colorbar@@:{@@outlinewidth@@:0,@@ticks@@:@@@@},@@type@@:@@mesh3d@@}],@@parcoords@@:[{@@line@@:{@@colorbar@@:{@@outlinewidth@@:0,@@ticks@@:@@@@}},@@type@@:@@parcoords@@}],@@pie@@:[{@@automargin@@:true,@@type@@:@@pie@@}],@@scatter3d@@:[{@@line@@:{@@colorbar@@:{@@outlinewidth@@:0,@@ticks@@:@@@@}},@@marker@@:{@@colorbar@@:{@@outlinewidth@@:0,@@ticks@@:@@@@}},@@type@@:@@scatter3d@@}],@@scattercarpet@@:[{@@marker@@:{@@colorbar@@:{@@outlinewidth@@:0,@@ticks@@:@@@@}},@@type@@:@@scattercarpet@@}],@@scattergeo@@:[{@@marker@@:{@@colorbar@@:{@@outlinewidth@@:0,@@ticks@@:@@@@}},@@type@@:@@scattergeo@@}],@@scattergl@@:[{@@marker@@:{@@colorbar@@:{@@outlinewidth@@:0,@@ticks@@:@@@@}},@@type@@:@@scattergl@@}],@@scattermapbox@@:[{@@marker@@:{@@colorbar@@:{@@outlinewidth@@:0,@@ticks@@:@@@@}},@@type@@:@@scattermapbox@@}],@@scatterpolargl@@:[{@@marker@@:{@@colorbar@@:{@@outlinewidth@@:0,@@ticks@@:@@@@}},@@type@@:@@scatterpolargl@@}],@@scatterpolar@@:[{@@marker@@:{@@colorbar@@:{@@outlinewidth@@:0,@@ticks@@:@@@@}},@@type@@:@@scatterpolar@@}],@@scatter@@:[{@@fillpattern@@:{@@fillmode@@:@@overlay@@,@@size@@:10,@@solidity@@:0.2},@@type@@:@@scatter@@}],@@scatterternary@@:[{@@marker@@:{@@colorbar@@:{@@outlinewidth@@:0,@@ticks@@:@@@@}},@@type@@:@@scatterternary@@}],@@surface@@:[{@@colorbar@@:{@@outlinewidth@@:0,@@ticks@@:@@@@},@@colorscale@@:[[0.0,@@#0d0887@@],[0.1111111111111111,@@#46039f@@],[0.2222222222222222,@@#7201a8@@],[0.3333333333333333,@@#9c179e@@],[0.4444444444444444,@@#bd3786@@],[0.5555555555555556,@@#d8576b@@],[0.6666666666666666,@@#ed7953@@],[0.7777777777777778,@@#fb9f3a@@],[0.8888888888888888,@@#fdca26@@],[1.0,@@#f0f921@@]],@@type@@:@@surface@@}],@@table@@:[{@@cells@@:{@@fill@@:{@@color@@:@@#EBF0F8@@},@@line@@:{@@color@@:@@white@@}},@@header@@:{@@fill@@:{@@color@@:@@#C8D4E3@@},@@line@@:{@@color@@:@@white@@}},@@type@@:@@table@@}]},@@layout@@:{@@annotationdefaults@@:{@@arrowcolor@@:@@#2a3f5f@@,@@arrowhead@@:0,@@arrowwidth@@:1},@@autotypenumbers@@:@@strict@@,@@coloraxis@@:{@@colorbar@@:{@@outlinewidth@@:0,@@ticks@@:@@@@}},@@colorscale@@:{@@diverging@@:[[0,@@#8e0152@@],[0.1,@@#c51b7d@@],[0.2,@@#de77ae@@],[0.3,@@#f1b6da@@],[0.4,@@#fde0ef@@],[0.5,@@#f7f7f7@@],[0.6,@@#e6f5d0@@],[0.7,@@#b8e186@@],[0.8,@@#7fbc41@@],[0.9,@@#4d9221@@],[1,@@#276419@@]],@@sequential@@:[[0.0,@@#0d0887@@],[0.1111111111111111,@@#46039f@@],[0.2222222222222222,@@#7201a8@@],[0.3333333333333333,@@#9c179e@@],[0.4444444444444444,@@#bd3786@@],[0.5555555555555556,@@#d8576b@@],[0.6666666666666666,@@#ed7953@@],[0.7777777777777778,@@#fb9f3a@@],[0.8888888888888888,@@#fdca26@@],[1.0,@@#f0f921@@]],@@sequentialminus@@:[[0.0,@@#0d0887@@],[0.1111111111111111,@@#46039f@@],[0.2222222222222222,@@#7201a8@@],[0.3333333333333333,@@#9c179e@@],[0.4444444444444444,@@#bd3786@@],[0.5555555555555556,@@#d8576b@@],[0.6666666666666666,@@#ed7953@@],[0.7777777777777778,@@#fb9f3a@@],[0.8888888888888888,@@#fdca26@@],[1.0,@@#f0f921@@]]},@@colorway@@:[@@#636efa@@,@@#EF553B@@,@@#00cc96@@,@@#ab63fa@@,@@#FFA15A@@,@@#19d3f3@@,@@#FF6692@@,@@#B6E880@@,@@#FF97FF@@,@@#FECB52@@],@@font@@:{@@color@@:@@#2a3f5f@@},@@geo@@:{@@bgcolor@@:@@white@@,@@lakecolor@@:@@white@@,@@landcolor@@:@@#E5ECF6@@,@@showlakes@@:true,@@showland@@:true,@@subunitcolor@@:@@white@@},@@hoverlabel@@:{@@align@@:@@left@@},@@hovermode@@:@@closest@@,@@mapbox@@:{@@style@@:@@light@@},@@paper_bgcolor@@:@@white@@,@@plot_bgcolor@@:@@#E5ECF6@@,@@polar@@:{@@angularaxis@@:{@@gridcolor@@:@@white@@,@@linecolor@@:@@white@@,@@ticks@@:@@@@},@@bgcolor@@:@@#E5ECF6@@,@@radialaxis@@:{@@gridcolor@@:@@white@@,@@linecolor@@:@@white@@,@@ticks@@:@@@@}},@@scene@@:{@@xaxis@@:{@@backgroundcolor@@:@@#E5ECF6@@,@@gridcolor@@:@@white@@,@@gridwidth@@:2,@@linecolor@@:@@white@@,@@showbackground@@:true,@@ticks@@:@@@@,@@zerolinecolor@@:@@white@@},@@yaxis@@:{@@backgroundcolor@@:@@#E5ECF6@@,@@gridcolor@@:@@white@@,@@gridwidth@@:2,@@linecolor@@:@@white@@,@@showbackground@@:true,@@ticks@@:@@@@,@@zerolinecolor@@:@@white@@},@@zaxis@@:{@@backgroundcolor@@:@@#E5ECF6@@,@@gridcolor@@:@@white@@,@@gridwidth@@:2,@@linecolor@@:@@white@@,@@showbackground@@:true,@@ticks@@:@@@@,@@zerolinecolor@@:@@white@@}},@@shapedefaults@@:{@@line@@:{@@color@@:@@#2a3f5f@@}},@@ternary@@:{@@aaxis@@:{@@gridcolor@@:@@white@@,@@linecolor@@:@@white@@,@@ticks@@:@@@@},@@baxis@@:{@@gridcolor@@:@@white@@,@@linecolor@@:@@white@@,@@ticks@@:@@@@},@@bgcolor@@:@@#E5ECF6@@,@@caxis@@:{@@gridcolor@@:@@white@@,@@linecolor@@:@@white@@,@@ticks@@:@@@@}},@@title@@:{@@x@@:0.05},@@xaxis@@:{@@automargin@@:true,@@gridcolor@@:@@white@@,@@linecolor@@:@@white@@,@@ticks@@:@@@@,@@title@@:{@@standoff@@:15},@@zerolinecolor@@:@@white@@,@@zerolinewidth@@:2},@@yaxis@@:{@@automargin@@:true,@@gridcolor@@:@@white@@,@@linecolor@@:@@white@@,@@ticks@@:@@@@,@@title@@:{@@standoff@@:15},@@zerolinecolor@@:@@white@@,@@zerolinewidth@@:2}}},@@title@@:{@@text@@:@@Distribution of Net Sales Amount by Month@@},@@xaxis@@:{@@anchor@@:@@y@@,@@categoryarray@@:[@@January@@,@@February@@,@@March@@,@@April@@,@@May@@,@@June@@,@@July@@,@@August@@,@@September@@,@@October@@,@@November@@,@@December@@],@@categoryorder@@:@@array@@,@@domain@@:[0.0,1.0],@@title@@:{@@text@@:@@Month@@}},@@yaxis@@:{@@anchor@@:@@x@@,@@domain@@:[0.0,1.0],@@title@@:{@@text@@:@@Net Sales Amount@@}}},                        {@@responsive@@: true}                    )', 'id': 9, 'name': 'Distribution of Net Sales Amount by Month', 'title': 'Distribution of Net Sales Amount by Month', 'type': 'plotly', 'resultType': 3, 'visibility': 'EXPANDED', 'time': 'Oct 02, 2024 03:17:15 AM'}\n",
      "Error : HTTPConnectionPool(host='localhost', port=80): Max retries exceeded with url: / (Caused by NewConnectionError('<urllib3.connection.HTTPConnection object at 0x1345d1b80>: Failed to establish a new connection: [Errno 61] Connection refused'))\n"
     ]
    },
    {
     "name": "stderr",
     "output_type": "stream",
     "text": [
      "/var/folders/v6/d3bbw3c15nb5f7pk2twq62zw0000gn/T/ipykernel_77691/3431194953.py:2: SettingWithCopyWarning:\n",
      "\n",
      "\n",
      "A value is trying to be set on a copy of a slice from a DataFrame.\n",
      "Try using .loc[row_indexer,col_indexer] = value instead\n",
      "\n",
      "See the caveats in the documentation: https://pandas.pydata.org/pandas-docs/stable/user_guide/indexing.html#returning-a-view-versus-a-copy\n",
      "\n",
      "/var/folders/v6/d3bbw3c15nb5f7pk2twq62zw0000gn/T/ipykernel_77691/3431194953.py:5: SettingWithCopyWarning:\n",
      "\n",
      "\n",
      "A value is trying to be set on a copy of a slice from a DataFrame.\n",
      "Try using .loc[row_indexer,col_indexer] = value instead\n",
      "\n",
      "See the caveats in the documentation: https://pandas.pydata.org/pandas-docs/stable/user_guide/indexing.html#returning-a-view-versus-a-copy\n",
      "\n"
     ]
    }
   ],
   "source": [
    "# Convert the invoice date column to datetime format\n",
    "filtered_df['INV_DT'] = pd.to_datetime(filtered_df['INV_DT'], errors='coerce')\n",
    "\n",
    "# Extract the month name from the invoice date\n",
    "filtered_df['Month'] = filtered_df['INV_DT'].dt.strftime('%B')\n",
    "\n",
    "# Grouping the data by month, summing the net sales (NET column)\n",
    "grouped_data = filtered_df.groupby('Month', as_index=False).agg({\n",
    "    'NET': 'sum'\n",
    "})\n",
    "\n",
    "# Create a bar plot using plotly express for the net sales by month\n",
    "fig = px.bar(\n",
    "    grouped_data, \n",
    "    x='Month', \n",
    "    y='NET', \n",
    "    color='Month',\n",
    "    title='Distribution of Net Sales Amount by Month',\n",
    "    labels={'Month': 'Month', 'NET': 'Net Sales Amount'},\n",
    "    category_orders={'Month': ['January', 'February', 'March', 'April', 'May', 'June', 'July', 'August', 'September', 'October', 'November', 'December']}\n",
    ")\n",
    "\n",
    "\n",
    "test = plotly.offline.plot(fig, output_type='div', include_plotlyjs=False)\n",
    "example_plotly = f'{test}'\n",
    "restworkflowcontext.outPlotly(9, title=\"Distribution of Net Sales Amount by Month\", text=example_plotly)\n",
    "\n",
    "\n",
    "# fig.show()\n"
   ]
  },
  {
   "cell_type": "code",
   "execution_count": 95,
   "metadata": {},
   "outputs": [
    {
     "name": "stdout",
     "output_type": "stream",
     "text": [
      "webserverURL: \n",
      "http://localhost\n",
      "Sending Message: {\"progress\": \"45\", \"id\": 9, \"name\": \"Progress\", \"title\": \"Progress\", \"type\": \"progress\", \"resultType\": 3, \"visibility\": \"EXPANDED\", \"time\": \"Oct 02, 2024 03:17:15 AM\"}\n",
      "Error : HTTPConnectionPool(host='localhost', port=80): Max retries exceeded with url: / (Caused by NewConnectionError('<urllib3.connection.HTTPConnection object at 0x1345d1610>: Failed to establish a new connection: [Errno 61] Connection refused'))\n"
     ]
    }
   ],
   "source": [
    "progress = \"45\"\n",
    "restworkflowcontext.outputProgress(9, title=\"Progress\", progress=progress)"
   ]
  },
  {
   "cell_type": "markdown",
   "metadata": {},
   "source": [
    "## Distribution of Product Count by Month"
   ]
  },
  {
   "cell_type": "markdown",
   "metadata": {},
   "source": [
    "### Using `QTY`"
   ]
  },
  {
   "cell_type": "code",
   "execution_count": 96,
   "metadata": {},
   "outputs": [
    {
     "name": "stderr",
     "output_type": "stream",
     "text": [
      "/var/folders/v6/d3bbw3c15nb5f7pk2twq62zw0000gn/T/ipykernel_77691/2329653690.py:2: SettingWithCopyWarning:\n",
      "\n",
      "\n",
      "A value is trying to be set on a copy of a slice from a DataFrame.\n",
      "Try using .loc[row_indexer,col_indexer] = value instead\n",
      "\n",
      "See the caveats in the documentation: https://pandas.pydata.org/pandas-docs/stable/user_guide/indexing.html#returning-a-view-versus-a-copy\n",
      "\n",
      "/var/folders/v6/d3bbw3c15nb5f7pk2twq62zw0000gn/T/ipykernel_77691/2329653690.py:5: SettingWithCopyWarning:\n",
      "\n",
      "\n",
      "A value is trying to be set on a copy of a slice from a DataFrame.\n",
      "Try using .loc[row_indexer,col_indexer] = value instead\n",
      "\n",
      "See the caveats in the documentation: https://pandas.pydata.org/pandas-docs/stable/user_guide/indexing.html#returning-a-view-versus-a-copy\n",
      "\n"
     ]
    },
    {
     "name": "stdout",
     "output_type": "stream",
     "text": [
      "Check the Input type..\n",
      "There is a match\n",
      " And Input is string type.\n",
      "webserverURL: \n",
      "http://localhost\n",
      "Sending Message: {'text': 'Plotly.newPlot(                        @@7fc6a67a-caaf-4b93-8040-fa5f705eff18@@,                        [{@@alignmentgroup@@:@@True@@,@@hovertemplate@@:@@Month=%{x}\\\\u003cbr\\\\u003eProduct Count (Quantity Sold)=%{y}\\\\u003cextra\\\\u003e\\\\u003c\\\\u002fextra\\\\u003e@@,@@legendgroup@@:@@January@@,@@marker@@:{@@color@@:@@#636efa@@,@@pattern@@:{@@shape@@:@@@@}},@@name@@:@@January@@,@@offsetgroup@@:@@January@@,@@orientation@@:@@v@@,@@showlegend@@:true,@@textposition@@:@@auto@@,@@x@@:[@@January@@],@@xaxis@@:@@x@@,@@y@@:[11544],@@yaxis@@:@@y@@,@@type@@:@@bar@@},{@@alignmentgroup@@:@@True@@,@@hovertemplate@@:@@Month=%{x}\\\\u003cbr\\\\u003eProduct Count (Quantity Sold)=%{y}\\\\u003cextra\\\\u003e\\\\u003c\\\\u002fextra\\\\u003e@@,@@legendgroup@@:@@February@@,@@marker@@:{@@color@@:@@#EF553B@@,@@pattern@@:{@@shape@@:@@@@}},@@name@@:@@February@@,@@offsetgroup@@:@@February@@,@@orientation@@:@@v@@,@@showlegend@@:true,@@textposition@@:@@auto@@,@@x@@:[@@February@@],@@xaxis@@:@@x@@,@@y@@:[16798],@@yaxis@@:@@y@@,@@type@@:@@bar@@},{@@alignmentgroup@@:@@True@@,@@hovertemplate@@:@@Month=%{x}\\\\u003cbr\\\\u003eProduct Count (Quantity Sold)=%{y}\\\\u003cextra\\\\u003e\\\\u003c\\\\u002fextra\\\\u003e@@,@@legendgroup@@:@@March@@,@@marker@@:{@@color@@:@@#00cc96@@,@@pattern@@:{@@shape@@:@@@@}},@@name@@:@@March@@,@@offsetgroup@@:@@March@@,@@orientation@@:@@v@@,@@showlegend@@:true,@@textposition@@:@@auto@@,@@x@@:[@@March@@],@@xaxis@@:@@x@@,@@y@@:[5915],@@yaxis@@:@@y@@,@@type@@:@@bar@@},{@@alignmentgroup@@:@@True@@,@@hovertemplate@@:@@Month=%{x}\\\\u003cbr\\\\u003eProduct Count (Quantity Sold)=%{y}\\\\u003cextra\\\\u003e\\\\u003c\\\\u002fextra\\\\u003e@@,@@legendgroup@@:@@April@@,@@marker@@:{@@color@@:@@#ab63fa@@,@@pattern@@:{@@shape@@:@@@@}},@@name@@:@@April@@,@@offsetgroup@@:@@April@@,@@orientation@@:@@v@@,@@showlegend@@:true,@@textposition@@:@@auto@@,@@x@@:[@@April@@],@@xaxis@@:@@x@@,@@y@@:[10072],@@yaxis@@:@@y@@,@@type@@:@@bar@@},{@@alignmentgroup@@:@@True@@,@@hovertemplate@@:@@Month=%{x}\\\\u003cbr\\\\u003eProduct Count (Quantity Sold)=%{y}\\\\u003cextra\\\\u003e\\\\u003c\\\\u002fextra\\\\u003e@@,@@legendgroup@@:@@May@@,@@marker@@:{@@color@@:@@#FFA15A@@,@@pattern@@:{@@shape@@:@@@@}},@@name@@:@@May@@,@@offsetgroup@@:@@May@@,@@orientation@@:@@v@@,@@showlegend@@:true,@@textposition@@:@@auto@@,@@x@@:[@@May@@],@@xaxis@@:@@x@@,@@y@@:[16774],@@yaxis@@:@@y@@,@@type@@:@@bar@@},{@@alignmentgroup@@:@@True@@,@@hovertemplate@@:@@Month=%{x}\\\\u003cbr\\\\u003eProduct Count (Quantity Sold)=%{y}\\\\u003cextra\\\\u003e\\\\u003c\\\\u002fextra\\\\u003e@@,@@legendgroup@@:@@June@@,@@marker@@:{@@color@@:@@#19d3f3@@,@@pattern@@:{@@shape@@:@@@@}},@@name@@:@@June@@,@@offsetgroup@@:@@June@@,@@orientation@@:@@v@@,@@showlegend@@:true,@@textposition@@:@@auto@@,@@x@@:[@@June@@],@@xaxis@@:@@x@@,@@y@@:[4484],@@yaxis@@:@@y@@,@@type@@:@@bar@@},{@@alignmentgroup@@:@@True@@,@@hovertemplate@@:@@Month=%{x}\\\\u003cbr\\\\u003eProduct Count (Quantity Sold)=%{y}\\\\u003cextra\\\\u003e\\\\u003c\\\\u002fextra\\\\u003e@@,@@legendgroup@@:@@July@@,@@marker@@:{@@color@@:@@#FF6692@@,@@pattern@@:{@@shape@@:@@@@}},@@name@@:@@July@@,@@offsetgroup@@:@@July@@,@@orientation@@:@@v@@,@@showlegend@@:true,@@textposition@@:@@auto@@,@@x@@:[@@July@@],@@xaxis@@:@@x@@,@@y@@:[9068],@@yaxis@@:@@y@@,@@type@@:@@bar@@},{@@alignmentgroup@@:@@True@@,@@hovertemplate@@:@@Month=%{x}\\\\u003cbr\\\\u003eProduct Count (Quantity Sold)=%{y}\\\\u003cextra\\\\u003e\\\\u003c\\\\u002fextra\\\\u003e@@,@@legendgroup@@:@@August@@,@@marker@@:{@@color@@:@@#B6E880@@,@@pattern@@:{@@shape@@:@@@@}},@@name@@:@@August@@,@@offsetgroup@@:@@August@@,@@orientation@@:@@v@@,@@showlegend@@:true,@@textposition@@:@@auto@@,@@x@@:[@@August@@],@@xaxis@@:@@x@@,@@y@@:[9328],@@yaxis@@:@@y@@,@@type@@:@@bar@@},{@@alignmentgroup@@:@@True@@,@@hovertemplate@@:@@Month=%{x}\\\\u003cbr\\\\u003eProduct Count (Quantity Sold)=%{y}\\\\u003cextra\\\\u003e\\\\u003c\\\\u002fextra\\\\u003e@@,@@legendgroup@@:@@September@@,@@marker@@:{@@color@@:@@#FF97FF@@,@@pattern@@:{@@shape@@:@@@@}},@@name@@:@@September@@,@@offsetgroup@@:@@September@@,@@orientation@@:@@v@@,@@showlegend@@:true,@@textposition@@:@@auto@@,@@x@@:[@@September@@],@@xaxis@@:@@x@@,@@y@@:[6976],@@yaxis@@:@@y@@,@@type@@:@@bar@@},{@@alignmentgroup@@:@@True@@,@@hovertemplate@@:@@Month=%{x}\\\\u003cbr\\\\u003eProduct Count (Quantity Sold)=%{y}\\\\u003cextra\\\\u003e\\\\u003c\\\\u002fextra\\\\u003e@@,@@legendgroup@@:@@October@@,@@marker@@:{@@color@@:@@#FECB52@@,@@pattern@@:{@@shape@@:@@@@}},@@name@@:@@October@@,@@offsetgroup@@:@@October@@,@@orientation@@:@@v@@,@@showlegend@@:true,@@textposition@@:@@auto@@,@@x@@:[@@October@@],@@xaxis@@:@@x@@,@@y@@:[6600],@@yaxis@@:@@y@@,@@type@@:@@bar@@},{@@alignmentgroup@@:@@True@@,@@hovertemplate@@:@@Month=%{x}\\\\u003cbr\\\\u003eProduct Count (Quantity Sold)=%{y}\\\\u003cextra\\\\u003e\\\\u003c\\\\u002fextra\\\\u003e@@,@@legendgroup@@:@@November@@,@@marker@@:{@@color@@:@@#636efa@@,@@pattern@@:{@@shape@@:@@@@}},@@name@@:@@November@@,@@offsetgroup@@:@@November@@,@@orientation@@:@@v@@,@@showlegend@@:true,@@textposition@@:@@auto@@,@@x@@:[@@November@@],@@xaxis@@:@@x@@,@@y@@:[5092],@@yaxis@@:@@y@@,@@type@@:@@bar@@}],                        {@@barmode@@:@@relative@@,@@legend@@:{@@title@@:{@@text@@:@@Month@@},@@tracegroupgap@@:0},@@template@@:{@@data@@:{@@barpolar@@:[{@@marker@@:{@@line@@:{@@color@@:@@#E5ECF6@@,@@width@@:0.5},@@pattern@@:{@@fillmode@@:@@overlay@@,@@size@@:10,@@solidity@@:0.2}},@@type@@:@@barpolar@@}],@@bar@@:[{@@error_x@@:{@@color@@:@@#2a3f5f@@},@@error_y@@:{@@color@@:@@#2a3f5f@@},@@marker@@:{@@line@@:{@@color@@:@@#E5ECF6@@,@@width@@:0.5},@@pattern@@:{@@fillmode@@:@@overlay@@,@@size@@:10,@@solidity@@:0.2}},@@type@@:@@bar@@}],@@carpet@@:[{@@aaxis@@:{@@endlinecolor@@:@@#2a3f5f@@,@@gridcolor@@:@@white@@,@@linecolor@@:@@white@@,@@minorgridcolor@@:@@white@@,@@startlinecolor@@:@@#2a3f5f@@},@@baxis@@:{@@endlinecolor@@:@@#2a3f5f@@,@@gridcolor@@:@@white@@,@@linecolor@@:@@white@@,@@minorgridcolor@@:@@white@@,@@startlinecolor@@:@@#2a3f5f@@},@@type@@:@@carpet@@}],@@choropleth@@:[{@@colorbar@@:{@@outlinewidth@@:0,@@ticks@@:@@@@},@@type@@:@@choropleth@@}],@@contourcarpet@@:[{@@colorbar@@:{@@outlinewidth@@:0,@@ticks@@:@@@@},@@type@@:@@contourcarpet@@}],@@contour@@:[{@@colorbar@@:{@@outlinewidth@@:0,@@ticks@@:@@@@},@@colorscale@@:[[0.0,@@#0d0887@@],[0.1111111111111111,@@#46039f@@],[0.2222222222222222,@@#7201a8@@],[0.3333333333333333,@@#9c179e@@],[0.4444444444444444,@@#bd3786@@],[0.5555555555555556,@@#d8576b@@],[0.6666666666666666,@@#ed7953@@],[0.7777777777777778,@@#fb9f3a@@],[0.8888888888888888,@@#fdca26@@],[1.0,@@#f0f921@@]],@@type@@:@@contour@@}],@@heatmapgl@@:[{@@colorbar@@:{@@outlinewidth@@:0,@@ticks@@:@@@@},@@colorscale@@:[[0.0,@@#0d0887@@],[0.1111111111111111,@@#46039f@@],[0.2222222222222222,@@#7201a8@@],[0.3333333333333333,@@#9c179e@@],[0.4444444444444444,@@#bd3786@@],[0.5555555555555556,@@#d8576b@@],[0.6666666666666666,@@#ed7953@@],[0.7777777777777778,@@#fb9f3a@@],[0.8888888888888888,@@#fdca26@@],[1.0,@@#f0f921@@]],@@type@@:@@heatmapgl@@}],@@heatmap@@:[{@@colorbar@@:{@@outlinewidth@@:0,@@ticks@@:@@@@},@@colorscale@@:[[0.0,@@#0d0887@@],[0.1111111111111111,@@#46039f@@],[0.2222222222222222,@@#7201a8@@],[0.3333333333333333,@@#9c179e@@],[0.4444444444444444,@@#bd3786@@],[0.5555555555555556,@@#d8576b@@],[0.6666666666666666,@@#ed7953@@],[0.7777777777777778,@@#fb9f3a@@],[0.8888888888888888,@@#fdca26@@],[1.0,@@#f0f921@@]],@@type@@:@@heatmap@@}],@@histogram2dcontour@@:[{@@colorbar@@:{@@outlinewidth@@:0,@@ticks@@:@@@@},@@colorscale@@:[[0.0,@@#0d0887@@],[0.1111111111111111,@@#46039f@@],[0.2222222222222222,@@#7201a8@@],[0.3333333333333333,@@#9c179e@@],[0.4444444444444444,@@#bd3786@@],[0.5555555555555556,@@#d8576b@@],[0.6666666666666666,@@#ed7953@@],[0.7777777777777778,@@#fb9f3a@@],[0.8888888888888888,@@#fdca26@@],[1.0,@@#f0f921@@]],@@type@@:@@histogram2dcontour@@}],@@histogram2d@@:[{@@colorbar@@:{@@outlinewidth@@:0,@@ticks@@:@@@@},@@colorscale@@:[[0.0,@@#0d0887@@],[0.1111111111111111,@@#46039f@@],[0.2222222222222222,@@#7201a8@@],[0.3333333333333333,@@#9c179e@@],[0.4444444444444444,@@#bd3786@@],[0.5555555555555556,@@#d8576b@@],[0.6666666666666666,@@#ed7953@@],[0.7777777777777778,@@#fb9f3a@@],[0.8888888888888888,@@#fdca26@@],[1.0,@@#f0f921@@]],@@type@@:@@histogram2d@@}],@@histogram@@:[{@@marker@@:{@@pattern@@:{@@fillmode@@:@@overlay@@,@@size@@:10,@@solidity@@:0.2}},@@type@@:@@histogram@@}],@@mesh3d@@:[{@@colorbar@@:{@@outlinewidth@@:0,@@ticks@@:@@@@},@@type@@:@@mesh3d@@}],@@parcoords@@:[{@@line@@:{@@colorbar@@:{@@outlinewidth@@:0,@@ticks@@:@@@@}},@@type@@:@@parcoords@@}],@@pie@@:[{@@automargin@@:true,@@type@@:@@pie@@}],@@scatter3d@@:[{@@line@@:{@@colorbar@@:{@@outlinewidth@@:0,@@ticks@@:@@@@}},@@marker@@:{@@colorbar@@:{@@outlinewidth@@:0,@@ticks@@:@@@@}},@@type@@:@@scatter3d@@}],@@scattercarpet@@:[{@@marker@@:{@@colorbar@@:{@@outlinewidth@@:0,@@ticks@@:@@@@}},@@type@@:@@scattercarpet@@}],@@scattergeo@@:[{@@marker@@:{@@colorbar@@:{@@outlinewidth@@:0,@@ticks@@:@@@@}},@@type@@:@@scattergeo@@}],@@scattergl@@:[{@@marker@@:{@@colorbar@@:{@@outlinewidth@@:0,@@ticks@@:@@@@}},@@type@@:@@scattergl@@}],@@scattermapbox@@:[{@@marker@@:{@@colorbar@@:{@@outlinewidth@@:0,@@ticks@@:@@@@}},@@type@@:@@scattermapbox@@}],@@scatterpolargl@@:[{@@marker@@:{@@colorbar@@:{@@outlinewidth@@:0,@@ticks@@:@@@@}},@@type@@:@@scatterpolargl@@}],@@scatterpolar@@:[{@@marker@@:{@@colorbar@@:{@@outlinewidth@@:0,@@ticks@@:@@@@}},@@type@@:@@scatterpolar@@}],@@scatter@@:[{@@fillpattern@@:{@@fillmode@@:@@overlay@@,@@size@@:10,@@solidity@@:0.2},@@type@@:@@scatter@@}],@@scatterternary@@:[{@@marker@@:{@@colorbar@@:{@@outlinewidth@@:0,@@ticks@@:@@@@}},@@type@@:@@scatterternary@@}],@@surface@@:[{@@colorbar@@:{@@outlinewidth@@:0,@@ticks@@:@@@@},@@colorscale@@:[[0.0,@@#0d0887@@],[0.1111111111111111,@@#46039f@@],[0.2222222222222222,@@#7201a8@@],[0.3333333333333333,@@#9c179e@@],[0.4444444444444444,@@#bd3786@@],[0.5555555555555556,@@#d8576b@@],[0.6666666666666666,@@#ed7953@@],[0.7777777777777778,@@#fb9f3a@@],[0.8888888888888888,@@#fdca26@@],[1.0,@@#f0f921@@]],@@type@@:@@surface@@}],@@table@@:[{@@cells@@:{@@fill@@:{@@color@@:@@#EBF0F8@@},@@line@@:{@@color@@:@@white@@}},@@header@@:{@@fill@@:{@@color@@:@@#C8D4E3@@},@@line@@:{@@color@@:@@white@@}},@@type@@:@@table@@}]},@@layout@@:{@@annotationdefaults@@:{@@arrowcolor@@:@@#2a3f5f@@,@@arrowhead@@:0,@@arrowwidth@@:1},@@autotypenumbers@@:@@strict@@,@@coloraxis@@:{@@colorbar@@:{@@outlinewidth@@:0,@@ticks@@:@@@@}},@@colorscale@@:{@@diverging@@:[[0,@@#8e0152@@],[0.1,@@#c51b7d@@],[0.2,@@#de77ae@@],[0.3,@@#f1b6da@@],[0.4,@@#fde0ef@@],[0.5,@@#f7f7f7@@],[0.6,@@#e6f5d0@@],[0.7,@@#b8e186@@],[0.8,@@#7fbc41@@],[0.9,@@#4d9221@@],[1,@@#276419@@]],@@sequential@@:[[0.0,@@#0d0887@@],[0.1111111111111111,@@#46039f@@],[0.2222222222222222,@@#7201a8@@],[0.3333333333333333,@@#9c179e@@],[0.4444444444444444,@@#bd3786@@],[0.5555555555555556,@@#d8576b@@],[0.6666666666666666,@@#ed7953@@],[0.7777777777777778,@@#fb9f3a@@],[0.8888888888888888,@@#fdca26@@],[1.0,@@#f0f921@@]],@@sequentialminus@@:[[0.0,@@#0d0887@@],[0.1111111111111111,@@#46039f@@],[0.2222222222222222,@@#7201a8@@],[0.3333333333333333,@@#9c179e@@],[0.4444444444444444,@@#bd3786@@],[0.5555555555555556,@@#d8576b@@],[0.6666666666666666,@@#ed7953@@],[0.7777777777777778,@@#fb9f3a@@],[0.8888888888888888,@@#fdca26@@],[1.0,@@#f0f921@@]]},@@colorway@@:[@@#636efa@@,@@#EF553B@@,@@#00cc96@@,@@#ab63fa@@,@@#FFA15A@@,@@#19d3f3@@,@@#FF6692@@,@@#B6E880@@,@@#FF97FF@@,@@#FECB52@@],@@font@@:{@@color@@:@@#2a3f5f@@},@@geo@@:{@@bgcolor@@:@@white@@,@@lakecolor@@:@@white@@,@@landcolor@@:@@#E5ECF6@@,@@showlakes@@:true,@@showland@@:true,@@subunitcolor@@:@@white@@},@@hoverlabel@@:{@@align@@:@@left@@},@@hovermode@@:@@closest@@,@@mapbox@@:{@@style@@:@@light@@},@@paper_bgcolor@@:@@white@@,@@plot_bgcolor@@:@@#E5ECF6@@,@@polar@@:{@@angularaxis@@:{@@gridcolor@@:@@white@@,@@linecolor@@:@@white@@,@@ticks@@:@@@@},@@bgcolor@@:@@#E5ECF6@@,@@radialaxis@@:{@@gridcolor@@:@@white@@,@@linecolor@@:@@white@@,@@ticks@@:@@@@}},@@scene@@:{@@xaxis@@:{@@backgroundcolor@@:@@#E5ECF6@@,@@gridcolor@@:@@white@@,@@gridwidth@@:2,@@linecolor@@:@@white@@,@@showbackground@@:true,@@ticks@@:@@@@,@@zerolinecolor@@:@@white@@},@@yaxis@@:{@@backgroundcolor@@:@@#E5ECF6@@,@@gridcolor@@:@@white@@,@@gridwidth@@:2,@@linecolor@@:@@white@@,@@showbackground@@:true,@@ticks@@:@@@@,@@zerolinecolor@@:@@white@@},@@zaxis@@:{@@backgroundcolor@@:@@#E5ECF6@@,@@gridcolor@@:@@white@@,@@gridwidth@@:2,@@linecolor@@:@@white@@,@@showbackground@@:true,@@ticks@@:@@@@,@@zerolinecolor@@:@@white@@}},@@shapedefaults@@:{@@line@@:{@@color@@:@@#2a3f5f@@}},@@ternary@@:{@@aaxis@@:{@@gridcolor@@:@@white@@,@@linecolor@@:@@white@@,@@ticks@@:@@@@},@@baxis@@:{@@gridcolor@@:@@white@@,@@linecolor@@:@@white@@,@@ticks@@:@@@@},@@bgcolor@@:@@#E5ECF6@@,@@caxis@@:{@@gridcolor@@:@@white@@,@@linecolor@@:@@white@@,@@ticks@@:@@@@}},@@title@@:{@@x@@:0.05},@@xaxis@@:{@@automargin@@:true,@@gridcolor@@:@@white@@,@@linecolor@@:@@white@@,@@ticks@@:@@@@,@@title@@:{@@standoff@@:15},@@zerolinecolor@@:@@white@@,@@zerolinewidth@@:2},@@yaxis@@:{@@automargin@@:true,@@gridcolor@@:@@white@@,@@linecolor@@:@@white@@,@@ticks@@:@@@@,@@title@@:{@@standoff@@:15},@@zerolinecolor@@:@@white@@,@@zerolinewidth@@:2}}},@@title@@:{@@text@@:@@Distribution of Product Count by Month@@},@@xaxis@@:{@@anchor@@:@@y@@,@@categoryarray@@:[@@January@@,@@February@@,@@March@@,@@April@@,@@May@@,@@June@@,@@July@@,@@August@@,@@September@@,@@October@@,@@November@@,@@December@@],@@categoryorder@@:@@array@@,@@domain@@:[0.0,1.0],@@title@@:{@@text@@:@@Month@@}},@@yaxis@@:{@@anchor@@:@@x@@,@@domain@@:[0.0,1.0],@@title@@:{@@text@@:@@Product Count (Quantity Sold)@@}}},                        {@@responsive@@: true}                    )', 'id': 9, 'name': 'Distribution of Product count by Month', 'title': 'Distribution of Product count by Month', 'type': 'plotly', 'resultType': 3, 'visibility': 'EXPANDED', 'time': 'Oct 02, 2024 03:17:15 AM'}\n",
      "Error : HTTPConnectionPool(host='localhost', port=80): Max retries exceeded with url: / (Caused by NewConnectionError('<urllib3.connection.HTTPConnection object at 0x127e8b3b0>: Failed to establish a new connection: [Errno 61] Connection refused'))\n"
     ]
    }
   ],
   "source": [
    "# Convert the invoice date column to datetime format\n",
    "filtered_df['INV_DT'] = pd.to_datetime(filtered_df['INV_DT'], errors='coerce')\n",
    "\n",
    "# Extract the month name from the invoice date\n",
    "filtered_df['Month'] = filtered_df['INV_DT'].dt.strftime('%B')\n",
    "\n",
    "# Grouping the data by month, summing the quantity (QTY) sold\n",
    "grouped_data = filtered_df.groupby('Month', as_index=False).agg({\n",
    "    'QTY': 'sum'\n",
    "})\n",
    "\n",
    "# Create a bar plot using plotly express for the product count by month\n",
    "fig = px.bar(\n",
    "    grouped_data, \n",
    "    x='Month', \n",
    "    y='QTY', \n",
    "    color='Month',\n",
    "    title='Distribution of Product Count by Month',\n",
    "    labels={'Month': 'Month', 'QTY': 'Product Count (Quantity Sold)'},\n",
    "    category_orders={'Month': ['January', 'February', 'March', 'April', 'May', 'June', 'July', 'August', 'September', 'October', 'November', 'December']}\n",
    ")\n",
    "\n",
    "\n",
    "test = plotly.offline.plot(fig, output_type='div', include_plotlyjs=False)\n",
    "\n",
    "\n",
    "example_plotly = f'{test}'\n",
    "restworkflowcontext.outPlotly(9, title=\"Distribution of Product count by Month\", text=example_plotly)\n",
    "# fig.show()\n"
   ]
  },
  {
   "cell_type": "code",
   "execution_count": 97,
   "metadata": {},
   "outputs": [
    {
     "name": "stdout",
     "output_type": "stream",
     "text": [
      "webserverURL: \n",
      "http://localhost\n",
      "Sending Message: {\"progress\": \"50\", \"id\": 9, \"name\": \"Progress\", \"title\": \"Progress\", \"type\": \"progress\", \"resultType\": 3, \"visibility\": \"EXPANDED\", \"time\": \"Oct 02, 2024 03:17:15 AM\"}\n",
      "Error : HTTPConnectionPool(host='localhost', port=80): Max retries exceeded with url: / (Caused by NewConnectionError('<urllib3.connection.HTTPConnection object at 0x13428cb60>: Failed to establish a new connection: [Errno 61] Connection refused'))\n"
     ]
    }
   ],
   "source": [
    "progress = \"50\"\n",
    "restworkflowcontext.outputProgress(9, title=\"Progress\", progress=progress)"
   ]
  },
  {
   "cell_type": "markdown",
   "metadata": {},
   "source": [
    "### Using `SKUID`"
   ]
  },
  {
   "cell_type": "code",
   "execution_count": 98,
   "metadata": {},
   "outputs": [
    {
     "name": "stderr",
     "output_type": "stream",
     "text": [
      "/var/folders/v6/d3bbw3c15nb5f7pk2twq62zw0000gn/T/ipykernel_77691/1614589936.py:2: SettingWithCopyWarning:\n",
      "\n",
      "\n",
      "A value is trying to be set on a copy of a slice from a DataFrame.\n",
      "Try using .loc[row_indexer,col_indexer] = value instead\n",
      "\n",
      "See the caveats in the documentation: https://pandas.pydata.org/pandas-docs/stable/user_guide/indexing.html#returning-a-view-versus-a-copy\n",
      "\n"
     ]
    },
    {
     "name": "stdout",
     "output_type": "stream",
     "text": [
      "Check the Input type..\n",
      "There is a match\n",
      " And Input is string type.\n",
      "webserverURL: \n",
      "http://localhost\n",
      "Sending Message: {'text': 'Plotly.newPlot(                        @@079380fe-6657-4df1-b35b-b2c094a22716@@,                        [{@@alignmentgroup@@:@@True@@,@@hovertemplate@@:@@Month=%{x}\\\\u003cbr\\\\u003eProduct Count=%{y}\\\\u003cextra\\\\u003e\\\\u003c\\\\u002fextra\\\\u003e@@,@@legendgroup@@:@@January@@,@@marker@@:{@@color@@:@@#636efa@@,@@pattern@@:{@@shape@@:@@@@}},@@name@@:@@January@@,@@offsetgroup@@:@@January@@,@@orientation@@:@@v@@,@@showlegend@@:true,@@textposition@@:@@auto@@,@@x@@:[@@January@@],@@xaxis@@:@@x@@,@@y@@:[330],@@yaxis@@:@@y@@,@@type@@:@@bar@@},{@@alignmentgroup@@:@@True@@,@@hovertemplate@@:@@Month=%{x}\\\\u003cbr\\\\u003eProduct Count=%{y}\\\\u003cextra\\\\u003e\\\\u003c\\\\u002fextra\\\\u003e@@,@@legendgroup@@:@@February@@,@@marker@@:{@@color@@:@@#EF553B@@,@@pattern@@:{@@shape@@:@@@@}},@@name@@:@@February@@,@@offsetgroup@@:@@February@@,@@orientation@@:@@v@@,@@showlegend@@:true,@@textposition@@:@@auto@@,@@x@@:[@@February@@],@@xaxis@@:@@x@@,@@y@@:[476],@@yaxis@@:@@y@@,@@type@@:@@bar@@},{@@alignmentgroup@@:@@True@@,@@hovertemplate@@:@@Month=%{x}\\\\u003cbr\\\\u003eProduct Count=%{y}\\\\u003cextra\\\\u003e\\\\u003c\\\\u002fextra\\\\u003e@@,@@legendgroup@@:@@March@@,@@marker@@:{@@color@@:@@#00cc96@@,@@pattern@@:{@@shape@@:@@@@}},@@name@@:@@March@@,@@offsetgroup@@:@@March@@,@@orientation@@:@@v@@,@@showlegend@@:true,@@textposition@@:@@auto@@,@@x@@:[@@March@@],@@xaxis@@:@@x@@,@@y@@:[217],@@yaxis@@:@@y@@,@@type@@:@@bar@@},{@@alignmentgroup@@:@@True@@,@@hovertemplate@@:@@Month=%{x}\\\\u003cbr\\\\u003eProduct Count=%{y}\\\\u003cextra\\\\u003e\\\\u003c\\\\u002fextra\\\\u003e@@,@@legendgroup@@:@@April@@,@@marker@@:{@@color@@:@@#ab63fa@@,@@pattern@@:{@@shape@@:@@@@}},@@name@@:@@April@@,@@offsetgroup@@:@@April@@,@@orientation@@:@@v@@,@@showlegend@@:true,@@textposition@@:@@auto@@,@@x@@:[@@April@@],@@xaxis@@:@@x@@,@@y@@:[240],@@yaxis@@:@@y@@,@@type@@:@@bar@@},{@@alignmentgroup@@:@@True@@,@@hovertemplate@@:@@Month=%{x}\\\\u003cbr\\\\u003eProduct Count=%{y}\\\\u003cextra\\\\u003e\\\\u003c\\\\u002fextra\\\\u003e@@,@@legendgroup@@:@@May@@,@@marker@@:{@@color@@:@@#FFA15A@@,@@pattern@@:{@@shape@@:@@@@}},@@name@@:@@May@@,@@offsetgroup@@:@@May@@,@@orientation@@:@@v@@,@@showlegend@@:true,@@textposition@@:@@auto@@,@@x@@:[@@May@@],@@xaxis@@:@@x@@,@@y@@:[467],@@yaxis@@:@@y@@,@@type@@:@@bar@@},{@@alignmentgroup@@:@@True@@,@@hovertemplate@@:@@Month=%{x}\\\\u003cbr\\\\u003eProduct Count=%{y}\\\\u003cextra\\\\u003e\\\\u003c\\\\u002fextra\\\\u003e@@,@@legendgroup@@:@@June@@,@@marker@@:{@@color@@:@@#19d3f3@@,@@pattern@@:{@@shape@@:@@@@}},@@name@@:@@June@@,@@offsetgroup@@:@@June@@,@@orientation@@:@@v@@,@@showlegend@@:true,@@textposition@@:@@auto@@,@@x@@:[@@June@@],@@xaxis@@:@@x@@,@@y@@:[120],@@yaxis@@:@@y@@,@@type@@:@@bar@@},{@@alignmentgroup@@:@@True@@,@@hovertemplate@@:@@Month=%{x}\\\\u003cbr\\\\u003eProduct Count=%{y}\\\\u003cextra\\\\u003e\\\\u003c\\\\u002fextra\\\\u003e@@,@@legendgroup@@:@@July@@,@@marker@@:{@@color@@:@@#FF6692@@,@@pattern@@:{@@shape@@:@@@@}},@@name@@:@@July@@,@@offsetgroup@@:@@July@@,@@orientation@@:@@v@@,@@showlegend@@:true,@@textposition@@:@@auto@@,@@x@@:[@@July@@],@@xaxis@@:@@x@@,@@y@@:[248],@@yaxis@@:@@y@@,@@type@@:@@bar@@},{@@alignmentgroup@@:@@True@@,@@hovertemplate@@:@@Month=%{x}\\\\u003cbr\\\\u003eProduct Count=%{y}\\\\u003cextra\\\\u003e\\\\u003c\\\\u002fextra\\\\u003e@@,@@legendgroup@@:@@August@@,@@marker@@:{@@color@@:@@#B6E880@@,@@pattern@@:{@@shape@@:@@@@}},@@name@@:@@August@@,@@offsetgroup@@:@@August@@,@@orientation@@:@@v@@,@@showlegend@@:true,@@textposition@@:@@auto@@,@@x@@:[@@August@@],@@xaxis@@:@@x@@,@@y@@:[248],@@yaxis@@:@@y@@,@@type@@:@@bar@@},{@@alignmentgroup@@:@@True@@,@@hovertemplate@@:@@Month=%{x}\\\\u003cbr\\\\u003eProduct Count=%{y}\\\\u003cextra\\\\u003e\\\\u003c\\\\u002fextra\\\\u003e@@,@@legendgroup@@:@@September@@,@@marker@@:{@@color@@:@@#FF97FF@@,@@pattern@@:{@@shape@@:@@@@}},@@name@@:@@September@@,@@offsetgroup@@:@@September@@,@@orientation@@:@@v@@,@@showlegend@@:true,@@textposition@@:@@auto@@,@@x@@:[@@September@@],@@xaxis@@:@@x@@,@@y@@:[196],@@yaxis@@:@@y@@,@@type@@:@@bar@@},{@@alignmentgroup@@:@@True@@,@@hovertemplate@@:@@Month=%{x}\\\\u003cbr\\\\u003eProduct Count=%{y}\\\\u003cextra\\\\u003e\\\\u003c\\\\u002fextra\\\\u003e@@,@@legendgroup@@:@@October@@,@@marker@@:{@@color@@:@@#FECB52@@,@@pattern@@:{@@shape@@:@@@@}},@@name@@:@@October@@,@@offsetgroup@@:@@October@@,@@orientation@@:@@v@@,@@showlegend@@:true,@@textposition@@:@@auto@@,@@x@@:[@@October@@],@@xaxis@@:@@x@@,@@y@@:[120],@@yaxis@@:@@y@@,@@type@@:@@bar@@},{@@alignmentgroup@@:@@True@@,@@hovertemplate@@:@@Month=%{x}\\\\u003cbr\\\\u003eProduct Count=%{y}\\\\u003cextra\\\\u003e\\\\u003c\\\\u002fextra\\\\u003e@@,@@legendgroup@@:@@November@@,@@marker@@:{@@color@@:@@#636efa@@,@@pattern@@:{@@shape@@:@@@@}},@@name@@:@@November@@,@@offsetgroup@@:@@November@@,@@orientation@@:@@v@@,@@showlegend@@:true,@@textposition@@:@@auto@@,@@x@@:[@@November@@],@@xaxis@@:@@x@@,@@y@@:[120],@@yaxis@@:@@y@@,@@type@@:@@bar@@}],                        {@@barmode@@:@@relative@@,@@legend@@:{@@title@@:{@@text@@:@@Month@@},@@tracegroupgap@@:0},@@template@@:{@@data@@:{@@barpolar@@:[{@@marker@@:{@@line@@:{@@color@@:@@#E5ECF6@@,@@width@@:0.5},@@pattern@@:{@@fillmode@@:@@overlay@@,@@size@@:10,@@solidity@@:0.2}},@@type@@:@@barpolar@@}],@@bar@@:[{@@error_x@@:{@@color@@:@@#2a3f5f@@},@@error_y@@:{@@color@@:@@#2a3f5f@@},@@marker@@:{@@line@@:{@@color@@:@@#E5ECF6@@,@@width@@:0.5},@@pattern@@:{@@fillmode@@:@@overlay@@,@@size@@:10,@@solidity@@:0.2}},@@type@@:@@bar@@}],@@carpet@@:[{@@aaxis@@:{@@endlinecolor@@:@@#2a3f5f@@,@@gridcolor@@:@@white@@,@@linecolor@@:@@white@@,@@minorgridcolor@@:@@white@@,@@startlinecolor@@:@@#2a3f5f@@},@@baxis@@:{@@endlinecolor@@:@@#2a3f5f@@,@@gridcolor@@:@@white@@,@@linecolor@@:@@white@@,@@minorgridcolor@@:@@white@@,@@startlinecolor@@:@@#2a3f5f@@},@@type@@:@@carpet@@}],@@choropleth@@:[{@@colorbar@@:{@@outlinewidth@@:0,@@ticks@@:@@@@},@@type@@:@@choropleth@@}],@@contourcarpet@@:[{@@colorbar@@:{@@outlinewidth@@:0,@@ticks@@:@@@@},@@type@@:@@contourcarpet@@}],@@contour@@:[{@@colorbar@@:{@@outlinewidth@@:0,@@ticks@@:@@@@},@@colorscale@@:[[0.0,@@#0d0887@@],[0.1111111111111111,@@#46039f@@],[0.2222222222222222,@@#7201a8@@],[0.3333333333333333,@@#9c179e@@],[0.4444444444444444,@@#bd3786@@],[0.5555555555555556,@@#d8576b@@],[0.6666666666666666,@@#ed7953@@],[0.7777777777777778,@@#fb9f3a@@],[0.8888888888888888,@@#fdca26@@],[1.0,@@#f0f921@@]],@@type@@:@@contour@@}],@@heatmapgl@@:[{@@colorbar@@:{@@outlinewidth@@:0,@@ticks@@:@@@@},@@colorscale@@:[[0.0,@@#0d0887@@],[0.1111111111111111,@@#46039f@@],[0.2222222222222222,@@#7201a8@@],[0.3333333333333333,@@#9c179e@@],[0.4444444444444444,@@#bd3786@@],[0.5555555555555556,@@#d8576b@@],[0.6666666666666666,@@#ed7953@@],[0.7777777777777778,@@#fb9f3a@@],[0.8888888888888888,@@#fdca26@@],[1.0,@@#f0f921@@]],@@type@@:@@heatmapgl@@}],@@heatmap@@:[{@@colorbar@@:{@@outlinewidth@@:0,@@ticks@@:@@@@},@@colorscale@@:[[0.0,@@#0d0887@@],[0.1111111111111111,@@#46039f@@],[0.2222222222222222,@@#7201a8@@],[0.3333333333333333,@@#9c179e@@],[0.4444444444444444,@@#bd3786@@],[0.5555555555555556,@@#d8576b@@],[0.6666666666666666,@@#ed7953@@],[0.7777777777777778,@@#fb9f3a@@],[0.8888888888888888,@@#fdca26@@],[1.0,@@#f0f921@@]],@@type@@:@@heatmap@@}],@@histogram2dcontour@@:[{@@colorbar@@:{@@outlinewidth@@:0,@@ticks@@:@@@@},@@colorscale@@:[[0.0,@@#0d0887@@],[0.1111111111111111,@@#46039f@@],[0.2222222222222222,@@#7201a8@@],[0.3333333333333333,@@#9c179e@@],[0.4444444444444444,@@#bd3786@@],[0.5555555555555556,@@#d8576b@@],[0.6666666666666666,@@#ed7953@@],[0.7777777777777778,@@#fb9f3a@@],[0.8888888888888888,@@#fdca26@@],[1.0,@@#f0f921@@]],@@type@@:@@histogram2dcontour@@}],@@histogram2d@@:[{@@colorbar@@:{@@outlinewidth@@:0,@@ticks@@:@@@@},@@colorscale@@:[[0.0,@@#0d0887@@],[0.1111111111111111,@@#46039f@@],[0.2222222222222222,@@#7201a8@@],[0.3333333333333333,@@#9c179e@@],[0.4444444444444444,@@#bd3786@@],[0.5555555555555556,@@#d8576b@@],[0.6666666666666666,@@#ed7953@@],[0.7777777777777778,@@#fb9f3a@@],[0.8888888888888888,@@#fdca26@@],[1.0,@@#f0f921@@]],@@type@@:@@histogram2d@@}],@@histogram@@:[{@@marker@@:{@@pattern@@:{@@fillmode@@:@@overlay@@,@@size@@:10,@@solidity@@:0.2}},@@type@@:@@histogram@@}],@@mesh3d@@:[{@@colorbar@@:{@@outlinewidth@@:0,@@ticks@@:@@@@},@@type@@:@@mesh3d@@}],@@parcoords@@:[{@@line@@:{@@colorbar@@:{@@outlinewidth@@:0,@@ticks@@:@@@@}},@@type@@:@@parcoords@@}],@@pie@@:[{@@automargin@@:true,@@type@@:@@pie@@}],@@scatter3d@@:[{@@line@@:{@@colorbar@@:{@@outlinewidth@@:0,@@ticks@@:@@@@}},@@marker@@:{@@colorbar@@:{@@outlinewidth@@:0,@@ticks@@:@@@@}},@@type@@:@@scatter3d@@}],@@scattercarpet@@:[{@@marker@@:{@@colorbar@@:{@@outlinewidth@@:0,@@ticks@@:@@@@}},@@type@@:@@scattercarpet@@}],@@scattergeo@@:[{@@marker@@:{@@colorbar@@:{@@outlinewidth@@:0,@@ticks@@:@@@@}},@@type@@:@@scattergeo@@}],@@scattergl@@:[{@@marker@@:{@@colorbar@@:{@@outlinewidth@@:0,@@ticks@@:@@@@}},@@type@@:@@scattergl@@}],@@scattermapbox@@:[{@@marker@@:{@@colorbar@@:{@@outlinewidth@@:0,@@ticks@@:@@@@}},@@type@@:@@scattermapbox@@}],@@scatterpolargl@@:[{@@marker@@:{@@colorbar@@:{@@outlinewidth@@:0,@@ticks@@:@@@@}},@@type@@:@@scatterpolargl@@}],@@scatterpolar@@:[{@@marker@@:{@@colorbar@@:{@@outlinewidth@@:0,@@ticks@@:@@@@}},@@type@@:@@scatterpolar@@}],@@scatter@@:[{@@fillpattern@@:{@@fillmode@@:@@overlay@@,@@size@@:10,@@solidity@@:0.2},@@type@@:@@scatter@@}],@@scatterternary@@:[{@@marker@@:{@@colorbar@@:{@@outlinewidth@@:0,@@ticks@@:@@@@}},@@type@@:@@scatterternary@@}],@@surface@@:[{@@colorbar@@:{@@outlinewidth@@:0,@@ticks@@:@@@@},@@colorscale@@:[[0.0,@@#0d0887@@],[0.1111111111111111,@@#46039f@@],[0.2222222222222222,@@#7201a8@@],[0.3333333333333333,@@#9c179e@@],[0.4444444444444444,@@#bd3786@@],[0.5555555555555556,@@#d8576b@@],[0.6666666666666666,@@#ed7953@@],[0.7777777777777778,@@#fb9f3a@@],[0.8888888888888888,@@#fdca26@@],[1.0,@@#f0f921@@]],@@type@@:@@surface@@}],@@table@@:[{@@cells@@:{@@fill@@:{@@color@@:@@#EBF0F8@@},@@line@@:{@@color@@:@@white@@}},@@header@@:{@@fill@@:{@@color@@:@@#C8D4E3@@},@@line@@:{@@color@@:@@white@@}},@@type@@:@@table@@}]},@@layout@@:{@@annotationdefaults@@:{@@arrowcolor@@:@@#2a3f5f@@,@@arrowhead@@:0,@@arrowwidth@@:1},@@autotypenumbers@@:@@strict@@,@@coloraxis@@:{@@colorbar@@:{@@outlinewidth@@:0,@@ticks@@:@@@@}},@@colorscale@@:{@@diverging@@:[[0,@@#8e0152@@],[0.1,@@#c51b7d@@],[0.2,@@#de77ae@@],[0.3,@@#f1b6da@@],[0.4,@@#fde0ef@@],[0.5,@@#f7f7f7@@],[0.6,@@#e6f5d0@@],[0.7,@@#b8e186@@],[0.8,@@#7fbc41@@],[0.9,@@#4d9221@@],[1,@@#276419@@]],@@sequential@@:[[0.0,@@#0d0887@@],[0.1111111111111111,@@#46039f@@],[0.2222222222222222,@@#7201a8@@],[0.3333333333333333,@@#9c179e@@],[0.4444444444444444,@@#bd3786@@],[0.5555555555555556,@@#d8576b@@],[0.6666666666666666,@@#ed7953@@],[0.7777777777777778,@@#fb9f3a@@],[0.8888888888888888,@@#fdca26@@],[1.0,@@#f0f921@@]],@@sequentialminus@@:[[0.0,@@#0d0887@@],[0.1111111111111111,@@#46039f@@],[0.2222222222222222,@@#7201a8@@],[0.3333333333333333,@@#9c179e@@],[0.4444444444444444,@@#bd3786@@],[0.5555555555555556,@@#d8576b@@],[0.6666666666666666,@@#ed7953@@],[0.7777777777777778,@@#fb9f3a@@],[0.8888888888888888,@@#fdca26@@],[1.0,@@#f0f921@@]]},@@colorway@@:[@@#636efa@@,@@#EF553B@@,@@#00cc96@@,@@#ab63fa@@,@@#FFA15A@@,@@#19d3f3@@,@@#FF6692@@,@@#B6E880@@,@@#FF97FF@@,@@#FECB52@@],@@font@@:{@@color@@:@@#2a3f5f@@},@@geo@@:{@@bgcolor@@:@@white@@,@@lakecolor@@:@@white@@,@@landcolor@@:@@#E5ECF6@@,@@showlakes@@:true,@@showland@@:true,@@subunitcolor@@:@@white@@},@@hoverlabel@@:{@@align@@:@@left@@},@@hovermode@@:@@closest@@,@@mapbox@@:{@@style@@:@@light@@},@@paper_bgcolor@@:@@white@@,@@plot_bgcolor@@:@@#E5ECF6@@,@@polar@@:{@@angularaxis@@:{@@gridcolor@@:@@white@@,@@linecolor@@:@@white@@,@@ticks@@:@@@@},@@bgcolor@@:@@#E5ECF6@@,@@radialaxis@@:{@@gridcolor@@:@@white@@,@@linecolor@@:@@white@@,@@ticks@@:@@@@}},@@scene@@:{@@xaxis@@:{@@backgroundcolor@@:@@#E5ECF6@@,@@gridcolor@@:@@white@@,@@gridwidth@@:2,@@linecolor@@:@@white@@,@@showbackground@@:true,@@ticks@@:@@@@,@@zerolinecolor@@:@@white@@},@@yaxis@@:{@@backgroundcolor@@:@@#E5ECF6@@,@@gridcolor@@:@@white@@,@@gridwidth@@:2,@@linecolor@@:@@white@@,@@showbackground@@:true,@@ticks@@:@@@@,@@zerolinecolor@@:@@white@@},@@zaxis@@:{@@backgroundcolor@@:@@#E5ECF6@@,@@gridcolor@@:@@white@@,@@gridwidth@@:2,@@linecolor@@:@@white@@,@@showbackground@@:true,@@ticks@@:@@@@,@@zerolinecolor@@:@@white@@}},@@shapedefaults@@:{@@line@@:{@@color@@:@@#2a3f5f@@}},@@ternary@@:{@@aaxis@@:{@@gridcolor@@:@@white@@,@@linecolor@@:@@white@@,@@ticks@@:@@@@},@@baxis@@:{@@gridcolor@@:@@white@@,@@linecolor@@:@@white@@,@@ticks@@:@@@@},@@bgcolor@@:@@#E5ECF6@@,@@caxis@@:{@@gridcolor@@:@@white@@,@@linecolor@@:@@white@@,@@ticks@@:@@@@}},@@title@@:{@@x@@:0.05},@@xaxis@@:{@@automargin@@:true,@@gridcolor@@:@@white@@,@@linecolor@@:@@white@@,@@ticks@@:@@@@,@@title@@:{@@standoff@@:15},@@zerolinecolor@@:@@white@@,@@zerolinewidth@@:2},@@yaxis@@:{@@automargin@@:true,@@gridcolor@@:@@white@@,@@linecolor@@:@@white@@,@@ticks@@:@@@@,@@title@@:{@@standoff@@:15},@@zerolinecolor@@:@@white@@,@@zerolinewidth@@:2}}},@@title@@:{@@text@@:@@Distribution of Product Count by Month@@},@@xaxis@@:{@@anchor@@:@@y@@,@@categoryarray@@:[@@January@@,@@February@@,@@March@@,@@April@@,@@May@@,@@June@@,@@July@@,@@August@@,@@September@@,@@October@@,@@November@@,@@December@@],@@categoryorder@@:@@array@@,@@domain@@:[0.0,1.0],@@title@@:{@@text@@:@@Month@@}},@@yaxis@@:{@@anchor@@:@@x@@,@@domain@@:[0.0,1.0],@@title@@:{@@text@@:@@Product Count@@}}},                        {@@responsive@@: true}                    )', 'id': 9, 'name': 'Distribution of Product count by Month', 'title': 'Distribution of Product count by Month', 'type': 'plotly', 'resultType': 3, 'visibility': 'EXPANDED', 'time': 'Oct 02, 2024 03:17:15 AM'}\n",
      "Error : HTTPConnectionPool(host='localhost', port=80): Max retries exceeded with url: / (Caused by NewConnectionError('<urllib3.connection.HTTPConnection object at 0x1344b8e00>: Failed to establish a new connection: [Errno 61] Connection refused'))\n"
     ]
    },
    {
     "name": "stderr",
     "output_type": "stream",
     "text": [
      "/var/folders/v6/d3bbw3c15nb5f7pk2twq62zw0000gn/T/ipykernel_77691/1614589936.py:5: SettingWithCopyWarning:\n",
      "\n",
      "\n",
      "A value is trying to be set on a copy of a slice from a DataFrame.\n",
      "Try using .loc[row_indexer,col_indexer] = value instead\n",
      "\n",
      "See the caveats in the documentation: https://pandas.pydata.org/pandas-docs/stable/user_guide/indexing.html#returning-a-view-versus-a-copy\n",
      "\n"
     ]
    }
   ],
   "source": [
    "# Convert the invoice date column to datetime format\n",
    "filtered_df['INV_DT'] = pd.to_datetime(filtered_df['INV_DT'], errors='coerce')\n",
    "\n",
    "# Extract the month name from the invoice date\n",
    "filtered_df['Month'] = filtered_df['INV_DT'].dt.strftime('%B')\n",
    "\n",
    "# Grouping the data by month, summing the quantity (QTY) sold\n",
    "grouped_data = filtered_df.groupby('Month', as_index=False).agg({\n",
    "    'SKUID': 'count'\n",
    "})\n",
    "\n",
    "# Create a bar plot using plotly express for the product count by month\n",
    "fig = px.bar(\n",
    "    grouped_data, \n",
    "    x='Month', \n",
    "    y='SKUID', \n",
    "    color='Month',\n",
    "    title='Distribution of Product Count by Month',\n",
    "    labels={'Month': 'Month', 'SKUID': 'Product Count'},\n",
    "    category_orders={'Month': ['January', 'February', 'March', 'April', 'May', 'June', 'July', 'August', 'September', 'October', 'November', 'December']}\n",
    ")\n",
    "\n",
    "\n",
    "test = plotly.offline.plot(fig, output_type='div', include_plotlyjs=False)\n",
    "example_plotly = f'{test}'\n",
    "restworkflowcontext.outPlotly(9, title=\"Distribution of Product count by Month\", text=example_plotly)\n",
    "\n",
    "\n",
    "# fig.show()\n"
   ]
  },
  {
   "cell_type": "code",
   "execution_count": 99,
   "metadata": {},
   "outputs": [
    {
     "name": "stdout",
     "output_type": "stream",
     "text": [
      "webserverURL: \n",
      "http://localhost\n",
      "Sending Message: {\"progress\": \"55\", \"id\": 9, \"name\": \"Progress\", \"title\": \"Progress\", \"type\": \"progress\", \"resultType\": 3, \"visibility\": \"EXPANDED\", \"time\": \"Oct 02, 2024 03:17:15 AM\"}\n",
      "Error : HTTPConnectionPool(host='localhost', port=80): Max retries exceeded with url: / (Caused by NewConnectionError('<urllib3.connection.HTTPConnection object at 0x1344bb230>: Failed to establish a new connection: [Errno 61] Connection refused'))\n"
     ]
    }
   ],
   "source": [
    "progress = \"55\"\n",
    "restworkflowcontext.outputProgress(9, title=\"Progress\", progress=progress)"
   ]
  },
  {
   "cell_type": "markdown",
   "metadata": {},
   "source": [
    "## Distribution of Invoices by Month for each customer"
   ]
  },
  {
   "cell_type": "code",
   "execution_count": 100,
   "metadata": {},
   "outputs": [
    {
     "name": "stderr",
     "output_type": "stream",
     "text": [
      "/var/folders/v6/d3bbw3c15nb5f7pk2twq62zw0000gn/T/ipykernel_77691/3089907950.py:2: SettingWithCopyWarning:\n",
      "\n",
      "\n",
      "A value is trying to be set on a copy of a slice from a DataFrame.\n",
      "Try using .loc[row_indexer,col_indexer] = value instead\n",
      "\n",
      "See the caveats in the documentation: https://pandas.pydata.org/pandas-docs/stable/user_guide/indexing.html#returning-a-view-versus-a-copy\n",
      "\n",
      "/var/folders/v6/d3bbw3c15nb5f7pk2twq62zw0000gn/T/ipykernel_77691/3089907950.py:5: SettingWithCopyWarning:\n",
      "\n",
      "\n",
      "A value is trying to be set on a copy of a slice from a DataFrame.\n",
      "Try using .loc[row_indexer,col_indexer] = value instead\n",
      "\n",
      "See the caveats in the documentation: https://pandas.pydata.org/pandas-docs/stable/user_guide/indexing.html#returning-a-view-versus-a-copy\n",
      "\n"
     ]
    },
    {
     "name": "stdout",
     "output_type": "stream",
     "text": [
      "Check the Input type..\n",
      "There is a match\n",
      " And Input is string type.\n",
      "webserverURL: \n",
      "http://localhost\n",
      "Sending Message: {'text': 'Plotly.newPlot(                        @@0ab43759-b148-478e-8096-345827ab45fa@@,                        [{@@alignmentgroup@@:@@True@@,@@hovertemplate@@:@@Month=January\\\\u003cbr\\\\u003eCustomer=%{x}\\\\u003cbr\\\\u003eNumber of Invoices=%{y}\\\\u003cextra\\\\u003e\\\\u003c\\\\u002fextra\\\\u003e@@,@@legendgroup@@:@@January@@,@@marker@@:{@@color@@:@@#636efa@@,@@pattern@@:{@@shape@@:@@@@}},@@name@@:@@January@@,@@offsetgroup@@:@@January@@,@@orientation@@:@@v@@,@@showlegend@@:true,@@textposition@@:@@auto@@,@@x@@:[@@Ballard Rowland@@,@@English Ruiz@@,@@Kane Robertson@@,@@Norman and Collins Carr@@,@@Patterson and Strickland Downs@@,@@Villa and Ray Brown@@,@@White Johnson@@],@@xaxis@@:@@x@@,@@y@@:[30,30,30,1,31,30,8],@@yaxis@@:@@y@@,@@type@@:@@bar@@},{@@alignmentgroup@@:@@True@@,@@hovertemplate@@:@@Month=February\\\\u003cbr\\\\u003eCustomer=%{x}\\\\u003cbr\\\\u003eNumber of Invoices=%{y}\\\\u003cextra\\\\u003e\\\\u003c\\\\u002fextra\\\\u003e@@,@@legendgroup@@:@@February@@,@@marker@@:{@@color@@:@@#EF553B@@,@@pattern@@:{@@shape@@:@@@@}},@@name@@:@@February@@,@@offsetgroup@@:@@February@@,@@orientation@@:@@v@@,@@showlegend@@:true,@@textposition@@:@@auto@@,@@x@@:[@@Ballard Rowland@@,@@English Ruiz@@,@@Kane Robertson@@,@@Patterson and Strickland Downs@@,@@Villa and Ray Brown@@,@@White Johnson@@],@@xaxis@@:@@x@@,@@y@@:[28,56,56,33,28,20],@@yaxis@@:@@y@@,@@type@@:@@bar@@},{@@alignmentgroup@@:@@True@@,@@hovertemplate@@:@@Month=March\\\\u003cbr\\\\u003eCustomer=%{x}\\\\u003cbr\\\\u003eNumber of Invoices=%{y}\\\\u003cextra\\\\u003e\\\\u003c\\\\u002fextra\\\\u003e@@,@@legendgroup@@:@@March@@,@@marker@@:{@@color@@:@@#00cc96@@,@@pattern@@:{@@shape@@:@@@@}},@@name@@:@@March@@,@@offsetgroup@@:@@March@@,@@orientation@@:@@v@@,@@showlegend@@:true,@@textposition@@:@@auto@@,@@x@@:[@@English Ruiz@@,@@Kane Robertson@@,@@Patterson and Strickland Downs@@,@@White Johnson@@],@@xaxis@@:@@x@@,@@y@@:[31,31,4,18],@@yaxis@@:@@y@@,@@type@@:@@bar@@},{@@alignmentgroup@@:@@True@@,@@hovertemplate@@:@@Month=April\\\\u003cbr\\\\u003eCustomer=%{x}\\\\u003cbr\\\\u003eNumber of Invoices=%{y}\\\\u003cextra\\\\u003e\\\\u003c\\\\u002fextra\\\\u003e@@,@@legendgroup@@:@@April@@,@@marker@@:{@@color@@:@@#ab63fa@@,@@pattern@@:{@@shape@@:@@@@}},@@name@@:@@April@@,@@offsetgroup@@:@@April@@,@@orientation@@:@@v@@,@@showlegend@@:true,@@textposition@@:@@auto@@,@@x@@:[@@Ballard Rowland@@,@@Patterson and Strickland Downs@@,@@Villa and Ray Brown@@],@@xaxis@@:@@x@@,@@y@@:[30,62,60],@@yaxis@@:@@y@@,@@type@@:@@bar@@},{@@alignmentgroup@@:@@True@@,@@hovertemplate@@:@@Month=May\\\\u003cbr\\\\u003eCustomer=%{x}\\\\u003cbr\\\\u003eNumber of Invoices=%{y}\\\\u003cextra\\\\u003e\\\\u003c\\\\u002fextra\\\\u003e@@,@@legendgroup@@:@@May@@,@@marker@@:{@@color@@:@@#FFA15A@@,@@pattern@@:{@@shape@@:@@@@}},@@name@@:@@May@@,@@offsetgroup@@:@@May@@,@@orientation@@:@@v@@,@@showlegend@@:true,@@textposition@@:@@auto@@,@@x@@:[@@Ballard Rowland@@,@@English Ruiz@@,@@Kane Robertson@@,@@Martinez PLC@@,@@Patterson and Strickland Downs@@,@@Villa and Ray Brown@@,@@White Johnson@@],@@xaxis@@:@@x@@,@@y@@:[31,31,31,21,39,31,18],@@yaxis@@:@@y@@,@@type@@:@@bar@@},{@@alignmentgroup@@:@@True@@,@@hovertemplate@@:@@Month=June\\\\u003cbr\\\\u003eCustomer=%{x}\\\\u003cbr\\\\u003eNumber of Invoices=%{y}\\\\u003cextra\\\\u003e\\\\u003c\\\\u002fextra\\\\u003e@@,@@legendgroup@@:@@June@@,@@marker@@:{@@color@@:@@#19d3f3@@,@@pattern@@:{@@shape@@:@@@@}},@@name@@:@@June@@,@@offsetgroup@@:@@June@@,@@orientation@@:@@v@@,@@showlegend@@:true,@@textposition@@:@@auto@@,@@x@@:[@@Ballard Rowland@@,@@Patterson and Strickland Downs@@,@@Villa and Ray Brown@@],@@xaxis@@:@@x@@,@@y@@:[30,36,30],@@yaxis@@:@@y@@,@@type@@:@@bar@@},{@@alignmentgroup@@:@@True@@,@@hovertemplate@@:@@Month=July\\\\u003cbr\\\\u003eCustomer=%{x}\\\\u003cbr\\\\u003eNumber of Invoices=%{y}\\\\u003cextra\\\\u003e\\\\u003c\\\\u002fextra\\\\u003e@@,@@legendgroup@@:@@July@@,@@marker@@:{@@color@@:@@#FF6692@@,@@pattern@@:{@@shape@@:@@@@}},@@name@@:@@July@@,@@offsetgroup@@:@@July@@,@@orientation@@:@@v@@,@@showlegend@@:true,@@textposition@@:@@auto@@,@@x@@:[@@Ballard Rowland@@,@@Patterson and Strickland Downs@@,@@Villa and Ray Brown@@],@@xaxis@@:@@x@@,@@y@@:[31,64,62],@@yaxis@@:@@y@@,@@type@@:@@bar@@},{@@alignmentgroup@@:@@True@@,@@hovertemplate@@:@@Month=August\\\\u003cbr\\\\u003eCustomer=%{x}\\\\u003cbr\\\\u003eNumber of Invoices=%{y}\\\\u003cextra\\\\u003e\\\\u003c\\\\u002fextra\\\\u003e@@,@@legendgroup@@:@@August@@,@@marker@@:{@@color@@:@@#B6E880@@,@@pattern@@:{@@shape@@:@@@@}},@@name@@:@@August@@,@@offsetgroup@@:@@August@@,@@orientation@@:@@v@@,@@showlegend@@:true,@@textposition@@:@@auto@@,@@x@@:[@@Ballard Rowland@@,@@Patterson and Strickland Downs@@,@@Villa and Ray Brown@@],@@xaxis@@:@@x@@,@@y@@:[31,65,62],@@yaxis@@:@@y@@,@@type@@:@@bar@@},{@@alignmentgroup@@:@@True@@,@@hovertemplate@@:@@Month=September\\\\u003cbr\\\\u003eCustomer=%{x}\\\\u003cbr\\\\u003eNumber of Invoices=%{y}\\\\u003cextra\\\\u003e\\\\u003c\\\\u002fextra\\\\u003e@@,@@legendgroup@@:@@September@@,@@marker@@:{@@color@@:@@#FF97FF@@,@@pattern@@:{@@shape@@:@@@@}},@@name@@:@@September@@,@@offsetgroup@@:@@September@@,@@orientation@@:@@v@@,@@showlegend@@:true,@@textposition@@:@@auto@@,@@x@@:[@@Martinez PLC@@,@@Norman and Collins Carr@@,@@Patterson and Strickland Downs@@,@@Villa and Ray Brown@@],@@xaxis@@:@@x@@,@@y@@:[19,1,30,30],@@yaxis@@:@@y@@,@@type@@:@@bar@@},{@@alignmentgroup@@:@@True@@,@@hovertemplate@@:@@Month=October\\\\u003cbr\\\\u003eCustomer=%{x}\\\\u003cbr\\\\u003eNumber of Invoices=%{y}\\\\u003cextra\\\\u003e\\\\u003c\\\\u002fextra\\\\u003e@@,@@legendgroup@@:@@October@@,@@marker@@:{@@color@@:@@#FECB52@@,@@pattern@@:{@@shape@@:@@@@}},@@name@@:@@October@@,@@offsetgroup@@:@@October@@,@@orientation@@:@@v@@,@@showlegend@@:true,@@textposition@@:@@auto@@,@@x@@:[@@Martinez PLC@@,@@Norman and Collins Carr@@],@@xaxis@@:@@x@@,@@y@@:[21,1],@@yaxis@@:@@y@@,@@type@@:@@bar@@},{@@alignmentgroup@@:@@True@@,@@hovertemplate@@:@@Month=November\\\\u003cbr\\\\u003eCustomer=%{x}\\\\u003cbr\\\\u003eNumber of Invoices=%{y}\\\\u003cextra\\\\u003e\\\\u003c\\\\u002fextra\\\\u003e@@,@@legendgroup@@:@@November@@,@@marker@@:{@@color@@:@@#636efa@@,@@pattern@@:{@@shape@@:@@@@}},@@name@@:@@November@@,@@offsetgroup@@:@@November@@,@@orientation@@:@@v@@,@@showlegend@@:true,@@textposition@@:@@auto@@,@@x@@:[@@Patterson and Strickland Downs@@,@@Villa and Ray Brown@@],@@xaxis@@:@@x@@,@@y@@:[30,30],@@yaxis@@:@@y@@,@@type@@:@@bar@@}],                        {@@barmode@@:@@stack@@,@@legend@@:{@@title@@:{@@text@@:@@Month@@},@@tracegroupgap@@:0},@@template@@:{@@data@@:{@@barpolar@@:[{@@marker@@:{@@line@@:{@@color@@:@@#E5ECF6@@,@@width@@:0.5},@@pattern@@:{@@fillmode@@:@@overlay@@,@@size@@:10,@@solidity@@:0.2}},@@type@@:@@barpolar@@}],@@bar@@:[{@@error_x@@:{@@color@@:@@#2a3f5f@@},@@error_y@@:{@@color@@:@@#2a3f5f@@},@@marker@@:{@@line@@:{@@color@@:@@#E5ECF6@@,@@width@@:0.5},@@pattern@@:{@@fillmode@@:@@overlay@@,@@size@@:10,@@solidity@@:0.2}},@@type@@:@@bar@@}],@@carpet@@:[{@@aaxis@@:{@@endlinecolor@@:@@#2a3f5f@@,@@gridcolor@@:@@white@@,@@linecolor@@:@@white@@,@@minorgridcolor@@:@@white@@,@@startlinecolor@@:@@#2a3f5f@@},@@baxis@@:{@@endlinecolor@@:@@#2a3f5f@@,@@gridcolor@@:@@white@@,@@linecolor@@:@@white@@,@@minorgridcolor@@:@@white@@,@@startlinecolor@@:@@#2a3f5f@@},@@type@@:@@carpet@@}],@@choropleth@@:[{@@colorbar@@:{@@outlinewidth@@:0,@@ticks@@:@@@@},@@type@@:@@choropleth@@}],@@contourcarpet@@:[{@@colorbar@@:{@@outlinewidth@@:0,@@ticks@@:@@@@},@@type@@:@@contourcarpet@@}],@@contour@@:[{@@colorbar@@:{@@outlinewidth@@:0,@@ticks@@:@@@@},@@colorscale@@:[[0.0,@@#0d0887@@],[0.1111111111111111,@@#46039f@@],[0.2222222222222222,@@#7201a8@@],[0.3333333333333333,@@#9c179e@@],[0.4444444444444444,@@#bd3786@@],[0.5555555555555556,@@#d8576b@@],[0.6666666666666666,@@#ed7953@@],[0.7777777777777778,@@#fb9f3a@@],[0.8888888888888888,@@#fdca26@@],[1.0,@@#f0f921@@]],@@type@@:@@contour@@}],@@heatmapgl@@:[{@@colorbar@@:{@@outlinewidth@@:0,@@ticks@@:@@@@},@@colorscale@@:[[0.0,@@#0d0887@@],[0.1111111111111111,@@#46039f@@],[0.2222222222222222,@@#7201a8@@],[0.3333333333333333,@@#9c179e@@],[0.4444444444444444,@@#bd3786@@],[0.5555555555555556,@@#d8576b@@],[0.6666666666666666,@@#ed7953@@],[0.7777777777777778,@@#fb9f3a@@],[0.8888888888888888,@@#fdca26@@],[1.0,@@#f0f921@@]],@@type@@:@@heatmapgl@@}],@@heatmap@@:[{@@colorbar@@:{@@outlinewidth@@:0,@@ticks@@:@@@@},@@colorscale@@:[[0.0,@@#0d0887@@],[0.1111111111111111,@@#46039f@@],[0.2222222222222222,@@#7201a8@@],[0.3333333333333333,@@#9c179e@@],[0.4444444444444444,@@#bd3786@@],[0.5555555555555556,@@#d8576b@@],[0.6666666666666666,@@#ed7953@@],[0.7777777777777778,@@#fb9f3a@@],[0.8888888888888888,@@#fdca26@@],[1.0,@@#f0f921@@]],@@type@@:@@heatmap@@}],@@histogram2dcontour@@:[{@@colorbar@@:{@@outlinewidth@@:0,@@ticks@@:@@@@},@@colorscale@@:[[0.0,@@#0d0887@@],[0.1111111111111111,@@#46039f@@],[0.2222222222222222,@@#7201a8@@],[0.3333333333333333,@@#9c179e@@],[0.4444444444444444,@@#bd3786@@],[0.5555555555555556,@@#d8576b@@],[0.6666666666666666,@@#ed7953@@],[0.7777777777777778,@@#fb9f3a@@],[0.8888888888888888,@@#fdca26@@],[1.0,@@#f0f921@@]],@@type@@:@@histogram2dcontour@@}],@@histogram2d@@:[{@@colorbar@@:{@@outlinewidth@@:0,@@ticks@@:@@@@},@@colorscale@@:[[0.0,@@#0d0887@@],[0.1111111111111111,@@#46039f@@],[0.2222222222222222,@@#7201a8@@],[0.3333333333333333,@@#9c179e@@],[0.4444444444444444,@@#bd3786@@],[0.5555555555555556,@@#d8576b@@],[0.6666666666666666,@@#ed7953@@],[0.7777777777777778,@@#fb9f3a@@],[0.8888888888888888,@@#fdca26@@],[1.0,@@#f0f921@@]],@@type@@:@@histogram2d@@}],@@histogram@@:[{@@marker@@:{@@pattern@@:{@@fillmode@@:@@overlay@@,@@size@@:10,@@solidity@@:0.2}},@@type@@:@@histogram@@}],@@mesh3d@@:[{@@colorbar@@:{@@outlinewidth@@:0,@@ticks@@:@@@@},@@type@@:@@mesh3d@@}],@@parcoords@@:[{@@line@@:{@@colorbar@@:{@@outlinewidth@@:0,@@ticks@@:@@@@}},@@type@@:@@parcoords@@}],@@pie@@:[{@@automargin@@:true,@@type@@:@@pie@@}],@@scatter3d@@:[{@@line@@:{@@colorbar@@:{@@outlinewidth@@:0,@@ticks@@:@@@@}},@@marker@@:{@@colorbar@@:{@@outlinewidth@@:0,@@ticks@@:@@@@}},@@type@@:@@scatter3d@@}],@@scattercarpet@@:[{@@marker@@:{@@colorbar@@:{@@outlinewidth@@:0,@@ticks@@:@@@@}},@@type@@:@@scattercarpet@@}],@@scattergeo@@:[{@@marker@@:{@@colorbar@@:{@@outlinewidth@@:0,@@ticks@@:@@@@}},@@type@@:@@scattergeo@@}],@@scattergl@@:[{@@marker@@:{@@colorbar@@:{@@outlinewidth@@:0,@@ticks@@:@@@@}},@@type@@:@@scattergl@@}],@@scattermapbox@@:[{@@marker@@:{@@colorbar@@:{@@outlinewidth@@:0,@@ticks@@:@@@@}},@@type@@:@@scattermapbox@@}],@@scatterpolargl@@:[{@@marker@@:{@@colorbar@@:{@@outlinewidth@@:0,@@ticks@@:@@@@}},@@type@@:@@scatterpolargl@@}],@@scatterpolar@@:[{@@marker@@:{@@colorbar@@:{@@outlinewidth@@:0,@@ticks@@:@@@@}},@@type@@:@@scatterpolar@@}],@@scatter@@:[{@@fillpattern@@:{@@fillmode@@:@@overlay@@,@@size@@:10,@@solidity@@:0.2},@@type@@:@@scatter@@}],@@scatterternary@@:[{@@marker@@:{@@colorbar@@:{@@outlinewidth@@:0,@@ticks@@:@@@@}},@@type@@:@@scatterternary@@}],@@surface@@:[{@@colorbar@@:{@@outlinewidth@@:0,@@ticks@@:@@@@},@@colorscale@@:[[0.0,@@#0d0887@@],[0.1111111111111111,@@#46039f@@],[0.2222222222222222,@@#7201a8@@],[0.3333333333333333,@@#9c179e@@],[0.4444444444444444,@@#bd3786@@],[0.5555555555555556,@@#d8576b@@],[0.6666666666666666,@@#ed7953@@],[0.7777777777777778,@@#fb9f3a@@],[0.8888888888888888,@@#fdca26@@],[1.0,@@#f0f921@@]],@@type@@:@@surface@@}],@@table@@:[{@@cells@@:{@@fill@@:{@@color@@:@@#EBF0F8@@},@@line@@:{@@color@@:@@white@@}},@@header@@:{@@fill@@:{@@color@@:@@#C8D4E3@@},@@line@@:{@@color@@:@@white@@}},@@type@@:@@table@@}]},@@layout@@:{@@annotationdefaults@@:{@@arrowcolor@@:@@#2a3f5f@@,@@arrowhead@@:0,@@arrowwidth@@:1},@@autotypenumbers@@:@@strict@@,@@coloraxis@@:{@@colorbar@@:{@@outlinewidth@@:0,@@ticks@@:@@@@}},@@colorscale@@:{@@diverging@@:[[0,@@#8e0152@@],[0.1,@@#c51b7d@@],[0.2,@@#de77ae@@],[0.3,@@#f1b6da@@],[0.4,@@#fde0ef@@],[0.5,@@#f7f7f7@@],[0.6,@@#e6f5d0@@],[0.7,@@#b8e186@@],[0.8,@@#7fbc41@@],[0.9,@@#4d9221@@],[1,@@#276419@@]],@@sequential@@:[[0.0,@@#0d0887@@],[0.1111111111111111,@@#46039f@@],[0.2222222222222222,@@#7201a8@@],[0.3333333333333333,@@#9c179e@@],[0.4444444444444444,@@#bd3786@@],[0.5555555555555556,@@#d8576b@@],[0.6666666666666666,@@#ed7953@@],[0.7777777777777778,@@#fb9f3a@@],[0.8888888888888888,@@#fdca26@@],[1.0,@@#f0f921@@]],@@sequentialminus@@:[[0.0,@@#0d0887@@],[0.1111111111111111,@@#46039f@@],[0.2222222222222222,@@#7201a8@@],[0.3333333333333333,@@#9c179e@@],[0.4444444444444444,@@#bd3786@@],[0.5555555555555556,@@#d8576b@@],[0.6666666666666666,@@#ed7953@@],[0.7777777777777778,@@#fb9f3a@@],[0.8888888888888888,@@#fdca26@@],[1.0,@@#f0f921@@]]},@@colorway@@:[@@#636efa@@,@@#EF553B@@,@@#00cc96@@,@@#ab63fa@@,@@#FFA15A@@,@@#19d3f3@@,@@#FF6692@@,@@#B6E880@@,@@#FF97FF@@,@@#FECB52@@],@@font@@:{@@color@@:@@#2a3f5f@@},@@geo@@:{@@bgcolor@@:@@white@@,@@lakecolor@@:@@white@@,@@landcolor@@:@@#E5ECF6@@,@@showlakes@@:true,@@showland@@:true,@@subunitcolor@@:@@white@@},@@hoverlabel@@:{@@align@@:@@left@@},@@hovermode@@:@@closest@@,@@mapbox@@:{@@style@@:@@light@@},@@paper_bgcolor@@:@@white@@,@@plot_bgcolor@@:@@#E5ECF6@@,@@polar@@:{@@angularaxis@@:{@@gridcolor@@:@@white@@,@@linecolor@@:@@white@@,@@ticks@@:@@@@},@@bgcolor@@:@@#E5ECF6@@,@@radialaxis@@:{@@gridcolor@@:@@white@@,@@linecolor@@:@@white@@,@@ticks@@:@@@@}},@@scene@@:{@@xaxis@@:{@@backgroundcolor@@:@@#E5ECF6@@,@@gridcolor@@:@@white@@,@@gridwidth@@:2,@@linecolor@@:@@white@@,@@showbackground@@:true,@@ticks@@:@@@@,@@zerolinecolor@@:@@white@@},@@yaxis@@:{@@backgroundcolor@@:@@#E5ECF6@@,@@gridcolor@@:@@white@@,@@gridwidth@@:2,@@linecolor@@:@@white@@,@@showbackground@@:true,@@ticks@@:@@@@,@@zerolinecolor@@:@@white@@},@@zaxis@@:{@@backgroundcolor@@:@@#E5ECF6@@,@@gridcolor@@:@@white@@,@@gridwidth@@:2,@@linecolor@@:@@white@@,@@showbackground@@:true,@@ticks@@:@@@@,@@zerolinecolor@@:@@white@@}},@@shapedefaults@@:{@@line@@:{@@color@@:@@#2a3f5f@@}},@@ternary@@:{@@aaxis@@:{@@gridcolor@@:@@white@@,@@linecolor@@:@@white@@,@@ticks@@:@@@@},@@baxis@@:{@@gridcolor@@:@@white@@,@@linecolor@@:@@white@@,@@ticks@@:@@@@},@@bgcolor@@:@@#E5ECF6@@,@@caxis@@:{@@gridcolor@@:@@white@@,@@linecolor@@:@@white@@,@@ticks@@:@@@@}},@@title@@:{@@x@@:0.05},@@xaxis@@:{@@automargin@@:true,@@gridcolor@@:@@white@@,@@linecolor@@:@@white@@,@@ticks@@:@@@@,@@title@@:{@@standoff@@:15},@@zerolinecolor@@:@@white@@,@@zerolinewidth@@:2},@@yaxis@@:{@@automargin@@:true,@@gridcolor@@:@@white@@,@@linecolor@@:@@white@@,@@ticks@@:@@@@,@@title@@:{@@standoff@@:15},@@zerolinecolor@@:@@white@@,@@zerolinewidth@@:2}}},@@title@@:{@@text@@:@@Distribution of Invoices by Month for Each Customer@@},@@xaxis@@:{@@anchor@@:@@y@@,@@domain@@:[0.0,1.0],@@title@@:{@@text@@:@@Customer@@}},@@yaxis@@:{@@anchor@@:@@x@@,@@domain@@:[0.0,1.0],@@title@@:{@@text@@:@@Number of Invoices@@}}},                        {@@responsive@@: true}                    )', 'id': 9, 'name': 'Distribution of Invoices by Month for each customer', 'title': 'Distribution of Invoices by Month for each customer', 'type': 'plotly', 'resultType': 3, 'visibility': 'EXPANDED', 'time': 'Oct 02, 2024 03:17:15 AM'}\n",
      "Error : HTTPConnectionPool(host='localhost', port=80): Max retries exceeded with url: / (Caused by NewConnectionError('<urllib3.connection.HTTPConnection object at 0x13485c800>: Failed to establish a new connection: [Errno 61] Connection refused'))\n"
     ]
    }
   ],
   "source": [
    "# Convert the invoice date column to datetime format\n",
    "filtered_df['INV_DT'] = pd.to_datetime(filtered_df['INV_DT'], errors='coerce')\n",
    "\n",
    "# Extract the month name from the invoice date\n",
    "filtered_df['Month'] = filtered_df['INV_DT'].dt.strftime('%B')\n",
    "\n",
    "# Group the data by month and customer, and count the number of invoices\n",
    "grouped_data = filtered_df.groupby(['Month', 'CUST_NAME'], as_index=False).agg({\n",
    "    'INV_NO': 'count'\n",
    "})\n",
    "\n",
    "# Create a bar plot using plotly express for invoice count by month and customer\n",
    "fig = px.bar(\n",
    "    grouped_data, \n",
    "    x='CUST_NAME', \n",
    "    y='INV_NO', \n",
    "    color='Month', \n",
    "    title='Distribution of Invoices by Month for Each Customer',\n",
    "    labels={'CUST_NAME': 'Customer', 'INV_NO': 'Number of Invoices', 'Month': 'Month'},\n",
    "    barmode='stack', \n",
    "    category_orders={'Month': ['January', 'February', 'March', 'April', 'May', 'June', 'July', 'August', 'September', 'October', 'November', 'December']}\n",
    ")\n",
    "\n",
    "\n",
    "test = plotly.offline.plot(fig, output_type='div', include_plotlyjs=False)\n",
    "example_plotly = f'{test}'\n",
    "restworkflowcontext.outPlotly(9, title=\"Distribution of Invoices by Month for each customer\", text=example_plotly)\n",
    "\n",
    "\n",
    "# fig.show()\n"
   ]
  },
  {
   "cell_type": "code",
   "execution_count": 101,
   "metadata": {},
   "outputs": [
    {
     "name": "stdout",
     "output_type": "stream",
     "text": [
      "webserverURL: \n",
      "http://localhost\n",
      "Sending Message: {\"progress\": \"60\", \"id\": 9, \"name\": \"Progress\", \"title\": \"Progress\", \"type\": \"progress\", \"resultType\": 3, \"visibility\": \"EXPANDED\", \"time\": \"Oct 02, 2024 03:17:15 AM\"}\n",
      "Error : HTTPConnectionPool(host='localhost', port=80): Max retries exceeded with url: / (Caused by NewConnectionError('<urllib3.connection.HTTPConnection object at 0x13485d160>: Failed to establish a new connection: [Errno 61] Connection refused'))\n"
     ]
    }
   ],
   "source": [
    "progress = \"60\"\n",
    "restworkflowcontext.outputProgress(9, title=\"Progress\", progress=progress)"
   ]
  },
  {
   "cell_type": "markdown",
   "metadata": {},
   "source": [
    "## Distribution of Net sales amount by Month for each customer\n",
    "This graph depicts Customer wise net sales done in each month."
   ]
  },
  {
   "cell_type": "code",
   "execution_count": 102,
   "metadata": {},
   "outputs": [
    {
     "name": "stdout",
     "output_type": "stream",
     "text": [
      "Check the Input type..\n",
      "There is a match\n",
      " And Input is string type.\n",
      "webserverURL: \n",
      "http://localhost\n",
      "Sending Message: {'text': 'Plotly.newPlot(                        @@4f38fb9c-f855-4c02-9f56-76c58197adc5@@,                        [{@@alignmentgroup@@:@@True@@,@@hovertemplate@@:@@Month=January\\\\u003cbr\\\\u003eCustomer=%{x}\\\\u003cbr\\\\u003eNet Sales Amount=%{y}\\\\u003cextra\\\\u003e\\\\u003c\\\\u002fextra\\\\u003e@@,@@legendgroup@@:@@January@@,@@marker@@:{@@color@@:@@#636efa@@,@@pattern@@:{@@shape@@:@@@@}},@@name@@:@@January@@,@@offsetgroup@@:@@January@@,@@orientation@@:@@v@@,@@showlegend@@:true,@@textposition@@:@@auto@@,@@x@@:[@@Ballard Rowland@@,@@English Ruiz@@,@@Kane Robertson@@,@@Norman and Collins Carr@@,@@Patterson and Strickland Downs@@,@@Villa and Ray Brown@@,@@White Johnson@@],@@xaxis@@:@@x@@,@@y@@:[17.88634855,120.8671015,120.8671015,3.75547,18.55104685,17.88634855,27.87201],@@yaxis@@:@@y@@,@@type@@:@@bar@@},{@@alignmentgroup@@:@@True@@,@@hovertemplate@@:@@Month=February\\\\u003cbr\\\\u003eCustomer=%{x}\\\\u003cbr\\\\u003eNet Sales Amount=%{y}\\\\u003cextra\\\\u003e\\\\u003c\\\\u002fextra\\\\u003e@@,@@legendgroup@@:@@February@@,@@marker@@:{@@color@@:@@#EF553B@@,@@pattern@@:{@@shape@@:@@@@}},@@name@@:@@February@@,@@offsetgroup@@:@@February@@,@@orientation@@:@@v@@,@@showlegend@@:true,@@textposition@@:@@auto@@,@@x@@:[@@Ballard Rowland@@,@@English Ruiz@@,@@Kane Robertson@@,@@Patterson and Strickland Downs@@,@@Villa and Ray Brown@@,@@White Johnson@@],@@xaxis@@:@@x@@,@@y@@:[17.61570855,136.5000635,136.5000635,25.5382143,17.61570855,76.833353],@@yaxis@@:@@y@@,@@type@@:@@bar@@},{@@alignmentgroup@@:@@True@@,@@hovertemplate@@:@@Month=March\\\\u003cbr\\\\u003eCustomer=%{x}\\\\u003cbr\\\\u003eNet Sales Amount=%{y}\\\\u003cextra\\\\u003e\\\\u003c\\\\u002fextra\\\\u003e@@,@@legendgroup@@:@@March@@,@@marker@@:{@@color@@:@@#00cc96@@,@@pattern@@:{@@shape@@:@@@@}},@@name@@:@@March@@,@@offsetgroup@@:@@March@@,@@orientation@@:@@v@@,@@showlegend@@:true,@@textposition@@:@@auto@@,@@x@@:[@@English Ruiz@@,@@Kane Robertson@@,@@Patterson and Strickland Downs@@,@@White Johnson@@],@@xaxis@@:@@x@@,@@y@@:[121.1125373,121.1125373,15.25324405,71.0353211],@@yaxis@@:@@y@@,@@type@@:@@bar@@},{@@alignmentgroup@@:@@True@@,@@hovertemplate@@:@@Month=April\\\\u003cbr\\\\u003eCustomer=%{x}\\\\u003cbr\\\\u003eNet Sales Amount=%{y}\\\\u003cextra\\\\u003e\\\\u003c\\\\u002fextra\\\\u003e@@,@@legendgroup@@:@@April@@,@@marker@@:{@@color@@:@@#ab63fa@@,@@pattern@@:{@@shape@@:@@@@}},@@name@@:@@April@@,@@offsetgroup@@:@@April@@,@@orientation@@:@@v@@,@@showlegend@@:true,@@textposition@@:@@auto@@,@@x@@:[@@Ballard Rowland@@,@@Patterson and Strickland Downs@@,@@Villa and Ray Brown@@],@@xaxis@@:@@x@@,@@y@@:[18.8274711,169.17643329999999,167.957875],@@yaxis@@:@@y@@,@@type@@:@@bar@@},{@@alignmentgroup@@:@@True@@,@@hovertemplate@@:@@Month=May\\\\u003cbr\\\\u003eCustomer=%{x}\\\\u003cbr\\\\u003eNet Sales Amount=%{y}\\\\u003cextra\\\\u003e\\\\u003c\\\\u002fextra\\\\u003e@@,@@legendgroup@@:@@May@@,@@marker@@:{@@color@@:@@#FFA15A@@,@@pattern@@:{@@shape@@:@@@@}},@@name@@:@@May@@,@@offsetgroup@@:@@May@@,@@orientation@@:@@v@@,@@showlegend@@:true,@@textposition@@:@@auto@@,@@x@@:[@@Ballard Rowland@@,@@English Ruiz@@,@@Kane Robertson@@,@@Martinez PLC@@,@@Patterson and Strickland Downs@@,@@Villa and Ray Brown@@,@@White Johnson@@],@@xaxis@@:@@x@@,@@y@@:[24.91177535,57.5391724,57.5391724,11.98296,31.63918365,24.91177535,31.53718535],@@yaxis@@:@@y@@,@@type@@:@@bar@@},{@@alignmentgroup@@:@@True@@,@@hovertemplate@@:@@Month=June\\\\u003cbr\\\\u003eCustomer=%{x}\\\\u003cbr\\\\u003eNet Sales Amount=%{y}\\\\u003cextra\\\\u003e\\\\u003c\\\\u002fextra\\\\u003e@@,@@legendgroup@@:@@June@@,@@marker@@:{@@color@@:@@#19d3f3@@,@@pattern@@:{@@shape@@:@@@@}},@@name@@:@@June@@,@@offsetgroup@@:@@June@@,@@orientation@@:@@v@@,@@showlegend@@:true,@@textposition@@:@@auto@@,@@x@@:[@@Ballard Rowland@@,@@Patterson and Strickland Downs@@,@@Villa and Ray Brown@@],@@xaxis@@:@@x@@,@@y@@:[25.96542855,30.0681992,25.96542855],@@yaxis@@:@@y@@,@@type@@:@@bar@@},{@@alignmentgroup@@:@@True@@,@@hovertemplate@@:@@Month=July\\\\u003cbr\\\\u003eCustomer=%{x}\\\\u003cbr\\\\u003eNet Sales Amount=%{y}\\\\u003cextra\\\\u003e\\\\u003c\\\\u002fextra\\\\u003e@@,@@legendgroup@@:@@July@@,@@marker@@:{@@color@@:@@#FF6692@@,@@pattern@@:{@@shape@@:@@@@}},@@name@@:@@July@@,@@offsetgroup@@:@@July@@,@@orientation@@:@@v@@,@@showlegend@@:true,@@textposition@@:@@auto@@,@@x@@:[@@Ballard Rowland@@,@@Patterson and Strickland Downs@@,@@Villa and Ray Brown@@],@@xaxis@@:@@x@@,@@y@@:[19.3459745,164.93948845,163.8093293],@@yaxis@@:@@y@@,@@type@@:@@bar@@},{@@alignmentgroup@@:@@True@@,@@hovertemplate@@:@@Month=August\\\\u003cbr\\\\u003eCustomer=%{x}\\\\u003cbr\\\\u003eNet Sales Amount=%{y}\\\\u003cextra\\\\u003e\\\\u003c\\\\u002fextra\\\\u003e@@,@@legendgroup@@:@@August@@,@@marker@@:{@@color@@:@@#B6E880@@,@@pattern@@:{@@shape@@:@@@@}},@@name@@:@@August@@,@@offsetgroup@@:@@August@@,@@orientation@@:@@v@@,@@showlegend@@:true,@@textposition@@:@@auto@@,@@x@@:[@@Ballard Rowland@@,@@Patterson and Strickland Downs@@,@@Villa and Ray Brown@@],@@xaxis@@:@@x@@,@@y@@:[17.84046045,144.95004695,143.40848865],@@yaxis@@:@@y@@,@@type@@:@@bar@@},{@@alignmentgroup@@:@@True@@,@@hovertemplate@@:@@Month=September\\\\u003cbr\\\\u003eCustomer=%{x}\\\\u003cbr\\\\u003eNet Sales Amount=%{y}\\\\u003cextra\\\\u003e\\\\u003c\\\\u002fextra\\\\u003e@@,@@legendgroup@@:@@September@@,@@marker@@:{@@color@@:@@#FF97FF@@,@@pattern@@:{@@shape@@:@@@@}},@@name@@:@@September@@,@@offsetgroup@@:@@September@@,@@orientation@@:@@v@@,@@showlegend@@:true,@@textposition@@:@@auto@@,@@x@@:[@@Martinez PLC@@,@@Norman and Collins Carr@@,@@Patterson and Strickland Downs@@,@@Villa and Ray Brown@@],@@xaxis@@:@@x@@,@@y@@:[2.7302,0.1122,110.1028239,110.1028239],@@yaxis@@:@@y@@,@@type@@:@@bar@@},{@@alignmentgroup@@:@@True@@,@@hovertemplate@@:@@Month=October\\\\u003cbr\\\\u003eCustomer=%{x}\\\\u003cbr\\\\u003eNet Sales Amount=%{y}\\\\u003cextra\\\\u003e\\\\u003c\\\\u002fextra\\\\u003e@@,@@legendgroup@@:@@October@@,@@marker@@:{@@color@@:@@#FECB52@@,@@pattern@@:{@@shape@@:@@@@}},@@name@@:@@October@@,@@offsetgroup@@:@@October@@,@@orientation@@:@@v@@,@@showlegend@@:true,@@textposition@@:@@auto@@,@@x@@:[@@Martinez PLC@@,@@Norman and Collins Carr@@],@@xaxis@@:@@x@@,@@y@@:[12.02648,0.4896],@@yaxis@@:@@y@@,@@type@@:@@bar@@},{@@alignmentgroup@@:@@True@@,@@hovertemplate@@:@@Month=November\\\\u003cbr\\\\u003eCustomer=%{x}\\\\u003cbr\\\\u003eNet Sales Amount=%{y}\\\\u003cextra\\\\u003e\\\\u003c\\\\u002fextra\\\\u003e@@,@@legendgroup@@:@@November@@,@@marker@@:{@@color@@:@@#636efa@@,@@pattern@@:{@@shape@@:@@@@}},@@name@@:@@November@@,@@offsetgroup@@:@@November@@,@@orientation@@:@@v@@,@@showlegend@@:true,@@textposition@@:@@auto@@,@@x@@:[@@Patterson and Strickland Downs@@,@@Villa and Ray Brown@@],@@xaxis@@:@@x@@,@@y@@:[82.022042,82.022042],@@yaxis@@:@@y@@,@@type@@:@@bar@@}],                        {@@barmode@@:@@stack@@,@@legend@@:{@@title@@:{@@text@@:@@Month@@},@@tracegroupgap@@:0},@@template@@:{@@data@@:{@@barpolar@@:[{@@marker@@:{@@line@@:{@@color@@:@@#E5ECF6@@,@@width@@:0.5},@@pattern@@:{@@fillmode@@:@@overlay@@,@@size@@:10,@@solidity@@:0.2}},@@type@@:@@barpolar@@}],@@bar@@:[{@@error_x@@:{@@color@@:@@#2a3f5f@@},@@error_y@@:{@@color@@:@@#2a3f5f@@},@@marker@@:{@@line@@:{@@color@@:@@#E5ECF6@@,@@width@@:0.5},@@pattern@@:{@@fillmode@@:@@overlay@@,@@size@@:10,@@solidity@@:0.2}},@@type@@:@@bar@@}],@@carpet@@:[{@@aaxis@@:{@@endlinecolor@@:@@#2a3f5f@@,@@gridcolor@@:@@white@@,@@linecolor@@:@@white@@,@@minorgridcolor@@:@@white@@,@@startlinecolor@@:@@#2a3f5f@@},@@baxis@@:{@@endlinecolor@@:@@#2a3f5f@@,@@gridcolor@@:@@white@@,@@linecolor@@:@@white@@,@@minorgridcolor@@:@@white@@,@@startlinecolor@@:@@#2a3f5f@@},@@type@@:@@carpet@@}],@@choropleth@@:[{@@colorbar@@:{@@outlinewidth@@:0,@@ticks@@:@@@@},@@type@@:@@choropleth@@}],@@contourcarpet@@:[{@@colorbar@@:{@@outlinewidth@@:0,@@ticks@@:@@@@},@@type@@:@@contourcarpet@@}],@@contour@@:[{@@colorbar@@:{@@outlinewidth@@:0,@@ticks@@:@@@@},@@colorscale@@:[[0.0,@@#0d0887@@],[0.1111111111111111,@@#46039f@@],[0.2222222222222222,@@#7201a8@@],[0.3333333333333333,@@#9c179e@@],[0.4444444444444444,@@#bd3786@@],[0.5555555555555556,@@#d8576b@@],[0.6666666666666666,@@#ed7953@@],[0.7777777777777778,@@#fb9f3a@@],[0.8888888888888888,@@#fdca26@@],[1.0,@@#f0f921@@]],@@type@@:@@contour@@}],@@heatmapgl@@:[{@@colorbar@@:{@@outlinewidth@@:0,@@ticks@@:@@@@},@@colorscale@@:[[0.0,@@#0d0887@@],[0.1111111111111111,@@#46039f@@],[0.2222222222222222,@@#7201a8@@],[0.3333333333333333,@@#9c179e@@],[0.4444444444444444,@@#bd3786@@],[0.5555555555555556,@@#d8576b@@],[0.6666666666666666,@@#ed7953@@],[0.7777777777777778,@@#fb9f3a@@],[0.8888888888888888,@@#fdca26@@],[1.0,@@#f0f921@@]],@@type@@:@@heatmapgl@@}],@@heatmap@@:[{@@colorbar@@:{@@outlinewidth@@:0,@@ticks@@:@@@@},@@colorscale@@:[[0.0,@@#0d0887@@],[0.1111111111111111,@@#46039f@@],[0.2222222222222222,@@#7201a8@@],[0.3333333333333333,@@#9c179e@@],[0.4444444444444444,@@#bd3786@@],[0.5555555555555556,@@#d8576b@@],[0.6666666666666666,@@#ed7953@@],[0.7777777777777778,@@#fb9f3a@@],[0.8888888888888888,@@#fdca26@@],[1.0,@@#f0f921@@]],@@type@@:@@heatmap@@}],@@histogram2dcontour@@:[{@@colorbar@@:{@@outlinewidth@@:0,@@ticks@@:@@@@},@@colorscale@@:[[0.0,@@#0d0887@@],[0.1111111111111111,@@#46039f@@],[0.2222222222222222,@@#7201a8@@],[0.3333333333333333,@@#9c179e@@],[0.4444444444444444,@@#bd3786@@],[0.5555555555555556,@@#d8576b@@],[0.6666666666666666,@@#ed7953@@],[0.7777777777777778,@@#fb9f3a@@],[0.8888888888888888,@@#fdca26@@],[1.0,@@#f0f921@@]],@@type@@:@@histogram2dcontour@@}],@@histogram2d@@:[{@@colorbar@@:{@@outlinewidth@@:0,@@ticks@@:@@@@},@@colorscale@@:[[0.0,@@#0d0887@@],[0.1111111111111111,@@#46039f@@],[0.2222222222222222,@@#7201a8@@],[0.3333333333333333,@@#9c179e@@],[0.4444444444444444,@@#bd3786@@],[0.5555555555555556,@@#d8576b@@],[0.6666666666666666,@@#ed7953@@],[0.7777777777777778,@@#fb9f3a@@],[0.8888888888888888,@@#fdca26@@],[1.0,@@#f0f921@@]],@@type@@:@@histogram2d@@}],@@histogram@@:[{@@marker@@:{@@pattern@@:{@@fillmode@@:@@overlay@@,@@size@@:10,@@solidity@@:0.2}},@@type@@:@@histogram@@}],@@mesh3d@@:[{@@colorbar@@:{@@outlinewidth@@:0,@@ticks@@:@@@@},@@type@@:@@mesh3d@@}],@@parcoords@@:[{@@line@@:{@@colorbar@@:{@@outlinewidth@@:0,@@ticks@@:@@@@}},@@type@@:@@parcoords@@}],@@pie@@:[{@@automargin@@:true,@@type@@:@@pie@@}],@@scatter3d@@:[{@@line@@:{@@colorbar@@:{@@outlinewidth@@:0,@@ticks@@:@@@@}},@@marker@@:{@@colorbar@@:{@@outlinewidth@@:0,@@ticks@@:@@@@}},@@type@@:@@scatter3d@@}],@@scattercarpet@@:[{@@marker@@:{@@colorbar@@:{@@outlinewidth@@:0,@@ticks@@:@@@@}},@@type@@:@@scattercarpet@@}],@@scattergeo@@:[{@@marker@@:{@@colorbar@@:{@@outlinewidth@@:0,@@ticks@@:@@@@}},@@type@@:@@scattergeo@@}],@@scattergl@@:[{@@marker@@:{@@colorbar@@:{@@outlinewidth@@:0,@@ticks@@:@@@@}},@@type@@:@@scattergl@@}],@@scattermapbox@@:[{@@marker@@:{@@colorbar@@:{@@outlinewidth@@:0,@@ticks@@:@@@@}},@@type@@:@@scattermapbox@@}],@@scatterpolargl@@:[{@@marker@@:{@@colorbar@@:{@@outlinewidth@@:0,@@ticks@@:@@@@}},@@type@@:@@scatterpolargl@@}],@@scatterpolar@@:[{@@marker@@:{@@colorbar@@:{@@outlinewidth@@:0,@@ticks@@:@@@@}},@@type@@:@@scatterpolar@@}],@@scatter@@:[{@@fillpattern@@:{@@fillmode@@:@@overlay@@,@@size@@:10,@@solidity@@:0.2},@@type@@:@@scatter@@}],@@scatterternary@@:[{@@marker@@:{@@colorbar@@:{@@outlinewidth@@:0,@@ticks@@:@@@@}},@@type@@:@@scatterternary@@}],@@surface@@:[{@@colorbar@@:{@@outlinewidth@@:0,@@ticks@@:@@@@},@@colorscale@@:[[0.0,@@#0d0887@@],[0.1111111111111111,@@#46039f@@],[0.2222222222222222,@@#7201a8@@],[0.3333333333333333,@@#9c179e@@],[0.4444444444444444,@@#bd3786@@],[0.5555555555555556,@@#d8576b@@],[0.6666666666666666,@@#ed7953@@],[0.7777777777777778,@@#fb9f3a@@],[0.8888888888888888,@@#fdca26@@],[1.0,@@#f0f921@@]],@@type@@:@@surface@@}],@@table@@:[{@@cells@@:{@@fill@@:{@@color@@:@@#EBF0F8@@},@@line@@:{@@color@@:@@white@@}},@@header@@:{@@fill@@:{@@color@@:@@#C8D4E3@@},@@line@@:{@@color@@:@@white@@}},@@type@@:@@table@@}]},@@layout@@:{@@annotationdefaults@@:{@@arrowcolor@@:@@#2a3f5f@@,@@arrowhead@@:0,@@arrowwidth@@:1},@@autotypenumbers@@:@@strict@@,@@coloraxis@@:{@@colorbar@@:{@@outlinewidth@@:0,@@ticks@@:@@@@}},@@colorscale@@:{@@diverging@@:[[0,@@#8e0152@@],[0.1,@@#c51b7d@@],[0.2,@@#de77ae@@],[0.3,@@#f1b6da@@],[0.4,@@#fde0ef@@],[0.5,@@#f7f7f7@@],[0.6,@@#e6f5d0@@],[0.7,@@#b8e186@@],[0.8,@@#7fbc41@@],[0.9,@@#4d9221@@],[1,@@#276419@@]],@@sequential@@:[[0.0,@@#0d0887@@],[0.1111111111111111,@@#46039f@@],[0.2222222222222222,@@#7201a8@@],[0.3333333333333333,@@#9c179e@@],[0.4444444444444444,@@#bd3786@@],[0.5555555555555556,@@#d8576b@@],[0.6666666666666666,@@#ed7953@@],[0.7777777777777778,@@#fb9f3a@@],[0.8888888888888888,@@#fdca26@@],[1.0,@@#f0f921@@]],@@sequentialminus@@:[[0.0,@@#0d0887@@],[0.1111111111111111,@@#46039f@@],[0.2222222222222222,@@#7201a8@@],[0.3333333333333333,@@#9c179e@@],[0.4444444444444444,@@#bd3786@@],[0.5555555555555556,@@#d8576b@@],[0.6666666666666666,@@#ed7953@@],[0.7777777777777778,@@#fb9f3a@@],[0.8888888888888888,@@#fdca26@@],[1.0,@@#f0f921@@]]},@@colorway@@:[@@#636efa@@,@@#EF553B@@,@@#00cc96@@,@@#ab63fa@@,@@#FFA15A@@,@@#19d3f3@@,@@#FF6692@@,@@#B6E880@@,@@#FF97FF@@,@@#FECB52@@],@@font@@:{@@color@@:@@#2a3f5f@@},@@geo@@:{@@bgcolor@@:@@white@@,@@lakecolor@@:@@white@@,@@landcolor@@:@@#E5ECF6@@,@@showlakes@@:true,@@showland@@:true,@@subunitcolor@@:@@white@@},@@hoverlabel@@:{@@align@@:@@left@@},@@hovermode@@:@@closest@@,@@mapbox@@:{@@style@@:@@light@@},@@paper_bgcolor@@:@@white@@,@@plot_bgcolor@@:@@#E5ECF6@@,@@polar@@:{@@angularaxis@@:{@@gridcolor@@:@@white@@,@@linecolor@@:@@white@@,@@ticks@@:@@@@},@@bgcolor@@:@@#E5ECF6@@,@@radialaxis@@:{@@gridcolor@@:@@white@@,@@linecolor@@:@@white@@,@@ticks@@:@@@@}},@@scene@@:{@@xaxis@@:{@@backgroundcolor@@:@@#E5ECF6@@,@@gridcolor@@:@@white@@,@@gridwidth@@:2,@@linecolor@@:@@white@@,@@showbackground@@:true,@@ticks@@:@@@@,@@zerolinecolor@@:@@white@@},@@yaxis@@:{@@backgroundcolor@@:@@#E5ECF6@@,@@gridcolor@@:@@white@@,@@gridwidth@@:2,@@linecolor@@:@@white@@,@@showbackground@@:true,@@ticks@@:@@@@,@@zerolinecolor@@:@@white@@},@@zaxis@@:{@@backgroundcolor@@:@@#E5ECF6@@,@@gridcolor@@:@@white@@,@@gridwidth@@:2,@@linecolor@@:@@white@@,@@showbackground@@:true,@@ticks@@:@@@@,@@zerolinecolor@@:@@white@@}},@@shapedefaults@@:{@@line@@:{@@color@@:@@#2a3f5f@@}},@@ternary@@:{@@aaxis@@:{@@gridcolor@@:@@white@@,@@linecolor@@:@@white@@,@@ticks@@:@@@@},@@baxis@@:{@@gridcolor@@:@@white@@,@@linecolor@@:@@white@@,@@ticks@@:@@@@},@@bgcolor@@:@@#E5ECF6@@,@@caxis@@:{@@gridcolor@@:@@white@@,@@linecolor@@:@@white@@,@@ticks@@:@@@@}},@@title@@:{@@x@@:0.05},@@xaxis@@:{@@automargin@@:true,@@gridcolor@@:@@white@@,@@linecolor@@:@@white@@,@@ticks@@:@@@@,@@title@@:{@@standoff@@:15},@@zerolinecolor@@:@@white@@,@@zerolinewidth@@:2},@@yaxis@@:{@@automargin@@:true,@@gridcolor@@:@@white@@,@@linecolor@@:@@white@@,@@ticks@@:@@@@,@@title@@:{@@standoff@@:15},@@zerolinecolor@@:@@white@@,@@zerolinewidth@@:2}}},@@title@@:{@@text@@:@@Distribution of Net Sales Amount by Month for each customer@@},@@xaxis@@:{@@anchor@@:@@y@@,@@domain@@:[0.0,1.0],@@title@@:{@@text@@:@@Customer@@}},@@yaxis@@:{@@anchor@@:@@x@@,@@domain@@:[0.0,1.0],@@title@@:{@@text@@:@@Net Sales Amount@@}}},                        {@@responsive@@: true}                    )', 'id': 9, 'name': 'Distribution of Net sales amount by Month for each customer', 'title': 'Distribution of Net sales amount by Month for each customer', 'type': 'plotly', 'resultType': 3, 'visibility': 'EXPANDED', 'time': 'Oct 02, 2024 03:17:15 AM'}\n",
      "Error : HTTPConnectionPool(host='localhost', port=80): Max retries exceeded with url: / (Caused by NewConnectionError('<urllib3.connection.HTTPConnection object at 0x1345d0aa0>: Failed to establish a new connection: [Errno 61] Connection refused'))\n"
     ]
    },
    {
     "name": "stderr",
     "output_type": "stream",
     "text": [
      "/var/folders/v6/d3bbw3c15nb5f7pk2twq62zw0000gn/T/ipykernel_77691/308684609.py:2: SettingWithCopyWarning:\n",
      "\n",
      "\n",
      "A value is trying to be set on a copy of a slice from a DataFrame.\n",
      "Try using .loc[row_indexer,col_indexer] = value instead\n",
      "\n",
      "See the caveats in the documentation: https://pandas.pydata.org/pandas-docs/stable/user_guide/indexing.html#returning-a-view-versus-a-copy\n",
      "\n",
      "/var/folders/v6/d3bbw3c15nb5f7pk2twq62zw0000gn/T/ipykernel_77691/308684609.py:5: SettingWithCopyWarning:\n",
      "\n",
      "\n",
      "A value is trying to be set on a copy of a slice from a DataFrame.\n",
      "Try using .loc[row_indexer,col_indexer] = value instead\n",
      "\n",
      "See the caveats in the documentation: https://pandas.pydata.org/pandas-docs/stable/user_guide/indexing.html#returning-a-view-versus-a-copy\n",
      "\n"
     ]
    }
   ],
   "source": [
    "# Ensure the invoice date column is in datetime format\n",
    "filtered_df['INV_DT'] = pd.to_datetime(filtered_df['INV_DT'], errors='coerce')\n",
    "\n",
    "# Extract the month name from the invoice date\n",
    "filtered_df['Month'] = filtered_df['INV_DT'].dt.strftime('%B')\n",
    "\n",
    "# Grouping the data by month and customer, summing the net sales (NET column)\n",
    "grouped_data = filtered_df.groupby(['Month', 'CUST_NAME'], as_index=False).agg({\n",
    "    'NET': 'sum' \n",
    "})\n",
    "\n",
    "# Create a stacked bar plot using plotly express for net sales by month and customer\n",
    "fig = px.bar(\n",
    "    grouped_data, \n",
    "    x='CUST_NAME', \n",
    "    y='NET', \n",
    "    color='Month', \n",
    "    title='Distribution of Net Sales Amount by Month for each customer',\n",
    "    labels={'CUST_NAME': 'Customer', 'NET': 'Net Sales Amount', 'Month': 'Month'},\n",
    "    barmode='stack',  # Setting barmode to 'stack' for stacked bars\n",
    "    category_orders={'Month': ['January', 'February', 'March', 'April', 'May', 'June', 'July', 'August', 'September', 'October', 'November', 'December']}\n",
    ")\n",
    "\n",
    "\n",
    "test = plotly.offline.plot(fig, output_type='div', include_plotlyjs=False)\n",
    "example_plotly = f'{test}'\n",
    "restworkflowcontext.outPlotly(9, title=\"Distribution of Net sales amount by Month for each customer\", text=example_plotly)\n",
    "\n",
    "\n",
    "# fig.show()\n"
   ]
  },
  {
   "cell_type": "code",
   "execution_count": 103,
   "metadata": {},
   "outputs": [
    {
     "name": "stdout",
     "output_type": "stream",
     "text": [
      "webserverURL: \n",
      "http://localhost\n",
      "Sending Message: {\"progress\": \"65\", \"id\": 9, \"name\": \"Progress\", \"title\": \"Progress\", \"type\": \"progress\", \"resultType\": 3, \"visibility\": \"EXPANDED\", \"time\": \"Oct 02, 2024 03:17:15 AM\"}\n",
      "Error : HTTPConnectionPool(host='localhost', port=80): Max retries exceeded with url: / (Caused by NewConnectionError('<urllib3.connection.HTTPConnection object at 0x1345a9df0>: Failed to establish a new connection: [Errno 61] Connection refused'))\n"
     ]
    }
   ],
   "source": [
    "progress = \"65\"\n",
    "restworkflowcontext.outputProgress(9, title=\"Progress\", progress=progress)"
   ]
  },
  {
   "cell_type": "markdown",
   "metadata": {},
   "source": [
    "## Distribution of Product count by Month for each customer\n",
    "This graph depicts Customer wise product count sold in each month."
   ]
  },
  {
   "cell_type": "markdown",
   "metadata": {},
   "source": [
    "### Using `QTY`"
   ]
  },
  {
   "cell_type": "code",
   "execution_count": 104,
   "metadata": {},
   "outputs": [
    {
     "name": "stderr",
     "output_type": "stream",
     "text": [
      "/var/folders/v6/d3bbw3c15nb5f7pk2twq62zw0000gn/T/ipykernel_77691/4048492091.py:2: SettingWithCopyWarning:\n",
      "\n",
      "\n",
      "A value is trying to be set on a copy of a slice from a DataFrame.\n",
      "Try using .loc[row_indexer,col_indexer] = value instead\n",
      "\n",
      "See the caveats in the documentation: https://pandas.pydata.org/pandas-docs/stable/user_guide/indexing.html#returning-a-view-versus-a-copy\n",
      "\n"
     ]
    },
    {
     "name": "stdout",
     "output_type": "stream",
     "text": [
      "Check the Input type..\n",
      "There is a match\n",
      " And Input is string type.\n",
      "webserverURL: \n",
      "http://localhost\n",
      "Sending Message: {'text': 'Plotly.newPlot(                        @@01f465ab-dd4d-410a-84fb-41b8b99258e0@@,                        [{@@alignmentgroup@@:@@True@@,@@hovertemplate@@:@@Month=January\\\\u003cbr\\\\u003eCustomer=%{x}\\\\u003cbr\\\\u003eProduct Count (Quantity Sold)=%{y}\\\\u003cextra\\\\u003e\\\\u003c\\\\u002fextra\\\\u003e@@,@@legendgroup@@:@@January@@,@@marker@@:{@@color@@:@@#636efa@@,@@pattern@@:{@@shape@@:@@@@}},@@name@@:@@January@@,@@offsetgroup@@:@@January@@,@@orientation@@:@@v@@,@@showlegend@@:true,@@textposition@@:@@auto@@,@@x@@:[@@Ballard Rowland@@,@@English Ruiz@@,@@Kane Robertson@@,@@Norman and Collins Carr@@,@@Patterson and Strickland Downs@@,@@Villa and Ray Brown@@,@@White Johnson@@],@@xaxis@@:@@x@@,@@y@@:[1150,992,992,23,1183,1150,237],@@yaxis@@:@@y@@,@@type@@:@@bar@@},{@@alignmentgroup@@:@@True@@,@@hovertemplate@@:@@Month=February\\\\u003cbr\\\\u003eCustomer=%{x}\\\\u003cbr\\\\u003eProduct Count (Quantity Sold)=%{y}\\\\u003cextra\\\\u003e\\\\u003c\\\\u002fextra\\\\u003e@@,@@legendgroup@@:@@February@@,@@marker@@:{@@color@@:@@#EF553B@@,@@pattern@@:{@@shape@@:@@@@}},@@name@@:@@February@@,@@offsetgroup@@:@@February@@,@@orientation@@:@@v@@,@@showlegend@@:true,@@textposition@@:@@auto@@,@@x@@:[@@Ballard Rowland@@,@@English Ruiz@@,@@Kane Robertson@@,@@Patterson and Strickland Downs@@,@@Villa and Ray Brown@@,@@White Johnson@@],@@xaxis@@:@@x@@,@@y@@:[1066,1949,1949,1244,1066,568],@@yaxis@@:@@y@@,@@type@@:@@bar@@},{@@alignmentgroup@@:@@True@@,@@hovertemplate@@:@@Month=March\\\\u003cbr\\\\u003eCustomer=%{x}\\\\u003cbr\\\\u003eProduct Count (Quantity Sold)=%{y}\\\\u003cextra\\\\u003e\\\\u003c\\\\u002fextra\\\\u003e@@,@@legendgroup@@:@@March@@,@@marker@@:{@@color@@:@@#00cc96@@,@@pattern@@:{@@shape@@:@@@@}},@@name@@:@@March@@,@@offsetgroup@@:@@March@@,@@orientation@@:@@v@@,@@showlegend@@:true,@@textposition@@:@@auto@@,@@x@@:[@@English Ruiz@@,@@Kane Robertson@@,@@Patterson and Strickland Downs@@,@@White Johnson@@],@@xaxis@@:@@x@@,@@y@@:[845,845,112,505],@@yaxis@@:@@y@@,@@type@@:@@bar@@},{@@alignmentgroup@@:@@True@@,@@hovertemplate@@:@@Month=April\\\\u003cbr\\\\u003eCustomer=%{x}\\\\u003cbr\\\\u003eProduct Count (Quantity Sold)=%{y}\\\\u003cextra\\\\u003e\\\\u003c\\\\u002fextra\\\\u003e@@,@@legendgroup@@:@@April@@,@@marker@@:{@@color@@:@@#ab63fa@@,@@pattern@@:{@@shape@@:@@@@}},@@name@@:@@April@@,@@offsetgroup@@:@@April@@,@@orientation@@:@@v@@,@@showlegend@@:true,@@textposition@@:@@auto@@,@@x@@:[@@Ballard Rowland@@,@@Patterson and Strickland Downs@@,@@Villa and Ray Brown@@],@@xaxis@@:@@x@@,@@y@@:[1147,2595,2518],@@yaxis@@:@@y@@,@@type@@:@@bar@@},{@@alignmentgroup@@:@@True@@,@@hovertemplate@@:@@Month=May\\\\u003cbr\\\\u003eCustomer=%{x}\\\\u003cbr\\\\u003eProduct Count (Quantity Sold)=%{y}\\\\u003cextra\\\\u003e\\\\u003c\\\\u002fextra\\\\u003e@@,@@legendgroup@@:@@May@@,@@marker@@:{@@color@@:@@#FFA15A@@,@@pattern@@:{@@shape@@:@@@@}},@@name@@:@@May@@,@@offsetgroup@@:@@May@@,@@orientation@@:@@v@@,@@showlegend@@:true,@@textposition@@:@@auto@@,@@x@@:[@@Ballard Rowland@@,@@English Ruiz@@,@@Kane Robertson@@,@@Martinez PLC@@,@@Patterson and Strickland Downs@@,@@Villa and Ray Brown@@,@@White Johnson@@],@@xaxis@@:@@x@@,@@y@@:[1190,710,710,1174,1477,1190,392],@@yaxis@@:@@y@@,@@type@@:@@bar@@},{@@alignmentgroup@@:@@True@@,@@hovertemplate@@:@@Month=June\\\\u003cbr\\\\u003eCustomer=%{x}\\\\u003cbr\\\\u003eProduct Count (Quantity Sold)=%{y}\\\\u003cextra\\\\u003e\\\\u003c\\\\u002fextra\\\\u003e@@,@@legendgroup@@:@@June@@,@@marker@@:{@@color@@:@@#19d3f3@@,@@pattern@@:{@@shape@@:@@@@}},@@name@@:@@June@@,@@offsetgroup@@:@@June@@,@@orientation@@:@@v@@,@@showlegend@@:true,@@textposition@@:@@auto@@,@@x@@:[@@Ballard Rowland@@,@@Patterson and Strickland Downs@@,@@Villa and Ray Brown@@],@@xaxis@@:@@x@@,@@y@@:[1121,1314,1121],@@yaxis@@:@@y@@,@@type@@:@@bar@@},{@@alignmentgroup@@:@@True@@,@@hovertemplate@@:@@Month=July\\\\u003cbr\\\\u003eCustomer=%{x}\\\\u003cbr\\\\u003eProduct Count (Quantity Sold)=%{y}\\\\u003cextra\\\\u003e\\\\u003c\\\\u002fextra\\\\u003e@@,@@legendgroup@@:@@July@@,@@marker@@:{@@color@@:@@#FF6692@@,@@pattern@@:{@@shape@@:@@@@}},@@name@@:@@July@@,@@offsetgroup@@:@@July@@,@@orientation@@:@@v@@,@@showlegend@@:true,@@textposition@@:@@auto@@,@@x@@:[@@Ballard Rowland@@,@@Patterson and Strickland Downs@@,@@Villa and Ray Brown@@],@@xaxis@@:@@x@@,@@y@@:[893,2322,2267],@@yaxis@@:@@y@@,@@type@@:@@bar@@},{@@alignmentgroup@@:@@True@@,@@hovertemplate@@:@@Month=August\\\\u003cbr\\\\u003eCustomer=%{x}\\\\u003cbr\\\\u003eProduct Count (Quantity Sold)=%{y}\\\\u003cextra\\\\u003e\\\\u003c\\\\u002fextra\\\\u003e@@,@@legendgroup@@:@@August@@,@@marker@@:{@@color@@:@@#B6E880@@,@@pattern@@:{@@shape@@:@@@@}},@@name@@:@@August@@,@@offsetgroup@@:@@August@@,@@orientation@@:@@v@@,@@showlegend@@:true,@@textposition@@:@@auto@@,@@x@@:[@@Ballard Rowland@@,@@Patterson and Strickland Downs@@,@@Villa and Ray Brown@@],@@xaxis@@:@@x@@,@@y@@:[824,2407,2332],@@yaxis@@:@@y@@,@@type@@:@@bar@@},{@@alignmentgroup@@:@@True@@,@@hovertemplate@@:@@Month=September\\\\u003cbr\\\\u003eCustomer=%{x}\\\\u003cbr\\\\u003eProduct Count (Quantity Sold)=%{y}\\\\u003cextra\\\\u003e\\\\u003c\\\\u002fextra\\\\u003e@@,@@legendgroup@@:@@September@@,@@marker@@:{@@color@@:@@#FF97FF@@,@@pattern@@:{@@shape@@:@@@@}},@@name@@:@@September@@,@@offsetgroup@@:@@September@@,@@orientation@@:@@v@@,@@showlegend@@:true,@@textposition@@:@@auto@@,@@x@@:[@@Martinez PLC@@,@@Norman and Collins Carr@@,@@Patterson and Strickland Downs@@,@@Villa and Ray Brown@@],@@xaxis@@:@@x@@,@@y@@:[292,12,1452,1452],@@yaxis@@:@@y@@,@@type@@:@@bar@@},{@@alignmentgroup@@:@@True@@,@@hovertemplate@@:@@Month=October\\\\u003cbr\\\\u003eCustomer=%{x}\\\\u003cbr\\\\u003eProduct Count (Quantity Sold)=%{y}\\\\u003cextra\\\\u003e\\\\u003c\\\\u002fextra\\\\u003e@@,@@legendgroup@@:@@October@@,@@marker@@:{@@color@@:@@#FECB52@@,@@pattern@@:{@@shape@@:@@@@}},@@name@@:@@October@@,@@offsetgroup@@:@@October@@,@@orientation@@:@@v@@,@@showlegend@@:true,@@textposition@@:@@auto@@,@@x@@:[@@Martinez PLC@@,@@Norman and Collins Carr@@],@@xaxis@@:@@x@@,@@y@@:[1150,46],@@yaxis@@:@@y@@,@@type@@:@@bar@@},{@@alignmentgroup@@:@@True@@,@@hovertemplate@@:@@Month=November\\\\u003cbr\\\\u003eCustomer=%{x}\\\\u003cbr\\\\u003eProduct Count (Quantity Sold)=%{y}\\\\u003cextra\\\\u003e\\\\u003c\\\\u002fextra\\\\u003e@@,@@legendgroup@@:@@November@@,@@marker@@:{@@color@@:@@#636efa@@,@@pattern@@:{@@shape@@:@@@@}},@@name@@:@@November@@,@@offsetgroup@@:@@November@@,@@orientation@@:@@v@@,@@showlegend@@:true,@@textposition@@:@@auto@@,@@x@@:[@@Patterson and Strickland Downs@@,@@Villa and Ray Brown@@],@@xaxis@@:@@x@@,@@y@@:[1273,1273],@@yaxis@@:@@y@@,@@type@@:@@bar@@}],                        {@@barmode@@:@@stack@@,@@legend@@:{@@title@@:{@@text@@:@@Month@@},@@tracegroupgap@@:0},@@template@@:{@@data@@:{@@barpolar@@:[{@@marker@@:{@@line@@:{@@color@@:@@#E5ECF6@@,@@width@@:0.5},@@pattern@@:{@@fillmode@@:@@overlay@@,@@size@@:10,@@solidity@@:0.2}},@@type@@:@@barpolar@@}],@@bar@@:[{@@error_x@@:{@@color@@:@@#2a3f5f@@},@@error_y@@:{@@color@@:@@#2a3f5f@@},@@marker@@:{@@line@@:{@@color@@:@@#E5ECF6@@,@@width@@:0.5},@@pattern@@:{@@fillmode@@:@@overlay@@,@@size@@:10,@@solidity@@:0.2}},@@type@@:@@bar@@}],@@carpet@@:[{@@aaxis@@:{@@endlinecolor@@:@@#2a3f5f@@,@@gridcolor@@:@@white@@,@@linecolor@@:@@white@@,@@minorgridcolor@@:@@white@@,@@startlinecolor@@:@@#2a3f5f@@},@@baxis@@:{@@endlinecolor@@:@@#2a3f5f@@,@@gridcolor@@:@@white@@,@@linecolor@@:@@white@@,@@minorgridcolor@@:@@white@@,@@startlinecolor@@:@@#2a3f5f@@},@@type@@:@@carpet@@}],@@choropleth@@:[{@@colorbar@@:{@@outlinewidth@@:0,@@ticks@@:@@@@},@@type@@:@@choropleth@@}],@@contourcarpet@@:[{@@colorbar@@:{@@outlinewidth@@:0,@@ticks@@:@@@@},@@type@@:@@contourcarpet@@}],@@contour@@:[{@@colorbar@@:{@@outlinewidth@@:0,@@ticks@@:@@@@},@@colorscale@@:[[0.0,@@#0d0887@@],[0.1111111111111111,@@#46039f@@],[0.2222222222222222,@@#7201a8@@],[0.3333333333333333,@@#9c179e@@],[0.4444444444444444,@@#bd3786@@],[0.5555555555555556,@@#d8576b@@],[0.6666666666666666,@@#ed7953@@],[0.7777777777777778,@@#fb9f3a@@],[0.8888888888888888,@@#fdca26@@],[1.0,@@#f0f921@@]],@@type@@:@@contour@@}],@@heatmapgl@@:[{@@colorbar@@:{@@outlinewidth@@:0,@@ticks@@:@@@@},@@colorscale@@:[[0.0,@@#0d0887@@],[0.1111111111111111,@@#46039f@@],[0.2222222222222222,@@#7201a8@@],[0.3333333333333333,@@#9c179e@@],[0.4444444444444444,@@#bd3786@@],[0.5555555555555556,@@#d8576b@@],[0.6666666666666666,@@#ed7953@@],[0.7777777777777778,@@#fb9f3a@@],[0.8888888888888888,@@#fdca26@@],[1.0,@@#f0f921@@]],@@type@@:@@heatmapgl@@}],@@heatmap@@:[{@@colorbar@@:{@@outlinewidth@@:0,@@ticks@@:@@@@},@@colorscale@@:[[0.0,@@#0d0887@@],[0.1111111111111111,@@#46039f@@],[0.2222222222222222,@@#7201a8@@],[0.3333333333333333,@@#9c179e@@],[0.4444444444444444,@@#bd3786@@],[0.5555555555555556,@@#d8576b@@],[0.6666666666666666,@@#ed7953@@],[0.7777777777777778,@@#fb9f3a@@],[0.8888888888888888,@@#fdca26@@],[1.0,@@#f0f921@@]],@@type@@:@@heatmap@@}],@@histogram2dcontour@@:[{@@colorbar@@:{@@outlinewidth@@:0,@@ticks@@:@@@@},@@colorscale@@:[[0.0,@@#0d0887@@],[0.1111111111111111,@@#46039f@@],[0.2222222222222222,@@#7201a8@@],[0.3333333333333333,@@#9c179e@@],[0.4444444444444444,@@#bd3786@@],[0.5555555555555556,@@#d8576b@@],[0.6666666666666666,@@#ed7953@@],[0.7777777777777778,@@#fb9f3a@@],[0.8888888888888888,@@#fdca26@@],[1.0,@@#f0f921@@]],@@type@@:@@histogram2dcontour@@}],@@histogram2d@@:[{@@colorbar@@:{@@outlinewidth@@:0,@@ticks@@:@@@@},@@colorscale@@:[[0.0,@@#0d0887@@],[0.1111111111111111,@@#46039f@@],[0.2222222222222222,@@#7201a8@@],[0.3333333333333333,@@#9c179e@@],[0.4444444444444444,@@#bd3786@@],[0.5555555555555556,@@#d8576b@@],[0.6666666666666666,@@#ed7953@@],[0.7777777777777778,@@#fb9f3a@@],[0.8888888888888888,@@#fdca26@@],[1.0,@@#f0f921@@]],@@type@@:@@histogram2d@@}],@@histogram@@:[{@@marker@@:{@@pattern@@:{@@fillmode@@:@@overlay@@,@@size@@:10,@@solidity@@:0.2}},@@type@@:@@histogram@@}],@@mesh3d@@:[{@@colorbar@@:{@@outlinewidth@@:0,@@ticks@@:@@@@},@@type@@:@@mesh3d@@}],@@parcoords@@:[{@@line@@:{@@colorbar@@:{@@outlinewidth@@:0,@@ticks@@:@@@@}},@@type@@:@@parcoords@@}],@@pie@@:[{@@automargin@@:true,@@type@@:@@pie@@}],@@scatter3d@@:[{@@line@@:{@@colorbar@@:{@@outlinewidth@@:0,@@ticks@@:@@@@}},@@marker@@:{@@colorbar@@:{@@outlinewidth@@:0,@@ticks@@:@@@@}},@@type@@:@@scatter3d@@}],@@scattercarpet@@:[{@@marker@@:{@@colorbar@@:{@@outlinewidth@@:0,@@ticks@@:@@@@}},@@type@@:@@scattercarpet@@}],@@scattergeo@@:[{@@marker@@:{@@colorbar@@:{@@outlinewidth@@:0,@@ticks@@:@@@@}},@@type@@:@@scattergeo@@}],@@scattergl@@:[{@@marker@@:{@@colorbar@@:{@@outlinewidth@@:0,@@ticks@@:@@@@}},@@type@@:@@scattergl@@}],@@scattermapbox@@:[{@@marker@@:{@@colorbar@@:{@@outlinewidth@@:0,@@ticks@@:@@@@}},@@type@@:@@scattermapbox@@}],@@scatterpolargl@@:[{@@marker@@:{@@colorbar@@:{@@outlinewidth@@:0,@@ticks@@:@@@@}},@@type@@:@@scatterpolargl@@}],@@scatterpolar@@:[{@@marker@@:{@@colorbar@@:{@@outlinewidth@@:0,@@ticks@@:@@@@}},@@type@@:@@scatterpolar@@}],@@scatter@@:[{@@fillpattern@@:{@@fillmode@@:@@overlay@@,@@size@@:10,@@solidity@@:0.2},@@type@@:@@scatter@@}],@@scatterternary@@:[{@@marker@@:{@@colorbar@@:{@@outlinewidth@@:0,@@ticks@@:@@@@}},@@type@@:@@scatterternary@@}],@@surface@@:[{@@colorbar@@:{@@outlinewidth@@:0,@@ticks@@:@@@@},@@colorscale@@:[[0.0,@@#0d0887@@],[0.1111111111111111,@@#46039f@@],[0.2222222222222222,@@#7201a8@@],[0.3333333333333333,@@#9c179e@@],[0.4444444444444444,@@#bd3786@@],[0.5555555555555556,@@#d8576b@@],[0.6666666666666666,@@#ed7953@@],[0.7777777777777778,@@#fb9f3a@@],[0.8888888888888888,@@#fdca26@@],[1.0,@@#f0f921@@]],@@type@@:@@surface@@}],@@table@@:[{@@cells@@:{@@fill@@:{@@color@@:@@#EBF0F8@@},@@line@@:{@@color@@:@@white@@}},@@header@@:{@@fill@@:{@@color@@:@@#C8D4E3@@},@@line@@:{@@color@@:@@white@@}},@@type@@:@@table@@}]},@@layout@@:{@@annotationdefaults@@:{@@arrowcolor@@:@@#2a3f5f@@,@@arrowhead@@:0,@@arrowwidth@@:1},@@autotypenumbers@@:@@strict@@,@@coloraxis@@:{@@colorbar@@:{@@outlinewidth@@:0,@@ticks@@:@@@@}},@@colorscale@@:{@@diverging@@:[[0,@@#8e0152@@],[0.1,@@#c51b7d@@],[0.2,@@#de77ae@@],[0.3,@@#f1b6da@@],[0.4,@@#fde0ef@@],[0.5,@@#f7f7f7@@],[0.6,@@#e6f5d0@@],[0.7,@@#b8e186@@],[0.8,@@#7fbc41@@],[0.9,@@#4d9221@@],[1,@@#276419@@]],@@sequential@@:[[0.0,@@#0d0887@@],[0.1111111111111111,@@#46039f@@],[0.2222222222222222,@@#7201a8@@],[0.3333333333333333,@@#9c179e@@],[0.4444444444444444,@@#bd3786@@],[0.5555555555555556,@@#d8576b@@],[0.6666666666666666,@@#ed7953@@],[0.7777777777777778,@@#fb9f3a@@],[0.8888888888888888,@@#fdca26@@],[1.0,@@#f0f921@@]],@@sequentialminus@@:[[0.0,@@#0d0887@@],[0.1111111111111111,@@#46039f@@],[0.2222222222222222,@@#7201a8@@],[0.3333333333333333,@@#9c179e@@],[0.4444444444444444,@@#bd3786@@],[0.5555555555555556,@@#d8576b@@],[0.6666666666666666,@@#ed7953@@],[0.7777777777777778,@@#fb9f3a@@],[0.8888888888888888,@@#fdca26@@],[1.0,@@#f0f921@@]]},@@colorway@@:[@@#636efa@@,@@#EF553B@@,@@#00cc96@@,@@#ab63fa@@,@@#FFA15A@@,@@#19d3f3@@,@@#FF6692@@,@@#B6E880@@,@@#FF97FF@@,@@#FECB52@@],@@font@@:{@@color@@:@@#2a3f5f@@},@@geo@@:{@@bgcolor@@:@@white@@,@@lakecolor@@:@@white@@,@@landcolor@@:@@#E5ECF6@@,@@showlakes@@:true,@@showland@@:true,@@subunitcolor@@:@@white@@},@@hoverlabel@@:{@@align@@:@@left@@},@@hovermode@@:@@closest@@,@@mapbox@@:{@@style@@:@@light@@},@@paper_bgcolor@@:@@white@@,@@plot_bgcolor@@:@@#E5ECF6@@,@@polar@@:{@@angularaxis@@:{@@gridcolor@@:@@white@@,@@linecolor@@:@@white@@,@@ticks@@:@@@@},@@bgcolor@@:@@#E5ECF6@@,@@radialaxis@@:{@@gridcolor@@:@@white@@,@@linecolor@@:@@white@@,@@ticks@@:@@@@}},@@scene@@:{@@xaxis@@:{@@backgroundcolor@@:@@#E5ECF6@@,@@gridcolor@@:@@white@@,@@gridwidth@@:2,@@linecolor@@:@@white@@,@@showbackground@@:true,@@ticks@@:@@@@,@@zerolinecolor@@:@@white@@},@@yaxis@@:{@@backgroundcolor@@:@@#E5ECF6@@,@@gridcolor@@:@@white@@,@@gridwidth@@:2,@@linecolor@@:@@white@@,@@showbackground@@:true,@@ticks@@:@@@@,@@zerolinecolor@@:@@white@@},@@zaxis@@:{@@backgroundcolor@@:@@#E5ECF6@@,@@gridcolor@@:@@white@@,@@gridwidth@@:2,@@linecolor@@:@@white@@,@@showbackground@@:true,@@ticks@@:@@@@,@@zerolinecolor@@:@@white@@}},@@shapedefaults@@:{@@line@@:{@@color@@:@@#2a3f5f@@}},@@ternary@@:{@@aaxis@@:{@@gridcolor@@:@@white@@,@@linecolor@@:@@white@@,@@ticks@@:@@@@},@@baxis@@:{@@gridcolor@@:@@white@@,@@linecolor@@:@@white@@,@@ticks@@:@@@@},@@bgcolor@@:@@#E5ECF6@@,@@caxis@@:{@@gridcolor@@:@@white@@,@@linecolor@@:@@white@@,@@ticks@@:@@@@}},@@title@@:{@@x@@:0.05},@@xaxis@@:{@@automargin@@:true,@@gridcolor@@:@@white@@,@@linecolor@@:@@white@@,@@ticks@@:@@@@,@@title@@:{@@standoff@@:15},@@zerolinecolor@@:@@white@@,@@zerolinewidth@@:2},@@yaxis@@:{@@automargin@@:true,@@gridcolor@@:@@white@@,@@linecolor@@:@@white@@,@@ticks@@:@@@@,@@title@@:{@@standoff@@:15},@@zerolinecolor@@:@@white@@,@@zerolinewidth@@:2}}},@@title@@:{@@text@@:@@Distribution of Product Count by Month for Each Customer@@},@@xaxis@@:{@@anchor@@:@@y@@,@@domain@@:[0.0,1.0],@@title@@:{@@text@@:@@Customer@@}},@@yaxis@@:{@@anchor@@:@@x@@,@@domain@@:[0.0,1.0],@@title@@:{@@text@@:@@Product Count (Quantity Sold)@@}}},                        {@@responsive@@: true}                    )', 'id': 9, 'name': 'Distribution of Product count by Month for each customer', 'title': 'Distribution of Product count by Month for each customer', 'type': 'plotly', 'resultType': 3, 'visibility': 'EXPANDED', 'time': 'Oct 02, 2024 03:17:15 AM'}\n",
      "Error : HTTPConnectionPool(host='localhost', port=80): Max retries exceeded with url: / (Caused by NewConnectionError('<urllib3.connection.HTTPConnection object at 0x13445a150>: Failed to establish a new connection: [Errno 61] Connection refused'))\n"
     ]
    },
    {
     "name": "stderr",
     "output_type": "stream",
     "text": [
      "/var/folders/v6/d3bbw3c15nb5f7pk2twq62zw0000gn/T/ipykernel_77691/4048492091.py:5: SettingWithCopyWarning:\n",
      "\n",
      "\n",
      "A value is trying to be set on a copy of a slice from a DataFrame.\n",
      "Try using .loc[row_indexer,col_indexer] = value instead\n",
      "\n",
      "See the caveats in the documentation: https://pandas.pydata.org/pandas-docs/stable/user_guide/indexing.html#returning-a-view-versus-a-copy\n",
      "\n"
     ]
    }
   ],
   "source": [
    "# Ensure the invoice date column is in datetime format\n",
    "filtered_df['INV_DT'] = pd.to_datetime(filtered_df['INV_DT'], errors='coerce')\n",
    "\n",
    "# Extract the month name from the invoice date\n",
    "filtered_df['Month'] = filtered_df['INV_DT'].dt.strftime('%B')\n",
    "\n",
    "# Grouping the data by month and customer, summing the quantity (QTY)\n",
    "grouped_data = filtered_df.groupby(['Month', 'CUST_NAME'], as_index=False).agg({\n",
    "    'QTY': 'sum'  \n",
    "})\n",
    "\n",
    "# Create a stacked bar plot using plotly express for product count by month and customer\n",
    "fig = px.bar(\n",
    "    grouped_data, \n",
    "    x='CUST_NAME', \n",
    "    y='QTY', \n",
    "    color='Month', \n",
    "    title='Distribution of Product Count by Month for Each Customer',\n",
    "    labels={'CUST_NAME': 'Customer', 'QTY': 'Product Count (Quantity Sold)', 'Month': 'Month'},\n",
    "    barmode='stack',  # Setting barmode to 'stack' for stacked bars\n",
    "    category_orders={'Month': ['January', 'February', 'March', 'April', 'May', 'June', 'July', 'August', 'September', 'October', 'November', 'December']}\n",
    ")\n",
    "\n",
    "\n",
    "test = plotly.offline.plot(fig, output_type='div', include_plotlyjs=False)\n",
    "example_plotly = f'{test}'\n",
    "restworkflowcontext.outPlotly(9, title=\"Distribution of Product count by Month for each customer\", text=example_plotly)\n",
    "\n",
    "\n",
    "# fig.show()\n"
   ]
  },
  {
   "cell_type": "code",
   "execution_count": 105,
   "metadata": {},
   "outputs": [
    {
     "name": "stdout",
     "output_type": "stream",
     "text": [
      "webserverURL: \n",
      "http://localhost\n",
      "Sending Message: {\"progress\": \"70\", \"id\": 9, \"name\": \"Progress\", \"title\": \"Progress\", \"type\": \"progress\", \"resultType\": 3, \"visibility\": \"EXPANDED\", \"time\": \"Oct 02, 2024 03:17:15 AM\"}\n",
      "Error : HTTPConnectionPool(host='localhost', port=80): Max retries exceeded with url: / (Caused by NewConnectionError('<urllib3.connection.HTTPConnection object at 0x134604530>: Failed to establish a new connection: [Errno 61] Connection refused'))\n"
     ]
    }
   ],
   "source": [
    "progress = \"70\"\n",
    "restworkflowcontext.outputProgress(9, title=\"Progress\", progress=progress)"
   ]
  },
  {
   "cell_type": "markdown",
   "metadata": {},
   "source": [
    "### Using `SKUID`"
   ]
  },
  {
   "cell_type": "code",
   "execution_count": 106,
   "metadata": {},
   "outputs": [
    {
     "name": "stderr",
     "output_type": "stream",
     "text": [
      "/var/folders/v6/d3bbw3c15nb5f7pk2twq62zw0000gn/T/ipykernel_77691/3921681924.py:2: SettingWithCopyWarning:\n",
      "\n",
      "\n",
      "A value is trying to be set on a copy of a slice from a DataFrame.\n",
      "Try using .loc[row_indexer,col_indexer] = value instead\n",
      "\n",
      "See the caveats in the documentation: https://pandas.pydata.org/pandas-docs/stable/user_guide/indexing.html#returning-a-view-versus-a-copy\n",
      "\n"
     ]
    },
    {
     "name": "stdout",
     "output_type": "stream",
     "text": [
      "Check the Input type..\n",
      "There is a match\n",
      " And Input is string type.\n",
      "webserverURL: \n",
      "http://localhost\n",
      "Sending Message: {'text': 'Plotly.newPlot(                        @@2ae2209d-6f6b-4434-8c11-e21e0f3abd26@@,                        [{@@alignmentgroup@@:@@True@@,@@hovertemplate@@:@@Month=January\\\\u003cbr\\\\u003eCustomer=%{x}\\\\u003cbr\\\\u003eProduct Count=%{y}\\\\u003cextra\\\\u003e\\\\u003c\\\\u002fextra\\\\u003e@@,@@legendgroup@@:@@January@@,@@marker@@:{@@color@@:@@#636efa@@,@@pattern@@:{@@shape@@:@@@@}},@@name@@:@@January@@,@@offsetgroup@@:@@January@@,@@orientation@@:@@v@@,@@showlegend@@:true,@@textposition@@:@@auto@@,@@x@@:[@@Ballard Rowland@@,@@English Ruiz@@,@@Kane Robertson@@,@@Norman and Collins Carr@@,@@Patterson and Strickland Downs@@,@@Villa and Ray Brown@@,@@White Johnson@@],@@xaxis@@:@@x@@,@@y@@:[30,30,30,1,31,30,8],@@yaxis@@:@@y@@,@@type@@:@@bar@@},{@@alignmentgroup@@:@@True@@,@@hovertemplate@@:@@Month=February\\\\u003cbr\\\\u003eCustomer=%{x}\\\\u003cbr\\\\u003eProduct Count=%{y}\\\\u003cextra\\\\u003e\\\\u003c\\\\u002fextra\\\\u003e@@,@@legendgroup@@:@@February@@,@@marker@@:{@@color@@:@@#EF553B@@,@@pattern@@:{@@shape@@:@@@@}},@@name@@:@@February@@,@@offsetgroup@@:@@February@@,@@orientation@@:@@v@@,@@showlegend@@:true,@@textposition@@:@@auto@@,@@x@@:[@@Ballard Rowland@@,@@English Ruiz@@,@@Kane Robertson@@,@@Patterson and Strickland Downs@@,@@Villa and Ray Brown@@,@@White Johnson@@],@@xaxis@@:@@x@@,@@y@@:[28,56,56,33,28,20],@@yaxis@@:@@y@@,@@type@@:@@bar@@},{@@alignmentgroup@@:@@True@@,@@hovertemplate@@:@@Month=March\\\\u003cbr\\\\u003eCustomer=%{x}\\\\u003cbr\\\\u003eProduct Count=%{y}\\\\u003cextra\\\\u003e\\\\u003c\\\\u002fextra\\\\u003e@@,@@legendgroup@@:@@March@@,@@marker@@:{@@color@@:@@#00cc96@@,@@pattern@@:{@@shape@@:@@@@}},@@name@@:@@March@@,@@offsetgroup@@:@@March@@,@@orientation@@:@@v@@,@@showlegend@@:true,@@textposition@@:@@auto@@,@@x@@:[@@English Ruiz@@,@@Kane Robertson@@,@@Patterson and Strickland Downs@@,@@White Johnson@@],@@xaxis@@:@@x@@,@@y@@:[31,31,4,18],@@yaxis@@:@@y@@,@@type@@:@@bar@@},{@@alignmentgroup@@:@@True@@,@@hovertemplate@@:@@Month=April\\\\u003cbr\\\\u003eCustomer=%{x}\\\\u003cbr\\\\u003eProduct Count=%{y}\\\\u003cextra\\\\u003e\\\\u003c\\\\u002fextra\\\\u003e@@,@@legendgroup@@:@@April@@,@@marker@@:{@@color@@:@@#ab63fa@@,@@pattern@@:{@@shape@@:@@@@}},@@name@@:@@April@@,@@offsetgroup@@:@@April@@,@@orientation@@:@@v@@,@@showlegend@@:true,@@textposition@@:@@auto@@,@@x@@:[@@Ballard Rowland@@,@@Patterson and Strickland Downs@@,@@Villa and Ray Brown@@],@@xaxis@@:@@x@@,@@y@@:[30,62,60],@@yaxis@@:@@y@@,@@type@@:@@bar@@},{@@alignmentgroup@@:@@True@@,@@hovertemplate@@:@@Month=May\\\\u003cbr\\\\u003eCustomer=%{x}\\\\u003cbr\\\\u003eProduct Count=%{y}\\\\u003cextra\\\\u003e\\\\u003c\\\\u002fextra\\\\u003e@@,@@legendgroup@@:@@May@@,@@marker@@:{@@color@@:@@#FFA15A@@,@@pattern@@:{@@shape@@:@@@@}},@@name@@:@@May@@,@@offsetgroup@@:@@May@@,@@orientation@@:@@v@@,@@showlegend@@:true,@@textposition@@:@@auto@@,@@x@@:[@@Ballard Rowland@@,@@English Ruiz@@,@@Kane Robertson@@,@@Martinez PLC@@,@@Patterson and Strickland Downs@@,@@Villa and Ray Brown@@,@@White Johnson@@],@@xaxis@@:@@x@@,@@y@@:[31,31,31,21,39,31,18],@@yaxis@@:@@y@@,@@type@@:@@bar@@},{@@alignmentgroup@@:@@True@@,@@hovertemplate@@:@@Month=June\\\\u003cbr\\\\u003eCustomer=%{x}\\\\u003cbr\\\\u003eProduct Count=%{y}\\\\u003cextra\\\\u003e\\\\u003c\\\\u002fextra\\\\u003e@@,@@legendgroup@@:@@June@@,@@marker@@:{@@color@@:@@#19d3f3@@,@@pattern@@:{@@shape@@:@@@@}},@@name@@:@@June@@,@@offsetgroup@@:@@June@@,@@orientation@@:@@v@@,@@showlegend@@:true,@@textposition@@:@@auto@@,@@x@@:[@@Ballard Rowland@@,@@Patterson and Strickland Downs@@,@@Villa and Ray Brown@@],@@xaxis@@:@@x@@,@@y@@:[30,36,30],@@yaxis@@:@@y@@,@@type@@:@@bar@@},{@@alignmentgroup@@:@@True@@,@@hovertemplate@@:@@Month=July\\\\u003cbr\\\\u003eCustomer=%{x}\\\\u003cbr\\\\u003eProduct Count=%{y}\\\\u003cextra\\\\u003e\\\\u003c\\\\u002fextra\\\\u003e@@,@@legendgroup@@:@@July@@,@@marker@@:{@@color@@:@@#FF6692@@,@@pattern@@:{@@shape@@:@@@@}},@@name@@:@@July@@,@@offsetgroup@@:@@July@@,@@orientation@@:@@v@@,@@showlegend@@:true,@@textposition@@:@@auto@@,@@x@@:[@@Ballard Rowland@@,@@Patterson and Strickland Downs@@,@@Villa and Ray Brown@@],@@xaxis@@:@@x@@,@@y@@:[31,64,62],@@yaxis@@:@@y@@,@@type@@:@@bar@@},{@@alignmentgroup@@:@@True@@,@@hovertemplate@@:@@Month=August\\\\u003cbr\\\\u003eCustomer=%{x}\\\\u003cbr\\\\u003eProduct Count=%{y}\\\\u003cextra\\\\u003e\\\\u003c\\\\u002fextra\\\\u003e@@,@@legendgroup@@:@@August@@,@@marker@@:{@@color@@:@@#B6E880@@,@@pattern@@:{@@shape@@:@@@@}},@@name@@:@@August@@,@@offsetgroup@@:@@August@@,@@orientation@@:@@v@@,@@showlegend@@:true,@@textposition@@:@@auto@@,@@x@@:[@@Ballard Rowland@@,@@Patterson and Strickland Downs@@,@@Villa and Ray Brown@@],@@xaxis@@:@@x@@,@@y@@:[31,65,62],@@yaxis@@:@@y@@,@@type@@:@@bar@@},{@@alignmentgroup@@:@@True@@,@@hovertemplate@@:@@Month=September\\\\u003cbr\\\\u003eCustomer=%{x}\\\\u003cbr\\\\u003eProduct Count=%{y}\\\\u003cextra\\\\u003e\\\\u003c\\\\u002fextra\\\\u003e@@,@@legendgroup@@:@@September@@,@@marker@@:{@@color@@:@@#FF97FF@@,@@pattern@@:{@@shape@@:@@@@}},@@name@@:@@September@@,@@offsetgroup@@:@@September@@,@@orientation@@:@@v@@,@@showlegend@@:true,@@textposition@@:@@auto@@,@@x@@:[@@Martinez PLC@@,@@Norman and Collins Carr@@,@@Patterson and Strickland Downs@@,@@Villa and Ray Brown@@],@@xaxis@@:@@x@@,@@y@@:[19,1,30,30],@@yaxis@@:@@y@@,@@type@@:@@bar@@},{@@alignmentgroup@@:@@True@@,@@hovertemplate@@:@@Month=October\\\\u003cbr\\\\u003eCustomer=%{x}\\\\u003cbr\\\\u003eProduct Count=%{y}\\\\u003cextra\\\\u003e\\\\u003c\\\\u002fextra\\\\u003e@@,@@legendgroup@@:@@October@@,@@marker@@:{@@color@@:@@#FECB52@@,@@pattern@@:{@@shape@@:@@@@}},@@name@@:@@October@@,@@offsetgroup@@:@@October@@,@@orientation@@:@@v@@,@@showlegend@@:true,@@textposition@@:@@auto@@,@@x@@:[@@Martinez PLC@@,@@Norman and Collins Carr@@],@@xaxis@@:@@x@@,@@y@@:[21,1],@@yaxis@@:@@y@@,@@type@@:@@bar@@},{@@alignmentgroup@@:@@True@@,@@hovertemplate@@:@@Month=November\\\\u003cbr\\\\u003eCustomer=%{x}\\\\u003cbr\\\\u003eProduct Count=%{y}\\\\u003cextra\\\\u003e\\\\u003c\\\\u002fextra\\\\u003e@@,@@legendgroup@@:@@November@@,@@marker@@:{@@color@@:@@#636efa@@,@@pattern@@:{@@shape@@:@@@@}},@@name@@:@@November@@,@@offsetgroup@@:@@November@@,@@orientation@@:@@v@@,@@showlegend@@:true,@@textposition@@:@@auto@@,@@x@@:[@@Patterson and Strickland Downs@@,@@Villa and Ray Brown@@],@@xaxis@@:@@x@@,@@y@@:[30,30],@@yaxis@@:@@y@@,@@type@@:@@bar@@}],                        {@@barmode@@:@@stack@@,@@legend@@:{@@title@@:{@@text@@:@@Month@@},@@tracegroupgap@@:0},@@template@@:{@@data@@:{@@barpolar@@:[{@@marker@@:{@@line@@:{@@color@@:@@#E5ECF6@@,@@width@@:0.5},@@pattern@@:{@@fillmode@@:@@overlay@@,@@size@@:10,@@solidity@@:0.2}},@@type@@:@@barpolar@@}],@@bar@@:[{@@error_x@@:{@@color@@:@@#2a3f5f@@},@@error_y@@:{@@color@@:@@#2a3f5f@@},@@marker@@:{@@line@@:{@@color@@:@@#E5ECF6@@,@@width@@:0.5},@@pattern@@:{@@fillmode@@:@@overlay@@,@@size@@:10,@@solidity@@:0.2}},@@type@@:@@bar@@}],@@carpet@@:[{@@aaxis@@:{@@endlinecolor@@:@@#2a3f5f@@,@@gridcolor@@:@@white@@,@@linecolor@@:@@white@@,@@minorgridcolor@@:@@white@@,@@startlinecolor@@:@@#2a3f5f@@},@@baxis@@:{@@endlinecolor@@:@@#2a3f5f@@,@@gridcolor@@:@@white@@,@@linecolor@@:@@white@@,@@minorgridcolor@@:@@white@@,@@startlinecolor@@:@@#2a3f5f@@},@@type@@:@@carpet@@}],@@choropleth@@:[{@@colorbar@@:{@@outlinewidth@@:0,@@ticks@@:@@@@},@@type@@:@@choropleth@@}],@@contourcarpet@@:[{@@colorbar@@:{@@outlinewidth@@:0,@@ticks@@:@@@@},@@type@@:@@contourcarpet@@}],@@contour@@:[{@@colorbar@@:{@@outlinewidth@@:0,@@ticks@@:@@@@},@@colorscale@@:[[0.0,@@#0d0887@@],[0.1111111111111111,@@#46039f@@],[0.2222222222222222,@@#7201a8@@],[0.3333333333333333,@@#9c179e@@],[0.4444444444444444,@@#bd3786@@],[0.5555555555555556,@@#d8576b@@],[0.6666666666666666,@@#ed7953@@],[0.7777777777777778,@@#fb9f3a@@],[0.8888888888888888,@@#fdca26@@],[1.0,@@#f0f921@@]],@@type@@:@@contour@@}],@@heatmapgl@@:[{@@colorbar@@:{@@outlinewidth@@:0,@@ticks@@:@@@@},@@colorscale@@:[[0.0,@@#0d0887@@],[0.1111111111111111,@@#46039f@@],[0.2222222222222222,@@#7201a8@@],[0.3333333333333333,@@#9c179e@@],[0.4444444444444444,@@#bd3786@@],[0.5555555555555556,@@#d8576b@@],[0.6666666666666666,@@#ed7953@@],[0.7777777777777778,@@#fb9f3a@@],[0.8888888888888888,@@#fdca26@@],[1.0,@@#f0f921@@]],@@type@@:@@heatmapgl@@}],@@heatmap@@:[{@@colorbar@@:{@@outlinewidth@@:0,@@ticks@@:@@@@},@@colorscale@@:[[0.0,@@#0d0887@@],[0.1111111111111111,@@#46039f@@],[0.2222222222222222,@@#7201a8@@],[0.3333333333333333,@@#9c179e@@],[0.4444444444444444,@@#bd3786@@],[0.5555555555555556,@@#d8576b@@],[0.6666666666666666,@@#ed7953@@],[0.7777777777777778,@@#fb9f3a@@],[0.8888888888888888,@@#fdca26@@],[1.0,@@#f0f921@@]],@@type@@:@@heatmap@@}],@@histogram2dcontour@@:[{@@colorbar@@:{@@outlinewidth@@:0,@@ticks@@:@@@@},@@colorscale@@:[[0.0,@@#0d0887@@],[0.1111111111111111,@@#46039f@@],[0.2222222222222222,@@#7201a8@@],[0.3333333333333333,@@#9c179e@@],[0.4444444444444444,@@#bd3786@@],[0.5555555555555556,@@#d8576b@@],[0.6666666666666666,@@#ed7953@@],[0.7777777777777778,@@#fb9f3a@@],[0.8888888888888888,@@#fdca26@@],[1.0,@@#f0f921@@]],@@type@@:@@histogram2dcontour@@}],@@histogram2d@@:[{@@colorbar@@:{@@outlinewidth@@:0,@@ticks@@:@@@@},@@colorscale@@:[[0.0,@@#0d0887@@],[0.1111111111111111,@@#46039f@@],[0.2222222222222222,@@#7201a8@@],[0.3333333333333333,@@#9c179e@@],[0.4444444444444444,@@#bd3786@@],[0.5555555555555556,@@#d8576b@@],[0.6666666666666666,@@#ed7953@@],[0.7777777777777778,@@#fb9f3a@@],[0.8888888888888888,@@#fdca26@@],[1.0,@@#f0f921@@]],@@type@@:@@histogram2d@@}],@@histogram@@:[{@@marker@@:{@@pattern@@:{@@fillmode@@:@@overlay@@,@@size@@:10,@@solidity@@:0.2}},@@type@@:@@histogram@@}],@@mesh3d@@:[{@@colorbar@@:{@@outlinewidth@@:0,@@ticks@@:@@@@},@@type@@:@@mesh3d@@}],@@parcoords@@:[{@@line@@:{@@colorbar@@:{@@outlinewidth@@:0,@@ticks@@:@@@@}},@@type@@:@@parcoords@@}],@@pie@@:[{@@automargin@@:true,@@type@@:@@pie@@}],@@scatter3d@@:[{@@line@@:{@@colorbar@@:{@@outlinewidth@@:0,@@ticks@@:@@@@}},@@marker@@:{@@colorbar@@:{@@outlinewidth@@:0,@@ticks@@:@@@@}},@@type@@:@@scatter3d@@}],@@scattercarpet@@:[{@@marker@@:{@@colorbar@@:{@@outlinewidth@@:0,@@ticks@@:@@@@}},@@type@@:@@scattercarpet@@}],@@scattergeo@@:[{@@marker@@:{@@colorbar@@:{@@outlinewidth@@:0,@@ticks@@:@@@@}},@@type@@:@@scattergeo@@}],@@scattergl@@:[{@@marker@@:{@@colorbar@@:{@@outlinewidth@@:0,@@ticks@@:@@@@}},@@type@@:@@scattergl@@}],@@scattermapbox@@:[{@@marker@@:{@@colorbar@@:{@@outlinewidth@@:0,@@ticks@@:@@@@}},@@type@@:@@scattermapbox@@}],@@scatterpolargl@@:[{@@marker@@:{@@colorbar@@:{@@outlinewidth@@:0,@@ticks@@:@@@@}},@@type@@:@@scatterpolargl@@}],@@scatterpolar@@:[{@@marker@@:{@@colorbar@@:{@@outlinewidth@@:0,@@ticks@@:@@@@}},@@type@@:@@scatterpolar@@}],@@scatter@@:[{@@fillpattern@@:{@@fillmode@@:@@overlay@@,@@size@@:10,@@solidity@@:0.2},@@type@@:@@scatter@@}],@@scatterternary@@:[{@@marker@@:{@@colorbar@@:{@@outlinewidth@@:0,@@ticks@@:@@@@}},@@type@@:@@scatterternary@@}],@@surface@@:[{@@colorbar@@:{@@outlinewidth@@:0,@@ticks@@:@@@@},@@colorscale@@:[[0.0,@@#0d0887@@],[0.1111111111111111,@@#46039f@@],[0.2222222222222222,@@#7201a8@@],[0.3333333333333333,@@#9c179e@@],[0.4444444444444444,@@#bd3786@@],[0.5555555555555556,@@#d8576b@@],[0.6666666666666666,@@#ed7953@@],[0.7777777777777778,@@#fb9f3a@@],[0.8888888888888888,@@#fdca26@@],[1.0,@@#f0f921@@]],@@type@@:@@surface@@}],@@table@@:[{@@cells@@:{@@fill@@:{@@color@@:@@#EBF0F8@@},@@line@@:{@@color@@:@@white@@}},@@header@@:{@@fill@@:{@@color@@:@@#C8D4E3@@},@@line@@:{@@color@@:@@white@@}},@@type@@:@@table@@}]},@@layout@@:{@@annotationdefaults@@:{@@arrowcolor@@:@@#2a3f5f@@,@@arrowhead@@:0,@@arrowwidth@@:1},@@autotypenumbers@@:@@strict@@,@@coloraxis@@:{@@colorbar@@:{@@outlinewidth@@:0,@@ticks@@:@@@@}},@@colorscale@@:{@@diverging@@:[[0,@@#8e0152@@],[0.1,@@#c51b7d@@],[0.2,@@#de77ae@@],[0.3,@@#f1b6da@@],[0.4,@@#fde0ef@@],[0.5,@@#f7f7f7@@],[0.6,@@#e6f5d0@@],[0.7,@@#b8e186@@],[0.8,@@#7fbc41@@],[0.9,@@#4d9221@@],[1,@@#276419@@]],@@sequential@@:[[0.0,@@#0d0887@@],[0.1111111111111111,@@#46039f@@],[0.2222222222222222,@@#7201a8@@],[0.3333333333333333,@@#9c179e@@],[0.4444444444444444,@@#bd3786@@],[0.5555555555555556,@@#d8576b@@],[0.6666666666666666,@@#ed7953@@],[0.7777777777777778,@@#fb9f3a@@],[0.8888888888888888,@@#fdca26@@],[1.0,@@#f0f921@@]],@@sequentialminus@@:[[0.0,@@#0d0887@@],[0.1111111111111111,@@#46039f@@],[0.2222222222222222,@@#7201a8@@],[0.3333333333333333,@@#9c179e@@],[0.4444444444444444,@@#bd3786@@],[0.5555555555555556,@@#d8576b@@],[0.6666666666666666,@@#ed7953@@],[0.7777777777777778,@@#fb9f3a@@],[0.8888888888888888,@@#fdca26@@],[1.0,@@#f0f921@@]]},@@colorway@@:[@@#636efa@@,@@#EF553B@@,@@#00cc96@@,@@#ab63fa@@,@@#FFA15A@@,@@#19d3f3@@,@@#FF6692@@,@@#B6E880@@,@@#FF97FF@@,@@#FECB52@@],@@font@@:{@@color@@:@@#2a3f5f@@},@@geo@@:{@@bgcolor@@:@@white@@,@@lakecolor@@:@@white@@,@@landcolor@@:@@#E5ECF6@@,@@showlakes@@:true,@@showland@@:true,@@subunitcolor@@:@@white@@},@@hoverlabel@@:{@@align@@:@@left@@},@@hovermode@@:@@closest@@,@@mapbox@@:{@@style@@:@@light@@},@@paper_bgcolor@@:@@white@@,@@plot_bgcolor@@:@@#E5ECF6@@,@@polar@@:{@@angularaxis@@:{@@gridcolor@@:@@white@@,@@linecolor@@:@@white@@,@@ticks@@:@@@@},@@bgcolor@@:@@#E5ECF6@@,@@radialaxis@@:{@@gridcolor@@:@@white@@,@@linecolor@@:@@white@@,@@ticks@@:@@@@}},@@scene@@:{@@xaxis@@:{@@backgroundcolor@@:@@#E5ECF6@@,@@gridcolor@@:@@white@@,@@gridwidth@@:2,@@linecolor@@:@@white@@,@@showbackground@@:true,@@ticks@@:@@@@,@@zerolinecolor@@:@@white@@},@@yaxis@@:{@@backgroundcolor@@:@@#E5ECF6@@,@@gridcolor@@:@@white@@,@@gridwidth@@:2,@@linecolor@@:@@white@@,@@showbackground@@:true,@@ticks@@:@@@@,@@zerolinecolor@@:@@white@@},@@zaxis@@:{@@backgroundcolor@@:@@#E5ECF6@@,@@gridcolor@@:@@white@@,@@gridwidth@@:2,@@linecolor@@:@@white@@,@@showbackground@@:true,@@ticks@@:@@@@,@@zerolinecolor@@:@@white@@}},@@shapedefaults@@:{@@line@@:{@@color@@:@@#2a3f5f@@}},@@ternary@@:{@@aaxis@@:{@@gridcolor@@:@@white@@,@@linecolor@@:@@white@@,@@ticks@@:@@@@},@@baxis@@:{@@gridcolor@@:@@white@@,@@linecolor@@:@@white@@,@@ticks@@:@@@@},@@bgcolor@@:@@#E5ECF6@@,@@caxis@@:{@@gridcolor@@:@@white@@,@@linecolor@@:@@white@@,@@ticks@@:@@@@}},@@title@@:{@@x@@:0.05},@@xaxis@@:{@@automargin@@:true,@@gridcolor@@:@@white@@,@@linecolor@@:@@white@@,@@ticks@@:@@@@,@@title@@:{@@standoff@@:15},@@zerolinecolor@@:@@white@@,@@zerolinewidth@@:2},@@yaxis@@:{@@automargin@@:true,@@gridcolor@@:@@white@@,@@linecolor@@:@@white@@,@@ticks@@:@@@@,@@title@@:{@@standoff@@:15},@@zerolinecolor@@:@@white@@,@@zerolinewidth@@:2}}},@@title@@:{@@text@@:@@Distribution of Product Count by Month for Each Customer@@},@@xaxis@@:{@@anchor@@:@@y@@,@@domain@@:[0.0,1.0],@@title@@:{@@text@@:@@Customer@@}},@@yaxis@@:{@@anchor@@:@@x@@,@@domain@@:[0.0,1.0],@@title@@:{@@text@@:@@Product Count@@}}},                        {@@responsive@@: true}                    )', 'id': 9, 'name': 'Distribution of Product count by Month for each customer', 'title': 'Distribution of Product count by Month for each customer', 'type': 'plotly', 'resultType': 3, 'visibility': 'EXPANDED', 'time': 'Oct 02, 2024 03:17:15 AM'}\n",
      "Error : HTTPConnectionPool(host='localhost', port=80): Max retries exceeded with url: / (Caused by NewConnectionError('<urllib3.connection.HTTPConnection object at 0x134641160>: Failed to establish a new connection: [Errno 61] Connection refused'))\n"
     ]
    },
    {
     "name": "stderr",
     "output_type": "stream",
     "text": [
      "/var/folders/v6/d3bbw3c15nb5f7pk2twq62zw0000gn/T/ipykernel_77691/3921681924.py:5: SettingWithCopyWarning:\n",
      "\n",
      "\n",
      "A value is trying to be set on a copy of a slice from a DataFrame.\n",
      "Try using .loc[row_indexer,col_indexer] = value instead\n",
      "\n",
      "See the caveats in the documentation: https://pandas.pydata.org/pandas-docs/stable/user_guide/indexing.html#returning-a-view-versus-a-copy\n",
      "\n"
     ]
    }
   ],
   "source": [
    "# Ensure the invoice date column is in datetime format\n",
    "filtered_df['INV_DT'] = pd.to_datetime(filtered_df['INV_DT'], errors='coerce')\n",
    "\n",
    "# Extract the month name from the invoice date\n",
    "filtered_df['Month'] = filtered_df['INV_DT'].dt.strftime('%B')\n",
    "\n",
    "# Grouping the data by month and customer, summing the quantity (QTY)\n",
    "grouped_data = filtered_df.groupby(['Month', 'CUST_NAME'], as_index=False).agg({\n",
    "    'SKUID': 'count'  \n",
    "})\n",
    "\n",
    "# Create a stacked bar plot using plotly express for product count by month and customer\n",
    "fig = px.bar(\n",
    "    grouped_data, \n",
    "    x='CUST_NAME', \n",
    "    y='SKUID', \n",
    "    color='Month', \n",
    "    title='Distribution of Product Count by Month for Each Customer',\n",
    "    labels={'CUST_NAME': 'Customer', 'SKUID': 'Product Count', 'Month': 'Month'},\n",
    "    barmode='stack',  # Setting barmode to 'stack' for stacked bars\n",
    "    category_orders={'Month': ['January', 'February', 'March', 'April', 'May', 'June', 'July', 'August', 'September', 'October', 'November', 'December']}\n",
    ")\n",
    "\n",
    "\n",
    "test = plotly.offline.plot(fig, output_type='div', include_plotlyjs=False)\n",
    "example_plotly = f'{test}'\n",
    "restworkflowcontext.outPlotly(9, title=\"Distribution of Product count by Month for each customer\", text=example_plotly)\n",
    "\n",
    "\n",
    "# fig.show()\n"
   ]
  },
  {
   "cell_type": "code",
   "execution_count": 107,
   "metadata": {},
   "outputs": [
    {
     "name": "stdout",
     "output_type": "stream",
     "text": [
      "webserverURL: \n",
      "http://localhost\n",
      "Sending Message: {\"progress\": \"75\", \"id\": 9, \"name\": \"Progress\", \"title\": \"Progress\", \"type\": \"progress\", \"resultType\": 3, \"visibility\": \"EXPANDED\", \"time\": \"Oct 02, 2024 03:17:15 AM\"}\n",
      "Error : HTTPConnectionPool(host='localhost', port=80): Max retries exceeded with url: / (Caused by NewConnectionError('<urllib3.connection.HTTPConnection object at 0x134839e20>: Failed to establish a new connection: [Errno 61] Connection refused'))\n"
     ]
    }
   ],
   "source": [
    "progress = \"75\"\n",
    "restworkflowcontext.outputProgress(9, title=\"Progress\", progress=progress)"
   ]
  },
  {
   "cell_type": "markdown",
   "metadata": {},
   "source": [
    "## Summary"
   ]
  },
  {
   "cell_type": "code",
   "execution_count": 108,
   "metadata": {
    "colab": {
     "base_uri": "https://localhost:8080/",
     "height": 424
    },
    "id": "n1mnx_-ArfM2",
    "outputId": "9f037537-aeec-4e48-e1f5-80678b02211f"
   },
   "outputs": [
    {
     "name": "stdout",
     "output_type": "stream",
     "text": [
      "webserverURL: \n",
      "http://localhost\n",
      "Sending Message: {\"cellValues\": [[\"INV_DT\", \"QTY\", \"GROSS\", \"UNITPRICE\", \"NET_TOT_TAX\", \"ADJ_AMT\", \"CUST_DISC_AMT\", \"PRODUCT_DISC_AMT\", \"NET\"], [\"object\", \"float64\", \"float64\", \"float64\", \"float64\", \"float64\", \"float64\", \"float64\", \"float64\"], [np.int64(2782), 2782.0, 2782.0, 2782.0, 2782.0, 2782.0, 2782.0, 2782.0, 2782.0], [Timestamp(\"2023-05-16 21:18:30.280373760\"), 36.89827462257369, 2.6215175758447162, 0.07507450291265276, 10.0, 0.0, 4.0, 1.0, 2.2282899394680085], [Timestamp(\"2023-01-02 00:00:00\"), 4.0, 0.044, 0.010628571, 10.0, 0.0, 4.0, 1.0, 0.0374], [Timestamp(\"2023-02-22 00:00:00\"), 25.0, 0.6964, 0.01950589325, 10.0, 0.0, 4.0, 1.0, 0.59194], [Timestamp(\"2023-05-09 00:00:00\"), 34.0, 1.556798, 0.06609671, 10.0, 0.0, 4.0, 1.0, 1.3232783], [Timestamp(\"2023-07-30 00:00:00\"), 46.0, 4.26894625, 0.11924972525, 10.0, 0.0, 4.0, 1.0, 3.6286043125], [Timestamp(\"2023-11-30 00:00:00\"), 114.0, 12.878397, 0.26395996, 10.0, 0.0, 4.0, 1.0, 10.94663745], [nan, 16.810942008226405, 2.358350237646522, 0.06238671978003003, 0.0, 0.0, 0.0, 0.0, 2.004597701999544]], \"id\": 9, \"name\": \"Pandas DataFrame\", \"title\": \"filtered_df.describe()\", \"type\": \"table\", \"resultType\": 3, \"visibility\": \"EXPANDED\", \"time\": \"Oct 02, 2024 03:17:15 AM\"}\n",
      "Error : HTTPConnectionPool(host='localhost', port=80): Max retries exceeded with url: / (Caused by NewConnectionError('<urllib3.connection.HTTPConnection object at 0x1348392e0>: Failed to establish a new connection: [Errno 61] Connection refused'))\n"
     ]
    }
   ],
   "source": [
    "# print(filtered_df.describe())\n",
    "restworkflowcontext.outPandasDataframe(9,\"filtered_df.describe()\", filtered_df.describe())"
   ]
  },
  {
   "cell_type": "code",
   "execution_count": 109,
   "metadata": {},
   "outputs": [
    {
     "name": "stdout",
     "output_type": "stream",
     "text": [
      "webserverURL: \n",
      "http://localhost\n",
      "Sending Message: {\"progress\": \"80\", \"id\": 9, \"name\": \"Progress\", \"title\": \"Progress\", \"type\": \"progress\", \"resultType\": 3, \"visibility\": \"EXPANDED\", \"time\": \"Oct 02, 2024 03:17:15 AM\"}\n",
      "Error : HTTPConnectionPool(host='localhost', port=80): Max retries exceeded with url: / (Caused by NewConnectionError('<urllib3.connection.HTTPConnection object at 0x134642840>: Failed to establish a new connection: [Errno 61] Connection refused'))\n"
     ]
    }
   ],
   "source": [
    "progress = \"80\"\n",
    "restworkflowcontext.outputProgress(9, title=\"Progress\", progress=progress)"
   ]
  },
  {
   "cell_type": "markdown",
   "metadata": {},
   "source": [
    "## Null Values in Columns"
   ]
  },
  {
   "cell_type": "code",
   "execution_count": 110,
   "metadata": {},
   "outputs": [
    {
     "name": "stdout",
     "output_type": "stream",
     "text": [
      "webserverURL: \n",
      "http://localhost\n",
      "Sending Message: {\"cellValues\": [[\"Column\", \"Number of Null Values\", \"Percentage of Null Values\"], [\"object\", \"int64\", \"float64\"], [\"INV_DT\", 0, 0.0], [\"INV_NO\", 0, 0.0], [\"INV_NO_KEY\", 0, 0.0], [\"QTY\", 0, 0.0], [\"GROSS\", 0, 0.0], [\"UNITPRICE\", 0, 0.0], [\"NET_TOT_TAX\", 0, 0.0], [\"ADJ_AMT\", 0, 0.0], [\"CUST_DISC_AMT\", 0, 0.0], [\"PRODUCT_DISC_AMT\", 0, 0.0]], \"id\": 9, \"name\": \"Pandas DataFrame\", \"title\": \"null_data\", \"type\": \"table\", \"resultType\": 3, \"visibility\": \"EXPANDED\", \"time\": \"Oct 02, 2024 03:17:15 AM\"}\n",
      "Error : HTTPConnectionPool(host='localhost', port=80): Max retries exceeded with url: / (Caused by NewConnectionError('<urllib3.connection.HTTPConnection object at 0x13449f290>: Failed to establish a new connection: [Errno 61] Connection refused'))\n"
     ]
    }
   ],
   "source": [
    "# Get the number of null values for each column\n",
    "null_count = filtered_df.isnull().sum()\n",
    "null_percentage = (filtered_df.isnull().sum() / len(filtered_df)) * 100\n",
    "\n",
    "null_data = pd.DataFrame({\n",
    "    'Null Count': null_count,\n",
    "    'Null Percentage': null_percentage\n",
    "})\n",
    "\n",
    "null_data.reset_index(inplace=True)\n",
    "null_data.columns = ['Column', 'Number of Null Values', 'Percentage of Null Values']\n",
    "\n",
    "restworkflowcontext.outPandasDataframe(9,\"null_data\", null_data)\n",
    "# null_data"
   ]
  },
  {
   "cell_type": "markdown",
   "metadata": {},
   "source": [
    "## Columns Unique Count"
   ]
  },
  {
   "cell_type": "code",
   "execution_count": 111,
   "metadata": {},
   "outputs": [
    {
     "name": "stdout",
     "output_type": "stream",
     "text": [
      "webserverURL: \n",
      "http://localhost\n",
      "Sending Message: {\"cellValues\": [[\"Column\", \"Unique Values Count\"], [\"object\", \"int64\"], [\"CUSTOMER_ID\", 27], [\"CUST_NAME\", 8], [\"CATEGORY\", 2], [\"SUBCATEGPRY\", 2], [\"SKUID\", 2], [\"COUNTRY_ID\", 1], [\"SECTOR\", 1], [\"DISTRIBUTOR_ID\", 1], [\"DIST_NAME\", 1]], \"id\": 9, \"name\": \"Pandas DataFrame\", \"title\": \"unique_values_df\", \"type\": \"table\", \"resultType\": 3, \"visibility\": \"EXPANDED\", \"time\": \"Oct 02, 2024 03:17:15 AM\"}\n",
      "Error : HTTPConnectionPool(host='localhost', port=80): Max retries exceeded with url: / (Caused by NewConnectionError('<urllib3.connection.HTTPConnection object at 0x13449e480>: Failed to establish a new connection: [Errno 61] Connection refused'))\n"
     ]
    }
   ],
   "source": [
    "columns_to_check = ['CUSTOMER_ID', 'CUST_NAME', 'CATEGORY', 'SUBCATEGPRY', \n",
    "                    'SKUID', 'COUNTRY_ID', 'SECTOR', 'DISTRIBUTOR_ID', 'DIST_NAME']\n",
    "\n",
    "unique_values = filtered_df[columns_to_check].nunique()\n",
    "\n",
    "unique_values_df = pd.DataFrame({\n",
    "    'Column': unique_values.index,\n",
    "    'Unique Values Count': unique_values.values\n",
    "})\n",
    "\n",
    "restworkflowcontext.outPandasDataframe(9,\"unique_values_df\", unique_values_df)\n",
    "# unique_values_df\n"
   ]
  },
  {
   "cell_type": "markdown",
   "metadata": {},
   "source": [
    "## CUST_NAME"
   ]
  },
  {
   "cell_type": "code",
   "execution_count": 112,
   "metadata": {
    "id": "mB_YuBCphq4d"
   },
   "outputs": [
    {
     "name": "stdout",
     "output_type": "stream",
     "text": [
      "webserverURL: \n",
      "http://localhost\n",
      "Sending Message: {\"cellValues\": [[\"CUST_NAME\", \"count\"], [\"object\", \"int64\"], [\"Patterson and Strickland Downs\", 394], [\"Villa and Ray Brown\", 363], [\"Ballard Rowland\", 211], [\"English Ruiz\", 148], [\"Kane Robertson\", 148], [\"White Johnson\", 64], [\"Martinez PLC\", 61], [\"Norman and Collins Carr\", 3]], \"id\": 9, \"name\": \"Pandas DataFrame\", \"title\": \"cust_name_count_df\", \"type\": \"table\", \"resultType\": 3, \"visibility\": \"EXPANDED\", \"time\": \"Oct 02, 2024 03:17:15 AM\"}\n",
      "Error : HTTPConnectionPool(host='localhost', port=80): Max retries exceeded with url: / (Caused by NewConnectionError('<urllib3.connection.HTTPConnection object at 0x134491b50>: Failed to establish a new connection: [Errno 61] Connection refused'))\n"
     ]
    }
   ],
   "source": [
    "cust_name_count_df = filtered_df['CUST_NAME'].value_counts().reset_index()\n",
    "restworkflowcontext.outPandasDataframe(9,\"cust_name_count_df\", cust_name_count_df)\n",
    "# cust_name_count_df"
   ]
  },
  {
   "cell_type": "code",
   "execution_count": 113,
   "metadata": {},
   "outputs": [
    {
     "name": "stdout",
     "output_type": "stream",
     "text": [
      "webserverURL: \n",
      "http://localhost\n",
      "Sending Message: {\"progress\": \"85\", \"id\": 9, \"name\": \"Progress\", \"title\": \"Progress\", \"type\": \"progress\", \"resultType\": 3, \"visibility\": \"EXPANDED\", \"time\": \"Oct 02, 2024 03:17:15 AM\"}\n",
      "Error : HTTPConnectionPool(host='localhost', port=80): Max retries exceeded with url: / (Caused by NewConnectionError('<urllib3.connection.HTTPConnection object at 0x1346433e0>: Failed to establish a new connection: [Errno 61] Connection refused'))\n"
     ]
    }
   ],
   "source": [
    "progress = \"85\"\n",
    "restworkflowcontext.outputProgress(9, title=\"Progress\", progress=progress)"
   ]
  },
  {
   "cell_type": "markdown",
   "metadata": {},
   "source": [
    "## CUSTOMER_ID"
   ]
  },
  {
   "cell_type": "code",
   "execution_count": 114,
   "metadata": {},
   "outputs": [
    {
     "name": "stdout",
     "output_type": "stream",
     "text": [
      "webserverURL: \n",
      "http://localhost\n",
      "Sending Message: {\"cellValues\": [[\"CUSTOMER_ID\", \"count\"], [\"object\", \"int64\"], [\"CUST10092\", 394], [\"CUST10047\", 363], [\"CUST10077\", 211], [\"CUST10032\", 152], [\"CUST10062\", 152], [\"CUST10016\", 148], [\"CUST10031\", 148], [\"CUST10046\", 148], [\"CUST10061\", 148], [\"CUST10091\", 148]], \"id\": 9, \"name\": \"Pandas DataFrame\", \"title\": \"cust_id_count_df\", \"type\": \"table\", \"resultType\": 3, \"visibility\": \"EXPANDED\", \"time\": \"Oct 02, 2024 03:17:15 AM\"}\n",
      "Error : HTTPConnectionPool(host='localhost', port=80): Max retries exceeded with url: / (Caused by NewConnectionError('<urllib3.connection.HTTPConnection object at 0x13483b980>: Failed to establish a new connection: [Errno 61] Connection refused'))\n"
     ]
    }
   ],
   "source": [
    "cust_id_count_df = filtered_df['CUSTOMER_ID'].value_counts().reset_index()\n",
    "restworkflowcontext.outPandasDataframe(9,\"cust_id_count_df\", cust_id_count_df)\n",
    "# cust_id_count_df"
   ]
  },
  {
   "cell_type": "markdown",
   "metadata": {},
   "source": [
    "## SECTOR"
   ]
  },
  {
   "cell_type": "code",
   "execution_count": 115,
   "metadata": {},
   "outputs": [
    {
     "name": "stdout",
     "output_type": "stream",
     "text": [
      "webserverURL: \n",
      "http://localhost\n",
      "Sending Message: {\"cellValues\": [[\"SECTOR\", \"count\"], [\"object\", \"int64\"], [\"BCC\", 2782]], \"id\": 9, \"name\": \"Pandas DataFrame\", \"title\": \"sector_count_df\", \"type\": \"table\", \"resultType\": 3, \"visibility\": \"EXPANDED\", \"time\": \"Oct 02, 2024 03:17:15 AM\"}\n",
      "Error : HTTPConnectionPool(host='localhost', port=80): Max retries exceeded with url: / (Caused by NewConnectionError('<urllib3.connection.HTTPConnection object at 0x1346422a0>: Failed to establish a new connection: [Errno 61] Connection refused'))\n"
     ]
    }
   ],
   "source": [
    "sector_count_df = filtered_df['SECTOR'].value_counts().reset_index()\n",
    "restworkflowcontext.outPandasDataframe(9,\"sector_count_df\", sector_count_df)\n",
    "# sector_count_df"
   ]
  },
  {
   "cell_type": "markdown",
   "metadata": {},
   "source": [
    "## CATEGORY"
   ]
  },
  {
   "cell_type": "code",
   "execution_count": 116,
   "metadata": {},
   "outputs": [
    {
     "name": "stdout",
     "output_type": "stream",
     "text": [
      "webserverURL: \n",
      "http://localhost\n",
      "Sending Message: {\"cellValues\": [[\"CATEGORY\", \"count\"], [\"object\", \"int64\"], [\"WIPES\", 1524], [\"LOTIONS\", 1258]], \"id\": 9, \"name\": \"Pandas DataFrame\", \"title\": \"category_count_df\", \"type\": \"table\", \"resultType\": 3, \"visibility\": \"EXPANDED\", \"time\": \"Oct 02, 2024 03:17:15 AM\"}\n",
      "Error : HTTPConnectionPool(host='localhost', port=80): Max retries exceeded with url: / (Caused by NewConnectionError('<urllib3.connection.HTTPConnection object at 0x13485fa10>: Failed to establish a new connection: [Errno 61] Connection refused'))\n"
     ]
    }
   ],
   "source": [
    "category_count_df = filtered_df['CATEGORY'].value_counts().reset_index()\n",
    "restworkflowcontext.outPandasDataframe(9,\"category_count_df\", category_count_df)\n",
    "# category_count_df"
   ]
  },
  {
   "cell_type": "code",
   "execution_count": 117,
   "metadata": {},
   "outputs": [
    {
     "name": "stdout",
     "output_type": "stream",
     "text": [
      "webserverURL: \n",
      "http://localhost\n",
      "Sending Message: {\"progress\": \"90\", \"id\": 9, \"name\": \"Progress\", \"title\": \"Progress\", \"type\": \"progress\", \"resultType\": 3, \"visibility\": \"EXPANDED\", \"time\": \"Oct 02, 2024 03:17:15 AM\"}\n",
      "Error : HTTPConnectionPool(host='localhost', port=80): Max retries exceeded with url: / (Caused by NewConnectionError('<urllib3.connection.HTTPConnection object at 0x13449f6e0>: Failed to establish a new connection: [Errno 61] Connection refused'))\n"
     ]
    }
   ],
   "source": [
    "progress = \"90\"\n",
    "restworkflowcontext.outputProgress(9, title=\"Progress\", progress=progress)"
   ]
  },
  {
   "cell_type": "markdown",
   "metadata": {},
   "source": [
    "## SUBCATEGORY"
   ]
  },
  {
   "cell_type": "code",
   "execution_count": 118,
   "metadata": {},
   "outputs": [
    {
     "name": "stdout",
     "output_type": "stream",
     "text": [
      "webserverURL: \n",
      "http://localhost\n",
      "Sending Message: {\"cellValues\": [[\"SUBCATEGPRY\", \"count\"], [\"object\", \"int64\"], [\"Huggies\", 1524], [\"Pampers\", 1258]], \"id\": 9, \"name\": \"Pandas DataFrame\", \"title\": \"subcategory_count_df\", \"type\": \"table\", \"resultType\": 3, \"visibility\": \"EXPANDED\", \"time\": \"Oct 02, 2024 03:17:15 AM\"}\n",
      "Error : HTTPConnectionPool(host='localhost', port=80): Max retries exceeded with url: / (Caused by NewConnectionError('<urllib3.connection.HTTPConnection object at 0x13483a630>: Failed to establish a new connection: [Errno 61] Connection refused'))\n"
     ]
    },
    {
     "data": {
      "text/html": [
       "<div>\n",
       "<style scoped>\n",
       "    .dataframe tbody tr th:only-of-type {\n",
       "        vertical-align: middle;\n",
       "    }\n",
       "\n",
       "    .dataframe tbody tr th {\n",
       "        vertical-align: top;\n",
       "    }\n",
       "\n",
       "    .dataframe thead th {\n",
       "        text-align: right;\n",
       "    }\n",
       "</style>\n",
       "<table border=\"1\" class=\"dataframe\">\n",
       "  <thead>\n",
       "    <tr style=\"text-align: right;\">\n",
       "      <th></th>\n",
       "      <th>SUBCATEGPRY</th>\n",
       "      <th>count</th>\n",
       "    </tr>\n",
       "  </thead>\n",
       "  <tbody>\n",
       "    <tr>\n",
       "      <th>0</th>\n",
       "      <td>Huggies</td>\n",
       "      <td>1524</td>\n",
       "    </tr>\n",
       "    <tr>\n",
       "      <th>1</th>\n",
       "      <td>Pampers</td>\n",
       "      <td>1258</td>\n",
       "    </tr>\n",
       "  </tbody>\n",
       "</table>\n",
       "</div>"
      ],
      "text/plain": [
       "  SUBCATEGPRY  count\n",
       "0     Huggies   1524\n",
       "1     Pampers   1258"
      ]
     },
     "execution_count": 118,
     "metadata": {},
     "output_type": "execute_result"
    }
   ],
   "source": [
    "subcategory_count_df = filtered_df['SUBCATEGPRY'].value_counts().reset_index()\n",
    "restworkflowcontext.outPandasDataframe(9,\"subcategory_count_df\", subcategory_count_df)\n",
    "subcategory_count_df"
   ]
  },
  {
   "cell_type": "code",
   "execution_count": 119,
   "metadata": {},
   "outputs": [],
   "source": [
    "def get_counts(filtered_df, col):\n",
    "    count_df = filtered_df[col].value_counts().reset_index()\n",
    "    restworkflowcontext.outPandasDataframe(9,\"category_count_df\", count_df)\n",
    "    count_df"
   ]
  },
  {
   "cell_type": "code",
   "execution_count": 120,
   "metadata": {},
   "outputs": [
    {
     "name": "stdout",
     "output_type": "stream",
     "text": [
      "webserverURL: \n",
      "http://localhost\n",
      "Sending Message: {\"cellValues\": [[\"DISTRIBUTOR_ID\", \"count\"], [\"object\", \"int64\"], [\"DT3501\", 2782]], \"id\": 9, \"name\": \"Pandas DataFrame\", \"title\": \"category_count_df\", \"type\": \"table\", \"resultType\": 3, \"visibility\": \"EXPANDED\", \"time\": \"Oct 02, 2024 03:17:15 AM\"}\n",
      "Error : HTTPConnectionPool(host='localhost', port=80): Max retries exceeded with url: / (Caused by NewConnectionError('<urllib3.connection.HTTPConnection object at 0x13449f0b0>: Failed to establish a new connection: [Errno 61] Connection refused'))\n"
     ]
    }
   ],
   "source": [
    "get_counts(filtered_df, ['DISTRIBUTOR_ID'])"
   ]
  },
  {
   "cell_type": "code",
   "execution_count": 121,
   "metadata": {},
   "outputs": [
    {
     "name": "stdout",
     "output_type": "stream",
     "text": [
      "webserverURL: \n",
      "http://localhost\n",
      "Sending Message: {\"progress\": \"95\", \"id\": 9, \"name\": \"Progress\", \"title\": \"Progress\", \"type\": \"progress\", \"resultType\": 3, \"visibility\": \"EXPANDED\", \"time\": \"Oct 02, 2024 03:17:15 AM\"}\n",
      "Error : HTTPConnectionPool(host='localhost', port=80): Max retries exceeded with url: / (Caused by NewConnectionError('<urllib3.connection.HTTPConnection object at 0x134640e90>: Failed to establish a new connection: [Errno 61] Connection refused'))\n"
     ]
    }
   ],
   "source": [
    "progress = \"95\"\n",
    "restworkflowcontext.outputProgress(9, title=\"Progress\", progress=progress)"
   ]
  },
  {
   "cell_type": "code",
   "execution_count": 122,
   "metadata": {},
   "outputs": [
    {
     "name": "stdout",
     "output_type": "stream",
     "text": [
      "webserverURL: \n",
      "http://localhost\n",
      "Sending Message: {\"cellValues\": [[\"SKUID\", \"count\"], [\"object\", \"int64\"], [\"GZ0G57\", 1524], [\"M4N5O6\", 1258]], \"id\": 9, \"name\": \"Pandas DataFrame\", \"title\": \"category_count_df\", \"type\": \"table\", \"resultType\": 3, \"visibility\": \"EXPANDED\", \"time\": \"Oct 02, 2024 03:17:15 AM\"}\n",
      "Error : HTTPConnectionPool(host='localhost', port=80): Max retries exceeded with url: / (Caused by NewConnectionError('<urllib3.connection.HTTPConnection object at 0x13449dca0>: Failed to establish a new connection: [Errno 61] Connection refused'))\n"
     ]
    }
   ],
   "source": [
    "get_counts(filtered_df, ['SKUID'])"
   ]
  },
  {
   "cell_type": "code",
   "execution_count": 123,
   "metadata": {},
   "outputs": [
    {
     "name": "stdout",
     "output_type": "stream",
     "text": [
      "webserverURL: \n",
      "http://localhost\n",
      "Sending Message: {\"cellValues\": [[\"DIST_NAME\", \"count\"], [\"object\", \"int64\"], [\"Global Enterprises\", 2782]], \"id\": 9, \"name\": \"Pandas DataFrame\", \"title\": \"category_count_df\", \"type\": \"table\", \"resultType\": 3, \"visibility\": \"EXPANDED\", \"time\": \"Oct 02, 2024 03:17:15 AM\"}\n",
      "Error : HTTPConnectionPool(host='localhost', port=80): Max retries exceeded with url: / (Caused by NewConnectionError('<urllib3.connection.HTTPConnection object at 0x1344ef950>: Failed to establish a new connection: [Errno 61] Connection refused'))\n"
     ]
    }
   ],
   "source": [
    "get_counts(filtered_df, ['DIST_NAME'])"
   ]
  },
  {
   "cell_type": "code",
   "execution_count": 124,
   "metadata": {},
   "outputs": [
    {
     "name": "stdout",
     "output_type": "stream",
     "text": [
      "webserverURL: \n",
      "http://localhost\n",
      "Sending Message: {\"cellValues\": [[\"COUNTRY_ID\", \"count\"], [\"object\", \"int64\"], [\"US\", 1392]], \"id\": 9, \"name\": \"Pandas DataFrame\", \"title\": \"category_count_df\", \"type\": \"table\", \"resultType\": 3, \"visibility\": \"EXPANDED\", \"time\": \"Oct 02, 2024 03:17:15 AM\"}\n",
      "Error : HTTPConnectionPool(host='localhost', port=80): Max retries exceeded with url: / (Caused by NewConnectionError('<urllib3.connection.HTTPConnection object at 0x13449e3f0>: Failed to establish a new connection: [Errno 61] Connection refused'))\n"
     ]
    }
   ],
   "source": [
    "get_counts(filtered_df, ['COUNTRY_ID'])"
   ]
  },
  {
   "cell_type": "markdown",
   "metadata": {},
   "source": [
    "## Skewness and Kurtosis"
   ]
  },
  {
   "cell_type": "code",
   "execution_count": 125,
   "metadata": {},
   "outputs": [
    {
     "name": "stdout",
     "output_type": "stream",
     "text": [
      "webserverURL: \n",
      "http://localhost\n",
      "Sending Message: {\"cellValues\": [[\"Skewness\", \"Kurtosis\"], [\"float64\", \"float64\"], [1.100856865635047, 2.053341329671536], [1.0552902121271797, 0.5348984940443264], [0.7366706032042404, -0.4766266132314976], [1.05529021212718, 0.5348984940443278]], \"id\": 9, \"name\": \"Pandas DataFrame\", \"title\": \"stats_df\", \"type\": \"table\", \"resultType\": 3, \"visibility\": \"EXPANDED\", \"time\": \"Oct 02, 2024 03:17:15 AM\"}\n",
      "Error : HTTPConnectionPool(host='localhost', port=80): Max retries exceeded with url: / (Caused by NewConnectionError('<urllib3.connection.HTTPConnection object at 0x1344ec440>: Failed to establish a new connection: [Errno 61] Connection refused'))\n"
     ]
    }
   ],
   "source": [
    "columns_to_check = ['QTY', 'GROSS', 'UNITPRICE', 'NET']\n",
    "\n",
    "skewness_values = filtered_df[columns_to_check].skew()\n",
    "kurtosis_values = filtered_df[columns_to_check].kurt()\n",
    "\n",
    "stats_df = pd.DataFrame({\n",
    "    'Skewness': skewness_values,\n",
    "    'Kurtosis': kurtosis_values\n",
    "})\n",
    "\n",
    "restworkflowcontext.outPandasDataframe(9,\"stats_df\", stats_df)\n",
    "\n",
    "# stats_df"
   ]
  },
  {
   "cell_type": "code",
   "execution_count": 126,
   "metadata": {},
   "outputs": [
    {
     "name": "stdout",
     "output_type": "stream",
     "text": [
      "webserverURL: \n",
      "http://localhost\n",
      "Sending Message: {\"progress\": \"100\", \"id\": 9, \"name\": \"Progress\", \"title\": \"Progress\", \"type\": \"progress\", \"resultType\": 3, \"visibility\": \"EXPANDED\", \"time\": \"Oct 02, 2024 03:17:15 AM\"}\n",
      "Error : HTTPConnectionPool(host='localhost', port=80): Max retries exceeded with url: / (Caused by NewConnectionError('<urllib3.connection.HTTPConnection object at 0x13449dac0>: Failed to establish a new connection: [Errno 61] Connection refused'))\n"
     ]
    }
   ],
   "source": [
    "progress = \"100\"\n",
    "restworkflowcontext.outputProgress(9, title=\"Progress\", progress=progress)"
   ]
  },
  {
   "cell_type": "code",
   "execution_count": 127,
   "metadata": {},
   "outputs": [
    {
     "name": "stdout",
     "output_type": "stream",
     "text": [
      "webserverURL: \n",
      "http://localhost\n",
      "Sending Message: {\"text\": \"Sending the success message.\", \"id\": 9, \"name\": \"Success\", \"title\": \"Success\", \"type\": \"success\", \"resultType\": 3, \"visibility\": \"EXPANDED\", \"time\": \"Oct 02, 2024 03:17:16 AM\"}\n",
      "Error : HTTPConnectionPool(host='localhost', port=80): Max retries exceeded with url: / (Caused by NewConnectionError('<urllib3.connection.HTTPConnection object at 0x1344ec050>: Failed to establish a new connection: [Errno 61] Connection refused'))\n"
     ]
    }
   ],
   "source": [
    "message = \"Sending the success message.\"\n",
    "restworkflowcontext.outSuccess(9, title=\"Success\", text=message)"
   ]
  }
 ],
 "metadata": {
  "colab": {
   "provenance": []
  },
  "kernelspec": {
   "display_name": "Python 3 (ipykernel)",
   "language": "python",
   "name": "python3"
  },
  "language_info": {
   "codemirror_mode": {
    "name": "ipython",
    "version": 3
   },
   "file_extension": ".py",
   "mimetype": "text/x-python",
   "name": "python",
   "nbconvert_exporter": "python",
   "pygments_lexer": "ipython3",
   "version": "3.12.4"
  }
 },
 "nbformat": 4,
 "nbformat_minor": 4
}
