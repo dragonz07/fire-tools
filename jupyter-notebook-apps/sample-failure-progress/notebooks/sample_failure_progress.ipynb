{
 "cells": [
  {
   "cell_type": "code",
   "execution_count": null,
   "metadata": {},
   "outputs": [],
   "source": [
    "from fire_notebook.output.workflowcontext import RestWorkflowContext\n",
    "import sys\n",
    "parameters_list = sys.argv\n",
    "\n",
    "if len(sys.argv) > 1:\n",
    "    restworkflowcontext = RestWorkflowContext(parameters=parameters_list)\n",
    "else:\n",
    "    restworkflowcontext = RestWorkflowContext(debug=False)\n",
    "\n",
    "message = \"Successfully Received the Message from Notebook!\"\n",
    "restworkflowcontext.outStr(9, title=\"Message\", text=message)"
   ]
  },
  {
   "cell_type": "code",
   "execution_count": null,
   "metadata": {},
   "outputs": [],
   "source": [
    "progress_percentage = \"10\"\n",
    "restworkflowcontext.outputProgress(id=9, title=\"Progress\", progress=progress_percentage)"
   ]
  },
  {
   "cell_type": "code",
   "execution_count": null,
   "metadata": {},
   "outputs": [],
   "source": [
    "import time\n",
    "\n",
    "# Sleep for 2 minutes (120 seconds)\n",
    "time.sleep(120)\n",
    "\n",
    "progress_percentage = \"50\"\n",
    "restworkflowcontext.outputProgress(id=9, title=\"Progress\", progress=progress_percentage)"
   ]
  },
  {
   "cell_type": "code",
   "execution_count": null,
   "metadata": {},
   "outputs": [],
   "source": [
    "import time\n",
    "\n",
    "# Sleep for 2 minutes (120 seconds)\n",
    "time.sleep(120)\n",
    "progress_percentage = \"80\"\n",
    "restworkflowcontext.outputProgress(id=9, title=\"Progress\", progress=progress_percentage)"
   ]
  },
  {
   "cell_type": "code",
   "execution_count": null,
   "metadata": {},
   "outputs": [],
   "source": [
    "\n",
    "message = \"Sending the failure message.\"\n",
    "restworkflowcontext.outFailure(id=9, title=\"Failure\", text=message)"
   ]
  }
 ],
 "metadata": {
  "language_info": {
   "name": "python"
  },
  "orig_nbformat": 4
 },
 "nbformat": 4,
 "nbformat_minor": 2
}
